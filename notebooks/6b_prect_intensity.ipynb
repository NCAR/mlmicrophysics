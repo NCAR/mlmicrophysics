{
 "cells": [
  {
   "cell_type": "markdown",
   "metadata": {},
   "source": [
    "Not all cells may work. May require generating files and cases through a microphysics run first"
   ]
  },
  {
   "cell_type": "code",
   "execution_count": 37,
   "metadata": {},
   "outputs": [
    {
     "name": "stderr",
     "output_type": "stream",
     "text": [
      "/glade/derecho/scratch/wchuang/tmp/ipykernel_2481/1193198533.py:14: DeprecationWarning: `set_matplotlib_formats` is deprecated since IPython 7.23, directly use `matplotlib_inline.backend_inline.set_matplotlib_formats()`\n",
      "  set_matplotlib_formats('png', 'pdf')\n"
     ]
    }
   ],
   "source": [
    "# Packages\n",
    "import numpy as np\n",
    "import scipy.io.netcdf as S\n",
    "import matplotlib.pyplot as plt\n",
    "from netCDF4 import Dataset\n",
    "from scipy import interpolate\n",
    "import mpl_toolkits.basemap as bm\n",
    "import xarray as xr\n",
    "import esmlab\n",
    "import seaborn as sns\n",
    "\n",
    "plt.rcParams['figure.figsize'] = [10, 10]\n",
    "from IPython.display import set_matplotlib_formats\n",
    "set_matplotlib_formats('png', 'pdf')"
   ]
  },
  {
   "cell_type": "code",
   "execution_count": 38,
   "metadata": {},
   "outputs": [],
   "source": [
    "# Some Parameters\n",
    "seastx='DJF'\n",
    "iseas=[11,0,1]  #DJF\n",
    "\n",
    "# Select region\n",
    "ylat=(-60,-35)\n",
    "xlon=(130,165)"
   ]
  },
  {
   "cell_type": "code",
   "execution_count": 39,
   "metadata": {},
   "outputs": [],
   "source": [
    "# Model data\n",
    "\n",
    "pth='/glade/derecho/scratch/wchuang/'\n",
    "\n",
    "cases=[\n",
    "       'run13_kk2000_120month',\n",
    "       # 'run13_tau_120month',\n",
    "       # 'run13_1nn_optimized_120month',\n",
    "       # 'run12_3nn_add_CLD_lev_FREQR_12month_proper_rerun',\n",
    "      ]\n",
    "\n",
    "cstxt=[\n",
    "       'KK2000 bulk',\n",
    "       # 'TAU-bin',\n",
    "       # 'TAU-ML',\n",
    "       # 'TAU 3nn',\n",
    "      ]\n",
    "\n",
    "tmp = [pth + s for s in cases]\n",
    "# fspec = [s + '/atm/hist/' for s in tmp]\n",
    "fspec = [s + '/run/' for s in tmp] # temporary until archive is set up\n",
    "\n",
    "nr=len(cases)"
   ]
  },
  {
   "cell_type": "code",
   "execution_count": 40,
   "metadata": {},
   "outputs": [
    {
     "data": {
      "text/plain": [
       "'/glade/derecho/scratch/wchuang/run13_kk2000_120month/run/'"
      ]
     },
     "execution_count": 40,
     "metadata": {},
     "output_type": "execute_result"
    }
   ],
   "source": [
    "fspec[0]\n",
    "#d1= xr.open_dataset('/glade/scratch/andrew/archive/cam600_base_AE2/atm/hist/cc_cam600_base_AE2.h0.FICE.nc')"
   ]
  },
  {
   "cell_type": "code",
   "execution_count": 41,
   "metadata": {},
   "outputs": [],
   "source": [
    "#Select variable\n",
    "varn='PRECT'\n",
    "lgscale=True\n",
    "ctxt='Large Scale'\n",
    "fnprefix='PRECL'\n",
    "scl=86400.*1000.  # m/s --> mm/d\n",
    "vunits='mm/d'\n",
    "minpr=0.1\n",
    "# fsuff='.h1.'+varn+'.nc'\n",
    "# fsuff2='.h1.PRECC.nc'"
   ]
  },
  {
   "cell_type": "markdown",
   "metadata": {},
   "source": [
    "Read Data and Set up big arrays"
   ]
  },
  {
   "cell_type": "code",
   "execution_count": null,
   "metadata": {},
   "outputs": [],
   "source": [
    "for r in range(nr):\n",
    "\n",
    "    #Read Model Data for needed fields....(extract variable first)\n",
    "\n",
    "    fn=fspec[r]+'*.cam.h1.*'\n",
    "    d1= xr.open_mfdataset(fn)\n",
    "\n",
    "    fi=d1[varn]*scl\n",
    "    \n",
    "#Subtract convective to get large scale if desired.     \n",
    "    if lgscale:\n",
    "        fn2=fspec[r]+'*.cam.h1.*'\n",
    "        d2= xr.open_mfdataset(fn2)\n",
    "        fi=d1[varn]*scl - d2['PRECC']*scl\n",
    "\n",
    "    fi.attrs['units']=vunits\n",
    "  \n",
    "    if r==0:\n",
    "        coordinates={'runs':cstxt,'time':fi.time,'lon':fi.lon,'lat':fi.lat}\n",
    "        ny=len(fi.lat)\n",
    "        nx=len(fi.lon)\n",
    "        nt=len(fi.time)\n",
    "        fiall = xr.DataArray(np.zeros((nr,nt,ny,nx)),dims=('runs','time','lat','lon'),coords=coordinates)\n",
    "    fiall[r,:,:,:]=fi[:,:,:]"
   ]
  },
  {
   "cell_type": "code",
   "execution_count": null,
   "metadata": {},
   "outputs": [],
   "source": [
    "#make some regions (lat and lon)\n",
    "#   rgx=[[120,160.],[0,360.],[0,360],[300,360],[260,295],[0,360]]\n",
    "#   rgy=[[-20,20],[65,80],[-65,-50],[40,60],[-30,-10],[-90,90]]\n",
    "\n",
    "rgn=['TWP','Arctic','S.Ocean','N.Atl','S.E.Pac','Global']\n",
    "ng=len(rgn)\n",
    "bnd=['min','max']\n",
    "cc={'region':rgn,'bounds':bnd}\n",
    "rgnx = xr.DataArray(np.zeros((ng,2)),dims=('region','bounds'),coords=cc)\n",
    "rgny = xr.DataArray(np.zeros((ng,2)),dims=('region','bounds'),coords=cc)\n",
    "rgnx[0,:]=[120.,160.]\n",
    "rgnx[1,:]=[0,360.]\n",
    "rgnx[2,:]=[0,360]\n",
    "rgnx[3,:]=[300,360]\n",
    "rgnx[4,:]=[260,295]\n",
    "rgnx[5,:]=[0,360]\n",
    "rgny[0,:]=[-20,20]\n",
    "rgny[1,:]=[65,80]\n",
    "rgny[2,:]=[-65,-50]\n",
    "rgny[3,:]=[40,60]\n",
    "rgny[4,:]=[-30,-10]\n",
    "rgny[5,:]=[-90,90]"
   ]
  },
  {
   "cell_type": "code",
   "execution_count": null,
   "metadata": {},
   "outputs": [],
   "source": [
    "#exclude zero rain rates with a where function...\n",
    "\n",
    "binedg=[0.1,1.,2.,5.,10,20,50,100,150,200,300,400,500,600.]\n",
    "nb=len(binedg)-1\n",
    "binctr = np.zeros(nb)\n",
    "for i in range(nb):\n",
    "    binctr[i]=binedg[i]+(binedg[i+1]-binedg[i])/2.\n",
    "    \n",
    "binctr"
   ]
  },
  {
   "cell_type": "code",
   "execution_count": null,
   "metadata": {},
   "outputs": [],
   "source": [
    "#calculate a histogram,pdf\n",
    "\n",
    "histall=np.zeros((nr,nb))\n",
    "\n",
    "for r in range(nr):\n",
    "    prhist=fiall[r,:,:,:].where(fiall > minpr)\n",
    "    hist, bin_edges = np.histogram(prhist,bins=binedg,density=True)\n",
    "    norm=hist/hist.sum()\n",
    "    histall[r,:]=norm"
   ]
  },
  {
   "cell_type": "code",
   "execution_count": null,
   "metadata": {},
   "outputs": [],
   "source": [
    "#Figure out time range here....\n",
    "fiall.time\n",
    "# 3 hourly data, so total is 720 days\n",
    "# 365*2*8/(8*30), or 8*30 in a month....\n",
    "mot=8*30+3\n",
    "m=23\n",
    "tr=[mot*m,mot*(m+1)]\n",
    "tmp=fiall[0,:,:,:].isel(time=slice(tr[0],tr[1]))\n",
    "#tmp"
   ]
  },
  {
   "cell_type": "code",
   "execution_count": null,
   "metadata": {},
   "outputs": [],
   "source": [
    "# calculate a histogram each month for control case...\n",
    "\n",
    "mot=8*30+3\n",
    "nmo=12  #hardcode months (not great)\n",
    "r=2 #hard code run (not great)\n",
    "\n",
    "histmon=np.zeros((nmo,nb))\n",
    "\n",
    "for m in range(nmo):\n",
    "    tr=[mot*m,mot*(m+1)]\n",
    "    tmp=fiall[0,:,:,:].isel(time=slice(tr[0],tr[1]))\n",
    "    # tmp=fiall[2,:,:,:].isel(time=slice(tr[0],tr[1]))\n",
    "    prhist=tmp.where(tmp > minpr)\n",
    "    hist, bin_edges = np.histogram(prhist,bins=binedg,density=True)\n",
    "    norm=hist/hist.sum()\n",
    "    histmon[m,:]=norm"
   ]
  },
  {
   "cell_type": "code",
   "execution_count": null,
   "metadata": {},
   "outputs": [],
   "source": [
    "#now loop over bins and take standard deviation....\n",
    "\n",
    "histstd=np.zeros(nb)\n",
    "for b in range(nb):\n",
    "    histstd[b]=np.std(histmon[:,b])"
   ]
  },
  {
   "cell_type": "code",
   "execution_count": null,
   "metadata": {},
   "outputs": [],
   "source": [
    "savfig=False\n",
    "\n",
    "#Plot...\n",
    "\n",
    "sns.set_context(\"talk\")\n",
    "\n",
    "ttl=ctxt+' Precipitiation Intensity'\n",
    "xtl='Precip [mm/day]'\n",
    "ytl='Frequency'\n",
    "\n",
    "for r in range(nr):\n",
    "    plt.plot(binctr,histall[r,:],label=cstxt[r])\n",
    "#plt.fill_between(binctr,histall[2,:]-histstd,histall[2,:]+histstd,alpha=0.3)\n",
    "plt.yscale('log')\n",
    "plt.legend()\n",
    "plt.title(ttl)\n",
    "plt.xlabel(xtl)\n",
    "plt.ylabel(ytl)\n",
    "\n",
    "if savfig:\n",
    "    plt.savefig('./figs/' + fnprefix + 'run13_intensity1_nncompare.pdf')"
   ]
  }
 ],
 "metadata": {
  "kernelspec": {
   "display_name": "Python [conda env:mlmicro]",
   "language": "python",
   "name": "conda-env-mlmicro-py"
  },
  "language_info": {
   "codemirror_mode": {
    "name": "ipython",
    "version": 3
   },
   "file_extension": ".py",
   "mimetype": "text/x-python",
   "name": "python",
   "nbconvert_exporter": "python",
   "pygments_lexer": "ipython3",
   "version": "3.9.16"
  }
 },
 "nbformat": 4,
 "nbformat_minor": 4
}
