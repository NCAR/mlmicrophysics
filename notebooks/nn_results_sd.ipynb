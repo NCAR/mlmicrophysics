{
 "cells": [
  {
   "cell_type": "code",
   "execution_count": 1,
   "metadata": {},
   "outputs": [],
   "source": [
    "import os\n",
    "import numpy as np\n",
    "import pandas as pd\n",
    "import matplotlib.pyplot as plt\n",
    "from sklearn.metrics import mean_absolute_error, confusion_matrix\n",
    "\n",
    "from mlmicrophysics.metrics import hellinger_distance, r2_corr, root_mean_squared_error\n"
   ]
  },
  {
   "cell_type": "code",
   "execution_count": 2,
   "metadata": {},
   "outputs": [
    {
     "name": "stdout",
     "output_type": "stream",
     "text": [
      "dnn_classifier_scores.csv  dnn_qr_class_fortran.nc\r\n",
      "dnn_nc_class.h5            dnn_qr_pos.h5\r\n",
      "dnn_nc_class_fortran.nc    dnn_qr_pos_fortran.nc\r\n",
      "dnn_nc_pos.h5              dnn_regressor_scores.csv\r\n",
      "dnn_nc_pos_fortran.nc      input_scale_values.csv\r\n",
      "dnn_nr_class.h5            meta_test.csv\r\n",
      "dnn_nr_class_fortran.nc    output_scale_values.csv\r\n",
      "dnn_nr_neg.h5              test_cam_labels.csv\r\n",
      "dnn_nr_neg_fortran.nc      test_cam_values.csv\r\n",
      "dnn_nr_pos.h5              test_prediction_labels.csv\r\n",
      "dnn_nr_pos_fortran.nc      test_prediction_values.csv\r\n",
      "dnn_qr_class.h5\r\n"
     ]
    }
   ],
   "source": [
    "!ls ../models/cam_sd_model_base_full_moredata/"
   ]
  },
  {
   "cell_type": "code",
   "execution_count": 3,
   "metadata": {},
   "outputs": [],
   "source": [
    "# dir_tau = \"/glade/pcisl/aiml/ggantos/cam_run5_model_base_full/\"\n",
    "dir_sd = \"../models/cam_sd_model_base_full_moredata/\""
   ]
  },
  {
   "cell_type": "code",
   "execution_count": 4,
   "metadata": {},
   "outputs": [],
   "source": [
    "# classifier_scores_tau = pd.read_csv(join(dir_tau, \"dnn_classifier_scores.csv\"))\n",
    "# regressor_scores_tau = pd.read_csv(join(dir_tau, \"dnn_regressor_scores.csv\"))\n",
    "classifier_scores_sd = pd.read_csv(os.path.join(dir_sd, \"dnn_classifier_scores.csv\"))\n",
    "regressor_scores_sd = pd.read_csv(os.path.join(dir_sd, \"dnn_regressor_scores.csv\"))\n"
   ]
  },
  {
   "cell_type": "code",
   "execution_count": 5,
   "metadata": {},
   "outputs": [
    {
     "data": {
      "text/html": [
       "<div>\n",
       "<style scoped>\n",
       "    .dataframe tbody tr th:only-of-type {\n",
       "        vertical-align: middle;\n",
       "    }\n",
       "\n",
       "    .dataframe tbody tr th {\n",
       "        vertical-align: top;\n",
       "    }\n",
       "\n",
       "    .dataframe thead th {\n",
       "        text-align: right;\n",
       "    }\n",
       "</style>\n",
       "<table border=\"1\" class=\"dataframe\">\n",
       "  <thead>\n",
       "    <tr style=\"text-align: right;\">\n",
       "      <th></th>\n",
       "      <th>Output</th>\n",
       "      <th>accuracy</th>\n",
       "      <th>heidke</th>\n",
       "      <th>peirce</th>\n",
       "    </tr>\n",
       "  </thead>\n",
       "  <tbody>\n",
       "    <tr>\n",
       "      <th>0</th>\n",
       "      <td>qrtend_sd</td>\n",
       "      <td>0.988212</td>\n",
       "      <td>0.955801</td>\n",
       "      <td>0.955639</td>\n",
       "    </tr>\n",
       "    <tr>\n",
       "      <th>1</th>\n",
       "      <td>nctend_sd</td>\n",
       "      <td>0.973544</td>\n",
       "      <td>0.946328</td>\n",
       "      <td>0.947011</td>\n",
       "    </tr>\n",
       "    <tr>\n",
       "      <th>2</th>\n",
       "      <td>nrtend_sd</td>\n",
       "      <td>0.981866</td>\n",
       "      <td>0.966483</td>\n",
       "      <td>0.966622</td>\n",
       "    </tr>\n",
       "  </tbody>\n",
       "</table>\n",
       "</div>"
      ],
      "text/plain": [
       "      Output  accuracy    heidke    peirce\n",
       "0  qrtend_sd  0.988212  0.955801  0.955639\n",
       "1  nctend_sd  0.973544  0.946328  0.947011\n",
       "2  nrtend_sd  0.981866  0.966483  0.966622"
      ]
     },
     "execution_count": 5,
     "metadata": {},
     "output_type": "execute_result"
    }
   ],
   "source": [
    "classifier_scores_sd"
   ]
  },
  {
   "cell_type": "code",
   "execution_count": 6,
   "metadata": {},
   "outputs": [
    {
     "data": {
      "text/html": [
       "<div>\n",
       "<style scoped>\n",
       "    .dataframe tbody tr th:only-of-type {\n",
       "        vertical-align: middle;\n",
       "    }\n",
       "\n",
       "    .dataframe tbody tr th {\n",
       "        vertical-align: top;\n",
       "    }\n",
       "\n",
       "    .dataframe thead th {\n",
       "        text-align: right;\n",
       "    }\n",
       "</style>\n",
       "<table border=\"1\" class=\"dataframe\">\n",
       "  <thead>\n",
       "    <tr style=\"text-align: right;\">\n",
       "      <th></th>\n",
       "      <th>Output</th>\n",
       "      <th>rmse</th>\n",
       "      <th>mae</th>\n",
       "      <th>r2</th>\n",
       "      <th>hellinger</th>\n",
       "    </tr>\n",
       "  </thead>\n",
       "  <tbody>\n",
       "    <tr>\n",
       "      <th>0</th>\n",
       "      <td>qrtend_sd_1</td>\n",
       "      <td>0.362725</td>\n",
       "      <td>0.205582</td>\n",
       "      <td>0.958848</td>\n",
       "      <td>0.000892</td>\n",
       "    </tr>\n",
       "    <tr>\n",
       "      <th>1</th>\n",
       "      <td>nctend_sd_1</td>\n",
       "      <td>0.158392</td>\n",
       "      <td>0.098289</td>\n",
       "      <td>0.993627</td>\n",
       "      <td>0.000515</td>\n",
       "    </tr>\n",
       "    <tr>\n",
       "      <th>2</th>\n",
       "      <td>nrtend_sd_-1</td>\n",
       "      <td>0.140099</td>\n",
       "      <td>0.071599</td>\n",
       "      <td>0.992577</td>\n",
       "      <td>0.002009</td>\n",
       "    </tr>\n",
       "    <tr>\n",
       "      <th>3</th>\n",
       "      <td>nrtend_sd_1</td>\n",
       "      <td>0.273238</td>\n",
       "      <td>0.149724</td>\n",
       "      <td>0.955609</td>\n",
       "      <td>0.001120</td>\n",
       "    </tr>\n",
       "  </tbody>\n",
       "</table>\n",
       "</div>"
      ],
      "text/plain": [
       "         Output      rmse       mae        r2  hellinger\n",
       "0   qrtend_sd_1  0.362725  0.205582  0.958848   0.000892\n",
       "1   nctend_sd_1  0.158392  0.098289  0.993627   0.000515\n",
       "2  nrtend_sd_-1  0.140099  0.071599  0.992577   0.002009\n",
       "3   nrtend_sd_1  0.273238  0.149724  0.955609   0.001120"
      ]
     },
     "execution_count": 6,
     "metadata": {},
     "output_type": "execute_result"
    }
   ],
   "source": [
    "regressor_scores_sd"
   ]
  },
  {
   "cell_type": "code",
   "execution_count": 7,
   "metadata": {},
   "outputs": [
    {
     "name": "stderr",
     "output_type": "stream",
     "text": [
      "/Users/ggantos/miniconda3/envs/ncar/lib/python3.7/site-packages/numpy/lib/arraysetops.py:569: FutureWarning: elementwise comparison failed; returning scalar instead, but in the future will perform elementwise comparison\n",
      "  mask |= (ar1 == a)\n"
     ]
    }
   ],
   "source": [
    "test_pred_labels = pd.read_csv(os.path.join(dir_sd, \"test_prediction_labels.csv\"), index_col=\"index\") \n",
    "test_pred_values = pd.read_csv(os.path.join(dir_sd, \"test_prediction_values.csv\"), index_col=\"index\") \n",
    "test_cam_labels = pd.read_csv(os.path.join(dir_sd, \"test_cam_labels.csv\"), index_col=\"index\")\n",
    "test_cam_values = pd.read_csv(os.path.join(dir_sd, \"test_cam_values.csv\"), index_col=\"index\") \n"
   ]
  },
  {
   "cell_type": "code",
   "execution_count": 8,
   "metadata": {},
   "outputs": [],
   "source": [
    "meta_test = pd.read_csv(os.path.join(dir_sd, \"meta_test.csv\"), index_col=\"index\")\n"
   ]
  },
  {
   "cell_type": "code",
   "execution_count": 9,
   "metadata": {},
   "outputs": [],
   "source": [
    "mg2_test = meta_test.loc[:, [\"qrtend_MG2\", \"nctend_MG2\", \"nrtend_MG2\"]]\n",
    "mg2_test.loc[mg2_test[\"qrtend_MG2\"] > 0, \"qrtend_MG2\"] = np.log10(mg2_test.loc[mg2_test[\"qrtend_MG2\"] > 0, \"qrtend_MG2\"])\n",
    "mg2_test.loc[mg2_test[\"nctend_MG2\"] < 0, \"nctend_MG2\"] = np.log10(-mg2_test.loc[mg2_test[\"nctend_MG2\"] < 0, \"nctend_MG2\"])\n",
    "mg2_test.loc[mg2_test[\"nrtend_MG2\"] < 0, \"nrtend_MG2\"] = np.log10(-mg2_test.loc[mg2_test[\"nrtend_MG2\"] < 0, \"nrtend_MG2\"])\n",
    "mg2_test.loc[mg2_test[\"nrtend_MG2\"] > 0, \"nrtend_MG2\"] = np.log10(mg2_test.loc[mg2_test[\"nrtend_MG2\"] > 0, \"nrtend_MG2\"])"
   ]
  },
  {
   "cell_type": "code",
   "execution_count": 10,
   "metadata": {},
   "outputs": [
    {
     "name": "stdout",
     "output_type": "stream",
     "text": [
      "                  rmse       mae        r2  hellinger\n",
      "Output                                               \n",
      "qrtend_sd_1   0.362725  0.205582  0.958848   0.000892\n",
      "nctend_sd_1   0.158392  0.098289  0.993627   0.000515\n",
      "nrtend_sd_-1  0.140099  0.071599  0.992577   0.002009\n",
      "nrtend_sd_1   0.273238  0.149724  0.955609   0.001120\n"
     ]
    }
   ],
   "source": [
    "reg_scores = pd.read_csv(os.path.join(dir_sd, \"dnn_regressor_scores.csv\"), index_col=\"Output\")\n",
    "print(reg_scores)\n"
   ]
  },
  {
   "cell_type": "code",
   "execution_count": 11,
   "metadata": {},
   "outputs": [
    {
     "data": {
      "text/plain": [
       "Index(['qrtend_sd_1', 'nctend_sd_1', 'nrtend_sd_-1', 'nrtend_sd_1'], dtype='object')"
      ]
     },
     "execution_count": 11,
     "metadata": {},
     "output_type": "execute_result"
    }
   ],
   "source": [
    "test_pred_values.columns\n"
   ]
  },
  {
   "cell_type": "code",
   "execution_count": 12,
   "metadata": {},
   "outputs": [],
   "source": [
    "scores = {\"rmse\": root_mean_squared_error, \"mae\": mean_absolute_error, \n",
    "          \"r2\": r2_corr, \"hellinger\": hellinger_distance}\n",
    "mg2_scores = pd.DataFrame(0, columns=reg_scores.columns, index=reg_scores.index)\n",
    "for score in reg_scores.columns:\n",
    "    mg2_scores.loc[\"qrtend_sd_1\", \n",
    "                   score] = scores[score](test_cam_values.loc[test_cam_labels[\"qrtend_sd\"] == 1, \"qrtend_sd\"],\n",
    "                                                      mg2_test.loc[test_cam_labels[\"qrtend_sd\"] == 1, \"qrtend_MG2\"])\n",
    "    mg2_scores.loc[\"nctend_sd_1\", \n",
    "                   score] = scores[score](test_cam_values.loc[test_cam_labels[\"nctend_sd\"] == 1, \"nctend_sd\"],\n",
    "                                                      mg2_test.loc[test_cam_labels[\"nctend_sd\"] == 1, \"nctend_MG2\"])\n",
    "    mg2_scores.loc[\"nrtend_sd_-1\", \n",
    "                   score] = scores[score](test_cam_values.loc[test_cam_labels[\"nrtend_sd\"] == -1, \"nrtend_sd\"],\n",
    "                                                      mg2_test.loc[test_cam_labels[\"nrtend_sd\"] == -1, \"nrtend_MG2\"])\n",
    "    mg2_scores.loc[\"nrtend_sd_1\", \n",
    "                   score] = scores[score](test_cam_values.loc[test_cam_labels[\"nrtend_sd\"] == 1, \"nrtend_sd\"],\n",
    "                                                      mg2_test.loc[test_cam_labels[\"nrtend_sd\"] == 1, \"nrtend_MG2\"])"
   ]
  },
  {
   "cell_type": "code",
   "execution_count": 13,
   "metadata": {},
   "outputs": [
    {
     "data": {
      "image/png": "[encoded data removed]",
      "text/plain": [
       "<Figure size 1008x576 with 12 Axes>"
      ]
     },
     "metadata": {
      "needs_background": "light"
     },
     "output_type": "display_data"
    }
   ],
   "source": [
    "fig, axes = plt.subplots(3, 4, figsize=(14, 8), sharey=True)\n",
    "bins = dict(qr=np.arange(-18, -4.5, 0.5),\n",
    "            nc=np.arange(-8, 7, 0.5),\n",
    "            nr_neg=np.arange(-15, 7, 0.5),\n",
    "            nr_pos=np.arange(-9, 7, 0.5))\n",
    "ticks = dict(qr=np.arange(-18, -4, 3),\n",
    "             nc=np.arange(-8, 7, 3),\n",
    "             nr_neg=np.arange(-15, 7, 3),\n",
    "             nr_pos=np.arange(-9, 7, 3))\n",
    "y_labels = [\"SD Emulator\", \"SD Bin\", \"MG2 Bulk\"]\n",
    "x_labels = [\"$\\log_{10}(dq_r/dt)$\", \"$\\log_{10}(dN_c/dt)$\", \n",
    "            \"$\\log_{10}(dN_r/dt < 0)$\", \"$\\log_{10}(dN_r/dt > 0)$\"]\n",
    "axes[0, 0].hist(test_pred_values.loc[test_cam_labels[\"qrtend_sd\"] == 1, \"qrtend_sd_1\"], bins=bins[\"qr\"], color=\"purple\")\n",
    "axes[1, 0].hist(test_cam_values.loc[test_cam_labels[\"qrtend_sd\"] == 1, \"qrtend_sd\"], bins=bins[\"qr\"], color=\"blue\")\n",
    "axes[2, 0].hist(mg2_test.loc[test_cam_labels[\"qrtend_sd\"] == 1, \"qrtend_MG2\"], \n",
    "                bins=bins[\"qr\"], color=\"green\")\n",
    "axes[0, 0].hist(test_cam_values.loc[test_cam_labels[\"qrtend_sd\"] == 1, \"qrtend_sd\"], \n",
    "                bins=bins[\"qr\"], color=\"blue\", histtype=\"step\", lw=2)\n",
    "axes[2, 0].hist(test_cam_values.loc[test_cam_labels[\"qrtend_sd\"] == 1, \"qrtend_sd\"], \n",
    "                bins=bins[\"qr\"], color=\"blue\", histtype=\"step\", lw=2)\n",
    "\n",
    "axes[0, 0].set_yscale(\"log\")\n",
    "axes[0, 1].hist(test_pred_values.loc[test_cam_labels[\"nctend_sd\"] == 1, \"nctend_sd_1\"], bins=bins[\"nc\"], color=\"purple\")\n",
    "axes[1, 1].hist(test_cam_values.loc[test_cam_labels[\"nctend_sd\"] == 1, \"nctend_sd\"], bins=bins[\"nc\"], color=\"blue\")\n",
    "axes[2, 1].hist(mg2_test.loc[test_cam_labels[\"nctend_sd\"] == 1, \"nctend_MG2\"], \n",
    "                bins=bins[\"nc\"], color=\"green\")\n",
    "axes[0, 1].hist(test_cam_values.loc[test_cam_labels[\"nctend_sd\"] == 1, \"nctend_sd\"], \n",
    "                bins=bins[\"nc\"], color=\"blue\", histtype=\"step\", lw=2)\n",
    "axes[2, 1].hist(test_cam_values.loc[test_cam_labels[\"nctend_sd\"] == 1, \"nctend_sd\"], \n",
    "                bins=bins[\"nc\"], color=\"blue\", histtype=\"step\", lw=2)\n",
    "\n",
    "axes[0, 2].hist(test_pred_values.loc[test_cam_labels[\"nrtend_sd\"] == -1, \"nrtend_sd_-1\"], bins=bins[\"nr_neg\"], color=\"purple\")\n",
    "axes[1, 2].hist(test_cam_values.loc[test_cam_labels[\"nrtend_sd\"] == -1, \"nrtend_sd\"], bins=bins[\"nr_neg\"], color=\"blue\")\n",
    "axes[2, 2].hist(mg2_test.loc[test_cam_labels[\"nrtend_sd\"] == -1, \"nrtend_MG2\"], \n",
    "                bins=bins[\"nr_neg\"], color=\"green\")\n",
    "axes[0, 2].hist(test_cam_values.loc[test_cam_labels[\"nrtend_sd\"] == -1, \"nrtend_sd\"], \n",
    "                bins=bins[\"nr_neg\"], color=\"blue\", histtype=\"step\", lw=2)\n",
    "axes[2, 2].hist(test_cam_values.loc[test_cam_labels[\"nrtend_sd\"] == -1, \"nrtend_sd\"], \n",
    "                bins=bins[\"nr_neg\"], color=\"blue\", histtype=\"step\", lw=2)\n",
    "\n",
    "\n",
    "axes[0, 3].hist(test_pred_values.loc[test_cam_labels[\"nrtend_sd\"] == 1, \"nrtend_sd_1\"], bins=bins[\"nr_pos\"], color=\"purple\")\n",
    "axes[1, 3].hist(test_cam_values.loc[test_cam_labels[\"nrtend_sd\"] == 1, \"nrtend_sd\"], bins=bins[\"nr_pos\"], color=\"blue\")\n",
    "axes[2, 3].hist(mg2_test.loc[test_cam_labels[\"nrtend_sd\"] == 1, \"nrtend_MG2\"], \n",
    "                bins=bins[\"nr_pos\"], color=\"green\")\n",
    "axes[0, 3].hist(test_cam_values.loc[test_cam_labels[\"nrtend_sd\"] == 1, \"nrtend_sd\"], \n",
    "                bins=bins[\"nr_pos\"], color=\"blue\", histtype=\"step\", lw=2)\n",
    "axes[2, 3].hist(test_cam_values.loc[test_cam_labels[\"nrtend_sd\"] == 1, \"nrtend_sd\"], \n",
    "                bins=bins[\"nr_pos\"], color=\"blue\", histtype=\"step\", lw=2)\n",
    "\n",
    "for i in range(3):\n",
    "    for j, out in enumerate([\"qr\", \"nc\", \"nr_neg\", \"nr_pos\"]):\n",
    "        axes[i, j].set_xticks(ticks[out])\n",
    "    axes[i, 0].set_ylabel(y_labels[i], fontsize=16)\n",
    "x_pos = [-15, -7, -11, -7]\n",
    "for j in range(4):\n",
    "    axes[0, j].text(x_pos[j], 50, f\"H={reg_scores.iloc[j, 3]:1.1e}\", fontsize=16, color='w')\n",
    "    axes[2, j].text(x_pos[j], 50, f\"H={mg2_scores.iloc[j, 3]:1.1e}\", fontsize=16, color='w')\n",
    "\n",
    "    axes[2, j].set_xlabel(x_labels[j], fontsize=16)\n",
    "plt.savefig(os.path.join(\".\", \"tendency_hist.pdf\"), bbox_inches=\"tight\")\n"
   ]
  },
  {
   "cell_type": "code",
   "execution_count": 14,
   "metadata": {},
   "outputs": [
    {
     "data": {
      "text/plain": [
       "(26961411,)"
      ]
     },
     "execution_count": 14,
     "metadata": {},
     "output_type": "execute_result"
    }
   ],
   "source": [
    "test_cam_values.loc[test_cam_labels[\"qrtend_sd\"] == 1, \"qrtend_sd\"].shape"
   ]
  },
  {
   "cell_type": "code",
   "execution_count": null,
   "metadata": {},
   "outputs": [],
   "source": []
  }
 ],
 "metadata": {
  "kernelspec": {
   "display_name": "Python 3",
   "language": "python",
   "name": "python3"
  },
  "language_info": {
   "codemirror_mode": {
    "name": "ipython",
    "version": 3
   },
   "file_extension": ".py",
   "mimetype": "text/x-python",
   "name": "python",
   "nbconvert_exporter": "python",
   "pygments_lexer": "ipython3",
   "version": "3.7.7"
  }
 },
 "nbformat": 4,
 "nbformat_minor": 4
}
