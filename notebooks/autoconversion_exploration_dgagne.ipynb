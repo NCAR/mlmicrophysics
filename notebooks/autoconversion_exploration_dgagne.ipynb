{
 "cells": [
  {
   "cell_type": "code",
   "execution_count": 16,
   "metadata": {},
   "outputs": [],
   "source": [
    "%matplotlib inline\n",
    "import numpy as np\n",
    "import matplotlib.pyplot as plt\n",
    "from matplotlib.colors import LogNorm\n",
    "import xarray as xr\n",
    "from glob import glob\n",
    "from keras.layers import Dense, Input, Activation\n",
    "from keras.models import Model\n",
    "from keras.regularizers import l2\n",
    "from os.path import join\n",
    "from dask_jobqueue import PBSCluster\n",
    "from dask.distributed import Client, progress\n",
    "from sklearn.ensemble import RandomForestRegressor\n",
    "from sklearn.preprocessing import MinMaxScaler\n",
    "import pandas as pd\n",
    "from dask import delayed"
   ]
  },
  {
   "cell_type": "code",
   "execution_count": 2,
   "metadata": {},
   "outputs": [
    {
     "data": {
      "text/plain": [
       "[2, 3, 4, 5, 6, 7, 8, 9, 10, 11]"
      ]
     },
     "execution_count": 2,
     "metadata": {},
     "output_type": "execute_result"
    }
   ],
   "source": [
    "cluster = PBSCluster(processes=18,\n",
    "                     threads=4, memory=\"6GB\",\n",
    "                     project='NAML0001',\n",
    "                     queue='premium',\n",
    "                     resource_spec='select=1:ncpus=36:mem=60G',\n",
    "                     walltime='03:00:00')\n",
    "cluster.start_workers(10)"
   ]
  },
  {
   "cell_type": "code",
   "execution_count": 3,
   "metadata": {},
   "outputs": [
    {
     "data": {
      "text/html": [
       "<table style=\"border: 2px solid white;\">\n",
       "<tr>\n",
       "<td style=\"vertical-align: top; border: 0px solid white\">\n",
       "<h3>Client</h3>\n",
       "<ul>\n",
       "  <li><b>Scheduler: </b>tcp://10.148.12.142:46801\n",
       "  <li><b>Dashboard: </b><a href='http://10.148.12.142:8787/status' target='_blank'>http://10.148.12.142:8787/status</a>\n",
       "</ul>\n",
       "</td>\n",
       "<td style=\"vertical-align: top; border: 0px solid white\">\n",
       "<h3>Cluster</h3>\n",
       "<ul>\n",
       "  <li><b>Workers: </b>0</li>\n",
       "  <li><b>Cores: </b>0</li>\n",
       "  <li><b>Memory: </b>0 B</li>\n",
       "</ul>\n",
       "</td>\n",
       "</tr>\n",
       "</table>"
      ],
      "text/plain": [
       "<Client: scheduler='tcp://10.148.12.142:46801' processes=0 cores=0>"
      ]
     },
     "execution_count": 3,
     "metadata": {},
     "output_type": "execute_result"
    }
   ],
   "source": [
    "client = Client(cluster)\n",
    "client"
   ]
  },
  {
   "cell_type": "code",
   "execution_count": 5,
   "metadata": {},
   "outputs": [
    {
     "data": {
      "text/html": [
       "<table style=\"border: 2px solid white;\">\n",
       "<tr>\n",
       "<td style=\"vertical-align: top; border: 0px solid white\">\n",
       "<h3>Client</h3>\n",
       "<ul>\n",
       "  <li><b>Scheduler: </b>tcp://10.148.12.142:46801\n",
       "  <li><b>Dashboard: </b><a href='http://10.148.12.142:8787/status' target='_blank'>http://10.148.12.142:8787/status</a>\n",
       "</ul>\n",
       "</td>\n",
       "<td style=\"vertical-align: top; border: 0px solid white\">\n",
       "<h3>Cluster</h3>\n",
       "<ul>\n",
       "  <li><b>Workers: </b>180</li>\n",
       "  <li><b>Cores: </b>720</li>\n",
       "  <li><b>Memory: </b>1080.00 GB</li>\n",
       "</ul>\n",
       "</td>\n",
       "</tr>\n",
       "</table>"
      ],
      "text/plain": [
       "<Client: scheduler='tcp://10.148.12.142:46801' processes=180 cores=720>"
      ]
     },
     "execution_count": 5,
     "metadata": {},
     "output_type": "execute_result"
    }
   ],
   "source": [
    "client"
   ]
  },
  {
   "cell_type": "code",
   "execution_count": 8,
   "metadata": {},
   "outputs": [
    {
     "name": "stdout",
     "output_type": "stream",
     "text": [
      "['/glade2/work/dgagne/cam_mp_files_limited/TAU_run1.cam.h1.0001-01-01-00000.nc', '/glade2/work/dgagne/cam_mp_files_limited/TAU_run1.cam.h1.0001-06-03-64800.nc', '/glade2/work/dgagne/cam_mp_files_limited/TAU_run1.cam.h1.0001-11-04-43200.nc', '/glade2/work/dgagne/cam_mp_files_limited/TAU_run1.cam.h1.0002-04-07-21600.nc', '/glade2/work/dgagne/cam_mp_files_limited/TAU_run1.cam.h1.0002-09-08-00000.nc']\n"
     ]
    }
   ],
   "source": [
    "data_path = \"/glade2/work/dgagne/cam_mp_files_limited/\"\n",
    "data_files = sorted(glob(data_path +\"/TAU_run1.cam.h1*.nc\"))\n",
    "print(data_files)"
   ]
  },
  {
   "cell_type": "markdown",
   "metadata": {},
   "source": [
    "## Input Variables\n",
    "* RHO_CLUBB: air density (kg m-3)\n",
    "* QC_TAU_in: cloud liquid mixing ratio (kg kg-1)\n",
    "* NC_TAU_in: cloud liquid number concentration (kg-1)\n",
    "* QR_TAU_in: rain mixing ratio (kg kg-1)\n",
    "* NR_TAU_in: rain number concentration (kg-1)\n",
    "\n",
    "## Output Variables\n",
    "* autoconversion: \n",
    "    * prc_MG2: mass autoconversion rate in MG2 (kg kg-1 s-1)\n",
    "    * nprc1_MG2: number autoconversion rate in MG2 (kg-1 s-1)\n",
    "    * nprc_MG2: number autoconversion rate, fixed size for rain, in MG2 (kg-1 s-1)\n",
    "* accretion:\n",
    "    * pra_MG2: mass accretion rate in MG2 (kg kg-1 s-1)\n",
    "    * npra_MG2: number accretion rate in MG2 (kg-1 s-1)\n",
    "* self-collection:\n",
    "    * nragg_MG2: number accretion rate in MG2 (kg-1 s-1)"
   ]
  },
  {
   "cell_type": "code",
   "execution_count": 9,
   "metadata": {},
   "outputs": [],
   "source": [
    "ds = xr.open_mfdataset(data_files, decode_times=False)"
   ]
  },
  {
   "cell_type": "code",
   "execution_count": 10,
   "metadata": {},
   "outputs": [
    {
     "data": {
      "text/plain": [
       "<xarray.DataArray 'lev' (lev: 32)>\n",
       "array([  3.643466,   7.59482 ,  14.356632,  24.61222 ,  35.92325 ,  43.19375 ,\n",
       "        51.677499,  61.520498,  73.750958,  87.82123 , 103.317127, 121.547241,\n",
       "       142.994039, 168.22508 , 197.908087, 232.828619, 273.910817, 322.241902,\n",
       "       379.100904, 445.992574, 524.687175, 609.778695, 691.38943 , 763.404481,\n",
       "       820.858369, 859.534767, 887.020249, 912.644547, 936.198398, 957.48548 ,\n",
       "       976.325407, 992.556095])\n",
       "Coordinates:\n",
       "  * lev      (lev) float64 3.643 7.595 14.36 24.61 35.92 43.19 51.68 61.52 ...\n",
       "Attributes:\n",
       "    long_name:      hybrid level at midpoints (1000*(A+B))\n",
       "    units:          hPa\n",
       "    positive:       down\n",
       "    standard_name:  atmosphere_hybrid_sigma_pressure_coordinate\n",
       "    formula_terms:  a: hyam b: hybm p0: P0 ps: PS"
      ]
     },
     "execution_count": 10,
     "metadata": {},
     "output_type": "execute_result"
    }
   ],
   "source": [
    "ds.lev"
   ]
  },
  {
   "cell_type": "code",
   "execution_count": 33,
   "metadata": {},
   "outputs": [
    {
     "name": "stdout",
     "output_type": "stream",
     "text": [
      "<xarray.DataArray 'RHO_CLUBB' (time: 143, ilev: 33, lat: 192, lon: 288)>\n",
      "dask.array<shape=(143, 33, 192, 288), dtype=float32, chunksize=(30, 33, 192, 288)>\n",
      "Coordinates:\n",
      "  * ilev     (ilev) float64 2.255 5.032 10.16 18.56 29.73 39.27 47.11 56.24 ...\n",
      "  * lat      (lat) float64 -90.0 -89.06 -88.12 -87.17 -86.23 -85.29 -84.35 ...\n",
      "  * lon      (lon) float64 0.0 1.25 2.5 3.75 5.0 6.25 7.5 8.75 10.0 11.25 ...\n",
      "  * time     (time) float64 0.0 5.125 10.25 15.38 20.5 25.62 30.75 35.88 ...\n",
      "Attributes:\n",
      "    mdims:      2\n",
      "    units:      kg/m3\n",
      "    long_name:  Air Density\n",
      "<xarray.DataArray (time: 143, lev: 32, lat: 192, lon: 288)>\n",
      "array([[[[0.007358, ..., 0.007358],\n",
      "         ...,\n",
      "         [0.008785, ..., 0.008785]],\n",
      "\n",
      "        ...,\n",
      "\n",
      "        [[0.976342, ..., 0.976342],\n",
      "         ...,\n",
      "         [1.429074, ..., 1.429074]]],\n",
      "\n",
      "\n",
      "       ...,\n",
      "\n",
      "\n",
      "       [[[0.007462, ..., 0.007462],\n",
      "         ...,\n",
      "         [0.009174, ..., 0.009174]],\n",
      "\n",
      "        ...,\n",
      "\n",
      "        [[0.948482, ..., 0.948482],\n",
      "         ...,\n",
      "         [1.392265, ..., 1.392249]]]], dtype=float32)\n",
      "Coordinates:\n",
      "  * time     (time) float64 0.0 5.125 10.25 15.38 20.5 25.62 30.75 35.88 ...\n",
      "  * lev      (lev) float64 3.643 7.595 14.36 24.61 35.92 43.19 51.68 61.52 ...\n",
      "  * lat      (lat) float64 -90.0 -89.06 -88.12 -87.17 -86.23 -85.29 -84.35 ...\n",
      "  * lon      (lon) float64 0.0 1.25 2.5 3.75 5.0 6.25 7.5 8.75 10.0 11.25 ...\n"
     ]
    }
   ],
   "source": [
    "rho = ds.RHO_CLUBB\n",
    "rho_2 = xr.DataArray(0.5 * (rho[:, :-1].values + rho[:, 1:].values), coords=[ds.time, ds.lev, ds.lat, ds.lon], dims=(\"time\", \"lev\", \"lat\", \"lon\"))\n",
    "ds[\"RHO_CLUBB_lev\"] = rho_2\n",
    "print(rho)\n",
    "print(rho_2.compute())"
   ]
  },
  {
   "cell_type": "code",
   "execution_count": 33,
   "metadata": {},
   "outputs": [
    {
     "data": {
      "text/plain": [
       "<xarray.DataArray 'RHO_CLUBB_lev' ()>\n",
       "array(0.007229)"
      ]
     },
     "execution_count": 33,
     "metadata": {},
     "output_type": "execute_result"
    }
   ],
   "source": [
    "ds[\"RHO_CLUBB_lev\"].min()"
   ]
  },
  {
   "cell_type": "code",
   "execution_count": 9,
   "metadata": {},
   "outputs": [
    {
     "name": "stdout",
     "output_type": "stream",
     "text": [
      "231449\n",
      "4772\n",
      "24796\n",
      "1508455\n",
      "0\n"
     ]
    }
   ],
   "source": [
    "print(np.count_nonzero((ds[\"pra_MG2\"][1] > 0) & (ds[\"prc_MG2\"][1] > 0)))\n",
    "print(np.count_nonzero((ds[\"pra_MG2\"][1] == 0) & (ds[\"prc_MG2\"][1] > 0)))\n",
    "print(np.count_nonzero((ds[\"pra_MG2\"][1] > 0) & (ds[\"prc_MG2\"][1] == 0)))\n",
    "print(np.count_nonzero((ds[\"pra_MG2\"][1] == 0) & (ds[\"prc_MG2\"][1] == 0)))\n",
    "\n",
    "print(np.count_nonzero((ds[\"pra_MG2\"][1] < 0) | (ds[\"prc_MG2\"][1] < 0)))"
   ]
  },
  {
   "cell_type": "code",
   "execution_count": 10,
   "metadata": {},
   "outputs": [
    {
     "data": {
      "text/plain": [
       "(0, 1e-07)"
      ]
     },
     "execution_count": 10,
     "metadata": {},
     "output_type": "execute_result"
    },
    {
     "data": {
      "image/png": "[encoded data removed]",
      "text/plain": [
       "<Figure size 432x288 with 1 Axes>"
      ]
     },
     "metadata": {},
     "output_type": "display_data"
    }
   ],
   "source": [
    "plt.scatter(ds[\"prc_MG2\"][1].values.ravel(), ds[\"pra_MG2\"][1].values.ravel())\n",
    "plt.xlim(0, 1e-7)\n",
    "plt.ylim(0, 1e-7)"
   ]
  },
  {
   "cell_type": "code",
   "execution_count": 97,
   "metadata": {
    "scrolled": true
   },
   "outputs": [
    {
     "data": {
      "image/png": "[encoded data removed]",
      "text/plain": [
       "<Figure size 432x288 with 1 Axes>"
      ]
     },
     "metadata": {},
     "output_type": "display_data"
    }
   ],
   "source": [
    "plt.hist(ds[\"nprc_MG2\"][5].values[ds[\"nprc_MG2\"][5] > 0], 100)\n",
    "plt.gca().set_yscale(\"log\")"
   ]
  },
  {
   "cell_type": "code",
   "execution_count": 41,
   "metadata": {},
   "outputs": [],
   "source": [
    "cols = [\"QC_TAU_in\", \"NC_TAU_in\", \"QR_TAU_in\", \"NR_TAU_in\", \"RHO_CLUBB_lev\", \"prc_MG2\", \"nprc1_MG2\", \"nprc_MG2\", \"pra_MG2\", \"npra_MG2\"]\n",
    "in_df = ds[cols].isel(lev=-10).to_dask_dataframe(dim_order=[\"time\", \"lat\", \"lon\"], )\n",
    "in_df_sub = in_df.loc[in_df[\"QC_TAU_in\"] > 0].compute()\n"
   ]
  },
  {
   "cell_type": "code",
   "execution_count": 37,
   "metadata": {},
   "outputs": [
    {
     "data": {
      "text/html": [
       "<div>\n",
       "<style scoped>\n",
       "    .dataframe tbody tr th:only-of-type {\n",
       "        vertical-align: middle;\n",
       "    }\n",
       "\n",
       "    .dataframe tbody tr th {\n",
       "        vertical-align: top;\n",
       "    }\n",
       "\n",
       "    .dataframe thead th {\n",
       "        text-align: right;\n",
       "    }\n",
       "</style>\n",
       "<table border=\"1\" class=\"dataframe\">\n",
       "  <thead>\n",
       "    <tr style=\"text-align: right;\">\n",
       "      <th></th>\n",
       "      <th>time</th>\n",
       "      <th>lat</th>\n",
       "      <th>lon</th>\n",
       "      <th>lev</th>\n",
       "      <th>QC_TAU_in</th>\n",
       "      <th>NC_TAU_in</th>\n",
       "      <th>QR_TAU_in</th>\n",
       "      <th>NR_TAU_in</th>\n",
       "      <th>RHO_CLUBB_lev</th>\n",
       "      <th>prc_MG2</th>\n",
       "      <th>nprc1_MG2</th>\n",
       "      <th>nprc_MG2</th>\n",
       "      <th>pra_MG2</th>\n",
       "      <th>npra_MG2</th>\n",
       "    </tr>\n",
       "  </thead>\n",
       "  <tbody>\n",
       "    <tr>\n",
       "      <th>605</th>\n",
       "      <td>0.00</td>\n",
       "      <td>-88.115183</td>\n",
       "      <td>36.25</td>\n",
       "      <td>992.556095</td>\n",
       "      <td>8.077936e-28</td>\n",
       "      <td>1.188733e+01</td>\n",
       "      <td>7.470971e-11</td>\n",
       "      <td>1.449457e+00</td>\n",
       "      <td>0.975612</td>\n",
       "      <td>0.000000e+00</td>\n",
       "      <td>0.000000</td>\n",
       "      <td>0.000000</td>\n",
       "      <td>0.000000e+00</td>\n",
       "      <td>0.000000</td>\n",
       "    </tr>\n",
       "    <tr>\n",
       "      <th>611</th>\n",
       "      <td>0.00</td>\n",
       "      <td>-88.115183</td>\n",
       "      <td>43.75</td>\n",
       "      <td>992.556095</td>\n",
       "      <td>4.038968e-28</td>\n",
       "      <td>8.544121e+00</td>\n",
       "      <td>7.108500e-11</td>\n",
       "      <td>1.161728e+00</td>\n",
       "      <td>0.971111</td>\n",
       "      <td>0.000000e+00</td>\n",
       "      <td>0.000000</td>\n",
       "      <td>0.000000</td>\n",
       "      <td>0.000000e+00</td>\n",
       "      <td>0.000000</td>\n",
       "    </tr>\n",
       "    <tr>\n",
       "      <th>613</th>\n",
       "      <td>0.00</td>\n",
       "      <td>-88.115183</td>\n",
       "      <td>46.25</td>\n",
       "      <td>992.556095</td>\n",
       "      <td>4.038968e-28</td>\n",
       "      <td>8.785646e+00</td>\n",
       "      <td>4.533217e-11</td>\n",
       "      <td>8.096051e-01</td>\n",
       "      <td>0.969698</td>\n",
       "      <td>0.000000e+00</td>\n",
       "      <td>0.000000</td>\n",
       "      <td>0.000000</td>\n",
       "      <td>0.000000e+00</td>\n",
       "      <td>0.000000</td>\n",
       "    </tr>\n",
       "    <tr>\n",
       "      <th>614</th>\n",
       "      <td>0.00</td>\n",
       "      <td>-88.115183</td>\n",
       "      <td>47.50</td>\n",
       "      <td>992.556095</td>\n",
       "      <td>4.038968e-28</td>\n",
       "      <td>8.060197e+00</td>\n",
       "      <td>2.743556e-11</td>\n",
       "      <td>4.959186e-01</td>\n",
       "      <td>0.969017</td>\n",
       "      <td>0.000000e+00</td>\n",
       "      <td>0.000000</td>\n",
       "      <td>0.000000</td>\n",
       "      <td>0.000000e+00</td>\n",
       "      <td>0.000000</td>\n",
       "    </tr>\n",
       "    <tr>\n",
       "      <th>617</th>\n",
       "      <td>0.00</td>\n",
       "      <td>-88.115183</td>\n",
       "      <td>51.25</td>\n",
       "      <td>992.556095</td>\n",
       "      <td>1.009742e-28</td>\n",
       "      <td>4.618555e+00</td>\n",
       "      <td>4.676030e-13</td>\n",
       "      <td>7.182703e-03</td>\n",
       "      <td>0.967076</td>\n",
       "      <td>0.000000e+00</td>\n",
       "      <td>0.000000</td>\n",
       "      <td>0.000000</td>\n",
       "      <td>0.000000e+00</td>\n",
       "      <td>0.000000</td>\n",
       "    </tr>\n",
       "    <tr>\n",
       "      <th>619</th>\n",
       "      <td>0.00</td>\n",
       "      <td>-88.115183</td>\n",
       "      <td>53.75</td>\n",
       "      <td>992.556095</td>\n",
       "      <td>1.972152e-31</td>\n",
       "      <td>2.602477e-01</td>\n",
       "      <td>1.158085e-24</td>\n",
       "      <td>1.000000e-12</td>\n",
       "      <td>0.965882</td>\n",
       "      <td>0.000000e+00</td>\n",
       "      <td>0.000000</td>\n",
       "      <td>0.000000</td>\n",
       "      <td>0.000000e+00</td>\n",
       "      <td>0.000000</td>\n",
       "    </tr>\n",
       "    <tr>\n",
       "      <th>892</th>\n",
       "      <td>0.00</td>\n",
       "      <td>-87.172775</td>\n",
       "      <td>35.00</td>\n",
       "      <td>992.556095</td>\n",
       "      <td>3.231174e-27</td>\n",
       "      <td>1.964618e+01</td>\n",
       "      <td>1.213756e-10</td>\n",
       "      <td>2.514512e+00</td>\n",
       "      <td>0.972283</td>\n",
       "      <td>0.000000e+00</td>\n",
       "      <td>0.000000</td>\n",
       "      <td>0.000000</td>\n",
       "      <td>0.000000e+00</td>\n",
       "      <td>0.000000</td>\n",
       "    </tr>\n",
       "    <tr>\n",
       "      <th>894</th>\n",
       "      <td>0.00</td>\n",
       "      <td>-87.172775</td>\n",
       "      <td>37.50</td>\n",
       "      <td>992.556095</td>\n",
       "      <td>3.231174e-27</td>\n",
       "      <td>2.457674e+01</td>\n",
       "      <td>5.001474e-10</td>\n",
       "      <td>9.849887e+00</td>\n",
       "      <td>0.970045</td>\n",
       "      <td>0.000000e+00</td>\n",
       "      <td>0.000000</td>\n",
       "      <td>0.000000</td>\n",
       "      <td>0.000000e+00</td>\n",
       "      <td>0.000000</td>\n",
       "    </tr>\n",
       "    <tr>\n",
       "      <th>908</th>\n",
       "      <td>0.00</td>\n",
       "      <td>-87.172775</td>\n",
       "      <td>55.00</td>\n",
       "      <td>992.556095</td>\n",
       "      <td>2.019484e-28</td>\n",
       "      <td>7.030274e+00</td>\n",
       "      <td>6.445941e-13</td>\n",
       "      <td>1.202645e-02</td>\n",
       "      <td>0.957435</td>\n",
       "      <td>0.000000e+00</td>\n",
       "      <td>0.000000</td>\n",
       "      <td>0.000000</td>\n",
       "      <td>0.000000e+00</td>\n",
       "      <td>0.000000</td>\n",
       "    </tr>\n",
       "    <tr>\n",
       "      <th>1185</th>\n",
       "      <td>0.00</td>\n",
       "      <td>-86.230366</td>\n",
       "      <td>41.25</td>\n",
       "      <td>992.556095</td>\n",
       "      <td>3.231174e-27</td>\n",
       "      <td>2.044247e+01</td>\n",
       "      <td>8.539815e-11</td>\n",
       "      <td>1.671159e+00</td>\n",
       "      <td>0.958765</td>\n",
       "      <td>0.000000e+00</td>\n",
       "      <td>0.000000</td>\n",
       "      <td>0.000000</td>\n",
       "      <td>0.000000e+00</td>\n",
       "      <td>0.000000</td>\n",
       "    </tr>\n",
       "    <tr>\n",
       "      <th>1192</th>\n",
       "      <td>0.00</td>\n",
       "      <td>-86.230366</td>\n",
       "      <td>50.00</td>\n",
       "      <td>992.556095</td>\n",
       "      <td>8.077936e-28</td>\n",
       "      <td>1.397442e+01</td>\n",
       "      <td>1.395143e-12</td>\n",
       "      <td>5.551098e-02</td>\n",
       "      <td>0.949674</td>\n",
       "      <td>0.000000e+00</td>\n",
       "      <td>0.000000</td>\n",
       "      <td>0.000000</td>\n",
       "      <td>0.000000e+00</td>\n",
       "      <td>0.000000</td>\n",
       "    </tr>\n",
       "    <tr>\n",
       "      <th>3035</th>\n",
       "      <td>0.00</td>\n",
       "      <td>-80.575916</td>\n",
       "      <td>193.75</td>\n",
       "      <td>992.556095</td>\n",
       "      <td>3.060613e-05</td>\n",
       "      <td>7.986286e+06</td>\n",
       "      <td>2.414426e-10</td>\n",
       "      <td>9.606698e+00</td>\n",
       "      <td>1.256741</td>\n",
       "      <td>9.117566e-12</td>\n",
       "      <td>2.352067</td>\n",
       "      <td>0.139306</td>\n",
       "      <td>3.790150e-15</td>\n",
       "      <td>0.000978</td>\n",
       "    </tr>\n",
       "    <tr>\n",
       "      <th>3036</th>\n",
       "      <td>0.00</td>\n",
       "      <td>-80.575916</td>\n",
       "      <td>195.00</td>\n",
       "      <td>992.556095</td>\n",
       "      <td>3.714995e-05</td>\n",
       "      <td>9.390421e+06</td>\n",
       "      <td>4.451673e-10</td>\n",
       "      <td>1.771265e+01</td>\n",
       "      <td>1.255211</td>\n",
       "      <td>1.231163e-11</td>\n",
       "      <td>3.080643</td>\n",
       "      <td>0.188108</td>\n",
       "      <td>9.571815e-15</td>\n",
       "      <td>0.002395</td>\n",
       "    </tr>\n",
       "    <tr>\n",
       "      <th>3037</th>\n",
       "      <td>0.00</td>\n",
       "      <td>-80.575916</td>\n",
       "      <td>196.25</td>\n",
       "      <td>992.556095</td>\n",
       "      <td>3.864962e-05</td>\n",
       "      <td>1.034777e+07</td>\n",
       "      <td>1.441902e-11</td>\n",
       "      <td>5.737146e-01</td>\n",
       "      <td>1.253513</td>\n",
       "      <td>1.218913e-11</td>\n",
       "      <td>3.237726</td>\n",
       "      <td>0.186236</td>\n",
       "      <td>1.939696e-16</td>\n",
       "      <td>0.000052</td>\n",
       "    </tr>\n",
       "    <tr>\n",
       "      <th>3041</th>\n",
       "      <td>0.00</td>\n",
       "      <td>-80.575916</td>\n",
       "      <td>201.25</td>\n",
       "      <td>992.556095</td>\n",
       "      <td>1.112693e-05</td>\n",
       "      <td>6.695569e+06</td>\n",
       "      <td>1.006267e-12</td>\n",
       "      <td>4.003809e-02</td>\n",
       "      <td>1.246457</td>\n",
       "      <td>9.130301e-13</td>\n",
       "      <td>0.545595</td>\n",
       "      <td>0.013950</td>\n",
       "      <td>2.168665e-18</td>\n",
       "      <td>0.000001</td>\n",
       "    </tr>\n",
       "    <tr>\n",
       "      <th>3043</th>\n",
       "      <td>0.00</td>\n",
       "      <td>-80.575916</td>\n",
       "      <td>203.75</td>\n",
       "      <td>992.556095</td>\n",
       "      <td>6.659807e-06</td>\n",
       "      <td>3.019833e+06</td>\n",
       "      <td>1.691862e-11</td>\n",
       "      <td>6.731495e-01</td>\n",
       "      <td>1.240816</td>\n",
       "      <td>6.362874e-13</td>\n",
       "      <td>0.279868</td>\n",
       "      <td>0.009722</td>\n",
       "      <td>3.085611e-17</td>\n",
       "      <td>0.000014</td>\n",
       "    </tr>\n",
       "    <tr>\n",
       "      <th>3094</th>\n",
       "      <td>0.00</td>\n",
       "      <td>-80.575916</td>\n",
       "      <td>267.50</td>\n",
       "      <td>992.556095</td>\n",
       "      <td>6.568745e-21</td>\n",
       "      <td>5.648599e+03</td>\n",
       "      <td>5.815997e-09</td>\n",
       "      <td>9.103736e+01</td>\n",
       "      <td>1.052937</td>\n",
       "      <td>0.000000e+00</td>\n",
       "      <td>0.000000</td>\n",
       "      <td>0.000000</td>\n",
       "      <td>0.000000e+00</td>\n",
       "      <td>0.000000</td>\n",
       "    </tr>\n",
       "    <tr>\n",
       "      <th>3095</th>\n",
       "      <td>0.00</td>\n",
       "      <td>-80.575916</td>\n",
       "      <td>268.75</td>\n",
       "      <td>992.556095</td>\n",
       "      <td>1.204582e-23</td>\n",
       "      <td>1.325294e+03</td>\n",
       "      <td>6.953407e-09</td>\n",
       "      <td>9.602563e+01</td>\n",
       "      <td>1.061198</td>\n",
       "      <td>0.000000e+00</td>\n",
       "      <td>0.000000</td>\n",
       "      <td>0.000000</td>\n",
       "      <td>0.000000e+00</td>\n",
       "      <td>0.000000</td>\n",
       "    </tr>\n",
       "    <tr>\n",
       "      <th>3096</th>\n",
       "      <td>0.00</td>\n",
       "      <td>-80.575916</td>\n",
       "      <td>270.00</td>\n",
       "      <td>992.556095</td>\n",
       "      <td>1.292470e-26</td>\n",
       "      <td>1.127213e+03</td>\n",
       "      <td>5.974586e-09</td>\n",
       "      <td>8.322849e+01</td>\n",
       "      <td>1.071478</td>\n",
       "      <td>0.000000e+00</td>\n",
       "      <td>0.000000</td>\n",
       "      <td>0.000000</td>\n",
       "      <td>0.000000e+00</td>\n",
       "      <td>0.000000</td>\n",
       "    </tr>\n",
       "    <tr>\n",
       "      <th>3315</th>\n",
       "      <td>0.00</td>\n",
       "      <td>-79.633508</td>\n",
       "      <td>183.75</td>\n",
       "      <td>992.556095</td>\n",
       "      <td>8.574079e-06</td>\n",
       "      <td>2.674988e+06</td>\n",
       "      <td>5.573823e-09</td>\n",
       "      <td>2.217754e+02</td>\n",
       "      <td>1.262987</td>\n",
       "      <td>3.781543e-13</td>\n",
       "      <td>0.359234</td>\n",
       "      <td>0.005778</td>\n",
       "      <td>3.243264e-14</td>\n",
       "      <td>0.030810</td>\n",
       "    </tr>\n",
       "    <tr>\n",
       "      <th>3316</th>\n",
       "      <td>0.00</td>\n",
       "      <td>-79.633508</td>\n",
       "      <td>185.00</td>\n",
       "      <td>992.556095</td>\n",
       "      <td>1.006943e-04</td>\n",
       "      <td>2.052621e+07</td>\n",
       "      <td>9.846347e-09</td>\n",
       "      <td>3.917737e+02</td>\n",
       "      <td>1.259999</td>\n",
       "      <td>6.072060e-11</td>\n",
       "      <td>12.283717</td>\n",
       "      <td>0.927742</td>\n",
       "      <td>1.060382e-12</td>\n",
       "      <td>0.214514</td>\n",
       "    </tr>\n",
       "    <tr>\n",
       "      <th>3317</th>\n",
       "      <td>0.00</td>\n",
       "      <td>-79.633508</td>\n",
       "      <td>186.25</td>\n",
       "      <td>992.556095</td>\n",
       "      <td>9.697712e-05</td>\n",
       "      <td>2.828810e+07</td>\n",
       "      <td>2.253944e-08</td>\n",
       "      <td>8.968157e+02</td>\n",
       "      <td>1.255412</td>\n",
       "      <td>4.036443e-11</td>\n",
       "      <td>11.335663</td>\n",
       "      <td>0.616723</td>\n",
       "      <td>2.632054e-12</td>\n",
       "      <td>0.739168</td>\n",
       "    </tr>\n",
       "    <tr>\n",
       "      <th>3318</th>\n",
       "      <td>0.00</td>\n",
       "      <td>-79.633508</td>\n",
       "      <td>187.50</td>\n",
       "      <td>992.556095</td>\n",
       "      <td>1.084877e-04</td>\n",
       "      <td>3.259528e+07</td>\n",
       "      <td>6.654604e-08</td>\n",
       "      <td>2.647783e+03</td>\n",
       "      <td>1.251785</td>\n",
       "      <td>4.584714e-11</td>\n",
       "      <td>13.225120</td>\n",
       "      <td>0.700493</td>\n",
       "      <td>1.039965e-11</td>\n",
       "      <td>2.999895</td>\n",
       "    </tr>\n",
       "    <tr>\n",
       "      <th>3319</th>\n",
       "      <td>0.00</td>\n",
       "      <td>-79.633508</td>\n",
       "      <td>188.75</td>\n",
       "      <td>992.556095</td>\n",
       "      <td>1.194244e-04</td>\n",
       "      <td>3.426854e+07</td>\n",
       "      <td>7.766645e-08</td>\n",
       "      <td>3.090250e+03</td>\n",
       "      <td>1.249547</td>\n",
       "      <td>5.556303e-11</td>\n",
       "      <td>15.195550</td>\n",
       "      <td>0.848941</td>\n",
       "      <td>1.387287e-11</td>\n",
       "      <td>3.793995</td>\n",
       "    </tr>\n",
       "    <tr>\n",
       "      <th>3320</th>\n",
       "      <td>0.00</td>\n",
       "      <td>-79.633508</td>\n",
       "      <td>190.00</td>\n",
       "      <td>992.556095</td>\n",
       "      <td>1.019904e-04</td>\n",
       "      <td>2.901667e+07</td>\n",
       "      <td>4.177832e-08</td>\n",
       "      <td>1.662307e+03</td>\n",
       "      <td>1.248132</td>\n",
       "      <td>4.493310e-11</td>\n",
       "      <td>12.259400</td>\n",
       "      <td>0.686527</td>\n",
       "      <td>5.671233e-12</td>\n",
       "      <td>1.547321</td>\n",
       "    </tr>\n",
       "    <tr>\n",
       "      <th>3321</th>\n",
       "      <td>0.00</td>\n",
       "      <td>-79.633508</td>\n",
       "      <td>191.25</td>\n",
       "      <td>992.556095</td>\n",
       "      <td>1.132776e-04</td>\n",
       "      <td>2.046969e+07</td>\n",
       "      <td>1.964513e-08</td>\n",
       "      <td>7.816547e+02</td>\n",
       "      <td>1.247983</td>\n",
       "      <td>8.352496e-11</td>\n",
       "      <td>14.783302</td>\n",
       "      <td>1.276167</td>\n",
       "      <td>2.686885e-12</td>\n",
       "      <td>0.475559</td>\n",
       "    </tr>\n",
       "    <tr>\n",
       "      <th>3322</th>\n",
       "      <td>0.00</td>\n",
       "      <td>-79.633508</td>\n",
       "      <td>192.50</td>\n",
       "      <td>992.556095</td>\n",
       "      <td>6.748168e-05</td>\n",
       "      <td>1.396940e+07</td>\n",
       "      <td>2.053786e-10</td>\n",
       "      <td>8.171756e+00</td>\n",
       "      <td>1.248032</td>\n",
       "      <td>3.505066e-11</td>\n",
       "      <td>7.166316</td>\n",
       "      <td>0.535535</td>\n",
       "      <td>7.811650e-15</td>\n",
       "      <td>0.001597</td>\n",
       "    </tr>\n",
       "    <tr>\n",
       "      <th>3323</th>\n",
       "      <td>0.00</td>\n",
       "      <td>-79.633508</td>\n",
       "      <td>193.75</td>\n",
       "      <td>992.556095</td>\n",
       "      <td>5.432995e-05</td>\n",
       "      <td>1.090339e+07</td>\n",
       "      <td>4.033355e-11</td>\n",
       "      <td>1.604821e+00</td>\n",
       "      <td>1.246278</td>\n",
       "      <td>2.616290e-11</td>\n",
       "      <td>5.438290</td>\n",
       "      <td>0.399740</td>\n",
       "      <td>1.008908e-15</td>\n",
       "      <td>0.000210</td>\n",
       "    </tr>\n",
       "    <tr>\n",
       "      <th>3324</th>\n",
       "      <td>0.00</td>\n",
       "      <td>-79.633508</td>\n",
       "      <td>195.00</td>\n",
       "      <td>992.556095</td>\n",
       "      <td>4.642371e-05</td>\n",
       "      <td>1.030620e+07</td>\n",
       "      <td>2.549534e-11</td>\n",
       "      <td>1.014427e+00</td>\n",
       "      <td>1.244664</td>\n",
       "      <td>1.889274e-11</td>\n",
       "      <td>4.263343</td>\n",
       "      <td>0.288660</td>\n",
       "      <td>4.612339e-16</td>\n",
       "      <td>0.000104</td>\n",
       "    </tr>\n",
       "    <tr>\n",
       "      <th>3325</th>\n",
       "      <td>0.00</td>\n",
       "      <td>-79.633508</td>\n",
       "      <td>196.25</td>\n",
       "      <td>992.556095</td>\n",
       "      <td>3.788231e-05</td>\n",
       "      <td>7.991753e+06</td>\n",
       "      <td>2.016655e-11</td>\n",
       "      <td>8.024015e-01</td>\n",
       "      <td>1.243759</td>\n",
       "      <td>1.533510e-11</td>\n",
       "      <td>3.249761</td>\n",
       "      <td>0.234303</td>\n",
       "      <td>2.787846e-16</td>\n",
       "      <td>0.000059</td>\n",
       "    </tr>\n",
       "    <tr>\n",
       "      <th>...</th>\n",
       "      <td>...</td>\n",
       "      <td>...</td>\n",
       "      <td>...</td>\n",
       "      <td>...</td>\n",
       "      <td>...</td>\n",
       "      <td>...</td>\n",
       "      <td>...</td>\n",
       "      <td>...</td>\n",
       "      <td>...</td>\n",
       "      <td>...</td>\n",
       "      <td>...</td>\n",
       "      <td>...</td>\n",
       "      <td>...</td>\n",
       "      <td>...</td>\n",
       "    </tr>\n",
       "    <tr>\n",
       "      <th>7907237</th>\n",
       "      <td>727.75</td>\n",
       "      <td>90.000000</td>\n",
       "      <td>246.25</td>\n",
       "      <td>992.556095</td>\n",
       "      <td>1.009742e-28</td>\n",
       "      <td>1.981671e+00</td>\n",
       "      <td>2.828240e-11</td>\n",
       "      <td>1.119339e+00</td>\n",
       "      <td>1.392219</td>\n",
       "      <td>0.000000e+00</td>\n",
       "      <td>0.000000</td>\n",
       "      <td>0.000000</td>\n",
       "      <td>0.000000e+00</td>\n",
       "      <td>0.000000</td>\n",
       "    </tr>\n",
       "    <tr>\n",
       "      <th>7907243</th>\n",
       "      <td>727.75</td>\n",
       "      <td>90.000000</td>\n",
       "      <td>253.75</td>\n",
       "      <td>992.556095</td>\n",
       "      <td>1.009742e-28</td>\n",
       "      <td>1.981453e+00</td>\n",
       "      <td>2.828166e-11</td>\n",
       "      <td>1.119309e+00</td>\n",
       "      <td>1.392220</td>\n",
       "      <td>0.000000e+00</td>\n",
       "      <td>0.000000</td>\n",
       "      <td>0.000000</td>\n",
       "      <td>0.000000e+00</td>\n",
       "      <td>0.000000</td>\n",
       "    </tr>\n",
       "    <tr>\n",
       "      <th>7907245</th>\n",
       "      <td>727.75</td>\n",
       "      <td>90.000000</td>\n",
       "      <td>256.25</td>\n",
       "      <td>992.556095</td>\n",
       "      <td>1.009742e-28</td>\n",
       "      <td>1.982374e+00</td>\n",
       "      <td>2.828161e-11</td>\n",
       "      <td>1.119308e+00</td>\n",
       "      <td>1.392217</td>\n",
       "      <td>0.000000e+00</td>\n",
       "      <td>0.000000</td>\n",
       "      <td>0.000000</td>\n",
       "      <td>0.000000e+00</td>\n",
       "      <td>0.000000</td>\n",
       "    </tr>\n",
       "    <tr>\n",
       "      <th>7907251</th>\n",
       "      <td>727.75</td>\n",
       "      <td>90.000000</td>\n",
       "      <td>263.75</td>\n",
       "      <td>992.556095</td>\n",
       "      <td>1.009742e-28</td>\n",
       "      <td>1.982307e+00</td>\n",
       "      <td>2.828135e-11</td>\n",
       "      <td>1.119297e+00</td>\n",
       "      <td>1.392217</td>\n",
       "      <td>0.000000e+00</td>\n",
       "      <td>0.000000</td>\n",
       "      <td>0.000000</td>\n",
       "      <td>0.000000e+00</td>\n",
       "      <td>0.000000</td>\n",
       "    </tr>\n",
       "    <tr>\n",
       "      <th>7907254</th>\n",
       "      <td>727.75</td>\n",
       "      <td>90.000000</td>\n",
       "      <td>267.50</td>\n",
       "      <td>992.556095</td>\n",
       "      <td>1.009742e-28</td>\n",
       "      <td>1.982316e+00</td>\n",
       "      <td>2.828145e-11</td>\n",
       "      <td>1.119301e+00</td>\n",
       "      <td>1.392217</td>\n",
       "      <td>0.000000e+00</td>\n",
       "      <td>0.000000</td>\n",
       "      <td>0.000000</td>\n",
       "      <td>0.000000e+00</td>\n",
       "      <td>0.000000</td>\n",
       "    </tr>\n",
       "    <tr>\n",
       "      <th>7907256</th>\n",
       "      <td>727.75</td>\n",
       "      <td>90.000000</td>\n",
       "      <td>270.00</td>\n",
       "      <td>992.556095</td>\n",
       "      <td>1.009742e-28</td>\n",
       "      <td>1.983514e+00</td>\n",
       "      <td>2.828131e-11</td>\n",
       "      <td>1.119296e+00</td>\n",
       "      <td>1.392214</td>\n",
       "      <td>0.000000e+00</td>\n",
       "      <td>0.000000</td>\n",
       "      <td>0.000000</td>\n",
       "      <td>0.000000e+00</td>\n",
       "      <td>0.000000</td>\n",
       "    </tr>\n",
       "    <tr>\n",
       "      <th>7907257</th>\n",
       "      <td>727.75</td>\n",
       "      <td>90.000000</td>\n",
       "      <td>271.25</td>\n",
       "      <td>992.556095</td>\n",
       "      <td>1.009742e-28</td>\n",
       "      <td>1.966799e+00</td>\n",
       "      <td>2.828625e-11</td>\n",
       "      <td>1.119491e+00</td>\n",
       "      <td>1.392264</td>\n",
       "      <td>0.000000e+00</td>\n",
       "      <td>0.000000</td>\n",
       "      <td>0.000000</td>\n",
       "      <td>0.000000e+00</td>\n",
       "      <td>0.000000</td>\n",
       "    </tr>\n",
       "    <tr>\n",
       "      <th>7907258</th>\n",
       "      <td>727.75</td>\n",
       "      <td>90.000000</td>\n",
       "      <td>272.50</td>\n",
       "      <td>992.556095</td>\n",
       "      <td>1.009742e-28</td>\n",
       "      <td>1.959279e+00</td>\n",
       "      <td>2.829025e-11</td>\n",
       "      <td>1.119650e+00</td>\n",
       "      <td>1.392288</td>\n",
       "      <td>0.000000e+00</td>\n",
       "      <td>0.000000</td>\n",
       "      <td>0.000000</td>\n",
       "      <td>0.000000e+00</td>\n",
       "      <td>0.000000</td>\n",
       "    </tr>\n",
       "    <tr>\n",
       "      <th>7907263</th>\n",
       "      <td>727.75</td>\n",
       "      <td>90.000000</td>\n",
       "      <td>278.75</td>\n",
       "      <td>992.556095</td>\n",
       "      <td>1.009742e-28</td>\n",
       "      <td>1.959303e+00</td>\n",
       "      <td>2.829038e-11</td>\n",
       "      <td>1.119655e+00</td>\n",
       "      <td>1.392288</td>\n",
       "      <td>0.000000e+00</td>\n",
       "      <td>0.000000</td>\n",
       "      <td>0.000000</td>\n",
       "      <td>0.000000e+00</td>\n",
       "      <td>0.000000</td>\n",
       "    </tr>\n",
       "    <tr>\n",
       "      <th>7907264</th>\n",
       "      <td>727.75</td>\n",
       "      <td>90.000000</td>\n",
       "      <td>280.00</td>\n",
       "      <td>992.556095</td>\n",
       "      <td>1.009742e-28</td>\n",
       "      <td>1.959306e+00</td>\n",
       "      <td>2.829040e-11</td>\n",
       "      <td>1.119656e+00</td>\n",
       "      <td>1.392288</td>\n",
       "      <td>0.000000e+00</td>\n",
       "      <td>0.000000</td>\n",
       "      <td>0.000000</td>\n",
       "      <td>0.000000e+00</td>\n",
       "      <td>0.000000</td>\n",
       "    </tr>\n",
       "    <tr>\n",
       "      <th>7907265</th>\n",
       "      <td>727.75</td>\n",
       "      <td>90.000000</td>\n",
       "      <td>281.25</td>\n",
       "      <td>992.556095</td>\n",
       "      <td>1.009742e-28</td>\n",
       "      <td>1.959310e+00</td>\n",
       "      <td>2.829045e-11</td>\n",
       "      <td>1.119658e+00</td>\n",
       "      <td>1.392288</td>\n",
       "      <td>0.000000e+00</td>\n",
       "      <td>0.000000</td>\n",
       "      <td>0.000000</td>\n",
       "      <td>0.000000e+00</td>\n",
       "      <td>0.000000</td>\n",
       "    </tr>\n",
       "    <tr>\n",
       "      <th>7907267</th>\n",
       "      <td>727.75</td>\n",
       "      <td>90.000000</td>\n",
       "      <td>283.75</td>\n",
       "      <td>992.556095</td>\n",
       "      <td>1.009742e-28</td>\n",
       "      <td>1.959236e+00</td>\n",
       "      <td>2.829058e-11</td>\n",
       "      <td>1.119663e+00</td>\n",
       "      <td>1.392288</td>\n",
       "      <td>0.000000e+00</td>\n",
       "      <td>0.000000</td>\n",
       "      <td>0.000000</td>\n",
       "      <td>0.000000e+00</td>\n",
       "      <td>0.000000</td>\n",
       "    </tr>\n",
       "    <tr>\n",
       "      <th>7907281</th>\n",
       "      <td>727.75</td>\n",
       "      <td>90.000000</td>\n",
       "      <td>301.25</td>\n",
       "      <td>992.556095</td>\n",
       "      <td>1.009742e-28</td>\n",
       "      <td>1.960110e+00</td>\n",
       "      <td>2.829108e-11</td>\n",
       "      <td>1.119683e+00</td>\n",
       "      <td>1.392286</td>\n",
       "      <td>0.000000e+00</td>\n",
       "      <td>0.000000</td>\n",
       "      <td>0.000000</td>\n",
       "      <td>0.000000e+00</td>\n",
       "      <td>0.000000</td>\n",
       "    </tr>\n",
       "    <tr>\n",
       "      <th>7907282</th>\n",
       "      <td>727.75</td>\n",
       "      <td>90.000000</td>\n",
       "      <td>302.50</td>\n",
       "      <td>992.556095</td>\n",
       "      <td>1.009742e-28</td>\n",
       "      <td>1.960116e+00</td>\n",
       "      <td>2.829115e-11</td>\n",
       "      <td>1.119685e+00</td>\n",
       "      <td>1.392286</td>\n",
       "      <td>0.000000e+00</td>\n",
       "      <td>0.000000</td>\n",
       "      <td>0.000000</td>\n",
       "      <td>0.000000e+00</td>\n",
       "      <td>0.000000</td>\n",
       "    </tr>\n",
       "    <tr>\n",
       "      <th>7907283</th>\n",
       "      <td>727.75</td>\n",
       "      <td>90.000000</td>\n",
       "      <td>303.75</td>\n",
       "      <td>992.556095</td>\n",
       "      <td>1.009742e-28</td>\n",
       "      <td>1.960120e+00</td>\n",
       "      <td>2.829118e-11</td>\n",
       "      <td>1.119686e+00</td>\n",
       "      <td>1.392286</td>\n",
       "      <td>0.000000e+00</td>\n",
       "      <td>0.000000</td>\n",
       "      <td>0.000000</td>\n",
       "      <td>0.000000e+00</td>\n",
       "      <td>0.000000</td>\n",
       "    </tr>\n",
       "    <tr>\n",
       "      <th>7907284</th>\n",
       "      <td>727.75</td>\n",
       "      <td>90.000000</td>\n",
       "      <td>305.00</td>\n",
       "      <td>992.556095</td>\n",
       "      <td>1.009742e-28</td>\n",
       "      <td>1.960083e+00</td>\n",
       "      <td>2.829056e-11</td>\n",
       "      <td>1.119662e+00</td>\n",
       "      <td>1.392286</td>\n",
       "      <td>0.000000e+00</td>\n",
       "      <td>0.000000</td>\n",
       "      <td>0.000000</td>\n",
       "      <td>0.000000e+00</td>\n",
       "      <td>0.000000</td>\n",
       "    </tr>\n",
       "    <tr>\n",
       "      <th>7907285</th>\n",
       "      <td>727.75</td>\n",
       "      <td>90.000000</td>\n",
       "      <td>306.25</td>\n",
       "      <td>992.556095</td>\n",
       "      <td>1.009742e-28</td>\n",
       "      <td>1.959577e+00</td>\n",
       "      <td>2.829180e-11</td>\n",
       "      <td>1.119711e+00</td>\n",
       "      <td>1.392287</td>\n",
       "      <td>0.000000e+00</td>\n",
       "      <td>0.000000</td>\n",
       "      <td>0.000000</td>\n",
       "      <td>0.000000e+00</td>\n",
       "      <td>0.000000</td>\n",
       "    </tr>\n",
       "    <tr>\n",
       "      <th>7907293</th>\n",
       "      <td>727.75</td>\n",
       "      <td>90.000000</td>\n",
       "      <td>316.25</td>\n",
       "      <td>992.556095</td>\n",
       "      <td>1.009742e-28</td>\n",
       "      <td>1.976066e+00</td>\n",
       "      <td>2.828514e-11</td>\n",
       "      <td>1.119447e+00</td>\n",
       "      <td>1.392236</td>\n",
       "      <td>0.000000e+00</td>\n",
       "      <td>0.000000</td>\n",
       "      <td>0.000000</td>\n",
       "      <td>0.000000e+00</td>\n",
       "      <td>0.000000</td>\n",
       "    </tr>\n",
       "    <tr>\n",
       "      <th>7907295</th>\n",
       "      <td>727.75</td>\n",
       "      <td>90.000000</td>\n",
       "      <td>318.75</td>\n",
       "      <td>992.556095</td>\n",
       "      <td>1.009742e-28</td>\n",
       "      <td>1.976855e+00</td>\n",
       "      <td>2.828491e-11</td>\n",
       "      <td>1.119438e+00</td>\n",
       "      <td>1.392234</td>\n",
       "      <td>0.000000e+00</td>\n",
       "      <td>0.000000</td>\n",
       "      <td>0.000000</td>\n",
       "      <td>0.000000e+00</td>\n",
       "      <td>0.000000</td>\n",
       "    </tr>\n",
       "    <tr>\n",
       "      <th>7907296</th>\n",
       "      <td>727.75</td>\n",
       "      <td>90.000000</td>\n",
       "      <td>320.00</td>\n",
       "      <td>992.556095</td>\n",
       "      <td>1.009742e-28</td>\n",
       "      <td>1.982566e+00</td>\n",
       "      <td>2.828377e-11</td>\n",
       "      <td>1.119393e+00</td>\n",
       "      <td>1.392217</td>\n",
       "      <td>0.000000e+00</td>\n",
       "      <td>0.000000</td>\n",
       "      <td>0.000000</td>\n",
       "      <td>0.000000e+00</td>\n",
       "      <td>0.000000</td>\n",
       "    </tr>\n",
       "    <tr>\n",
       "      <th>7907300</th>\n",
       "      <td>727.75</td>\n",
       "      <td>90.000000</td>\n",
       "      <td>325.00</td>\n",
       "      <td>992.556095</td>\n",
       "      <td>1.009742e-28</td>\n",
       "      <td>1.982585e+00</td>\n",
       "      <td>2.828398e-11</td>\n",
       "      <td>1.119401e+00</td>\n",
       "      <td>1.392217</td>\n",
       "      <td>0.000000e+00</td>\n",
       "      <td>0.000000</td>\n",
       "      <td>0.000000</td>\n",
       "      <td>0.000000e+00</td>\n",
       "      <td>0.000000</td>\n",
       "    </tr>\n",
       "    <tr>\n",
       "      <th>7907301</th>\n",
       "      <td>727.75</td>\n",
       "      <td>90.000000</td>\n",
       "      <td>326.25</td>\n",
       "      <td>992.556095</td>\n",
       "      <td>1.009742e-28</td>\n",
       "      <td>1.982585e+00</td>\n",
       "      <td>2.828398e-11</td>\n",
       "      <td>1.119401e+00</td>\n",
       "      <td>1.392217</td>\n",
       "      <td>0.000000e+00</td>\n",
       "      <td>0.000000</td>\n",
       "      <td>0.000000</td>\n",
       "      <td>0.000000e+00</td>\n",
       "      <td>0.000000</td>\n",
       "    </tr>\n",
       "    <tr>\n",
       "      <th>7907302</th>\n",
       "      <td>727.75</td>\n",
       "      <td>90.000000</td>\n",
       "      <td>327.50</td>\n",
       "      <td>992.556095</td>\n",
       "      <td>1.009742e-28</td>\n",
       "      <td>1.982581e+00</td>\n",
       "      <td>2.828398e-11</td>\n",
       "      <td>1.119401e+00</td>\n",
       "      <td>1.392217</td>\n",
       "      <td>0.000000e+00</td>\n",
       "      <td>0.000000</td>\n",
       "      <td>0.000000</td>\n",
       "      <td>0.000000e+00</td>\n",
       "      <td>0.000000</td>\n",
       "    </tr>\n",
       "    <tr>\n",
       "      <th>7907305</th>\n",
       "      <td>727.75</td>\n",
       "      <td>90.000000</td>\n",
       "      <td>331.25</td>\n",
       "      <td>992.556095</td>\n",
       "      <td>1.009742e-28</td>\n",
       "      <td>1.982506e+00</td>\n",
       "      <td>2.828404e-11</td>\n",
       "      <td>1.119404e+00</td>\n",
       "      <td>1.392217</td>\n",
       "      <td>0.000000e+00</td>\n",
       "      <td>0.000000</td>\n",
       "      <td>0.000000</td>\n",
       "      <td>0.000000e+00</td>\n",
       "      <td>0.000000</td>\n",
       "    </tr>\n",
       "    <tr>\n",
       "      <th>7907310</th>\n",
       "      <td>727.75</td>\n",
       "      <td>90.000000</td>\n",
       "      <td>337.50</td>\n",
       "      <td>992.556095</td>\n",
       "      <td>1.009742e-28</td>\n",
       "      <td>1.968480e+00</td>\n",
       "      <td>2.828827e-11</td>\n",
       "      <td>1.119571e+00</td>\n",
       "      <td>1.392260</td>\n",
       "      <td>0.000000e+00</td>\n",
       "      <td>0.000000</td>\n",
       "      <td>0.000000</td>\n",
       "      <td>0.000000e+00</td>\n",
       "      <td>0.000000</td>\n",
       "    </tr>\n",
       "    <tr>\n",
       "      <th>7907311</th>\n",
       "      <td>727.75</td>\n",
       "      <td>90.000000</td>\n",
       "      <td>338.75</td>\n",
       "      <td>992.556095</td>\n",
       "      <td>1.009742e-28</td>\n",
       "      <td>1.968480e+00</td>\n",
       "      <td>2.828827e-11</td>\n",
       "      <td>1.119571e+00</td>\n",
       "      <td>1.392260</td>\n",
       "      <td>0.000000e+00</td>\n",
       "      <td>0.000000</td>\n",
       "      <td>0.000000</td>\n",
       "      <td>0.000000e+00</td>\n",
       "      <td>0.000000</td>\n",
       "    </tr>\n",
       "    <tr>\n",
       "      <th>7907314</th>\n",
       "      <td>727.75</td>\n",
       "      <td>90.000000</td>\n",
       "      <td>342.50</td>\n",
       "      <td>992.556095</td>\n",
       "      <td>1.009742e-28</td>\n",
       "      <td>1.968676e+00</td>\n",
       "      <td>2.828806e-11</td>\n",
       "      <td>1.119563e+00</td>\n",
       "      <td>1.392259</td>\n",
       "      <td>0.000000e+00</td>\n",
       "      <td>0.000000</td>\n",
       "      <td>0.000000</td>\n",
       "      <td>0.000000e+00</td>\n",
       "      <td>0.000000</td>\n",
       "    </tr>\n",
       "    <tr>\n",
       "      <th>7907316</th>\n",
       "      <td>727.75</td>\n",
       "      <td>90.000000</td>\n",
       "      <td>345.00</td>\n",
       "      <td>992.556095</td>\n",
       "      <td>1.009742e-28</td>\n",
       "      <td>1.975394e+00</td>\n",
       "      <td>2.828592e-11</td>\n",
       "      <td>1.119478e+00</td>\n",
       "      <td>1.392239</td>\n",
       "      <td>0.000000e+00</td>\n",
       "      <td>0.000000</td>\n",
       "      <td>0.000000</td>\n",
       "      <td>0.000000e+00</td>\n",
       "      <td>0.000000</td>\n",
       "    </tr>\n",
       "    <tr>\n",
       "      <th>7907318</th>\n",
       "      <td>727.75</td>\n",
       "      <td>90.000000</td>\n",
       "      <td>347.50</td>\n",
       "      <td>992.556095</td>\n",
       "      <td>1.009742e-28</td>\n",
       "      <td>1.975354e+00</td>\n",
       "      <td>2.828600e-11</td>\n",
       "      <td>1.119481e+00</td>\n",
       "      <td>1.392239</td>\n",
       "      <td>0.000000e+00</td>\n",
       "      <td>0.000000</td>\n",
       "      <td>0.000000</td>\n",
       "      <td>0.000000e+00</td>\n",
       "      <td>0.000000</td>\n",
       "    </tr>\n",
       "    <tr>\n",
       "      <th>7907323</th>\n",
       "      <td>727.75</td>\n",
       "      <td>90.000000</td>\n",
       "      <td>353.75</td>\n",
       "      <td>992.556095</td>\n",
       "      <td>1.009742e-28</td>\n",
       "      <td>1.973107e+00</td>\n",
       "      <td>2.828641e-11</td>\n",
       "      <td>1.119497e+00</td>\n",
       "      <td>1.392245</td>\n",
       "      <td>0.000000e+00</td>\n",
       "      <td>0.000000</td>\n",
       "      <td>0.000000</td>\n",
       "      <td>0.000000e+00</td>\n",
       "      <td>0.000000</td>\n",
       "    </tr>\n",
       "  </tbody>\n",
       "</table>\n",
       "<p>2400825 rows × 14 columns</p>\n",
       "</div>"
      ],
      "text/plain": [
       "           time        lat     lon         lev     QC_TAU_in     NC_TAU_in  \\\n",
       "605        0.00 -88.115183   36.25  992.556095  8.077936e-28  1.188733e+01   \n",
       "611        0.00 -88.115183   43.75  992.556095  4.038968e-28  8.544121e+00   \n",
       "613        0.00 -88.115183   46.25  992.556095  4.038968e-28  8.785646e+00   \n",
       "614        0.00 -88.115183   47.50  992.556095  4.038968e-28  8.060197e+00   \n",
       "617        0.00 -88.115183   51.25  992.556095  1.009742e-28  4.618555e+00   \n",
       "619        0.00 -88.115183   53.75  992.556095  1.972152e-31  2.602477e-01   \n",
       "892        0.00 -87.172775   35.00  992.556095  3.231174e-27  1.964618e+01   \n",
       "894        0.00 -87.172775   37.50  992.556095  3.231174e-27  2.457674e+01   \n",
       "908        0.00 -87.172775   55.00  992.556095  2.019484e-28  7.030274e+00   \n",
       "1185       0.00 -86.230366   41.25  992.556095  3.231174e-27  2.044247e+01   \n",
       "1192       0.00 -86.230366   50.00  992.556095  8.077936e-28  1.397442e+01   \n",
       "3035       0.00 -80.575916  193.75  992.556095  3.060613e-05  7.986286e+06   \n",
       "3036       0.00 -80.575916  195.00  992.556095  3.714995e-05  9.390421e+06   \n",
       "3037       0.00 -80.575916  196.25  992.556095  3.864962e-05  1.034777e+07   \n",
       "3041       0.00 -80.575916  201.25  992.556095  1.112693e-05  6.695569e+06   \n",
       "3043       0.00 -80.575916  203.75  992.556095  6.659807e-06  3.019833e+06   \n",
       "3094       0.00 -80.575916  267.50  992.556095  6.568745e-21  5.648599e+03   \n",
       "3095       0.00 -80.575916  268.75  992.556095  1.204582e-23  1.325294e+03   \n",
       "3096       0.00 -80.575916  270.00  992.556095  1.292470e-26  1.127213e+03   \n",
       "3315       0.00 -79.633508  183.75  992.556095  8.574079e-06  2.674988e+06   \n",
       "3316       0.00 -79.633508  185.00  992.556095  1.006943e-04  2.052621e+07   \n",
       "3317       0.00 -79.633508  186.25  992.556095  9.697712e-05  2.828810e+07   \n",
       "3318       0.00 -79.633508  187.50  992.556095  1.084877e-04  3.259528e+07   \n",
       "3319       0.00 -79.633508  188.75  992.556095  1.194244e-04  3.426854e+07   \n",
       "3320       0.00 -79.633508  190.00  992.556095  1.019904e-04  2.901667e+07   \n",
       "3321       0.00 -79.633508  191.25  992.556095  1.132776e-04  2.046969e+07   \n",
       "3322       0.00 -79.633508  192.50  992.556095  6.748168e-05  1.396940e+07   \n",
       "3323       0.00 -79.633508  193.75  992.556095  5.432995e-05  1.090339e+07   \n",
       "3324       0.00 -79.633508  195.00  992.556095  4.642371e-05  1.030620e+07   \n",
       "3325       0.00 -79.633508  196.25  992.556095  3.788231e-05  7.991753e+06   \n",
       "...         ...        ...     ...         ...           ...           ...   \n",
       "7907237  727.75  90.000000  246.25  992.556095  1.009742e-28  1.981671e+00   \n",
       "7907243  727.75  90.000000  253.75  992.556095  1.009742e-28  1.981453e+00   \n",
       "7907245  727.75  90.000000  256.25  992.556095  1.009742e-28  1.982374e+00   \n",
       "7907251  727.75  90.000000  263.75  992.556095  1.009742e-28  1.982307e+00   \n",
       "7907254  727.75  90.000000  267.50  992.556095  1.009742e-28  1.982316e+00   \n",
       "7907256  727.75  90.000000  270.00  992.556095  1.009742e-28  1.983514e+00   \n",
       "7907257  727.75  90.000000  271.25  992.556095  1.009742e-28  1.966799e+00   \n",
       "7907258  727.75  90.000000  272.50  992.556095  1.009742e-28  1.959279e+00   \n",
       "7907263  727.75  90.000000  278.75  992.556095  1.009742e-28  1.959303e+00   \n",
       "7907264  727.75  90.000000  280.00  992.556095  1.009742e-28  1.959306e+00   \n",
       "7907265  727.75  90.000000  281.25  992.556095  1.009742e-28  1.959310e+00   \n",
       "7907267  727.75  90.000000  283.75  992.556095  1.009742e-28  1.959236e+00   \n",
       "7907281  727.75  90.000000  301.25  992.556095  1.009742e-28  1.960110e+00   \n",
       "7907282  727.75  90.000000  302.50  992.556095  1.009742e-28  1.960116e+00   \n",
       "7907283  727.75  90.000000  303.75  992.556095  1.009742e-28  1.960120e+00   \n",
       "7907284  727.75  90.000000  305.00  992.556095  1.009742e-28  1.960083e+00   \n",
       "7907285  727.75  90.000000  306.25  992.556095  1.009742e-28  1.959577e+00   \n",
       "7907293  727.75  90.000000  316.25  992.556095  1.009742e-28  1.976066e+00   \n",
       "7907295  727.75  90.000000  318.75  992.556095  1.009742e-28  1.976855e+00   \n",
       "7907296  727.75  90.000000  320.00  992.556095  1.009742e-28  1.982566e+00   \n",
       "7907300  727.75  90.000000  325.00  992.556095  1.009742e-28  1.982585e+00   \n",
       "7907301  727.75  90.000000  326.25  992.556095  1.009742e-28  1.982585e+00   \n",
       "7907302  727.75  90.000000  327.50  992.556095  1.009742e-28  1.982581e+00   \n",
       "7907305  727.75  90.000000  331.25  992.556095  1.009742e-28  1.982506e+00   \n",
       "7907310  727.75  90.000000  337.50  992.556095  1.009742e-28  1.968480e+00   \n",
       "7907311  727.75  90.000000  338.75  992.556095  1.009742e-28  1.968480e+00   \n",
       "7907314  727.75  90.000000  342.50  992.556095  1.009742e-28  1.968676e+00   \n",
       "7907316  727.75  90.000000  345.00  992.556095  1.009742e-28  1.975394e+00   \n",
       "7907318  727.75  90.000000  347.50  992.556095  1.009742e-28  1.975354e+00   \n",
       "7907323  727.75  90.000000  353.75  992.556095  1.009742e-28  1.973107e+00   \n",
       "\n",
       "            QR_TAU_in     NR_TAU_in  RHO_CLUBB_lev       prc_MG2  nprc1_MG2  \\\n",
       "605      7.470971e-11  1.449457e+00       0.975612  0.000000e+00   0.000000   \n",
       "611      7.108500e-11  1.161728e+00       0.971111  0.000000e+00   0.000000   \n",
       "613      4.533217e-11  8.096051e-01       0.969698  0.000000e+00   0.000000   \n",
       "614      2.743556e-11  4.959186e-01       0.969017  0.000000e+00   0.000000   \n",
       "617      4.676030e-13  7.182703e-03       0.967076  0.000000e+00   0.000000   \n",
       "619      1.158085e-24  1.000000e-12       0.965882  0.000000e+00   0.000000   \n",
       "892      1.213756e-10  2.514512e+00       0.972283  0.000000e+00   0.000000   \n",
       "894      5.001474e-10  9.849887e+00       0.970045  0.000000e+00   0.000000   \n",
       "908      6.445941e-13  1.202645e-02       0.957435  0.000000e+00   0.000000   \n",
       "1185     8.539815e-11  1.671159e+00       0.958765  0.000000e+00   0.000000   \n",
       "1192     1.395143e-12  5.551098e-02       0.949674  0.000000e+00   0.000000   \n",
       "3035     2.414426e-10  9.606698e+00       1.256741  9.117566e-12   2.352067   \n",
       "3036     4.451673e-10  1.771265e+01       1.255211  1.231163e-11   3.080643   \n",
       "3037     1.441902e-11  5.737146e-01       1.253513  1.218913e-11   3.237726   \n",
       "3041     1.006267e-12  4.003809e-02       1.246457  9.130301e-13   0.545595   \n",
       "3043     1.691862e-11  6.731495e-01       1.240816  6.362874e-13   0.279868   \n",
       "3094     5.815997e-09  9.103736e+01       1.052937  0.000000e+00   0.000000   \n",
       "3095     6.953407e-09  9.602563e+01       1.061198  0.000000e+00   0.000000   \n",
       "3096     5.974586e-09  8.322849e+01       1.071478  0.000000e+00   0.000000   \n",
       "3315     5.573823e-09  2.217754e+02       1.262987  3.781543e-13   0.359234   \n",
       "3316     9.846347e-09  3.917737e+02       1.259999  6.072060e-11  12.283717   \n",
       "3317     2.253944e-08  8.968157e+02       1.255412  4.036443e-11  11.335663   \n",
       "3318     6.654604e-08  2.647783e+03       1.251785  4.584714e-11  13.225120   \n",
       "3319     7.766645e-08  3.090250e+03       1.249547  5.556303e-11  15.195550   \n",
       "3320     4.177832e-08  1.662307e+03       1.248132  4.493310e-11  12.259400   \n",
       "3321     1.964513e-08  7.816547e+02       1.247983  8.352496e-11  14.783302   \n",
       "3322     2.053786e-10  8.171756e+00       1.248032  3.505066e-11   7.166316   \n",
       "3323     4.033355e-11  1.604821e+00       1.246278  2.616290e-11   5.438290   \n",
       "3324     2.549534e-11  1.014427e+00       1.244664  1.889274e-11   4.263343   \n",
       "3325     2.016655e-11  8.024015e-01       1.243759  1.533510e-11   3.249761   \n",
       "...               ...           ...            ...           ...        ...   \n",
       "7907237  2.828240e-11  1.119339e+00       1.392219  0.000000e+00   0.000000   \n",
       "7907243  2.828166e-11  1.119309e+00       1.392220  0.000000e+00   0.000000   \n",
       "7907245  2.828161e-11  1.119308e+00       1.392217  0.000000e+00   0.000000   \n",
       "7907251  2.828135e-11  1.119297e+00       1.392217  0.000000e+00   0.000000   \n",
       "7907254  2.828145e-11  1.119301e+00       1.392217  0.000000e+00   0.000000   \n",
       "7907256  2.828131e-11  1.119296e+00       1.392214  0.000000e+00   0.000000   \n",
       "7907257  2.828625e-11  1.119491e+00       1.392264  0.000000e+00   0.000000   \n",
       "7907258  2.829025e-11  1.119650e+00       1.392288  0.000000e+00   0.000000   \n",
       "7907263  2.829038e-11  1.119655e+00       1.392288  0.000000e+00   0.000000   \n",
       "7907264  2.829040e-11  1.119656e+00       1.392288  0.000000e+00   0.000000   \n",
       "7907265  2.829045e-11  1.119658e+00       1.392288  0.000000e+00   0.000000   \n",
       "7907267  2.829058e-11  1.119663e+00       1.392288  0.000000e+00   0.000000   \n",
       "7907281  2.829108e-11  1.119683e+00       1.392286  0.000000e+00   0.000000   \n",
       "7907282  2.829115e-11  1.119685e+00       1.392286  0.000000e+00   0.000000   \n",
       "7907283  2.829118e-11  1.119686e+00       1.392286  0.000000e+00   0.000000   \n",
       "7907284  2.829056e-11  1.119662e+00       1.392286  0.000000e+00   0.000000   \n",
       "7907285  2.829180e-11  1.119711e+00       1.392287  0.000000e+00   0.000000   \n",
       "7907293  2.828514e-11  1.119447e+00       1.392236  0.000000e+00   0.000000   \n",
       "7907295  2.828491e-11  1.119438e+00       1.392234  0.000000e+00   0.000000   \n",
       "7907296  2.828377e-11  1.119393e+00       1.392217  0.000000e+00   0.000000   \n",
       "7907300  2.828398e-11  1.119401e+00       1.392217  0.000000e+00   0.000000   \n",
       "7907301  2.828398e-11  1.119401e+00       1.392217  0.000000e+00   0.000000   \n",
       "7907302  2.828398e-11  1.119401e+00       1.392217  0.000000e+00   0.000000   \n",
       "7907305  2.828404e-11  1.119404e+00       1.392217  0.000000e+00   0.000000   \n",
       "7907310  2.828827e-11  1.119571e+00       1.392260  0.000000e+00   0.000000   \n",
       "7907311  2.828827e-11  1.119571e+00       1.392260  0.000000e+00   0.000000   \n",
       "7907314  2.828806e-11  1.119563e+00       1.392259  0.000000e+00   0.000000   \n",
       "7907316  2.828592e-11  1.119478e+00       1.392239  0.000000e+00   0.000000   \n",
       "7907318  2.828600e-11  1.119481e+00       1.392239  0.000000e+00   0.000000   \n",
       "7907323  2.828641e-11  1.119497e+00       1.392245  0.000000e+00   0.000000   \n",
       "\n",
       "         nprc_MG2       pra_MG2  npra_MG2  \n",
       "605      0.000000  0.000000e+00  0.000000  \n",
       "611      0.000000  0.000000e+00  0.000000  \n",
       "613      0.000000  0.000000e+00  0.000000  \n",
       "614      0.000000  0.000000e+00  0.000000  \n",
       "617      0.000000  0.000000e+00  0.000000  \n",
       "619      0.000000  0.000000e+00  0.000000  \n",
       "892      0.000000  0.000000e+00  0.000000  \n",
       "894      0.000000  0.000000e+00  0.000000  \n",
       "908      0.000000  0.000000e+00  0.000000  \n",
       "1185     0.000000  0.000000e+00  0.000000  \n",
       "1192     0.000000  0.000000e+00  0.000000  \n",
       "3035     0.139306  3.790150e-15  0.000978  \n",
       "3036     0.188108  9.571815e-15  0.002395  \n",
       "3037     0.186236  1.939696e-16  0.000052  \n",
       "3041     0.013950  2.168665e-18  0.000001  \n",
       "3043     0.009722  3.085611e-17  0.000014  \n",
       "3094     0.000000  0.000000e+00  0.000000  \n",
       "3095     0.000000  0.000000e+00  0.000000  \n",
       "3096     0.000000  0.000000e+00  0.000000  \n",
       "3315     0.005778  3.243264e-14  0.030810  \n",
       "3316     0.927742  1.060382e-12  0.214514  \n",
       "3317     0.616723  2.632054e-12  0.739168  \n",
       "3318     0.700493  1.039965e-11  2.999895  \n",
       "3319     0.848941  1.387287e-11  3.793995  \n",
       "3320     0.686527  5.671233e-12  1.547321  \n",
       "3321     1.276167  2.686885e-12  0.475559  \n",
       "3322     0.535535  7.811650e-15  0.001597  \n",
       "3323     0.399740  1.008908e-15  0.000210  \n",
       "3324     0.288660  4.612339e-16  0.000104  \n",
       "3325     0.234303  2.787846e-16  0.000059  \n",
       "...           ...           ...       ...  \n",
       "7907237  0.000000  0.000000e+00  0.000000  \n",
       "7907243  0.000000  0.000000e+00  0.000000  \n",
       "7907245  0.000000  0.000000e+00  0.000000  \n",
       "7907251  0.000000  0.000000e+00  0.000000  \n",
       "7907254  0.000000  0.000000e+00  0.000000  \n",
       "7907256  0.000000  0.000000e+00  0.000000  \n",
       "7907257  0.000000  0.000000e+00  0.000000  \n",
       "7907258  0.000000  0.000000e+00  0.000000  \n",
       "7907263  0.000000  0.000000e+00  0.000000  \n",
       "7907264  0.000000  0.000000e+00  0.000000  \n",
       "7907265  0.000000  0.000000e+00  0.000000  \n",
       "7907267  0.000000  0.000000e+00  0.000000  \n",
       "7907281  0.000000  0.000000e+00  0.000000  \n",
       "7907282  0.000000  0.000000e+00  0.000000  \n",
       "7907283  0.000000  0.000000e+00  0.000000  \n",
       "7907284  0.000000  0.000000e+00  0.000000  \n",
       "7907285  0.000000  0.000000e+00  0.000000  \n",
       "7907293  0.000000  0.000000e+00  0.000000  \n",
       "7907295  0.000000  0.000000e+00  0.000000  \n",
       "7907296  0.000000  0.000000e+00  0.000000  \n",
       "7907300  0.000000  0.000000e+00  0.000000  \n",
       "7907301  0.000000  0.000000e+00  0.000000  \n",
       "7907302  0.000000  0.000000e+00  0.000000  \n",
       "7907305  0.000000  0.000000e+00  0.000000  \n",
       "7907310  0.000000  0.000000e+00  0.000000  \n",
       "7907311  0.000000  0.000000e+00  0.000000  \n",
       "7907314  0.000000  0.000000e+00  0.000000  \n",
       "7907316  0.000000  0.000000e+00  0.000000  \n",
       "7907318  0.000000  0.000000e+00  0.000000  \n",
       "7907323  0.000000  0.000000e+00  0.000000  \n",
       "\n",
       "[2400825 rows x 14 columns]"
      ]
     },
     "execution_count": 37,
     "metadata": {},
     "output_type": "execute_result"
    }
   ],
   "source": [
    "in_df_sub"
   ]
  },
  {
   "cell_type": "code",
   "execution_count": 38,
   "metadata": {},
   "outputs": [],
   "source": [
    "in_df_sub.to_csv(\"/glade2/work/dgagne/cam_mp_csv/cam_mp_*.csv\")"
   ]
  },
  {
   "cell_type": "code",
   "execution_count": 45,
   "metadata": {},
   "outputs": [],
   "source": [
    "mp_csv_data = []\n",
    "csv_path = \"/glade2/work/dgagne/cam_mp_csv\"\n",
    "for i in range(5):\n",
    "    mp_csv_data.append(pd.read_csv(join(csv_path, \"cam_mp_{0:d}.csv\".format(i)), index_col=0))\n",
    "mp_data = pd.concat(mp_csv_data)"
   ]
  },
  {
   "cell_type": "code",
   "execution_count": 108,
   "metadata": {},
   "outputs": [],
   "source": [
    "min_max_mp = MinMaxScaler()\n",
    "mp_scaled = pd.DataFrame(min_max_mp.fit_transform(np.sqrt(mp_data[input_cols + output_cols])), \n",
    "                         index=mp_data.index, columns=[input_cols + output_cols])"
   ]
  },
  {
   "cell_type": "code",
   "execution_count": 62,
   "metadata": {},
   "outputs": [],
   "source": [
    "shuffled_indices = np.random.permutation(mp_scaled.index.values)\n",
    "split = int(0.7 * len(shuffled_indices))\n",
    "train_indices = shuffled_indices[:split]\n",
    "test_indices = shuffled_indices[split:]"
   ]
  },
  {
   "cell_type": "code",
   "execution_count": 64,
   "metadata": {},
   "outputs": [],
   "source": [
    "input_cols = ['QC_TAU_in', 'NC_TAU_in', 'QR_TAU_in', 'NR_TAU_in', 'RHO_CLUBB_lev']\n",
    "output_cols = ['prc_MG2', 'nprc1_MG2', 'nprc_MG2', 'pra_MG2', 'npra_MG2']"
   ]
  },
  {
   "cell_type": "code",
   "execution_count": 119,
   "metadata": {},
   "outputs": [
    {
     "name": "stdout",
     "output_type": "stream",
     "text": [
      "_________________________________________________________________\n",
      "Layer (type)                 Output Shape              Param #   \n",
      "=================================================================\n",
      "input_13 (InputLayer)        (None, 5)                 0         \n",
      "_________________________________________________________________\n",
      "dense_37 (Dense)             (None, 64)                384       \n",
      "_________________________________________________________________\n",
      "activation_37 (Activation)   (None, 64)                0         \n",
      "_________________________________________________________________\n",
      "dense_38 (Dense)             (None, 64)                4160      \n",
      "_________________________________________________________________\n",
      "activation_38 (Activation)   (None, 64)                0         \n",
      "_________________________________________________________________\n",
      "dense_39 (Dense)             (None, 5)                 325       \n",
      "=================================================================\n",
      "Total params: 4,869\n",
      "Trainable params: 4,869\n",
      "Non-trainable params: 0\n",
      "_________________________________________________________________\n"
     ]
    }
   ],
   "source": [
    "mp_in = Input(shape=(len(input_cols),))\n",
    "mp_mod = Dense(64, kernel_regularizer=l2(0.00001))(mp_in)\n",
    "mp_mod = Activation(\"relu\")(mp_mod)\n",
    "mp_mod = Dense(64, kernel_regularizer=l2(0.00001))(mp_mod)\n",
    "mp_mod = Activation(\"relu\")(mp_mod)\n",
    "mp_mod = Dense(len(output_cols))(mp_mod)\n",
    "mp_model = Model(mp_in, mp_mod)\n",
    "mp_model.compile(optimizer=\"adam\", loss=\"mse\")\n",
    "mp_model.summary()"
   ]
  },
  {
   "cell_type": "code",
   "execution_count": 120,
   "metadata": {},
   "outputs": [
    {
     "name": "stdout",
     "output_type": "stream",
     "text": [
      "Epoch 1/15\n",
      " - 4s - loss: 5.6295e-04\n",
      "Epoch 2/15\n",
      " - 3s - loss: 2.1745e-04\n",
      "Epoch 3/15\n",
      " - 3s - loss: 1.5603e-04\n",
      "Epoch 4/15\n",
      " - 3s - loss: 1.2428e-04\n",
      "Epoch 5/15\n",
      " - 3s - loss: 1.0596e-04\n",
      "Epoch 6/15\n",
      " - 3s - loss: 9.4635e-05\n",
      "Epoch 7/15\n",
      " - 3s - loss: 8.7271e-05\n",
      "Epoch 8/15\n",
      " - 3s - loss: 8.2605e-05\n",
      "Epoch 9/15\n",
      " - 3s - loss: 7.8950e-05\n",
      "Epoch 10/15\n",
      " - 3s - loss: 7.6085e-05\n",
      "Epoch 11/15\n",
      " - 3s - loss: 7.4088e-05\n",
      "Epoch 12/15\n",
      " - 3s - loss: 7.2088e-05\n",
      "Epoch 13/15\n",
      " - 3s - loss: 7.0465e-05\n",
      "Epoch 14/15\n",
      " - 3s - loss: 6.9050e-05\n",
      "Epoch 15/15\n",
      " - 3s - loss: 6.7804e-05\n"
     ]
    }
   ],
   "source": [
    "fit_hist = mp_model.fit(mp_scaled.loc[train_indices, input_cols], \n",
    "                        mp_scaled.loc[train_indices, output_cols], batch_size=2048, epochs=15, verbose=2)"
   ]
  },
  {
   "cell_type": "code",
   "execution_count": 121,
   "metadata": {},
   "outputs": [],
   "source": [
    "mp_preds = mp_model.predict(mp_scaled.loc[test_indices, input_cols])"
   ]
  },
  {
   "cell_type": "code",
   "execution_count": 123,
   "metadata": {},
   "outputs": [
    {
     "data": {
      "text/plain": [
       "-0.028610721"
      ]
     },
     "execution_count": 123,
     "metadata": {},
     "output_type": "execute_result"
    }
   ],
   "source": [
    "mp_preds.min()"
   ]
  },
  {
   "cell_type": "code",
   "execution_count": 134,
   "metadata": {},
   "outputs": [
    {
     "data": {
      "text/plain": [
       "array([[0.        ],\n",
       "       [0.        ],\n",
       "       [0.02879968],\n",
       "       ...,\n",
       "       [0.10836479],\n",
       "       [0.        ],\n",
       "       [0.        ]])"
      ]
     },
     "execution_count": 134,
     "metadata": {},
     "output_type": "execute_result"
    }
   ],
   "source": [
    "mp_scaled.loc[test_indices, output_cols[a]].values"
   ]
  },
  {
   "cell_type": "code",
   "execution_count": 135,
   "metadata": {},
   "outputs": [
    {
     "data": {
      "text/plain": [
       "array([[1.       , 0.9860876],\n",
       "       [0.9860876, 1.       ]])"
      ]
     },
     "execution_count": 135,
     "metadata": {},
     "output_type": "execute_result"
    }
   ],
   "source": [
    "np.corrcoef(mp_preds[:, a], \n",
    "            mp_scaled.loc[test_indices, output_cols[a]].values.ravel())"
   ]
  },
  {
   "cell_type": "code",
   "execution_count": 138,
   "metadata": {},
   "outputs": [
    {
     "data": {
      "image/png": "[encoded data removed]",
      "text/plain": [
       "<Figure size 864x576 with 5 Axes>"
      ]
     },
     "metadata": {},
     "output_type": "display_data"
    }
   ],
   "source": [
    "fig, axes = plt.subplots(2, 3, figsize=(12, 8), sharex=True, sharey=True)\n",
    "plt.subplots_adjust(hspace=0.15, wspace=0.15)\n",
    "for a, ax in enumerate(axes.ravel()):\n",
    "    if a < len(output_cols):\n",
    "        ax.scatter(mp_preds[:, a], mp_scaled.loc[test_indices, output_cols[a]], 3, \"r\")\n",
    "        ax.plot(np.linspace(0, 1, 5), np.linspace(0, 1, 5), 'k--')\n",
    "        ax.text(0.1, 0.85, \"R$^2$: {0:0.3f}\".format(np.corrcoef(mp_preds[:, a], \n",
    "                                                               mp_scaled.loc[test_indices, output_cols[a]].values.ravel())[0, 1] ** 2),\n",
    "               fontsize=12)\n",
    "        ax.set_title(output_cols[a], fontsize=14)\n",
    "    else:\n",
    "        ax.remove()\n",
    "    if a > 2:\n",
    "        ax.set_xlabel(\"Neural Network Emulator\", fontsize=12)\n",
    "    if a % 3 == 0:\n",
    "        ax.set_ylabel(\"MG2 Microphysics\", fontsize=12)\n",
    "plt.savefig(\"nn_error_scatter.png\", dpi=200, bbox_inches=\"tight\")"
   ]
  },
  {
   "cell_type": "code",
   "execution_count": null,
   "metadata": {},
   "outputs": [],
   "source": []
  },
  {
   "cell_type": "code",
   "execution_count": 29,
   "metadata": {},
   "outputs": [],
   "source": [
    "qc = ds[\"QC_TAU_in\"][20]"
   ]
  },
  {
   "cell_type": "code",
   "execution_count": 10,
   "metadata": {},
   "outputs": [
    {
     "data": {
      "text/plain": [
       "<xarray.DataArray 'QC_TAU_in' (time: 143, lev: 32, lat: 192, lon: 288)>\n",
       "dask.array<shape=(143, 32, 192, 288), dtype=float32, chunksize=(30, 32, 192, 288)>\n",
       "Coordinates:\n",
       "  * lat      (lat) float64 -90.0 -89.06 -88.12 -87.17 -86.23 -85.29 -84.35 ...\n",
       "  * lon      (lon) float64 0.0 1.25 2.5 3.75 5.0 6.25 7.5 8.75 10.0 11.25 ...\n",
       "  * lev      (lev) float64 3.643 7.595 14.36 24.61 35.92 43.19 51.68 61.52 ...\n",
       "  * time     (time) float64 0.0 5.125 10.25 15.38 20.5 25.62 30.75 35.88 ...\n",
       "Attributes:\n",
       "    mdims:      1\n",
       "    units:      kg/kg\n",
       "    long_name:  qc in TAU"
      ]
     },
     "execution_count": 10,
     "metadata": {},
     "output_type": "execute_result"
    }
   ],
   "source": [
    "ds[\"QC_TAU_in\"]"
   ]
  },
  {
   "cell_type": "code",
   "execution_count": 20,
   "metadata": {},
   "outputs": [
    {
     "data": {
      "text/plain": [
       "<xarray.Dataset>\n",
       "Dimensions:       (ilev: 33, lat: 192, lev: 32, lon: 288, nbnd: 2, time: 143)\n",
       "Coordinates:\n",
       "  * ilev          (ilev) float64 2.255 5.032 10.16 18.56 29.73 39.27 47.11 ...\n",
       "  * lat           (lat) float64 -90.0 -89.06 -88.12 -87.17 -86.23 -85.29 ...\n",
       "  * lev           (lev) float64 3.643 7.595 14.36 24.61 35.92 43.19 51.68 ...\n",
       "  * lon           (lon) float64 0.0 1.25 2.5 3.75 5.0 6.25 7.5 8.75 10.0 ...\n",
       "  * time          (time) float64 0.0 5.125 10.25 15.38 20.5 25.62 30.75 ...\n",
       "Dimensions without coordinates: nbnd\n",
       "Data variables:\n",
       "    NC_TAU_in     (time, lev, lat, lon) float32 dask.array<shape=(143, 32, 192, 288), chunksize=(30, 32, 192, 288)>\n",
       "    NR_TAU_in     (time, lev, lat, lon) float32 dask.array<shape=(143, 32, 192, 288), chunksize=(30, 32, 192, 288)>\n",
       "    P0            (time) float64 1e+05 1e+05 1e+05 1e+05 1e+05 1e+05 1e+05 ...\n",
       "    PS            (time, lat, lon) float32 dask.array<shape=(143, 192, 288), chunksize=(30, 192, 288)>\n",
       "    QC_TAU_in     (time, lev, lat, lon) float32 dask.array<shape=(143, 32, 192, 288), chunksize=(30, 32, 192, 288)>\n",
       "    QR_TAU_in     (time, lev, lat, lon) float32 dask.array<shape=(143, 32, 192, 288), chunksize=(30, 32, 192, 288)>\n",
       "    RHO_CLUBB     (time, ilev, lat, lon) float32 dask.array<shape=(143, 33, 192, 288), chunksize=(30, 33, 192, 288)>\n",
       "    ch4vmr        (time) float64 dask.array<shape=(143,), chunksize=(30,)>\n",
       "    co2vmr        (time) float64 dask.array<shape=(143,), chunksize=(30,)>\n",
       "    date          (time) int32 dask.array<shape=(143,), chunksize=(30,)>\n",
       "    date_written  (time) |S8 dask.array<shape=(143,), chunksize=(30,)>\n",
       "    datesec       (time) int32 dask.array<shape=(143,), chunksize=(30,)>\n",
       "    f11vmr        (time) float64 dask.array<shape=(143,), chunksize=(30,)>\n",
       "    f12vmr        (time) float64 dask.array<shape=(143,), chunksize=(30,)>\n",
       "    gw            (time, lat) float64 dask.array<shape=(143, 192), chunksize=(30, 192)>\n",
       "    hyai          (time, ilev) float64 dask.array<shape=(143, 33), chunksize=(30, 33)>\n",
       "    hyam          (time, lev) float64 dask.array<shape=(143, 32), chunksize=(30, 32)>\n",
       "    hybi          (time, ilev) float64 dask.array<shape=(143, 33), chunksize=(30, 33)>\n",
       "    hybm          (time, lev) float64 dask.array<shape=(143, 32), chunksize=(30, 32)>\n",
       "    mdt           (time) int32 1800 1800 1800 1800 1800 1800 1800 1800 1800 ...\n",
       "    n2ovmr        (time) float64 dask.array<shape=(143,), chunksize=(30,)>\n",
       "    nbdate        (time) int32 10101 10101 10101 10101 10101 10101 10101 ...\n",
       "    nbsec         (time) int32 0 0 0 0 0 0 0 0 0 0 0 0 0 0 0 0 0 0 0 0 0 0 0 ...\n",
       "    nctend_MG2    (time, lev, lat, lon) float32 dask.array<shape=(143, 32, 192, 288), chunksize=(30, 32, 192, 288)>\n",
       "    ndbase        (time) int32 0 0 0 0 0 0 0 0 0 0 0 0 0 0 0 0 0 0 0 0 0 0 0 ...\n",
       "    ndcur         (time) int32 dask.array<shape=(143,), chunksize=(30,)>\n",
       "    npra_MG2      (time, lev, lat, lon) float32 dask.array<shape=(143, 32, 192, 288), chunksize=(30, 32, 192, 288)>\n",
       "    nprc1_MG2     (time, lev, lat, lon) float32 dask.array<shape=(143, 32, 192, 288), chunksize=(30, 32, 192, 288)>\n",
       "    nprc_MG2      (time, lev, lat, lon) float32 dask.array<shape=(143, 32, 192, 288), chunksize=(30, 32, 192, 288)>\n",
       "    nragg_MG2     (time, lev, lat, lon) float32 dask.array<shape=(143, 32, 192, 288), chunksize=(30, 32, 192, 288)>\n",
       "    nrtend_MG2    (time, lev, lat, lon) float32 dask.array<shape=(143, 32, 192, 288), chunksize=(30, 32, 192, 288)>\n",
       "    nsbase        (time) int32 0 0 0 0 0 0 0 0 0 0 0 0 0 0 0 0 0 0 0 0 0 0 0 ...\n",
       "    nscur         (time) int32 dask.array<shape=(143,), chunksize=(30,)>\n",
       "    nsteph        (time) int32 dask.array<shape=(143,), chunksize=(30,)>\n",
       "    pra_MG2       (time, lev, lat, lon) float32 dask.array<shape=(143, 32, 192, 288), chunksize=(30, 32, 192, 288)>\n",
       "    prc_MG2       (time, lev, lat, lon) float32 dask.array<shape=(143, 32, 192, 288), chunksize=(30, 32, 192, 288)>\n",
       "    qctend_MG2    (time, lev, lat, lon) float32 dask.array<shape=(143, 32, 192, 288), chunksize=(30, 32, 192, 288)>\n",
       "    qrtend_MG2    (time, lev, lat, lon) float32 dask.array<shape=(143, 32, 192, 288), chunksize=(30, 32, 192, 288)>\n",
       "    sol_tsi       (time) float64 dask.array<shape=(143,), chunksize=(30,)>\n",
       "    time_bnds     (time, nbnd) float64 dask.array<shape=(143, 2), chunksize=(30, 2)>\n",
       "    time_written  (time) |S8 dask.array<shape=(143,), chunksize=(30,)>\n",
       "Attributes:\n",
       "    Conventions:       CF-1.0\n",
       "    source:            CAM\n",
       "    case:              TAU_run1\n",
       "    logname:           cchen\n",
       "    host:              cheyenne5\n",
       "    initial_file:      b.e20.BHIST.f09_g17.20thC.297_01_v2.cam.i.2000-01-01-0...\n",
       "    topography_file:   /glade/p/cesmdata/cseg/inputdata/atm/cam/topo/fv_0.9x1...\n",
       "    model_doi_url:     https://doi.org/10.5065/D67H1H0V\n",
       "    time_period_freq:  hour_123\n",
       "    history:           Thu Jul  5 10:42:35 2018: ncks --fix_rec_dmn time TAU_...\n",
       "    NCO:               netCDF Operators version 4.7.4 (http://nco.sf.net)"
      ]
     },
     "execution_count": 20,
     "metadata": {},
     "output_type": "execute_result"
    }
   ],
   "source": [
    "ds"
   ]
  },
  {
   "cell_type": "code",
   "execution_count": 23,
   "metadata": {},
   "outputs": [
    {
     "name": "stderr",
     "output_type": "stream",
     "text": [
      "Future exception was never retrieved\n",
      "future: <Future finished exception=WebSocketClosedError()>\n",
      "Traceback (most recent call last):\n",
      "  File \"/glade/u/home/dgagne/miniconda3/envs/deep/lib/python3.6/site-packages/tornado/websocket.py\", line 808, in wrapper\n",
      "    yield fut\n",
      "  File \"/glade/u/home/dgagne/miniconda3/envs/deep/lib/python3.6/site-packages/tornado/gen.py\", line 1099, in run\n",
      "    value = future.result()\n",
      "tornado.iostream.StreamClosedError: Stream is closed\n",
      "\n",
      "During handling of the above exception, another exception occurred:\n",
      "\n",
      "Traceback (most recent call last):\n",
      "  File \"/glade/u/home/dgagne/miniconda3/envs/deep/lib/python3.6/site-packages/tornado/gen.py\", line 1107, in run\n",
      "    yielded = self.gen.throw(*exc_info)\n",
      "  File \"/glade/u/home/dgagne/miniconda3/envs/deep/lib/python3.6/site-packages/tornado/websocket.py\", line 810, in wrapper\n",
      "    raise WebSocketClosedError()\n",
      "tornado.websocket.WebSocketClosedError\n",
      "Future exception was never retrieved\n",
      "future: <Future finished exception=WebSocketClosedError()>\n",
      "Traceback (most recent call last):\n",
      "  File \"/glade/u/home/dgagne/miniconda3/envs/deep/lib/python3.6/site-packages/tornado/websocket.py\", line 808, in wrapper\n",
      "    yield fut\n",
      "  File \"/glade/u/home/dgagne/miniconda3/envs/deep/lib/python3.6/site-packages/tornado/gen.py\", line 1099, in run\n",
      "    value = future.result()\n",
      "tornado.iostream.StreamClosedError: Stream is closed\n",
      "\n",
      "During handling of the above exception, another exception occurred:\n",
      "\n",
      "Traceback (most recent call last):\n",
      "  File \"/glade/u/home/dgagne/miniconda3/envs/deep/lib/python3.6/site-packages/tornado/gen.py\", line 1107, in run\n",
      "    yielded = self.gen.throw(*exc_info)\n",
      "  File \"/glade/u/home/dgagne/miniconda3/envs/deep/lib/python3.6/site-packages/tornado/websocket.py\", line 810, in wrapper\n",
      "    raise WebSocketClosedError()\n",
      "tornado.websocket.WebSocketClosedError\n"
     ]
    }
   ],
   "source": [
    "@delayed\n",
    "def find_nonzero_outputs():\n",
    "    output_vars = [\"prc_MG2\", \"nprc1_MG2\", \"nprc_MG2\", \"pra_MG2\", \"npra_MG2\"]\n",
    "    nz_counts = xr.DataArray(np.zeros((len(output_vars), ds[\"time\"].size, ds[\"lev\"].size, ds[\"lat\"].size)))\n",
    "    for v, var in enumerate(output_vars):\n",
    "        for t in range(qc_nz_counts.shape[0]):\n",
    "            nz_counts[v, t] = ds[var][t].where(ds[var][t] > 0, 1, 0).sum(axis=2)\n",
    "    return nz_counts\n",
    "\n",
    "nz_counts = find_nonzero_outputs().compute()"
   ]
  },
  {
   "cell_type": "code",
   "execution_count": 32,
   "metadata": {},
   "outputs": [
    {
     "data": {
      "text/plain": [
       "Text(0.5,0,'Latitude (degrees)')"
      ]
     },
     "execution_count": 32,
     "metadata": {},
     "output_type": "execute_result"
    },
    {
     "data": {
      "image/png": "[encoded data removed]",
      "text/plain": [
       "<Figure size 720x432 with 2 Axes>"
      ]
     },
     "metadata": {},
     "output_type": "display_data"
    }
   ],
   "source": [
    "plt.figure(figsize=(10, 6))\n",
    "lat_lev_cross = nz_counts[0].sum(axis=0)\n",
    "plt.contourf(ds[\"lat\"], ds[\"lev\"], np.ma.array(lat_lev_cross, mask=lat_lev_cross==0), 10, vmin=1)\n",
    "plt.colorbar()\n",
    "plt.gca().set_yscale(\"log\")\n",
    "plt.gca().invert_yaxis()\n",
    "plt.ylabel(\"Model Level (hPa)\")\n",
    "plt.xlabel(\"Latitude (degrees)\")"
   ]
  },
  {
   "cell_type": "code",
   "execution_count": 25,
   "metadata": {},
   "outputs": [
    {
     "data": {
      "text/plain": [
       "<xarray.DataArray ()>\n",
       "array(2231472.5)"
      ]
     },
     "execution_count": 25,
     "metadata": {},
     "output_type": "execute_result"
    }
   ],
   "source": [
    "nz_counts."
   ]
  },
  {
   "cell_type": "code",
   "execution_count": 14,
   "metadata": {},
   "outputs": [
    {
     "data": {
      "text/plain": [
       "Text(0.5,0,'Latitude (degrees)')"
      ]
     },
     "execution_count": 14,
     "metadata": {},
     "output_type": "execute_result"
    },
    {
     "data": {
      "image/png": "[encoded data removed]",
      "text/plain": [
       "<Figure size 720x432 with 2 Axes>"
      ]
     },
     "metadata": {},
     "output_type": "display_data"
    }
   ],
   "source": [
    "plt.figure(figsize=(10, 6))\n",
    "lat_time_cross = qc_nz_counts.sum(axis=1)\n",
    "plt.contourf(ds[\"lat\"], ds[\"time\"], np.ma.array(lat_time_cross, mask=lat_time_cross==0), 20, vmin=1)\n",
    "plt.colorbar()\n",
    "plt.gca().invert_yaxis()\n",
    "plt.ylabel(\"Time (days)\")\n",
    "plt.xlabel(\"Latitude (degrees)\")"
   ]
  },
  {
   "cell_type": "code",
   "execution_count": 15,
   "metadata": {},
   "outputs": [
    {
     "data": {
      "text/plain": [
       "Text(0,0.5,'Level (hPa)')"
      ]
     },
     "execution_count": 15,
     "metadata": {},
     "output_type": "execute_result"
    },
    {
     "data": {
      "image/png": "[encoded data removed]",
      "text/plain": [
       "<Figure size 720x432 with 2 Axes>"
      ]
     },
     "metadata": {},
     "output_type": "display_data"
    }
   ],
   "source": [
    "plt.figure(figsize=(10, 6))\n",
    "time_lev_cross = qc_nz_counts.sum(axis=2)\n",
    "plt.contourf(ds[\"time\"], ds[\"lev\"], np.ma.array(time_lev_cross, mask=time_lev_cross==0).T, 20, vmin=1)\n",
    "plt.colorbar()\n",
    "#plt.gca().set_yscale(\"log\")\n",
    "plt.gca().invert_yaxis()\n",
    "plt.xlabel(\"Time (days)\")\n",
    "plt.ylabel(\"Level (hPa)\")"
   ]
  },
  {
   "cell_type": "code",
   "execution_count": 30,
   "metadata": {},
   "outputs": [
    {
     "data": {
      "text/plain": [
       "0.2273220486111111"
      ]
     },
     "execution_count": 30,
     "metadata": {},
     "output_type": "execute_result"
    }
   ],
   "source": [
    "np.count_nonzero(qc.values > 0) / qc.values.size"
   ]
  },
  {
   "cell_type": "code",
   "execution_count": 23,
   "metadata": {},
   "outputs": [
    {
     "data": {
      "text/plain": [
       "<matplotlib.contour.QuadContourSet at 0x2aaf879c79e8>"
      ]
     },
     "execution_count": 23,
     "metadata": {},
     "output_type": "execute_result"
    },
    {
     "data": {
      "image/png": "[encoded data removed]",
      "text/plain": [
       "<Figure size 432x288 with 1 Axes>"
      ]
     },
     "metadata": {},
     "output_type": "display_data"
    }
   ],
   "source": [
    "plt.contourf(qc[\"lon\"], qc[\"lat\"], qc[10])"
   ]
  },
  {
   "cell_type": "code",
   "execution_count": 7,
   "metadata": {},
   "outputs": [
    {
     "ename": "IndexError",
     "evalue": "3-dimensional boolean indexing is not supported. ",
     "output_type": "error",
     "traceback": [
      "\u001b[0;31m---------------------------------------------------------------------------\u001b[0m",
      "\u001b[0;31mIndexError\u001b[0m                                Traceback (most recent call last)",
      "\u001b[0;32m<ipython-input-7-830def183b2e>\u001b[0m in \u001b[0;36m<module>\u001b[0;34m()\u001b[0m\n\u001b[0;32m----> 1\u001b[0;31m \u001b[0mnp\u001b[0m\u001b[0;34m.\u001b[0m\u001b[0msqrt\u001b[0m\u001b[0;34m(\u001b[0m\u001b[0mqc\u001b[0m\u001b[0;34m[\u001b[0m\u001b[0mqc\u001b[0m \u001b[0;34m>\u001b[0m\u001b[0;36m0\u001b[0m\u001b[0;34m]\u001b[0m \u001b[0;34m*\u001b[0m \u001b[0;36m1000\u001b[0m\u001b[0;34m)\u001b[0m\u001b[0;34m.\u001b[0m\u001b[0mmax\u001b[0m\u001b[0;34m(\u001b[0m\u001b[0;34m)\u001b[0m\u001b[0;34m\u001b[0m\u001b[0m\n\u001b[0m",
      "\u001b[0;32m~/miniconda3/envs/deep/lib/python3.6/site-packages/xarray/core/dataarray.py\u001b[0m in \u001b[0;36m__getitem__\u001b[0;34m(self, key)\u001b[0m\n\u001b[1;32m    471\u001b[0m         \u001b[0;32melse\u001b[0m\u001b[0;34m:\u001b[0m\u001b[0;34m\u001b[0m\u001b[0m\n\u001b[1;32m    472\u001b[0m             \u001b[0;31m# xarray-style array indexing\u001b[0m\u001b[0;34m\u001b[0m\u001b[0;34m\u001b[0m\u001b[0m\n\u001b[0;32m--> 473\u001b[0;31m             \u001b[0;32mreturn\u001b[0m \u001b[0mself\u001b[0m\u001b[0;34m.\u001b[0m\u001b[0misel\u001b[0m\u001b[0;34m(\u001b[0m\u001b[0;34m**\u001b[0m\u001b[0mself\u001b[0m\u001b[0;34m.\u001b[0m\u001b[0m_item_key_to_dict\u001b[0m\u001b[0;34m(\u001b[0m\u001b[0mkey\u001b[0m\u001b[0;34m)\u001b[0m\u001b[0;34m)\u001b[0m\u001b[0;34m\u001b[0m\u001b[0m\n\u001b[0m\u001b[1;32m    474\u001b[0m \u001b[0;34m\u001b[0m\u001b[0m\n\u001b[1;32m    475\u001b[0m     \u001b[0;32mdef\u001b[0m \u001b[0m__setitem__\u001b[0m\u001b[0;34m(\u001b[0m\u001b[0mself\u001b[0m\u001b[0;34m,\u001b[0m \u001b[0mkey\u001b[0m\u001b[0;34m,\u001b[0m \u001b[0mvalue\u001b[0m\u001b[0;34m)\u001b[0m\u001b[0;34m:\u001b[0m\u001b[0;34m\u001b[0m\u001b[0m\n",
      "\u001b[0;32m~/miniconda3/envs/deep/lib/python3.6/site-packages/xarray/core/dataarray.py\u001b[0m in \u001b[0;36misel\u001b[0;34m(self, drop, **indexers)\u001b[0m\n\u001b[1;32m    752\u001b[0m         \u001b[0mDataArray\u001b[0m\u001b[0;34m.\u001b[0m\u001b[0msel\u001b[0m\u001b[0;34m\u001b[0m\u001b[0m\n\u001b[1;32m    753\u001b[0m         \"\"\"\n\u001b[0;32m--> 754\u001b[0;31m         \u001b[0mds\u001b[0m \u001b[0;34m=\u001b[0m \u001b[0mself\u001b[0m\u001b[0;34m.\u001b[0m\u001b[0m_to_temp_dataset\u001b[0m\u001b[0;34m(\u001b[0m\u001b[0;34m)\u001b[0m\u001b[0;34m.\u001b[0m\u001b[0misel\u001b[0m\u001b[0;34m(\u001b[0m\u001b[0mdrop\u001b[0m\u001b[0;34m=\u001b[0m\u001b[0mdrop\u001b[0m\u001b[0;34m,\u001b[0m \u001b[0;34m**\u001b[0m\u001b[0mindexers\u001b[0m\u001b[0;34m)\u001b[0m\u001b[0;34m\u001b[0m\u001b[0m\n\u001b[0m\u001b[1;32m    755\u001b[0m         \u001b[0;32mreturn\u001b[0m \u001b[0mself\u001b[0m\u001b[0;34m.\u001b[0m\u001b[0m_from_temp_dataset\u001b[0m\u001b[0;34m(\u001b[0m\u001b[0mds\u001b[0m\u001b[0;34m)\u001b[0m\u001b[0;34m\u001b[0m\u001b[0m\n\u001b[1;32m    756\u001b[0m \u001b[0;34m\u001b[0m\u001b[0m\n",
      "\u001b[0;32m~/miniconda3/envs/deep/lib/python3.6/site-packages/xarray/core/dataset.py\u001b[0m in \u001b[0;36misel\u001b[0;34m(self, drop, **indexers)\u001b[0m\n\u001b[1;32m   1388\u001b[0m         \u001b[0;32mfor\u001b[0m \u001b[0mname\u001b[0m\u001b[0;34m,\u001b[0m \u001b[0mvar\u001b[0m \u001b[0;32min\u001b[0m \u001b[0miteritems\u001b[0m\u001b[0;34m(\u001b[0m\u001b[0mself\u001b[0m\u001b[0;34m.\u001b[0m\u001b[0m_variables\u001b[0m\u001b[0;34m)\u001b[0m\u001b[0;34m:\u001b[0m\u001b[0;34m\u001b[0m\u001b[0m\n\u001b[1;32m   1389\u001b[0m             \u001b[0mvar_indexers\u001b[0m \u001b[0;34m=\u001b[0m \u001b[0;34m{\u001b[0m\u001b[0mk\u001b[0m\u001b[0;34m:\u001b[0m \u001b[0mv\u001b[0m \u001b[0;32mfor\u001b[0m \u001b[0mk\u001b[0m\u001b[0;34m,\u001b[0m \u001b[0mv\u001b[0m \u001b[0;32min\u001b[0m \u001b[0mindexers_list\u001b[0m \u001b[0;32mif\u001b[0m \u001b[0mk\u001b[0m \u001b[0;32min\u001b[0m \u001b[0mvar\u001b[0m\u001b[0;34m.\u001b[0m\u001b[0mdims\u001b[0m\u001b[0;34m}\u001b[0m\u001b[0;34m\u001b[0m\u001b[0m\n\u001b[0;32m-> 1390\u001b[0;31m             \u001b[0mnew_var\u001b[0m \u001b[0;34m=\u001b[0m \u001b[0mvar\u001b[0m\u001b[0;34m.\u001b[0m\u001b[0misel\u001b[0m\u001b[0;34m(\u001b[0m\u001b[0;34m**\u001b[0m\u001b[0mvar_indexers\u001b[0m\u001b[0;34m)\u001b[0m\u001b[0;34m\u001b[0m\u001b[0m\n\u001b[0m\u001b[1;32m   1391\u001b[0m             \u001b[0;32mif\u001b[0m \u001b[0;32mnot\u001b[0m \u001b[0;34m(\u001b[0m\u001b[0mdrop\u001b[0m \u001b[0;32mand\u001b[0m \u001b[0mname\u001b[0m \u001b[0;32min\u001b[0m \u001b[0mvar_indexers\u001b[0m\u001b[0;34m)\u001b[0m\u001b[0;34m:\u001b[0m\u001b[0;34m\u001b[0m\u001b[0m\n\u001b[1;32m   1392\u001b[0m                 \u001b[0mvariables\u001b[0m\u001b[0;34m[\u001b[0m\u001b[0mname\u001b[0m\u001b[0;34m]\u001b[0m \u001b[0;34m=\u001b[0m \u001b[0mnew_var\u001b[0m\u001b[0;34m\u001b[0m\u001b[0m\n",
      "\u001b[0;32m~/miniconda3/envs/deep/lib/python3.6/site-packages/xarray/core/variable.py\u001b[0m in \u001b[0;36misel\u001b[0;34m(self, **indexers)\u001b[0m\n\u001b[1;32m    850\u001b[0m             \u001b[0;32mif\u001b[0m \u001b[0mdim\u001b[0m \u001b[0;32min\u001b[0m \u001b[0mindexers\u001b[0m\u001b[0;34m:\u001b[0m\u001b[0;34m\u001b[0m\u001b[0m\n\u001b[1;32m    851\u001b[0m                 \u001b[0mkey\u001b[0m\u001b[0;34m[\u001b[0m\u001b[0mi\u001b[0m\u001b[0;34m]\u001b[0m \u001b[0;34m=\u001b[0m \u001b[0mindexers\u001b[0m\u001b[0;34m[\u001b[0m\u001b[0mdim\u001b[0m\u001b[0;34m]\u001b[0m\u001b[0;34m\u001b[0m\u001b[0m\n\u001b[0;32m--> 852\u001b[0;31m         \u001b[0;32mreturn\u001b[0m \u001b[0mself\u001b[0m\u001b[0;34m[\u001b[0m\u001b[0mtuple\u001b[0m\u001b[0;34m(\u001b[0m\u001b[0mkey\u001b[0m\u001b[0;34m)\u001b[0m\u001b[0;34m]\u001b[0m\u001b[0;34m\u001b[0m\u001b[0m\n\u001b[0m\u001b[1;32m    853\u001b[0m \u001b[0;34m\u001b[0m\u001b[0m\n\u001b[1;32m    854\u001b[0m     \u001b[0;32mdef\u001b[0m \u001b[0msqueeze\u001b[0m\u001b[0;34m(\u001b[0m\u001b[0mself\u001b[0m\u001b[0;34m,\u001b[0m \u001b[0mdim\u001b[0m\u001b[0;34m=\u001b[0m\u001b[0;32mNone\u001b[0m\u001b[0;34m)\u001b[0m\u001b[0;34m:\u001b[0m\u001b[0;34m\u001b[0m\u001b[0m\n",
      "\u001b[0;32m~/miniconda3/envs/deep/lib/python3.6/site-packages/xarray/core/variable.py\u001b[0m in \u001b[0;36m__getitem__\u001b[0;34m(self, key)\u001b[0m\n\u001b[1;32m    618\u001b[0m         \u001b[0marray\u001b[0m\u001b[0;31m \u001b[0m\u001b[0;31m`\u001b[0m\u001b[0mx\u001b[0m\u001b[0;34m.\u001b[0m\u001b[0mvalues\u001b[0m\u001b[0;31m`\u001b[0m \u001b[0mdirectly\u001b[0m\u001b[0;34m.\u001b[0m\u001b[0;34m\u001b[0m\u001b[0m\n\u001b[1;32m    619\u001b[0m         \"\"\"\n\u001b[0;32m--> 620\u001b[0;31m         \u001b[0mdims\u001b[0m\u001b[0;34m,\u001b[0m \u001b[0mindexer\u001b[0m\u001b[0;34m,\u001b[0m \u001b[0mnew_order\u001b[0m \u001b[0;34m=\u001b[0m \u001b[0mself\u001b[0m\u001b[0;34m.\u001b[0m\u001b[0m_broadcast_indexes\u001b[0m\u001b[0;34m(\u001b[0m\u001b[0mkey\u001b[0m\u001b[0;34m)\u001b[0m\u001b[0;34m\u001b[0m\u001b[0m\n\u001b[0m\u001b[1;32m    621\u001b[0m         \u001b[0mdata\u001b[0m \u001b[0;34m=\u001b[0m \u001b[0mas_indexable\u001b[0m\u001b[0;34m(\u001b[0m\u001b[0mself\u001b[0m\u001b[0;34m.\u001b[0m\u001b[0m_data\u001b[0m\u001b[0;34m)\u001b[0m\u001b[0;34m[\u001b[0m\u001b[0mindexer\u001b[0m\u001b[0;34m]\u001b[0m\u001b[0;34m\u001b[0m\u001b[0m\n\u001b[1;32m    622\u001b[0m         \u001b[0;32mif\u001b[0m \u001b[0mnew_order\u001b[0m\u001b[0;34m:\u001b[0m\u001b[0;34m\u001b[0m\u001b[0m\n",
      "\u001b[0;32m~/miniconda3/envs/deep/lib/python3.6/site-packages/xarray/core/variable.py\u001b[0m in \u001b[0;36m_broadcast_indexes\u001b[0;34m(self, key)\u001b[0m\n\u001b[1;32m    471\u001b[0m             \u001b[0;32mreturn\u001b[0m \u001b[0mself\u001b[0m\u001b[0;34m.\u001b[0m\u001b[0m_broadcast_indexes_basic\u001b[0m\u001b[0;34m(\u001b[0m\u001b[0mkey\u001b[0m\u001b[0;34m)\u001b[0m\u001b[0;34m\u001b[0m\u001b[0m\n\u001b[1;32m    472\u001b[0m \u001b[0;34m\u001b[0m\u001b[0m\n\u001b[0;32m--> 473\u001b[0;31m         \u001b[0mself\u001b[0m\u001b[0;34m.\u001b[0m\u001b[0m_validate_indexers\u001b[0m\u001b[0;34m(\u001b[0m\u001b[0mkey\u001b[0m\u001b[0;34m)\u001b[0m\u001b[0;34m\u001b[0m\u001b[0m\n\u001b[0m\u001b[1;32m    474\u001b[0m         \u001b[0;31m# Detect it can be mapped as an outer indexer\u001b[0m\u001b[0;34m\u001b[0m\u001b[0;34m\u001b[0m\u001b[0m\n\u001b[1;32m    475\u001b[0m         \u001b[0;31m# If all key is unlabeled, or\u001b[0m\u001b[0;34m\u001b[0m\u001b[0;34m\u001b[0m\u001b[0m\n",
      "\u001b[0;32m~/miniconda3/envs/deep/lib/python3.6/site-packages/xarray/core/variable.py\u001b[0m in \u001b[0;36m_validate_indexers\u001b[0;34m(self, key)\u001b[0m\n\u001b[1;32m    518\u001b[0m                     \u001b[0;32mif\u001b[0m \u001b[0mk\u001b[0m\u001b[0;34m.\u001b[0m\u001b[0mndim\u001b[0m \u001b[0;34m>\u001b[0m \u001b[0;36m1\u001b[0m\u001b[0;34m:\u001b[0m\u001b[0;34m\u001b[0m\u001b[0m\n\u001b[1;32m    519\u001b[0m                         raise IndexError(\"{}-dimensional boolean indexing is \"\n\u001b[0;32m--> 520\u001b[0;31m                                          \"not supported. \".format(k.ndim))\n\u001b[0m\u001b[1;32m    521\u001b[0m                     \u001b[0;32mif\u001b[0m \u001b[0mgetattr\u001b[0m\u001b[0;34m(\u001b[0m\u001b[0mk\u001b[0m\u001b[0;34m,\u001b[0m \u001b[0;34m'dims'\u001b[0m\u001b[0;34m,\u001b[0m \u001b[0;34m(\u001b[0m\u001b[0mdim\u001b[0m\u001b[0;34m,\u001b[0m \u001b[0;34m)\u001b[0m\u001b[0;34m)\u001b[0m \u001b[0;34m!=\u001b[0m \u001b[0;34m(\u001b[0m\u001b[0mdim\u001b[0m\u001b[0;34m,\u001b[0m \u001b[0;34m)\u001b[0m\u001b[0;34m:\u001b[0m\u001b[0;34m\u001b[0m\u001b[0m\n\u001b[1;32m    522\u001b[0m                         raise IndexError(\n",
      "\u001b[0;31mIndexError\u001b[0m: 3-dimensional boolean indexing is not supported. "
     ]
    }
   ],
   "source": [
    "np.sqrt(qc[qc >0] * 1000).max()"
   ]
  },
  {
   "cell_type": "code",
   "execution_count": 114,
   "metadata": {},
   "outputs": [
    {
     "data": {
      "text/plain": [
       "(array([1.399790e+05, 1.241370e+05, 1.183730e+05, 1.282220e+05,\n",
       "        1.596870e+05, 1.995610e+05, 2.300150e+05, 2.462710e+05,\n",
       "        2.077910e+05, 2.353000e+05, 2.506310e+05, 2.531980e+05,\n",
       "        1.946670e+05, 1.211610e+05, 9.692000e+04, 1.094290e+05,\n",
       "        1.079160e+05, 1.182570e+05, 1.223530e+05, 1.385670e+05,\n",
       "        1.536520e+05, 1.912320e+05, 1.655210e+05, 1.810880e+05,\n",
       "        1.895180e+05, 2.164350e+05, 2.783480e+05, 3.921360e+05,\n",
       "        3.130790e+05, 2.630480e+05, 3.496850e+05, 2.784950e+05,\n",
       "        2.559870e+05, 2.321220e+05, 2.307190e+05, 2.671110e+05,\n",
       "        3.007760e+05, 3.710400e+05, 3.886680e+05, 4.099410e+05,\n",
       "        4.890260e+05, 6.736410e+05, 1.043651e+06, 1.491868e+06,\n",
       "        6.474730e+05, 1.792300e+05, 1.787280e+05, 1.889260e+05,\n",
       "        2.010020e+05, 2.153680e+05, 2.382600e+05, 2.653740e+05,\n",
       "        3.124260e+05, 3.629700e+05, 3.595380e+05, 2.723320e+05,\n",
       "        1.828150e+05, 1.596040e+05, 1.471360e+05, 1.391820e+05,\n",
       "        1.336430e+05, 1.300910e+05, 1.324140e+05, 1.392420e+05,\n",
       "        1.411050e+05, 1.492510e+05, 1.588570e+05, 1.706760e+05,\n",
       "        1.837460e+05, 1.964420e+05, 2.027860e+05, 2.100610e+05,\n",
       "        2.125200e+05, 2.032470e+05, 1.964540e+05, 1.942870e+05,\n",
       "        1.916590e+05, 1.957290e+05, 2.098050e+05, 2.298120e+05,\n",
       "        2.596930e+05, 3.114270e+05, 3.613840e+05, 4.264800e+05,\n",
       "        5.258920e+05, 6.395310e+05, 7.569160e+05, 8.713300e+05,\n",
       "        9.804440e+05, 1.050982e+06, 1.153588e+06, 1.246610e+06,\n",
       "        1.080417e+06, 5.398120e+05, 2.887310e+05, 1.287240e+05,\n",
       "        4.141700e+04, 1.135300e+04, 1.840000e+03, 1.170000e+02]),\n",
       " array([-34.92977524, -34.57473285, -34.21969046, -33.86464807,\n",
       "        -33.50960567, -33.15456328, -32.79952089, -32.4444785 ,\n",
       "        -32.08943611, -31.73439372, -31.37935133, -31.02430894,\n",
       "        -30.66926655, -30.31422416, -29.95918177, -29.60413938,\n",
       "        -29.24909698, -28.89405459, -28.5390122 , -28.18396981,\n",
       "        -27.82892742, -27.47388503, -27.11884264, -26.76380025,\n",
       "        -26.40875786, -26.05371547, -25.69867308, -25.34363069,\n",
       "        -24.98858829, -24.6335459 , -24.27850351, -23.92346112,\n",
       "        -23.56841873, -23.21337634, -22.85833395, -22.50329156,\n",
       "        -22.14824917, -21.79320678, -21.43816439, -21.083122  ,\n",
       "        -20.72807961, -20.37303721, -20.01799482, -19.66295243,\n",
       "        -19.30791004, -18.95286765, -18.59782526, -18.24278287,\n",
       "        -17.88774048, -17.53269809, -17.1776557 , -16.82261331,\n",
       "        -16.46757092, -16.11252852, -15.75748613, -15.40244374,\n",
       "        -15.04740135, -14.69235896, -14.33731657, -13.98227418,\n",
       "        -13.62723179, -13.2721894 , -12.91714701, -12.56210462,\n",
       "        -12.20706223, -11.85201983, -11.49697744, -11.14193505,\n",
       "        -10.78689266, -10.43185027, -10.07680788,  -9.72176549,\n",
       "         -9.3667231 ,  -9.01168071,  -8.65663832,  -8.30159593,\n",
       "         -7.94655354,  -7.59151114,  -7.23646875,  -6.88142636,\n",
       "         -6.52638397,  -6.17134158,  -5.81629919,  -5.4612568 ,\n",
       "         -5.10621441,  -4.75117202,  -4.39612963,  -4.04108724,\n",
       "         -3.68604485,  -3.33100245,  -2.97596006,  -2.62091767,\n",
       "         -2.26587528,  -1.91083289,  -1.5557905 ,  -1.20074811,\n",
       "         -0.84570572,  -0.49066333,  -0.13562094,   0.21942145,\n",
       "          0.57446384]),\n",
       " <a list of 100 Patch objects>)"
      ]
     },
     "execution_count": 114,
     "metadata": {},
     "output_type": "execute_result"
    },
    {
     "data": {
      "image/png": "[encoded data removed]",
      "text/plain": [
       "<Figure size 432x288 with 1 Axes>"
      ]
     },
     "metadata": {},
     "output_type": "display_data"
    }
   ],
   "source": [
    "plt.hist(np.log10(qc[qc >0] * 1000), 100)"
   ]
  },
  {
   "cell_type": "code",
   "execution_count": 115,
   "metadata": {},
   "outputs": [
    {
     "data": {
      "image/png": "[encoded data removed]",
      "text/plain": [
       "<Figure size 432x288 with 1 Axes>"
      ]
     },
     "metadata": {},
     "output_type": "display_data"
    }
   ],
   "source": [
    "plt.hist(qc.ravel() * 1000, 100)\n",
    "plt.gca().set_yscale(\"log\")"
   ]
  },
  {
   "cell_type": "code",
   "execution_count": 111,
   "metadata": {},
   "outputs": [
    {
     "name": "stderr",
     "output_type": "stream",
     "text": [
      "/glade/u/home/dgagne/miniconda3/envs/deep/lib/python3.6/site-packages/matplotlib/contour.py:1484: UserWarning: Log scale: values of z <= 0 have been masked\n",
      "  warnings.warn('Log scale: values of z <= 0 have been masked')\n"
     ]
    },
    {
     "data": {
      "text/plain": [
       "<matplotlib.colorbar.Colorbar at 0x2aab99037710>"
      ]
     },
     "execution_count": 111,
     "metadata": {},
     "output_type": "execute_result"
    },
    {
     "data": {
      "image/png": "[encoded data removed]",
      "text/plain": [
       "<Figure size 432x288 with 2 Axes>"
      ]
     },
     "metadata": {},
     "output_type": "display_data"
    }
   ],
   "source": [
    "plt.contourf(ds[\"lon\"], ds[\"lat\"], ds[\"QR_TAU_in\"][15].sum(axis=0)* 1000,\n",
    "             np.logspace(-6, 1), norm=LogNorm(vmin=1e-6, vmax=2))\n",
    "plt.colorbar()"
   ]
  },
  {
   "cell_type": "code",
   "execution_count": 91,
   "metadata": {},
   "outputs": [
    {
     "data": {
      "text/plain": [
       "<xarray.Dataset>\n",
       "Dimensions:       (ilev: 33, lat: 192, lev: 32, lon: 288, nbnd: 2, time: 30)\n",
       "Coordinates:\n",
       "  * lat           (lat) float64 -90.0 -89.06 -88.12 -87.17 -86.23 -85.29 ...\n",
       "  * lon           (lon) float64 0.0 1.25 2.5 3.75 5.0 6.25 7.5 8.75 10.0 ...\n",
       "  * lev           (lev) float64 3.643 7.595 14.36 24.61 35.92 43.19 51.68 ...\n",
       "  * ilev          (ilev) float64 2.255 5.032 10.16 18.56 29.73 39.27 47.11 ...\n",
       "  * time          (time) object    1-01-01 00:00:00    1-01-06 03:00:00 ...\n",
       "Dimensions without coordinates: nbnd\n",
       "Data variables:\n",
       "    gw            (lat) float64 ...\n",
       "    hyam          (lev) float64 ...\n",
       "    hybm          (lev) float64 ...\n",
       "    P0            float64 ...\n",
       "    hyai          (ilev) float64 ...\n",
       "    hybi          (ilev) float64 ...\n",
       "    date          (time) int32 10101 10106 10111 10116 10121 10126 10131 ...\n",
       "    datesec       (time) int32 0 10800 21600 32400 43200 54000 64800 75600 0 ...\n",
       "    time_bnds     (time, nbnd) float64 ...\n",
       "    date_written  (time) |S8 ...\n",
       "    time_written  (time) |S8 ...\n",
       "    ndbase        int32 ...\n",
       "    nsbase        int32 ...\n",
       "    nbdate        int32 ...\n",
       "    nbsec         int32 ...\n",
       "    mdt           int32 ...\n",
       "    ndcur         (time) int32 ...\n",
       "    nscur         (time) int32 ...\n",
       "    co2vmr        (time) float64 ...\n",
       "    ch4vmr        (time) float64 ...\n",
       "    n2ovmr        (time) float64 ...\n",
       "    f11vmr        (time) float64 ...\n",
       "    f12vmr        (time) float64 ...\n",
       "    sol_tsi       (time) float64 ...\n",
       "    nsteph        (time) int32 ...\n",
       "    NC_TAU_in     (time, lev, lat, lon) float32 ...\n",
       "    NR_TAU_in     (time, lev, lat, lon) float32 ...\n",
       "    PS            (time, lat, lon) float32 ...\n",
       "    QC_TAU_in     (time, lev, lat, lon) float32 9.5639754e-23 9.5639754e-23 ...\n",
       "    QR_TAU_in     (time, lev, lat, lon) float32 ...\n",
       "    RHO_CLUBB     (time, ilev, lat, lon) float32 ...\n",
       "    nctend_MG2    (time, lev, lat, lon) float32 ...\n",
       "    npra_MG2      (time, lev, lat, lon) float32 ...\n",
       "    nprc1_MG2     (time, lev, lat, lon) float32 ...\n",
       "    nprc_MG2      (time, lev, lat, lon) float32 ...\n",
       "    nragg_MG2     (time, lev, lat, lon) float32 ...\n",
       "    nrtend_MG2    (time, lev, lat, lon) float32 ...\n",
       "    pra_MG2       (time, lev, lat, lon) float32 ...\n",
       "    prc_MG2       (time, lev, lat, lon) float32 ...\n",
       "    qctend_MG2    (time, lev, lat, lon) float32 ...\n",
       "    qrtend_MG2    (time, lev, lat, lon) float32 ...\n",
       "Attributes:\n",
       "    Conventions:       CF-1.0\n",
       "    source:            CAM\n",
       "    case:              TAU_run1\n",
       "    logname:           cchen\n",
       "    host:              cheyenne5\n",
       "    initial_file:      b.e20.BHIST.f09_g17.20thC.297_01_v2.cam.i.2000-01-01-0...\n",
       "    topography_file:   /glade/p/cesmdata/cseg/inputdata/atm/cam/topo/fv_0.9x1...\n",
       "    model_doi_url:     https://doi.org/10.5065/D67H1H0V\n",
       "    time_period_freq:  hour_123"
      ]
     },
     "execution_count": 91,
     "metadata": {},
     "output_type": "execute_result"
    }
   ],
   "source": [
    "ds"
   ]
  },
  {
   "cell_type": "code",
   "execution_count": 100,
   "metadata": {},
   "outputs": [
    {
     "data": {
      "text/plain": [
       "(32, 192)"
      ]
     },
     "execution_count": 100,
     "metadata": {},
     "output_type": "execute_result"
    }
   ],
   "source": [
    "ds[\"QC_TAU_in\"][10, :, :, 25].values.shape"
   ]
  },
  {
   "cell_type": "code",
   "execution_count": 97,
   "metadata": {},
   "outputs": [
    {
     "data": {
      "text/plain": [
       "<xarray.DataArray 'QC_TAU_in' (lev: 32, lat: 192)>\n",
       "array([[9.973102e-23, 9.981803e-23, 9.977993e-23, ..., 0.000000e+00,\n",
       "        0.000000e+00, 0.000000e+00],\n",
       "       [2.429027e-23, 2.421477e-23, 2.392284e-23, ..., 0.000000e+00,\n",
       "        0.000000e+00, 0.000000e+00],\n",
       "       [0.000000e+00, 0.000000e+00, 0.000000e+00, ..., 0.000000e+00,\n",
       "        0.000000e+00, 0.000000e+00],\n",
       "       ...,\n",
       "       [0.000000e+00, 6.926727e-09, 6.029328e-09, ..., 2.695635e-05,\n",
       "        2.391288e-05, 6.688506e-06],\n",
       "       [0.000000e+00, 4.685203e-26, 2.769185e-08, ..., 2.929238e-05,\n",
       "        2.265059e-05, 8.820642e-06],\n",
       "       [0.000000e+00, 0.000000e+00, 3.364949e-18, ..., 5.034522e-06,\n",
       "        9.487872e-07, 5.293956e-23]], dtype=float32)\n",
       "Coordinates:\n",
       "  * lat      (lat) float64 -90.0 -89.06 -88.12 -87.17 -86.23 -85.29 -84.35 ...\n",
       "    lon      float64 31.25\n",
       "  * lev      (lev) float64 3.643 7.595 14.36 24.61 35.92 43.19 51.68 61.52 ...\n",
       "    time     object    1-02-21 06:00:00\n",
       "Attributes:\n",
       "    mdims:      1\n",
       "    units:      kg/kg\n",
       "    long_name:  qc in TAU"
      ]
     },
     "execution_count": 97,
     "metadata": {},
     "output_type": "execute_result"
    }
   ],
   "source": [
    "ds[\"QC_TAU_in\"][10, :, :, 25]"
   ]
  },
  {
   "cell_type": "code",
   "execution_count": 102,
   "metadata": {},
   "outputs": [
    {
     "data": {
      "text/plain": [
       "(32,)"
      ]
     },
     "execution_count": 102,
     "metadata": {},
     "output_type": "execute_result"
    }
   ],
   "source": [
    "ds[\"lev\"].values.shape"
   ]
  },
  {
   "cell_type": "code",
   "execution_count": 103,
   "metadata": {},
   "outputs": [
    {
     "data": {
      "text/plain": [
       "(192,)"
      ]
     },
     "execution_count": 103,
     "metadata": {},
     "output_type": "execute_result"
    }
   ],
   "source": [
    "ds[\"lat\"].values.shape"
   ]
  },
  {
   "cell_type": "code",
   "execution_count": 109,
   "metadata": {},
   "outputs": [
    {
     "data": {
      "text/plain": [
       "<matplotlib.contour.QuadContourSet at 0x2aab98419080>"
      ]
     },
     "execution_count": 109,
     "metadata": {},
     "output_type": "execute_result"
    },
    {
     "data": {
      "image/png": "[encoded data removed]",
      "text/plain": [
       "<Figure size 432x288 with 1 Axes>"
      ]
     },
     "metadata": {},
     "output_type": "display_data"
    }
   ],
   "source": [
    "plt.contourf(ds[\"QC_TAU_in\"][10, :, :, 25].values)"
   ]
  },
  {
   "cell_type": "code",
   "execution_count": 26,
   "metadata": {},
   "outputs": [
    {
     "data": {
      "text/plain": [
       "<xarray.DataArray 'ilev' (ilev: 33)>\n",
       "array([   2.25524 ,    5.031692,   10.157947,   18.555317,   29.734676,\n",
       "         39.273001,   47.114499,   56.240499,   66.800497,   80.701418,\n",
       "         94.941042,  111.693211,  131.401271,  154.586807,  181.863353,\n",
       "        213.952821,  251.704417,  296.117216,  348.366588,  409.835219,\n",
       "        482.149929,  567.224421,  652.332969,  730.445892,  796.363071,\n",
       "        845.353667,  873.715866,  900.324631,  924.964462,  947.432335,\n",
       "        967.538625,  985.11219 , 1000.      ])\n",
       "Coordinates:\n",
       "  * ilev     (ilev) float64 2.255 5.032 10.16 18.56 29.73 39.27 47.11 56.24 ...\n",
       "Attributes:\n",
       "    long_name:      hybrid level at interfaces (1000*(A+B))\n",
       "    units:          hPa\n",
       "    positive:       down\n",
       "    standard_name:  atmosphere_hybrid_sigma_pressure_coordinate\n",
       "    formula_terms:  a: hyai b: hybi p0: P0 ps: PS"
      ]
     },
     "execution_count": 26,
     "metadata": {},
     "output_type": "execute_result"
    }
   ],
   "source": [
    "ds[\"ilev\"]"
   ]
  },
  {
   "cell_type": "code",
   "execution_count": null,
   "metadata": {},
   "outputs": [],
   "source": []
  }
 ],
 "metadata": {
  "kernelspec": {
   "display_name": "Python 3",
   "language": "python",
   "name": "python3"
  },
  "language_info": {
   "codemirror_mode": {
    "name": "ipython",
    "version": 3
   },
   "file_extension": ".py",
   "mimetype": "text/x-python",
   "name": "python",
   "nbconvert_exporter": "python",
   "pygments_lexer": "ipython3",
   "version": "3.6.4"
  }
 },
 "nbformat": 4,
 "nbformat_minor": 2
}
