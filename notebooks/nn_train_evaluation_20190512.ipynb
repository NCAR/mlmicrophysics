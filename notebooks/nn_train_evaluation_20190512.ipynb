{
 "cells": [
  {
   "cell_type": "code",
   "execution_count": 1,
   "metadata": {},
   "outputs": [
    {
     "name": "stderr",
     "output_type": "stream",
     "text": [
      "Using TensorFlow backend.\n"
     ]
    }
   ],
   "source": [
    "%matplotlib inline\n",
    "import numpy as np\n",
    "import pandas as pd\n",
    "import matplotlib.pyplot as plt\n",
    "from glob import glob\n",
    "from os.path import join, exists\n",
    "from matplotlib.colors import LogNorm\n",
    "from mlmicrophysics.metrics import hellinger_distance, r2_corr, root_mean_squared_error\n",
    "from sklearn.metrics import mean_absolute_error, confusion_matrix\n",
    "from keras.models import load_model"
   ]
  },
  {
   "cell_type": "code",
   "execution_count": 5,
   "metadata": {},
   "outputs": [
    {
     "name": "stdout",
     "output_type": "stream",
     "text": [
      "dnn_classifier_scores.csv  dnn_nr_neg_fortran.nc     input_scale_values.csv\n",
      "dnn_nc_class.h5            dnn_nr_pos.h5             meta_test.csv\n",
      "dnn_nc_class_fortran.nc    dnn_nr_pos_fortran.nc     output_scale_values.csv\n",
      "dnn_nc_pos.h5              dnn_qr_class.h5           test_cam_labels.csv\n",
      "dnn_nc_pos_fortran.nc      dnn_qr_class_fortran.nc   test_cam_values.csv\n",
      "dnn_nr_class.h5            dnn_qr_pos.h5             test_prediction_labels.csv\n",
      "dnn_nr_class_fortran.nc    dnn_qr_pos_fortran.nc     test_prediction_values.csv\n",
      "dnn_nr_neg.h5              dnn_regressor_scores.csv\n"
     ]
    }
   ],
   "source": [
    "ls /glade/p/cisl/aiml/dgagne/cam_run5_models_20190726/"
   ]
  },
  {
   "cell_type": "code",
   "execution_count": 2,
   "metadata": {},
   "outputs": [
    {
     "name": "stdout",
     "output_type": "stream",
     "text": [
      "\u001b[0m\u001b[01;34mcam_mp_files_run2_big_csv\u001b[0m/       \u001b[01;34mgoes16_nc\u001b[0m/\n",
      "\u001b[01;34mcam_mp_files_run2_csv\u001b[0m/           \u001b[01;34mmkdir\u001b[0m/\n",
      "\u001b[01;34mcam_mp_files_run3_csv\u001b[0m/           \u001b[01;34mTAU_ML_v2\u001b[0m/\n",
      "\u001b[01;34mcam_mp_files_run5_big_csv\u001b[0m/       TAU_ML_v2.cam.h0.0001-01.nc\n",
      "\u001b[01;34mcam_mp_files_run5_full_csv\u001b[0m/      TAU_ML_v2.cam.h0.0001-02.nc\n",
      "\u001b[01;34mcam_run2_models\u001b[0m/                 TAU_ML_v2.cam.h0.0001-03.nc\n",
      "\u001b[01;34mcam_run2_models_20190510\u001b[0m/        TAU_ML_v2.cam.h0.0001-04.nc\n",
      "\u001b[01;34mcam_run2_models_20190512\u001b[0m/        TAU_ML_v2.cam.h0.0001-05.nc\n",
      "cam_run2_models_20190512.tar.gz  \u001b[01;34mTAU_run2\u001b[0m/\n",
      "cam_run2_nn_predictions.csv      \u001b[01;34mTAU_run3\u001b[0m/\n",
      "\u001b[01;34mcam_run5_models_20190524\u001b[0m/        \u001b[01;34mTAU_run4_plots\u001b[0m/\n",
      "\u001b[01;34mcam_run5_models_20190726\u001b[0m/        \u001b[01;34mTAU_run5\u001b[0m/\n",
      "cam_run5_models_20190726.tar.gz  \u001b[01;34mTAU_run5_full\u001b[0m/\n"
     ]
    }
   ],
   "source": [
    "ls /glade/p/cisl/aiml/dgagne"
   ]
  },
  {
   "cell_type": "code",
   "execution_count": 2,
   "metadata": {},
   "outputs": [
    {
     "name": "stderr",
     "output_type": "stream",
     "text": [
      "/glade/u/home/dgagne/miniconda3/envs/tf2/lib/python3.7/site-packages/numpy/lib/arraysetops.py:568: FutureWarning: elementwise comparison failed; returning scalar instead, but in the future will perform elementwise comparison\n",
      "  mask |= (ar1 == a)\n"
     ]
    }
   ],
   "source": [
    "data_path = \"/glade/p/cisl/aiml/dgagne/cam_run5_models_20190726/\"\n",
    "test_pred_labels = pd.read_csv(join(data_path, \"test_prediction_labels.csv\"), index_col=\"index\") \n",
    "test_pred_values = pd.read_csv(join(data_path, \"test_prediction_values.csv\"), index_col=\"index\") \n",
    "test_cam_labels = pd.read_csv(join(data_path, \"test_cam_labels.csv\"), index_col=\"index\")\n",
    "test_cam_values = pd.read_csv(join(data_path, \"test_cam_values.csv\"), index_col=\"index\") \n",
    "meta_test = pd.read_csv(join(data_path, \"meta_test.csv\"), index_col=\"index\")"
   ]
  },
  {
   "cell_type": "code",
   "execution_count": 5,
   "metadata": {},
   "outputs": [
    {
     "data": {
      "text/plain": [
       "Index(['qrtend_TAU_1', 'nctend_TAU_1', 'nrtend_TAU_-1', 'nrtend_TAU_1'], dtype='object')"
      ]
     },
     "execution_count": 5,
     "metadata": {},
     "output_type": "execute_result"
    }
   ],
   "source": [
    "test_pred_values.columns"
   ]
  },
  {
   "cell_type": "code",
   "execution_count": 3,
   "metadata": {},
   "outputs": [],
   "source": [
    "mg2_test = meta_test.loc[:, [\"qrtend_MG2\", \"nctend_MG2\", \"nrtend_MG2\"]]\n",
    "mg2_test.loc[mg2_test[\"qrtend_MG2\"] > 0, \"qrtend_MG2\"] = np.log10(mg2_test.loc[mg2_test[\"qrtend_MG2\"] > 0, \"qrtend_MG2\"])\n",
    "mg2_test.loc[mg2_test[\"nctend_MG2\"] < 0, \"nctend_MG2\"] = np.log10(-mg2_test.loc[mg2_test[\"nctend_MG2\"] < 0, \"nctend_MG2\"])\n",
    "mg2_test.loc[mg2_test[\"nrtend_MG2\"] < 0, \"nrtend_MG2\"] = np.log10(-mg2_test.loc[mg2_test[\"nrtend_MG2\"] < 0, \"nrtend_MG2\"])\n",
    "mg2_test.loc[mg2_test[\"nrtend_MG2\"] > 0, \"nrtend_MG2\"] = np.log10(mg2_test.loc[mg2_test[\"nrtend_MG2\"] > 0, \"nrtend_MG2\"])\n"
   ]
  },
  {
   "cell_type": "code",
   "execution_count": 5,
   "metadata": {},
   "outputs": [
    {
     "name": "stdout",
     "output_type": "stream",
     "text": [
      "                   rmse       mae        r2  hellinger\n",
      "Output                                                \n",
      "qrtend_TAU_1   0.195849  0.095788  0.991323   0.000453\n",
      "nctend_TAU_1   0.187454  0.111714  0.995448   0.001489\n",
      "nrtend_TAU_-1  0.154587  0.081380  0.995528   0.000604\n",
      "nrtend_TAU_1   0.274484  0.178448  0.978361   0.001176\n"
     ]
    }
   ],
   "source": [
    "reg_scores = pd.read_csv(join(data_path, \"dnn_regressor_scores.csv\"), index_col=\"Output\")\n",
    "print(reg_scores)"
   ]
  },
  {
   "cell_type": "code",
   "execution_count": 7,
   "metadata": {},
   "outputs": [],
   "source": [
    "scores = {\"rmse\": root_mean_squared_error, \"mae\": mean_absolute_error, \n",
    "          \"r2\": r2_corr, \"hellinger\": hellinger_distance}\n",
    "mg2_scores = pd.DataFrame(0, columns=reg_scores.columns, index=reg_scores.index)\n",
    "for score in reg_scores.columns:\n",
    "    mg2_scores.loc[\"qrtend_TAU_1\", \n",
    "                   score] = scores[score](test_cam_values.loc[test_cam_labels[\"qrtend_TAU\"] == 1, \"qrtend_TAU\"],\n",
    "                                                      mg2_test.loc[test_cam_labels[\"qrtend_TAU\"] == 1, \"qrtend_MG2\"])\n",
    "    mg2_scores.loc[\"nctend_TAU_1\", \n",
    "                   score] = scores[score](test_cam_values.loc[test_cam_labels[\"nctend_TAU\"] == 1, \"nctend_TAU\"],\n",
    "                                                      mg2_test.loc[test_cam_labels[\"nctend_TAU\"] == 1, \"nctend_MG2\"])\n",
    "    mg2_scores.loc[\"nrtend_TAU_-1\", \n",
    "                   score] = scores[score](test_cam_values.loc[test_cam_labels[\"nrtend_TAU\"] == -1, \"nrtend_TAU\"],\n",
    "                                                      mg2_test.loc[test_cam_labels[\"nrtend_TAU\"] == -1, \"nrtend_MG2\"])\n",
    "    mg2_scores.loc[\"nrtend_TAU_1\", \n",
    "                   score] = scores[score](test_cam_values.loc[test_cam_labels[\"nrtend_TAU\"] == 1, \"nrtend_TAU\"],\n",
    "                                                      mg2_test.loc[test_cam_labels[\"nrtend_TAU\"] == 1, \"nrtend_MG2\"])"
   ]
  },
  {
   "cell_type": "code",
   "execution_count": 11,
   "metadata": {},
   "outputs": [
    {
     "data": {
      "image/png": "[encoded data removed]",
      "text/plain": [
       "<Figure size 1008x576 with 12 Axes>"
      ]
     },
     "metadata": {
      "needs_background": "light"
     },
     "output_type": "display_data"
    }
   ],
   "source": [
    "fig, axes = plt.subplots(3, 4, figsize=(14, 8), sharey=True)\n",
    "bins = dict(qr=np.arange(-18, -4.5, 0.5),\n",
    "            nc=np.arange(-8, 7, 0.5),\n",
    "            nr_neg=np.arange(-15, 7, 0.5),\n",
    "            nr_pos=np.arange(-9, 7, 0.5))\n",
    "ticks = dict(qr=np.arange(-18, -4, 3),\n",
    "             nc=np.arange(-8, 7, 3),\n",
    "             nr_neg=np.arange(-15, 7, 3),\n",
    "             nr_pos=np.arange(-9, 7, 3))\n",
    "y_labels = [\"TAU Emulator\", \"TAU Bin\", \"MG2 Bulk\"]\n",
    "x_labels = [\"$\\log_{10}(dq_r/dt)$\", \"$\\log_{10}(dN_c/dt)$\", \n",
    "            \"$\\log_{10}(dN_r/dt < 0)$\", \"$\\log_{10}(dN_r/dt > 0)$\"]\n",
    "axes[0, 0].hist(test_pred_values.loc[test_cam_labels[\"qrtend_TAU\"] == 1, \"qrtend_TAU_1\"], bins=bins[\"qr\"], color=\"purple\")\n",
    "axes[1, 0].hist(test_cam_values.loc[test_cam_labels[\"qrtend_TAU\"] == 1, \"qrtend_TAU\"], bins=bins[\"qr\"], color=\"blue\")\n",
    "axes[2, 0].hist(mg2_test.loc[test_cam_labels[\"qrtend_TAU\"] == 1, \"qrtend_MG2\"], \n",
    "                bins=bins[\"qr\"], color=\"green\")\n",
    "axes[0, 0].hist(test_cam_values.loc[test_cam_labels[\"qrtend_TAU\"] == 1, \"qrtend_TAU\"], \n",
    "                bins=bins[\"qr\"], color=\"blue\", histtype=\"step\", lw=2)\n",
    "axes[2, 0].hist(test_cam_values.loc[test_cam_labels[\"qrtend_TAU\"] == 1, \"qrtend_TAU\"], \n",
    "                bins=bins[\"qr\"], color=\"blue\", histtype=\"step\", lw=2)\n",
    "\n",
    "axes[0, 0].set_yscale(\"log\")\n",
    "axes[0, 1].hist(test_pred_values.loc[test_cam_labels[\"nctend_TAU\"] == 1, \"nctend_TAU_1\"], bins=bins[\"nc\"], color=\"purple\")\n",
    "axes[1, 1].hist(test_cam_values.loc[test_cam_labels[\"nctend_TAU\"] == 1, \"nctend_TAU\"], bins=bins[\"nc\"], color=\"blue\")\n",
    "axes[2, 1].hist(mg2_test.loc[test_cam_labels[\"nctend_TAU\"] == 1, \"nctend_MG2\"], \n",
    "                bins=bins[\"nc\"], color=\"green\")\n",
    "axes[0, 1].hist(test_cam_values.loc[test_cam_labels[\"nctend_TAU\"] == 1, \"nctend_TAU\"], \n",
    "                bins=bins[\"nc\"], color=\"blue\", histtype=\"step\", lw=2)\n",
    "axes[2, 1].hist(test_cam_values.loc[test_cam_labels[\"nctend_TAU\"] == 1, \"nctend_TAU\"], \n",
    "                bins=bins[\"nc\"], color=\"blue\", histtype=\"step\", lw=2)\n",
    "\n",
    "axes[0, 2].hist(test_pred_values.loc[test_cam_labels[\"nrtend_TAU\"] == -1, \"nrtend_TAU_-1\"], bins=bins[\"nr_neg\"], color=\"purple\")\n",
    "axes[1, 2].hist(test_cam_values.loc[test_cam_labels[\"nrtend_TAU\"] == -1, \"nrtend_TAU\"], bins=bins[\"nr_neg\"], color=\"blue\")\n",
    "axes[2, 2].hist(mg2_test.loc[test_cam_labels[\"nrtend_TAU\"] == -1, \"nrtend_MG2\"], \n",
    "                bins=bins[\"nr_neg\"], color=\"green\")\n",
    "axes[0, 2].hist(test_cam_values.loc[test_cam_labels[\"nrtend_TAU\"] == -1, \"nrtend_TAU\"], \n",
    "                bins=bins[\"nr_neg\"], color=\"blue\", histtype=\"step\", lw=2)\n",
    "axes[2, 2].hist(test_cam_values.loc[test_cam_labels[\"nrtend_TAU\"] == -1, \"nrtend_TAU\"], \n",
    "                bins=bins[\"nr_neg\"], color=\"blue\", histtype=\"step\", lw=2)\n",
    "\n",
    "\n",
    "axes[0, 3].hist(test_pred_values.loc[test_cam_labels[\"nrtend_TAU\"] == 1, \"nrtend_TAU_1\"], bins=bins[\"nr_pos\"], color=\"purple\")\n",
    "axes[1, 3].hist(test_cam_values.loc[test_cam_labels[\"nrtend_TAU\"] == 1, \"nrtend_TAU\"], bins=bins[\"nr_pos\"], color=\"blue\")\n",
    "axes[2, 3].hist(mg2_test.loc[test_cam_labels[\"nrtend_TAU\"] == 1, \"nrtend_MG2\"], \n",
    "                bins=bins[\"nr_pos\"], color=\"green\")\n",
    "axes[0, 3].hist(test_cam_values.loc[test_cam_labels[\"nrtend_TAU\"] == 1, \"nrtend_TAU\"], \n",
    "                bins=bins[\"nr_pos\"], color=\"blue\", histtype=\"step\", lw=2)\n",
    "axes[2, 3].hist(test_cam_values.loc[test_cam_labels[\"nrtend_TAU\"] == 1, \"nrtend_TAU\"], \n",
    "                bins=bins[\"nr_pos\"], color=\"blue\", histtype=\"step\", lw=2)\n",
    "\n",
    "for i in range(3):\n",
    "    for j, out in enumerate([\"qr\", \"nc\", \"nr_neg\", \"nr_pos\"]):\n",
    "        axes[i, j].set_xticks(ticks[out])\n",
    "    axes[i, 0].set_ylabel(y_labels[i], fontsize=16)\n",
    "x_pos = [-15, -7, -11, -7]\n",
    "for j in range(4):\n",
    "    axes[0, j].text(x_pos[j], 50, f\"H={reg_scores.iloc[j, 3]:1.1e}\", fontsize=16, color='w')\n",
    "    axes[2, j].text(x_pos[j], 50, f\"H={mg2_scores.iloc[j, 3]:1.1e}\", fontsize=16, color='w')\n",
    "\n",
    "    axes[2, j].set_xlabel(x_labels[j], fontsize=16)\n",
    "plt.savefig(join(data_path, \"tendency_hist.pdf\"), bbox_inches=\"tight\")\n",
    "        "
   ]
  },
  {
   "cell_type": "code",
   "execution_count": 12,
   "metadata": {},
   "outputs": [
    {
     "name": "stderr",
     "output_type": "stream",
     "text": [
      "/glade/u/home/dgagne/miniconda3/envs/tf2/lib/python3.7/site-packages/matplotlib/colors.py:1110: RuntimeWarning: invalid value encountered in less_equal\n",
      "  mask |= resdat <= 0\n"
     ]
    },
    {
     "data": {
      "image/png": "[encoded data removed]",
      "text/plain": [
       "<Figure size 864x432 with 8 Axes>"
      ]
     },
     "metadata": {
      "needs_background": "light"
     },
     "output_type": "display_data"
    }
   ],
   "source": [
    "fig, axes = plt.subplots(2, 4, figsize=(12, 6))\n",
    "hist2d_ylabels = [\"TAU Emulator\", \"MG2 Bulk\"]\n",
    "_ = axes[0, 0].hist2d(test_cam_values.loc[test_cam_labels[\"qrtend_TAU\"] == 1, \"qrtend_TAU\"],\n",
    "                  test_pred_values.loc[test_cam_labels[\"qrtend_TAU\"] == 1, \"qrtend_TAU_1\"],\n",
    "                  bins=bins[\"qr\"], cmin=1, norm=LogNorm())\n",
    "_ =axes[0, 1].hist2d(test_cam_values.loc[test_cam_labels[\"nctend_TAU\"] == 1, \"nctend_TAU\"],\n",
    "                  test_pred_values.loc[test_cam_labels[\"nctend_TAU\"] == 1, \"nctend_TAU_1\"],\n",
    "                  bins=bins[\"nc\"], cmin=1, norm=LogNorm())\n",
    "_=axes[0, 2].hist2d(test_cam_values.loc[test_cam_labels[\"nrtend_TAU\"] == -1, \"nrtend_TAU\"],\n",
    "                  test_pred_values.loc[test_cam_labels[\"nrtend_TAU\"] == -1, \"nrtend_TAU_-1\"],\n",
    "                  bins=bins[\"nr_neg\"], cmin=1, norm=LogNorm())\n",
    "_=axes[0, 3].hist2d(test_cam_values.loc[test_cam_labels[\"nrtend_TAU\"] == 1, \"nrtend_TAU\"],\n",
    "                  test_pred_values.loc[test_cam_labels[\"nrtend_TAU\"] == 1, \"nrtend_TAU_1\"],\n",
    "                  bins=bins[\"nr_pos\"], cmin=1, norm=LogNorm())\n",
    "_ = axes[1, 0].hist2d(test_cam_values.loc[test_cam_labels[\"qrtend_TAU\"] == 1, \"qrtend_TAU\"],\n",
    "                    mg2_test.loc[test_cam_labels[\"qrtend_TAU\"] == 1, \"qrtend_MG2\"],\n",
    "                  bins=bins[\"qr\"], cmin=1, norm=LogNorm())\n",
    "_ =axes[1, 1].hist2d(test_cam_values.loc[test_cam_labels[\"nctend_TAU\"] == 1, \"nctend_TAU\"],\n",
    "                     mg2_test.loc[test_cam_labels[\"nctend_TAU\"] == 1, \"nctend_MG2\"],\n",
    "                  bins=bins[\"nc\"], cmin=1, norm=LogNorm())\n",
    "_=axes[1, 2].hist2d(test_cam_values.loc[test_cam_labels[\"nrtend_TAU\"] == -1, \"nrtend_TAU\"],\n",
    "                    mg2_test.loc[test_cam_labels[\"nrtend_TAU\"] == -1, \"nrtend_MG2\"],\n",
    "                  bins=bins[\"nr_neg\"], cmin=1, norm=LogNorm())\n",
    "_=axes[1, 3].hist2d(test_cam_values.loc[test_cam_labels[\"nrtend_TAU\"] == 1, \"nrtend_TAU\"],\n",
    "                    mg2_test.loc[test_cam_labels[\"nrtend_TAU\"] == 1, \"nrtend_MG2\"],\n",
    "                  bins=bins[\"nr_pos\"], cmin=1, norm=LogNorm())\n",
    "for a, out in enumerate([\"qr\", \"nc\", \"nr_neg\", \"nr_pos\"]):\n",
    "    axes[0, a].plot(bins[out], bins[out], 'k--')\n",
    "    axes[1, a].plot(bins[out], bins[out], 'k--')\n",
    "\n",
    "for i in range(2):\n",
    "    for j, out in enumerate([\"qr\", \"nc\", \"nr_neg\", \"nr_pos\"]):\n",
    "        axes[i, j].set_xticks(ticks[out])\n",
    "        axes[i, j].set_yticks(ticks[out])\n",
    "\n",
    "    axes[i, 0].set_ylabel(hist2d_ylabels[i], fontsize=16)\n",
    "for j, out in enumerate([\"qr\", \"nc\", \"nr_neg\", \"nr_pos\"]):\n",
    "    axes[1, j].set_xlabel(\"TAU Bin\", fontsize=16)\n",
    "    axes[0, j].set_title(x_labels[j], fontsize=16)\n",
    "    axes[0, j].text(bins[out][int(bins[out].size * 0.51)], \n",
    "                    bins[out][int(bins[out].size * 0.1)], f\"$R^2=${reg_scores.iloc[j, 2]:0.2f}\", fontsize=14, bbox=dict(facecolor='white', alpha=0.8))\n",
    "    axes[1, j].text(bins[out][int(bins[out].size * 0.51)], \n",
    "                    bins[out][int(bins[out].size * 0.1)], f\"$R^2=${mg2_scores.iloc[j, 2]:0.2f}\", fontsize=14, bbox=dict(facecolor='white', alpha=0.8))\n",
    "plt.savefig(join(data_path, \"tendency_hist2d.pdf\"), bbox_inches=\"tight\")\n"
   ]
  },
  {
   "cell_type": "code",
   "execution_count": 14,
   "metadata": {},
   "outputs": [
    {
     "data": {
      "text/plain": [
       "(167147803, 4)"
      ]
     },
     "execution_count": 14,
     "metadata": {},
     "output_type": "execute_result"
    }
   ],
   "source": [
    "test_pred_values.shape"
   ]
  },
  {
   "cell_type": "code",
   "execution_count": 49,
   "metadata": {},
   "outputs": [
    {
     "data": {
      "text/plain": [
       "32"
      ]
     },
     "execution_count": 49,
     "metadata": {},
     "output_type": "execute_result"
    }
   ],
   "source": [
    "bins[\"nr_pos\"].size"
   ]
  },
  {
   "cell_type": "code",
   "execution_count": 18,
   "metadata": {},
   "outputs": [
    {
     "data": {
      "text/html": [
       "<div>\n",
       "<style scoped>\n",
       "    .dataframe tbody tr th:only-of-type {\n",
       "        vertical-align: middle;\n",
       "    }\n",
       "\n",
       "    .dataframe tbody tr th {\n",
       "        vertical-align: top;\n",
       "    }\n",
       "\n",
       "    .dataframe thead th {\n",
       "        text-align: right;\n",
       "    }\n",
       "</style>\n",
       "<table border=\"1\" class=\"dataframe\">\n",
       "  <thead>\n",
       "    <tr style=\"text-align: right;\">\n",
       "      <th></th>\n",
       "      <th>rmse</th>\n",
       "      <th>mae</th>\n",
       "      <th>r2</th>\n",
       "      <th>hellinger</th>\n",
       "    </tr>\n",
       "    <tr>\n",
       "      <th>Output</th>\n",
       "      <th></th>\n",
       "      <th></th>\n",
       "      <th></th>\n",
       "      <th></th>\n",
       "    </tr>\n",
       "  </thead>\n",
       "  <tbody>\n",
       "    <tr>\n",
       "      <th>qrtend_TAU_1</th>\n",
       "      <td>4.706915</td>\n",
       "      <td>2.652418</td>\n",
       "      <td>0.004475</td>\n",
       "      <td>0.110987</td>\n",
       "    </tr>\n",
       "    <tr>\n",
       "      <th>nctend_TAU_1</th>\n",
       "      <td>2.556131</td>\n",
       "      <td>1.895779</td>\n",
       "      <td>0.411131</td>\n",
       "      <td>0.116597</td>\n",
       "    </tr>\n",
       "    <tr>\n",
       "      <th>nrtend_TAU_-1</th>\n",
       "      <td>3.945603</td>\n",
       "      <td>3.326279</td>\n",
       "      <td>0.125331</td>\n",
       "      <td>0.336990</td>\n",
       "    </tr>\n",
       "    <tr>\n",
       "      <th>nrtend_TAU_1</th>\n",
       "      <td>3.414961</td>\n",
       "      <td>2.808220</td>\n",
       "      <td>0.031346</td>\n",
       "      <td>0.351811</td>\n",
       "    </tr>\n",
       "  </tbody>\n",
       "</table>\n",
       "</div>"
      ],
      "text/plain": [
       "                   rmse       mae        r2  hellinger\n",
       "Output                                                \n",
       "qrtend_TAU_1   4.706915  2.652418  0.004475   0.110987\n",
       "nctend_TAU_1   2.556131  1.895779  0.411131   0.116597\n",
       "nrtend_TAU_-1  3.945603  3.326279  0.125331   0.336990\n",
       "nrtend_TAU_1   3.414961  2.808220  0.031346   0.351811"
      ]
     },
     "execution_count": 18,
     "metadata": {},
     "output_type": "execute_result"
    }
   ],
   "source": [
    "mg2_scores"
   ]
  },
  {
   "cell_type": "code",
   "execution_count": 22,
   "metadata": {},
   "outputs": [],
   "source": [
    "cm_qr = confusion_matrix(test_cam_labels[\"qrtend_TAU\"], test_pred_labels[\"qrtend_TAU\"])"
   ]
  },
  {
   "cell_type": "code",
   "execution_count": 29,
   "metadata": {},
   "outputs": [
    {
     "data": {
      "text/plain": [
       "array([[0.64200146, 0.01549923],\n",
       "       [0.01454044, 0.32795886]])"
      ]
     },
     "execution_count": 29,
     "metadata": {},
     "output_type": "execute_result"
    }
   ],
   "source": [
    "cm_qr / cm_qr.sum()"
   ]
  },
  {
   "cell_type": "code",
   "execution_count": 33,
   "metadata": {},
   "outputs": [],
   "source": [
    "cm_nc = confusion_matrix(test_cam_labels[\"nctend_TAU\"], test_pred_labels[\"nctend_TAU\"])"
   ]
  },
  {
   "cell_type": "code",
   "execution_count": 34,
   "metadata": {},
   "outputs": [
    {
     "data": {
      "text/plain": [
       "array([[0.50250749, 0.00621515],\n",
       "       [0.0029789 , 0.48829846]])"
      ]
     },
     "execution_count": 34,
     "metadata": {},
     "output_type": "execute_result"
    }
   ],
   "source": [
    "cm_nc / cm_nc.sum()"
   ]
  },
  {
   "cell_type": "code",
   "execution_count": 36,
   "metadata": {},
   "outputs": [],
   "source": [
    "cm_nr = confusion_matrix(test_cam_labels[\"nrtend_TAU\"], test_pred_labels[\"nrtend_TAU\"])"
   ]
  },
  {
   "cell_type": "code",
   "execution_count": 39,
   "metadata": {},
   "outputs": [],
   "source": [
    "cm_nr_per = cm_nr / cm_nr.sum() * 100"
   ]
  },
  {
   "cell_type": "code",
   "execution_count": 41,
   "metadata": {},
   "outputs": [
    {
     "data": {
      "text/plain": [
       "array([31.53037573, 48.47151222, 19.99811205])"
      ]
     },
     "execution_count": 41,
     "metadata": {},
     "output_type": "execute_result"
    }
   ],
   "source": [
    "cm_nr_per.sum(axis=1)"
   ]
  },
  {
   "cell_type": "code",
   "execution_count": 44,
   "metadata": {},
   "outputs": [
    {
     "data": {
      "text/plain": [
       "96.36197021098616"
      ]
     },
     "execution_count": 44,
     "metadata": {},
     "output_type": "execute_result"
    }
   ],
   "source": [
    "np.diag(cm_nr_per).sum()"
   ]
  },
  {
   "cell_type": "code",
   "execution_count": 76,
   "metadata": {},
   "outputs": [
    {
     "name": "stdout",
     "output_type": "stream",
     "text": [
      "WARNING:tensorflow:From /Users/dgagne/miniconda3/envs/ml/lib/python3.6/site-packages/tensorflow/python/framework/op_def_library.py:263: colocate_with (from tensorflow.python.framework.ops) is deprecated and will be removed in a future version.\n",
      "Instructions for updating:\n",
      "Colocations handled automatically by placer.\n",
      "WARNING:tensorflow:From /Users/dgagne/miniconda3/envs/ml/lib/python3.6/site-packages/tensorflow/python/ops/math_ops.py:3066: to_int32 (from tensorflow.python.ops.math_ops) is deprecated and will be removed in a future version.\n",
      "Instructions for updating:\n",
      "Use tf.cast instead.\n"
     ]
    }
   ],
   "source": [
    "mod = load_model(join(data_path, \"dnn_nc_pos.h5\"))"
   ]
  },
  {
   "cell_type": "code",
   "execution_count": 77,
   "metadata": {},
   "outputs": [
    {
     "name": "stdout",
     "output_type": "stream",
     "text": [
      "_________________________________________________________________\n",
      "Layer (type)                 Output Shape              Param #   \n",
      "=================================================================\n",
      "input (InputLayer)           (None, 5)                 0         \n",
      "_________________________________________________________________\n",
      "dense_00 (Dense)             (None, 30)                180       \n",
      "_________________________________________________________________\n",
      "dense_01 (Dense)             (None, 30)                930       \n",
      "_________________________________________________________________\n",
      "dense_02 (Dense)             (None, 30)                930       \n",
      "_________________________________________________________________\n",
      "dense_03 (Dense)             (None, 30)                930       \n",
      "_________________________________________________________________\n",
      "dense_04 (Dense)             (None, 30)                930       \n",
      "_________________________________________________________________\n",
      "dense_05 (Dense)             (None, 30)                930       \n",
      "_________________________________________________________________\n",
      "dense_06 (Dense)             (None, 1)                 31        \n",
      "=================================================================\n",
      "Total params: 4,861\n",
      "Trainable params: 4,861\n",
      "Non-trainable params: 0\n",
      "_________________________________________________________________\n"
     ]
    }
   ],
   "source": [
    "mod.summary()"
   ]
  },
  {
   "cell_type": "code",
   "execution_count": 82,
   "metadata": {},
   "outputs": [
    {
     "data": {
      "text/plain": [
       "<matplotlib.axes._subplots.AxesSubplot at 0x1207442b0>"
      ]
     },
     "execution_count": 82,
     "metadata": {},
     "output_type": "execute_result"
    },
    {
     "data": {
      "image/png": "[encoded data removed]",
      "text/plain": [
       "<Figure size 432x288 with 1 Axes>"
      ]
     },
     "metadata": {
      "needs_background": "light"
     },
     "output_type": "display_data"
    }
   ],
   "source": [
    "meta_test[\"lat\"].hist(bins=20)"
   ]
  },
  {
   "cell_type": "code",
   "execution_count": 96,
   "metadata": {},
   "outputs": [],
   "source": [
    "qr_label_pos = test_cam_labels[\"qrtend_TAU\"] == 1\n",
    "combined = pd.merge(meta_test.loc[qr_label_pos, \"lat\"], \n",
    "                    pd.DataFrame(test_pred_values.loc[qr_label_pos, \"qrtend_TAU_1\"] - \n",
    "                    test_cam_values.loc[qr_label_pos, \"qrtend_TAU\"], columns=[\"qrtend_TAU_diff\"]), \n",
    "                    left_index=True, right_index=True)"
   ]
  },
  {
   "cell_type": "code",
   "execution_count": 97,
   "metadata": {},
   "outputs": [
    {
     "data": {
      "text/html": [
       "<div>\n",
       "<style scoped>\n",
       "    .dataframe tbody tr th:only-of-type {\n",
       "        vertical-align: middle;\n",
       "    }\n",
       "\n",
       "    .dataframe tbody tr th {\n",
       "        vertical-align: top;\n",
       "    }\n",
       "\n",
       "    .dataframe thead th {\n",
       "        text-align: right;\n",
       "    }\n",
       "</style>\n",
       "<table border=\"1\" class=\"dataframe\">\n",
       "  <thead>\n",
       "    <tr style=\"text-align: right;\">\n",
       "      <th></th>\n",
       "      <th>lat</th>\n",
       "      <th>qrtend_TAU_diff</th>\n",
       "    </tr>\n",
       "    <tr>\n",
       "      <th>index</th>\n",
       "      <th></th>\n",
       "      <th></th>\n",
       "    </tr>\n",
       "  </thead>\n",
       "  <tbody>\n",
       "    <tr>\n",
       "      <th>9</th>\n",
       "      <td>-88.115183</td>\n",
       "      <td>2.129473</td>\n",
       "    </tr>\n",
       "    <tr>\n",
       "      <th>11</th>\n",
       "      <td>-88.115183</td>\n",
       "      <td>0.067636</td>\n",
       "    </tr>\n",
       "    <tr>\n",
       "      <th>12</th>\n",
       "      <td>-88.115183</td>\n",
       "      <td>0.431636</td>\n",
       "    </tr>\n",
       "    <tr>\n",
       "      <th>15</th>\n",
       "      <td>-88.115183</td>\n",
       "      <td>1.482628</td>\n",
       "    </tr>\n",
       "    <tr>\n",
       "      <th>16</th>\n",
       "      <td>-88.115183</td>\n",
       "      <td>1.287512</td>\n",
       "    </tr>\n",
       "    <tr>\n",
       "      <th>22</th>\n",
       "      <td>-87.172775</td>\n",
       "      <td>1.281260</td>\n",
       "    </tr>\n",
       "    <tr>\n",
       "      <th>23</th>\n",
       "      <td>-87.172775</td>\n",
       "      <td>0.647418</td>\n",
       "    </tr>\n",
       "    <tr>\n",
       "      <th>42</th>\n",
       "      <td>-86.230366</td>\n",
       "      <td>0.026662</td>\n",
       "    </tr>\n",
       "    <tr>\n",
       "      <th>43</th>\n",
       "      <td>-86.230366</td>\n",
       "      <td>0.147254</td>\n",
       "    </tr>\n",
       "    <tr>\n",
       "      <th>56</th>\n",
       "      <td>-86.230366</td>\n",
       "      <td>0.204617</td>\n",
       "    </tr>\n",
       "    <tr>\n",
       "      <th>88</th>\n",
       "      <td>-85.287958</td>\n",
       "      <td>1.483352</td>\n",
       "    </tr>\n",
       "    <tr>\n",
       "      <th>97</th>\n",
       "      <td>-85.287958</td>\n",
       "      <td>1.332925</td>\n",
       "    </tr>\n",
       "    <tr>\n",
       "      <th>98</th>\n",
       "      <td>-85.287958</td>\n",
       "      <td>0.567314</td>\n",
       "    </tr>\n",
       "    <tr>\n",
       "      <th>104</th>\n",
       "      <td>-85.287958</td>\n",
       "      <td>0.073799</td>\n",
       "    </tr>\n",
       "    <tr>\n",
       "      <th>106</th>\n",
       "      <td>-85.287958</td>\n",
       "      <td>0.328434</td>\n",
       "    </tr>\n",
       "    <tr>\n",
       "      <th>107</th>\n",
       "      <td>-85.287958</td>\n",
       "      <td>-0.014656</td>\n",
       "    </tr>\n",
       "    <tr>\n",
       "      <th>115</th>\n",
       "      <td>-85.287958</td>\n",
       "      <td>0.019542</td>\n",
       "    </tr>\n",
       "    <tr>\n",
       "      <th>120</th>\n",
       "      <td>-85.287958</td>\n",
       "      <td>0.046265</td>\n",
       "    </tr>\n",
       "    <tr>\n",
       "      <th>126</th>\n",
       "      <td>-85.287958</td>\n",
       "      <td>0.553384</td>\n",
       "    </tr>\n",
       "    <tr>\n",
       "      <th>132</th>\n",
       "      <td>-85.287958</td>\n",
       "      <td>0.677964</td>\n",
       "    </tr>\n",
       "    <tr>\n",
       "      <th>133</th>\n",
       "      <td>-85.287958</td>\n",
       "      <td>0.640638</td>\n",
       "    </tr>\n",
       "    <tr>\n",
       "      <th>134</th>\n",
       "      <td>-85.287958</td>\n",
       "      <td>0.826150</td>\n",
       "    </tr>\n",
       "    <tr>\n",
       "      <th>138</th>\n",
       "      <td>-85.287958</td>\n",
       "      <td>0.399292</td>\n",
       "    </tr>\n",
       "    <tr>\n",
       "      <th>139</th>\n",
       "      <td>-85.287958</td>\n",
       "      <td>0.738700</td>\n",
       "    </tr>\n",
       "    <tr>\n",
       "      <th>144</th>\n",
       "      <td>-85.287958</td>\n",
       "      <td>0.245780</td>\n",
       "    </tr>\n",
       "    <tr>\n",
       "      <th>145</th>\n",
       "      <td>-85.287958</td>\n",
       "      <td>0.001127</td>\n",
       "    </tr>\n",
       "    <tr>\n",
       "      <th>146</th>\n",
       "      <td>-85.287958</td>\n",
       "      <td>0.022521</td>\n",
       "    </tr>\n",
       "    <tr>\n",
       "      <th>148</th>\n",
       "      <td>-85.287958</td>\n",
       "      <td>0.434956</td>\n",
       "    </tr>\n",
       "    <tr>\n",
       "      <th>150</th>\n",
       "      <td>-85.287958</td>\n",
       "      <td>0.240522</td>\n",
       "    </tr>\n",
       "    <tr>\n",
       "      <th>153</th>\n",
       "      <td>-85.287958</td>\n",
       "      <td>0.163798</td>\n",
       "    </tr>\n",
       "    <tr>\n",
       "      <th>...</th>\n",
       "      <td>...</td>\n",
       "      <td>...</td>\n",
       "    </tr>\n",
       "    <tr>\n",
       "      <th>3442790</th>\n",
       "      <td>87.172775</td>\n",
       "      <td>0.946641</td>\n",
       "    </tr>\n",
       "    <tr>\n",
       "      <th>3442806</th>\n",
       "      <td>88.115183</td>\n",
       "      <td>-0.298864</td>\n",
       "    </tr>\n",
       "    <tr>\n",
       "      <th>3442807</th>\n",
       "      <td>88.115183</td>\n",
       "      <td>0.503457</td>\n",
       "    </tr>\n",
       "    <tr>\n",
       "      <th>3442812</th>\n",
       "      <td>88.115183</td>\n",
       "      <td>0.833508</td>\n",
       "    </tr>\n",
       "    <tr>\n",
       "      <th>3442813</th>\n",
       "      <td>88.115183</td>\n",
       "      <td>0.544087</td>\n",
       "    </tr>\n",
       "    <tr>\n",
       "      <th>3442814</th>\n",
       "      <td>88.115183</td>\n",
       "      <td>0.141628</td>\n",
       "    </tr>\n",
       "    <tr>\n",
       "      <th>3442815</th>\n",
       "      <td>88.115183</td>\n",
       "      <td>0.323074</td>\n",
       "    </tr>\n",
       "    <tr>\n",
       "      <th>3442816</th>\n",
       "      <td>88.115183</td>\n",
       "      <td>0.074194</td>\n",
       "    </tr>\n",
       "    <tr>\n",
       "      <th>3442817</th>\n",
       "      <td>88.115183</td>\n",
       "      <td>0.507655</td>\n",
       "    </tr>\n",
       "    <tr>\n",
       "      <th>3442818</th>\n",
       "      <td>88.115183</td>\n",
       "      <td>0.630472</td>\n",
       "    </tr>\n",
       "    <tr>\n",
       "      <th>3442819</th>\n",
       "      <td>88.115183</td>\n",
       "      <td>0.735464</td>\n",
       "    </tr>\n",
       "    <tr>\n",
       "      <th>3442820</th>\n",
       "      <td>88.115183</td>\n",
       "      <td>0.878612</td>\n",
       "    </tr>\n",
       "    <tr>\n",
       "      <th>3442821</th>\n",
       "      <td>88.115183</td>\n",
       "      <td>1.101049</td>\n",
       "    </tr>\n",
       "    <tr>\n",
       "      <th>3442822</th>\n",
       "      <td>88.115183</td>\n",
       "      <td>0.969587</td>\n",
       "    </tr>\n",
       "    <tr>\n",
       "      <th>3442836</th>\n",
       "      <td>89.057592</td>\n",
       "      <td>0.926099</td>\n",
       "    </tr>\n",
       "    <tr>\n",
       "      <th>3442837</th>\n",
       "      <td>89.057592</td>\n",
       "      <td>1.162364</td>\n",
       "    </tr>\n",
       "    <tr>\n",
       "      <th>3442838</th>\n",
       "      <td>89.057592</td>\n",
       "      <td>1.111940</td>\n",
       "    </tr>\n",
       "    <tr>\n",
       "      <th>3442844</th>\n",
       "      <td>89.057592</td>\n",
       "      <td>1.444518</td>\n",
       "    </tr>\n",
       "    <tr>\n",
       "      <th>3442845</th>\n",
       "      <td>89.057592</td>\n",
       "      <td>1.035673</td>\n",
       "    </tr>\n",
       "    <tr>\n",
       "      <th>3442846</th>\n",
       "      <td>89.057592</td>\n",
       "      <td>1.282470</td>\n",
       "    </tr>\n",
       "    <tr>\n",
       "      <th>3442847</th>\n",
       "      <td>89.057592</td>\n",
       "      <td>-0.449233</td>\n",
       "    </tr>\n",
       "    <tr>\n",
       "      <th>3442848</th>\n",
       "      <td>89.057592</td>\n",
       "      <td>-0.468310</td>\n",
       "    </tr>\n",
       "    <tr>\n",
       "      <th>3442849</th>\n",
       "      <td>89.057592</td>\n",
       "      <td>0.991186</td>\n",
       "    </tr>\n",
       "    <tr>\n",
       "      <th>3442850</th>\n",
       "      <td>89.057592</td>\n",
       "      <td>0.891305</td>\n",
       "    </tr>\n",
       "    <tr>\n",
       "      <th>3442851</th>\n",
       "      <td>89.057592</td>\n",
       "      <td>0.685378</td>\n",
       "    </tr>\n",
       "    <tr>\n",
       "      <th>3442852</th>\n",
       "      <td>89.057592</td>\n",
       "      <td>0.746522</td>\n",
       "    </tr>\n",
       "    <tr>\n",
       "      <th>3442853</th>\n",
       "      <td>89.057592</td>\n",
       "      <td>0.811736</td>\n",
       "    </tr>\n",
       "    <tr>\n",
       "      <th>3442854</th>\n",
       "      <td>89.057592</td>\n",
       "      <td>0.479601</td>\n",
       "    </tr>\n",
       "    <tr>\n",
       "      <th>3442855</th>\n",
       "      <td>89.057592</td>\n",
       "      <td>0.681592</td>\n",
       "    </tr>\n",
       "    <tr>\n",
       "      <th>3442856</th>\n",
       "      <td>89.057592</td>\n",
       "      <td>0.694018</td>\n",
       "    </tr>\n",
       "  </tbody>\n",
       "</table>\n",
       "<p>1179184 rows × 2 columns</p>\n",
       "</div>"
      ],
      "text/plain": [
       "               lat  qrtend_TAU_diff\n",
       "index                              \n",
       "9       -88.115183         2.129473\n",
       "11      -88.115183         0.067636\n",
       "12      -88.115183         0.431636\n",
       "15      -88.115183         1.482628\n",
       "16      -88.115183         1.287512\n",
       "22      -87.172775         1.281260\n",
       "23      -87.172775         0.647418\n",
       "42      -86.230366         0.026662\n",
       "43      -86.230366         0.147254\n",
       "56      -86.230366         0.204617\n",
       "88      -85.287958         1.483352\n",
       "97      -85.287958         1.332925\n",
       "98      -85.287958         0.567314\n",
       "104     -85.287958         0.073799\n",
       "106     -85.287958         0.328434\n",
       "107     -85.287958        -0.014656\n",
       "115     -85.287958         0.019542\n",
       "120     -85.287958         0.046265\n",
       "126     -85.287958         0.553384\n",
       "132     -85.287958         0.677964\n",
       "133     -85.287958         0.640638\n",
       "134     -85.287958         0.826150\n",
       "138     -85.287958         0.399292\n",
       "139     -85.287958         0.738700\n",
       "144     -85.287958         0.245780\n",
       "145     -85.287958         0.001127\n",
       "146     -85.287958         0.022521\n",
       "148     -85.287958         0.434956\n",
       "150     -85.287958         0.240522\n",
       "153     -85.287958         0.163798\n",
       "...            ...              ...\n",
       "3442790  87.172775         0.946641\n",
       "3442806  88.115183        -0.298864\n",
       "3442807  88.115183         0.503457\n",
       "3442812  88.115183         0.833508\n",
       "3442813  88.115183         0.544087\n",
       "3442814  88.115183         0.141628\n",
       "3442815  88.115183         0.323074\n",
       "3442816  88.115183         0.074194\n",
       "3442817  88.115183         0.507655\n",
       "3442818  88.115183         0.630472\n",
       "3442819  88.115183         0.735464\n",
       "3442820  88.115183         0.878612\n",
       "3442821  88.115183         1.101049\n",
       "3442822  88.115183         0.969587\n",
       "3442836  89.057592         0.926099\n",
       "3442837  89.057592         1.162364\n",
       "3442838  89.057592         1.111940\n",
       "3442844  89.057592         1.444518\n",
       "3442845  89.057592         1.035673\n",
       "3442846  89.057592         1.282470\n",
       "3442847  89.057592        -0.449233\n",
       "3442848  89.057592        -0.468310\n",
       "3442849  89.057592         0.991186\n",
       "3442850  89.057592         0.891305\n",
       "3442851  89.057592         0.685378\n",
       "3442852  89.057592         0.746522\n",
       "3442853  89.057592         0.811736\n",
       "3442854  89.057592         0.479601\n",
       "3442855  89.057592         0.681592\n",
       "3442856  89.057592         0.694018\n",
       "\n",
       "[1179184 rows x 2 columns]"
      ]
     },
     "execution_count": 97,
     "metadata": {},
     "output_type": "execute_result"
    }
   ],
   "source": [
    "combined[\"lat_round\"] = np.round()"
   ]
  },
  {
   "cell_type": "code",
   "execution_count": null,
   "metadata": {},
   "outputs": [],
   "source": []
  }
 ],
 "metadata": {
  "kernelspec": {
   "display_name": "Python 3",
   "language": "python",
   "name": "python3"
  },
  "language_info": {
   "codemirror_mode": {
    "name": "ipython",
    "version": 3
   },
   "file_extension": ".py",
   "mimetype": "text/x-python",
   "name": "python",
   "nbconvert_exporter": "python",
   "pygments_lexer": "ipython3",
   "version": "3.7.3"
  }
 },
 "nbformat": 4,
 "nbformat_minor": 4
}
