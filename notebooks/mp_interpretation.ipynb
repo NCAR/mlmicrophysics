{
 "cells": [
  {
   "cell_type": "code",
   "execution_count": 30,
   "metadata": {},
   "outputs": [],
   "source": [
    "import pandas as pd\n",
    "from mlmicrophysics.data import assemble_data_files, subset_data_files_by_date\n",
    "from sklearn.preprocessing import MinMaxScaler, MaxAbsScaler, StandardScaler, RobustScaler\n",
    "import numpy as np\n",
    "from keras.models import load_model\n",
    "import matplotlib.pyplot as plt\n",
    "import yaml\n",
    "from os.path import join, exists\n",
    "%matplotlib inline"
   ]
  },
  {
   "cell_type": "code",
   "execution_count": 7,
   "metadata": {},
   "outputs": [],
   "source": [
    "scalers = {\"MinMaxScaler\": MinMaxScaler,\n",
    "           \"MaxAbsScaler\": MaxAbsScaler,\n",
    "           \"StandardScaler\": StandardScaler,\n",
    "           \"RobustScaler\": RobustScaler}\n"
   ]
  },
  {
   "cell_type": "code",
   "execution_count": 10,
   "metadata": {},
   "outputs": [
    {
     "name": "stderr",
     "output_type": "stream",
     "text": [
      "/glade/work/dgagne/ncar_pylib_dl_10/lib/python3.6/site-packages/ipykernel_launcher.py:3: YAMLLoadWarning: calling yaml.load() without Loader=... is deprecated, as the default Loader is unsafe. Please read https://msg.pyyaml.org/load for full details.\n",
      "  This is separate from the ipykernel package so we can avoid doing imports until\n"
     ]
    },
    {
     "name": "stdout",
     "output_type": "stream",
     "text": [
      "[    0    25    50    75   100   125   150   175   200   225   250   275\n",
      "   300   325   350   375   400   425   450   475   500   525   550   575\n",
      "   600   625   650   675   700   725   750   775   800   825   850   875\n",
      "   900   925   950   975  1000  1025  1050  1075  1100  1125  1150  1175\n",
      "  1200  1225  1250  1275  1300  1325  1350  1375  1400  1425  1450  1475\n",
      "  1500  1525  1550  1575  1600  1625  1650  1675  1700  1725  1750  1775\n",
      "  1800  1825  1850  1875  1900  1925  1950  1975  2000  2025  2050  2075\n",
      "  2100  2125  2150  2175  2200  2225  2250  2275  2300  2325  2350  2375\n",
      "  2400  2425  2450  2475  2500  2525  2550  2575  2600  2625  2650  2675\n",
      "  2700  2725  2750  2775  2800  2825  2850  2875  2900  2925  2950  2975\n",
      "  3000  3025  3050  3075  3100  3125  3150  3175  3200  3225  3250  3275\n",
      "  3300  3325  3350  3375  3400  3425  3450  3475  3500  3525  3550  3575\n",
      "  3600  3625  3650  3675  3700  3725  3750  3775  3800  3825  3850  3875\n",
      "  3900  3925  3950  3975  4000  4025  4050  4075  4100  4125  4150  4175\n",
      "  4200  4225  4250  4275  4300  4325  4350  4375  4400  4425  4450  4475\n",
      "  4500  4525  4550  4575  4600  4625  4650  4675  4700  4725  4750  4775\n",
      "  4800  4825  4850  4875  4900  4925  4950  4975  5000  5025  5050  5075\n",
      "  5100  5125  5150  5175  5200  5225  5250  5275  5300  5325  5350  5375\n",
      "  5400  5425  5450  5475  5500  5525  5550  5575  5600  5625  5650  5675\n",
      "  5700  5725  5750  5775  5800  5825  5850  5875  5900  5925  5950  5975\n",
      "  6000  6025  6050  6075  6100  6125  6150  6175  6200  6225  6250  6275\n",
      "  6300  6325  6350  6375  6400  6425  6450  6475  6500  6525  6550  6575\n",
      "  6600  6625  6650  6675  6700  6725  6750  6775  6800  6825  6850  6875\n",
      "  6900  6925  6950  6975  7000  7025  7050  7075  7100  7125  7150  7175\n",
      "  7200  7225  7250  7275  7300  7325  7350  7375  7400  7425  7450  7475\n",
      "  7500  7525  7550  7575  7600  7625  7650  7675  7700  7725  7750  7775\n",
      "  7800  7825  7850  7875  7900  7925  7950  7975  8000  8025  8050  8075\n",
      "  8100  8125  8150  8175  8200  8225  8250  8275  8300  8325  8350  8375\n",
      "  8400  8425  8450  8475  8500  8525  8550  8575  8600  8625  8650  8675\n",
      "  8700  8725  8750  8775  8800  8825  8850  8875  8900  8925  8950  8975\n",
      "  9000  9025  9050  9075  9100  9125  9150  9175  9200  9225  9250  9275\n",
      "  9300  9325  9350  9375  9400  9425  9450  9475  9500  9525  9550  9575\n",
      "  9600  9625  9650  9675  9700  9725  9750  9775  9800  9825  9850  9875\n",
      "  9900  9925  9950  9975 10000 10025 10050 10075 10100 10125 10150 10175\n",
      " 10200 10225 10250 10275 10300 10325 10350 10375 10400 10425 10450 10475\n",
      " 10500 10525 10550 10575 10600 10625 10650 10675 10700 10725 10750 10775\n",
      " 10800 10825 10850 10875 10900 10925 10950 10975 11000 11025 11050 11075\n",
      " 11100 11125 11150 11175 11200 11225 11250 11275 11300 11325 11350 11375\n",
      " 11400 11425 11450 11475 11500 11525 11550 11575 11600 11625 11650 11675\n",
      " 11700 11725 11750 11775 11800 11825 11850 11875 11900 11925 11950 11975\n",
      " 12000 12025 12050 12075 12100 12125 12150 12175 12200 12225 12250 12275\n",
      " 12300 12325 12350 12375 12400 12425 12450 12475 12500 12525 12550 12575\n",
      " 12600 12625 12650 12675 12700 12725 12750 12775 12800 12825 12850 12875\n",
      " 12900 12925 12950 12975 13000 13025 13050 13075 13100 13125 13150 13175\n",
      " 13200 13225 13250 13275 13300 13325 13350 13375 13400 13425 13450 13475\n",
      " 13500 13525 13550 13575 13600 13625 13650 13675 13700 13725 13750 13775\n",
      " 13800 13825 13850 13875 13900 13925 13950 13975 14000 14025 14050 14075\n",
      " 14100 14125 14150 14175 14200 14225 14250 14275 14300 14325 14350 14375\n",
      " 14400 14425 14450 14475 14500 14525 14550 14575 14600 14625 14650 14675\n",
      " 14700 14725 14750 14775 14800 14825 14850 14875 14900 14925 14950 14975\n",
      " 15000 15025 15050 15075 15100 15125 15150 15175 15200 15225 15250 15275\n",
      " 15300 15325 15350 15375 15400 15425 15450 15475 15500 15525 15550 15575\n",
      " 15600 15625 15650 15675 15700 15725 15750 15775 15800 15825 15850 15875\n",
      " 15900 15925 15950 15975 16000 16025 16050 16075 16100 16125 16150 16175\n",
      " 16200 16225 16250 16275 16300 16325 16350 16375 16400 16425 16450 16475\n",
      " 16500 16525 16550 16575 16600 16625 16650 16675 16700 16725 16750 16775\n",
      " 16800 16825 16850 16875 16900 16925 16950 16975 17000 17025 17050 17075\n",
      " 17100 17125 17150 17175 17200 17225 17250 17275 17300 17325 17350 17375\n",
      " 17400 17425 17450 17475 17500]\n",
      "Loading training data\n",
      "/glade/p/cisl/aiml/dgagne/cam_mp_files_run5_full_csv/cam_mp_data_run5_000025.csv\n",
      "/glade/p/cisl/aiml/dgagne/cam_mp_files_run5_full_csv/cam_mp_data_run5_000050.csv\n",
      "/glade/p/cisl/aiml/dgagne/cam_mp_files_run5_full_csv/cam_mp_data_run5_000100.csv\n",
      "/glade/p/cisl/aiml/dgagne/cam_mp_files_run5_full_csv/cam_mp_data_run5_000125.csv\n",
      "/glade/p/cisl/aiml/dgagne/cam_mp_files_run5_full_csv/cam_mp_data_run5_000175.csv\n",
      "/glade/p/cisl/aiml/dgagne/cam_mp_files_run5_full_csv/cam_mp_data_run5_000200.csv\n",
      "/glade/p/cisl/aiml/dgagne/cam_mp_files_run5_full_csv/cam_mp_data_run5_000250.csv\n",
      "/glade/p/cisl/aiml/dgagne/cam_mp_files_run5_full_csv/cam_mp_data_run5_000275.csv\n",
      "/glade/p/cisl/aiml/dgagne/cam_mp_files_run5_full_csv/cam_mp_data_run5_000325.csv\n",
      "/glade/p/cisl/aiml/dgagne/cam_mp_files_run5_full_csv/cam_mp_data_run5_000350.csv\n",
      "/glade/p/cisl/aiml/dgagne/cam_mp_files_run5_full_csv/cam_mp_data_run5_000400.csv\n",
      "/glade/p/cisl/aiml/dgagne/cam_mp_files_run5_full_csv/cam_mp_data_run5_000425.csv\n",
      "/glade/p/cisl/aiml/dgagne/cam_mp_files_run5_full_csv/cam_mp_data_run5_000475.csv\n",
      "/glade/p/cisl/aiml/dgagne/cam_mp_files_run5_full_csv/cam_mp_data_run5_000500.csv\n",
      "/glade/p/cisl/aiml/dgagne/cam_mp_files_run5_full_csv/cam_mp_data_run5_000550.csv\n",
      "/glade/p/cisl/aiml/dgagne/cam_mp_files_run5_full_csv/cam_mp_data_run5_000575.csv\n",
      "/glade/p/cisl/aiml/dgagne/cam_mp_files_run5_full_csv/cam_mp_data_run5_000625.csv\n",
      "/glade/p/cisl/aiml/dgagne/cam_mp_files_run5_full_csv/cam_mp_data_run5_000650.csv\n",
      "/glade/p/cisl/aiml/dgagne/cam_mp_files_run5_full_csv/cam_mp_data_run5_000700.csv\n",
      "/glade/p/cisl/aiml/dgagne/cam_mp_files_run5_full_csv/cam_mp_data_run5_000725.csv\n",
      "/glade/p/cisl/aiml/dgagne/cam_mp_files_run5_full_csv/cam_mp_data_run5_000775.csv\n",
      "/glade/p/cisl/aiml/dgagne/cam_mp_files_run5_full_csv/cam_mp_data_run5_000800.csv\n",
      "/glade/p/cisl/aiml/dgagne/cam_mp_files_run5_full_csv/cam_mp_data_run5_000850.csv\n",
      "/glade/p/cisl/aiml/dgagne/cam_mp_files_run5_full_csv/cam_mp_data_run5_000875.csv\n",
      "/glade/p/cisl/aiml/dgagne/cam_mp_files_run5_full_csv/cam_mp_data_run5_000925.csv\n",
      "/glade/p/cisl/aiml/dgagne/cam_mp_files_run5_full_csv/cam_mp_data_run5_000950.csv\n",
      "/glade/p/cisl/aiml/dgagne/cam_mp_files_run5_full_csv/cam_mp_data_run5_001000.csv\n",
      "/glade/p/cisl/aiml/dgagne/cam_mp_files_run5_full_csv/cam_mp_data_run5_001025.csv\n",
      "/glade/p/cisl/aiml/dgagne/cam_mp_files_run5_full_csv/cam_mp_data_run5_001075.csv\n",
      "/glade/p/cisl/aiml/dgagne/cam_mp_files_run5_full_csv/cam_mp_data_run5_001100.csv\n",
      "/glade/p/cisl/aiml/dgagne/cam_mp_files_run5_full_csv/cam_mp_data_run5_001150.csv\n",
      "/glade/p/cisl/aiml/dgagne/cam_mp_files_run5_full_csv/cam_mp_data_run5_001175.csv\n",
      "/glade/p/cisl/aiml/dgagne/cam_mp_files_run5_full_csv/cam_mp_data_run5_001225.csv\n",
      "/glade/p/cisl/aiml/dgagne/cam_mp_files_run5_full_csv/cam_mp_data_run5_001250.csv\n",
      "/glade/p/cisl/aiml/dgagne/cam_mp_files_run5_full_csv/cam_mp_data_run5_001300.csv\n",
      "/glade/p/cisl/aiml/dgagne/cam_mp_files_run5_full_csv/cam_mp_data_run5_001325.csv\n",
      "/glade/p/cisl/aiml/dgagne/cam_mp_files_run5_full_csv/cam_mp_data_run5_001375.csv\n",
      "/glade/p/cisl/aiml/dgagne/cam_mp_files_run5_full_csv/cam_mp_data_run5_001400.csv\n",
      "/glade/p/cisl/aiml/dgagne/cam_mp_files_run5_full_csv/cam_mp_data_run5_001450.csv\n",
      "/glade/p/cisl/aiml/dgagne/cam_mp_files_run5_full_csv/cam_mp_data_run5_001475.csv\n",
      "/glade/p/cisl/aiml/dgagne/cam_mp_files_run5_full_csv/cam_mp_data_run5_001525.csv\n",
      "/glade/p/cisl/aiml/dgagne/cam_mp_files_run5_full_csv/cam_mp_data_run5_001550.csv\n",
      "/glade/p/cisl/aiml/dgagne/cam_mp_files_run5_full_csv/cam_mp_data_run5_001600.csv\n",
      "/glade/p/cisl/aiml/dgagne/cam_mp_files_run5_full_csv/cam_mp_data_run5_001625.csv\n",
      "/glade/p/cisl/aiml/dgagne/cam_mp_files_run5_full_csv/cam_mp_data_run5_001675.csv\n",
      "/glade/p/cisl/aiml/dgagne/cam_mp_files_run5_full_csv/cam_mp_data_run5_001700.csv\n",
      "/glade/p/cisl/aiml/dgagne/cam_mp_files_run5_full_csv/cam_mp_data_run5_001750.csv\n",
      "/glade/p/cisl/aiml/dgagne/cam_mp_files_run5_full_csv/cam_mp_data_run5_001775.csv\n",
      "/glade/p/cisl/aiml/dgagne/cam_mp_files_run5_full_csv/cam_mp_data_run5_001825.csv\n",
      "/glade/p/cisl/aiml/dgagne/cam_mp_files_run5_full_csv/cam_mp_data_run5_001850.csv\n",
      "/glade/p/cisl/aiml/dgagne/cam_mp_files_run5_full_csv/cam_mp_data_run5_001900.csv\n",
      "/glade/p/cisl/aiml/dgagne/cam_mp_files_run5_full_csv/cam_mp_data_run5_001925.csv\n",
      "/glade/p/cisl/aiml/dgagne/cam_mp_files_run5_full_csv/cam_mp_data_run5_001975.csv\n",
      "/glade/p/cisl/aiml/dgagne/cam_mp_files_run5_full_csv/cam_mp_data_run5_002000.csv\n",
      "/glade/p/cisl/aiml/dgagne/cam_mp_files_run5_full_csv/cam_mp_data_run5_002050.csv\n",
      "/glade/p/cisl/aiml/dgagne/cam_mp_files_run5_full_csv/cam_mp_data_run5_002075.csv\n",
      "/glade/p/cisl/aiml/dgagne/cam_mp_files_run5_full_csv/cam_mp_data_run5_002125.csv\n",
      "/glade/p/cisl/aiml/dgagne/cam_mp_files_run5_full_csv/cam_mp_data_run5_002150.csv\n",
      "/glade/p/cisl/aiml/dgagne/cam_mp_files_run5_full_csv/cam_mp_data_run5_002200.csv\n",
      "/glade/p/cisl/aiml/dgagne/cam_mp_files_run5_full_csv/cam_mp_data_run5_002225.csv\n",
      "/glade/p/cisl/aiml/dgagne/cam_mp_files_run5_full_csv/cam_mp_data_run5_002275.csv\n",
      "/glade/p/cisl/aiml/dgagne/cam_mp_files_run5_full_csv/cam_mp_data_run5_002300.csv\n",
      "/glade/p/cisl/aiml/dgagne/cam_mp_files_run5_full_csv/cam_mp_data_run5_002350.csv\n",
      "/glade/p/cisl/aiml/dgagne/cam_mp_files_run5_full_csv/cam_mp_data_run5_002375.csv\n",
      "/glade/p/cisl/aiml/dgagne/cam_mp_files_run5_full_csv/cam_mp_data_run5_002425.csv\n",
      "/glade/p/cisl/aiml/dgagne/cam_mp_files_run5_full_csv/cam_mp_data_run5_002450.csv\n",
      "/glade/p/cisl/aiml/dgagne/cam_mp_files_run5_full_csv/cam_mp_data_run5_002500.csv\n",
      "/glade/p/cisl/aiml/dgagne/cam_mp_files_run5_full_csv/cam_mp_data_run5_002525.csv\n",
      "/glade/p/cisl/aiml/dgagne/cam_mp_files_run5_full_csv/cam_mp_data_run5_002575.csv\n",
      "/glade/p/cisl/aiml/dgagne/cam_mp_files_run5_full_csv/cam_mp_data_run5_002600.csv\n",
      "/glade/p/cisl/aiml/dgagne/cam_mp_files_run5_full_csv/cam_mp_data_run5_002650.csv\n",
      "/glade/p/cisl/aiml/dgagne/cam_mp_files_run5_full_csv/cam_mp_data_run5_002675.csv\n",
      "/glade/p/cisl/aiml/dgagne/cam_mp_files_run5_full_csv/cam_mp_data_run5_002725.csv\n",
      "/glade/p/cisl/aiml/dgagne/cam_mp_files_run5_full_csv/cam_mp_data_run5_002750.csv\n",
      "/glade/p/cisl/aiml/dgagne/cam_mp_files_run5_full_csv/cam_mp_data_run5_002800.csv\n",
      "/glade/p/cisl/aiml/dgagne/cam_mp_files_run5_full_csv/cam_mp_data_run5_002825.csv\n",
      "/glade/p/cisl/aiml/dgagne/cam_mp_files_run5_full_csv/cam_mp_data_run5_002875.csv\n",
      "/glade/p/cisl/aiml/dgagne/cam_mp_files_run5_full_csv/cam_mp_data_run5_002900.csv\n",
      "/glade/p/cisl/aiml/dgagne/cam_mp_files_run5_full_csv/cam_mp_data_run5_002950.csv\n",
      "/glade/p/cisl/aiml/dgagne/cam_mp_files_run5_full_csv/cam_mp_data_run5_002975.csv\n",
      "/glade/p/cisl/aiml/dgagne/cam_mp_files_run5_full_csv/cam_mp_data_run5_003025.csv\n",
      "/glade/p/cisl/aiml/dgagne/cam_mp_files_run5_full_csv/cam_mp_data_run5_003050.csv\n",
      "/glade/p/cisl/aiml/dgagne/cam_mp_files_run5_full_csv/cam_mp_data_run5_003100.csv\n",
      "/glade/p/cisl/aiml/dgagne/cam_mp_files_run5_full_csv/cam_mp_data_run5_003125.csv\n",
      "/glade/p/cisl/aiml/dgagne/cam_mp_files_run5_full_csv/cam_mp_data_run5_003175.csv\n",
      "/glade/p/cisl/aiml/dgagne/cam_mp_files_run5_full_csv/cam_mp_data_run5_003200.csv\n",
      "/glade/p/cisl/aiml/dgagne/cam_mp_files_run5_full_csv/cam_mp_data_run5_003250.csv\n",
      "/glade/p/cisl/aiml/dgagne/cam_mp_files_run5_full_csv/cam_mp_data_run5_003275.csv\n",
      "/glade/p/cisl/aiml/dgagne/cam_mp_files_run5_full_csv/cam_mp_data_run5_003325.csv\n",
      "/glade/p/cisl/aiml/dgagne/cam_mp_files_run5_full_csv/cam_mp_data_run5_003350.csv\n",
      "/glade/p/cisl/aiml/dgagne/cam_mp_files_run5_full_csv/cam_mp_data_run5_003400.csv\n",
      "/glade/p/cisl/aiml/dgagne/cam_mp_files_run5_full_csv/cam_mp_data_run5_003425.csv\n",
      "/glade/p/cisl/aiml/dgagne/cam_mp_files_run5_full_csv/cam_mp_data_run5_003475.csv\n",
      "/glade/p/cisl/aiml/dgagne/cam_mp_files_run5_full_csv/cam_mp_data_run5_003500.csv\n",
      "/glade/p/cisl/aiml/dgagne/cam_mp_files_run5_full_csv/cam_mp_data_run5_003550.csv\n",
      "/glade/p/cisl/aiml/dgagne/cam_mp_files_run5_full_csv/cam_mp_data_run5_003575.csv\n",
      "/glade/p/cisl/aiml/dgagne/cam_mp_files_run5_full_csv/cam_mp_data_run5_003625.csv\n",
      "/glade/p/cisl/aiml/dgagne/cam_mp_files_run5_full_csv/cam_mp_data_run5_003650.csv\n",
      "/glade/p/cisl/aiml/dgagne/cam_mp_files_run5_full_csv/cam_mp_data_run5_003700.csv\n",
      "/glade/p/cisl/aiml/dgagne/cam_mp_files_run5_full_csv/cam_mp_data_run5_003725.csv\n",
      "/glade/p/cisl/aiml/dgagne/cam_mp_files_run5_full_csv/cam_mp_data_run5_003775.csv\n",
      "/glade/p/cisl/aiml/dgagne/cam_mp_files_run5_full_csv/cam_mp_data_run5_003800.csv\n",
      "/glade/p/cisl/aiml/dgagne/cam_mp_files_run5_full_csv/cam_mp_data_run5_003850.csv\n",
      "/glade/p/cisl/aiml/dgagne/cam_mp_files_run5_full_csv/cam_mp_data_run5_003875.csv\n",
      "/glade/p/cisl/aiml/dgagne/cam_mp_files_run5_full_csv/cam_mp_data_run5_003925.csv\n",
      "/glade/p/cisl/aiml/dgagne/cam_mp_files_run5_full_csv/cam_mp_data_run5_003950.csv\n",
      "/glade/p/cisl/aiml/dgagne/cam_mp_files_run5_full_csv/cam_mp_data_run5_004000.csv\n",
      "/glade/p/cisl/aiml/dgagne/cam_mp_files_run5_full_csv/cam_mp_data_run5_004025.csv\n",
      "/glade/p/cisl/aiml/dgagne/cam_mp_files_run5_full_csv/cam_mp_data_run5_004075.csv\n",
      "/glade/p/cisl/aiml/dgagne/cam_mp_files_run5_full_csv/cam_mp_data_run5_004100.csv\n",
      "/glade/p/cisl/aiml/dgagne/cam_mp_files_run5_full_csv/cam_mp_data_run5_004150.csv\n",
      "/glade/p/cisl/aiml/dgagne/cam_mp_files_run5_full_csv/cam_mp_data_run5_004175.csv\n",
      "/glade/p/cisl/aiml/dgagne/cam_mp_files_run5_full_csv/cam_mp_data_run5_004225.csv\n",
      "/glade/p/cisl/aiml/dgagne/cam_mp_files_run5_full_csv/cam_mp_data_run5_004250.csv\n",
      "/glade/p/cisl/aiml/dgagne/cam_mp_files_run5_full_csv/cam_mp_data_run5_004300.csv\n",
      "/glade/p/cisl/aiml/dgagne/cam_mp_files_run5_full_csv/cam_mp_data_run5_004325.csv\n",
      "/glade/p/cisl/aiml/dgagne/cam_mp_files_run5_full_csv/cam_mp_data_run5_004375.csv\n",
      "/glade/p/cisl/aiml/dgagne/cam_mp_files_run5_full_csv/cam_mp_data_run5_004400.csv\n",
      "/glade/p/cisl/aiml/dgagne/cam_mp_files_run5_full_csv/cam_mp_data_run5_004450.csv\n",
      "/glade/p/cisl/aiml/dgagne/cam_mp_files_run5_full_csv/cam_mp_data_run5_004475.csv\n",
      "/glade/p/cisl/aiml/dgagne/cam_mp_files_run5_full_csv/cam_mp_data_run5_004525.csv\n",
      "/glade/p/cisl/aiml/dgagne/cam_mp_files_run5_full_csv/cam_mp_data_run5_004550.csv\n",
      "/glade/p/cisl/aiml/dgagne/cam_mp_files_run5_full_csv/cam_mp_data_run5_004600.csv\n",
      "/glade/p/cisl/aiml/dgagne/cam_mp_files_run5_full_csv/cam_mp_data_run5_004625.csv\n",
      "/glade/p/cisl/aiml/dgagne/cam_mp_files_run5_full_csv/cam_mp_data_run5_004675.csv\n",
      "/glade/p/cisl/aiml/dgagne/cam_mp_files_run5_full_csv/cam_mp_data_run5_004700.csv\n",
      "/glade/p/cisl/aiml/dgagne/cam_mp_files_run5_full_csv/cam_mp_data_run5_004750.csv\n",
      "/glade/p/cisl/aiml/dgagne/cam_mp_files_run5_full_csv/cam_mp_data_run5_004775.csv\n",
      "/glade/p/cisl/aiml/dgagne/cam_mp_files_run5_full_csv/cam_mp_data_run5_004825.csv\n",
      "/glade/p/cisl/aiml/dgagne/cam_mp_files_run5_full_csv/cam_mp_data_run5_004850.csv\n",
      "/glade/p/cisl/aiml/dgagne/cam_mp_files_run5_full_csv/cam_mp_data_run5_004900.csv\n",
      "/glade/p/cisl/aiml/dgagne/cam_mp_files_run5_full_csv/cam_mp_data_run5_004925.csv\n",
      "/glade/p/cisl/aiml/dgagne/cam_mp_files_run5_full_csv/cam_mp_data_run5_004975.csv\n",
      "/glade/p/cisl/aiml/dgagne/cam_mp_files_run5_full_csv/cam_mp_data_run5_005000.csv\n",
      "/glade/p/cisl/aiml/dgagne/cam_mp_files_run5_full_csv/cam_mp_data_run5_005050.csv\n",
      "/glade/p/cisl/aiml/dgagne/cam_mp_files_run5_full_csv/cam_mp_data_run5_005075.csv\n",
      "/glade/p/cisl/aiml/dgagne/cam_mp_files_run5_full_csv/cam_mp_data_run5_005125.csv\n",
      "/glade/p/cisl/aiml/dgagne/cam_mp_files_run5_full_csv/cam_mp_data_run5_005150.csv\n",
      "/glade/p/cisl/aiml/dgagne/cam_mp_files_run5_full_csv/cam_mp_data_run5_005200.csv\n",
      "/glade/p/cisl/aiml/dgagne/cam_mp_files_run5_full_csv/cam_mp_data_run5_005225.csv\n",
      "/glade/p/cisl/aiml/dgagne/cam_mp_files_run5_full_csv/cam_mp_data_run5_005275.csv\n",
      "/glade/p/cisl/aiml/dgagne/cam_mp_files_run5_full_csv/cam_mp_data_run5_005300.csv\n",
      "/glade/p/cisl/aiml/dgagne/cam_mp_files_run5_full_csv/cam_mp_data_run5_005350.csv\n",
      "/glade/p/cisl/aiml/dgagne/cam_mp_files_run5_full_csv/cam_mp_data_run5_005375.csv\n",
      "/glade/p/cisl/aiml/dgagne/cam_mp_files_run5_full_csv/cam_mp_data_run5_005425.csv\n",
      "/glade/p/cisl/aiml/dgagne/cam_mp_files_run5_full_csv/cam_mp_data_run5_005450.csv\n",
      "/glade/p/cisl/aiml/dgagne/cam_mp_files_run5_full_csv/cam_mp_data_run5_005500.csv\n",
      "/glade/p/cisl/aiml/dgagne/cam_mp_files_run5_full_csv/cam_mp_data_run5_005525.csv\n",
      "/glade/p/cisl/aiml/dgagne/cam_mp_files_run5_full_csv/cam_mp_data_run5_005575.csv\n",
      "/glade/p/cisl/aiml/dgagne/cam_mp_files_run5_full_csv/cam_mp_data_run5_005600.csv\n",
      "/glade/p/cisl/aiml/dgagne/cam_mp_files_run5_full_csv/cam_mp_data_run5_005650.csv\n",
      "/glade/p/cisl/aiml/dgagne/cam_mp_files_run5_full_csv/cam_mp_data_run5_005675.csv\n",
      "/glade/p/cisl/aiml/dgagne/cam_mp_files_run5_full_csv/cam_mp_data_run5_005725.csv\n",
      "/glade/p/cisl/aiml/dgagne/cam_mp_files_run5_full_csv/cam_mp_data_run5_005750.csv\n",
      "/glade/p/cisl/aiml/dgagne/cam_mp_files_run5_full_csv/cam_mp_data_run5_005800.csv\n",
      "/glade/p/cisl/aiml/dgagne/cam_mp_files_run5_full_csv/cam_mp_data_run5_005825.csv\n",
      "/glade/p/cisl/aiml/dgagne/cam_mp_files_run5_full_csv/cam_mp_data_run5_005875.csv\n",
      "/glade/p/cisl/aiml/dgagne/cam_mp_files_run5_full_csv/cam_mp_data_run5_005900.csv\n",
      "/glade/p/cisl/aiml/dgagne/cam_mp_files_run5_full_csv/cam_mp_data_run5_005950.csv\n",
      "/glade/p/cisl/aiml/dgagne/cam_mp_files_run5_full_csv/cam_mp_data_run5_005975.csv\n",
      "/glade/p/cisl/aiml/dgagne/cam_mp_files_run5_full_csv/cam_mp_data_run5_006025.csv\n",
      "/glade/p/cisl/aiml/dgagne/cam_mp_files_run5_full_csv/cam_mp_data_run5_006050.csv\n",
      "/glade/p/cisl/aiml/dgagne/cam_mp_files_run5_full_csv/cam_mp_data_run5_006100.csv\n",
      "/glade/p/cisl/aiml/dgagne/cam_mp_files_run5_full_csv/cam_mp_data_run5_006125.csv\n",
      "/glade/p/cisl/aiml/dgagne/cam_mp_files_run5_full_csv/cam_mp_data_run5_006175.csv\n",
      "/glade/p/cisl/aiml/dgagne/cam_mp_files_run5_full_csv/cam_mp_data_run5_006200.csv\n",
      "/glade/p/cisl/aiml/dgagne/cam_mp_files_run5_full_csv/cam_mp_data_run5_006250.csv\n",
      "/glade/p/cisl/aiml/dgagne/cam_mp_files_run5_full_csv/cam_mp_data_run5_006275.csv\n",
      "/glade/p/cisl/aiml/dgagne/cam_mp_files_run5_full_csv/cam_mp_data_run5_006325.csv\n",
      "/glade/p/cisl/aiml/dgagne/cam_mp_files_run5_full_csv/cam_mp_data_run5_006350.csv\n",
      "/glade/p/cisl/aiml/dgagne/cam_mp_files_run5_full_csv/cam_mp_data_run5_006400.csv\n",
      "/glade/p/cisl/aiml/dgagne/cam_mp_files_run5_full_csv/cam_mp_data_run5_006425.csv\n",
      "/glade/p/cisl/aiml/dgagne/cam_mp_files_run5_full_csv/cam_mp_data_run5_006475.csv\n",
      "/glade/p/cisl/aiml/dgagne/cam_mp_files_run5_full_csv/cam_mp_data_run5_006500.csv\n",
      "/glade/p/cisl/aiml/dgagne/cam_mp_files_run5_full_csv/cam_mp_data_run5_006550.csv\n",
      "/glade/p/cisl/aiml/dgagne/cam_mp_files_run5_full_csv/cam_mp_data_run5_006575.csv\n",
      "/glade/p/cisl/aiml/dgagne/cam_mp_files_run5_full_csv/cam_mp_data_run5_006625.csv\n",
      "/glade/p/cisl/aiml/dgagne/cam_mp_files_run5_full_csv/cam_mp_data_run5_006650.csv\n",
      "/glade/p/cisl/aiml/dgagne/cam_mp_files_run5_full_csv/cam_mp_data_run5_006700.csv\n",
      "/glade/p/cisl/aiml/dgagne/cam_mp_files_run5_full_csv/cam_mp_data_run5_006725.csv\n",
      "/glade/p/cisl/aiml/dgagne/cam_mp_files_run5_full_csv/cam_mp_data_run5_006775.csv\n",
      "/glade/p/cisl/aiml/dgagne/cam_mp_files_run5_full_csv/cam_mp_data_run5_006800.csv\n",
      "/glade/p/cisl/aiml/dgagne/cam_mp_files_run5_full_csv/cam_mp_data_run5_006850.csv\n",
      "/glade/p/cisl/aiml/dgagne/cam_mp_files_run5_full_csv/cam_mp_data_run5_006875.csv\n",
      "/glade/p/cisl/aiml/dgagne/cam_mp_files_run5_full_csv/cam_mp_data_run5_006925.csv\n",
      "/glade/p/cisl/aiml/dgagne/cam_mp_files_run5_full_csv/cam_mp_data_run5_006950.csv\n",
      "/glade/p/cisl/aiml/dgagne/cam_mp_files_run5_full_csv/cam_mp_data_run5_007000.csv\n",
      "/glade/p/cisl/aiml/dgagne/cam_mp_files_run5_full_csv/cam_mp_data_run5_007025.csv\n",
      "/glade/p/cisl/aiml/dgagne/cam_mp_files_run5_full_csv/cam_mp_data_run5_007075.csv\n",
      "/glade/p/cisl/aiml/dgagne/cam_mp_files_run5_full_csv/cam_mp_data_run5_007100.csv\n",
      "/glade/p/cisl/aiml/dgagne/cam_mp_files_run5_full_csv/cam_mp_data_run5_007150.csv\n",
      "/glade/p/cisl/aiml/dgagne/cam_mp_files_run5_full_csv/cam_mp_data_run5_007175.csv\n",
      "/glade/p/cisl/aiml/dgagne/cam_mp_files_run5_full_csv/cam_mp_data_run5_007225.csv\n",
      "/glade/p/cisl/aiml/dgagne/cam_mp_files_run5_full_csv/cam_mp_data_run5_007250.csv\n",
      "/glade/p/cisl/aiml/dgagne/cam_mp_files_run5_full_csv/cam_mp_data_run5_007300.csv\n",
      "/glade/p/cisl/aiml/dgagne/cam_mp_files_run5_full_csv/cam_mp_data_run5_007325.csv\n",
      "/glade/p/cisl/aiml/dgagne/cam_mp_files_run5_full_csv/cam_mp_data_run5_007375.csv\n",
      "/glade/p/cisl/aiml/dgagne/cam_mp_files_run5_full_csv/cam_mp_data_run5_007400.csv\n",
      "/glade/p/cisl/aiml/dgagne/cam_mp_files_run5_full_csv/cam_mp_data_run5_007450.csv\n",
      "/glade/p/cisl/aiml/dgagne/cam_mp_files_run5_full_csv/cam_mp_data_run5_007475.csv\n",
      "/glade/p/cisl/aiml/dgagne/cam_mp_files_run5_full_csv/cam_mp_data_run5_007525.csv\n",
      "/glade/p/cisl/aiml/dgagne/cam_mp_files_run5_full_csv/cam_mp_data_run5_007550.csv\n",
      "/glade/p/cisl/aiml/dgagne/cam_mp_files_run5_full_csv/cam_mp_data_run5_007600.csv\n",
      "/glade/p/cisl/aiml/dgagne/cam_mp_files_run5_full_csv/cam_mp_data_run5_007625.csv\n",
      "/glade/p/cisl/aiml/dgagne/cam_mp_files_run5_full_csv/cam_mp_data_run5_007675.csv\n",
      "/glade/p/cisl/aiml/dgagne/cam_mp_files_run5_full_csv/cam_mp_data_run5_007700.csv\n",
      "/glade/p/cisl/aiml/dgagne/cam_mp_files_run5_full_csv/cam_mp_data_run5_007750.csv\n",
      "/glade/p/cisl/aiml/dgagne/cam_mp_files_run5_full_csv/cam_mp_data_run5_007775.csv\n",
      "/glade/p/cisl/aiml/dgagne/cam_mp_files_run5_full_csv/cam_mp_data_run5_007825.csv\n",
      "/glade/p/cisl/aiml/dgagne/cam_mp_files_run5_full_csv/cam_mp_data_run5_007850.csv\n",
      "/glade/p/cisl/aiml/dgagne/cam_mp_files_run5_full_csv/cam_mp_data_run5_007900.csv\n",
      "/glade/p/cisl/aiml/dgagne/cam_mp_files_run5_full_csv/cam_mp_data_run5_007925.csv\n",
      "Combining data\n",
      "Combined Data Size (1028831, 11)\n",
      "Transforming data\n",
      "Scaling data\n",
      "(1028831, 11)\n"
     ]
    }
   ],
   "source": [
    "config_filename = \"/glade/u/home/dgagne/mlmicrophysics/config/cesm_tau_run5_full_train_nn.yml\"\n",
    "with open(config_filename) as config_file:\n",
    "    config = yaml.load(config_file)\n",
    "data_path = config[\"data_path\"]\n",
    "out_path = config[\"out_path\"]\n",
    "input_cols = config[\"input_cols\"]\n",
    "output_cols = config[\"output_cols\"]\n",
    "input_transforms = config[\"input_transforms\"]\n",
    "output_transforms = config[\"output_transforms\"]\n",
    "np.random.seed(config[\"random_seed\"])\n",
    "input_scaler = scalers[config[\"input_scaler\"]]()\n",
    "#subsample = config[\"subsample\"]\n",
    "subsample = 0.01\n",
    "if not exists(out_path):\n",
    "    os.makedirs(out_path)\n",
    "train_files, val_files, test_files = subset_data_files_by_date(data_path, \"*.csv\", **config[\"subset_data\"])\n",
    "print(\"Loading training data\")\n",
    "scaled_input_train, \\\n",
    "labels_train, \\\n",
    "transformed_out_train, \\\n",
    "scaled_out_train, \\\n",
    "output_scalers, \\\n",
    "meta_train = assemble_data_files(train_files, input_cols, output_cols, input_transforms,\n",
    "                                     output_transforms, input_scaler, subsample=subsample)"
   ]
  },
  {
   "cell_type": "code",
   "execution_count": 15,
   "metadata": {},
   "outputs": [],
   "source": [
    "def partial_dependence_1d(x, model, var_index, var_vals):\n",
    "    \"\"\"\n",
    "    Calculate how the mean prediction of an ML model varies if one variable's value is fixed across all input\n",
    "    examples.\n",
    "\n",
    "    Args:\n",
    "        x: array of input variables\n",
    "        model: scikit-learn style model object\n",
    "        var_index: column index of the variable being investigated\n",
    "        var_vals: values of the input variable that are fixed.\n",
    "\n",
    "    Returns:\n",
    "        Array of partial dependence values.\n",
    "    \"\"\"\n",
    "    partial_dependence = np.zeros(var_vals.shape)\n",
    "    x_copy = np.copy(x)\n",
    "    for v, var_val in enumerate(var_vals):\n",
    "        x_copy[:, var_index] = var_val\n",
    "        partial_dependence[v] = model.predict(x_copy).mean()\n",
    "    return partial_dependence"
   ]
  },
  {
   "cell_type": "code",
   "execution_count": 19,
   "metadata": {},
   "outputs": [
    {
     "name": "stdout",
     "output_type": "stream",
     "text": [
      "dnn_classifier_scores.csv  dnn_nr_neg_fortran.nc     input_scale_values.csv\n",
      "dnn_nc_class.h5            dnn_nr_pos.h5             meta_test.csv\n",
      "dnn_nc_class_fortran.nc    dnn_nr_pos_fortran.nc     output_scale_values.csv\n",
      "dnn_nc_pos.h5              dnn_qr_class.h5           test_cam_labels.csv\n",
      "dnn_nc_pos_fortran.nc      dnn_qr_class_fortran.nc   test_cam_values.csv\n",
      "dnn_nr_class.h5            dnn_qr_pos.h5             test_prediction_labels.csv\n",
      "dnn_nr_class_fortran.nc    dnn_qr_pos_fortran.nc     test_prediction_values.csv\n",
      "dnn_nr_neg.h5              dnn_regressor_scores.csv\n"
     ]
    }
   ],
   "source": [
    "ls /glade/p/cisl/aiml/dgagne/cam_run5_models_20190726"
   ]
  },
  {
   "cell_type": "code",
   "execution_count": 22,
   "metadata": {},
   "outputs": [
    {
     "name": "stdout",
     "output_type": "stream",
     "text": [
      "WARNING:tensorflow:From /glade/work/dgagne/ncar_pylib_dl_10/lib/python3.6/site-packages/tensorflow/python/framework/op_def_library.py:263: colocate_with (from tensorflow.python.framework.ops) is deprecated and will be removed in a future version.\n",
      "Instructions for updating:\n",
      "Colocations handled automatically by placer.\n",
      "WARNING:tensorflow:From /glade/work/dgagne/ncar_pylib_dl_10/lib/python3.6/site-packages/tensorflow/python/ops/math_ops.py:3066: to_int32 (from tensorflow.python.ops.math_ops) is deprecated and will be removed in a future version.\n",
      "Instructions for updating:\n",
      "Use tf.cast instead.\n"
     ]
    }
   ],
   "source": [
    "dnn_qr_pos = load_model(join(\"/glade/p/cisl/aiml/dgagne/cam_run5_models_20190726\", \"dnn_qr_pos.h5\"))"
   ]
  },
  {
   "cell_type": "code",
   "execution_count": 25,
   "metadata": {},
   "outputs": [],
   "source": [
    "index = np.random.randint(0, scaled_input_train.shape[0], size=50000)"
   ]
  },
  {
   "cell_type": "code",
   "execution_count": 34,
   "metadata": {},
   "outputs": [
    {
     "name": "stdout",
     "output_type": "stream",
     "text": [
      "(11, 17)\n",
      "0\n",
      "1\n",
      "2\n",
      "3\n",
      "4\n",
      "5\n",
      "6\n",
      "7\n",
      "8\n",
      "9\n",
      "10\n"
     ]
    }
   ],
   "source": [
    "pd_vals = np.arange(-4, 4.1, 0.5)\n",
    "pd_out = np.zeros((scaled_input_train.shape[1], pd_vals.size))\n",
    "print(pd_out.shape)\n",
    "for v in range(pd_out.shape[0]):\n",
    "    print(v)\n",
    "    pd_out[v] = partial_dependence_1d(scaled_input_train.loc[index], dnn_qr_pos, v, pd_vals)"
   ]
  },
  {
   "cell_type": "code",
   "execution_count": 75,
   "metadata": {},
   "outputs": [],
   "source": [
    "pd_scaled_in = input_scaler.inverse_transform(np.tile(pd_vals,11).reshape(11, 17).T)"
   ]
  },
  {
   "cell_type": "code",
   "execution_count": 102,
   "metadata": {},
   "outputs": [
    {
     "data": {
      "image/png": "[encoded data removed]",
      "text/plain": [
       "<Figure size 1080x360 with 11 Axes>"
      ]
     },
     "metadata": {
      "needs_background": "light"
     },
     "output_type": "display_data"
    }
   ],
   "source": [
    "plt.figure(figsize=(15, 5))\n",
    "plt.subplots_adjust(hspace=0.3, wspace=0.4)\n",
    "for v in range(pd_out.shape[0]):\n",
    "    plt.subplot(2, 6, v+1)\n",
    "    plt.xlim(transformed_input_train[:,v].min(), transformed_input_train[:, v].max())\n",
    "    plt.plot(pd_scaled_in[:, v], output_scalers[\"qrtend_TAU\"][1].inverse_transform(pd_out[v:v+1].T), 'bo-')\n",
    "    plt.title(scaled_input_train.columns[v])\n",
    "plt.savefig(\"pdp_qr_train_range.png\", dpi=200, bbox_inches=\"tight\")"
   ]
  },
  {
   "cell_type": "code",
   "execution_count": 101,
   "metadata": {},
   "outputs": [
    {
     "data": {
      "image/png": "[encoded data removed]",
      "text/plain": [
       "<Figure size 1080x360 with 11 Axes>"
      ]
     },
     "metadata": {
      "needs_background": "light"
     },
     "output_type": "display_data"
    }
   ],
   "source": [
    "plt.figure(figsize=(15, 5))\n",
    "plt.subplots_adjust(hspace=0.3, wspace=0.4)\n",
    "for v in range(pd_out.shape[0]):\n",
    "    plt.subplot(2, 6, v+1)\n",
    "    plt.plot([transformed_input_train[:,v].min(), transformed_input_train[:, v].max()], [-14, -14], 'r+-')\n",
    "    plt.plot(pd_scaled_in[:, v], output_scalers[\"qrtend_TAU\"][1].inverse_transform(pd_out[v:v+1].T), 'bo-')\n",
    "    plt.title(scaled_input_train.columns[v])\n",
    "plt.savefig(\"pdp_qr_extrap_range.png\", dpi=200, bbox_inches=\"tight\")"
   ]
  },
  {
   "cell_type": "code",
   "execution_count": 86,
   "metadata": {},
   "outputs": [
    {
     "ename": "NameError",
     "evalue": "name 'transformed_input_train' is not defined",
     "output_type": "error",
     "traceback": [
      "\u001b[0;31m---------------------------------------------------------------------------\u001b[0m",
      "\u001b[0;31mNameError\u001b[0m                                 Traceback (most recent call last)",
      "\u001b[0;32m<ipython-input-86-1d3cf3c00e81>\u001b[0m in \u001b[0;36m<module>\u001b[0;34m\u001b[0m\n\u001b[0;32m----> 1\u001b[0;31m \u001b[0mtransformed_input_train\u001b[0m\u001b[0;34m\u001b[0m\u001b[0;34m\u001b[0m\u001b[0m\n\u001b[0m",
      "\u001b[0;31mNameError\u001b[0m: name 'transformed_input_train' is not defined"
     ]
    }
   ],
   "source": [
    "transformed_input_train"
   ]
  },
  {
   "cell_type": "code",
   "execution_count": 88,
   "metadata": {},
   "outputs": [],
   "source": [
    "transformed_input_train = input_scaler.inverse_transform(scaled_input_train)"
   ]
  },
  {
   "cell_type": "code",
   "execution_count": 78,
   "metadata": {},
   "outputs": [
    {
     "data": {
      "text/plain": [
       "QC_TAU_in        1.556002\n",
       "NC_TAU_in        1.382424\n",
       "QR_TAU_in        1.870803\n",
       "NR_TAU_in        1.355015\n",
       "RHO_CLUBB_lev    2.597962\n",
       "lamc             0.843623\n",
       "lamr             0.369311\n",
       "lcldm            1.764016\n",
       "n0r              1.486063\n",
       "pgam             0.840750\n",
       "precip_frac      1.729340\n",
       "dtype: float64"
      ]
     },
     "execution_count": 78,
     "metadata": {},
     "output_type": "execute_result"
    }
   ],
   "source": [
    "scaled_input_train.max()"
   ]
  },
  {
   "cell_type": "code",
   "execution_count": 72,
   "metadata": {},
   "outputs": [
    {
     "data": {
      "text/plain": [
       "array([[-4. , -4. , -4. , -4. , -4. , -4. , -4. , -4. , -4. , -4. , -4. ],\n",
       "       [-3.5, -3.5, -3.5, -3.5, -3.5, -3.5, -3.5, -3.5, -3.5, -3.5, -3.5],\n",
       "       [-3. , -3. , -3. , -3. , -3. , -3. , -3. , -3. , -3. , -3. , -3. ],\n",
       "       [-2.5, -2.5, -2.5, -2.5, -2.5, -2.5, -2.5, -2.5, -2.5, -2.5, -2.5],\n",
       "       [-2. , -2. , -2. , -2. , -2. , -2. , -2. , -2. , -2. , -2. , -2. ],\n",
       "       [-1.5, -1.5, -1.5, -1.5, -1.5, -1.5, -1.5, -1.5, -1.5, -1.5, -1.5],\n",
       "       [-1. , -1. , -1. , -1. , -1. , -1. , -1. , -1. , -1. , -1. , -1. ],\n",
       "       [-0.5, -0.5, -0.5, -0.5, -0.5, -0.5, -0.5, -0.5, -0.5, -0.5, -0.5],\n",
       "       [ 0. ,  0. ,  0. ,  0. ,  0. ,  0. ,  0. ,  0. ,  0. ,  0. ,  0. ],\n",
       "       [ 0.5,  0.5,  0.5,  0.5,  0.5,  0.5,  0.5,  0.5,  0.5,  0.5,  0.5],\n",
       "       [ 1. ,  1. ,  1. ,  1. ,  1. ,  1. ,  1. ,  1. ,  1. ,  1. ,  1. ],\n",
       "       [ 1.5,  1.5,  1.5,  1.5,  1.5,  1.5,  1.5,  1.5,  1.5,  1.5,  1.5],\n",
       "       [ 2. ,  2. ,  2. ,  2. ,  2. ,  2. ,  2. ,  2. ,  2. ,  2. ,  2. ],\n",
       "       [ 2.5,  2.5,  2.5,  2.5,  2.5,  2.5,  2.5,  2.5,  2.5,  2.5,  2.5],\n",
       "       [ 3. ,  3. ,  3. ,  3. ,  3. ,  3. ,  3. ,  3. ,  3. ,  3. ,  3. ],\n",
       "       [ 3.5,  3.5,  3.5,  3.5,  3.5,  3.5,  3.5,  3.5,  3.5,  3.5,  3.5],\n",
       "       [ 4. ,  4. ,  4. ,  4. ,  4. ,  4. ,  4. ,  4. ,  4. ,  4. ,  4. ]])"
      ]
     },
     "execution_count": 72,
     "metadata": {},
     "output_type": "execute_result"
    }
   ],
   "source": []
  },
  {
   "cell_type": "code",
   "execution_count": 96,
   "metadata": {},
   "outputs": [
    {
     "data": {
      "text/plain": [
       "qrtend_TAU   -0.004185\n",
       "nctend_TAU   -0.005473\n",
       "nrtend_TAU   -0.007643\n",
       "dtype: float64"
      ]
     },
     "execution_count": 96,
     "metadata": {},
     "output_type": "execute_result"
    }
   ],
   "source": [
    "scaled_out_train.loc[index].mean()"
   ]
  },
  {
   "cell_type": "code",
   "execution_count": null,
   "metadata": {},
   "outputs": [],
   "source": []
  }
 ],
 "metadata": {
  "kernelspec": {
   "display_name": "Python 3",
   "language": "python",
   "name": "python3"
  },
  "language_info": {
   "codemirror_mode": {
    "name": "ipython",
    "version": 3
   },
   "file_extension": ".py",
   "mimetype": "text/x-python",
   "name": "python",
   "nbconvert_exporter": "python",
   "pygments_lexer": "ipython3",
   "version": "3.6.8"
  }
 },
 "nbformat": 4,
 "nbformat_minor": 4
}
