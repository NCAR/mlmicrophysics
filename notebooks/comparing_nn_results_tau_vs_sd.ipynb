{
 "cells": [
  {
   "cell_type": "code",
   "execution_count": 1,
   "metadata": {},
   "outputs": [],
   "source": [
    "import os\n",
    "import pandas as pd\n",
    "import numpy as np\n",
    "import xarray as xr\n",
    "import matplotlib.pyplot as plt\n",
    "from os.path import join\n",
    "import yaml\n",
    "%matplotlib inline"
   ]
  },
  {
   "cell_type": "code",
   "execution_count": 2,
   "metadata": {},
   "outputs": [],
   "source": [
    "dir_tau = \"/glade/p/cisl/aiml/ggantos/cam_run5_model_base_full/\"\n",
    "dir_sd = \"/glade/p/cisl/aiml/ggantos/cam_sd_model_base_full/\""
   ]
  },
  {
   "cell_type": "code",
   "execution_count": 3,
   "metadata": {},
   "outputs": [],
   "source": [
    "classifier_scores_tau = pd.read_csv(join(dir_tau, \"dnn_classifier_scores.csv\"))\n",
    "regressor_scores_tau = pd.read_csv(join(dir_tau, \"dnn_regressor_scores.csv\"))\n",
    "classifier_scores_sd = pd.read_csv(join(dir_sd, \"dnn_classifier_scores.csv\"))\n",
    "regressor_scores_sd = pd.read_csv(join(dir_sd, \"dnn_regressor_scores.csv\"))\n"
   ]
  },
  {
   "cell_type": "code",
   "execution_count": 4,
   "metadata": {},
   "outputs": [
    {
     "data": {
      "text/html": [
       "<div>\n",
       "<style scoped>\n",
       "    .dataframe tbody tr th:only-of-type {\n",
       "        vertical-align: middle;\n",
       "    }\n",
       "\n",
       "    .dataframe tbody tr th {\n",
       "        vertical-align: top;\n",
       "    }\n",
       "\n",
       "    .dataframe thead th {\n",
       "        text-align: right;\n",
       "    }\n",
       "</style>\n",
       "<table border=\"1\" class=\"dataframe\">\n",
       "  <thead>\n",
       "    <tr style=\"text-align: right;\">\n",
       "      <th></th>\n",
       "      <th>Output</th>\n",
       "      <th>accuracy</th>\n",
       "      <th>heidke</th>\n",
       "      <th>peirce</th>\n",
       "    </tr>\n",
       "  </thead>\n",
       "  <tbody>\n",
       "    <tr>\n",
       "      <th>0</th>\n",
       "      <td>qrtend_TAU</td>\n",
       "      <td>0.988240</td>\n",
       "      <td>0.975932</td>\n",
       "      <td>0.975900</td>\n",
       "    </tr>\n",
       "    <tr>\n",
       "      <th>1</th>\n",
       "      <td>nctend_TAU</td>\n",
       "      <td>0.995022</td>\n",
       "      <td>0.990003</td>\n",
       "      <td>0.989848</td>\n",
       "    </tr>\n",
       "    <tr>\n",
       "      <th>2</th>\n",
       "      <td>nrtend_TAU</td>\n",
       "      <td>0.984602</td>\n",
       "      <td>0.975957</td>\n",
       "      <td>0.975588</td>\n",
       "    </tr>\n",
       "  </tbody>\n",
       "</table>\n",
       "</div>"
      ],
      "text/plain": [
       "       Output  accuracy    heidke    peirce\n",
       "0  qrtend_TAU  0.988240  0.975932  0.975900\n",
       "1  nctend_TAU  0.995022  0.990003  0.989848\n",
       "2  nrtend_TAU  0.984602  0.975957  0.975588"
      ]
     },
     "execution_count": 4,
     "metadata": {},
     "output_type": "execute_result"
    }
   ],
   "source": [
    "classifier_scores_tau"
   ]
  },
  {
   "cell_type": "code",
   "execution_count": 5,
   "metadata": {},
   "outputs": [
    {
     "data": {
      "text/html": [
       "<div>\n",
       "<style scoped>\n",
       "    .dataframe tbody tr th:only-of-type {\n",
       "        vertical-align: middle;\n",
       "    }\n",
       "\n",
       "    .dataframe tbody tr th {\n",
       "        vertical-align: top;\n",
       "    }\n",
       "\n",
       "    .dataframe thead th {\n",
       "        text-align: right;\n",
       "    }\n",
       "</style>\n",
       "<table border=\"1\" class=\"dataframe\">\n",
       "  <thead>\n",
       "    <tr style=\"text-align: right;\">\n",
       "      <th></th>\n",
       "      <th>Output</th>\n",
       "      <th>accuracy</th>\n",
       "      <th>heidke</th>\n",
       "      <th>peirce</th>\n",
       "    </tr>\n",
       "  </thead>\n",
       "  <tbody>\n",
       "    <tr>\n",
       "      <th>0</th>\n",
       "      <td>qrtend_sd</td>\n",
       "      <td>0.974743</td>\n",
       "      <td>0.902316</td>\n",
       "      <td>0.904293</td>\n",
       "    </tr>\n",
       "    <tr>\n",
       "      <th>1</th>\n",
       "      <td>nctend_sd</td>\n",
       "      <td>0.959119</td>\n",
       "      <td>0.916315</td>\n",
       "      <td>0.911701</td>\n",
       "    </tr>\n",
       "    <tr>\n",
       "      <th>2</th>\n",
       "      <td>nrtend_sd</td>\n",
       "      <td>0.965725</td>\n",
       "      <td>0.934371</td>\n",
       "      <td>0.936845</td>\n",
       "    </tr>\n",
       "  </tbody>\n",
       "</table>\n",
       "</div>"
      ],
      "text/plain": [
       "      Output  accuracy    heidke    peirce\n",
       "0  qrtend_sd  0.974743  0.902316  0.904293\n",
       "1  nctend_sd  0.959119  0.916315  0.911701\n",
       "2  nrtend_sd  0.965725  0.934371  0.936845"
      ]
     },
     "execution_count": 5,
     "metadata": {},
     "output_type": "execute_result"
    }
   ],
   "source": [
    "classifier_scores_sd"
   ]
  },
  {
   "cell_type": "code",
   "execution_count": 6,
   "metadata": {},
   "outputs": [
    {
     "data": {
      "text/html": [
       "<div>\n",
       "<style scoped>\n",
       "    .dataframe tbody tr th:only-of-type {\n",
       "        vertical-align: middle;\n",
       "    }\n",
       "\n",
       "    .dataframe tbody tr th {\n",
       "        vertical-align: top;\n",
       "    }\n",
       "\n",
       "    .dataframe thead th {\n",
       "        text-align: right;\n",
       "    }\n",
       "</style>\n",
       "<table border=\"1\" class=\"dataframe\">\n",
       "  <thead>\n",
       "    <tr style=\"text-align: right;\">\n",
       "      <th></th>\n",
       "      <th>Output</th>\n",
       "      <th>rmse</th>\n",
       "      <th>mae</th>\n",
       "      <th>r2</th>\n",
       "      <th>hellinger</th>\n",
       "    </tr>\n",
       "  </thead>\n",
       "  <tbody>\n",
       "    <tr>\n",
       "      <th>0</th>\n",
       "      <td>qrtend_TAU_1</td>\n",
       "      <td>0.200165</td>\n",
       "      <td>0.095294</td>\n",
       "      <td>0.990962</td>\n",
       "      <td>0.000331</td>\n",
       "    </tr>\n",
       "    <tr>\n",
       "      <th>1</th>\n",
       "      <td>nctend_TAU_1</td>\n",
       "      <td>0.174573</td>\n",
       "      <td>0.079305</td>\n",
       "      <td>0.995466</td>\n",
       "      <td>0.000843</td>\n",
       "    </tr>\n",
       "    <tr>\n",
       "      <th>2</th>\n",
       "      <td>nrtend_TAU_-1</td>\n",
       "      <td>0.155825</td>\n",
       "      <td>0.081085</td>\n",
       "      <td>0.995389</td>\n",
       "      <td>0.000322</td>\n",
       "    </tr>\n",
       "    <tr>\n",
       "      <th>3</th>\n",
       "      <td>nrtend_TAU_1</td>\n",
       "      <td>0.278557</td>\n",
       "      <td>0.180026</td>\n",
       "      <td>0.977120</td>\n",
       "      <td>0.000318</td>\n",
       "    </tr>\n",
       "  </tbody>\n",
       "</table>\n",
       "</div>"
      ],
      "text/plain": [
       "          Output      rmse       mae        r2  hellinger\n",
       "0   qrtend_TAU_1  0.200165  0.095294  0.990962   0.000331\n",
       "1   nctend_TAU_1  0.174573  0.079305  0.995466   0.000843\n",
       "2  nrtend_TAU_-1  0.155825  0.081085  0.995389   0.000322\n",
       "3   nrtend_TAU_1  0.278557  0.180026  0.977120   0.000318"
      ]
     },
     "execution_count": 6,
     "metadata": {},
     "output_type": "execute_result"
    }
   ],
   "source": [
    "regressor_scores_tau"
   ]
  },
  {
   "cell_type": "code",
   "execution_count": 7,
   "metadata": {},
   "outputs": [
    {
     "data": {
      "text/html": [
       "<div>\n",
       "<style scoped>\n",
       "    .dataframe tbody tr th:only-of-type {\n",
       "        vertical-align: middle;\n",
       "    }\n",
       "\n",
       "    .dataframe tbody tr th {\n",
       "        vertical-align: top;\n",
       "    }\n",
       "\n",
       "    .dataframe thead th {\n",
       "        text-align: right;\n",
       "    }\n",
       "</style>\n",
       "<table border=\"1\" class=\"dataframe\">\n",
       "  <thead>\n",
       "    <tr style=\"text-align: right;\">\n",
       "      <th></th>\n",
       "      <th>Output</th>\n",
       "      <th>rmse</th>\n",
       "      <th>mae</th>\n",
       "      <th>r2</th>\n",
       "      <th>hellinger</th>\n",
       "    </tr>\n",
       "  </thead>\n",
       "  <tbody>\n",
       "    <tr>\n",
       "      <th>0</th>\n",
       "      <td>qrtend_sd_1</td>\n",
       "      <td>0.695942</td>\n",
       "      <td>0.494052</td>\n",
       "      <td>0.854927</td>\n",
       "      <td>0.020507</td>\n",
       "    </tr>\n",
       "    <tr>\n",
       "      <th>1</th>\n",
       "      <td>nctend_sd_1</td>\n",
       "      <td>0.354998</td>\n",
       "      <td>0.251794</td>\n",
       "      <td>0.971214</td>\n",
       "      <td>0.001893</td>\n",
       "    </tr>\n",
       "    <tr>\n",
       "      <th>2</th>\n",
       "      <td>nrtend_sd_-1</td>\n",
       "      <td>0.265945</td>\n",
       "      <td>0.162036</td>\n",
       "      <td>0.972223</td>\n",
       "      <td>0.006371</td>\n",
       "    </tr>\n",
       "    <tr>\n",
       "      <th>3</th>\n",
       "      <td>nrtend_sd_1</td>\n",
       "      <td>0.615680</td>\n",
       "      <td>0.419881</td>\n",
       "      <td>0.778944</td>\n",
       "      <td>0.050998</td>\n",
       "    </tr>\n",
       "  </tbody>\n",
       "</table>\n",
       "</div>"
      ],
      "text/plain": [
       "         Output      rmse       mae        r2  hellinger\n",
       "0   qrtend_sd_1  0.695942  0.494052  0.854927   0.020507\n",
       "1   nctend_sd_1  0.354998  0.251794  0.971214   0.001893\n",
       "2  nrtend_sd_-1  0.265945  0.162036  0.972223   0.006371\n",
       "3   nrtend_sd_1  0.615680  0.419881  0.778944   0.050998"
      ]
     },
     "execution_count": 7,
     "metadata": {},
     "output_type": "execute_result"
    }
   ],
   "source": [
    "regressor_scores_sd"
   ]
  },
  {
   "cell_type": "code",
   "execution_count": null,
   "metadata": {},
   "outputs": [],
   "source": []
  }
 ],
 "metadata": {
  "kernelspec": {
   "display_name": "Python 3",
   "language": "python",
   "name": "python3"
  },
  "language_info": {
   "codemirror_mode": {
    "name": "ipython",
    "version": 3
   },
   "file_extension": ".py",
   "mimetype": "text/x-python",
   "name": "python",
   "nbconvert_exporter": "python",
   "pygments_lexer": "ipython3",
   "version": "3.7.7"
  }
 },
 "nbformat": 4,
 "nbformat_minor": 4
}
