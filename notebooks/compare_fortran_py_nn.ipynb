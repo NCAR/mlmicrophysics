{
 "cells": [
  {
   "cell_type": "code",
   "execution_count": 1,
   "metadata": {},
   "outputs": [
    {
     "name": "stderr",
     "output_type": "stream",
     "text": [
      "2024-02-08 10:59:03.038823: I tensorflow/core/util/port.cc:110] oneDNN custom operations are on. You may see slightly different numerical results due to floating-point round-off errors from different computation orders. To turn them off, set the environment variable `TF_ENABLE_ONEDNN_OPTS=0`.\n",
      "2024-02-08 10:59:03.040832: I tensorflow/tsl/cuda/cudart_stub.cc:28] Could not find cuda drivers on your machine, GPU will not be used.\n",
      "2024-02-08 10:59:03.080930: I tensorflow/tsl/cuda/cudart_stub.cc:28] Could not find cuda drivers on your machine, GPU will not be used.\n",
      "2024-02-08 10:59:03.082145: I tensorflow/core/platform/cpu_feature_guard.cc:182] This TensorFlow binary is optimized to use available CPU instructions in performance-critical operations.\n",
      "To enable the following instructions: AVX2 AVX512F AVX512_VNNI FMA, in other operations, rebuild TensorFlow with the appropriate compiler flags.\n",
      "2024-02-08 10:59:06.533136: W tensorflow/compiler/tf2tensorrt/utils/py_utils.cc:38] TF-TRT Warning: Could not find TensorRT\n"
     ]
    }
   ],
   "source": [
    "import pandas as pd\n",
    "import numpy as np\n",
    "import pickle\n",
    "from tensorflow.keras.models import load_model"
   ]
  },
  {
   "cell_type": "markdown",
   "metadata": {},
   "source": [
    "#### Import neural network, transformers, base input values"
   ]
  },
  {
   "cell_type": "code",
   "execution_count": 2,
   "metadata": {},
   "outputs": [
    {
     "name": "stderr",
     "output_type": "stream",
     "text": [
      "2024-02-08 10:59:14.496988: E tensorflow/compiler/xla/stream_executor/cuda/cuda_driver.cc:268] failed call to cuInit: CUDA_ERROR_NO_DEVICE: no CUDA-capable device is detected\n"
     ]
    }
   ],
   "source": [
    "# Import the saved neural network\n",
    "nn_tau_em = load_model(\"/glade/work/wchuang/mlmicrophysics/tau_run_10/20240206/quantile_neural_net_keras.h5\")\n",
    "\n",
    "# Import the quantile transformers\n",
    "with open(\"/glade/work/wchuang/mlmicrophysics/tau_run_10/20240206/output_quantile_transform.pkl\", \"rb\") as out_quant_transform_file:\n",
    "    output_scaler = pickle.load(out_quant_transform_file)\n",
    "with open(\"/glade/work/wchuang/mlmicrophysics/tau_run_10/20240206/input_quantile_transform.pkl\", \"rb\") as in_quant_transform_file:\n",
    "    input_scaler = pickle.load(in_quant_transform_file)\n",
    "\n",
    "# Read in the fortran-scam inputs\n",
    "fortran_directory = \"/glade/derecho/scratch/wchuang/scam_ml_port6_emulate8_20240206TEST.arm97/run/\"\n",
    "fortran_input_file = fortran_directory + \"test_input.dat\"\n",
    "input = np.fromfile(fortran_input_file, dtype=np.float64, sep=' ').reshape(1, -1)\n",
    "\n",
    "# Set column names for inputs and outputs\n",
    "input_col_names = [\"qc\", \"qr\", \"nc\", \"nr\", \"pgam\", \"lamc\", \"lamr\", \"n0r\", \"rho_clubb\"]\n",
    "output_col_names = [\"qctend\", \"qrtend\", \"nctend\", \"nrtend\"]"
   ]
  },
  {
   "cell_type": "markdown",
   "metadata": {},
   "source": [
    "View the various inputs/outputs"
   ]
  },
  {
   "cell_type": "code",
   "execution_count": 3,
   "metadata": {},
   "outputs": [
    {
     "data": {
      "text/html": [
       "<div>\n",
       "<style scoped>\n",
       "    .dataframe tbody tr th:only-of-type {\n",
       "        vertical-align: middle;\n",
       "    }\n",
       "\n",
       "    .dataframe tbody tr th {\n",
       "        vertical-align: top;\n",
       "    }\n",
       "\n",
       "    .dataframe thead th {\n",
       "        text-align: right;\n",
       "    }\n",
       "</style>\n",
       "<table border=\"1\" class=\"dataframe\">\n",
       "  <thead>\n",
       "    <tr style=\"text-align: right;\">\n",
       "      <th></th>\n",
       "      <th>qc</th>\n",
       "      <th>qr</th>\n",
       "      <th>nc</th>\n",
       "      <th>nr</th>\n",
       "      <th>pgam</th>\n",
       "      <th>lamc</th>\n",
       "      <th>lamr</th>\n",
       "      <th>n0r</th>\n",
       "      <th>rho_clubb</th>\n",
       "    </tr>\n",
       "  </thead>\n",
       "  <tbody>\n",
       "    <tr>\n",
       "      <th>0</th>\n",
       "      <td>1.333108e-08</td>\n",
       "      <td>0.0</td>\n",
       "      <td>158.360965</td>\n",
       "      <td>0.0</td>\n",
       "      <td>10.111111</td>\n",
       "      <td>222222.22214</td>\n",
       "      <td>0.0</td>\n",
       "      <td>0.0</td>\n",
       "      <td>0.989029</td>\n",
       "    </tr>\n",
       "  </tbody>\n",
       "</table>\n",
       "</div>"
      ],
      "text/plain": [
       "             qc   qr          nc   nr       pgam          lamc  lamr  n0r  \\\n",
       "0  1.333108e-08  0.0  158.360965  0.0  10.111111  222222.22214   0.0  0.0   \n",
       "\n",
       "   rho_clubb  \n",
       "0   0.989029  "
      ]
     },
     "execution_count": 3,
     "metadata": {},
     "output_type": "execute_result"
    }
   ],
   "source": [
    "pd.DataFrame(input, columns=input_col_names)"
   ]
  },
  {
   "cell_type": "code",
   "execution_count": 4,
   "metadata": {},
   "outputs": [
    {
     "name": "stderr",
     "output_type": "stream",
     "text": [
      "/glade/u/home/wchuang/.local/lib/python3.9/site-packages/sklearn/base.py:464: UserWarning: X does not have valid feature names, but QuantileTransformer was fitted with feature names\n",
      "  warnings.warn(\n"
     ]
    },
    {
     "data": {
      "text/html": [
       "<div>\n",
       "<style scoped>\n",
       "    .dataframe tbody tr th:only-of-type {\n",
       "        vertical-align: middle;\n",
       "    }\n",
       "\n",
       "    .dataframe tbody tr th {\n",
       "        vertical-align: top;\n",
       "    }\n",
       "\n",
       "    .dataframe thead th {\n",
       "        text-align: right;\n",
       "    }\n",
       "</style>\n",
       "<table border=\"1\" class=\"dataframe\">\n",
       "  <thead>\n",
       "    <tr style=\"text-align: right;\">\n",
       "      <th></th>\n",
       "      <th>qc</th>\n",
       "      <th>qr</th>\n",
       "      <th>nc</th>\n",
       "      <th>nr</th>\n",
       "      <th>pgam</th>\n",
       "      <th>lamc</th>\n",
       "      <th>lamr</th>\n",
       "      <th>n0r</th>\n",
       "      <th>rho_clubb</th>\n",
       "    </tr>\n",
       "  </thead>\n",
       "  <tbody>\n",
       "    <tr>\n",
       "      <th>0</th>\n",
       "      <td>0.0</td>\n",
       "      <td>0.0</td>\n",
       "      <td>0.0</td>\n",
       "      <td>0.0</td>\n",
       "      <td>0.911318</td>\n",
       "      <td>0.344763</td>\n",
       "      <td>0.0</td>\n",
       "      <td>0.0</td>\n",
       "      <td>0.408971</td>\n",
       "    </tr>\n",
       "  </tbody>\n",
       "</table>\n",
       "</div>"
      ],
      "text/plain": [
       "    qc   qr   nc   nr      pgam      lamc  lamr  n0r  rho_clubb\n",
       "0  0.0  0.0  0.0  0.0  0.911318  0.344763   0.0  0.0   0.408971"
      ]
     },
     "execution_count": 4,
     "metadata": {},
     "output_type": "execute_result"
    }
   ],
   "source": [
    "input_quantile = pd.DataFrame(input_scaler.transform(input), columns=input_col_names)\n",
    "input_quantile"
   ]
  },
  {
   "cell_type": "code",
   "execution_count": 5,
   "metadata": {
    "scrolled": true
   },
   "outputs": [
    {
     "name": "stdout",
     "output_type": "stream",
     "text": [
      "1/1 [==============================] - 0s 97ms/step\n"
     ]
    },
    {
     "data": {
      "text/plain": [
       "array([[0.69710058, 0.2971191 , 0.94884293, 0.94540066]])"
      ]
     },
     "execution_count": 5,
     "metadata": {},
     "output_type": "execute_result"
    }
   ],
   "source": [
    "output_quantile = nn_tau_em.predict(input_quantile)\n",
    "output_quantile"
   ]
  },
  {
   "cell_type": "code",
   "execution_count": 6,
   "metadata": {},
   "outputs": [
    {
     "name": "stderr",
     "output_type": "stream",
     "text": [
      "/glade/u/home/wchuang/.local/lib/python3.9/site-packages/sklearn/base.py:464: UserWarning: X does not have valid feature names, but QuantileTransformer was fitted with feature names\n",
      "  warnings.warn(\n"
     ]
    },
    {
     "data": {
      "text/html": [
       "<div>\n",
       "<style scoped>\n",
       "    .dataframe tbody tr th:only-of-type {\n",
       "        vertical-align: middle;\n",
       "    }\n",
       "\n",
       "    .dataframe tbody tr th {\n",
       "        vertical-align: top;\n",
       "    }\n",
       "\n",
       "    .dataframe thead th {\n",
       "        text-align: right;\n",
       "    }\n",
       "</style>\n",
       "<table border=\"1\" class=\"dataframe\">\n",
       "  <thead>\n",
       "    <tr style=\"text-align: right;\">\n",
       "      <th></th>\n",
       "      <th>qctend</th>\n",
       "      <th>qrtend</th>\n",
       "      <th>nctend</th>\n",
       "      <th>nrtend</th>\n",
       "    </tr>\n",
       "  </thead>\n",
       "  <tbody>\n",
       "    <tr>\n",
       "      <th>0</th>\n",
       "      <td>-3.238707e-09</td>\n",
       "      <td>3.247959e-09</td>\n",
       "      <td>-11.251719</td>\n",
       "      <td>35.030717</td>\n",
       "    </tr>\n",
       "  </tbody>\n",
       "</table>\n",
       "</div>"
      ],
      "text/plain": [
       "         qctend        qrtend     nctend     nrtend\n",
       "0 -3.238707e-09  3.247959e-09 -11.251719  35.030717"
      ]
     },
     "execution_count": 6,
     "metadata": {},
     "output_type": "execute_result"
    }
   ],
   "source": [
    "output = output_scaler.inverse_transform(output_quantile)\n",
    "pd.DataFrame(output, columns=output_col_names)"
   ]
  },
  {
   "cell_type": "markdown",
   "metadata": {},
   "source": [
    "#### Checking the input quantile scaler"
   ]
  },
  {
   "cell_type": "code",
   "execution_count": 7,
   "metadata": {},
   "outputs": [
    {
     "name": "stdout",
     "output_type": "stream",
     "text": [
      "[[0.         0.         0.         0.         0.91131816 0.34476323\n",
      "  0.         0.         0.40897145]]\n",
      "[[0.         0.         0.         0.         0.91131832 0.344763\n",
      "  0.         0.         0.40897145]]\n",
      "Arrays are equal within the specified tolerance.\n"
     ]
    },
    {
     "name": "stderr",
     "output_type": "stream",
     "text": [
      "/glade/u/home/wchuang/.local/lib/python3.9/site-packages/sklearn/base.py:464: UserWarning: X does not have valid feature names, but QuantileTransformer was fitted with feature names\n",
      "  warnings.warn(\n"
     ]
    }
   ],
   "source": [
    "# # Read in the fortran quantile inputs\n",
    "fortran_input_quantile_file = fortran_directory + \"test_quantile_input.dat\"\n",
    "fortran_input_quantile = np.fromfile(fortran_input_quantile_file, dtype=np.float64, sep=' ').reshape(1, -1)\n",
    "fortran_input_quantile\n",
    "print(fortran_input_quantile)\n",
    "# # Quantile transform with the python scaler\n",
    "input_quantile = input_scaler.transform(pd.DataFrame(input))\n",
    "print(input_quantile)\n",
    "# # Compare python-quantile-transformed inputs to the fortran-imported inputs\n",
    "input_quantile_same = np.allclose(fortran_input_quantile, input_quantile, atol=1e-7)\n",
    "input_quantile_same\n",
    "# # Are they the same?\n",
    "if input_quantile_same:\n",
    "    print(\"Arrays are equal within the specified tolerance.\")\n",
    "else:\n",
    "    print(\"Arrays are not equal within the specified tolerance.\")"
   ]
  },
  {
   "cell_type": "markdown",
   "metadata": {},
   "source": [
    "#### Checking the neural network, which gives us the output quantile values"
   ]
  },
  {
   "cell_type": "code",
   "execution_count": 8,
   "metadata": {},
   "outputs": [
    {
     "name": "stdout",
     "output_type": "stream",
     "text": [
      "[[0.69710076 0.29711893 0.94884293 0.94540064]]\n",
      "1/1 [==============================] - 0s 32ms/step\n",
      "[[0.69710059 0.29711908 0.94884293 0.94540066]]\n",
      "Arrays are equal within the specified tolerance.\n"
     ]
    }
   ],
   "source": [
    "fortran_output_quantile_file = fortran_directory + \"test_quantile_output.dat\"\n",
    "fortran_output_quantile = np.fromfile(fortran_output_quantile_file, dtype=np.float64, sep=' ').reshape(1, -1)\n",
    "print(fortran_output_quantile)\n",
    "# Run the quantile transformed inputs through the python nn to get python-quantile-transformed outputs\n",
    "output_quantile = nn_tau_em.predict(input_quantile)\n",
    "print(output_quantile)\n",
    "# Compare the python-quantile-transformed outputs to the fortran-imported-quantile-transformed outputs\n",
    "output_quantile_same = np.allclose(output_quantile, fortran_output_quantile, atol=1e-7)\n",
    "# Are these the same?\n",
    "if output_quantile_same:\n",
    "    print(\"Arrays are equal within the specified tolerance.\")\n",
    "else:\n",
    "    print(\"Arrays are not equal within the specified tolerance.\")"
   ]
  },
  {
   "cell_type": "markdown",
   "metadata": {},
   "source": [
    "#### Checking the output quantile scaler"
   ]
  },
  {
   "cell_type": "code",
   "execution_count": 9,
   "metadata": {},
   "outputs": [
    {
     "name": "stdout",
     "output_type": "stream",
     "text": [
      "[[-3.23870080e-09  3.24795210e-09 -1.12517141e+01  3.50307062e+01]]\n",
      "[[-3.23870650e-09  3.24795853e-09 -1.12517186e+01  3.50307163e+01]]\n"
     ]
    },
    {
     "name": "stderr",
     "output_type": "stream",
     "text": [
      "/glade/u/home/wchuang/.local/lib/python3.9/site-packages/sklearn/base.py:464: UserWarning: X does not have valid feature names, but QuantileTransformer was fitted with feature names\n",
      "  warnings.warn(\n"
     ]
    },
    {
     "data": {
      "text/plain": [
       "True"
      ]
     },
     "execution_count": 9,
     "metadata": {},
     "output_type": "execute_result"
    }
   ],
   "source": [
    "# Reverse quantile transform the outputs using python\n",
    "fortran_output_file = fortran_directory + \"test_output.dat\"\n",
    "fortran_output = np.fromfile(fortran_output_file, dtype=np.float64, sep=' ').reshape(1, -1)\n",
    "print(fortran_output)\n",
    "# Compare the python outputs to the fortran-imported outputs\n",
    "output = output_scaler.inverse_transform(output_quantile)\n",
    "print(output)\n",
    "# Are they the same?\n",
    "output_same = np.allclose(output, fortran_output, atol=1e-7)\n",
    "output_same"
   ]
  },
  {
   "cell_type": "markdown",
   "metadata": {},
   "source": [
    "#### If all checks pass here then the fortran neural network has been implemented successfully\n"
   ]
  }
 ],
 "metadata": {
  "kernelspec": {
   "display_name": "Python [conda env:mlmicro]",
   "language": "python",
   "name": "conda-env-mlmicro-py"
  },
  "language_info": {
   "codemirror_mode": {
    "name": "ipython",
    "version": 3
   },
   "file_extension": ".py",
   "mimetype": "text/x-python",
   "name": "python",
   "nbconvert_exporter": "python",
   "pygments_lexer": "ipython3",
   "version": "3.9.16"
  }
 },
 "nbformat": 4,
 "nbformat_minor": 4
}
