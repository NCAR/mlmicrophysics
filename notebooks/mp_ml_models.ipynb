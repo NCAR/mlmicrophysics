{
 "cells": [
  {
   "cell_type": "code",
   "execution_count": 1,
   "metadata": {},
   "outputs": [
    {
     "name": "stderr",
     "output_type": "stream",
     "text": [
      "/glade/u/home/dgagne/miniconda3/envs/deep/lib/python3.6/site-packages/h5py/__init__.py:36: FutureWarning: Conversion of the second argument of issubdtype from `float` to `np.floating` is deprecated. In future, it will be treated as `np.float64 == np.dtype(float).type`.\n",
      "  from ._conv import register_converters as _register_converters\n",
      "Using TensorFlow backend.\n"
     ]
    }
   ],
   "source": [
    "%matplotlib inline\n",
    "import numpy as np\n",
    "import pandas as pd\n",
    "from mlmicrophysics.models import DenseGAN\n",
    "import matplotlib.pyplot as plt\n",
    "from mlmicrophysics.data import load_csv_data, subset_data_by_date"
   ]
  },
  {
   "cell_type": "code",
   "execution_count": 2,
   "metadata": {},
   "outputs": [
    {
     "name": "stderr",
     "output_type": "stream",
     "text": [
      "/glade/u/home/dgagne/miniconda3/envs/deep/lib/python3.6/site-packages/numpy/lib/arraysetops.py:472: FutureWarning: elementwise comparison failed; returning scalar instead, but in the future will perform elementwise comparison\n",
      "  mask |= (ar1 == a)\n"
     ]
    }
   ],
   "source": [
    "csv_path = \"/glade/work/dgagne/cam_mp_files_csv/\"\n",
    "all_data = load_csv_data(csv_path)"
   ]
  },
  {
   "cell_type": "code",
   "execution_count": 3,
   "metadata": {},
   "outputs": [],
   "source": [
    "all_data.reset_index(inplace=True)"
   ]
  },
  {
   "cell_type": "code",
   "execution_count": 21,
   "metadata": {},
   "outputs": [
    {
     "data": {
      "text/plain": [
       "Text(0,0.5,'Frequency of QC > 0 (Globally)')"
      ]
     },
     "execution_count": 21,
     "metadata": {},
     "output_type": "execute_result"
    },
    {
     "data": {
      "image/png": "[encoded data removed]",
      "text/plain": [
       "<Figure size 432x288 with 1 Axes>"
      ]
     },
     "metadata": {},
     "output_type": "display_data"
    }
   ],
   "source": [
    "all_data[\"lev\"].hist(bins=np.sort(all_data[\"lev\"].unique().tolist() + [1000]))\n",
    "plt.xlabel(\"Vertical Level (hPa)\")\n",
    "plt.ylabel(\"Frequency of QC > 0 (Globally)\")"
   ]
  },
  {
   "cell_type": "code",
   "execution_count": 5,
   "metadata": {},
   "outputs": [],
   "source": [
    "train, val, test = subset_data_by_date(all_data, train_date_end=364, test_date_start=365, test_date_end=727.75)"
   ]
  },
  {
   "cell_type": "code",
   "execution_count": 8,
   "metadata": {},
   "outputs": [
    {
     "data": {
      "text/plain": [
       "(29027127, 27)"
      ]
     },
     "execution_count": 8,
     "metadata": {},
     "output_type": "execute_result"
    }
   ],
   "source": [
    "test.shape"
   ]
  },
  {
   "cell_type": "code",
   "execution_count": 24,
   "metadata": {},
   "outputs": [
    {
     "data": {
      "text/plain": [
       "array([  0.   ,   5.125,  10.25 ,  15.375,  20.5  ,  25.625,  30.75 ,\n",
       "        35.875,  41.   ,  46.125,  51.25 ,  56.375,  61.5  ,  66.625,\n",
       "        71.75 ,  76.875,  82.   ,  87.125,  92.25 ,  97.375, 102.5  ,\n",
       "       107.625, 112.75 , 117.875, 123.   , 128.125, 133.25 , 138.375,\n",
       "       143.5  , 148.625, 153.75 , 158.875, 164.   , 169.125, 174.25 ,\n",
       "       179.375, 184.5  , 189.625, 194.75 , 199.875, 205.   , 210.125,\n",
       "       215.25 , 220.375, 225.5  , 230.625, 235.75 , 240.875, 246.   ,\n",
       "       251.125, 256.25 , 261.375, 266.5  , 271.625, 276.75 , 281.875,\n",
       "       287.   , 292.125, 297.25 , 302.375, 307.5  , 312.625, 317.75 ,\n",
       "       322.875, 328.   , 333.125, 338.25 , 343.375, 348.5  , 353.625,\n",
       "       358.75 , 363.875, 369.   , 374.125, 379.25 , 384.375, 389.5  ,\n",
       "       394.625, 399.75 , 404.875, 410.   , 415.125, 420.25 , 425.375,\n",
       "       430.5  , 435.625, 440.75 , 445.875, 451.   , 456.125, 461.25 ,\n",
       "       466.375, 471.5  , 476.625, 481.75 , 486.875, 492.   , 497.125,\n",
       "       502.25 , 507.375, 512.5  , 517.625, 522.75 , 527.875, 533.   ,\n",
       "       538.125, 543.25 , 548.375, 553.5  , 558.625, 563.75 , 568.875,\n",
       "       574.   , 579.125, 584.25 , 589.375, 594.5  , 599.625, 604.75 ,\n",
       "       609.875, 615.   , 620.125, 625.25 , 630.375, 635.5  , 640.625,\n",
       "       645.75 , 650.875, 656.   , 661.125, 666.25 , 671.375, 676.5  ,\n",
       "       681.625, 686.75 , 691.875, 697.   , 702.125, 707.25 , 712.375,\n",
       "       717.5  , 722.625, 727.75 ])"
      ]
     },
     "execution_count": 24,
     "metadata": {},
     "output_type": "execute_result"
    }
   ],
   "source": [
    "np.sort(all_data[\"time\"].unique())"
   ]
  },
  {
   "cell_type": "code",
   "execution_count": 9,
   "metadata": {},
   "outputs": [],
   "source": [
    "dg = DenseGAN()"
   ]
  },
  {
   "cell_type": "code",
   "execution_count": null,
   "metadata": {},
   "outputs": [],
   "source": [
    "input_cols = []\n",
    "dg.fit(train[input_cols])"
   ]
  }
 ],
 "metadata": {
  "kernelspec": {
   "display_name": "Python 3",
   "language": "python",
   "name": "python3"
  },
  "language_info": {
   "codemirror_mode": {
    "name": "ipython",
    "version": 3
   },
   "file_extension": ".py",
   "mimetype": "text/x-python",
   "name": "python",
   "nbconvert_exporter": "python",
   "pygments_lexer": "ipython3",
   "version": "3.6.4"
  }
 },
 "nbformat": 4,
 "nbformat_minor": 2
}
