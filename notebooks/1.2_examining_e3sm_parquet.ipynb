{
 "cells": [
  {
   "cell_type": "code",
   "execution_count": 1,
   "id": "a899c39b-6713-4002-86cd-aef555ff0d82",
   "metadata": {},
   "outputs": [
    {
     "name": "stdout",
     "output_type": "stream",
     "text": [
      "Error reading the Parquet file: [Errno 2] No such file or directory: 'example.parquet'\n"
     ]
    }
   ],
   "source": [
    "import pandas as pd\n",
    "\n",
    "def inspect_parquet_file(file_path):\n",
    "    \"\"\"\n",
    "    Reads and displays basic information about a Parquet file.\n",
    "\n",
    "    :param file_path: Path to the Parquet file\n",
    "    \"\"\"\n",
    "    try:\n",
    "        # Read the Parquet file into a pandas DataFrame\n",
    "        df = pd.read_parquet(file_path)\n",
    "        \n",
    "        # Display basic information\n",
    "        print(f\"File: {file_path}\")\n",
    "        print(\"\\n--- File Overview ---\")\n",
    "        print(f\"Number of rows: {len(df)}\")\n",
    "        print(f\"Number of columns: {len(df.columns)}\")\n",
    "        print(\"\\n--- Column Names ---\")\n",
    "        print(df.columns.tolist())\n",
    "        print(\"\\n--- First Few Rows ---\")\n",
    "        print(df.head())\n",
    "    except Exception as e:\n",
    "        print(f\"Error reading the Parquet file: {e}\")\n",
    "\n",
    "if __name__ == \"__main__\":\n",
    "    inspect_parquet_file(file_path)"
   ]
  },
  {
   "cell_type": "code",
   "execution_count": 5,
   "id": "72ff9641-9114-4f83-8356-840eb848a9e9",
   "metadata": {},
   "outputs": [
    {
     "name": "stdout",
     "output_type": "stream",
     "text": [
      "File: /glade/derecho/scratch/wchuang/mlmicrophysics/e3sm_ml_tau1/20241115/e3sm_mp_data_tau1_000000.parquet\n",
      "\n",
      "--- File Overview ---\n",
      "Number of rows: 4980366\n",
      "Number of columns: 24\n",
      "\n",
      "--- Column Names ---\n",
      "['lev', 'ncol', 'ilev', 'T', 'RHO_CLUBB', 'CLOUD', 'FREQR', 'P3_qc_in_TAU', 'P3_nc_in_TAU', 'P3_qr_in_TAU', 'P3_nr_in_TAU', 'P3_qc_out_TAU', 'P3_nc_out_TAU', 'P3_qr_out_TAU', 'P3_nr_out_TAU', 'P3_qctend_TAU_raw', 'P3_nctend_TAU_raw', 'P3_qrtend_TAU_raw', 'P3_nrtend_TAU_raw', 'P3_mu_c', 'P3_lamc', 'P3_lamr', 'P3_nr', 'time']\n",
      "\n",
      "--- First Few Rows ---\n",
      "          lev  ncol      ilev           T  RHO_CLUBB  CLOUD  FREQR  \\\n",
      "0  218.080976  5498  0.100000  225.101257   0.000170  0.999    0.0   \n",
      "1  218.080976  5498  0.147223  225.101257   0.000247  0.999    0.0   \n",
      "2  218.080976  5498  0.216607  225.101257   0.000354  0.999    0.0   \n",
      "3  218.080976  5498  0.318250  225.101257   0.000514  0.999    0.0   \n",
      "4  218.080976  5498  0.466509  225.101257   0.000730  0.999    0.0   \n",
      "\n",
      "   P3_qc_in_TAU  P3_nc_in_TAU  P3_qr_in_TAU  ...  P3_nr_out_TAU  \\\n",
      "0  4.069766e-08    985.920532           0.0  ...     143.149826   \n",
      "1  4.069766e-08    985.920532           0.0  ...     143.149826   \n",
      "2  4.069766e-08    985.920532           0.0  ...     143.149826   \n",
      "3  4.069766e-08    985.920532           0.0  ...     143.149826   \n",
      "4  4.069766e-08    985.920532           0.0  ...     143.149826   \n",
      "\n",
      "   P3_qctend_TAU_raw  P3_nctend_TAU_raw  P3_qrtend_TAU_raw  P3_nrtend_TAU_raw  \\\n",
      "0      -5.362596e-11          -0.480462       5.362596e-11           0.477166   \n",
      "1      -5.362596e-11          -0.480462       5.362596e-11           0.477166   \n",
      "2      -5.362596e-11          -0.480462       5.362596e-11           0.477166   \n",
      "3      -5.362596e-11          -0.480462       5.362596e-11           0.477166   \n",
      "4      -5.362596e-11          -0.480462       5.362596e-11           0.477166   \n",
      "\n",
      "     P3_mu_c     P3_lamc  P3_lamr  P3_nr  time  \n",
      "0  12.576265  339406.625      0.0    1.0   0.0  \n",
      "1  12.576265  339406.625      0.0    1.0   0.0  \n",
      "2  12.576265  339406.625      0.0    1.0   0.0  \n",
      "3  12.576265  339406.625      0.0    1.0   0.0  \n",
      "4  12.576265  339406.625      0.0    1.0   0.0  \n",
      "\n",
      "[5 rows x 24 columns]\n"
     ]
    }
   ],
   "source": [
    "folder = \"/glade/derecho/scratch/wchuang/mlmicrophysics/e3sm_ml_tau1/20241115/\"\n",
    "inspect_parquet_file(folder + \"e3sm_mp_data_tau1_000000.parquet\")"
   ]
  },
  {
   "cell_type": "code",
   "execution_count": 2,
   "id": "111af1c3-0452-4fdd-bfa3-6ebe2d4864c3",
   "metadata": {},
   "outputs": [
    {
     "name": "stdout",
     "output_type": "stream",
     "text": [
      "File: /glade/derecho/scratch/wchuang/mlmicrophysics/e3sm_ml_tau1/20241206/e3sm_mp_data_tau1_000000.parquet\n",
      "\n",
      "--- File Overview ---\n",
      "Number of rows: 4980366\n",
      "Number of columns: 24\n",
      "\n",
      "--- Column Names ---\n",
      "['lev', 'ncol', 'ilev', 'T', 'RHO_CLUBB', 'CLOUD', 'FREQR', 'QC_TAU_in', 'NC_TAU_in', 'QR_TAU_in', 'NR_TAU_in', 'QC_TAU_out', 'NC_TAU_out', 'QR_TAU_out', 'NR_TAU_out', 'qctend_TAU', 'nctend_TAU', 'qrtend_TAU', 'nrtend_TAU', 'PGAM', 'LAMC', 'LAMR', 'N0R', 'time']\n",
      "\n",
      "--- First Few Rows ---\n",
      "          lev  ncol      ilev           T  RHO_CLUBB  CLOUD  FREQR  \\\n",
      "0  218.080976  5498  0.100000  225.101257   0.000170  0.999    0.0   \n",
      "1  218.080976  5498  0.147223  225.101257   0.000247  0.999    0.0   \n",
      "2  218.080976  5498  0.216607  225.101257   0.000354  0.999    0.0   \n",
      "3  218.080976  5498  0.318250  225.101257   0.000514  0.999    0.0   \n",
      "4  218.080976  5498  0.466509  225.101257   0.000730  0.999    0.0   \n",
      "\n",
      "      QC_TAU_in   NC_TAU_in  QR_TAU_in  ...  NR_TAU_out    qctend_TAU  \\\n",
      "0  4.069766e-08  985.920532        0.0  ...  143.149826 -5.362596e-11   \n",
      "1  4.069766e-08  985.920532        0.0  ...  143.149826 -5.362596e-11   \n",
      "2  4.069766e-08  985.920532        0.0  ...  143.149826 -5.362596e-11   \n",
      "3  4.069766e-08  985.920532        0.0  ...  143.149826 -5.362596e-11   \n",
      "4  4.069766e-08  985.920532        0.0  ...  143.149826 -5.362596e-11   \n",
      "\n",
      "   nctend_TAU    qrtend_TAU  nrtend_TAU       PGAM        LAMC  LAMR  N0R  \\\n",
      "0   -0.480462  5.362596e-11    0.477166  12.576265  339406.625   0.0  1.0   \n",
      "1   -0.480462  5.362596e-11    0.477166  12.576265  339406.625   0.0  1.0   \n",
      "2   -0.480462  5.362596e-11    0.477166  12.576265  339406.625   0.0  1.0   \n",
      "3   -0.480462  5.362596e-11    0.477166  12.576265  339406.625   0.0  1.0   \n",
      "4   -0.480462  5.362596e-11    0.477166  12.576265  339406.625   0.0  1.0   \n",
      "\n",
      "   time  \n",
      "0   0.0  \n",
      "1   0.0  \n",
      "2   0.0  \n",
      "3   0.0  \n",
      "4   0.0  \n",
      "\n",
      "[5 rows x 24 columns]\n"
     ]
    }
   ],
   "source": [
    "folder = \"/glade/derecho/scratch/wchuang/mlmicrophysics/e3sm_ml_tau1/20241206/\"\n",
    "inspect_parquet_file(folder + \"e3sm_mp_data_tau1_000000.parquet\")"
   ]
  }
 ],
 "metadata": {
  "kernelspec": {
   "display_name": "Python 3 (ipykernel)",
   "language": "python",
   "name": "python3"
  },
  "language_info": {
   "codemirror_mode": {
    "name": "ipython",
    "version": 3
   },
   "file_extension": ".py",
   "mimetype": "text/x-python",
   "name": "python",
   "nbconvert_exporter": "python",
   "pygments_lexer": "ipython3",
   "version": "3.10.13"
  }
 },
 "nbformat": 4,
 "nbformat_minor": 5
}
