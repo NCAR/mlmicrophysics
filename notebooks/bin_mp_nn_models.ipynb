{
 "cells": [
  {
   "cell_type": "code",
   "execution_count": 162,
   "metadata": {},
   "outputs": [
    {
     "name": "stderr",
     "output_type": "stream",
     "text": [
      "/glade/u/home/dgagne/miniconda3/envs/deep/lib/python3.6/importlib/_bootstrap.py:219: RuntimeWarning: numpy.dtype size changed, may indicate binary incompatibility. Expected 96, got 88\n",
      "  return f(*args, **kwds)\n"
     ]
    }
   ],
   "source": [
    "%matplotlib inline\n",
    "import numpy as np\n",
    "import matplotlib.pyplot as plt\n",
    "import pandas as pd\n",
    "from mlmicrophysics.models import DenseNeuralNetwork\n",
    "from mlmicrophysics.data import subset_data_files_by_date, log10_transform, neg_log10_transform\n",
    "from sklearn.preprocessing import StandardScaler, RobustScaler, MaxAbsScaler, MinMaxScaler\n",
    "from sklearn.metrics import r2_score\n",
    "from matplotlib.colors import LogNorm\n",
    "scalers = {\"MinMaxScaler\": MinMaxScaler,\n",
    "           \"MaxAbsScaler\": MaxAbsScaler,\n",
    "           \"StandardScaler\": StandardScaler,\n",
    "           \"RobustScaler\": RobustScaler}\n",
    "transforms = {\"log10_transform\": log10_transform,\n",
    "              \"neg_log10_transform\": neg_log10_transform}"
   ]
  },
  {
   "cell_type": "code",
   "execution_count": 6,
   "metadata": {},
   "outputs": [
    {
     "name": "stdout",
     "output_type": "stream",
     "text": [
      "[    0   123   246   369   492   615   738   861   984  1107  1230  1353\n",
      "  1476  1599  1722  1845  1968  2091  2214  2337  2460  2583  2706  2829\n",
      "  2952  3075  3198  3321  3444  3567  3690  3813  3936  4059  4182  4305\n",
      "  4428  4551  4674  4797  4920  5043  5166  5289  5412  5535  5658  5781\n",
      "  5904  6027  6150  6273  6396  6519  6642  6765  6888  7011  7134  7257\n",
      "  7380  7503  7626  7749  7872  7995  8118  8241  8364  8487  8610  8733\n",
      "  8856  8979  9102  9225  9348  9471  9594  9717  9840  9963 10086 10209\n",
      " 10332 10455 10578 10701 10824 10947 11070 11193 11316 11439 11562 11685\n",
      " 11808 11931 12054 12177 12300 12423 12546 12669 12792 12915 13038 13161\n",
      " 13284 13407 13530 13653 13776 13899 14022 14145 14268 14391 14514 14637\n",
      " 14760 14883 15006 15129 15252 15375 15498 15621 15744 15867 15990 16113\n",
      " 16236 16359 16482 16605 16728 16851 16974 17097 17220 17343 17466]\n"
     ]
    }
   ],
   "source": [
    "path = \"/glade/scratch/dgagne/cam_mp_files_run2_csv/\"\n",
    "train_files, val_files, test_files = subset_data_files_by_date(path, \".csv\", train_date_start=0, train_date_end=4000, \n",
    "                                                               test_date_start=4100, test_date_end=6000)"
   ]
  },
  {
   "cell_type": "code",
   "execution_count": 31,
   "metadata": {},
   "outputs": [
    {
     "name": "stdout",
     "output_type": "stream",
     "text": [
      "/glade/scratch/dgagne/cam_mp_files_run2_csv/cam_mp_data_run2_000123.csv\n",
      "/glade/scratch/dgagne/cam_mp_files_run2_csv/cam_mp_data_run2_000246.csv\n",
      "/glade/scratch/dgagne/cam_mp_files_run2_csv/cam_mp_data_run2_000492.csv\n",
      "/glade/scratch/dgagne/cam_mp_files_run2_csv/cam_mp_data_run2_000615.csv\n",
      "/glade/scratch/dgagne/cam_mp_files_run2_csv/cam_mp_data_run2_000861.csv\n",
      "/glade/scratch/dgagne/cam_mp_files_run2_csv/cam_mp_data_run2_000984.csv\n",
      "/glade/scratch/dgagne/cam_mp_files_run2_csv/cam_mp_data_run2_001230.csv\n",
      "/glade/scratch/dgagne/cam_mp_files_run2_csv/cam_mp_data_run2_001353.csv\n",
      "/glade/scratch/dgagne/cam_mp_files_run2_csv/cam_mp_data_run2_001599.csv\n",
      "/glade/scratch/dgagne/cam_mp_files_run2_csv/cam_mp_data_run2_001722.csv\n",
      "/glade/scratch/dgagne/cam_mp_files_run2_csv/cam_mp_data_run2_001968.csv\n",
      "/glade/scratch/dgagne/cam_mp_files_run2_csv/cam_mp_data_run2_002091.csv\n",
      "/glade/scratch/dgagne/cam_mp_files_run2_csv/cam_mp_data_run2_002337.csv\n",
      "/glade/scratch/dgagne/cam_mp_files_run2_csv/cam_mp_data_run2_002460.csv\n",
      "/glade/scratch/dgagne/cam_mp_files_run2_csv/cam_mp_data_run2_002706.csv\n",
      "/glade/scratch/dgagne/cam_mp_files_run2_csv/cam_mp_data_run2_002829.csv\n",
      "/glade/scratch/dgagne/cam_mp_files_run2_csv/cam_mp_data_run2_003075.csv\n",
      "/glade/scratch/dgagne/cam_mp_files_run2_csv/cam_mp_data_run2_003198.csv\n",
      "/glade/scratch/dgagne/cam_mp_files_run2_csv/cam_mp_data_run2_003444.csv\n",
      "/glade/scratch/dgagne/cam_mp_files_run2_csv/cam_mp_data_run2_003567.csv\n",
      "/glade/scratch/dgagne/cam_mp_files_run2_csv/cam_mp_data_run2_003813.csv\n",
      "/glade/scratch/dgagne/cam_mp_files_run2_csv/cam_mp_data_run2_003936.csv\n",
      "Combining data\n"
     ]
    }
   ],
   "source": [
    "input_cols = [\"pressure\", \"temperature\", \"RHO_CLUBB_lev\", \"RHO_CLUBB_top\", \"RHO_CLUBB_bottom\",\n",
    "             \"QC_TAU_in\", \"NC_TAU_in\", \"QR_TAU_in\", \"NR_TAU_in\",]\n",
    "output_cols = [\"qctend_TAU\", \"qrtend_TAU\", \"nctend_TAU\", \"nrtend_TAU\"]\n",
    "all_input_data = []\n",
    "all_output_data = []\n",
    "for filename in train_files:\n",
    "    print(filename)\n",
    "    data = pd.read_csv(filename, index_col=\"Index\")\n",
    "    data = data.loc[data[\"NC_TAU_in\"] >= 10]\n",
    "    all_input_data.append(data[input_cols])\n",
    "    all_output_data.append(data[output_cols])\n",
    "    del data\n",
    "print(\"Combining data\")\n",
    "combined_input_data = pd.concat(all_input_data, ignore_index=True)\n",
    "combined_output_data = pd.concat(all_output_data, ignore_index=True)\n",
    "del all_input_data[:]\n",
    "del all_output_data[:]"
   ]
  },
  {
   "cell_type": "code",
   "execution_count": 53,
   "metadata": {},
   "outputs": [
    {
     "name": "stdout",
     "output_type": "stream",
     "text": [
      "/glade/scratch/dgagne/cam_mp_files_run2_csv/cam_mp_data_run2_004182.csv\n",
      "/glade/scratch/dgagne/cam_mp_files_run2_csv/cam_mp_data_run2_004305.csv\n",
      "/glade/scratch/dgagne/cam_mp_files_run2_csv/cam_mp_data_run2_004428.csv\n",
      "/glade/scratch/dgagne/cam_mp_files_run2_csv/cam_mp_data_run2_004551.csv\n",
      "/glade/scratch/dgagne/cam_mp_files_run2_csv/cam_mp_data_run2_004674.csv\n",
      "/glade/scratch/dgagne/cam_mp_files_run2_csv/cam_mp_data_run2_004797.csv\n",
      "/glade/scratch/dgagne/cam_mp_files_run2_csv/cam_mp_data_run2_004920.csv\n",
      "/glade/scratch/dgagne/cam_mp_files_run2_csv/cam_mp_data_run2_005043.csv\n",
      "/glade/scratch/dgagne/cam_mp_files_run2_csv/cam_mp_data_run2_005166.csv\n",
      "/glade/scratch/dgagne/cam_mp_files_run2_csv/cam_mp_data_run2_005289.csv\n",
      "/glade/scratch/dgagne/cam_mp_files_run2_csv/cam_mp_data_run2_005412.csv\n",
      "/glade/scratch/dgagne/cam_mp_files_run2_csv/cam_mp_data_run2_005535.csv\n",
      "/glade/scratch/dgagne/cam_mp_files_run2_csv/cam_mp_data_run2_005658.csv\n",
      "/glade/scratch/dgagne/cam_mp_files_run2_csv/cam_mp_data_run2_005781.csv\n",
      "/glade/scratch/dgagne/cam_mp_files_run2_csv/cam_mp_data_run2_005904.csv\n",
      "Combining data\n"
     ]
    }
   ],
   "source": [
    "all_input_data = []\n",
    "all_output_data = []\n",
    "for filename in test_files:\n",
    "    print(filename)\n",
    "    data = pd.read_csv(filename, index_col=\"Index\")\n",
    "    data = data.loc[data[\"NC_TAU_in\"] >= 10]\n",
    "    all_input_data.append(data[input_cols])\n",
    "    all_output_data.append(data[output_cols])\n",
    "    del data\n",
    "print(\"Combining data\")\n",
    "test_input_data = pd.concat(all_input_data, ignore_index=True)\n",
    "test_output_data = pd.concat(all_output_data, ignore_index=True)\n",
    "del all_input_data[:]\n",
    "del all_output_data[:]"
   ]
  },
  {
   "cell_type": "code",
   "execution_count": 32,
   "metadata": {},
   "outputs": [
    {
     "data": {
      "text/plain": [
       "(array([[nan, nan,  1., ..., nan, nan, nan],\n",
       "        [nan, nan, nan, ..., nan, nan, nan],\n",
       "        [nan, nan, nan, ..., nan, nan, nan],\n",
       "        ...,\n",
       "        [nan, nan, nan, ..., nan, nan, nan],\n",
       "        [nan, nan, nan, ..., nan, nan, nan],\n",
       "        [nan, nan, nan, ..., nan, nan, nan]]),\n",
       " array([1.00025394, 1.0806814 , 1.16110885, 1.24153631, 1.32196376,\n",
       "        1.40239122, 1.48281867, 1.56324613, 1.64367358, 1.72410104,\n",
       "        1.80452849, 1.88495595, 1.9653834 , 2.04581086, 2.12623831,\n",
       "        2.20666577, 2.28709322, 2.36752068, 2.44794813, 2.52837559,\n",
       "        2.60880304, 2.6892305 , 2.76965795, 2.85008541, 2.93051286,\n",
       "        3.01094032, 3.09136777, 3.17179523, 3.25222268, 3.33265014,\n",
       "        3.41307759, 3.49350505, 3.5739325 , 3.65435996, 3.73478741,\n",
       "        3.81521487, 3.89564232, 3.97606978, 4.05649723, 4.13692469,\n",
       "        4.21735214, 4.2977796 , 4.37820705, 4.45863451, 4.53906196,\n",
       "        4.61948942, 4.69991687, 4.78034433, 4.86077178, 4.94119924,\n",
       "        5.02162669, 5.10205415, 5.1824816 , 5.26290906, 5.34333651,\n",
       "        5.42376397, 5.50419142, 5.58461888, 5.66504633, 5.74547379,\n",
       "        5.82590124, 5.9063287 , 5.98675615, 6.06718361, 6.14761106,\n",
       "        6.22803852, 6.30846597, 6.38889343, 6.46932088, 6.54974834,\n",
       "        6.63017579, 6.71060325, 6.7910307 , 6.87145816, 6.95188561,\n",
       "        7.03231307, 7.11274052, 7.19316798, 7.27359543, 7.35402289,\n",
       "        7.43445034, 7.5148778 , 7.59530525, 7.67573271, 7.75616016,\n",
       "        7.83658762, 7.91701507, 7.99744253, 8.07786998, 8.15829744,\n",
       "        8.23872489, 8.31915235, 8.3995798 , 8.48000726, 8.56043471,\n",
       "        8.64086217, 8.72128962, 8.80171708, 8.88214453, 8.96257199,\n",
       "        9.04299944]),\n",
       " array([-5.99999448, -5.96721617, -5.93443785, -5.90165953, -5.86888122,\n",
       "        -5.8361029 , -5.80332458, -5.77054627, -5.73776795, -5.70498963,\n",
       "        -5.67221131, -5.639433  , -5.60665468, -5.57387636, -5.54109805,\n",
       "        -5.50831973, -5.47554141, -5.4427631 , -5.40998478, -5.37720646,\n",
       "        -5.34442815, -5.31164983, -5.27887151, -5.24609319, -5.21331488,\n",
       "        -5.18053656, -5.14775824, -5.11497993, -5.08220161, -5.04942329,\n",
       "        -5.01664498, -4.98386666, -4.95108834, -4.91831003, -4.88553171,\n",
       "        -4.85275339, -4.81997507, -4.78719676, -4.75441844, -4.72164012,\n",
       "        -4.68886181, -4.65608349, -4.62330517, -4.59052686, -4.55774854,\n",
       "        -4.52497022, -4.4921919 , -4.45941359, -4.42663527, -4.39385695,\n",
       "        -4.36107864, -4.32830032, -4.295522  , -4.26274369, -4.22996537,\n",
       "        -4.19718705, -4.16440874, -4.13163042, -4.0988521 , -4.06607378,\n",
       "        -4.03329547, -4.00051715, -3.96773883, -3.93496052, -3.9021822 ,\n",
       "        -3.86940388, -3.83662557, -3.80384725, -3.77106893, -3.73829061,\n",
       "        -3.7055123 , -3.67273398, -3.63995566, -3.60717735, -3.57439903,\n",
       "        -3.54162071, -3.5088424 , -3.47606408, -3.44328576, -3.41050745,\n",
       "        -3.37772913, -3.34495081, -3.31217249, -3.27939418, -3.24661586,\n",
       "        -3.21383754, -3.18105923, -3.14828091, -3.11550259, -3.08272428,\n",
       "        -3.04994596, -3.01716764, -2.98438932, -2.95161101, -2.91883269,\n",
       "        -2.88605437, -2.85327606, -2.82049774, -2.78771942, -2.75494111,\n",
       "        -2.72216279]),\n",
       " <matplotlib.image.AxesImage at 0x2aab0fa54f60>)"
      ]
     },
     "execution_count": 32,
     "metadata": {},
     "output_type": "execute_result"
    },
    {
     "name": "stderr",
     "output_type": "stream",
     "text": [
      "/glade/u/home/dgagne/miniconda3/envs/deep/lib/python3.6/site-packages/matplotlib/colors.py:1031: RuntimeWarning: invalid value encountered in less_equal\n",
      "  mask |= resdat <= 0\n"
     ]
    },
    {
     "data": {
      "image/png": "[encoded data removed]",
      "text/plain": [
       "<Figure size 432x288 with 1 Axes>"
      ]
     },
     "metadata": {},
     "output_type": "display_data"
    }
   ],
   "source": [
    "plt.hist2d(np.log10(combined_input_data[\"NC_TAU_in\"]), np.log10(combined_input_data[\"QC_TAU_in\"]), \n",
    "           bins=100, cmin=1, norm=LogNorm() )"
   ]
  },
  {
   "cell_type": "code",
   "execution_count": 33,
   "metadata": {},
   "outputs": [
    {
     "data": {
      "text/plain": [
       "(array([[nan, nan, nan, ..., nan, nan, nan],\n",
       "        [nan, nan, nan, ..., nan, nan, nan],\n",
       "        [nan, nan, nan, ..., nan, nan, nan],\n",
       "        ...,\n",
       "        [nan, nan, nan, ..., nan, nan, nan],\n",
       "        [nan, nan, nan, ..., nan, nan, nan],\n",
       "        [nan, nan, nan, ..., nan, nan, nan]]),\n",
       " array([-1.20600920e-05, -1.19394911e-05, -1.18188902e-05, -1.16982892e-05,\n",
       "        -1.15776883e-05, -1.14570874e-05, -1.13364865e-05, -1.12158856e-05,\n",
       "        -1.10952846e-05, -1.09746837e-05, -1.08540828e-05, -1.07334819e-05,\n",
       "        -1.06128810e-05, -1.04922800e-05, -1.03716791e-05, -1.02510782e-05,\n",
       "        -1.01304773e-05, -1.00098764e-05, -9.88927544e-06, -9.76867452e-06,\n",
       "        -9.64807360e-06, -9.52747268e-06, -9.40687176e-06, -9.28627084e-06,\n",
       "        -9.16566992e-06, -9.04506900e-06, -8.92446808e-06, -8.80386716e-06,\n",
       "        -8.68326624e-06, -8.56266532e-06, -8.44206440e-06, -8.32146348e-06,\n",
       "        -8.20086256e-06, -8.08026164e-06, -7.95966072e-06, -7.83905980e-06,\n",
       "        -7.71845888e-06, -7.59785796e-06, -7.47725704e-06, -7.35665612e-06,\n",
       "        -7.23605520e-06, -7.11545428e-06, -6.99485336e-06, -6.87425244e-06,\n",
       "        -6.75365152e-06, -6.63305060e-06, -6.51244968e-06, -6.39184876e-06,\n",
       "        -6.27124784e-06, -6.15064692e-06, -6.03004600e-06, -5.90944508e-06,\n",
       "        -5.78884416e-06, -5.66824324e-06, -5.54764232e-06, -5.42704140e-06,\n",
       "        -5.30644048e-06, -5.18583956e-06, -5.06523864e-06, -4.94463772e-06,\n",
       "        -4.82403680e-06, -4.70343588e-06, -4.58283496e-06, -4.46223404e-06,\n",
       "        -4.34163312e-06, -4.22103220e-06, -4.10043128e-06, -3.97983036e-06,\n",
       "        -3.85922944e-06, -3.73862852e-06, -3.61802760e-06, -3.49742668e-06,\n",
       "        -3.37682576e-06, -3.25622484e-06, -3.13562392e-06, -3.01502300e-06,\n",
       "        -2.89442208e-06, -2.77382116e-06, -2.65322024e-06, -2.53261932e-06,\n",
       "        -2.41201840e-06, -2.29141748e-06, -2.17081656e-06, -2.05021564e-06,\n",
       "        -1.92961472e-06, -1.80901380e-06, -1.68841288e-06, -1.56781196e-06,\n",
       "        -1.44721104e-06, -1.32661012e-06, -1.20600920e-06, -1.08540828e-06,\n",
       "        -9.64807360e-07, -8.44206440e-07, -7.23605520e-07, -6.03004600e-07,\n",
       "        -4.82403680e-07, -3.61802760e-07, -2.41201840e-07, -1.20600920e-07,\n",
       "         5.25983470e-21]),\n",
       " array([-2491.0923  , -2408.502327, -2325.912354, -2243.322381,\n",
       "        -2160.732408, -2078.142435, -1995.552462, -1912.962489,\n",
       "        -1830.372516, -1747.782543, -1665.19257 , -1582.602597,\n",
       "        -1500.012624, -1417.422651, -1334.832678, -1252.242705,\n",
       "        -1169.652732, -1087.062759, -1004.472786,  -921.882813,\n",
       "         -839.29284 ,  -756.702867,  -674.112894,  -591.522921,\n",
       "         -508.932948,  -426.342975,  -343.753002,  -261.163029,\n",
       "         -178.573056,   -95.983083,   -13.39311 ,    69.196863,\n",
       "          151.786836,   234.376809,   316.966782,   399.556755,\n",
       "          482.146728,   564.736701,   647.326674,   729.916647,\n",
       "          812.50662 ,   895.096593,   977.686566,  1060.276539,\n",
       "         1142.866512,  1225.456485,  1308.046458,  1390.636431,\n",
       "         1473.226404,  1555.816377,  1638.40635 ,  1720.996323,\n",
       "         1803.586296,  1886.176269,  1968.766242,  2051.356215,\n",
       "         2133.946188,  2216.536161,  2299.126134,  2381.716107,\n",
       "         2464.30608 ,  2546.896053,  2629.486026,  2712.075999,\n",
       "         2794.665972,  2877.255945,  2959.845918,  3042.435891,\n",
       "         3125.025864,  3207.615837,  3290.20581 ,  3372.795783,\n",
       "         3455.385756,  3537.975729,  3620.565702,  3703.155675,\n",
       "         3785.745648,  3868.335621,  3950.925594,  4033.515567,\n",
       "         4116.10554 ,  4198.695513,  4281.285486,  4363.875459,\n",
       "         4446.465432,  4529.055405,  4611.645378,  4694.235351,\n",
       "         4776.825324,  4859.415297,  4942.00527 ,  5024.595243,\n",
       "         5107.185216,  5189.775189,  5272.365162,  5354.955135,\n",
       "         5437.545108,  5520.135081,  5602.725054,  5685.315027,\n",
       "         5767.905   ]),\n",
       " <matplotlib.image.AxesImage at 0x2aab0fff41d0>)"
      ]
     },
     "execution_count": 33,
     "metadata": {},
     "output_type": "execute_result"
    },
    {
     "name": "stderr",
     "output_type": "stream",
     "text": [
      "/glade/u/home/dgagne/miniconda3/envs/deep/lib/python3.6/site-packages/matplotlib/colors.py:1031: RuntimeWarning: invalid value encountered in less_equal\n",
      "  mask |= resdat <= 0\n"
     ]
    },
    {
     "data": {
      "image/png": "[encoded data removed]",
      "text/plain": [
       "<Figure size 432x288 with 1 Axes>"
      ]
     },
     "metadata": {},
     "output_type": "display_data"
    }
   ],
   "source": [
    "plt.hist2d(combined_output_data[\"qctend_TAU\"], combined_output_data[\"nrtend_TAU\"], \n",
    "           bins=100, cmin=1, norm=LogNorm() )"
   ]
  },
  {
   "cell_type": "code",
   "execution_count": 154,
   "metadata": {},
   "outputs": [
    {
     "name": "stdout",
     "output_type": "stream",
     "text": [
      "_________________________________________________________________\n",
      "Layer (type)                 Output Shape              Param #   \n",
      "=================================================================\n",
      "input_6 (InputLayer)         (None, 9)                 0         \n",
      "_________________________________________________________________\n",
      "dense_21 (Dense)             (None, 100)               1000      \n",
      "_________________________________________________________________\n",
      "activation_16 (Activation)   (None, 100)               0         \n",
      "_________________________________________________________________\n",
      "dense_22 (Dense)             (None, 100)               10100     \n",
      "_________________________________________________________________\n",
      "activation_17 (Activation)   (None, 100)               0         \n",
      "_________________________________________________________________\n",
      "dense_23 (Dense)             (None, 100)               10100     \n",
      "_________________________________________________________________\n",
      "activation_18 (Activation)   (None, 100)               0         \n",
      "_________________________________________________________________\n",
      "dense_24 (Dense)             (None, 1)                 101       \n",
      "=================================================================\n",
      "Total params: 21,301\n",
      "Trainable params: 21,301\n",
      "Non-trainable params: 0\n",
      "_________________________________________________________________\n",
      "None\n"
     ]
    }
   ],
   "source": [
    "dnn = DenseNeuralNetwork(hidden_layers=3, hidden_neurons=100, \n",
    "                         inputs=len(input_cols), outputs=1, \n",
    "                         loss=\"mse\", activation=\"selu\", epochs=10, batch_size=1024, verbose=1, l2_weight=0.0001, lr=0.0001 )"
   ]
  },
  {
   "cell_type": "code",
   "execution_count": 47,
   "metadata": {},
   "outputs": [],
   "source": [
    "input_transforms = {\n",
    "    \"QC_TAU_in\": \"log10_transform\",\n",
    "    \"NC_TAU_in\": \"log10_transform\",\n",
    "    \"QR_TAU_in\": \"log10_transform\",\n",
    "    \"NR_TAU_in\": \"log10_transform\"}\n",
    "\n",
    "for var, transform_name in input_transforms.items():\n",
    "    combined_input_data.loc[:, var] = transforms[transform_name](combined_input_data[var])\n"
   ]
  },
  {
   "cell_type": "code",
   "execution_count": 55,
   "metadata": {},
   "outputs": [],
   "source": [
    "for var, transform_name in input_transforms.items():\n",
    "    test_input_data.loc[:, var] = transforms[transform_name](test_input_data[var])"
   ]
  },
  {
   "cell_type": "code",
   "execution_count": 48,
   "metadata": {},
   "outputs": [],
   "source": [
    "scaler = StandardScaler()\n",
    "scaled_input_data = scaler.fit_transform(combined_input_data)"
   ]
  },
  {
   "cell_type": "code",
   "execution_count": 56,
   "metadata": {},
   "outputs": [],
   "source": [
    "scaled_test_input = scaler.transform(test_input_data)"
   ]
  },
  {
   "cell_type": "code",
   "execution_count": 155,
   "metadata": {},
   "outputs": [
    {
     "name": "stdout",
     "output_type": "stream",
     "text": [
      "Epoch 1/10\n",
      "3244665/3244665 [==============================] - 17s 5us/step - loss: 0.0513\n",
      "Epoch 2/10\n",
      "3244665/3244665 [==============================] - 17s 5us/step - loss: 0.0253\n",
      "Epoch 3/10\n",
      "3244665/3244665 [==============================] - 17s 5us/step - loss: 0.0202\n",
      "Epoch 4/10\n",
      "3244665/3244665 [==============================] - 17s 5us/step - loss: 0.0175\n",
      "Epoch 5/10\n",
      "3244665/3244665 [==============================] - 17s 5us/step - loss: 0.0160\n",
      "Epoch 6/10\n",
      "3244665/3244665 [==============================] - 17s 5us/step - loss: 0.0151\n",
      "Epoch 7/10\n",
      "3244665/3244665 [==============================] - 17s 5us/step - loss: 0.0146\n",
      "Epoch 8/10\n",
      "3244665/3244665 [==============================] - 17s 5us/step - loss: 0.0143\n",
      "Epoch 9/10\n",
      "3244665/3244665 [==============================] - 17s 5us/step - loss: 0.0140\n",
      "Epoch 10/10\n",
      "3244665/3244665 [==============================] - 17s 5us/step - loss: 0.0138\n"
     ]
    }
   ],
   "source": [
    "dnn.fit(scaled_input_data, np.log10(-combined_output_data.iloc[:, 2]))"
   ]
  },
  {
   "cell_type": "code",
   "execution_count": 113,
   "metadata": {},
   "outputs": [
    {
     "data": {
      "image/png": "[encoded data removed]",
      "text/plain": [
       "<Figure size 432x288 with 1 Axes>"
      ]
     },
     "metadata": {},
     "output_type": "display_data"
    }
   ],
   "source": [
    "np.log10(np.maximum(-combined_output_data.iloc[:, 0], 1e-15)).hist(bins=50)\n",
    "plt.gca().set_yscale(\"log\")"
   ]
  },
  {
   "cell_type": "code",
   "execution_count": 117,
   "metadata": {},
   "outputs": [
    {
     "data": {
      "text/plain": [
       "<matplotlib.axes._subplots.AxesSubplot at 0x2aae431a0eb8>"
      ]
     },
     "execution_count": 117,
     "metadata": {},
     "output_type": "execute_result"
    },
    {
     "data": {
      "image/png": "[encoded data removed]",
      "text/plain": [
       "<Figure size 432x288 with 1 Axes>"
      ]
     },
     "metadata": {},
     "output_type": "display_data"
    }
   ],
   "source": [
    "np.log10(np.maximum(-combined_output_data.iloc[:, 2], 1e-15)).hist(bins=50)"
   ]
  },
  {
   "cell_type": "code",
   "execution_count": 119,
   "metadata": {},
   "outputs": [
    {
     "data": {
      "text/plain": [
       "<matplotlib.axes._subplots.AxesSubplot at 0x2aae43318cf8>"
      ]
     },
     "execution_count": 119,
     "metadata": {},
     "output_type": "execute_result"
    },
    {
     "data": {
      "image/png": "[encoded data removed]",
      "text/plain": [
       "<Figure size 432x288 with 1 Axes>"
      ]
     },
     "metadata": {},
     "output_type": "display_data"
    }
   ],
   "source": [
    "np.log10(np.maximum(combined_output_data.iloc[:, 3], 1e-15)).hist(bins=50)"
   ]
  },
  {
   "cell_type": "code",
   "execution_count": 156,
   "metadata": {},
   "outputs": [],
   "source": [
    "test_preds = dnn.predict(scaled_test_input)"
   ]
  },
  {
   "cell_type": "code",
   "execution_count": 97,
   "metadata": {},
   "outputs": [
    {
     "data": {
      "text/plain": [
       "(2426187, 1)"
      ]
     },
     "execution_count": 97,
     "metadata": {},
     "output_type": "execute_result"
    }
   ],
   "source": [
    "test_preds.shape"
   ]
  },
  {
   "cell_type": "code",
   "execution_count": 157,
   "metadata": {},
   "outputs": [
    {
     "data": {
      "image/png": "[encoded data removed]",
      "text/plain": [
       "<Figure size 432x288 with 1 Axes>"
      ]
     },
     "metadata": {},
     "output_type": "display_data"
    }
   ],
   "source": [
    "plt.hist(test_preds[:, 0] - np.log10(-test_output_data.iloc[:, 2]), bins=100)\n",
    "plt.gca().set_yscale(\"log\")"
   ]
  },
  {
   "cell_type": "code",
   "execution_count": 165,
   "metadata": {},
   "outputs": [
    {
     "data": {
      "text/plain": [
       "Text(0.5,1,'R2: 0.995')"
      ]
     },
     "execution_count": 165,
     "metadata": {},
     "output_type": "execute_result"
    },
    {
     "name": "stderr",
     "output_type": "stream",
     "text": [
      "/glade/u/home/dgagne/miniconda3/envs/deep/lib/python3.6/site-packages/matplotlib/colors.py:1031: RuntimeWarning: invalid value encountered in less_equal\n",
      "  mask |= resdat <= 0\n"
     ]
    },
    {
     "data": {
      "image/png": "[encoded data removed]",
      "text/plain": [
       "<Figure size 432x288 with 2 Axes>"
      ]
     },
     "metadata": {},
     "output_type": "display_data"
    }
   ],
   "source": [
    "plt.hist2d(test_preds[:, 0], np.log10(-test_output_data.iloc[:, 2]), bins=50, cmin=1, norm=LogNorm())\n",
    "plt.colorbar()\n",
    "plt.title(\"R2: {0:0.3f}\".format(r2_score(np.log10(-test_output_data.iloc[:, 2]), test_preds[:, 0])))"
   ]
  },
  {
   "cell_type": "code",
   "execution_count": 158,
   "metadata": {},
   "outputs": [
    {
     "data": {
      "image/png": "[encoded data removed]",
      "text/plain": [
       "<Figure size 432x288 with 1 Axes>"
      ]
     },
     "metadata": {},
     "output_type": "display_data"
    }
   ],
   "source": [
    "plt.hist(test_preds[:, 0], bins=20)\n",
    "plt.gca().set_yscale(\"log\")"
   ]
  },
  {
   "cell_type": "code",
   "execution_count": 120,
   "metadata": {},
   "outputs": [
    {
     "data": {
      "image/png": "[encoded data removed]",
      "text/plain": [
       "<Figure size 432x288 with 1 Axes>"
      ]
     },
     "metadata": {},
     "output_type": "display_data"
    }
   ],
   "source": [
    "plt.hist(test_output_data.iloc[:, 3], bins=100)\n",
    "plt.gca().set_yscale(\"log\")"
   ]
  },
  {
   "cell_type": "code",
   "execution_count": 69,
   "metadata": {},
   "outputs": [
    {
     "data": {
      "image/png": "[encoded data removed]",
      "text/plain": [
       "<Figure size 432x288 with 1 Axes>"
      ]
     },
     "metadata": {},
     "output_type": "display_data"
    }
   ],
   "source": [
    "plt.hist2d(test_preds[:, 0], test_output_data.iloc[:, 0], cmin=1, bins=100)"
   ]
  },
  {
   "cell_type": "code",
   "execution_count": 79,
   "metadata": {},
   "outputs": [
    {
     "data": {
      "text/plain": [
       "1.862227e-15"
      ]
     },
     "execution_count": 79,
     "metadata": {},
     "output_type": "execute_result"
    }
   ],
   "source": [
    "combined_output_data[\"qrtend_TAU\"][combined_output_data[\"qrtend_TAU\"] > 0].min()"
   ]
  },
  {
   "cell_type": "code",
   "execution_count": 83,
   "metadata": {},
   "outputs": [
    {
     "data": {
      "text/plain": [
       "0"
      ]
     },
     "execution_count": 83,
     "metadata": {},
     "output_type": "execute_result"
    }
   ],
   "source": [
    "np.count_nonzero(combined_output_data[\"nctend_TAU\"] == 0)"
   ]
  },
  {
   "cell_type": "code",
   "execution_count": 124,
   "metadata": {},
   "outputs": [
    {
     "data": {
      "text/plain": [
       "(array([[nan, nan,  1., ..., nan, nan, nan],\n",
       "        [ 1., nan,  3., ..., nan, nan, nan],\n",
       "        [ 1.,  1.,  2., ..., nan, nan, nan],\n",
       "        ...,\n",
       "        [nan, nan, nan, ..., nan,  1., nan],\n",
       "        [nan, nan, nan, ...,  1., nan, nan],\n",
       "        [nan, nan, nan, ..., nan, nan, nan]]),\n",
       " array([-5.99999448, -5.93613816, -5.87228183, -5.8084255 , -5.74456918,\n",
       "        -5.68071285, -5.61685652, -5.5530002 , -5.48914387, -5.42528754,\n",
       "        -5.36143122, -5.29757489, -5.23371856, -5.16986224, -5.10600591,\n",
       "        -5.04214958, -4.97829326, -4.91443693, -4.8505806 , -4.78672428,\n",
       "        -4.72286795, -4.65901162, -4.5951553 , -4.53129897, -4.46744264,\n",
       "        -4.40358632, -4.33972999, -4.27587366, -4.21201734, -4.14816101,\n",
       "        -4.08430468, -4.02044836, -3.95659203, -3.8927357 , -3.82887938,\n",
       "        -3.76502305, -3.70116672, -3.6373104 , -3.57345407, -3.50959774,\n",
       "        -3.44574142, -3.38188509, -3.31802876, -3.25417244, -3.19031611,\n",
       "        -3.12645978, -3.06260346, -2.99874713, -2.9348908 , -2.87103448,\n",
       "        -2.80717815]),\n",
       " array([1.00025394, 1.16013582, 1.3200177 , 1.47989958, 1.63978145,\n",
       "        1.79966333, 1.95954521, 2.11942709, 2.27930896, 2.43919084,\n",
       "        2.59907272, 2.7589546 , 2.91883647, 3.07871835, 3.23860023,\n",
       "        3.39848211, 3.55836398, 3.71824586, 3.87812774, 4.03800962,\n",
       "        4.19789149, 4.35777337, 4.51765525, 4.67753713, 4.83741901,\n",
       "        4.99730088, 5.15718276, 5.31706464, 5.47694652, 5.63682839,\n",
       "        5.79671027, 5.95659215, 6.11647403, 6.2763559 , 6.43623778,\n",
       "        6.59611966, 6.75600154, 6.91588341, 7.07576529, 7.23564717,\n",
       "        7.39552905, 7.55541092, 7.7152928 , 7.87517468, 8.03505656,\n",
       "        8.19493843, 8.35482031, 8.51470219, 8.67458407, 8.83446594,\n",
       "        8.99434782]),\n",
       " <matplotlib.image.AxesImage at 0x2aac03dc03c8>)"
      ]
     },
     "execution_count": 124,
     "metadata": {},
     "output_type": "execute_result"
    },
    {
     "data": {
      "image/png": "[encoded data removed]",
      "text/plain": [
       "<Figure size 432x288 with 1 Axes>"
      ]
     },
     "metadata": {},
     "output_type": "display_data"
    }
   ],
   "source": [
    "plt.hist2d(combined_input_data.loc[combined_output_data.iloc[:, 1] == 0, \"QC_TAU_in\"], \n",
    "           combined_input_data.loc[combined_output_data.iloc[:, 1] == 0, \"NC_TAU_in\"], bins=50, cmin=1)"
   ]
  },
  {
   "cell_type": "code",
   "execution_count": 147,
   "metadata": {},
   "outputs": [
    {
     "data": {
      "text/plain": [
       "(array([[nan, nan,  1., ..., nan, nan, nan],\n",
       "        [ 1., nan,  3., ..., nan, nan, nan],\n",
       "        [ 1.,  1.,  2., ..., nan, nan, nan],\n",
       "        ...,\n",
       "        [nan, nan, nan, ..., nan,  1., nan],\n",
       "        [nan, nan, nan, ...,  1., nan, nan],\n",
       "        [nan, nan, nan, ..., nan, nan, nan]]),\n",
       " array([-5.99999448, -5.93613816, -5.87228183, -5.8084255 , -5.74456918,\n",
       "        -5.68071285, -5.61685652, -5.5530002 , -5.48914387, -5.42528754,\n",
       "        -5.36143122, -5.29757489, -5.23371856, -5.16986224, -5.10600591,\n",
       "        -5.04214958, -4.97829326, -4.91443693, -4.8505806 , -4.78672428,\n",
       "        -4.72286795, -4.65901162, -4.5951553 , -4.53129897, -4.46744264,\n",
       "        -4.40358632, -4.33972999, -4.27587366, -4.21201734, -4.14816101,\n",
       "        -4.08430468, -4.02044836, -3.95659203, -3.8927357 , -3.82887938,\n",
       "        -3.76502305, -3.70116672, -3.6373104 , -3.57345407, -3.50959774,\n",
       "        -3.44574142, -3.38188509, -3.31802876, -3.25417244, -3.19031611,\n",
       "        -3.12645978, -3.06260346, -2.99874713, -2.9348908 , -2.87103448,\n",
       "        -2.80717815]),\n",
       " array([1.00025394, 1.16013582, 1.3200177 , 1.47989958, 1.63978145,\n",
       "        1.79966333, 1.95954521, 2.11942709, 2.27930896, 2.43919084,\n",
       "        2.59907272, 2.7589546 , 2.91883647, 3.07871835, 3.23860023,\n",
       "        3.39848211, 3.55836398, 3.71824586, 3.87812774, 4.03800962,\n",
       "        4.19789149, 4.35777337, 4.51765525, 4.67753713, 4.83741901,\n",
       "        4.99730088, 5.15718276, 5.31706464, 5.47694652, 5.63682839,\n",
       "        5.79671027, 5.95659215, 6.11647403, 6.2763559 , 6.43623778,\n",
       "        6.59611966, 6.75600154, 6.91588341, 7.07576529, 7.23564717,\n",
       "        7.39552905, 7.55541092, 7.7152928 , 7.87517468, 8.03505656,\n",
       "        8.19493843, 8.35482031, 8.51470219, 8.67458407, 8.83446594,\n",
       "        8.99434782]),\n",
       " <matplotlib.image.AxesImage at 0x2aae3f17f5c0>)"
      ]
     },
     "execution_count": 147,
     "metadata": {},
     "output_type": "execute_result"
    },
    {
     "data": {
      "image/png": "[encoded data removed]",
      "text/plain": [
       "<Figure size 432x288 with 1 Axes>"
      ]
     },
     "metadata": {},
     "output_type": "display_data"
    }
   ],
   "source": [
    "plt.hist2d(combined_input_data.loc[combined_output_data.iloc[:, 3] == 0, \"QC_TAU_in\"], \n",
    "           combined_input_data.loc[combined_output_data.iloc[:, 3] == 0, \"NC_TAU_in\"], bins=50, cmin=1)"
   ]
  },
  {
   "cell_type": "code",
   "execution_count": 143,
   "metadata": {},
   "outputs": [
    {
     "data": {
      "text/plain": [
       "0"
      ]
     },
     "execution_count": 143,
     "metadata": {},
     "output_type": "execute_result"
    }
   ],
   "source": [
    "np.count_nonzero((combined_output_data.iloc[:, 1] == 0) & (combined_output_data.iloc[:, 2] == 0))"
   ]
  },
  {
   "cell_type": "code",
   "execution_count": 144,
   "metadata": {},
   "outputs": [
    {
     "data": {
      "text/plain": [
       "0"
      ]
     },
     "execution_count": 144,
     "metadata": {},
     "output_type": "execute_result"
    }
   ],
   "source": [
    "np.count_nonzero(combined_output_data.iloc[:, 2] == 0)"
   ]
  },
  {
   "cell_type": "code",
   "execution_count": null,
   "metadata": {},
   "outputs": [],
   "source": []
  }
 ],
 "metadata": {
  "kernelspec": {
   "display_name": "Python 3",
   "language": "python",
   "name": "python3"
  },
  "language_info": {
   "codemirror_mode": {
    "name": "ipython",
    "version": 3
   },
   "file_extension": ".py",
   "mimetype": "text/x-python",
   "name": "python",
   "nbconvert_exporter": "python",
   "pygments_lexer": "ipython3",
   "version": "3.6.4"
  }
 },
 "nbformat": 4,
 "nbformat_minor": 2
}
