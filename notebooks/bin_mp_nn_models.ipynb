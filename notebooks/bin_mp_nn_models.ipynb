{
 "cells": [
  {
   "cell_type": "code",
   "execution_count": 29,
   "metadata": {},
   "outputs": [],
   "source": [
    "%matplotlib inline\n",
    "import numpy as np\n",
    "import matplotlib.pyplot as plt\n",
    "import pandas as pd\n",
    "from mlmicrophysics.models import DenseNeuralNetwork\n",
    "from sklearn.ensemble import RandomForestClassifier\n",
    "from mlmicrophysics.data import subset_data_files_by_date, log10_transform, neg_log10_transform\n",
    "from sklearn.preprocessing import StandardScaler, RobustScaler, MaxAbsScaler, MinMaxScaler\n",
    "from sklearn.metrics import r2_score, confusion_matrix, mean_squared_error\n",
    "from matplotlib.colors import LogNorm\n",
    "scalers = {\"MinMaxScaler\": MinMaxScaler,\n",
    "           \"MaxAbsScaler\": MaxAbsScaler,\n",
    "           \"StandardScaler\": StandardScaler,\n",
    "           \"RobustScaler\": RobustScaler}\n",
    "transforms = {\"log10_transform\": log10_transform,\n",
    "              \"neg_log10_transform\": neg_log10_transform}"
   ]
  },
  {
   "cell_type": "code",
   "execution_count": 2,
   "metadata": {},
   "outputs": [
    {
     "name": "stdout",
     "output_type": "stream",
     "text": [
      "[    0   123   246   369   492   615   738   861   984  1107  1230  1353\n",
      "  1476  1599  1722  1845  1968  2091  2214  2337  2460  2583  2706  2829\n",
      "  2952  3075  3198  3321  3444  3567  3690  3813  3936  4059  4182  4305\n",
      "  4428  4551  4674  4797  4920  5043  5166  5289  5412  5535  5658  5781\n",
      "  5904  6027  6150  6273  6396  6519  6642  6765  6888  7011  7134  7257\n",
      "  7380  7503  7626  7749  7872  7995  8118  8241  8364  8487  8610  8733\n",
      "  8856  8979  9102  9225  9348  9471  9594  9717  9840  9963 10086 10209\n",
      " 10332 10455 10578 10701 10824 10947 11070 11193 11316 11439 11562 11685\n",
      " 11808 11931 12054 12177 12300 12423 12546 12669 12792 12915 13038 13161\n",
      " 13284 13407 13530 13653 13776 13899 14022 14145 14268 14391 14514 14637\n",
      " 14760 14883 15006 15129 15252 15375 15498 15621 15744 15867 15990 16113\n",
      " 16236 16359 16482 16605 16728 16851 16974 17097 17220 17343 17466]\n"
     ]
    }
   ],
   "source": [
    "#path = \"/glade/scratch/dgagne/cam_mp_files_run2_csv/\"\n",
    "path = \"/Users/dgagne/data/cam_mp_files_run2_csv/\"\n",
    "train_files, val_files, test_files = subset_data_files_by_date(path, \".csv\", train_date_start=0, train_date_end=4000, \n",
    "                                                               test_date_start=4100, test_date_end=6000)"
   ]
  },
  {
   "cell_type": "code",
   "execution_count": 3,
   "metadata": {},
   "outputs": [
    {
     "name": "stdout",
     "output_type": "stream",
     "text": [
      "/Users/dgagne/data/cam_mp_files_run2_csv/cam_mp_data_run2_000123.csv\n",
      "/Users/dgagne/data/cam_mp_files_run2_csv/cam_mp_data_run2_000246.csv\n",
      "/Users/dgagne/data/cam_mp_files_run2_csv/cam_mp_data_run2_000492.csv\n",
      "/Users/dgagne/data/cam_mp_files_run2_csv/cam_mp_data_run2_000615.csv\n",
      "/Users/dgagne/data/cam_mp_files_run2_csv/cam_mp_data_run2_000861.csv\n",
      "/Users/dgagne/data/cam_mp_files_run2_csv/cam_mp_data_run2_000984.csv\n",
      "/Users/dgagne/data/cam_mp_files_run2_csv/cam_mp_data_run2_001230.csv\n",
      "/Users/dgagne/data/cam_mp_files_run2_csv/cam_mp_data_run2_001353.csv\n",
      "/Users/dgagne/data/cam_mp_files_run2_csv/cam_mp_data_run2_001599.csv\n",
      "/Users/dgagne/data/cam_mp_files_run2_csv/cam_mp_data_run2_001722.csv\n",
      "/Users/dgagne/data/cam_mp_files_run2_csv/cam_mp_data_run2_001968.csv\n",
      "/Users/dgagne/data/cam_mp_files_run2_csv/cam_mp_data_run2_002091.csv\n",
      "/Users/dgagne/data/cam_mp_files_run2_csv/cam_mp_data_run2_002337.csv\n",
      "/Users/dgagne/data/cam_mp_files_run2_csv/cam_mp_data_run2_002460.csv\n",
      "/Users/dgagne/data/cam_mp_files_run2_csv/cam_mp_data_run2_002706.csv\n",
      "/Users/dgagne/data/cam_mp_files_run2_csv/cam_mp_data_run2_002829.csv\n",
      "/Users/dgagne/data/cam_mp_files_run2_csv/cam_mp_data_run2_003075.csv\n",
      "/Users/dgagne/data/cam_mp_files_run2_csv/cam_mp_data_run2_003198.csv\n",
      "/Users/dgagne/data/cam_mp_files_run2_csv/cam_mp_data_run2_003444.csv\n",
      "/Users/dgagne/data/cam_mp_files_run2_csv/cam_mp_data_run2_003567.csv\n",
      "/Users/dgagne/data/cam_mp_files_run2_csv/cam_mp_data_run2_003813.csv\n",
      "/Users/dgagne/data/cam_mp_files_run2_csv/cam_mp_data_run2_003936.csv\n",
      "Combining data\n"
     ]
    }
   ],
   "source": [
    "input_cols = [\"pressure\", \"temperature\", \"RHO_CLUBB_lev\", \"RHO_CLUBB_top\", \"RHO_CLUBB_bottom\",\n",
    "             \"QC_TAU_in\", \"NC_TAU_in\", \"QR_TAU_in\", \"NR_TAU_in\",]\n",
    "output_cols = [\"qctend_TAU\", \"qrtend_TAU\", \"nctend_TAU\", \"nrtend_TAU\"]\n",
    "all_input_data = []\n",
    "all_output_data = []\n",
    "for filename in train_files:\n",
    "    print(filename)\n",
    "    data = pd.read_csv(filename, index_col=\"Index\")\n",
    "    data = data.loc[data[\"NC_TAU_in\"] >= 10]\n",
    "    all_input_data.append(data[input_cols])\n",
    "    all_output_data.append(data[output_cols])\n",
    "    del data\n",
    "print(\"Combining data\")\n",
    "combined_input_data = pd.concat(all_input_data, ignore_index=True)\n",
    "combined_output_data = pd.concat(all_output_data, ignore_index=True)\n",
    "del all_input_data[:]\n",
    "del all_output_data[:]"
   ]
  },
  {
   "cell_type": "code",
   "execution_count": 4,
   "metadata": {},
   "outputs": [
    {
     "name": "stdout",
     "output_type": "stream",
     "text": [
      "/Users/dgagne/data/cam_mp_files_run2_csv/cam_mp_data_run2_004182.csv\n",
      "/Users/dgagne/data/cam_mp_files_run2_csv/cam_mp_data_run2_004305.csv\n",
      "/Users/dgagne/data/cam_mp_files_run2_csv/cam_mp_data_run2_004428.csv\n",
      "/Users/dgagne/data/cam_mp_files_run2_csv/cam_mp_data_run2_004551.csv\n",
      "/Users/dgagne/data/cam_mp_files_run2_csv/cam_mp_data_run2_004674.csv\n",
      "/Users/dgagne/data/cam_mp_files_run2_csv/cam_mp_data_run2_004797.csv\n",
      "/Users/dgagne/data/cam_mp_files_run2_csv/cam_mp_data_run2_004920.csv\n",
      "/Users/dgagne/data/cam_mp_files_run2_csv/cam_mp_data_run2_005043.csv\n",
      "/Users/dgagne/data/cam_mp_files_run2_csv/cam_mp_data_run2_005166.csv\n",
      "/Users/dgagne/data/cam_mp_files_run2_csv/cam_mp_data_run2_005289.csv\n",
      "/Users/dgagne/data/cam_mp_files_run2_csv/cam_mp_data_run2_005412.csv\n",
      "/Users/dgagne/data/cam_mp_files_run2_csv/cam_mp_data_run2_005535.csv\n",
      "/Users/dgagne/data/cam_mp_files_run2_csv/cam_mp_data_run2_005658.csv\n",
      "/Users/dgagne/data/cam_mp_files_run2_csv/cam_mp_data_run2_005781.csv\n",
      "/Users/dgagne/data/cam_mp_files_run2_csv/cam_mp_data_run2_005904.csv\n",
      "Combining data\n"
     ]
    }
   ],
   "source": [
    "all_input_data = []\n",
    "all_output_data = []\n",
    "for filename in test_files:\n",
    "    print(filename)\n",
    "    data = pd.read_csv(filename, index_col=\"Index\")\n",
    "    data = data.loc[data[\"NC_TAU_in\"] >= 10]\n",
    "    all_input_data.append(data[input_cols])\n",
    "    all_output_data.append(data[output_cols])\n",
    "    del data\n",
    "print(\"Combining data\")\n",
    "test_input_data = pd.concat(all_input_data, ignore_index=True)\n",
    "test_output_data = pd.concat(all_output_data, ignore_index=True)\n",
    "del all_input_data[:]\n",
    "del all_output_data[:]"
   ]
  },
  {
   "cell_type": "code",
   "execution_count": 6,
   "metadata": {},
   "outputs": [
    {
     "data": {
      "text/plain": [
       "(array([[nan, nan,  1., ..., nan, nan, nan],\n",
       "        [nan, nan, nan, ..., nan, nan, nan],\n",
       "        [nan, nan, nan, ..., nan, nan, nan],\n",
       "        ...,\n",
       "        [nan, nan, nan, ..., nan, nan, nan],\n",
       "        [nan, nan, nan, ..., nan, nan, nan],\n",
       "        [nan, nan, nan, ..., nan, nan, nan]]),\n",
       " array([1.00025394, 1.0806814 , 1.16110885, 1.24153631, 1.32196376,\n",
       "        1.40239122, 1.48281867, 1.56324613, 1.64367358, 1.72410104,\n",
       "        1.80452849, 1.88495595, 1.9653834 , 2.04581086, 2.12623831,\n",
       "        2.20666577, 2.28709322, 2.36752068, 2.44794813, 2.52837559,\n",
       "        2.60880304, 2.6892305 , 2.76965795, 2.85008541, 2.93051286,\n",
       "        3.01094032, 3.09136777, 3.17179523, 3.25222268, 3.33265014,\n",
       "        3.41307759, 3.49350505, 3.5739325 , 3.65435996, 3.73478741,\n",
       "        3.81521487, 3.89564232, 3.97606978, 4.05649723, 4.13692469,\n",
       "        4.21735214, 4.2977796 , 4.37820705, 4.45863451, 4.53906196,\n",
       "        4.61948942, 4.69991687, 4.78034433, 4.86077178, 4.94119924,\n",
       "        5.02162669, 5.10205415, 5.1824816 , 5.26290906, 5.34333651,\n",
       "        5.42376397, 5.50419142, 5.58461888, 5.66504633, 5.74547379,\n",
       "        5.82590124, 5.9063287 , 5.98675615, 6.06718361, 6.14761106,\n",
       "        6.22803852, 6.30846597, 6.38889343, 6.46932088, 6.54974834,\n",
       "        6.63017579, 6.71060325, 6.7910307 , 6.87145816, 6.95188561,\n",
       "        7.03231307, 7.11274052, 7.19316798, 7.27359543, 7.35402289,\n",
       "        7.43445034, 7.5148778 , 7.59530525, 7.67573271, 7.75616016,\n",
       "        7.83658762, 7.91701507, 7.99744253, 8.07786998, 8.15829744,\n",
       "        8.23872489, 8.31915235, 8.3995798 , 8.48000726, 8.56043471,\n",
       "        8.64086217, 8.72128962, 8.80171708, 8.88214453, 8.96257199,\n",
       "        9.04299944]),\n",
       " array([-5.99999448, -5.96721617, -5.93443785, -5.90165953, -5.86888122,\n",
       "        -5.8361029 , -5.80332458, -5.77054627, -5.73776795, -5.70498963,\n",
       "        -5.67221131, -5.639433  , -5.60665468, -5.57387636, -5.54109805,\n",
       "        -5.50831973, -5.47554141, -5.4427631 , -5.40998478, -5.37720646,\n",
       "        -5.34442815, -5.31164983, -5.27887151, -5.24609319, -5.21331488,\n",
       "        -5.18053656, -5.14775824, -5.11497993, -5.08220161, -5.04942329,\n",
       "        -5.01664498, -4.98386666, -4.95108834, -4.91831003, -4.88553171,\n",
       "        -4.85275339, -4.81997507, -4.78719676, -4.75441844, -4.72164012,\n",
       "        -4.68886181, -4.65608349, -4.62330517, -4.59052686, -4.55774854,\n",
       "        -4.52497022, -4.4921919 , -4.45941359, -4.42663527, -4.39385695,\n",
       "        -4.36107864, -4.32830032, -4.295522  , -4.26274369, -4.22996537,\n",
       "        -4.19718705, -4.16440874, -4.13163042, -4.0988521 , -4.06607378,\n",
       "        -4.03329547, -4.00051715, -3.96773883, -3.93496052, -3.9021822 ,\n",
       "        -3.86940388, -3.83662557, -3.80384725, -3.77106893, -3.73829061,\n",
       "        -3.7055123 , -3.67273398, -3.63995566, -3.60717735, -3.57439903,\n",
       "        -3.54162071, -3.5088424 , -3.47606408, -3.44328576, -3.41050745,\n",
       "        -3.37772913, -3.34495081, -3.31217249, -3.27939418, -3.24661586,\n",
       "        -3.21383754, -3.18105923, -3.14828091, -3.11550259, -3.08272428,\n",
       "        -3.04994596, -3.01716764, -2.98438932, -2.95161101, -2.91883269,\n",
       "        -2.88605437, -2.85327606, -2.82049774, -2.78771942, -2.75494111,\n",
       "        -2.72216279]),\n",
       " <matplotlib.image.AxesImage at 0x1088737b8>)"
      ]
     },
     "execution_count": 6,
     "metadata": {},
     "output_type": "execute_result"
    },
    {
     "name": "stderr",
     "output_type": "stream",
     "text": [
      "/Users/dgagne/miniconda3/envs/deep/lib/python3.6/site-packages/matplotlib/colors.py:1031: RuntimeWarning: invalid value encountered in less_equal\n",
      "  mask |= resdat <= 0\n"
     ]
    },
    {
     "data": {
      "image/png": "[encoded data removed]",
      "text/plain": [
       "<Figure size 432x288 with 1 Axes>"
      ]
     },
     "metadata": {},
     "output_type": "display_data"
    }
   ],
   "source": [
    "plt.hist2d(np.log10(combined_input_data[\"NC_TAU_in\"]), np.log10(combined_input_data[\"QC_TAU_in\"]), \n",
    "           bins=100, cmin=1, norm=LogNorm() )"
   ]
  },
  {
   "cell_type": "code",
   "execution_count": 66,
   "metadata": {},
   "outputs": [],
   "source": [
    "del dnn, dnn_qr, dnn_nc, dnn_nr"
   ]
  },
  {
   "cell_type": "code",
   "execution_count": 5,
   "metadata": {},
   "outputs": [
    {
     "name": "stdout",
     "output_type": "stream",
     "text": [
      "_________________________________________________________________\n",
      "Layer (type)                 Output Shape              Param #   \n",
      "=================================================================\n",
      "input_1 (InputLayer)         (None, 9)                 0         \n",
      "_________________________________________________________________\n",
      "dense_1 (Dense)              (None, 50)                500       \n",
      "_________________________________________________________________\n",
      "activation_1 (Activation)    (None, 50)                0         \n",
      "_________________________________________________________________\n",
      "dense_2 (Dense)              (None, 50)                2550      \n",
      "_________________________________________________________________\n",
      "activation_2 (Activation)    (None, 50)                0         \n",
      "_________________________________________________________________\n",
      "dense_3 (Dense)              (None, 50)                2550      \n",
      "_________________________________________________________________\n",
      "activation_3 (Activation)    (None, 50)                0         \n",
      "_________________________________________________________________\n",
      "dense_4 (Dense)              (None, 50)                2550      \n",
      "_________________________________________________________________\n",
      "activation_4 (Activation)    (None, 50)                0         \n",
      "_________________________________________________________________\n",
      "dense_5 (Dense)              (None, 1)                 51        \n",
      "=================================================================\n",
      "Total params: 8,201\n",
      "Trainable params: 8,201\n",
      "Non-trainable params: 0\n",
      "_________________________________________________________________\n",
      "None\n",
      "_________________________________________________________________\n",
      "Layer (type)                 Output Shape              Param #   \n",
      "=================================================================\n",
      "input_2 (InputLayer)         (None, 9)                 0         \n",
      "_________________________________________________________________\n",
      "dense_6 (Dense)              (None, 50)                500       \n",
      "_________________________________________________________________\n",
      "activation_5 (Activation)    (None, 50)                0         \n",
      "_________________________________________________________________\n",
      "dense_7 (Dense)              (None, 50)                2550      \n",
      "_________________________________________________________________\n",
      "activation_6 (Activation)    (None, 50)                0         \n",
      "_________________________________________________________________\n",
      "dense_8 (Dense)              (None, 50)                2550      \n",
      "_________________________________________________________________\n",
      "activation_7 (Activation)    (None, 50)                0         \n",
      "_________________________________________________________________\n",
      "dense_9 (Dense)              (None, 50)                2550      \n",
      "_________________________________________________________________\n",
      "activation_8 (Activation)    (None, 50)                0         \n",
      "_________________________________________________________________\n",
      "dense_10 (Dense)             (None, 1)                 51        \n",
      "=================================================================\n",
      "Total params: 8,201\n",
      "Trainable params: 8,201\n",
      "Non-trainable params: 0\n",
      "_________________________________________________________________\n",
      "None\n",
      "_________________________________________________________________\n",
      "Layer (type)                 Output Shape              Param #   \n",
      "=================================================================\n",
      "input_3 (InputLayer)         (None, 9)                 0         \n",
      "_________________________________________________________________\n",
      "dense_11 (Dense)             (None, 50)                500       \n",
      "_________________________________________________________________\n",
      "activation_9 (Activation)    (None, 50)                0         \n",
      "_________________________________________________________________\n",
      "dense_12 (Dense)             (None, 50)                2550      \n",
      "_________________________________________________________________\n",
      "activation_10 (Activation)   (None, 50)                0         \n",
      "_________________________________________________________________\n",
      "dense_13 (Dense)             (None, 50)                2550      \n",
      "_________________________________________________________________\n",
      "activation_11 (Activation)   (None, 50)                0         \n",
      "_________________________________________________________________\n",
      "dense_14 (Dense)             (None, 50)                2550      \n",
      "_________________________________________________________________\n",
      "activation_12 (Activation)   (None, 50)                0         \n",
      "_________________________________________________________________\n",
      "dense_15 (Dense)             (None, 1)                 51        \n",
      "=================================================================\n",
      "Total params: 8,201\n",
      "Trainable params: 8,201\n",
      "Non-trainable params: 0\n",
      "_________________________________________________________________\n",
      "None\n"
     ]
    }
   ],
   "source": [
    "dnn_qr = DenseNeuralNetwork(hidden_layers=4, hidden_neurons=50, \n",
    "                         inputs=len(input_cols), outputs=1, \n",
    "                         loss=\"mse\", activation=\"selu\", epochs=10, \n",
    "                         batch_size=2048, verbose=1, l2_weight=0.0001, lr=0.0001)\n",
    "dnn_nc = DenseNeuralNetwork(hidden_layers=4, hidden_neurons=50, \n",
    "                         inputs=len(input_cols), outputs=1, \n",
    "                         loss=\"mse\", activation=\"selu\", epochs=10, \n",
    "                         batch_size=2048, verbose=1, l2_weight=0.0001, lr=0.0001)\n",
    "dnn_nr = DenseNeuralNetwork(hidden_layers=4, hidden_neurons=50, \n",
    "                         inputs=len(input_cols), outputs=1, \n",
    "                         loss=\"mse\", activation=\"selu\", epochs=10, \n",
    "                         batch_size=2048, verbose=1, l2_weight=0.0001, lr=0.0001)\n"
   ]
  },
  {
   "cell_type": "code",
   "execution_count": 6,
   "metadata": {},
   "outputs": [],
   "source": [
    "input_transforms = {\n",
    "    \"QC_TAU_in\": \"log10_transform\",\n",
    "    \"NC_TAU_in\": \"log10_transform\",\n",
    "    \"QR_TAU_in\": \"log10_transform\",\n",
    "    \"NR_TAU_in\": \"log10_transform\"}\n",
    "\n",
    "for var, transform_name in input_transforms.items():\n",
    "    combined_input_data.loc[:, var] = transforms[transform_name](combined_input_data[var])\n"
   ]
  },
  {
   "cell_type": "code",
   "execution_count": 7,
   "metadata": {},
   "outputs": [],
   "source": [
    "for var, transform_name in input_transforms.items():\n",
    "    test_input_data.loc[:, var] = transforms[transform_name](test_input_data[var])"
   ]
  },
  {
   "cell_type": "code",
   "execution_count": 8,
   "metadata": {},
   "outputs": [],
   "source": [
    "scaler = StandardScaler()\n",
    "scaled_input_data = scaler.fit_transform(combined_input_data)"
   ]
  },
  {
   "cell_type": "code",
   "execution_count": 13,
   "metadata": {},
   "outputs": [],
   "source": [
    "scaled_test_input = scaler.transform(test_input_data)"
   ]
  },
  {
   "cell_type": "code",
   "execution_count": 26,
   "metadata": {},
   "outputs": [
    {
     "data": {
      "text/plain": [
       "Index(['qctend_TAU', 'qrtend_TAU', 'nctend_TAU', 'nrtend_TAU'], dtype='object')"
      ]
     },
     "execution_count": 26,
     "metadata": {},
     "output_type": "execute_result"
    }
   ],
   "source": [
    "combined_output_data.columns"
   ]
  },
  {
   "cell_type": "code",
   "execution_count": 33,
   "metadata": {},
   "outputs": [
    {
     "data": {
      "image/png": "[encoded data removed]",
      "text/plain": [
       "<Figure size 432x288 with 1 Axes>"
      ]
     },
     "metadata": {},
     "output_type": "display_data"
    }
   ],
   "source": [
    "np.log10(np.maximum(1e-15, combined_output_data[\"qrtend_TAU\"])).hist(bins=100)\n",
    "plt.gca().set_yscale(\"log\")"
   ]
  },
  {
   "cell_type": "code",
   "execution_count": 9,
   "metadata": {},
   "outputs": [
    {
     "name": "stdout",
     "output_type": "stream",
     "text": [
      "Epoch 1/10\n",
      "3244665/3244665 [==============================] - 16s 5us/step - loss: 2.5342\n",
      "Epoch 2/10\n",
      "3244665/3244665 [==============================] - 16s 5us/step - loss: 0.4119\n",
      "Epoch 3/10\n",
      "3244665/3244665 [==============================] - 15s 5us/step - loss: 0.3470\n",
      "Epoch 4/10\n",
      "3244665/3244665 [==============================] - 13s 4us/step - loss: 0.3201\n",
      "Epoch 5/10\n",
      "3244665/3244665 [==============================] - 13s 4us/step - loss: 0.3040\n",
      "Epoch 6/10\n",
      "3244665/3244665 [==============================] - 13s 4us/step - loss: 0.2936\n",
      "Epoch 7/10\n",
      "3244665/3244665 [==============================] - 13s 4us/step - loss: 0.2855\n",
      "Epoch 8/10\n",
      "3244665/3244665 [==============================] - 14s 4us/step - loss: 0.2787\n",
      "Epoch 9/10\n",
      "3244665/3244665 [==============================] - 14s 4us/step - loss: 0.2747\n",
      "Epoch 10/10\n",
      "3244665/3244665 [==============================] - 15s 4us/step - loss: 0.2702\n"
     ]
    }
   ],
   "source": [
    "dnn_qr.fit(scaled_input_data, np.log10(np.maximum(1e-15, combined_output_data.iloc[:, 1])))"
   ]
  },
  {
   "cell_type": "code",
   "execution_count": 10,
   "metadata": {},
   "outputs": [
    {
     "name": "stdout",
     "output_type": "stream",
     "text": [
      "Epoch 1/10\n",
      "3244665/3244665 [==============================] - 14s 4us/step - loss: 0.0650\n",
      "Epoch 2/10\n",
      "3244665/3244665 [==============================] - 14s 4us/step - loss: 0.0278\n",
      "Epoch 3/10\n",
      "3244665/3244665 [==============================] - 14s 4us/step - loss: 0.0244\n",
      "Epoch 4/10\n",
      "3244665/3244665 [==============================] - 14s 4us/step - loss: 0.0219\n",
      "Epoch 5/10\n",
      "3244665/3244665 [==============================] - 14s 4us/step - loss: 0.0201\n",
      "Epoch 6/10\n",
      "3244665/3244665 [==============================] - 14s 4us/step - loss: 0.0187\n",
      "Epoch 7/10\n",
      "3244665/3244665 [==============================] - 14s 4us/step - loss: 0.0178\n",
      "Epoch 8/10\n",
      "3244665/3244665 [==============================] - 14s 4us/step - loss: 0.0169\n",
      "Epoch 9/10\n",
      "3244665/3244665 [==============================] - 14s 4us/step - loss: 0.0163\n",
      "Epoch 10/10\n",
      "3244665/3244665 [==============================] - 14s 4us/step - loss: 0.0158\n"
     ]
    }
   ],
   "source": [
    "dnn_nc.fit(scaled_input_data, np.log10(np.maximum(-combined_output_data.iloc[:, 2], 1e-15)))"
   ]
  },
  {
   "cell_type": "code",
   "execution_count": 70,
   "metadata": {},
   "outputs": [
    {
     "name": "stdout",
     "output_type": "stream",
     "text": [
      "(3244665, 1)\n",
      "Epoch 1/10\n",
      "3244665/3244665 [==============================] - 15s 5us/step - loss: 0.9222\n",
      "Epoch 2/10\n",
      "3244665/3244665 [==============================] - 14s 4us/step - loss: 0.8161\n",
      "Epoch 3/10\n",
      "3244665/3244665 [==============================] - 13s 4us/step - loss: 0.7735\n",
      "Epoch 4/10\n",
      "3244665/3244665 [==============================] - 14s 4us/step - loss: 0.7309\n",
      "Epoch 5/10\n",
      "3244665/3244665 [==============================] - 13s 4us/step - loss: 0.8138\n",
      "Epoch 6/10\n",
      "3244665/3244665 [==============================] - 13s 4us/step - loss: 0.7693\n",
      "Epoch 7/10\n",
      "3244665/3244665 [==============================] - 13s 4us/step - loss: 0.7562\n",
      "Epoch 8/10\n",
      "3244665/3244665 [==============================] - 13s 4us/step - loss: 0.7182\n",
      "Epoch 9/10\n",
      "3244665/3244665 [==============================] - 13s 4us/step - loss: 0.8243\n",
      "Epoch 10/10\n",
      "3244665/3244665 [==============================] - 13s 4us/step - loss: 0.7173\n"
     ]
    }
   ],
   "source": [
    "nr_scaler = StandardScaler()\n",
    "scaled_nr = nr_scaler.fit_transform(combined_output_data.iloc[:, 3:4])\n",
    "print(scaled_nr.shape)\n",
    "dnn_nr.fit(scaled_input_data, scaled_nr)"
   ]
  },
  {
   "cell_type": "code",
   "execution_count": 11,
   "metadata": {},
   "outputs": [
    {
     "name": "stderr",
     "output_type": "stream",
     "text": [
      "[Parallel(n_jobs=4)]: Done  42 tasks      | elapsed:    3.8s\n",
      "[Parallel(n_jobs=4)]: Done  50 out of  50 | elapsed:    4.5s finished\n"
     ]
    },
    {
     "data": {
      "text/plain": [
       "RandomForestClassifier(bootstrap=True, class_weight='balanced_subsample',\n",
       "            criterion='gini', max_depth=None, max_features='sqrt',\n",
       "            max_leaf_nodes=None, min_impurity_decrease=0.0,\n",
       "            min_impurity_split=None, min_samples_leaf=1,\n",
       "            min_samples_split=2, min_weight_fraction_leaf=0.0,\n",
       "            n_estimators=50, n_jobs=4, oob_score=False, random_state=None,\n",
       "            verbose=1, warm_start=False)"
      ]
     },
     "execution_count": 11,
     "metadata": {},
     "output_type": "execute_result"
    }
   ],
   "source": [
    "nr_classifier = RandomForestClassifier(n_estimators=50, n_jobs=4, max_features=\"sqrt\",\n",
    "                                       verbose=1, class_weight=\"balanced_subsample\")\n",
    "nr_labels = np.zeros(combined_output_data.iloc[:, 3].shape, dtype=int)\n",
    "nr_labels[combined_output_data.iloc[:, 3] > 0] = 1\n",
    "nr_labels[combined_output_data.iloc[:, 3] < 0] = -1\n",
    "subset = np.random.permutation(np.arange(0, nr_labels.shape[0]))[:100000]\n",
    "nr_classifier.fit(scaled_input_data[subset], nr_labels[subset])"
   ]
  },
  {
   "cell_type": "code",
   "execution_count": 14,
   "metadata": {},
   "outputs": [
    {
     "name": "stderr",
     "output_type": "stream",
     "text": [
      "[Parallel(n_jobs=4)]: Done  42 tasks      | elapsed:    4.6s\n",
      "[Parallel(n_jobs=4)]: Done  50 out of  50 | elapsed:    5.3s finished\n"
     ]
    }
   ],
   "source": [
    "test_nr_sign = nr_classifier.predict(scaled_test_input)"
   ]
  },
  {
   "cell_type": "code",
   "execution_count": 15,
   "metadata": {},
   "outputs": [
    {
     "data": {
      "text/plain": [
       "array([[ 436442,    1415,   30544],\n",
       "       [   1579,  622743,   24862],\n",
       "       [  21476,   59223, 1227903]])"
      ]
     },
     "execution_count": 15,
     "metadata": {},
     "output_type": "execute_result"
    }
   ],
   "source": [
    "test_nr_labels = np.zeros(test_output_data.iloc[:, 3].shape, dtype=int)\n",
    "test_nr_labels[test_output_data.iloc[:, 3] > 0] = 1\n",
    "test_nr_labels[test_output_data.iloc[:, 3] < 0] = -1\n",
    "confusion_matrix(test_nr_labels, test_nr_sign)"
   ]
  },
  {
   "cell_type": "code",
   "execution_count": 16,
   "metadata": {},
   "outputs": [
    {
     "name": "stdout",
     "output_type": "stream",
     "text": [
      "_________________________________________________________________\n",
      "Layer (type)                 Output Shape              Param #   \n",
      "=================================================================\n",
      "input_4 (InputLayer)         (None, 9)                 0         \n",
      "_________________________________________________________________\n",
      "dense_16 (Dense)             (None, 50)                500       \n",
      "_________________________________________________________________\n",
      "activation_13 (Activation)   (None, 50)                0         \n",
      "_________________________________________________________________\n",
      "dense_17 (Dense)             (None, 50)                2550      \n",
      "_________________________________________________________________\n",
      "activation_14 (Activation)   (None, 50)                0         \n",
      "_________________________________________________________________\n",
      "dense_18 (Dense)             (None, 50)                2550      \n",
      "_________________________________________________________________\n",
      "activation_15 (Activation)   (None, 50)                0         \n",
      "_________________________________________________________________\n",
      "dense_19 (Dense)             (None, 1)                 51        \n",
      "=================================================================\n",
      "Total params: 5,651\n",
      "Trainable params: 5,651\n",
      "Non-trainable params: 0\n",
      "_________________________________________________________________\n",
      "None\n",
      "_________________________________________________________________\n",
      "Layer (type)                 Output Shape              Param #   \n",
      "=================================================================\n",
      "input_5 (InputLayer)         (None, 9)                 0         \n",
      "_________________________________________________________________\n",
      "dense_20 (Dense)             (None, 50)                500       \n",
      "_________________________________________________________________\n",
      "activation_16 (Activation)   (None, 50)                0         \n",
      "_________________________________________________________________\n",
      "dense_21 (Dense)             (None, 50)                2550      \n",
      "_________________________________________________________________\n",
      "activation_17 (Activation)   (None, 50)                0         \n",
      "_________________________________________________________________\n",
      "dense_22 (Dense)             (None, 50)                2550      \n",
      "_________________________________________________________________\n",
      "activation_18 (Activation)   (None, 50)                0         \n",
      "_________________________________________________________________\n",
      "dense_23 (Dense)             (None, 1)                 51        \n",
      "=================================================================\n",
      "Total params: 5,651\n",
      "Trainable params: 5,651\n",
      "Non-trainable params: 0\n",
      "_________________________________________________________________\n",
      "None\n"
     ]
    }
   ],
   "source": [
    "nr_pos_net = DenseNeuralNetwork(hidden_layers=3, hidden_neurons=50, \n",
    "                         inputs=len(input_cols), outputs=1, \n",
    "                         loss=\"mse\", activation=\"selu\", epochs=10, \n",
    "                         batch_size=2048, verbose=1, l2_weight=0.0001, lr=0.0001)\n",
    "nr_neg_net = DenseNeuralNetwork(hidden_layers=3, hidden_neurons=50, \n",
    "                         inputs=len(input_cols), outputs=1, \n",
    "                         loss=\"mse\", activation=\"selu\", epochs=10, \n",
    "                         batch_size=2048, verbose=1, l2_weight=0.0001, lr=0.0001)"
   ]
  },
  {
   "cell_type": "code",
   "execution_count": 17,
   "metadata": {},
   "outputs": [
    {
     "name": "stdout",
     "output_type": "stream",
     "text": [
      "Epoch 1/10\n",
      "1726349/1726349 [==============================] - 6s 4us/step - loss: 0.3993\n",
      "Epoch 2/10\n",
      "1726349/1726349 [==============================] - 6s 4us/step - loss: 0.1347\n",
      "Epoch 3/10\n",
      "1726349/1726349 [==============================] - 6s 4us/step - loss: 0.1164\n",
      "Epoch 4/10\n",
      "1726349/1726349 [==============================] - 6s 4us/step - loss: 0.1102\n",
      "Epoch 5/10\n",
      "1726349/1726349 [==============================] - 7s 4us/step - loss: 0.1073\n",
      "Epoch 6/10\n",
      "1726349/1726349 [==============================] - 6s 4us/step - loss: 0.1042\n",
      "Epoch 7/10\n",
      "1726349/1726349 [==============================] - 6s 3us/step - loss: 0.1022\n",
      "Epoch 8/10\n",
      "1726349/1726349 [==============================] - 6s 3us/step - loss: 0.1005\n",
      "Epoch 9/10\n",
      "1726349/1726349 [==============================] - 6s 3us/step - loss: 0.0990\n",
      "Epoch 10/10\n",
      "1726349/1726349 [==============================] - 5s 3us/step - loss: 0.0977\n",
      "Epoch 1/10\n",
      "554222/554222 [==============================] - 2s 3us/step - loss: 2.5766\n",
      "Epoch 2/10\n",
      "554222/554222 [==============================] - 2s 3us/step - loss: 0.1883\n",
      "Epoch 3/10\n",
      "554222/554222 [==============================] - 2s 3us/step - loss: 0.1489\n",
      "Epoch 4/10\n",
      "554222/554222 [==============================] - 2s 3us/step - loss: 0.1297\n",
      "Epoch 5/10\n",
      "554222/554222 [==============================] - 2s 3us/step - loss: 0.1196\n",
      "Epoch 6/10\n",
      "554222/554222 [==============================] - 2s 3us/step - loss: 0.1125\n",
      "Epoch 7/10\n",
      "554222/554222 [==============================] - 2s 3us/step - loss: 0.1077\n",
      "Epoch 8/10\n",
      "554222/554222 [==============================] - 2s 3us/step - loss: 0.1042\n",
      "Epoch 9/10\n",
      "554222/554222 [==============================] - 2s 3us/step - loss: 0.1012\n",
      "Epoch 10/10\n",
      "554222/554222 [==============================] - 2s 3us/step - loss: 0.0983\n"
     ]
    }
   ],
   "source": [
    "pos_sub = combined_output_data.iloc[:, 3] > 0\n",
    "neg_sub = combined_output_data.iloc[:, 3] < 0\n",
    "nr_pos_net.fit(scaled_input_data[pos_sub], np.log10(combined_output_data.loc[pos_sub, \"nrtend_TAU\"]))\n",
    "nr_neg_net.fit(scaled_input_data[neg_sub], np.log10(-combined_output_data.loc[neg_sub, \"nrtend_TAU\"]))"
   ]
  },
  {
   "cell_type": "code",
   "execution_count": 118,
   "metadata": {},
   "outputs": [
    {
     "data": {
      "image/png": "[encoded data removed]",
      "text/plain": [
       "<Figure size 432x288 with 1 Axes>"
      ]
     },
     "metadata": {},
     "output_type": "display_data"
    }
   ],
   "source": [
    "plt.hist(np.log10(test_output_data.loc[test_output_data[\"nrtend_TAU\"] > 0, \"nrtend_TAU\"]), bins=100)\n",
    "plt.gca().set_yscale(\"log\")"
   ]
  },
  {
   "cell_type": "code",
   "execution_count": 116,
   "metadata": {},
   "outputs": [
    {
     "data": {
      "image/png": "[encoded data removed]",
      "text/plain": [
       "<Figure size 432x288 with 1 Axes>"
      ]
     },
     "metadata": {},
     "output_type": "display_data"
    }
   ],
   "source": [
    "plt.hist(nr_pos_net.predict(scaled_test_input[test_nr_sign > 0]).ravel(), bins=50)\n",
    "plt.gca().set_yscale(\"log\")"
   ]
  },
  {
   "cell_type": "code",
   "execution_count": 18,
   "metadata": {},
   "outputs": [],
   "source": [
    "nr_pred_values = np.zeros(scaled_test_input.shape[0])\n",
    "nr_pred_values[test_nr_sign > 0] = 10 ** nr_pos_net.predict(scaled_test_input[test_nr_sign > 0]).ravel()\n",
    "nr_pred_values[test_nr_sign < 0] = -10 ** nr_neg_net.predict(scaled_test_input[test_nr_sign < 0]).ravel()"
   ]
  },
  {
   "cell_type": "code",
   "execution_count": 119,
   "metadata": {},
   "outputs": [
    {
     "data": {
      "image/png": "[encoded data removed]",
      "text/plain": [
       "<Figure size 432x288 with 1 Axes>"
      ]
     },
     "metadata": {},
     "output_type": "display_data"
    }
   ],
   "source": [
    "plt.hist(nr_pred_values, bins=np.arange(-1000, 1000, 5))\n",
    "plt.gca().set_yscale(\"log\")"
   ]
  },
  {
   "cell_type": "code",
   "execution_count": 19,
   "metadata": {},
   "outputs": [],
   "source": [
    "pred_tendencies = pd.DataFrame(0, index=test_output_data.index, columns=output_cols[1:], dtype=float)\n",
    "pred_tendencies.loc[:, \"qrtend_TAU\"] = dnn_qr.predict(scaled_test_input)\n",
    "pred_tendencies.loc[:, \"nctend_TAU\"] = dnn_nc.predict(scaled_test_input)\n",
    "pred_tendencies.loc[:, \"nrtend_TAU\"] = nr_pred_values\n"
   ]
  },
  {
   "cell_type": "code",
   "execution_count": 43,
   "metadata": {},
   "outputs": [
    {
     "data": {
      "image/png": "[encoded data removed]",
      "text/plain": [
       "<Figure size 864x576 with 6 Axes>"
      ]
     },
     "metadata": {},
     "output_type": "display_data"
    }
   ],
   "source": [
    "fig, axes = plt.subplots(2, 3, figsize=(12, 8))\n",
    "plt.subplots_adjust(wspace=0.2)\n",
    "all_bins = [np.linspace(-16, -6, 50), np.linspace(-3,6, 50), np.linspace(-400, 400, 50)]\n",
    "axes[0, 0].hist(pred_tendencies.loc[:, \"qrtend_TAU\"],\n",
    "             bins=all_bins[0])\n",
    "axes[0, 0].set_xlabel(\"Emulated QR\", fontsize=14)\n",
    "axes[0, 0].set_yscale(\"log\")\n",
    "axes[0, 1].hist(pred_tendencies.loc[:, \"nctend_TAU\"], \n",
    "            bins=all_bins[1])\n",
    "axes[0, 1].set_yscale(\"log\")\n",
    "axes[0, 1].set_xlabel(\"Emulated NC\", fontsize=14)\n",
    "axes[0, 2].hist(pred_tendencies.loc[:, \"nrtend_TAU\"], \n",
    "             bins=all_bins[2])\n",
    "axes[0, 2].set_yscale(\"log\")\n",
    "axes[0, 2].set_xlabel(\"Emulated NR\", fontsize=14)\n",
    "axes[1, 0].hist(np.log10(np.maximum(1e-15, test_output_data.iloc[:, 1])),\n",
    "             bins=all_bins[0])\n",
    "axes[1, 0].set_yscale(\"log\")\n",
    "axes[1, 0].set_xlabel(\"Bin QR\", fontsize=14)\n",
    "axes[1, 1].hist(np.log10(np.maximum(1e-15, -test_output_data.iloc[:, 2])), \n",
    "            bins=all_bins[1])\n",
    "axes[1, 1].set_yscale(\"log\")\n",
    "axes[1, 1].set_xlabel(\"Bin NC\", fontsize=14)\n",
    "axes[1, 2].hist(test_output_data.iloc[:, 3], \n",
    "             bins=all_bins[2])\n",
    "axes[1, 2].set_yscale(\"log\")\n",
    "axes[1, 2].set_xlabel(\"Bin NR\", fontsize=14)\n",
    "fig.suptitle(\"Bin Microphysics Tendency Emulation Distributions\", y=0.96, fontsize=16)\n",
    "plt.savefig(\"nn_bin_hist.png\", dpi=200, bbox_inches=\"tight\")"
   ]
  },
  {
   "cell_type": "code",
   "execution_count": 22,
   "metadata": {},
   "outputs": [
    {
     "ename": "NameError",
     "evalue": "name 'nr_scaler' is not defined",
     "traceback": [
      "\u001b[0;31m---------------------------------------------------------------------------\u001b[0m",
      "\u001b[0;31mNameError\u001b[0m                                 Traceback (most recent call last)",
      "\u001b[0;32m<ipython-input-22-5d54dde4736b>\u001b[0m in \u001b[0;36m<module>\u001b[0;34m()\u001b[0m\n\u001b[0;32m----> 1\u001b[0;31m \u001b[0mnr_scaler\u001b[0m\u001b[0;34m.\u001b[0m\u001b[0mtransform\u001b[0m\u001b[0;34m(\u001b[0m\u001b[0mtest_output_data\u001b[0m\u001b[0;34m.\u001b[0m\u001b[0miloc\u001b[0m\u001b[0;34m[\u001b[0m\u001b[0;34m:\u001b[0m\u001b[0;34m,\u001b[0m \u001b[0;36m3\u001b[0m\u001b[0;34m:\u001b[0m\u001b[0;36m4\u001b[0m\u001b[0;34m]\u001b[0m\u001b[0;34m)\u001b[0m\u001b[0;34m.\u001b[0m\u001b[0mravel\u001b[0m\u001b[0;34m(\u001b[0m\u001b[0;34m)\u001b[0m\u001b[0;34m\u001b[0m\u001b[0m\n\u001b[0m",
      "\u001b[0;31mNameError\u001b[0m: name 'nr_scaler' is not defined"
     ],
     "output_type": "error"
    }
   ],
   "source": [
    "nr_scaler.transform(test_output_data.iloc[:, 3:4]).ravel()"
   ]
  },
  {
   "cell_type": "code",
   "execution_count": 31,
   "metadata": {},
   "outputs": [],
   "source": [
    "rmses = np.zeros(3)\n",
    "rmses[0] = np.sqrt(mean_squared_error(np.log10(np.maximum(1e-15, test_output_data.iloc[:, 1])), \n",
    "                                      pred_tendencies.loc[:, \"qrtend_TAU\"]))\n",
    "rmses[1] = np.sqrt(mean_squared_error(np.log10(np.maximum(1e-15, -test_output_data.iloc[:, 2])), \n",
    "                                      pred_tendencies.loc[:, \"nctend_TAU\"]))\n",
    "rmses[2] = np.sqrt(mean_squared_error(test_output_data.iloc[:, 3], \n",
    "                                      pred_tendencies.loc[:, \"nrtend_TAU\"]))\n",
    "r2s = np.zeros(3)\n",
    "r2s[0] = np.sqrt(r2_score(np.log10(np.maximum(1e-15, test_output_data.iloc[:, 1])), \n",
    "                                      pred_tendencies.loc[:, \"qrtend_TAU\"]))\n",
    "r2s[1] = np.sqrt(r2_score(np.log10(np.maximum(1e-15, -test_output_data.iloc[:, 2])), \n",
    "                                      pred_tendencies.loc[:, \"nctend_TAU\"]))\n",
    "r2s[2] = np.sqrt(r2_score(test_output_data.iloc[:, 3], \n",
    "                                      pred_tendencies.loc[:, \"nrtend_TAU\"]))"
   ]
  },
  {
   "cell_type": "code",
   "execution_count": 44,
   "metadata": {},
   "outputs": [
    {
     "name": "stderr",
     "output_type": "stream",
     "text": [
      "/Users/dgagne/miniconda3/envs/deep/lib/python3.6/site-packages/matplotlib/colors.py:1031: RuntimeWarning: invalid value encountered in less_equal\n",
      "  mask |= resdat <= 0\n"
     ]
    },
    {
     "data": {
      "image/png": "[encoded data removed]",
      "text/plain": [
       "<Figure size 936x288 with 3 Axes>"
      ]
     },
     "metadata": {},
     "output_type": "display_data"
    }
   ],
   "source": [
    "fig, axes = plt.subplots(1, 3, figsize=(13, 4))\n",
    "plt.subplots_adjust(wspace=0.3)\n",
    "axes[0].hist2d(pred_tendencies.loc[:, \"qrtend_TAU\"], \n",
    "               np.log10(np.maximum(1e-15, test_output_data.iloc[:, 1])),\n",
    "               cmin=1, bins=all_bins[0], norm=LogNorm())\n",
    "axes[0].set_xlabel(\"Emulated QR\", fontsize=14)\n",
    "axes[0].set_ylabel(\"Bin QR\", fontsize=14)\n",
    "axes[1].set_xticks(np.arange(-16, 7))\n",
    "axes[1].set_yticks(np.arange(-16, 7))\n",
    "axes[0].plot(np.arange(-16, 7),np.arange(-16, 7), 'k--')\n",
    "axes[0].set_title(\"RMSE: {0:0.3f}; $R^2$: {1:0.3f}\".format(rmses[0], r2s[0]), fontsize=14)\n",
    "axes[1].hist2d(pred_tendencies.loc[:, \"nctend_TAU\"], \n",
    "               np.log10(np.maximum(1e-15, -test_output_data.iloc[:, 2])),\n",
    "               cmin=1, bins=all_bins[1], norm=LogNorm())\n",
    "axes[1].set_xlabel(\"Emulated NC\", fontsize=14)\n",
    "axes[1].set_ylabel(\"Bin NC\", fontsize=14)\n",
    "axes[1].set_title(\"RMSE: {0:0.3f}; $R^2$: {1:0.3f}\".format(rmses[1], r2s[1]), fontsize=14)\n",
    "axes[1].set_xticks(np.arange(-3, 7))\n",
    "axes[1].set_yticks(np.arange(-3, 7))\n",
    "axes[1].plot(np.arange(-3, 7),np.arange(-3, 7), 'k--')\n",
    "axes[2].hist2d(pred_tendencies.loc[:, \"nrtend_TAU\"], \n",
    "               test_output_data.iloc[:, 3],\n",
    "               cmin=1, bins=all_bins[2], norm=LogNorm())\n",
    "axes[2].set_xlabel(\"Emulated NR\", fontsize=14)\n",
    "axes[2].set_ylabel(\"Bin NR\", fontsize=14)\n",
    "axes[2].set_title(\"RMSE: {0:0.3f}; $R^2$: {1:0.3f}\".format(rmses[2], r2s[2]), fontsize=14)\n",
    "axes[2].set_xticks(np.arange(-400, 500, 100))\n",
    "axes[2].set_yticks(np.arange(-400, 500, 100))\n",
    "axes[2].plot(np.arange(-400, 500, 100),np.arange(-400, 500, 100), 'k--')\n",
    "plt.savefig(\"nn_bin_hist2d.png\", dpi=200, bbox_inches=\"tight\")"
   ]
  },
  {
   "cell_type": "code",
   "execution_count": 47,
   "metadata": {},
   "outputs": [
    {
     "data": {
      "text/plain": [
       "Index(['pressure', 'temperature', 'RHO_CLUBB_lev', 'RHO_CLUBB_top',\n",
       "       'RHO_CLUBB_bottom', 'QC_TAU_in', 'NC_TAU_in', 'QR_TAU_in', 'NR_TAU_in'],\n",
       "      dtype='object')"
      ]
     },
     "execution_count": 47,
     "metadata": {},
     "output_type": "execute_result"
    }
   ],
   "source": [
    "test_input_data.columns"
   ]
  },
  {
   "cell_type": "code",
   "execution_count": 25,
   "metadata": {},
   "outputs": [
    {
     "data": {
      "text/plain": [
       "array([[1.        , 0.98189445],\n",
       "       [0.98189445, 1.        ]])"
      ]
     },
     "execution_count": 25,
     "metadata": {},
     "output_type": "execute_result"
    }
   ],
   "source": [
    "np.corrcoef(pred_tendencies.loc[:, \"qrtend_TAU\"], np.log10(np.maximum(1e-15, test_output_data.iloc[:, 1])))"
   ]
  },
  {
   "cell_type": "code",
   "execution_count": 26,
   "metadata": {},
   "outputs": [
    {
     "data": {
      "text/plain": [
       "array([[1.        , 0.99758585],\n",
       "       [0.99758585, 1.        ]])"
      ]
     },
     "execution_count": 26,
     "metadata": {},
     "output_type": "execute_result"
    }
   ],
   "source": [
    "np.corrcoef(pred_tendencies.loc[:, \"nctend_TAU\"], np.log10(np.maximum(1e-15, -test_output_data.iloc[:, 2])))"
   ]
  },
  {
   "cell_type": "code",
   "execution_count": 28,
   "metadata": {},
   "outputs": [
    {
     "data": {
      "text/plain": [
       "array([[1.        , 0.78787885],\n",
       "       [0.78787885, 1.        ]])"
      ]
     },
     "execution_count": 28,
     "metadata": {},
     "output_type": "execute_result"
    }
   ],
   "source": [
    "np.corrcoef(pred_tendencies.loc[:, \"nrtend_TAU\"], \n",
    "            test_output_data.iloc[:, 3])"
   ]
  },
  {
   "cell_type": "code",
   "execution_count": 113,
   "metadata": {},
   "outputs": [
    {
     "data": {
      "image/png": "[encoded data removed]",
      "text/plain": [
       "<Figure size 432x288 with 1 Axes>"
      ]
     },
     "metadata": {},
     "output_type": "display_data"
    }
   ],
   "source": [
    "np.log10(np.maximum(-combined_output_data.iloc[:, 0], 1e-15)).hist(bins=50)\n",
    "plt.gca().set_yscale(\"log\")"
   ]
  },
  {
   "cell_type": "code",
   "execution_count": 36,
   "metadata": {},
   "outputs": [
    {
     "data": {
      "text/plain": [
       "<matplotlib.axes._subplots.AxesSubplot at 0x1c2eb75ef0>"
      ]
     },
     "execution_count": 36,
     "metadata": {},
     "output_type": "execute_result"
    },
    {
     "data": {
      "image/png": "[encoded data removed]",
      "text/plain": [
       "<Figure size 432x288 with 1 Axes>"
      ]
     },
     "metadata": {},
     "output_type": "display_data"
    }
   ],
   "source": [
    "np.log10(np.maximum(-combined_output_data.iloc[:, 2], 1e-15)).hist(bins=50)"
   ]
  },
  {
   "cell_type": "code",
   "execution_count": 40,
   "metadata": {},
   "outputs": [
    {
     "data": {
      "image/png": "[encoded data removed]",
      "text/plain": [
       "<Figure size 432x288 with 1 Axes>"
      ]
     },
     "metadata": {},
     "output_type": "display_data"
    }
   ],
   "source": [
    "combined_output_data.iloc[:,3].hist(bins=50)\n",
    "plt.gca().set_yscale(\"log\")"
   ]
  },
  {
   "cell_type": "code",
   "execution_count": 156,
   "metadata": {},
   "outputs": [],
   "source": [
    "test_preds = dnn.predict(scaled_test_input)"
   ]
  },
  {
   "cell_type": "code",
   "execution_count": 97,
   "metadata": {},
   "outputs": [
    {
     "data": {
      "text/plain": [
       "(2426187, 1)"
      ]
     },
     "execution_count": 97,
     "metadata": {},
     "output_type": "execute_result"
    }
   ],
   "source": [
    "test_preds.shape"
   ]
  },
  {
   "cell_type": "code",
   "execution_count": 157,
   "metadata": {},
   "outputs": [
    {
     "data": {
      "image/png": "[encoded data removed]",
      "text/plain": [
       "<Figure size 432x288 with 1 Axes>"
      ]
     },
     "metadata": {},
     "output_type": "display_data"
    }
   ],
   "source": [
    "plt.hist(test_preds[:, 0] - np.log10(-test_output_data.iloc[:, 2]), bins=100)\n",
    "plt.gca().set_yscale(\"log\")"
   ]
  },
  {
   "cell_type": "code",
   "execution_count": 165,
   "metadata": {},
   "outputs": [
    {
     "data": {
      "text/plain": [
       "Text(0.5,1,'R2: 0.995')"
      ]
     },
     "execution_count": 165,
     "metadata": {},
     "output_type": "execute_result"
    },
    {
     "name": "stderr",
     "output_type": "stream",
     "text": [
      "/glade/u/home/dgagne/miniconda3/envs/deep/lib/python3.6/site-packages/matplotlib/colors.py:1031: RuntimeWarning: invalid value encountered in less_equal\n",
      "  mask |= resdat <= 0\n"
     ]
    },
    {
     "data": {
      "image/png": "[encoded data removed]",
      "text/plain": [
       "<Figure size 432x288 with 2 Axes>"
      ]
     },
     "metadata": {},
     "output_type": "display_data"
    }
   ],
   "source": [
    "plt.hist2d(test_preds[:, 0], np.log10(-test_output_data.iloc[:, 2]), bins=50, cmin=1, norm=LogNorm())\n",
    "plt.colorbar()\n",
    "plt.title(\"R2: {0:0.3f}\".format(r2_score(np.log10(-test_output_data.iloc[:, 2]), test_preds[:, 0])))"
   ]
  },
  {
   "cell_type": "code",
   "execution_count": 158,
   "metadata": {},
   "outputs": [
    {
     "data": {
      "image/png": "[encoded data removed]",
      "text/plain": [
       "<Figure size 432x288 with 1 Axes>"
      ]
     },
     "metadata": {},
     "output_type": "display_data"
    }
   ],
   "source": [
    "plt.hist(test_preds[:, 0], bins=20)\n",
    "plt.gca().set_yscale(\"log\")"
   ]
  },
  {
   "cell_type": "code",
   "execution_count": 120,
   "metadata": {},
   "outputs": [
    {
     "data": {
      "image/png": "[encoded data removed]",
      "text/plain": [
       "<Figure size 432x288 with 1 Axes>"
      ]
     },
     "metadata": {},
     "output_type": "display_data"
    }
   ],
   "source": [
    "plt.hist(test_output_data.iloc[:, 3], bins=100)\n",
    "plt.gca().set_yscale(\"log\")"
   ]
  },
  {
   "cell_type": "code",
   "execution_count": 69,
   "metadata": {},
   "outputs": [
    {
     "data": {
      "image/png": "[encoded data removed]",
      "text/plain": [
       "<Figure size 432x288 with 1 Axes>"
      ]
     },
     "metadata": {},
     "output_type": "display_data"
    }
   ],
   "source": [
    "plt.hist2d(test_preds[:, 0], test_output_data.iloc[:, 0], cmin=1, bins=100)"
   ]
  },
  {
   "cell_type": "code",
   "execution_count": 79,
   "metadata": {},
   "outputs": [
    {
     "data": {
      "text/plain": [
       "1.862227e-15"
      ]
     },
     "execution_count": 79,
     "metadata": {},
     "output_type": "execute_result"
    }
   ],
   "source": [
    "combined_output_data[\"qrtend_TAU\"][combined_output_data[\"qrtend_TAU\"] > 0].min()"
   ]
  },
  {
   "cell_type": "code",
   "execution_count": 83,
   "metadata": {},
   "outputs": [
    {
     "data": {
      "text/plain": [
       "0"
      ]
     },
     "execution_count": 83,
     "metadata": {},
     "output_type": "execute_result"
    }
   ],
   "source": [
    "np.count_nonzero(combined_output_data[\"nctend_TAU\"] == 0)"
   ]
  },
  {
   "cell_type": "code",
   "execution_count": 124,
   "metadata": {},
   "outputs": [
    {
     "data": {
      "text/plain": [
       "(array([[nan, nan,  1., ..., nan, nan, nan],\n",
       "        [ 1., nan,  3., ..., nan, nan, nan],\n",
       "        [ 1.,  1.,  2., ..., nan, nan, nan],\n",
       "        ...,\n",
       "        [nan, nan, nan, ..., nan,  1., nan],\n",
       "        [nan, nan, nan, ...,  1., nan, nan],\n",
       "        [nan, nan, nan, ..., nan, nan, nan]]),\n",
       " array([-5.99999448, -5.93613816, -5.87228183, -5.8084255 , -5.74456918,\n",
       "        -5.68071285, -5.61685652, -5.5530002 , -5.48914387, -5.42528754,\n",
       "        -5.36143122, -5.29757489, -5.23371856, -5.16986224, -5.10600591,\n",
       "        -5.04214958, -4.97829326, -4.91443693, -4.8505806 , -4.78672428,\n",
       "        -4.72286795, -4.65901162, -4.5951553 , -4.53129897, -4.46744264,\n",
       "        -4.40358632, -4.33972999, -4.27587366, -4.21201734, -4.14816101,\n",
       "        -4.08430468, -4.02044836, -3.95659203, -3.8927357 , -3.82887938,\n",
       "        -3.76502305, -3.70116672, -3.6373104 , -3.57345407, -3.50959774,\n",
       "        -3.44574142, -3.38188509, -3.31802876, -3.25417244, -3.19031611,\n",
       "        -3.12645978, -3.06260346, -2.99874713, -2.9348908 , -2.87103448,\n",
       "        -2.80717815]),\n",
       " array([1.00025394, 1.16013582, 1.3200177 , 1.47989958, 1.63978145,\n",
       "        1.79966333, 1.95954521, 2.11942709, 2.27930896, 2.43919084,\n",
       "        2.59907272, 2.7589546 , 2.91883647, 3.07871835, 3.23860023,\n",
       "        3.39848211, 3.55836398, 3.71824586, 3.87812774, 4.03800962,\n",
       "        4.19789149, 4.35777337, 4.51765525, 4.67753713, 4.83741901,\n",
       "        4.99730088, 5.15718276, 5.31706464, 5.47694652, 5.63682839,\n",
       "        5.79671027, 5.95659215, 6.11647403, 6.2763559 , 6.43623778,\n",
       "        6.59611966, 6.75600154, 6.91588341, 7.07576529, 7.23564717,\n",
       "        7.39552905, 7.55541092, 7.7152928 , 7.87517468, 8.03505656,\n",
       "        8.19493843, 8.35482031, 8.51470219, 8.67458407, 8.83446594,\n",
       "        8.99434782]),\n",
       " <matplotlib.image.AxesImage at 0x2aac03dc03c8>)"
      ]
     },
     "execution_count": 124,
     "metadata": {},
     "output_type": "execute_result"
    },
    {
     "data": {
      "image/png": "[encoded data removed]",
      "text/plain": [
       "<Figure size 432x288 with 1 Axes>"
      ]
     },
     "metadata": {},
     "output_type": "display_data"
    }
   ],
   "source": [
    "plt.hist2d(combined_input_data.loc[combined_output_data.iloc[:, 1] == 0, \"QC_TAU_in\"], \n",
    "           combined_input_data.loc[combined_output_data.iloc[:, 1] == 0, \"NC_TAU_in\"], bins=50, cmin=1)"
   ]
  },
  {
   "cell_type": "code",
   "execution_count": 147,
   "metadata": {},
   "outputs": [
    {
     "data": {
      "text/plain": [
       "(array([[nan, nan,  1., ..., nan, nan, nan],\n",
       "        [ 1., nan,  3., ..., nan, nan, nan],\n",
       "        [ 1.,  1.,  2., ..., nan, nan, nan],\n",
       "        ...,\n",
       "        [nan, nan, nan, ..., nan,  1., nan],\n",
       "        [nan, nan, nan, ...,  1., nan, nan],\n",
       "        [nan, nan, nan, ..., nan, nan, nan]]),\n",
       " array([-5.99999448, -5.93613816, -5.87228183, -5.8084255 , -5.74456918,\n",
       "        -5.68071285, -5.61685652, -5.5530002 , -5.48914387, -5.42528754,\n",
       "        -5.36143122, -5.29757489, -5.23371856, -5.16986224, -5.10600591,\n",
       "        -5.04214958, -4.97829326, -4.91443693, -4.8505806 , -4.78672428,\n",
       "        -4.72286795, -4.65901162, -4.5951553 , -4.53129897, -4.46744264,\n",
       "        -4.40358632, -4.33972999, -4.27587366, -4.21201734, -4.14816101,\n",
       "        -4.08430468, -4.02044836, -3.95659203, -3.8927357 , -3.82887938,\n",
       "        -3.76502305, -3.70116672, -3.6373104 , -3.57345407, -3.50959774,\n",
       "        -3.44574142, -3.38188509, -3.31802876, -3.25417244, -3.19031611,\n",
       "        -3.12645978, -3.06260346, -2.99874713, -2.9348908 , -2.87103448,\n",
       "        -2.80717815]),\n",
       " array([1.00025394, 1.16013582, 1.3200177 , 1.47989958, 1.63978145,\n",
       "        1.79966333, 1.95954521, 2.11942709, 2.27930896, 2.43919084,\n",
       "        2.59907272, 2.7589546 , 2.91883647, 3.07871835, 3.23860023,\n",
       "        3.39848211, 3.55836398, 3.71824586, 3.87812774, 4.03800962,\n",
       "        4.19789149, 4.35777337, 4.51765525, 4.67753713, 4.83741901,\n",
       "        4.99730088, 5.15718276, 5.31706464, 5.47694652, 5.63682839,\n",
       "        5.79671027, 5.95659215, 6.11647403, 6.2763559 , 6.43623778,\n",
       "        6.59611966, 6.75600154, 6.91588341, 7.07576529, 7.23564717,\n",
       "        7.39552905, 7.55541092, 7.7152928 , 7.87517468, 8.03505656,\n",
       "        8.19493843, 8.35482031, 8.51470219, 8.67458407, 8.83446594,\n",
       "        8.99434782]),\n",
       " <matplotlib.image.AxesImage at 0x2aae3f17f5c0>)"
      ]
     },
     "execution_count": 147,
     "metadata": {},
     "output_type": "execute_result"
    },
    {
     "data": {
      "image/png": "[encoded data removed]",
      "text/plain": [
       "<Figure size 432x288 with 1 Axes>"
      ]
     },
     "metadata": {},
     "output_type": "display_data"
    }
   ],
   "source": [
    "plt.hist2d(combined_input_data.loc[combined_output_data.iloc[:, 3] == 0, \"QC_TAU_in\"], \n",
    "           combined_input_data.loc[combined_output_data.iloc[:, 3] == 0, \"NC_TAU_in\"], bins=50, cmin=1)"
   ]
  },
  {
   "cell_type": "code",
   "execution_count": 143,
   "metadata": {},
   "outputs": [
    {
     "data": {
      "text/plain": [
       "0"
      ]
     },
     "execution_count": 143,
     "metadata": {},
     "output_type": "execute_result"
    }
   ],
   "source": [
    "np.count_nonzero((combined_output_data.iloc[:, 1] == 0) & (combined_output_data.iloc[:, 2] == 0))"
   ]
  },
  {
   "cell_type": "code",
   "execution_count": 144,
   "metadata": {},
   "outputs": [
    {
     "data": {
      "text/plain": [
       "0"
      ]
     },
     "execution_count": 144,
     "metadata": {},
     "output_type": "execute_result"
    }
   ],
   "source": [
    "np.count_nonzero(combined_output_data.iloc[:, 2] == 0)"
   ]
  },
  {
   "cell_type": "code",
   "execution_count": null,
   "metadata": {},
   "outputs": [],
   "source": []
  }
 ],
 "metadata": {
  "kernelspec": {
   "display_name": "Python 3",
   "language": "python",
   "name": "python3"
  },
  "language_info": {
   "codemirror_mode": {
    "name": "ipython",
    "version": 3
   },
   "file_extension": ".py",
   "mimetype": "text/x-python",
   "name": "python",
   "nbconvert_exporter": "python",
   "pygments_lexer": "ipython3",
   "version": "3.6.5"
  }
 },
 "nbformat": 4,
 "nbformat_minor": 2
}
