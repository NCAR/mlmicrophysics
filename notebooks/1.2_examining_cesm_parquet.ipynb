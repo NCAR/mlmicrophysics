{
 "cells": [
  {
   "cell_type": "code",
   "execution_count": 1,
   "id": "a899c39b-6713-4002-86cd-aef555ff0d82",
   "metadata": {},
   "outputs": [
    {
     "name": "stdout",
     "output_type": "stream",
     "text": [
      "Error reading the Parquet file: [Errno 2] No such file or directory: 'example.parquet'\n"
     ]
    }
   ],
   "source": [
    "import pandas as pd\n",
    "\n",
    "def inspect_parquet_file(file_path):\n",
    "    \"\"\"\n",
    "    Reads and displays basic information about a Parquet file.\n",
    "\n",
    "    :param file_path: Path to the Parquet file\n",
    "    \"\"\"\n",
    "    try:\n",
    "        # Read the Parquet file into a pandas DataFrame\n",
    "        df = pd.read_parquet(file_path)\n",
    "        \n",
    "        # Display basic information\n",
    "        print(f\"File: {file_path}\")\n",
    "        print(\"\\n--- File Overview ---\")\n",
    "        print(f\"Number of rows: {len(df)}\")\n",
    "        print(f\"Number of columns: {len(df.columns)}\")\n",
    "        print(\"\\n--- Column Names ---\")\n",
    "        print(df.columns.tolist())\n",
    "        print(\"\\n--- First Few Rows ---\")\n",
    "        print(df.head())\n",
    "    except Exception as e:\n",
    "        print(f\"Error reading the Parquet file: {e}\")\n",
    "\n",
    "if __name__ == \"__main__\":\n",
    "    # Replace 'example.parquet' with the path to your Parquet file\n",
    "    file_path = \"example.parquet\"\n",
    "    inspect_parquet_file(file_path)"
   ]
  },
  {
   "cell_type": "code",
   "execution_count": 4,
   "id": "72ff9641-9114-4f83-8356-840eb848a9e9",
   "metadata": {},
   "outputs": [
    {
     "name": "stdout",
     "output_type": "stream",
     "text": [
      "File: /glade/derecho/scratch/wchuang/mlmicrophysics/cam_ml_tauREV4/cam_mp_data_tauREV4_000000.parquet\n",
      "\n",
      "--- File Overview ---\n",
      "Number of rows: 7958880\n",
      "Number of columns: 28\n",
      "\n",
      "--- Column Names ---\n",
      "['lev', 'lat', 'lon', 'trop_cld_lev', 'depth', 'row', 'col', 'T', 'RHO_CLUBB', 'CLOUD', 'FREQR', 'QC_TAU_in', 'NC_TAU_in', 'QR_TAU_in', 'NR_TAU_in', 'QC_TAU_out', 'NC_TAU_out', 'QR_TAU_out', 'NR_TAU_out', 'qctend_TAU', 'nctend_TAU', 'qrtend_TAU', 'nrtend_TAU', 'PGAM', 'LAMC', 'LAMR', 'N0R', 'time']\n",
      "\n",
      "--- First Few Rows ---\n",
      "        lev        lat     lon  trop_cld_lev  depth  row  col           T  \\\n",
      "0  3.643466 -89.057592  133.75    976.325407      0    1  107  265.161664   \n",
      "1  3.643466 -89.057592  135.00    976.325407      0    1  108  265.171987   \n",
      "2  3.643466 -89.057592  136.25    976.325407      0    1  109  265.182448   \n",
      "3  3.643466 -89.057592  137.50    976.325407      0    1  110  265.193014   \n",
      "4  3.643466 -89.057592  138.75    976.325407      0    1  111  265.203685   \n",
      "\n",
      "   RHO_CLUBB  CLOUD  ...  NR_TAU_out    qctend_TAU    nctend_TAU  \\\n",
      "0   0.004546    0.0  ...         0.0  0.000000e+00  0.000000e+00   \n",
      "1   0.004545    0.0  ...         0.0  0.000000e+00 -4.097043e-09   \n",
      "2   0.004545    0.0  ...         0.0 -1.102907e-26 -1.608821e-08   \n",
      "3   0.004545    0.0  ...         0.0  0.000000e+00 -3.880550e-08   \n",
      "4   0.004545    0.0  ...         0.0  0.000000e+00 -1.970562e-07   \n",
      "\n",
      "     qrtend_TAU  nrtend_TAU      PGAM          LAMC  LAMR  N0R  time  \n",
      "0  6.572091e-73         0.0  9.841248  3.340941e+06   0.0  0.0   0.0  \n",
      "1  2.416634e-68         0.0  9.659128  3.145149e+06   0.0  0.0   0.0  \n",
      "2  3.525455e-63         0.0  9.641224  2.922558e+06   0.0  0.0   0.0  \n",
      "3  3.215895e-59         0.0  9.662587  2.751605e+06   0.0  0.0   0.0  \n",
      "4  5.886283e-56         0.0  9.677863  2.610232e+06   0.0  0.0   0.0  \n",
      "\n",
      "[5 rows x 28 columns]\n"
     ]
    }
   ],
   "source": [
    "folder = \"/glade/derecho/scratch/wchuang/mlmicrophysics/cam_ml_tauREV4/\"\n",
    "inspect_parquet_file(folder + \"cam_mp_data_tauREV4_000000.parquet\")"
   ]
  }
 ],
 "metadata": {
  "kernelspec": {
   "display_name": "Python [conda env:mlmicro]",
   "language": "python",
   "name": "conda-env-mlmicro-py"
  },
  "language_info": {
   "codemirror_mode": {
    "name": "ipython",
    "version": 3
   },
   "file_extension": ".py",
   "mimetype": "text/x-python",
   "name": "python",
   "nbconvert_exporter": "python",
   "pygments_lexer": "ipython3",
   "version": "3.9.16"
  }
 },
 "nbformat": 4,
 "nbformat_minor": 5
}
