{
 "cells": [
  {
   "cell_type": "markdown",
   "id": "afraid-saudi",
   "metadata": {},
   "source": [
    "# Physics-informed microphysics neural network emulator\n",
    "\n",
    "David John Gagne\n",
    "\n",
    "The goal of this approach is to include more physical constraints and make the training easier for the microphysics emulator. \n",
    "\n",
    "The physics-informed neural network setup integrates the following components.\n",
    "\n",
    "1. Predict the updated microphysical terms rather than tendencies. The tendencies have very weird distributions that are hard for one neural network to fit. The original values on the other hand are all greater than 0, so it is easier to ensure that outputs are always greater than 0 this way.\n",
    "$y_{new} = y_{old} + y_{tend} dt$\n",
    "\n",
    "$dt=1800 \\text{ s}$\n",
    "\n",
    "2. Keep all inputs and outputs in log space for training ideally.\n",
    "\n",
    "3. Enforce mass conservation between cloud and rain. \n",
    "$ q_{ro} + q_{co} = q_{rn} + q_{cn}$"
   ]
  },
  {
   "cell_type": "code",
   "execution_count": 99,
   "id": "distinguished-rebate",
   "metadata": {},
   "outputs": [],
   "source": [
    "import pandas as pd\n",
    "import numpy as np\n",
    "import matplotlib.pyplot as plt\n",
    "from matplotlib.colors import LogNorm\n",
    "from glob import glob\n",
    "from os.path import join\n",
    "import xarray as xr\n",
    "import dask.dataframe as dd\n",
    "from tensorflow.keras.layers import Input, Dense, Activation\n",
    "from tensorflow.keras.models import Sequential\n",
    "from sklearn.preprocessing import StandardScaler, MinMaxScaler\n",
    "import tensorflow as tf\n",
    "from mlmicrophysics.models import DenseNeuralNetwork\n",
    "%matplotlib inline"
   ]
  },
  {
   "cell_type": "code",
   "execution_count": 5,
   "id": "painted-campus",
   "metadata": {},
   "outputs": [],
   "source": [
    "mp_path = \"/glade/p/cisl/aiml/dgagne/cam_mp_files_run5_phys_parquet/\"\n",
    "mp_files = sorted(glob(join(mp_path, \"*.parquet\")))"
   ]
  },
  {
   "cell_type": "code",
   "execution_count": 6,
   "id": "corporate-mechanism",
   "metadata": {},
   "outputs": [],
   "source": [
    "mp_data = pd.concat([pd.read_parquet(mp_files[x]) for x in range(0, 400, 20)], ignore_index=True)"
   ]
  },
  {
   "cell_type": "code",
   "execution_count": 7,
   "id": "suspended-raising",
   "metadata": {},
   "outputs": [
    {
     "data": {
      "text/plain": [
       "Index(['lat', 'lev', 'lon', 'P0', 'PS', 'depth', 'row', 'col', 'hyam', 'hybm',\n",
       "       'pressure', 'temperature', 'RHO_CLUBB_lev', 'RHO_CLUBB_top',\n",
       "       'RHO_CLUBB_bottom', 'QC_TAU_in', 'NC_TAU_in', 'QR_TAU_in', 'NR_TAU_in',\n",
       "       'lamc', 'lamr', 'lcldm', 'n0r', 'pgam', 'precip_frac', 'qctend_MG2',\n",
       "       'qctend_TAU', 'nctend_MG2', 'nctend_TAU', 'qrtend_MG2', 'qrtend_TAU',\n",
       "       'nrtend_MG2', 'nrtend_TAU', 'QC_TAU_out', 'NC_TAU_out', 'QR_TAU_out',\n",
       "       'NR_TAU_out', 'QC_MG2_out', 'NC_MG2_out', 'QR_MG2_out', 'NR_MG2_out',\n",
       "       'time'],\n",
       "      dtype='object')"
      ]
     },
     "execution_count": 7,
     "metadata": {},
     "output_type": "execute_result"
    }
   ],
   "source": [
    "mp_data.columns"
   ]
  },
  {
   "cell_type": "code",
   "execution_count": 8,
   "id": "cross-thunder",
   "metadata": {},
   "outputs": [],
   "source": [
    "mp_data[\"mass_diff_TAU\"] = (mp_data[\"QC_TAU_out\"] + mp_data[\"QR_TAU_out\"]) - (mp_data[\"QC_TAU_in\"] + mp_data[\"QR_TAU_in\"])\n",
    "mp_data[\"mass_diff_MG2\"] = (mp_data[\"QC_MG2_out\"] + mp_data[\"QR_MG2_out\"]) - (mp_data[\"QC_TAU_in\"] + mp_data[\"QR_TAU_in\"])"
   ]
  },
  {
   "cell_type": "code",
   "execution_count": 9,
   "id": "expired-frank",
   "metadata": {},
   "outputs": [],
   "source": [
    "mp_data[\"tend_diff_TAU\"] = (mp_data[\"qctend_TAU\"] + mp_data[\"qrtend_TAU\"])\n",
    "mp_data[\"tend_diff_MG2\"] = (mp_data[\"qctend_MG2\"] + mp_data[\"qrtend_MG2\"])"
   ]
  },
  {
   "cell_type": "code",
   "execution_count": 10,
   "id": "vocal-advice",
   "metadata": {},
   "outputs": [
    {
     "data": {
      "text/plain": [
       "0.6506558402540694"
      ]
     },
     "execution_count": 10,
     "metadata": {},
     "output_type": "execute_result"
    }
   ],
   "source": [
    "np.count_nonzero((mp_data[\"tend_diff_TAU\"] == 0) & (mp_data[\"mass_diff_TAU\"] == 0) & \n",
    "                 np.all(mp_data[[\"QC_TAU_out\", \"QR_TAU_out\", \"NC_TAU_out\", \"NR_TAU_out\"]] >= 0, axis=1)) / mp_data.shape[0]"
   ]
  },
  {
   "cell_type": "code",
   "execution_count": 12,
   "id": "f999139c-f155-4650-a01f-8a578e7a81cf",
   "metadata": {},
   "outputs": [
    {
     "data": {
      "text/plain": [
       "0.9100602477276009"
      ]
     },
     "execution_count": 12,
     "metadata": {},
     "output_type": "execute_result"
    }
   ],
   "source": [
    "np.count_nonzero((mp_data[\"mass_diff_TAU\"] == 0)) / mp_data.shape[0]"
   ]
  },
  {
   "cell_type": "code",
   "execution_count": 13,
   "id": "678b2f3c-b14f-4172-b863-217497f913ee",
   "metadata": {},
   "outputs": [
    {
     "data": {
      "text/plain": [
       "0.8105487194736004"
      ]
     },
     "execution_count": 13,
     "metadata": {},
     "output_type": "execute_result"
    }
   ],
   "source": [
    "np.count_nonzero((mp_data[\"tend_diff_TAU\"] == 0)) / mp_data.shape[0]"
   ]
  },
  {
   "cell_type": "code",
   "execution_count": 19,
   "id": "7b95995d-0c0f-414b-ac38-f4b72bcaca23",
   "metadata": {},
   "outputs": [
    {
     "data": {
      "text/plain": [
       "<AxesSubplot:>"
      ]
     },
     "execution_count": 19,
     "metadata": {},
     "output_type": "execute_result"
    },
    {
     "data": {
      "image/png": "[encoded data removed]",
      "text/plain": [
       "<Figure size 432x288 with 1 Axes>"
      ]
     },
     "metadata": {
      "needs_background": "light"
     },
     "output_type": "display_data"
    }
   ],
   "source": [
    "np.log10(np.maximum(mp_data[\"QR_TAU_in\"], 1e-38)).hist(bins=35)"
   ]
  },
  {
   "cell_type": "code",
   "execution_count": 10,
   "id": "liberal-influence",
   "metadata": {},
   "outputs": [
    {
     "data": {
      "image/png": "[encoded data removed]",
      "text/plain": [
       "<Figure size 432x288 with 1 Axes>"
      ]
     },
     "metadata": {
      "needs_background": "light"
     },
     "output_type": "display_data"
    }
   ],
   "source": [
    "tz = mp_data[\"qctend_TAU\"]== 0\n",
    "tp = mp_data[\"qctend_TAU\"]> 0\n",
    "tn = mp_data[\"qctend_TAU\"] < 0\n",
    "\n",
    "\n",
    "#plt.hist(mp_data[\"QC_TAU_in\"], bins=10. ** np.arange(-40., -1))\n",
    "plt.hist(mp_data[\"QC_TAU_in\"][tz], bins=10. ** np.arange(-40., -1), alpha=0.4, label=\"dqc = 0\")\n",
    "plt.hist(mp_data[\"QC_TAU_in\"][tp], bins=10. ** np.arange(-40., -1), alpha=0.4, label=\"dqc > 0\")\n",
    "plt.hist(mp_data[\"QC_TAU_in\"][tn], bins=10. ** np.arange(-40., -1), alpha=0.4, label=\"dqc < 0\")\n",
    "\n",
    "plt.gca().set_xscale(\"log\")\n",
    "plt.xlabel(\"$q_c$ Input\")\n",
    "plt.ylabel(\"Frequency\")\n",
    "plt.legend()\n",
    "plt.savefig(\"qc_tendency_properties.png\")\n",
    "#plt.gca().set_yscale(\"log\")"
   ]
  },
  {
   "cell_type": "code",
   "execution_count": 68,
   "id": "union-occasions",
   "metadata": {},
   "outputs": [
    {
     "data": {
      "image/png": "[encoded data removed]",
      "text/plain": [
       "<Figure size 432x288 with 1 Axes>"
      ]
     },
     "metadata": {
      "needs_background": "light"
     },
     "output_type": "display_data"
    }
   ],
   "source": [
    "tz = mp_data[\"qrtend_TAU\"]== 0\n",
    "tp = mp_data[\"qrtend_TAU\"]> 0\n",
    "tn = mp_data[\"qrtend_TAU\"] < 0\n",
    "\n",
    "\n",
    "#plt.hist(mp_data[\"QC_TAU_in\"], bins=10. ** np.arange(-40., -1))\n",
    "plt.hist(mp_data[\"QR_TAU_in\"][tz], bins=10. ** np.arange(-40., -1), alpha=0.4, label=\"dqr = 0\")\n",
    "plt.hist(mp_data[\"QR_TAU_in\"][tp], bins=10. ** np.arange(-40., -1), alpha=0.4, label=\"dqr > 0\")\n",
    "plt.hist(mp_data[\"QR_TAU_in\"][tn], bins=10. ** np.arange(-40., -1), alpha=0.4, label=\"dqr < 0\")\n",
    "\n",
    "plt.gca().set_xscale(\"log\")\n",
    "plt.xlabel(\"$q_r$ Input\")\n",
    "plt.ylabel(\"Frequency\")\n",
    "plt.legend()\n",
    "plt.savefig(\"qr_tendency_properties.png\")\n",
    "#plt.gca().set_yscale(\"log\")"
   ]
  },
  {
   "cell_type": "code",
   "execution_count": 69,
   "id": "overhead-domain",
   "metadata": {},
   "outputs": [
    {
     "data": {
      "image/png": "[encoded data removed]",
      "text/plain": [
       "<Figure size 432x288 with 1 Axes>"
      ]
     },
     "metadata": {
      "needs_background": "light"
     },
     "output_type": "display_data"
    }
   ],
   "source": [
    "tz = mp_data[\"qrtend_TAU\"]== 0\n",
    "tp = mp_data[\"qrtend_TAU\"]> 0\n",
    "tn = mp_data[\"qrtend_TAU\"] < 0\n",
    "\n",
    "\n",
    "#plt.hist(mp_data[\"QC_TAU_in\"], bins=10. ** np.arange(-40., -1))\n",
    "plt.hist(mp_data[\"NR_TAU_in\"][tz], bins=10. ** np.arange(-15., 10), alpha=0.4, label=\"dqr = 0\")\n",
    "plt.hist(mp_data[\"NR_TAU_in\"][tp], bins=10. ** np.arange(-15., 10), alpha=0.4, label=\"dqr > 0\")\n",
    "plt.hist(mp_data[\"NR_TAU_in\"][tn], bins=10. ** np.arange(-15., 10), alpha=0.4, label=\"dqr < 0\")\n",
    "\n",
    "plt.gca().set_xscale(\"log\")\n",
    "plt.xlabel(\"$N_r$ Input\")\n",
    "plt.ylabel(\"Frequency\")\n",
    "plt.legend()\n",
    "plt.savefig(\"nr_tendency_properties.png\")"
   ]
  },
  {
   "cell_type": "markdown",
   "id": "separate-shock",
   "metadata": {},
   "source": [
    "Test mass conservation (mass diff should be 0). A significant proportion of grid cells have mass conserved"
   ]
  },
  {
   "cell_type": "code",
   "execution_count": 64,
   "id": "grateful-modeling",
   "metadata": {},
   "outputs": [],
   "source": [
    "ix = (mp_data[\"tend_diff_TAU\"] == 0) & (mp_data[\"mass_diff_TAU\"] == 0) & np.all(mp_data[[\"QC_TAU_out\", \"QR_TAU_out\", \"NC_TAU_out\", \"NR_TAU_out\"]] >= 0, axis=1)\n",
    "mp_mass_data = mp_data.loc[ix].reset_index()"
   ]
  },
  {
   "cell_type": "code",
   "execution_count": 21,
   "id": "pleasant-blackberry",
   "metadata": {},
   "outputs": [
    {
     "data": {
      "text/plain": [
       "0.6506558402540694"
      ]
     },
     "execution_count": 21,
     "metadata": {},
     "output_type": "execute_result"
    }
   ],
   "source": [
    "mp_mass_data.shape[0] / mp_data.shape[0]"
   ]
  },
  {
   "cell_type": "code",
   "execution_count": 77,
   "id": "8aa09567-ecc4-41d8-bd9c-9857a3a5e04f",
   "metadata": {},
   "outputs": [],
   "source": [
    "mp_mass_data.loc[:, \"Q_mass_out\"] = mp_mass_data[[\"QC_TAU_out\", \"QR_TAU_out\"]].sum(axis=1)\n",
    "mp_mass_data.loc[:, \"Q_mass_in\"] = mp_mass_data[[\"QC_TAU_in\", \"QR_TAU_in\"]].sum(axis=1)\n",
    "mp_mass_data.loc[:, \"QR_prop_out\"] = mp_mass_data[\"QR_TAU_out\"] / mp_mass_data[\"Q_mass_in\"] "
   ]
  },
  {
   "cell_type": "code",
   "execution_count": 76,
   "id": "03a127f0-2360-4570-9639-a6daaf45ae43",
   "metadata": {},
   "outputs": [
    {
     "data": {
      "text/plain": [
       "0.0"
      ]
     },
     "execution_count": 76,
     "metadata": {},
     "output_type": "execute_result"
    }
   ],
   "source": [
    "np.min(mp_mass_data[\"Q_mass_in\"] - mp_mass_data[\"Q_mass_out\"])"
   ]
  },
  {
   "cell_type": "code",
   "execution_count": 81,
   "id": "bf7cee50-44b6-4e48-9664-616b82c68ab8",
   "metadata": {},
   "outputs": [
    {
     "data": {
      "text/plain": [
       "(array([ 955034.,   83014.,   71616.,   71588.,   76949.,   88458.,\n",
       "         174855.,  374447., 1399137., 1978383.]),\n",
       " array([8.122813e-31, 1.000000e-01, 2.000000e-01, 3.000000e-01,\n",
       "        4.000000e-01, 5.000000e-01, 6.000000e-01, 7.000000e-01,\n",
       "        8.000000e-01, 9.000000e-01, 1.000000e+00], dtype=float32),\n",
       " <BarContainer object of 10 artists>)"
      ]
     },
     "execution_count": 81,
     "metadata": {},
     "output_type": "execute_result"
    },
    {
     "data": {
      "image/png": "[encoded data removed]",
      "text/plain": [
       "<Figure size 432x288 with 1 Axes>"
      ]
     },
     "metadata": {
      "needs_background": "light"
     },
     "output_type": "display_data"
    }
   ],
   "source": [
    "plt.hist(mp_mass_data[\"QC_TAU_out\"] / mp_mass_data[\"Q_mass_out\"])"
   ]
  },
  {
   "cell_type": "code",
   "execution_count": 97,
   "id": "57195092-bfb1-4098-8659-4d3290abca2e",
   "metadata": {},
   "outputs": [
    {
     "data": {
      "image/png": "[encoded data removed]",
      "text/plain": [
       "<Figure size 432x288 with 1 Axes>"
      ]
     },
     "metadata": {
      "needs_background": "light"
     },
     "output_type": "display_data"
    }
   ],
   "source": [
    "plt.hist(np.log10(mp_mass_data[\"NR_TAU_out\"]) / np.log10(mp_mass_data[\"NR_TAU_in\"]), bins=50)\n",
    "plt.gca().set_yscale(\"log\")"
   ]
  },
  {
   "cell_type": "code",
   "execution_count": 98,
   "id": "1a232055-5c60-48c4-b30e-ebe447942acb",
   "metadata": {},
   "outputs": [
    {
     "data": {
      "image/png": "[encoded data removed]",
      "text/plain": [
       "<Figure size 432x288 with 1 Axes>"
      ]
     },
     "metadata": {
      "needs_background": "light"
     },
     "output_type": "display_data"
    }
   ],
   "source": [
    "plt.hist(np.log10(mp_mass_data[\"NC_TAU_out\"]) / np.log10(mp_mass_data[\"NC_TAU_in\"]), bins=50)\n",
    "plt.gca().set_yscale(\"log\")"
   ]
  },
  {
   "cell_type": "code",
   "execution_count": 96,
   "id": "d1fe0228-9330-4118-b89a-c01e1ed04597",
   "metadata": {},
   "outputs": [
    {
     "data": {
      "text/plain": [
       "Text(0, 0.5, 'NR out')"
      ]
     },
     "execution_count": 96,
     "metadata": {},
     "output_type": "execute_result"
    },
    {
     "data": {
      "image/png": "[encoded data removed]",
      "text/plain": [
       "<Figure size 432x288 with 1 Axes>"
      ]
     },
     "metadata": {
      "needs_background": "light"
     },
     "output_type": "display_data"
    }
   ],
   "source": [
    "_ = plt.hist2d(np.log10(mp_mass_data[\"NR_TAU_in\"]), np.log10(mp_mass_data[\"NR_TAU_out\"]), bins=30, cmin=1, norm=LogNorm())\n",
    "plt.xlabel(\"NR in\")\n",
    "plt.ylabel(\"NR out\")"
   ]
  },
  {
   "cell_type": "code",
   "execution_count": 72,
   "id": "7aee93a3-7e7e-4457-9a36-3731eba95a8d",
   "metadata": {},
   "outputs": [
    {
     "data": {
      "text/plain": [
       "(array([1978383., 1399137.,  374447.,  174855.,   88458.,   76949.,\n",
       "          71588.,   71616.,   83014.,  955034.]),\n",
       " array([0. , 0.1, 0.2, 0.3, 0.4, 0.5, 0.6, 0.7, 0.8, 0.9, 1. ],\n",
       "       dtype=float32),\n",
       " <BarContainer object of 10 artists>)"
      ]
     },
     "execution_count": 72,
     "metadata": {},
     "output_type": "execute_result"
    },
    {
     "data": {
      "image/png": "[encoded data removed]",
      "text/plain": [
       "<Figure size 432x288 with 1 Axes>"
      ]
     },
     "metadata": {
      "needs_background": "light"
     },
     "output_type": "display_data"
    }
   ],
   "source": [
    "plt.hist(mp_mass_data[\"QR_TAU_out\"] / mp_mass_data[\"Q_mass_out\"])"
   ]
  },
  {
   "cell_type": "code",
   "execution_count": 78,
   "id": "c2d9077f-b4cf-4f59-b0c0-aa3fba895792",
   "metadata": {},
   "outputs": [],
   "source": [
    "input_cols = [\"QC_TAU_in\", \"QR_TAU_in\", \"NC_TAU_in\", \"NR_TAU_in\", \"lcldm\", \"precip_frac\"]\n",
    "output_cols = [\"QR_prop_out\", \"NC_TAU_out\", \"NR_TAU_out\"]\n",
    "scale_in = MinMaxScaler()\n",
    "in_data = scale_in.fit_transform(np.log10(np.maximum(mp_mass_data[input_cols].values, 1e-38)))\n",
    "out_data_raw = mp_mass_data[output_cols].values\n",
    "out_data_log = np.log10(np.maximum(out_data_raw, 1e-38))"
   ]
  },
  {
   "cell_type": "code",
   "execution_count": 42,
   "id": "12c3e89d-2f63-4834-8747-a2019719e506",
   "metadata": {},
   "outputs": [
    {
     "data": {
      "text/plain": [
       "0.4885590669614941"
      ]
     },
     "execution_count": 42,
     "metadata": {},
     "output_type": "execute_result"
    }
   ],
   "source": [
    "(np.log10(1e-6) - np.log10(0.5e-5)) ** 2"
   ]
  },
  {
   "cell_type": "code",
   "execution_count": 91,
   "id": "3866191a-54e4-4e7e-a4b4-30eb7cc25245",
   "metadata": {},
   "outputs": [],
   "source": [
    "from tensorflow.experimental.numpy import log10 as tflog10\n",
    "def mass_loss(y_true_log, y_pred_log, scale_factor=2):\n",
    "    \n",
    "    y_true = 10 ** y_true_log\n",
    "    y_pred = 10 ** y_pred_log\n",
    "    mse_loss = tf.reduce_mean((y_true_log - y_pred_log) ** 2, axis=0)\n",
    "    mass_in_true_l = tflog10(tf.reduce_sum(y_true[:, 0:2], axis=1))\n",
    "    mass_out_pred_l = tflog10(tf.reduce_sum(y_pred[:, 2:4], axis=1))\n",
    "    mass_in_pred_l = tflog10(tf.reduce_sum(y_pred[:, 0:2], axis=1))\n",
    "\n",
    "    mass_diff_loss = tf.reduce_mean(tf.abs(mass_in_true_l - mass_out_pred_l))\n",
    "    mass_diff_loss += tf.reduce_mean(tf.abs(mass_in_true_l - mass_in_pred_l))\n",
    "    loss = tf.reduce_sum(mse_loss) + scale_factor * mass_diff_loss\n",
    "    loss = tf.reduce_sum(mse_loss)\n",
    "    return loss"
   ]
  },
  {
   "cell_type": "code",
   "execution_count": 23,
   "id": "a4294233-51fa-4a19-879a-fe231c70a9c5",
   "metadata": {},
   "outputs": [
    {
     "name": "stderr",
     "output_type": "stream",
     "text": [
      "2021-07-22 08:41:49.816475: I tensorflow/compiler/jit/xla_cpu_device.cc:41] Not creating XLA devices, tf_xla_enable_xla_devices not set\n",
      "2021-07-22 08:41:49.817626: I tensorflow/stream_executor/platform/default/dso_loader.cc:49] Successfully opened dynamic library libcuda.so.1\n",
      "2021-07-22 08:41:49.852588: E tensorflow/stream_executor/cuda/cuda_driver.cc:328] failed call to cuInit: CUDA_ERROR_NO_DEVICE: no CUDA-capable device is detected\n",
      "2021-07-22 08:41:49.852654: I tensorflow/stream_executor/cuda/cuda_diagnostics.cc:156] kernel driver does not appear to be running on this host (crhtc56): /proc/driver/nvidia/version does not exist\n",
      "2021-07-22 08:41:49.866781: I tensorflow/core/platform/cpu_feature_guard.cc:142] This TensorFlow binary is optimized with oneAPI Deep Neural Network Library (oneDNN) to use the following CPU instructions in performance-critical operations:  AVX512F\n",
      "To enable them in other operations, rebuild TensorFlow with the appropriate compiler flags.\n",
      "2021-07-22 08:41:49.867230: I tensorflow/compiler/jit/xla_gpu_device.cc:99] Not creating XLA devices, tf_xla_enable_xla_devices not set\n"
     ]
    }
   ],
   "source": [
    "mod = Sequential()\n",
    "mod.add(Dense(64, input_shape=(len(input_cols),)))\n",
    "mod.add(Activation(\"relu\"))\n",
    "mod.add(Dense(len(output_cols)))"
   ]
  },
  {
   "cell_type": "code",
   "execution_count": 36,
   "id": "84d4fd6a-12c0-4369-ba18-f7914f9c2190",
   "metadata": {},
   "outputs": [
    {
     "name": "stdout",
     "output_type": "stream",
     "text": [
      "Epoch 1/30\n",
      "5150/5150 [==============================] - 3s 605us/step - loss: 0.0429\n",
      "Epoch 2/30\n",
      "5150/5150 [==============================] - 3s 600us/step - loss: 0.0426\n",
      "Epoch 3/30\n",
      "5150/5150 [==============================] - 3s 610us/step - loss: 0.0421\n",
      "Epoch 4/30\n",
      "5150/5150 [==============================] - 3s 604us/step - loss: 0.0418\n",
      "Epoch 5/30\n",
      "5150/5150 [==============================] - 3s 603us/step - loss: 0.0416\n",
      "Epoch 6/30\n",
      "5150/5150 [==============================] - 3s 600us/step - loss: 0.0411\n",
      "Epoch 7/30\n",
      "5150/5150 [==============================] - 3s 607us/step - loss: 0.0411\n",
      "Epoch 8/30\n",
      "5150/5150 [==============================] - 3s 619us/step - loss: 0.0410\n",
      "Epoch 9/30\n",
      "5150/5150 [==============================] - 3s 613us/step - loss: 0.0406\n",
      "Epoch 10/30\n",
      "5150/5150 [==============================] - 3s 599us/step - loss: 0.0402\n",
      "Epoch 11/30\n",
      "5150/5150 [==============================] - 3s 609us/step - loss: 0.0401\n",
      "Epoch 12/30\n",
      "5150/5150 [==============================] - 3s 603us/step - loss: 0.0400\n",
      "Epoch 13/30\n",
      "5150/5150 [==============================] - 3s 624us/step - loss: 0.0398\n",
      "Epoch 14/30\n",
      "5150/5150 [==============================] - 3s 614us/step - loss: 0.0394\n",
      "Epoch 15/30\n",
      "5150/5150 [==============================] - 3s 599us/step - loss: 0.0391\n",
      "Epoch 16/30\n",
      "5150/5150 [==============================] - 3s 600us/step - loss: 0.0388\n",
      "Epoch 17/30\n",
      "5150/5150 [==============================] - 3s 600us/step - loss: 0.0391\n",
      "Epoch 18/30\n",
      "5150/5150 [==============================] - 3s 620us/step - loss: 0.0385\n",
      "Epoch 19/30\n",
      "5150/5150 [==============================] - 3s 611us/step - loss: 0.0384\n",
      "Epoch 20/30\n",
      "5150/5150 [==============================] - 3s 607us/step - loss: 0.0384\n",
      "Epoch 21/30\n",
      "5150/5150 [==============================] - 3s 612us/step - loss: 0.0379\n",
      "Epoch 22/30\n",
      "5150/5150 [==============================] - 3s 611us/step - loss: 0.0380\n",
      "Epoch 23/30\n",
      "5150/5150 [==============================] - 3s 609us/step - loss: 0.0382\n",
      "Epoch 24/30\n",
      "5150/5150 [==============================] - 3s 611us/step - loss: 0.0374\n",
      "Epoch 25/30\n",
      "5150/5150 [==============================] - 3s 610us/step - loss: 0.0373\n",
      "Epoch 26/30\n",
      "5150/5150 [==============================] - 3s 605us/step - loss: 0.0372\n",
      "Epoch 27/30\n",
      "5150/5150 [==============================] - 3s 613us/step - loss: 0.0371\n",
      "Epoch 28/30\n",
      "5150/5150 [==============================] - 3s 617us/step - loss: 0.0367\n",
      "Epoch 29/30\n",
      "5150/5150 [==============================] - 3s 602us/step - loss: 0.0368\n",
      "Epoch 30/30\n",
      "5150/5150 [==============================] - 3s 599us/step - loss: 0.0369\n"
     ]
    },
    {
     "data": {
      "text/plain": [
       "<tensorflow.python.keras.callbacks.History at 0x2b8ce3aa9c10>"
      ]
     },
     "execution_count": 36,
     "metadata": {},
     "output_type": "execute_result"
    }
   ],
   "source": [
    "mod.compile(loss=\"mse\", optimizer=tf.keras.optimizers.Adam(learning_rate=5e-5))\n",
    "mod.fit(in_data, out_data_log, epochs=30, batch_size=1024, verbose=1)"
   ]
  },
  {
   "cell_type": "code",
   "execution_count": 25,
   "id": "068c00fa-7bee-4f82-a907-142ed8f86f61",
   "metadata": {},
   "outputs": [
    {
     "name": "stdout",
     "output_type": "stream",
     "text": [
      "<tensorflow.python.keras.callbacks.History object at 0x2b8ce19ea190>\n"
     ]
    }
   ],
   "source": [
    "hist = _\n",
    "print(hist)"
   ]
  },
  {
   "cell_type": "code",
   "execution_count": 30,
   "id": "4c770d96-0f57-460b-be68-d9fe1c3e5d7c",
   "metadata": {},
   "outputs": [
    {
     "data": {
      "text/plain": [
       "[<matplotlib.lines.Line2D at 0x2b8ce2bb52b0>]"
      ]
     },
     "execution_count": 30,
     "metadata": {},
     "output_type": "execute_result"
    },
    {
     "data": {
      "image/png": "[encoded data removed]",
      "text/plain": [
       "<Figure size 432x288 with 1 Axes>"
      ]
     },
     "metadata": {
      "needs_background": "light"
     },
     "output_type": "display_data"
    }
   ],
   "source": [
    "plt.plot(np.log10(hist.history[\"loss\"]), 'ko-')"
   ]
  },
  {
   "cell_type": "code",
   "execution_count": 64,
   "id": "minus-madrid",
   "metadata": {},
   "outputs": [
    {
     "name": "stdout",
     "output_type": "stream",
     "text": [
      "Epoch 0\n"
     ]
    },
    {
     "ename": "KeyboardInterrupt",
     "evalue": "",
     "output_type": "error",
     "traceback": [
      "\u001b[0;31m---------------------------------------------------------------------------\u001b[0m",
      "\u001b[0;31mKeyboardInterrupt\u001b[0m                         Traceback (most recent call last)",
      "\u001b[0;32m<ipython-input-64-60a323fbe76e>\u001b[0m in \u001b[0;36m<module>\u001b[0;34m\u001b[0m\n\u001b[1;32m      5\u001b[0m     \u001b[0mtrain_dataset\u001b[0m \u001b[0;34m=\u001b[0m \u001b[0mtrain_dataset\u001b[0m\u001b[0;34m.\u001b[0m\u001b[0mshuffle\u001b[0m\u001b[0;34m(\u001b[0m\u001b[0mbuffer_size\u001b[0m\u001b[0;34m=\u001b[0m\u001b[0;36m4096\u001b[0m\u001b[0;34m)\u001b[0m\u001b[0;34m.\u001b[0m\u001b[0mbatch\u001b[0m\u001b[0;34m(\u001b[0m\u001b[0;36m4096\u001b[0m\u001b[0;34m)\u001b[0m\u001b[0;34m\u001b[0m\u001b[0;34m\u001b[0m\u001b[0m\n\u001b[1;32m      6\u001b[0m     \u001b[0mprint\u001b[0m\u001b[0;34m(\u001b[0m\u001b[0;34m\"Epoch\"\u001b[0m\u001b[0;34m,\u001b[0m \u001b[0mepoch\u001b[0m\u001b[0;34m)\u001b[0m\u001b[0;34m\u001b[0m\u001b[0;34m\u001b[0m\u001b[0m\n\u001b[0;32m----> 7\u001b[0;31m     \u001b[0;32mfor\u001b[0m \u001b[0mstep\u001b[0m\u001b[0;34m,\u001b[0m \u001b[0;34m(\u001b[0m\u001b[0mx_batch_train\u001b[0m\u001b[0;34m,\u001b[0m \u001b[0my_batch_train\u001b[0m\u001b[0;34m)\u001b[0m \u001b[0;32min\u001b[0m \u001b[0menumerate\u001b[0m\u001b[0;34m(\u001b[0m\u001b[0mtrain_dataset\u001b[0m\u001b[0;34m)\u001b[0m\u001b[0;34m:\u001b[0m\u001b[0;34m\u001b[0m\u001b[0;34m\u001b[0m\u001b[0m\n\u001b[0m\u001b[1;32m      8\u001b[0m         \u001b[0;32mwith\u001b[0m \u001b[0mtf\u001b[0m\u001b[0;34m.\u001b[0m\u001b[0mGradientTape\u001b[0m\u001b[0;34m(\u001b[0m\u001b[0;34m)\u001b[0m \u001b[0;32mas\u001b[0m \u001b[0mtape\u001b[0m\u001b[0;34m:\u001b[0m\u001b[0;34m\u001b[0m\u001b[0;34m\u001b[0m\u001b[0m\n\u001b[1;32m      9\u001b[0m             \u001b[0mouts\u001b[0m \u001b[0;34m=\u001b[0m \u001b[0mmod\u001b[0m\u001b[0;34m(\u001b[0m\u001b[0mx_batch_train\u001b[0m\u001b[0;34m)\u001b[0m\u001b[0;34m\u001b[0m\u001b[0;34m\u001b[0m\u001b[0m\n",
      "\u001b[0;32m~/miniconda3/envs/marbleri/lib/python3.8/site-packages/tensorflow/python/data/ops/iterator_ops.py\u001b[0m in \u001b[0;36m__next__\u001b[0;34m(self)\u001b[0m\n\u001b[1;32m    745\u001b[0m   \u001b[0;32mdef\u001b[0m \u001b[0m__next__\u001b[0m\u001b[0;34m(\u001b[0m\u001b[0mself\u001b[0m\u001b[0;34m)\u001b[0m\u001b[0;34m:\u001b[0m\u001b[0;34m\u001b[0m\u001b[0;34m\u001b[0m\u001b[0m\n\u001b[1;32m    746\u001b[0m     \u001b[0;32mtry\u001b[0m\u001b[0;34m:\u001b[0m\u001b[0;34m\u001b[0m\u001b[0;34m\u001b[0m\u001b[0m\n\u001b[0;32m--> 747\u001b[0;31m       \u001b[0;32mreturn\u001b[0m \u001b[0mself\u001b[0m\u001b[0;34m.\u001b[0m\u001b[0m_next_internal\u001b[0m\u001b[0;34m(\u001b[0m\u001b[0;34m)\u001b[0m\u001b[0;34m\u001b[0m\u001b[0;34m\u001b[0m\u001b[0m\n\u001b[0m\u001b[1;32m    748\u001b[0m     \u001b[0;32mexcept\u001b[0m \u001b[0merrors\u001b[0m\u001b[0;34m.\u001b[0m\u001b[0mOutOfRangeError\u001b[0m\u001b[0;34m:\u001b[0m\u001b[0;34m\u001b[0m\u001b[0;34m\u001b[0m\u001b[0m\n\u001b[1;32m    749\u001b[0m       \u001b[0;32mraise\u001b[0m \u001b[0mStopIteration\u001b[0m\u001b[0;34m\u001b[0m\u001b[0;34m\u001b[0m\u001b[0m\n",
      "\u001b[0;32m~/miniconda3/envs/marbleri/lib/python3.8/site-packages/tensorflow/python/data/ops/iterator_ops.py\u001b[0m in \u001b[0;36m_next_internal\u001b[0;34m(self)\u001b[0m\n\u001b[1;32m    728\u001b[0m     \u001b[0;31m# to communicate that there is no more data to iterate over.\u001b[0m\u001b[0;34m\u001b[0m\u001b[0;34m\u001b[0m\u001b[0;34m\u001b[0m\u001b[0m\n\u001b[1;32m    729\u001b[0m     \u001b[0;32mwith\u001b[0m \u001b[0mcontext\u001b[0m\u001b[0;34m.\u001b[0m\u001b[0mexecution_mode\u001b[0m\u001b[0;34m(\u001b[0m\u001b[0mcontext\u001b[0m\u001b[0;34m.\u001b[0m\u001b[0mSYNC\u001b[0m\u001b[0;34m)\u001b[0m\u001b[0;34m:\u001b[0m\u001b[0;34m\u001b[0m\u001b[0;34m\u001b[0m\u001b[0m\n\u001b[0;32m--> 730\u001b[0;31m       ret = gen_dataset_ops.iterator_get_next(\n\u001b[0m\u001b[1;32m    731\u001b[0m           \u001b[0mself\u001b[0m\u001b[0;34m.\u001b[0m\u001b[0m_iterator_resource\u001b[0m\u001b[0;34m,\u001b[0m\u001b[0;34m\u001b[0m\u001b[0;34m\u001b[0m\u001b[0m\n\u001b[1;32m    732\u001b[0m           \u001b[0moutput_types\u001b[0m\u001b[0;34m=\u001b[0m\u001b[0mself\u001b[0m\u001b[0;34m.\u001b[0m\u001b[0m_flat_output_types\u001b[0m\u001b[0;34m,\u001b[0m\u001b[0;34m\u001b[0m\u001b[0;34m\u001b[0m\u001b[0m\n",
      "\u001b[0;32m~/miniconda3/envs/marbleri/lib/python3.8/site-packages/tensorflow/python/ops/gen_dataset_ops.py\u001b[0m in \u001b[0;36miterator_get_next\u001b[0;34m(iterator, output_types, output_shapes, name)\u001b[0m\n\u001b[1;32m   2572\u001b[0m   \u001b[0;32mif\u001b[0m \u001b[0mtld\u001b[0m\u001b[0;34m.\u001b[0m\u001b[0mis_eager\u001b[0m\u001b[0;34m:\u001b[0m\u001b[0;34m\u001b[0m\u001b[0;34m\u001b[0m\u001b[0m\n\u001b[1;32m   2573\u001b[0m     \u001b[0;32mtry\u001b[0m\u001b[0;34m:\u001b[0m\u001b[0;34m\u001b[0m\u001b[0;34m\u001b[0m\u001b[0m\n\u001b[0;32m-> 2574\u001b[0;31m       _result = pywrap_tfe.TFE_Py_FastPathExecute(\n\u001b[0m\u001b[1;32m   2575\u001b[0m         \u001b[0m_ctx\u001b[0m\u001b[0;34m,\u001b[0m \u001b[0;34m\"IteratorGetNext\"\u001b[0m\u001b[0;34m,\u001b[0m \u001b[0mname\u001b[0m\u001b[0;34m,\u001b[0m \u001b[0miterator\u001b[0m\u001b[0;34m,\u001b[0m \u001b[0;34m\"output_types\"\u001b[0m\u001b[0;34m,\u001b[0m \u001b[0moutput_types\u001b[0m\u001b[0;34m,\u001b[0m\u001b[0;34m\u001b[0m\u001b[0;34m\u001b[0m\u001b[0m\n\u001b[1;32m   2576\u001b[0m         \"output_shapes\", output_shapes)\n",
      "\u001b[0;31mKeyboardInterrupt\u001b[0m: "
     ]
    }
   ],
   "source": [
    "# Slow manual training loop. Only use for debugging\n",
    "\n",
    "optimizer = tf.keras.optimizers.Adam(learning_rate=1e-4)\n",
    "train_dataset = tf.data.Dataset.from_tensor_slices((in_data.astype(\"float32\"), \n",
    "                                                    out_data_log.astype(\"float32\")))\n",
    "for epoch in range(30):\n",
    "    train_dataset = train_dataset.shuffle(buffer_size=4096).batch(4096)\n",
    "    print(\"Epoch\", epoch)\n",
    "    for step, (x_batch_train, y_batch_train) in enumerate(train_dataset):\n",
    "        with tf.GradientTape() as tape:\n",
    "            outs = mod(x_batch_train)\n",
    "            loss_val = mass_loss(y_batch_train, outs)\n",
    "        grads = tape.gradient(loss_val, mod.trainable_weights)\n",
    "        optimizer.apply_gradients(zip(grads, mod.trainable_weights))\n",
    "    print(loss_val)\n"
   ]
  },
  {
   "cell_type": "code",
   "execution_count": 32,
   "id": "tender-myanmar",
   "metadata": {},
   "outputs": [],
   "source": [
    "mp_test_data = pd.read_parquet(mp_files[600])\n",
    "dt = 60 * 30 #minutes\n",
    "for var in [\"QC\", \"QR\", \"NC\", \"NR\"]:\n",
    "    mp_test_data[var + \"_TAU_out\"] = (mp_test_data[var + \"_TAU_in\"] +  mp_test_data[var.lower() + \"tend_TAU\"] * dt)\n",
    "    mp_test_data[var + \"_MG2_out\"] = (mp_test_data[var + \"_TAU_in\"] +  mp_test_data[var.lower() + \"tend_MG2\"] * dt)\n",
    "mp_test_data[\"tend_diff_TAU\"] = (mp_test_data[\"qctend_TAU\"] + mp_test_data[\"qrtend_TAU\"])\n",
    "mp_test_data[\"mass_diff_TAU\"] = (mp_test_data[\"QC_TAU_out\"] + mp_test_data[\"QR_TAU_out\"]) - (mp_test_data[\"QC_TAU_in\"] + mp_test_data[\"QR_TAU_in\"])\n",
    "\n",
    "ixt = (mp_test_data[\"tend_diff_TAU\"] == 0) & (mp_test_data[\"mass_diff_TAU\"] == 0) & \\\n",
    "    np.all(mp_test_data[[\"QC_TAU_out\", \"QR_TAU_out\", \"NC_TAU_out\", \"NR_TAU_out\"]] >= 0, axis=1)\n",
    "mp_test_mass_data = mp_test_data.loc[ixt]\n",
    "\n",
    "in_test_data = scale_in.transform(np.log10(np.maximum(mp_test_mass_data[input_cols].values, 1e-38)))\n",
    "out_test_data = np.log10(np.maximum(mp_test_mass_data[output_cols].values, 1e-38))"
   ]
  },
  {
   "cell_type": "code",
   "execution_count": 37,
   "id": "closing-george",
   "metadata": {},
   "outputs": [],
   "source": [
    "\n",
    "mod_preds = mod.predict(in_test_data, batch_size=1024)"
   ]
  },
  {
   "cell_type": "code",
   "execution_count": 38,
   "id": "15cc86e1-c627-4831-8917-a035f44300ed",
   "metadata": {},
   "outputs": [
    {
     "name": "stdout",
     "output_type": "stream",
     "text": [
      "QR_TAU_out 0.9994522781598787\n",
      "NC_TAU_out 0.9998619349764142\n",
      "NR_TAU_out 0.9992522874186783\n"
     ]
    }
   ],
   "source": [
    "from sklearn.metrics import r2_score\n",
    "for i in range(3):\n",
    "    print(output_cols[i], r2_score(out_test_data[:, i], mod_preds[:, i]))"
   ]
  },
  {
   "cell_type": "code",
   "execution_count": 39,
   "id": "5f9fe4f2-6dfa-43f8-a003-ee7e0ef5082b",
   "metadata": {},
   "outputs": [
    {
     "data": {
      "text/plain": [
       "-38.158497"
      ]
     },
     "execution_count": 39,
     "metadata": {},
     "output_type": "execute_result"
    }
   ],
   "source": [
    "mod_preds[:, 0].min()"
   ]
  },
  {
   "cell_type": "code",
   "execution_count": 44,
   "id": "e4cffb96-a1e5-4a62-a56b-781a4ea60064",
   "metadata": {},
   "outputs": [
    {
     "data": {
      "text/plain": [
       "(array([2.2000e+01, 2.2000e+01, 4.6000e+01, 3.2400e+02, 6.0800e+02,\n",
       "        6.5600e+02, 1.0560e+03, 2.3270e+03, 4.2190e+03, 3.8980e+03,\n",
       "        5.1820e+03, 2.0198e+04, 4.9370e+03, 6.2900e+03, 5.8220e+03,\n",
       "        7.9120e+03, 5.0100e+02, 5.8500e+02, 9.4800e+02, 1.5520e+03,\n",
       "        3.0780e+03, 4.0720e+03, 3.4110e+03, 2.0130e+03, 2.2790e+03,\n",
       "        2.1090e+03, 2.0270e+03, 2.0150e+03, 1.7080e+03, 1.4440e+03,\n",
       "        1.5130e+03, 1.7870e+03, 1.9370e+03, 1.9740e+03, 2.1540e+03,\n",
       "        2.4560e+03, 2.9160e+03, 3.3560e+03, 4.0720e+03, 4.9710e+03,\n",
       "        6.2810e+03, 7.3860e+03, 6.6220e+03, 2.9980e+03, 5.6940e+03,\n",
       "        1.1057e+04, 1.7773e+04, 2.7369e+04, 3.7670e+04, 1.2740e+04]),\n",
       " array([-37.89175  , -37.198036 , -36.50432  , -35.810604 , -35.11689  ,\n",
       "        -34.423172 , -33.729458 , -33.035744 , -32.342026 , -31.648312 ,\n",
       "        -30.954596 , -30.26088  , -29.567165 , -28.87345  , -28.179733 ,\n",
       "        -27.48602  , -26.792303 , -26.098587 , -25.404873 , -24.711157 ,\n",
       "        -24.01744  , -23.323727 , -22.63001  , -21.936295 , -21.242579 ,\n",
       "        -20.548864 , -19.855148 , -19.161432 , -18.467718 , -17.774002 ,\n",
       "        -17.080286 , -16.386572 , -15.692856 , -14.99914  , -14.305425 ,\n",
       "        -13.61171  , -12.917994 , -12.224278 , -11.530563 , -10.836847 ,\n",
       "        -10.143132 ,  -9.449416 ,  -8.755701 ,  -8.061986 ,  -7.3682704,\n",
       "         -6.674555 ,  -5.9808393,  -5.2871237,  -4.5934086,  -3.899693 ,\n",
       "         -3.2059774], dtype=float32),\n",
       " <BarContainer object of 50 artists>)"
      ]
     },
     "execution_count": 44,
     "metadata": {},
     "output_type": "execute_result"
    },
    {
     "data": {
      "image/png": "[encoded data removed]",
      "text/plain": [
       "<Figure size 432x288 with 1 Axes>"
      ]
     },
     "metadata": {
      "needs_background": "light"
     },
     "output_type": "display_data"
    }
   ],
   "source": [
    "plt.hist(np.log10(mp_test_mass_data[[\"QC_TAU_in\", \"QR_TAU_in\"]].sum(axis=1)), bins=50)"
   ]
  },
  {
   "cell_type": "code",
   "execution_count": 46,
   "id": "88412eda-b362-487a-b463-61c041a10e39",
   "metadata": {},
   "outputs": [
    {
     "data": {
      "text/plain": [
       "(array([  998.,   324.,   889.,  1507.,  4772.,  7081., 24750.,  9481.,\n",
       "        13289.,  2799.,  1718.,  3806.,  9327.,  8199.,  1766.,  2016.,\n",
       "         2278.,  2546.,  3696.,  4510.,  4969.,  5815.,  7137., 10087.,\n",
       "        13274., 28819., 25120., 35019., 17915.,    80.]),\n",
       " array([-38.769226 , -37.55813  , -36.34703  , -35.135933 , -33.924835 ,\n",
       "        -32.713737 , -31.50264  , -30.291544 , -29.080446 , -27.869349 ,\n",
       "        -26.65825  , -25.447153 , -24.236055 , -23.024958 , -21.81386  ,\n",
       "        -20.602762 , -19.391665 , -18.180567 , -16.96947  , -15.758372 ,\n",
       "        -14.547275 , -13.336177 , -12.125079 , -10.913981 ,  -9.702885 ,\n",
       "         -8.491787 ,  -7.2806892,  -6.0695915,  -4.858494 ,  -3.6473963,\n",
       "         -2.4362988], dtype=float32),\n",
       " <BarContainer object of 30 artists>)"
      ]
     },
     "execution_count": 46,
     "metadata": {},
     "output_type": "execute_result"
    },
    {
     "data": {
      "image/png": "[encoded data removed]",
      "text/plain": [
       "<Figure size 432x288 with 1 Axes>"
      ]
     },
     "metadata": {
      "needs_background": "light"
     },
     "output_type": "display_data"
    }
   ],
   "source": [
    "plt.hist(mod_preds[:, 0], bins=30)"
   ]
  },
  {
   "cell_type": "code",
   "execution_count": 53,
   "id": "2733d5ad-ec28-49dd-b4e2-8b78ff12e954",
   "metadata": {},
   "outputs": [
    {
     "data": {
      "text/plain": [
       "(array([[9.8700e+02, 3.5000e+01,        nan,        nan,        nan,\n",
       "                nan,        nan,        nan,        nan,        nan],\n",
       "        [6.1000e+02, 1.1494e+04, 5.2000e+01,        nan,        nan,\n",
       "                nan,        nan,        nan,        nan,        nan],\n",
       "        [1.2300e+02, 1.5980e+03, 4.0619e+04, 8.9000e+01,        nan,\n",
       "                nan,        nan,        nan,        nan,        nan],\n",
       "        [6.4000e+01, 4.2000e+01, 6.3910e+03, 4.5740e+03, 4.2700e+02,\n",
       "                nan,        nan,        nan,        nan,        nan],\n",
       "        [9.8000e+01, 2.2000e+01, 1.6000e+02, 2.0380e+03, 1.2507e+04,\n",
       "         2.8000e+01,        nan,        nan,        nan,        nan],\n",
       "        [8.1000e+01, 2.1000e+01, 5.5000e+01, 9.6100e+02, 4.2430e+03,\n",
       "         3.9420e+03,        nan,        nan,        nan,        nan],\n",
       "        [7.9000e+01, 1.7000e+01, 6.1000e+01, 1.7400e+02, 8.3500e+02,\n",
       "         9.9400e+02, 7.2050e+03,        nan,        nan,        nan],\n",
       "        [1.0100e+02, 4.9000e+01, 8.9000e+01, 2.7500e+02, 7.5900e+02,\n",
       "         1.1090e+03, 3.8680e+03, 1.1521e+04,        nan,        nan],\n",
       "        [6.8000e+01, 8.2000e+01, 9.3000e+01, 2.1200e+02, 5.2100e+02,\n",
       "         7.6700e+02, 2.0980e+03, 1.0511e+04, 1.4629e+04,        nan],\n",
       "        [       nan,        nan,        nan,        nan,        nan,\n",
       "                nan, 4.0000e+00, 1.0070e+03, 5.2584e+04, 5.3014e+04]]),\n",
       " array([-37.89175034, -34.42317305, -30.95459576, -27.48601847,\n",
       "        -24.01744118, -20.54886389, -17.0802866 , -13.61170931,\n",
       "        -10.14313202,  -6.67455473,  -3.20597744]),\n",
       " array([-38.76922607, -35.13593335, -31.50264063, -27.86934791,\n",
       "        -24.23605518, -20.60276246, -16.96946974, -13.33617702,\n",
       "         -9.70288429,  -6.06959157,  -2.43629885]),\n",
       " <matplotlib.collections.QuadMesh at 0x2b8cefbacc10>)"
      ]
     },
     "execution_count": 53,
     "metadata": {},
     "output_type": "execute_result"
    },
    {
     "data": {
      "image/png": "[encoded data removed]",
      "text/plain": [
       "<Figure size 432x288 with 1 Axes>"
      ]
     },
     "metadata": {
      "needs_background": "light"
     },
     "output_type": "display_data"
    }
   ],
   "source": [
    "plt.hist2d(np.log10(mp_test_mass_data[[\"QC_TAU_in\", \"QR_TAU_in\"]].sum(axis=1)), mod_preds[:, 0], cmin=1, norm=LogNorm())"
   ]
  },
  {
   "cell_type": "code",
   "execution_count": 57,
   "id": "09ea311c-ffe2-4f4f-97c3-1ed084bdd338",
   "metadata": {},
   "outputs": [
    {
     "data": {
      "text/plain": [
       "(array([[1.0080e+03, 1.4000e+01,        nan,        nan,        nan,\n",
       "                nan,        nan,        nan,        nan,        nan],\n",
       "        [1.0100e+02, 1.2046e+04, 9.0000e+00,        nan,        nan,\n",
       "                nan,        nan,        nan,        nan,        nan],\n",
       "        [1.2400e+02, 3.8000e+02, 4.1918e+04, 7.0000e+00,        nan,\n",
       "                nan,        nan,        nan,        nan,        nan],\n",
       "        [3.9300e+02, 5.3500e+02, 1.2420e+03, 9.3040e+03, 2.4000e+01,\n",
       "                nan,        nan,        nan,        nan,        nan],\n",
       "        [2.2390e+03, 1.2460e+03, 1.5360e+03, 2.6460e+03, 7.0650e+03,\n",
       "         1.2100e+02,        nan,        nan,        nan,        nan],\n",
       "        [7.9200e+02, 4.7700e+02, 5.2300e+02, 5.8600e+02, 7.8900e+02,\n",
       "         6.0980e+03, 3.8000e+01,        nan,        nan,        nan],\n",
       "        [9.0100e+02, 6.2300e+02, 6.6100e+02, 8.3600e+02, 1.2360e+03,\n",
       "         1.3800e+03, 3.6790e+03, 4.9000e+01,        nan,        nan],\n",
       "        [1.0840e+03, 7.4300e+02, 9.4700e+02, 1.1140e+03, 1.4500e+03,\n",
       "         1.4470e+03, 2.0560e+03, 8.7290e+03, 2.0100e+02,        nan],\n",
       "        [5.7200e+02, 5.9000e+02, 7.3000e+02, 1.1910e+03, 1.3710e+03,\n",
       "         1.0810e+03, 1.4810e+03, 2.6930e+03, 1.8835e+04, 4.3700e+02],\n",
       "        [       nan,        nan,        nan,        nan,        nan,\n",
       "                nan,        nan, 1.0400e+02, 7.3960e+03, 9.9109e+04]]),\n",
       " array([-37.89175034, -34.42317305, -30.95459576, -27.48601847,\n",
       "        -24.01744118, -20.54886389, -17.0802866 , -13.61170931,\n",
       "        -10.14313202,  -6.67455473,  -3.20597744]),\n",
       " array([-37.92977905, -34.46441793, -30.99905682, -27.5336957 ,\n",
       "        -24.06833458, -20.60297346, -17.13761234, -13.67225122,\n",
       "        -10.20689011,  -6.74152899,  -3.27616787]),\n",
       " <matplotlib.collections.QuadMesh at 0x2b8cefd3ed60>)"
      ]
     },
     "execution_count": 57,
     "metadata": {},
     "output_type": "execute_result"
    },
    {
     "data": {
      "image/png": "[encoded data removed]",
      "text/plain": [
       "<Figure size 432x288 with 1 Axes>"
      ]
     },
     "metadata": {
      "needs_background": "light"
     },
     "output_type": "display_data"
    }
   ],
   "source": [
    "plt.hist2d(np.log10(mp_test_mass_data[[\"QC_TAU_in\", \"QR_TAU_in\"]].sum(axis=1)), np.log10(np.maximum(mp_test_mass_data[\"QC_TAU_out\"], 1e-38)), cmin=1, norm=LogNorm())"
   ]
  },
  {
   "cell_type": "code",
   "execution_count": 59,
   "id": "manual-minimum",
   "metadata": {},
   "outputs": [
    {
     "data": {
      "image/png": "[encoded data removed]",
      "text/plain": [
       "<Figure size 720x720 with 8 Axes>"
      ]
     },
     "metadata": {
      "needs_background": "light"
     },
     "output_type": "display_data"
    }
   ],
   "source": [
    "plt.figure(figsize=(10, 10))\n",
    "for i in range(3):\n",
    "    plt.subplot(2, 2, i + 2)\n",
    "    plt.hist2d(mod_preds[:, i], out_test_data[:,i], cmin=1, norm=LogNorm(), bins=30)\n",
    "    plt.xlabel(\"Emulated\")\n",
    "    plt.ylabel(\"Actual\")\n",
    "    plt.title(\"log \" + output_cols[i].split(\"_\")[0])\n",
    "    diag = np.arange(out_test_data[:, i].min(), out_test_data[:, i].max(), 1)\n",
    "    plt.plot(diag, diag, 'k--', lw=1)\n",
    "    plt.colorbar()\n",
    "plt.subplot(2, 2, 1)\n",
    "qc_out = np.log10(np.maximum(mp_test_mass_data[[\"QC_TAU_in\", \"QR_TAU_in\"]].sum(axis=1) - 10 ** mod_preds[:, 0], 1e-38))\n",
    "_ = plt.hist2d(qc_out, np.log10(np.maximum(mp_test_mass_data[\"QC_TAU_out\"], 1e-38)), cmin=1, norm=LogNorm(), bins=30)\n",
    "plt.xlabel(\"Emulated\")\n",
    "plt.ylabel(\"Actual\")\n",
    "diag = np.arange(-38, -3, 1)\n",
    "plt.plot(diag, diag, 'k--', lw=1)\n",
    "plt.colorbar()\n",
    "plt.title(\"log QC\")\n",
    "plt.savefig(\"mass_hist_out.png\", dpi=200, bbox_inches=\"tight\")"
   ]
  },
  {
   "cell_type": "code",
   "execution_count": 46,
   "id": "5213ca2d-467a-4255-95f2-8e9de574caa0",
   "metadata": {},
   "outputs": [],
   "source": [
    "qmass_in = np.log10(np.maximum(mp_test_mass_data[[\"QC_TAU_in\", \"QR_TAU_in\"]].sum(axis=1), 1e-38))"
   ]
  },
  {
   "cell_type": "code",
   "execution_count": 85,
   "id": "60ce568a-e7a6-4248-a748-4134ce608d3c",
   "metadata": {},
   "outputs": [
    {
     "data": {
      "text/plain": [
       "(array([2.5200e+02, 3.1000e+01, 3.5000e+01, 5.1000e+01, 6.5000e+01,\n",
       "        6.1000e+01, 7.7000e+01, 1.1500e+02, 1.2700e+02, 1.8100e+02,\n",
       "        2.8600e+02, 4.1900e+02, 9.0400e+02, 1.2470e+03, 6.4400e+02,\n",
       "        8.0000e+02, 1.0270e+03, 1.3441e+04, 1.5858e+04, 1.6750e+04,\n",
       "        1.7771e+04, 1.9332e+04, 2.0478e+04, 2.3406e+04, 2.7231e+04,\n",
       "        3.1745e+04, 2.7063e+04, 2.9885e+04, 2.5208e+04, 5.0600e+02]),\n",
       " array([-38.        , -36.84019937, -35.68039874, -34.52059811,\n",
       "        -33.36079749, -32.20099686, -31.04119623, -29.8813956 ,\n",
       "        -28.72159497, -27.56179434, -26.40199372, -25.24219309,\n",
       "        -24.08239246, -22.92259183, -21.7627912 , -20.60299057,\n",
       "        -19.44318995, -18.28338932, -17.12358869, -15.96378806,\n",
       "        -14.80398743, -13.6441868 , -12.48438617, -11.32458555,\n",
       "        -10.16478492,  -9.00498429,  -7.84518366,  -6.68538303,\n",
       "         -5.5255824 ,  -4.36578178,  -3.20598115]),\n",
       " <BarContainer object of 30 artists>)"
      ]
     },
     "execution_count": 85,
     "metadata": {},
     "output_type": "execute_result"
    },
    {
     "data": {
      "image/png": "[encoded data removed]",
      "text/plain": [
       "<Figure size 432x288 with 1 Axes>"
      ]
     },
     "metadata": {
      "needs_background": "light"
     },
     "output_type": "display_data"
    }
   ],
   "source": [
    "plt.hist(np.log10(np.maximum(mp_test_mass_data[\"QR_TAU_in\"], 1e-38,)), bins=30)"
   ]
  },
  {
   "cell_type": "code",
   "execution_count": 28,
   "id": "constitutional-stable",
   "metadata": {},
   "outputs": [],
   "source": [
    "ds = xr.open_dataset(\"/glade/p/cisl/aiml/dgagne/TAU_run5_full/TAU_run5.cam.h1.0002-06-16-21600.nc\")"
   ]
  },
  {
   "cell_type": "code",
   "execution_count": 29,
   "id": "2a5d98d2-499a-41d2-9879-27a9b156168b",
   "metadata": {},
   "outputs": [],
   "source": [
    "ds[\"QT_TAU_in\"] = ds[\"QR_TAU_in\"] + ds[\"QC_TAU_in\"]"
   ]
  },
  {
   "cell_type": "code",
   "execution_count": 107,
   "id": "af85a6ce-87e0-4c6b-8b45-a86312a77a2e",
   "metadata": {},
   "outputs": [],
   "source": [
    "dt = 1\n",
    "ds[\"QR_TAU_out\"] = ds[\"QR_TAU_in\"] + dt * ds[\"qrtend_TAU\"]\n",
    "ds[\"QC_TAU_out\"] = ds[\"QC_TAU_in\"] + dt * ds[\"qctend_TAU\"]\n",
    "ds[\"NR_TAU_out\"] = ds[\"NR_TAU_in\"] + dt * ds[\"nrtend_TAU\"]\n",
    "ds[\"NC_TAU_out\"] = ds[\"NC_TAU_in\"] + dt * ds[\"nctend_TAU\"]"
   ]
  },
  {
   "cell_type": "code",
   "execution_count": 31,
   "id": "14492505-efef-4037-aa25-2c8561ff4b15",
   "metadata": {},
   "outputs": [],
   "source": [
    "ds[\"QT_TAU_out\"] = ds[\"QR_TAU_out\"] + ds[\"QC_TAU_out\"]"
   ]
  },
  {
   "cell_type": "code",
   "execution_count": 32,
   "id": "95d65fa5-5868-4219-897a-92acaa8bdc03",
   "metadata": {},
   "outputs": [],
   "source": [
    "ds[\"mass_diff\"] = ds[\"QT_TAU_in\"] - ds[\"QT_TAU_out\"]"
   ]
  },
  {
   "cell_type": "code",
   "execution_count": 33,
   "id": "664c4b99-bc8b-49ba-8db0-c729df10ea5a",
   "metadata": {},
   "outputs": [],
   "source": [
    "mass_diff_vals = ds[\"mass_diff\"].values.ravel()"
   ]
  },
  {
   "cell_type": "code",
   "execution_count": 108,
   "id": "b6817d98-3868-492e-8d06-1cc2d7f8b22d",
   "metadata": {},
   "outputs": [
    {
     "data": {
      "text/plain": [
       "0.9685929659188537"
      ]
     },
     "execution_count": 108,
     "metadata": {},
     "output_type": "execute_result"
    }
   ],
   "source": [
    "np.count_nonzero(np.logical_and(ds[\"QC_TAU_in\"] > 0, ds[\"QC_TAU_out\"] >= 0)) / np.count_nonzero(ds[\"QC_TAU_in\"] > 0)"
   ]
  },
  {
   "cell_type": "code",
   "execution_count": null,
   "id": "60597f01-0e0f-461b-acd8-92218f9c911a",
   "metadata": {},
   "outputs": [],
   "source": []
  },
  {
   "cell_type": "code",
   "execution_count": 35,
   "id": "a0923c64-d638-47c1-bd39-8dd072bffbe8",
   "metadata": {},
   "outputs": [
    {
     "data": {
      "text/plain": [
       "0.9771775422272859"
      ]
     },
     "execution_count": 35,
     "metadata": {},
     "output_type": "execute_result"
    }
   ],
   "source": [
    "np.count_nonzero(mass_diff_vals == 0) / mass_diff_vals.size"
   ]
  },
  {
   "cell_type": "code",
   "execution_count": 36,
   "id": "9a25e503-ffeb-4c36-9d94-79da0287c9f2",
   "metadata": {},
   "outputs": [
    {
     "data": {
      "text/plain": [
       "0.9322071405104649"
      ]
     },
     "execution_count": 36,
     "metadata": {},
     "output_type": "execute_result"
    }
   ],
   "source": [
    "np.count_nonzero(ds[\"qrtend_TAU\"] + ds[\"qctend_TAU\"] == 0) / mass_diff_vals.size"
   ]
  },
  {
   "cell_type": "code",
   "execution_count": 42,
   "id": "473fd5b2-e8e6-4bef-82f3-7ec0bc9bff81",
   "metadata": {},
   "outputs": [
    {
     "data": {
      "text/plain": [
       "1e-12"
      ]
     },
     "execution_count": 42,
     "metadata": {},
     "output_type": "execute_result"
    }
   ],
   "source": [
    "qr = ds[\"NR_TAU_in\"].values\n",
    "qr[qr > 0].min()"
   ]
  },
  {
   "cell_type": "code",
   "execution_count": 61,
   "id": "4bebd46c-b686-4330-99f2-2b3089fde83b",
   "metadata": {},
   "outputs": [
    {
     "data": {
      "text/plain": [
       "0.0007707572277681328"
      ]
     },
     "execution_count": 61,
     "metadata": {},
     "output_type": "execute_result"
    }
   ],
   "source": [
    "np.count_nonzero(np.logical_and((ds[\"QC_TAU_in\"] > 0), (ds[\"QR_TAU_in\"] == 0))) / ds[\"QC_TAU_in\"].size"
   ]
  },
  {
   "cell_type": "code",
   "execution_count": 37,
   "id": "14e9ae4a-17bb-41d6-9c16-48ffb4ce182b",
   "metadata": {},
   "outputs": [
    {
     "data": {
      "image/png": "[encoded data removed]",
      "text/plain": [
       "<Figure size 432x288 with 1 Axes>"
      ]
     },
     "metadata": {
      "needs_background": "light"
     },
     "output_type": "display_data"
    }
   ],
   "source": [
    "plt.hist(np.abs(mass_diff_vals), bins=30)\n",
    "plt.gca().set_yscale(\"log\")"
   ]
  },
  {
   "cell_type": "code",
   "execution_count": 38,
   "id": "3c998f77-20ea-42d2-989a-7e51e283b772",
   "metadata": {},
   "outputs": [
    {
     "data": {
      "text/plain": [
       "<matplotlib.colorbar.Colorbar at 0x2ade7b2ce760>"
      ]
     },
     "execution_count": 38,
     "metadata": {},
     "output_type": "execute_result"
    },
    {
     "data": {
      "image/png": "[encoded data removed]",
      "text/plain": [
       "<Figure size 432x288 with 2 Axes>"
      ]
     },
     "metadata": {
      "needs_background": "light"
     },
     "output_type": "display_data"
    }
   ],
   "source": [
    "plt.hist2d(ds[\"QT_TAU_in\"].values.ravel(), ds[\"QT_TAU_out\"].values.ravel(), bins=100, cmin=1, norm=LogNorm())\n",
    "plt.colorbar()"
   ]
  },
  {
   "cell_type": "code",
   "execution_count": 91,
   "id": "c3535b44-447d-43c1-a383-60e5287191f0",
   "metadata": {},
   "outputs": [],
   "source": [
    "qr_orig = np.log10(np.maximum(ds[\"QR_TAU_in\"].values.ravel(), 1e-38))"
   ]
  },
  {
   "cell_type": "code",
   "execution_count": 92,
   "id": "7611bbe8-dc08-4c54-8ab0-b908e7a93256",
   "metadata": {},
   "outputs": [
    {
     "data": {
      "text/plain": [
       "(array([ 755932.,  789581.,  465151.,  414486.,  182812.,  260760.,\n",
       "         485545.,  579836., 1532863., 1142724.,  368730.,  485590.,\n",
       "         786688., 1413532., 3168386.,  543705.,  615184.,  755780.,\n",
       "         740132.,  453738.,  445334.,  474292.,  522459.,  578050.,\n",
       "         644857.,  772637.,  935316., 1142088., 1455270., 1652457.,\n",
       "        1796926., 2289931.]),\n",
       " array([-37, -36, -35, -34, -33, -32, -31, -30, -29, -28, -27, -26, -25,\n",
       "        -24, -23, -22, -21, -20, -19, -18, -17, -16, -15, -14, -13, -12,\n",
       "        -11, -10,  -9,  -8,  -7,  -6,  -5]),\n",
       " <BarContainer object of 32 artists>)"
      ]
     },
     "execution_count": 92,
     "metadata": {},
     "output_type": "execute_result"
    },
    {
     "data": {
      "image/png": "[encoded data removed]",
      "text/plain": [
       "<Figure size 432x288 with 1 Axes>"
      ]
     },
     "metadata": {
      "needs_background": "light"
     },
     "output_type": "display_data"
    }
   ],
   "source": [
    "plt.hist(qr_orig, bins=np.arange(-37, -4, 1))"
   ]
  },
  {
   "cell_type": "code",
   "execution_count": 101,
   "id": "c42dab82-7665-4d9e-8161-6470b51a0eae",
   "metadata": {},
   "outputs": [],
   "source": [
    "\n",
    "input_cols = [\"QC_TAU_in\", \"QR_TAU_in\", \"NC_TAU_in\", \"NR_TAU_in\"]\n",
    "output_col = \"QR_TAU_in\"\n",
    "scale_in = MinMaxScaler()\n",
    "in_data = scale_in.fit_transform(np.log10(np.maximum(mp_mass_data[input_cols].values, 1e-38)))\n",
    "out_data_qr = mp_mass_data[output_col] / mp_mass_data[\"Q_mass_in\"]\n",
    "mp_test_data = pd.read_parquet(mp_files[500])\n",
    "dt = 60 * 30 #minutes\n",
    "for var in [\"QC\", \"QR\", \"NC\", \"NR\"]:\n",
    "    mp_test_data[var + \"_TAU_out\"] = (mp_test_data[var + \"_TAU_in\"] +  mp_test_data[var.lower() + \"tend_TAU\"] * dt)\n",
    "    mp_test_data[var + \"_MG2_out\"] = (mp_test_data[var + \"_TAU_in\"] +  mp_test_data[var.lower() + \"tend_MG2\"] * dt)\n",
    "mp_test_data[\"tend_diff_TAU\"] = (mp_test_data[\"qctend_TAU\"] + mp_test_data[\"qrtend_TAU\"])\n",
    "mp_test_data[\"mass_diff_TAU\"] = (mp_test_data[\"QC_TAU_out\"] + mp_test_data[\"QR_TAU_out\"]) - (mp_test_data[\"QC_TAU_in\"] + mp_test_data[\"QR_TAU_in\"])\n",
    "\n",
    "ixt = (mp_test_data[\"tend_diff_TAU\"] == 0) & (mp_test_data[\"mass_diff_TAU\"] == 0) & \\\n",
    "    np.all(mp_test_data[[\"QC_TAU_out\", \"QR_TAU_out\", \"NC_TAU_out\", \"NR_TAU_out\"]] >= 0, axis=1)\n",
    "mp_test_mass_data = mp_test_data.loc[ixt]\n",
    "\n",
    "in_test_data = scale_in.transform(np.log10(np.maximum(mp_test_mass_data[input_cols].values, 1e-38)))\n",
    "out_test_qr = mp_test_mass_data[output_col] / mp_test_mass_data[[\"QR_TAU_in\", \"QC_TAU_in\"]].sum(axis=1)"
   ]
  },
  {
   "cell_type": "code",
   "execution_count": 115,
   "id": "0c0ed741-0333-4d4a-93a1-4b1003e168a8",
   "metadata": {},
   "outputs": [
    {
     "name": "stdout",
     "output_type": "stream",
     "text": [
      "Model: \"model_2\"\n",
      "_________________________________________________________________\n",
      "Layer (type)                 Output Shape              Param #   \n",
      "=================================================================\n",
      "input (InputLayer)           [(None, 4)]               0         \n",
      "_________________________________________________________________\n",
      "dense_00 (Dense)             (None, 50)                250       \n",
      "_________________________________________________________________\n",
      "dense_01 (Dense)             (None, 1)                 51        \n",
      "=================================================================\n",
      "Total params: 301\n",
      "Trainable params: 301\n",
      "Non-trainable params: 0\n",
      "_________________________________________________________________\n",
      "Epoch 1/30\n",
      "20600/20600 [==============================] - 9s 394us/step - loss: 0.0649\n",
      "Epoch 2/30\n",
      "20600/20600 [==============================] - 8s 409us/step - loss: 0.0082\n",
      "Epoch 3/30\n",
      "20600/20600 [==============================] - 9s 433us/step - loss: 0.0036\n",
      "Epoch 4/30\n",
      "20600/20600 [==============================] - 8s 405us/step - loss: 0.0023\n",
      "Epoch 5/30\n",
      "20600/20600 [==============================] - 8s 398us/step - loss: 0.0019\n",
      "Epoch 6/30\n",
      "20600/20600 [==============================] - 8s 396us/step - loss: 0.0017\n",
      "Epoch 7/30\n",
      "20600/20600 [==============================] - 9s 421us/step - loss: 0.0020\n",
      "Epoch 8/30\n",
      "20600/20600 [==============================] - 9s 426us/step - loss: 0.0018\n",
      "Epoch 9/30\n",
      "20600/20600 [==============================] - 8s 400us/step - loss: 0.0017\n",
      "Epoch 10/30\n",
      "20600/20600 [==============================] - 8s 399us/step - loss: 0.0024\n",
      "Epoch 11/30\n",
      "20600/20600 [==============================] - 8s 399us/step - loss: 0.0015\n",
      "Epoch 12/30\n",
      "20600/20600 [==============================] - 9s 415us/step - loss: 0.0019\n",
      "Epoch 13/30\n",
      "20600/20600 [==============================] - 9s 428us/step - loss: 0.0016\n",
      "Epoch 14/30\n",
      "20600/20600 [==============================] - 8s 407us/step - loss: 0.0019\n",
      "Epoch 15/30\n",
      "20600/20600 [==============================] - 8s 399us/step - loss: 0.0019\n",
      "Epoch 16/30\n",
      "20600/20600 [==============================] - 8s 402us/step - loss: 0.0019\n",
      "Epoch 17/30\n",
      "20600/20600 [==============================] - 8s 398us/step - loss: 0.0019\n",
      "Epoch 18/30\n",
      "20600/20600 [==============================] - 9s 417us/step - loss: 0.0018\n",
      "Epoch 19/30\n",
      "20600/20600 [==============================] - 9s 427us/step - loss: 0.0016\n",
      "Epoch 20/30\n",
      "20600/20600 [==============================] - 8s 401us/step - loss: 0.0018\n",
      "Epoch 21/30\n",
      "20600/20600 [==============================] - 8s 400us/step - loss: 0.0017\n",
      "Epoch 22/30\n",
      "20600/20600 [==============================] - 8s 402us/step - loss: 0.0023\n",
      "Epoch 23/30\n",
      "20600/20600 [==============================] - 8s 399us/step - loss: 0.0017\n",
      "Epoch 24/30\n",
      "20600/20600 [==============================] - 8s 406us/step - loss: 0.0020\n",
      "Epoch 25/30\n",
      "20600/20600 [==============================] - 9s 433us/step - loss: 0.0014\n",
      "Epoch 26/30\n",
      "20600/20600 [==============================] - 8s 410us/step - loss: 0.0017\n",
      "Epoch 27/30\n",
      "20600/20600 [==============================] - 8s 400us/step - loss: 0.0011\n",
      "Epoch 28/30\n",
      "20600/20600 [==============================] - 8s 403us/step - loss: 0.0015\n",
      "Epoch 29/30\n",
      "20600/20600 [==============================] - 9s 415us/step - loss: 0.0015\n",
      "Epoch 30/30\n",
      "20600/20600 [==============================] - 8s 397us/step - loss: 0.0013\n"
     ]
    },
    {
     "data": {
      "text/plain": [
       "{'loss': [0.034966886043548584,\n",
       "  0.006516441237181425,\n",
       "  0.003220099024474621,\n",
       "  0.002167349448427558,\n",
       "  0.0018628084799274802,\n",
       "  0.00193233962636441,\n",
       "  0.0017003839602693915,\n",
       "  0.001910739578306675,\n",
       "  0.0016668267780914903,\n",
       "  0.0020154977682977915,\n",
       "  0.0017959446413442492,\n",
       "  0.0018784358398988843,\n",
       "  0.0015716400230303407,\n",
       "  0.0018877763068303466,\n",
       "  0.0019181394018232822,\n",
       "  0.0017480113310739398,\n",
       "  0.001949080964550376,\n",
       "  0.0019530062563717365,\n",
       "  0.0016390159726142883,\n",
       "  0.001882614684291184,\n",
       "  0.0016736369580030441,\n",
       "  0.001955358311533928,\n",
       "  0.001902226940728724,\n",
       "  0.0018447514157742262,\n",
       "  0.0013804268091917038,\n",
       "  0.0017426741542294621,\n",
       "  0.001199300866574049,\n",
       "  0.001354888896457851,\n",
       "  0.0014443148393183947,\n",
       "  0.0012432235525920987]}"
      ]
     },
     "execution_count": 115,
     "metadata": {},
     "output_type": "execute_result"
    }
   ],
   "source": [
    "dnn = DenseNeuralNetwork(hidden_layers=1, hidden_neurons=50, activation=\"tanh\", output_activation=\"sigmoid\", batch_size=256, epochs=30, verbose=1)\n",
    "dnn.fit(in_data, out_data_qr)\n"
   ]
  },
  {
   "cell_type": "code",
   "execution_count": 119,
   "id": "1d92d1c6-bcf2-46a9-abdc-42a3ba3d6517",
   "metadata": {},
   "outputs": [],
   "source": [
    "out_pred_qr_mix = dnn.predict(in_test_data)\n",
    "out_pred_qr_total = out_pred_qr_mix * mp_test_mass_data[[\"QR_TAU_in\", \"QC_TAU_in\"]].sum(axis=1)\n",
    "out_pred_qc_total = (1 - out_pred_qr_mix) * mp_test_mass_data[[\"QR_TAU_in\", \"QC_TAU_in\"]].sum(axis=1)"
   ]
  },
  {
   "cell_type": "code",
   "execution_count": 146,
   "id": "0fe83a0e-8a5a-41f4-979e-c8d44e870f41",
   "metadata": {},
   "outputs": [
    {
     "name": "stderr",
     "output_type": "stream",
     "text": [
      "/glade/work/dgagne/miniconda3/envs/mlmicro/lib/python3.8/site-packages/pandas/core/arraylike.py:364: RuntimeWarning: divide by zero encountered in log10\n",
      "  result = getattr(ufunc, method)(*inputs, **kwargs)\n"
     ]
    },
    {
     "data": {
      "text/plain": [
       "(-10.0, -2.0)"
      ]
     },
     "execution_count": 146,
     "metadata": {},
     "output_type": "execute_result"
    },
    {
     "data": {
      "image/png": "[encoded data removed]",
      "text/plain": [
       "<Figure size 864x360 with 2 Axes>"
      ]
     },
     "metadata": {
      "needs_background": "light"
     },
     "output_type": "display_data"
    }
   ],
   "source": [
    "ix = mp_test_mass_data[output_col] > 0\n",
    "plt.figure(figsize=(12, 5))\n",
    "plt.subplot(1, 2, 1)\n",
    "plt.hist2d(np.log10(out_pred_qr_total[ix]), np.log10(mp_test_mass_data.loc[ix, output_col]), cmin=1, bins=np.arange(-38, -2, 0.2), norm=LogNorm())\n",
    "plt.plot(np.arange(-38, -3, 0.2), np.arange(-38, -3, 0.2), 'k--')\n",
    "plt.xlabel(\"Predicted\")\n",
    "plt.ylabel(\"Observed\")\n",
    "plt.title(\"QR\")\n",
    "plt.xlim(-10, -2)\n",
    "plt.ylim(-10, -2)\n",
    "plt.subplot(1, 2, 2)\n",
    "ix = mp_test_mass_data[\"QC_TAU_out\"] > 0\n",
    "plt.hist2d(np.log10(out_pred_qc_total[ix]), np.log10(mp_test_mass_data.loc[ix, \"QC_TAU_out\"]), cmin=1, bins=np.arange(-38, -2, 0.2), norm=LogNorm())\n",
    "plt.plot(np.arange(-38, -3), np.arange(-38, -3), 'k--')\n",
    "plt.xlabel(\"Predicted\")\n",
    "plt.ylabel(\"Observed\")\n",
    "plt.title(\"QC\")\n",
    "plt.xlim(-10, -2)\n",
    "plt.ylim(-10, -2)"
   ]
  },
  {
   "cell_type": "code",
   "execution_count": 140,
   "id": "2e6ef1d6-ef86-4f62-aa20-6380c8064e81",
   "metadata": {},
   "outputs": [
    {
     "name": "stdout",
     "output_type": "stream",
     "text": [
      "Model: \"model_8\"\n",
      "_________________________________________________________________\n",
      "Layer (type)                 Output Shape              Param #   \n",
      "=================================================================\n",
      "input (InputLayer)           [(None, 4)]               0         \n",
      "_________________________________________________________________\n",
      "dense_00 (Dense)             (None, 100)               500       \n",
      "_________________________________________________________________\n",
      "dense_01 (Dense)             (None, 1)                 101       \n",
      "=================================================================\n",
      "Total params: 601\n",
      "Trainable params: 601\n",
      "Non-trainable params: 0\n",
      "_________________________________________________________________\n",
      "Epoch 1/40\n",
      "20600/20600 [==============================] - 10s 472us/step - loss: 2.7958\n",
      "Epoch 2/40\n",
      "20600/20600 [==============================] - 10s 472us/step - loss: 0.1609\n",
      "Epoch 3/40\n",
      "20600/20600 [==============================] - 10s 474us/step - loss: 0.1313\n",
      "Epoch 4/40\n",
      "20600/20600 [==============================] - 10s 472us/step - loss: 0.1148\n",
      "Epoch 5/40\n",
      "20600/20600 [==============================] - 10s 474us/step - loss: 0.1070\n",
      "Epoch 6/40\n",
      "20600/20600 [==============================] - 10s 476us/step - loss: 0.1009\n",
      "Epoch 7/40\n",
      "20600/20600 [==============================] - 10s 474us/step - loss: 0.0962\n",
      "Epoch 8/40\n",
      "20600/20600 [==============================] - 10s 474us/step - loss: 0.0915\n",
      "Epoch 9/40\n",
      "20600/20600 [==============================] - 10s 480us/step - loss: 0.0883\n",
      "Epoch 10/40\n",
      "20600/20600 [==============================] - 10s 477us/step - loss: 0.0862\n",
      "Epoch 11/40\n",
      "20600/20600 [==============================] - 10s 476us/step - loss: 0.0829\n",
      "Epoch 12/40\n",
      "20600/20600 [==============================] - 10s 476us/step - loss: 0.0809\n",
      "Epoch 13/40\n",
      "20600/20600 [==============================] - 10s 474us/step - loss: 0.0792\n",
      "Epoch 14/40\n",
      "20600/20600 [==============================] - 10s 473us/step - loss: 0.0785\n",
      "Epoch 15/40\n",
      "20600/20600 [==============================] - 10s 481us/step - loss: 0.0759\n",
      "Epoch 16/40\n",
      "20600/20600 [==============================] - 10s 472us/step - loss: 0.0755\n",
      "Epoch 17/40\n",
      "20600/20600 [==============================] - 10s 472us/step - loss: 0.0738\n",
      "Epoch 18/40\n",
      "20600/20600 [==============================] - 10s 474us/step - loss: 0.0723\n",
      "Epoch 19/40\n",
      "20600/20600 [==============================] - 10s 473us/step - loss: 0.0710\n",
      "Epoch 20/40\n",
      "20600/20600 [==============================] - 10s 472us/step - loss: 0.0698\n",
      "Epoch 21/40\n",
      "20600/20600 [==============================] - 10s 475us/step - loss: 0.0687\n",
      "Epoch 22/40\n",
      "20600/20600 [==============================] - 10s 475us/step - loss: 0.0678\n",
      "Epoch 23/40\n",
      "20600/20600 [==============================] - 10s 473us/step - loss: 0.0666\n",
      "Epoch 24/40\n",
      "20600/20600 [==============================] - 10s 475us/step - loss: 0.0655\n",
      "Epoch 25/40\n",
      "20600/20600 [==============================] - 10s 472us/step - loss: 0.0646\n",
      "Epoch 26/40\n",
      "20600/20600 [==============================] - 10s 472us/step - loss: 0.0631\n",
      "Epoch 27/40\n",
      "20600/20600 [==============================] - 10s 473us/step - loss: 0.0619\n",
      "Epoch 28/40\n",
      "20600/20600 [==============================] - 10s 472us/step - loss: 0.0609\n",
      "Epoch 29/40\n",
      "20600/20600 [==============================] - 10s 472us/step - loss: 0.0603\n",
      "Epoch 30/40\n",
      "20600/20600 [==============================] - 10s 475us/step - loss: 0.0597\n",
      "Epoch 31/40\n",
      "20600/20600 [==============================] - 10s 475us/step - loss: 0.0586\n",
      "Epoch 32/40\n",
      "20600/20600 [==============================] - 10s 474us/step - loss: 0.0580\n",
      "Epoch 33/40\n",
      "20600/20600 [==============================] - 10s 477us/step - loss: 0.0573\n",
      "Epoch 34/40\n",
      "20600/20600 [==============================] - 10s 475us/step - loss: 0.0563\n",
      "Epoch 35/40\n",
      "20600/20600 [==============================] - 10s 473us/step - loss: 0.0561\n",
      "Epoch 36/40\n",
      "20600/20600 [==============================] - 10s 473us/step - loss: 0.0558\n",
      "Epoch 37/40\n",
      "20600/20600 [==============================] - 10s 473us/step - loss: 0.0551\n",
      "Epoch 38/40\n",
      "20600/20600 [==============================] - 10s 472us/step - loss: 0.0544\n",
      "Epoch 39/40\n",
      "20600/20600 [==============================] - 10s 472us/step - loss: 0.0540\n",
      "Epoch 40/40\n",
      "20600/20600 [==============================] - 10s 477us/step - loss: 0.0534\n"
     ]
    },
    {
     "data": {
      "text/plain": [
       "{'loss': [0.7180818319320679,\n",
       "  0.15104366838932037,\n",
       "  0.126512810587883,\n",
       "  0.11311338096857071,\n",
       "  0.10539574176073074,\n",
       "  0.09973710030317307,\n",
       "  0.09485384821891785,\n",
       "  0.09099218249320984,\n",
       "  0.08779978007078171,\n",
       "  0.0850488543510437,\n",
       "  0.08277875185012817,\n",
       "  0.08081736415624619,\n",
       "  0.07911494374275208,\n",
       "  0.07754027098417282,\n",
       "  0.07607919722795486,\n",
       "  0.07474366575479507,\n",
       "  0.0734889805316925,\n",
       "  0.07214546948671341,\n",
       "  0.07101195305585861,\n",
       "  0.06977994740009308,\n",
       "  0.06871077418327332,\n",
       "  0.06766107678413391,\n",
       "  0.06646815687417984,\n",
       "  0.06529919058084488,\n",
       "  0.06414420157670975,\n",
       "  0.06297782063484192,\n",
       "  0.06193380430340767,\n",
       "  0.060999639332294464,\n",
       "  0.06004547327756882,\n",
       "  0.059301022440195084,\n",
       "  0.05848964676260948,\n",
       "  0.057822179049253464,\n",
       "  0.05715567618608475,\n",
       "  0.05652051046490669,\n",
       "  0.05587080866098404,\n",
       "  0.05543198809027672,\n",
       "  0.054805126041173935,\n",
       "  0.05431303381919861,\n",
       "  0.05380377545952797,\n",
       "  0.05334550887346268]}"
      ]
     },
     "execution_count": 140,
     "metadata": {},
     "output_type": "execute_result"
    }
   ],
   "source": [
    "dnn_nr = DenseNeuralNetwork(hidden_layers=1, hidden_neurons=100, activation=\"tanh\", output_activation=\"linear\", batch_size=256, epochs=40, \n",
    "                            l2_weight=0, verbose=1)\n",
    "dnn_nr.fit(in_data, np.log10(mp_mass_data[\"NR_TAU_out\"]))"
   ]
  },
  {
   "cell_type": "code",
   "execution_count": 141,
   "id": "a81f6aea-6e61-4a21-b769-2be54bc80d10",
   "metadata": {},
   "outputs": [],
   "source": [
    "out_pred_nr_mix = dnn_nr.predict(in_test_data)"
   ]
  },
  {
   "cell_type": "code",
   "execution_count": 142,
   "id": "1ef6dc09-9fc4-446a-a165-b09fca5eefdd",
   "metadata": {},
   "outputs": [
    {
     "data": {
      "text/plain": [
       "Text(0.5, 1.0, 'NR')"
      ]
     },
     "execution_count": 142,
     "metadata": {},
     "output_type": "execute_result"
    },
    {
     "data": {
      "image/png": "[encoded data removed]",
      "text/plain": [
       "<Figure size 432x288 with 1 Axes>"
      ]
     },
     "metadata": {
      "needs_background": "light"
     },
     "output_type": "display_data"
    }
   ],
   "source": [
    "plt.hist2d(out_pred_nr_mix, np.log10(mp_test_mass_data.loc[ix, \"NR_TAU_out\"]), cmin=1, bins=np.arange(-12, 10), norm=LogNorm())\n",
    "plt.plot(np.arange(-15, 7), np.arange(-15, 7), 'k--')\n",
    "plt.xlabel(\"Predicted\")\n",
    "plt.ylabel(\"Observed\")\n",
    "plt.title(\"NR\")"
   ]
  },
  {
   "cell_type": "code",
   "execution_count": 110,
   "id": "65fad6e0-250f-4a85-b400-ed898d90c9aa",
   "metadata": {},
   "outputs": [
    {
     "data": {
      "text/plain": [
       "0         3.587259e-23\n",
       "1         2.818454e-23\n",
       "2         1.609617e-20\n",
       "3         1.870836e-20\n",
       "4         3.559898e-20\n",
       "              ...     \n",
       "411512    9.715268e-07\n",
       "411513    9.715268e-07\n",
       "411514    9.715175e-07\n",
       "411515    9.715134e-07\n",
       "411516    9.715134e-07\n",
       "Name: QR_TAU_out, Length: 264443, dtype: float32"
      ]
     },
     "execution_count": 110,
     "metadata": {},
     "output_type": "execute_result"
    }
   ],
   "source": [
    "ix = mp_test_mass_data[output_col] > 0\n",
    "plt.hist2d(np.log10(out_pred_qr_total[ix]), np.log10(mp_test_mass_data.loc[ix, output_col]), cmin=1, bins=np.arange(-38, -2), norm=LogNorm())\n",
    "plt.plot(np.arange(-38, -3), np.arange(-38, -3), 'k--')"
   ]
  },
  {
   "cell_type": "markdown",
   "id": "d9684569-be05-427e-8b4c-0f4822c1c9f2",
   "metadata": {},
   "source": [
    "# Experiments to run\n",
    "1. Train neural net on qc/total mass vs qr / total mass and see how that affects the resulting error scores for qc and qr.\n",
    "2. Training multi-output model vs. single output models for qc/qr and nc and nr.\n",
    "3. Perform random search on NN architectures and calculate partial dependence plots on NN hyperparameters.\n",
    "4. Update Fortran code to support new neural network models."
   ]
  },
  {
   "cell_type": "code",
   "execution_count": null,
   "id": "f2588466-bd19-4988-ae63-76174917e2c0",
   "metadata": {},
   "outputs": [],
   "source": []
  }
 ],
 "metadata": {
  "kernelspec": {
   "display_name": "Python [conda env:miniconda3-mlmicro]",
   "language": "python",
   "name": "conda-env-miniconda3-mlmicro-py"
  },
  "language_info": {
   "codemirror_mode": {
    "name": "ipython",
    "version": 3
   },
   "file_extension": ".py",
   "mimetype": "text/x-python",
   "name": "python",
   "nbconvert_exporter": "python",
   "pygments_lexer": "ipython3",
   "version": "3.8.10"
  }
 },
 "nbformat": 4,
 "nbformat_minor": 5
}
