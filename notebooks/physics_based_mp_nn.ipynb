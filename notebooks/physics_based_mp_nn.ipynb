{
 "cells": [
  {
   "cell_type": "markdown",
   "id": "afraid-saudi",
   "metadata": {},
   "source": [
    "# Physics-informed microphysics neural network emulator\n",
    "\n",
    "David John Gagne\n",
    "\n",
    "The goal of this approach is to include more physical constraints and make the training easier for the microphysics emulator. \n",
    "\n",
    "The physics-informed neural network setup integrates the following components.\n",
    "\n",
    "1. Predict the updated microphysical terms rather than tendencies. The tendencies have very weird distributions that are hard for one neural network to fit. The original values on the other hand are all greater than 0, so it is easier to ensure that outputs are always greater than 0 this way.\n",
    "$y_{new} = y_{old} + y_{tend} dt$\n",
    "\n",
    "$dt=1800 \\text{ s}$\n",
    "\n",
    "2. Keep all inputs and outputs in log space for training ideally.\n",
    "\n",
    "3. Enforce mass conservation between cloud and rain. \n",
    "$ q_{ro} + q_{co} = q_{rn} + q_{cn}$"
   ]
  },
  {
   "cell_type": "code",
   "execution_count": 1,
   "id": "distinguished-rebate",
   "metadata": {},
   "outputs": [],
   "source": [
    "import pandas as pd\n",
    "import numpy as np\n",
    "import matplotlib.pyplot as plt\n",
    "from matplotlib.colors import LogNorm\n",
    "from glob import glob\n",
    "from os.path import join\n",
    "import xarray as xr\n",
    "import dask.dataframe as dd\n",
    "from tensorflow.keras.layers import Input, Dense, Activation\n",
    "from tensorflow.keras.models import Sequential\n",
    "from sklearn.preprocessing import StandardScaler, MinMaxScaler\n",
    "import tensorflow as tf\n",
    "%matplotlib inline"
   ]
  },
  {
   "cell_type": "code",
   "execution_count": 2,
   "id": "painted-campus",
   "metadata": {},
   "outputs": [],
   "source": [
    "mp_csv_path = \"/glade/p/cisl/aiml/dgagne/cam_mp_files_run5_full_csv/\"\n",
    "mp_csv_files = sorted(glob(join(mp_csv_path, \"*.csv\")))"
   ]
  },
  {
   "cell_type": "code",
   "execution_count": 3,
   "id": "corporate-mechanism",
   "metadata": {},
   "outputs": [],
   "source": [
    "mp_data = pd.concat([pd.read_csv(mp_csv_files[x]) for x in range(0, 400, 20)], ignore_index=True)"
   ]
  },
  {
   "cell_type": "code",
   "execution_count": 4,
   "id": "suspended-raising",
   "metadata": {},
   "outputs": [
    {
     "data": {
      "text/plain": [
       "Index(['Index', 'lat', 'lev', 'lon', 'P0', 'PS', 'depth', 'row', 'col', 'hyam',\n",
       "       'hybm', 'pressure', 'temperature', 'RHO_CLUBB_lev', 'RHO_CLUBB_top',\n",
       "       'RHO_CLUBB_bottom', 'QC_TAU_in', 'NC_TAU_in', 'QR_TAU_in', 'NR_TAU_in',\n",
       "       'lamc', 'lamr', 'lcldm', 'n0r', 'pgam', 'precip_frac', 'qctend_MG2',\n",
       "       'qctend_TAU', 'nctend_MG2', 'nctend_TAU', 'qrtend_MG2', 'qrtend_TAU',\n",
       "       'nrtend_MG2', 'nrtend_TAU', 'time'],\n",
       "      dtype='object')"
      ]
     },
     "execution_count": 4,
     "metadata": {},
     "output_type": "execute_result"
    }
   ],
   "source": [
    "mp_data.columns"
   ]
  },
  {
   "cell_type": "code",
   "execution_count": 5,
   "id": "accomplished-russell",
   "metadata": {},
   "outputs": [],
   "source": [
    "dt = 60 * 30 #minutes\n",
    "for var in [\"QC\", \"QR\", \"NC\", \"NR\"]:\n",
    "    mp_data[var + \"_TAU_out\"] = (mp_data[var + \"_TAU_in\"] +  mp_data[var.lower() + \"tend_TAU\"] * dt)\n",
    "    mp_data[var + \"_MG2_out\"] = (mp_data[var + \"_TAU_in\"] +  mp_data[var.lower() + \"tend_MG2\"] * dt)"
   ]
  },
  {
   "cell_type": "code",
   "execution_count": 6,
   "id": "cross-thunder",
   "metadata": {},
   "outputs": [],
   "source": [
    "mp_data[\"mass_diff_TAU\"] = (mp_data[\"QC_TAU_out\"] + mp_data[\"QR_TAU_out\"]) - (mp_data[\"QC_TAU_in\"] + mp_data[\"QR_TAU_in\"])\n",
    "mp_data[\"mass_diff_MG2\"] = (mp_data[\"QC_MG2_out\"] + mp_data[\"QR_MG2_out\"]) - (mp_data[\"QC_TAU_in\"] + mp_data[\"QR_TAU_in\"])"
   ]
  },
  {
   "cell_type": "code",
   "execution_count": 7,
   "id": "expired-frank",
   "metadata": {},
   "outputs": [],
   "source": [
    "mp_data[\"tend_diff_TAU\"] = (mp_data[\"qctend_TAU\"] + mp_data[\"qrtend_TAU\"])\n",
    "mp_data[\"tend_diff_MG2\"] = (mp_data[\"qctend_MG2\"] + mp_data[\"qrtend_MG2\"])"
   ]
  },
  {
   "cell_type": "code",
   "execution_count": 11,
   "id": "vocal-advice",
   "metadata": {},
   "outputs": [
    {
     "data": {
      "text/plain": [
       "0.5634467095451523"
      ]
     },
     "execution_count": 11,
     "metadata": {},
     "output_type": "execute_result"
    }
   ],
   "source": [
    "np.count_nonzero((mp_data[\"tend_diff_TAU\"] == 0) & (mp_data[\"mass_diff_TAU\"] == 0) & \n",
    "                 np.all(mp_data[[\"QC_TAU_out\", \"QR_TAU_out\", \"NC_TAU_out\", \"NR_TAU_out\"]] >= 0, axis=1)) / mp_data.shape[0]"
   ]
  },
  {
   "cell_type": "code",
   "execution_count": 10,
   "id": "liberal-influence",
   "metadata": {},
   "outputs": [
    {
     "data": {
      "image/png": "[encoded data removed]",
      "text/plain": [
       "<Figure size 432x288 with 1 Axes>"
      ]
     },
     "metadata": {
      "needs_background": "light"
     },
     "output_type": "display_data"
    }
   ],
   "source": [
    "tz = mp_data[\"qctend_TAU\"]== 0\n",
    "tp = mp_data[\"qctend_TAU\"]> 0\n",
    "tn = mp_data[\"qctend_TAU\"] < 0\n",
    "\n",
    "\n",
    "#plt.hist(mp_data[\"QC_TAU_in\"], bins=10. ** np.arange(-40., -1))\n",
    "plt.hist(mp_data[\"QC_TAU_in\"][tz], bins=10. ** np.arange(-40., -1), alpha=0.4, label=\"dqc = 0\")\n",
    "plt.hist(mp_data[\"QC_TAU_in\"][tp], bins=10. ** np.arange(-40., -1), alpha=0.4, label=\"dqc > 0\")\n",
    "plt.hist(mp_data[\"QC_TAU_in\"][tn], bins=10. ** np.arange(-40., -1), alpha=0.4, label=\"dqc < 0\")\n",
    "\n",
    "plt.gca().set_xscale(\"log\")\n",
    "plt.xlabel(\"$q_c$ Input\")\n",
    "plt.ylabel(\"Frequency\")\n",
    "plt.legend()\n",
    "plt.savefig(\"qc_tendency_properties.png\")\n",
    "#plt.gca().set_yscale(\"log\")"
   ]
  },
  {
   "cell_type": "code",
   "execution_count": null,
   "id": "union-occasions",
   "metadata": {},
   "outputs": [],
   "source": [
    "tz = mp_data[\"qrtend_TAU\"]== 0\n",
    "tp = mp_data[\"qrtend_TAU\"]> 0\n",
    "tn = mp_data[\"qrtend_TAU\"] < 0\n",
    "\n",
    "\n",
    "#plt.hist(mp_data[\"QC_TAU_in\"], bins=10. ** np.arange(-40., -1))\n",
    "plt.hist(mp_data[\"QR_TAU_in\"][tz], bins=10. ** np.arange(-40., -1), alpha=0.4, label=\"dqr = 0\")\n",
    "plt.hist(mp_data[\"QR_TAU_in\"][tp], bins=10. ** np.arange(-40., -1), alpha=0.4, label=\"dqr > 0\")\n",
    "plt.hist(mp_data[\"QR_TAU_in\"][tn], bins=10. ** np.arange(-40., -1), alpha=0.4, label=\"dqr < 0\")\n",
    "\n",
    "plt.gca().set_xscale(\"log\")\n",
    "plt.xlabel(\"$q_r$ Input\")\n",
    "plt.ylabel(\"Frequency\")\n",
    "plt.legend()\n",
    "plt.savefig(\"qr_tendency_properties.png\")\n",
    "#plt.gca().set_yscale(\"log\")"
   ]
  },
  {
   "cell_type": "code",
   "execution_count": null,
   "id": "overhead-domain",
   "metadata": {},
   "outputs": [],
   "source": [
    "tz = mp_data[\"qrtend_TAU\"]== 0\n",
    "tp = mp_data[\"qrtend_TAU\"]> 0\n",
    "tn = mp_data[\"qrtend_TAU\"] < 0\n",
    "\n",
    "\n",
    "#plt.hist(mp_data[\"QC_TAU_in\"], bins=10. ** np.arange(-40., -1))\n",
    "plt.hist(mp_data[\"NR_TAU_in\"][tz], bins=10. ** np.arange(-15., 10), alpha=0.4, label=\"dqr = 0\")\n",
    "plt.hist(mp_data[\"NR_TAU_in\"][tp], bins=10. ** np.arange(-15., 10), alpha=0.4, label=\"dqr > 0\")\n",
    "plt.hist(mp_data[\"NR_TAU_in\"][tn], bins=10. ** np.arange(-15., 10), alpha=0.4, label=\"dqr < 0\")\n",
    "\n",
    "plt.gca().set_xscale(\"log\")\n",
    "plt.xlabel(\"$N_r$ Input\")\n",
    "plt.ylabel(\"Frequency\")\n",
    "plt.legend()\n",
    "plt.savefig(\"nr_tendency_properties.png\")"
   ]
  },
  {
   "cell_type": "markdown",
   "id": "separate-shock",
   "metadata": {},
   "source": [
    "Test mass conservation (mass diff should be 0). A significant proportion of grid cells have mass conserved"
   ]
  },
  {
   "cell_type": "code",
   "execution_count": 9,
   "id": "grateful-modeling",
   "metadata": {},
   "outputs": [],
   "source": [
    "ix = (mp_data[\"tend_diff_TAU\"] == 0) & (mp_data[\"mass_diff_TAU\"] == 0) & np.all(mp_data[[\"QC_TAU_out\", \"QR_TAU_out\", \"NC_TAU_out\", \"NR_TAU_out\"]] >= 0, axis=1)\n",
    "mp_mass_data = mp_data.loc[ix]"
   ]
  },
  {
   "cell_type": "code",
   "execution_count": 10,
   "id": "pleasant-blackberry",
   "metadata": {},
   "outputs": [
    {
     "data": {
      "text/plain": [
       "0.5634467095451523"
      ]
     },
     "execution_count": 10,
     "metadata": {},
     "output_type": "execute_result"
    }
   ],
   "source": [
    "mp_mass_data.shape[0] / mp_data.shape[0]"
   ]
  },
  {
   "cell_type": "code",
   "execution_count": 12,
   "id": "c2d9077f-b4cf-4f59-b0c0-aa3fba895792",
   "metadata": {},
   "outputs": [],
   "source": [
    "input_cols = [\"QC_TAU_in\", \"QR_TAU_in\", \"NC_TAU_in\", \"NR_TAU_in\"]\n",
    "output_cols = input_cols[0:2] + [\"QC_TAU_out\", \"QR_TAU_out\", \"NC_TAU_out\", \"NR_TAU_out\"]\n",
    "scale_in = StandardScaler()\n",
    "in_data = scale_in.fit_transform(np.log10(np.maximum(mp_mass_data[input_cols].values, 1e-38)))\n",
    "out_data_raw = mp_mass_data[output_cols].values\n",
    "out_data_log = np.log10(np.maximum(out_data_raw, 1e-38))"
   ]
  },
  {
   "cell_type": "code",
   "execution_count": 42,
   "id": "12c3e89d-2f63-4834-8747-a2019719e506",
   "metadata": {},
   "outputs": [
    {
     "data": {
      "text/plain": [
       "0.4885590669614941"
      ]
     },
     "execution_count": 42,
     "metadata": {},
     "output_type": "execute_result"
    }
   ],
   "source": [
    "(np.log10(1e-6) - np.log10(0.5e-5)) ** 2"
   ]
  },
  {
   "cell_type": "code",
   "execution_count": 73,
   "id": "3866191a-54e4-4e7e-a4b4-30eb7cc25245",
   "metadata": {},
   "outputs": [],
   "source": [
    "from tensorflow.experimental.numpy import log10 as tflog10\n",
    "def mass_loss(y_true_log, y_pred_log, scale_factor=1):\n",
    "    \n",
    "    y_true = 10 ** y_true_log\n",
    "    y_pred = 10 ** y_pred_log\n",
    "    mse_loss = tf.reduce_mean((y_true_log - y_pred_log) ** 2, axis=0)\n",
    "    mass_in_true_l = tflog10(tf.reduce_sum(y_true[:, 0:2], axis=1))\n",
    "    mass_out_pred_l = tflog10(tf.reduce_sum(y_pred[:, 2:4], axis=1))\n",
    "    mass_in_pred_l = tflog10(tf.reduce_sum(y_pred[:, 0:2], axis=1))\n",
    "\n",
    "    mass_diff_loss = tf.reduce_mean((mass_in_true_l - mass_out_pred_l) ** 2)\n",
    "    mass_diff_loss += tf.reduce_mean((mass_in_true_l - mass_in_pred_l) ** 2)\n",
    "    loss = tf.reduce_sum(mse_loss) + scale_factor * mass_diff_loss\n",
    "    loss = tf.reduce_sum(mse_loss)\n",
    "    return loss"
   ]
  },
  {
   "cell_type": "code",
   "execution_count": 74,
   "id": "a4294233-51fa-4a19-879a-fe231c70a9c5",
   "metadata": {},
   "outputs": [],
   "source": [
    "mod = Sequential()\n",
    "mod.add(Dense(64, input_shape=(len(input_cols),)))\n",
    "mod.add(Activation(\"relu\"))\n",
    "mod.add(Dense(16))\n",
    "mod.add(Activation(\"relu\"))\n",
    "mod.add(Dense(64))\n",
    "mod.add(Activation(\"relu\"))\n",
    "mod.add(Dense(len(output_cols)))"
   ]
  },
  {
   "cell_type": "code",
   "execution_count": 93,
   "id": "84d4fd6a-12c0-4369-ba18-f7914f9c2190",
   "metadata": {},
   "outputs": [
    {
     "name": "stdout",
     "output_type": "stream",
     "text": [
      "Epoch 1/30\n",
      "1327/1327 [==============================] - 3s 2ms/step - loss: 0.0537\n",
      "Epoch 2/30\n",
      "1327/1327 [==============================] - 3s 2ms/step - loss: 0.0544\n",
      "Epoch 3/30\n",
      "1327/1327 [==============================] - 3s 2ms/step - loss: 0.0532\n",
      "Epoch 4/30\n",
      "1327/1327 [==============================] - 3s 2ms/step - loss: 0.0538\n",
      "Epoch 5/30\n",
      "1327/1327 [==============================] - 3s 2ms/step - loss: 0.0535\n",
      "Epoch 6/30\n",
      "1327/1327 [==============================] - 3s 2ms/step - loss: 0.0530\n",
      "Epoch 7/30\n",
      "1327/1327 [==============================] - 3s 2ms/step - loss: 0.0528\n",
      "Epoch 8/30\n",
      "1327/1327 [==============================] - 3s 2ms/step - loss: 0.0526\n",
      "Epoch 9/30\n",
      "1327/1327 [==============================] - 3s 2ms/step - loss: 0.0524\n",
      "Epoch 10/30\n",
      "1327/1327 [==============================] - 3s 2ms/step - loss: 0.0524\n",
      "Epoch 11/30\n",
      "1327/1327 [==============================] - 3s 2ms/step - loss: 0.0520\n",
      "Epoch 12/30\n",
      "1327/1327 [==============================] - 3s 2ms/step - loss: 0.0527\n",
      "Epoch 13/30\n",
      "1327/1327 [==============================] - 3s 2ms/step - loss: 0.0522\n",
      "Epoch 14/30\n",
      "1327/1327 [==============================] - 3s 2ms/step - loss: 0.0525\n",
      "Epoch 15/30\n",
      "1327/1327 [==============================] - 3s 2ms/step - loss: 0.0521\n",
      "Epoch 16/30\n",
      "1327/1327 [==============================] - 3s 2ms/step - loss: 0.0516\n",
      "Epoch 17/30\n",
      "1327/1327 [==============================] - 3s 2ms/step - loss: 0.0509\n",
      "Epoch 18/30\n",
      "1327/1327 [==============================] - 3s 2ms/step - loss: 0.0516\n",
      "Epoch 19/30\n",
      "1327/1327 [==============================] - 3s 2ms/step - loss: 0.0514\n",
      "Epoch 20/30\n",
      "1327/1327 [==============================] - 3s 2ms/step - loss: 0.0518\n",
      "Epoch 21/30\n",
      "1327/1327 [==============================] - 3s 2ms/step - loss: 0.0517\n",
      "Epoch 22/30\n",
      "1327/1327 [==============================] - 3s 2ms/step - loss: 0.0513\n",
      "Epoch 23/30\n",
      "1327/1327 [==============================] - 3s 2ms/step - loss: 0.0515\n",
      "Epoch 24/30\n",
      "1327/1327 [==============================] - 3s 2ms/step - loss: 0.0513\n",
      "Epoch 25/30\n",
      "1327/1327 [==============================] - 3s 2ms/step - loss: 0.0509\n",
      "Epoch 26/30\n",
      "1327/1327 [==============================] - 3s 2ms/step - loss: 0.0510\n",
      "Epoch 27/30\n",
      "1327/1327 [==============================] - 3s 2ms/step - loss: 0.0509\n",
      "Epoch 28/30\n",
      "1327/1327 [==============================] - 3s 2ms/step - loss: 0.0517\n",
      "Epoch 29/30\n",
      "1327/1327 [==============================] - 3s 2ms/step - loss: 0.0513\n",
      "Epoch 30/30\n",
      "1327/1327 [==============================] - 3s 2ms/step - loss: 0.0512\n"
     ]
    },
    {
     "data": {
      "text/plain": [
       "<tensorflow.python.keras.callbacks.History at 0x2ac5c5227550>"
      ]
     },
     "execution_count": 93,
     "metadata": {},
     "output_type": "execute_result"
    }
   ],
   "source": [
    "mod.compile(loss=mass_loss, optimizer=tf.keras.optimizers.Adam(learning_rate=1e-4))\n",
    "mod.fit(in_data, out_data_log, epochs=30, batch_size=4096, verbose=1)"
   ]
  },
  {
   "cell_type": "code",
   "execution_count": 64,
   "id": "minus-madrid",
   "metadata": {},
   "outputs": [
    {
     "name": "stdout",
     "output_type": "stream",
     "text": [
      "Epoch 0\n"
     ]
    },
    {
     "ename": "KeyboardInterrupt",
     "evalue": "",
     "output_type": "error",
     "traceback": [
      "\u001b[0;31m---------------------------------------------------------------------------\u001b[0m",
      "\u001b[0;31mKeyboardInterrupt\u001b[0m                         Traceback (most recent call last)",
      "\u001b[0;32m<ipython-input-64-60a323fbe76e>\u001b[0m in \u001b[0;36m<module>\u001b[0;34m\u001b[0m\n\u001b[1;32m      5\u001b[0m     \u001b[0mtrain_dataset\u001b[0m \u001b[0;34m=\u001b[0m \u001b[0mtrain_dataset\u001b[0m\u001b[0;34m.\u001b[0m\u001b[0mshuffle\u001b[0m\u001b[0;34m(\u001b[0m\u001b[0mbuffer_size\u001b[0m\u001b[0;34m=\u001b[0m\u001b[0;36m4096\u001b[0m\u001b[0;34m)\u001b[0m\u001b[0;34m.\u001b[0m\u001b[0mbatch\u001b[0m\u001b[0;34m(\u001b[0m\u001b[0;36m4096\u001b[0m\u001b[0;34m)\u001b[0m\u001b[0;34m\u001b[0m\u001b[0;34m\u001b[0m\u001b[0m\n\u001b[1;32m      6\u001b[0m     \u001b[0mprint\u001b[0m\u001b[0;34m(\u001b[0m\u001b[0;34m\"Epoch\"\u001b[0m\u001b[0;34m,\u001b[0m \u001b[0mepoch\u001b[0m\u001b[0;34m)\u001b[0m\u001b[0;34m\u001b[0m\u001b[0;34m\u001b[0m\u001b[0m\n\u001b[0;32m----> 7\u001b[0;31m     \u001b[0;32mfor\u001b[0m \u001b[0mstep\u001b[0m\u001b[0;34m,\u001b[0m \u001b[0;34m(\u001b[0m\u001b[0mx_batch_train\u001b[0m\u001b[0;34m,\u001b[0m \u001b[0my_batch_train\u001b[0m\u001b[0;34m)\u001b[0m \u001b[0;32min\u001b[0m \u001b[0menumerate\u001b[0m\u001b[0;34m(\u001b[0m\u001b[0mtrain_dataset\u001b[0m\u001b[0;34m)\u001b[0m\u001b[0;34m:\u001b[0m\u001b[0;34m\u001b[0m\u001b[0;34m\u001b[0m\u001b[0m\n\u001b[0m\u001b[1;32m      8\u001b[0m         \u001b[0;32mwith\u001b[0m \u001b[0mtf\u001b[0m\u001b[0;34m.\u001b[0m\u001b[0mGradientTape\u001b[0m\u001b[0;34m(\u001b[0m\u001b[0;34m)\u001b[0m \u001b[0;32mas\u001b[0m \u001b[0mtape\u001b[0m\u001b[0;34m:\u001b[0m\u001b[0;34m\u001b[0m\u001b[0;34m\u001b[0m\u001b[0m\n\u001b[1;32m      9\u001b[0m             \u001b[0mouts\u001b[0m \u001b[0;34m=\u001b[0m \u001b[0mmod\u001b[0m\u001b[0;34m(\u001b[0m\u001b[0mx_batch_train\u001b[0m\u001b[0;34m)\u001b[0m\u001b[0;34m\u001b[0m\u001b[0;34m\u001b[0m\u001b[0m\n",
      "\u001b[0;32m~/miniconda3/envs/marbleri/lib/python3.8/site-packages/tensorflow/python/data/ops/iterator_ops.py\u001b[0m in \u001b[0;36m__next__\u001b[0;34m(self)\u001b[0m\n\u001b[1;32m    745\u001b[0m   \u001b[0;32mdef\u001b[0m \u001b[0m__next__\u001b[0m\u001b[0;34m(\u001b[0m\u001b[0mself\u001b[0m\u001b[0;34m)\u001b[0m\u001b[0;34m:\u001b[0m\u001b[0;34m\u001b[0m\u001b[0;34m\u001b[0m\u001b[0m\n\u001b[1;32m    746\u001b[0m     \u001b[0;32mtry\u001b[0m\u001b[0;34m:\u001b[0m\u001b[0;34m\u001b[0m\u001b[0;34m\u001b[0m\u001b[0m\n\u001b[0;32m--> 747\u001b[0;31m       \u001b[0;32mreturn\u001b[0m \u001b[0mself\u001b[0m\u001b[0;34m.\u001b[0m\u001b[0m_next_internal\u001b[0m\u001b[0;34m(\u001b[0m\u001b[0;34m)\u001b[0m\u001b[0;34m\u001b[0m\u001b[0;34m\u001b[0m\u001b[0m\n\u001b[0m\u001b[1;32m    748\u001b[0m     \u001b[0;32mexcept\u001b[0m \u001b[0merrors\u001b[0m\u001b[0;34m.\u001b[0m\u001b[0mOutOfRangeError\u001b[0m\u001b[0;34m:\u001b[0m\u001b[0;34m\u001b[0m\u001b[0;34m\u001b[0m\u001b[0m\n\u001b[1;32m    749\u001b[0m       \u001b[0;32mraise\u001b[0m \u001b[0mStopIteration\u001b[0m\u001b[0;34m\u001b[0m\u001b[0;34m\u001b[0m\u001b[0m\n",
      "\u001b[0;32m~/miniconda3/envs/marbleri/lib/python3.8/site-packages/tensorflow/python/data/ops/iterator_ops.py\u001b[0m in \u001b[0;36m_next_internal\u001b[0;34m(self)\u001b[0m\n\u001b[1;32m    728\u001b[0m     \u001b[0;31m# to communicate that there is no more data to iterate over.\u001b[0m\u001b[0;34m\u001b[0m\u001b[0;34m\u001b[0m\u001b[0;34m\u001b[0m\u001b[0m\n\u001b[1;32m    729\u001b[0m     \u001b[0;32mwith\u001b[0m \u001b[0mcontext\u001b[0m\u001b[0;34m.\u001b[0m\u001b[0mexecution_mode\u001b[0m\u001b[0;34m(\u001b[0m\u001b[0mcontext\u001b[0m\u001b[0;34m.\u001b[0m\u001b[0mSYNC\u001b[0m\u001b[0;34m)\u001b[0m\u001b[0;34m:\u001b[0m\u001b[0;34m\u001b[0m\u001b[0;34m\u001b[0m\u001b[0m\n\u001b[0;32m--> 730\u001b[0;31m       ret = gen_dataset_ops.iterator_get_next(\n\u001b[0m\u001b[1;32m    731\u001b[0m           \u001b[0mself\u001b[0m\u001b[0;34m.\u001b[0m\u001b[0m_iterator_resource\u001b[0m\u001b[0;34m,\u001b[0m\u001b[0;34m\u001b[0m\u001b[0;34m\u001b[0m\u001b[0m\n\u001b[1;32m    732\u001b[0m           \u001b[0moutput_types\u001b[0m\u001b[0;34m=\u001b[0m\u001b[0mself\u001b[0m\u001b[0;34m.\u001b[0m\u001b[0m_flat_output_types\u001b[0m\u001b[0;34m,\u001b[0m\u001b[0;34m\u001b[0m\u001b[0;34m\u001b[0m\u001b[0m\n",
      "\u001b[0;32m~/miniconda3/envs/marbleri/lib/python3.8/site-packages/tensorflow/python/ops/gen_dataset_ops.py\u001b[0m in \u001b[0;36miterator_get_next\u001b[0;34m(iterator, output_types, output_shapes, name)\u001b[0m\n\u001b[1;32m   2572\u001b[0m   \u001b[0;32mif\u001b[0m \u001b[0mtld\u001b[0m\u001b[0;34m.\u001b[0m\u001b[0mis_eager\u001b[0m\u001b[0;34m:\u001b[0m\u001b[0;34m\u001b[0m\u001b[0;34m\u001b[0m\u001b[0m\n\u001b[1;32m   2573\u001b[0m     \u001b[0;32mtry\u001b[0m\u001b[0;34m:\u001b[0m\u001b[0;34m\u001b[0m\u001b[0;34m\u001b[0m\u001b[0m\n\u001b[0;32m-> 2574\u001b[0;31m       _result = pywrap_tfe.TFE_Py_FastPathExecute(\n\u001b[0m\u001b[1;32m   2575\u001b[0m         \u001b[0m_ctx\u001b[0m\u001b[0;34m,\u001b[0m \u001b[0;34m\"IteratorGetNext\"\u001b[0m\u001b[0;34m,\u001b[0m \u001b[0mname\u001b[0m\u001b[0;34m,\u001b[0m \u001b[0miterator\u001b[0m\u001b[0;34m,\u001b[0m \u001b[0;34m\"output_types\"\u001b[0m\u001b[0;34m,\u001b[0m \u001b[0moutput_types\u001b[0m\u001b[0;34m,\u001b[0m\u001b[0;34m\u001b[0m\u001b[0;34m\u001b[0m\u001b[0m\n\u001b[1;32m   2576\u001b[0m         \"output_shapes\", output_shapes)\n",
      "\u001b[0;31mKeyboardInterrupt\u001b[0m: "
     ]
    }
   ],
   "source": [
    "\n",
    "\n",
    "optimizer = tf.keras.optimizers.Adam(learning_rate=1e-4)\n",
    "train_dataset = tf.data.Dataset.from_tensor_slices((in_data.astype(\"float32\"), \n",
    "                                                    out_data_log.astype(\"float32\")))\n",
    "for epoch in range(30):\n",
    "    train_dataset = train_dataset.shuffle(buffer_size=4096).batch(4096)\n",
    "    print(\"Epoch\", epoch)\n",
    "    for step, (x_batch_train, y_batch_train) in enumerate(train_dataset):\n",
    "        with tf.GradientTape() as tape:\n",
    "            outs = mod(x_batch_train)\n",
    "            loss_val = mass_loss(y_batch_train, outs)\n",
    "        grads = tape.gradient(loss_val, mod.trainable_weights)\n",
    "        optimizer.apply_gradients(zip(grads, mod.trainable_weights))\n",
    "    print(loss_val)\n"
   ]
  },
  {
   "cell_type": "code",
   "execution_count": 65,
   "id": "tender-myanmar",
   "metadata": {},
   "outputs": [],
   "source": [
    "mp_test_data = pd.read_csv(mp_csv_files[600])\n",
    "dt = 60 * 30 #minutes\n",
    "for var in [\"QC\", \"QR\", \"NC\", \"NR\"]:\n",
    "    mp_test_data[var + \"_TAU_out\"] = (mp_test_data[var + \"_TAU_in\"] +  mp_test_data[var.lower() + \"tend_TAU\"] * dt)\n",
    "    mp_test_data[var + \"_MG2_out\"] = (mp_test_data[var + \"_TAU_in\"] +  mp_test_data[var.lower() + \"tend_MG2\"] * dt)\n",
    "mp_test_data[\"tend_diff_TAU\"] = (mp_test_data[\"qctend_TAU\"] + mp_test_data[\"qrtend_TAU\"])\n",
    "mp_test_data[\"mass_diff_TAU\"] = (mp_test_data[\"QC_TAU_out\"] + mp_test_data[\"QR_TAU_out\"]) - (mp_test_data[\"QC_TAU_in\"] + mp_test_data[\"QR_TAU_in\"])\n",
    "\n",
    "ixt = (mp_test_data[\"tend_diff_TAU\"] == 0) & (mp_test_data[\"mass_diff_TAU\"] == 0) & \\\n",
    "    np.all(mp_test_data[[\"QC_TAU_out\", \"QR_TAU_out\", \"NC_TAU_out\", \"NR_TAU_out\"]] >= 0, axis=1)\n",
    "mp_test_mass_data = mp_test_data.loc[ixt]\n",
    "\n",
    "in_test_data = scale_in.transform(np.log10(np.maximum(mp_test_mass_data[input_cols].values, 1e-38)))\n",
    "out_test_data = np.log10(np.maximum(mp_test_mass_data[output_cols].values, 1e-38))"
   ]
  },
  {
   "cell_type": "code",
   "execution_count": 94,
   "id": "closing-george",
   "metadata": {},
   "outputs": [],
   "source": [
    "mod_preds = mod.predict(in_test_data, batch_size=1024)"
   ]
  },
  {
   "cell_type": "code",
   "execution_count": 95,
   "id": "15cc86e1-c627-4831-8917-a035f44300ed",
   "metadata": {},
   "outputs": [
    {
     "data": {
      "text/plain": [
       "array([[-37.992645 , -17.70067  , -37.99714  , -17.701494 , -12.003219 ,\n",
       "         -7.1061244],\n",
       "       [-37.992645 , -17.70067  , -37.99714  , -17.701494 , -12.003219 ,\n",
       "         -7.1061244],\n",
       "       [-37.992645 , -17.70067  , -37.99714  , -17.701494 , -12.003219 ,\n",
       "         -7.1061244],\n",
       "       ...,\n",
       "       [ -4.549213 ,  -6.476517 ,  -4.5744   ,  -6.200406 ,   6.0217943,\n",
       "          2.9641352],\n",
       "       [ -4.5491886,  -6.476521 ,  -4.574376 ,  -6.200396 ,   6.0217776,\n",
       "          2.9641387],\n",
       "       [ -4.549182 ,  -6.4765215,  -4.57437  ,  -6.2003946,   6.0217695,\n",
       "          2.9641395]], dtype=float32)"
      ]
     },
     "execution_count": 95,
     "metadata": {},
     "output_type": "execute_result"
    }
   ],
   "source": [
    "mod_preds"
   ]
  },
  {
   "cell_type": "code",
   "execution_count": 96,
   "id": "manual-minimum",
   "metadata": {},
   "outputs": [
    {
     "data": {
      "image/png": "[encoded data removed]",
      "text/plain": [
       "<Figure size 720x720 with 8 Axes>"
      ]
     },
     "metadata": {
      "needs_background": "light"
     },
     "output_type": "display_data"
    }
   ],
   "source": [
    "plt.figure(figsize=(10, 10))\n",
    "for i in range(4):\n",
    "    plt.subplot(2, 2, i + 1)\n",
    "    plt.hist2d(mod_preds[:, i+2], out_test_data[:,i+2], cmin=1, norm=LogNorm(), bins=30)\n",
    "    plt.title(\"log \" + output_cols[i+2])\n",
    "    diag = np.arange(out_test_data[:, i+2].min(), out_test_data[:, i+2].max(), 1)\n",
    "    plt.plot(diag, diag, 'k--', lw=1)\n",
    "    plt.colorbar()"
   ]
  },
  {
   "cell_type": "code",
   "execution_count": 97,
   "id": "constitutional-stable",
   "metadata": {},
   "outputs": [],
   "source": [
    "mod_preds_rescaled =  10 ** mod_preds\n",
    "out_test_data_rescaled = 10 ** out_test_data"
   ]
  },
  {
   "cell_type": "code",
   "execution_count": 102,
   "id": "serious-bruce",
   "metadata": {},
   "outputs": [
    {
     "data": {
      "image/png": "[encoded data removed]",
      "text/plain": [
       "<Figure size 432x288 with 1 Axes>"
      ]
     },
     "metadata": {
      "needs_background": "light"
     },
     "output_type": "display_data"
    }
   ],
   "source": [
    "mass_diff = np.log10(mod_preds_rescaled[:, 0:2].sum(axis=1)) - np.log10(out_test_data_rescaled[:, 0:2].sum(axis=1))\n",
    "plt.hist(np.log10(np.abs(mass_diff)), bins=50)\n",
    "plt.gca().set_yscale(\"log\")"
   ]
  },
  {
   "cell_type": "code",
   "execution_count": 101,
   "id": "manual-jaguar",
   "metadata": {},
   "outputs": [
    {
     "data": {
      "image/png": "[encoded data removed]",
      "text/plain": [
       "<Figure size 432x288 with 1 Axes>"
      ]
     },
     "metadata": {
      "needs_background": "light"
     },
     "output_type": "display_data"
    }
   ],
   "source": [
    "_ = plt.hist2d(np.log10(mod_preds_rescaled[:, 2:4].sum(axis=1)), \n",
    "           np.log10(out_test_data_rescaled[:, 0:2].sum(axis=1)), \n",
    "           bins=30,\n",
    "           norm=LogNorm(), cmin=1)"
   ]
  },
  {
   "cell_type": "code",
   "execution_count": null,
   "id": "7df5785d-5f80-4ec4-aaea-9c422ae7a82f",
   "metadata": {},
   "outputs": [],
   "source": []
  }
 ],
 "metadata": {
  "kernelspec": {
   "display_name": "Python [conda env:miniconda3-marbleri]",
   "language": "python",
   "name": "conda-env-miniconda3-marbleri-py"
  },
  "language_info": {
   "codemirror_mode": {
    "name": "ipython",
    "version": 3
   },
   "file_extension": ".py",
   "mimetype": "text/x-python",
   "name": "python",
   "nbconvert_exporter": "python",
   "pygments_lexer": "ipython3",
   "version": "3.8.6"
  }
 },
 "nbformat": 4,
 "nbformat_minor": 5
}
