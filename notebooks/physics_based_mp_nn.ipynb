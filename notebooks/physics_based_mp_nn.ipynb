{
 "cells": [
  {
   "cell_type": "markdown",
   "id": "afraid-saudi",
   "metadata": {},
   "source": [
    "# Physics-informed microphysics neural network emulator\n",
    "\n",
    "David John Gagne\n",
    "\n",
    "The goal of this approach is to include more physical constraints and make the training easier for the microphysics emulator. \n",
    "\n",
    "The physics-informed neural network setup integrates the following components.\n",
    "\n",
    "1. Predict the updated microphysical terms rather than tendencies. The tendencies have very weird distributions that are hard for one neural network to fit. The original values on the other hand are all greater than 0, so it is easier to ensure that outputs are always greater than 0 this way.\n",
    "$y_{new} = y_{old} + y_{tend} dt$\n",
    "\n",
    "$dt=1800 \\text{ s}$\n",
    "\n",
    "2. Keep all inputs and outputs in log space for training ideally.\n",
    "\n",
    "3. Enforce mass conservation between cloud and rain. \n",
    "$ q_{ro} + q_{co} = q_{rn} + q_{cn}$"
   ]
  },
  {
   "cell_type": "code",
   "execution_count": 1,
   "id": "distinguished-rebate",
   "metadata": {},
   "outputs": [
    {
     "name": "stderr",
     "output_type": "stream",
     "text": [
      "2021-08-10 07:27:45.143741: I tensorflow/stream_executor/platform/default/dso_loader.cc:49] Successfully opened dynamic library libcudart.so.11.0\n"
     ]
    }
   ],
   "source": [
    "import pandas as pd\n",
    "import numpy as np\n",
    "import matplotlib.pyplot as plt\n",
    "from matplotlib.colors import LogNorm\n",
    "from glob import glob\n",
    "from os.path import join\n",
    "import xarray as xr\n",
    "import dask.dataframe as dd\n",
    "from tensorflow.keras.layers import Input, Dense, Activation\n",
    "from tensorflow.keras.models import Sequential\n",
    "from sklearn.preprocessing import StandardScaler, MinMaxScaler\n",
    "import tensorflow as tf\n",
    "from mlmicrophysics.models import DenseNeuralNetwork\n",
    "from sklearn.inspection import partial_dependence\n",
    "from scipy.special import gamma\n",
    "%matplotlib inline"
   ]
  },
  {
   "cell_type": "code",
   "execution_count": 2,
   "id": "9f0aacd1-0c74-4077-9d01-aab13c484587",
   "metadata": {},
   "outputs": [],
   "source": [
    "def logit(p):\n",
    "    p2 = np.minimum(np.maximum(p.astype(np.float64), 1e-5), 0.9999999999)\n",
    "    return np.log(p2) - np.log(1 - p2)"
   ]
  },
  {
   "cell_type": "code",
   "execution_count": null,
   "id": "6a2a1d39-416f-4bf8-a370-41dde0219783",
   "metadata": {},
   "outputs": [],
   "source": []
  },
  {
   "cell_type": "code",
   "execution_count": 80,
   "id": "28b5db94-6149-45db-9bff-2336eff945dd",
   "metadata": {},
   "outputs": [
    {
     "name": "stderr",
     "output_type": "stream",
     "text": [
      "/glade/scratch/dgagne/ipykernel_209350/2442996669.py:3: RuntimeWarning: divide by zero encountered in log\n",
      "  return np.log(p2) - np.log(1 - p2)\n"
     ]
    },
    {
     "data": {
      "text/plain": [
       "array([inf], dtype=float32)"
      ]
     },
     "execution_count": 80,
     "metadata": {},
     "output_type": "execute_result"
    }
   ],
   "source": [
    "logit(np.array([1.0], dtype=np.float32))"
   ]
  },
  {
   "cell_type": "code",
   "execution_count": 82,
   "id": "59c1ce5d-0cb8-4372-952b-f1bd50e95da8",
   "metadata": {},
   "outputs": [
    {
     "data": {
      "text/plain": [
       "0          -9.210240\n",
       "1          -9.210240\n",
       "2          -9.210240\n",
       "3          -9.210240\n",
       "4          -9.210240\n",
       "             ...    \n",
       "8104865    23.025851\n",
       "8104866    23.025851\n",
       "8104867    23.025851\n",
       "8104868    23.025851\n",
       "8104869    23.025851\n",
       "Name: precip_frac_logit, Length: 8104870, dtype: float64"
      ]
     },
     "execution_count": 82,
     "metadata": {},
     "output_type": "execute_result"
    }
   ],
   "source": [
    "mp_data.loc[:, \"precip_frac_logit\"]"
   ]
  },
  {
   "cell_type": "code",
   "execution_count": 2,
   "id": "painted-campus",
   "metadata": {},
   "outputs": [],
   "source": [
    "mp_path = \"/glade/p/cisl/aiml/dgagne/cam_mp_files_run5_phys_parquet/\"\n",
    "mp_files = sorted(glob(join(mp_path, \"*.parquet\")))"
   ]
  },
  {
   "cell_type": "code",
   "execution_count": 3,
   "id": "corporate-mechanism",
   "metadata": {},
   "outputs": [],
   "source": [
    "mp_data = pd.concat([pd.read_parquet(mp_files[x]) for x in range(0, 400, 20)], ignore_index=True)\n",
    "#mp_data.loc[:, \"precip_frac_logit\"] = logit(mp_data[\"precip_frac\"].values)\n",
    "#mp_data.loc[:, \"lcldm_logit\"] = logit(mp_data[\"lcldm\"].values)"
   ]
  },
  {
   "cell_type": "code",
   "execution_count": 6,
   "id": "d5d08c5c-6fac-4b76-a7ea-ecba0b354736",
   "metadata": {},
   "outputs": [],
   "source": [
    "mp_data[\"frac_mass\"] = mp_data[\"QC_TAU_in\"] * mp_data[\"lcldm\"] + mp_data[\"QR_TAU_in\"] * mp_data[\"precip_frac\"]\n",
    "mp_data.loc[:, \"Q_mass_in\"] = mp_data[[\"QC_TAU_in\", \"QR_TAU_in\"]].sum(axis=1)"
   ]
  },
  {
   "cell_type": "code",
   "execution_count": 4,
   "id": "fefe2ad0-4df6-4d3d-a8ab-3b8a77a8095a",
   "metadata": {},
   "outputs": [],
   "source": [
    "def cloud_bins(diameters, lam_c, mu_c, nc):\n",
    "    return nc * lam_c ** (mu_c + 1) / gamma(mu_c + 1) * (diameters * 1e-2) ** mu_c * np.exp(-lam_c * diameters * 1e-2)\n",
    "\n",
    "def rain_bins(diameters, lam_r, n0r):\n",
    "    return n0r * np.exp(-lam_r * diameters * 1e-2)"
   ]
  },
  {
   "cell_type": "code",
   "execution_count": 7,
   "id": "0f4950b1-00e6-47fb-8360-92f429e598ac",
   "metadata": {},
   "outputs": [],
   "source": [
    "diams = np.zeros(36)\n",
    "diams[0] = 1.5625*2.e-4\n",
    "for i in range(1, diams.size):\n",
    "    diams[i] = diams[i-1] * 2"
   ]
  },
  {
   "cell_type": "code",
   "execution_count": 8,
   "id": "543323bd-4cf8-4e95-9872-a6f579503381",
   "metadata": {},
   "outputs": [],
   "source": [
    "diam_means = 0.5 * (diams[1:] + diams[:-1])"
   ]
  },
  {
   "cell_type": "code",
   "execution_count": 170,
   "id": "53a72d57-59aa-43c3-94a4-c07e1655ea55",
   "metadata": {},
   "outputs": [
    {
     "data": {
      "text/plain": [
       "array([False, False, False, False,  True,  True,  True,  True,  True,\n",
       "        True,  True,  True,  True,  True,  True,  True,  True,  True,\n",
       "        True,  True,  True,  True,  True,  True,  True,  True,  True,\n",
       "        True,  True,  True,  True,  True,  True,  True,  True,  True])"
      ]
     },
     "execution_count": 170,
     "metadata": {},
     "output_type": "execute_result"
    }
   ],
   "source": [
    "diams > 40e-4"
   ]
  },
  {
   "cell_type": "code",
   "execution_count": 57,
   "id": "5843f55b-82f6-4a83-84ef-ac4deb40515d",
   "metadata": {},
   "outputs": [
    {
     "data": {
      "text/plain": [
       "Index(['lat', 'lev', 'lon', 'P0', 'PS', 'depth', 'row', 'col', 'hyam', 'hybm',\n",
       "       'pressure', 'temperature', 'RHO_CLUBB_lev', 'RHO_CLUBB_top',\n",
       "       'RHO_CLUBB_bottom', 'QC_TAU_in', 'NC_TAU_in', 'QR_TAU_in', 'NR_TAU_in',\n",
       "       'lamc', 'lamr', 'lcldm', 'n0r', 'pgam', 'precip_frac', 'qctend_MG2',\n",
       "       'qctend_TAU', 'nctend_MG2', 'nctend_TAU', 'qrtend_MG2', 'qrtend_TAU',\n",
       "       'nrtend_MG2', 'nrtend_TAU', 'QC_TAU_out', 'NC_TAU_out', 'QR_TAU_out',\n",
       "       'NR_TAU_out', 'QC_MG2_out', 'NC_MG2_out', 'QR_MG2_out', 'NR_MG2_out',\n",
       "       'time', 'frac_mass', 'Q_mass_in', 'mass_diff_TAU', 'mass_diff_MG2',\n",
       "       'tend_diff_TAU', 'tend_diff_MG2'],\n",
       "      dtype='object')"
      ]
     },
     "execution_count": 57,
     "metadata": {},
     "output_type": "execute_result"
    }
   ],
   "source": [
    "mp_data.columns"
   ]
  },
  {
   "cell_type": "code",
   "execution_count": 195,
   "id": "5c74392f-acaf-4ae4-988b-6ec235c3bfe6",
   "metadata": {},
   "outputs": [
    {
     "data": {
      "text/plain": [
       "Text(0, 0.5, 'Number Concentration')"
      ]
     },
     "execution_count": 195,
     "metadata": {},
     "output_type": "execute_result"
    },
    {
     "data": {
      "image/png": "[encoded data removed]",
      "text/plain": [
       "<Figure size 432x288 with 1 Axes>"
      ]
     },
     "metadata": {
      "needs_background": "light"
     },
     "output_type": "display_data"
    }
   ],
   "source": [
    "q = 122031\n",
    "mp_data.loc[q]\n",
    "plt.plot(diam_means * 10, cloud_bins(diam_means, mp_data.loc[q, \"lamc\"], mp_data.loc[q, \"pgam\"], mp_data.loc[q, \"NC_TAU_in\"] * mp_data.loc[q, \"lcldm\"]), 'ko-')\n",
    "plt.plot(diam_means * 10, rain_bins(diam_means, mp_data.loc[q, \"lamr\"], mp_data.loc[q, \"n0r\"]), 'bo-')\n",
    "\n",
    "plt.gca().set_yscale(\"log\")\n",
    "plt.gca().set_xscale(\"log\")\n",
    "plt.plot(np.ones(10) * 40e-4 * 10, np.linspace(1e-20, 1e15, 10), 'k--', lw=0.5)\n",
    "plt.ylim(1e-20, 1e15)\n",
    "plt.xlim(1e-3, 1000)\n",
    "plt.xlabel(\"Drop Diameter (mm)\")\n",
    "plt.ylabel(\"Number Concentration\")"
   ]
  },
  {
   "cell_type": "code",
   "execution_count": 196,
   "id": "a932f025-0416-4ec6-ae47-9156e50ae162",
   "metadata": {},
   "outputs": [
    {
     "data": {
      "text/plain": [
       "Text(0.5, 0, 'Drop Diameter (mm)')"
      ]
     },
     "execution_count": 196,
     "metadata": {},
     "output_type": "execute_result"
    },
    {
     "data": {
      "image/png": "[encoded data removed]",
      "text/plain": [
       "<Figure size 432x288 with 1 Axes>"
      ]
     },
     "metadata": {
      "needs_background": "light"
     },
     "output_type": "display_data"
    }
   ],
   "source": [
    "c_nc = cloud_bins(diam_means, mp_data.loc[q, \"lamc\"], mp_data.loc[q, \"pgam\"], mp_data.loc[q, \"NC_TAU_in\"] * mp_data.loc[q, \"lcldm\"])\n",
    "c_nr = rain_bins(diam_means, mp_data.loc[q, \"lamr\"], mp_data.loc[q, \"n0r\"])\n",
    "c_mass = 4.0 / 3.0 * np.pi * (diam_means / 100 / 2) ** 3 * 1000 * c_nc * 1000\n",
    "r_mass = 4.0 / 3.0 * np.pi * (diam_means / 100 / 2) ** 3 * 1000 * c_nr * 1000\n",
    "plt.plot(diam_means * 10, c_mass, 'ko-')\n",
    "plt.plot(diam_means * 10, r_mass, 'bo-')\n",
    "plt.plot(np.ones(10) * 40e-4 * 10, np.linspace(1e-20, 1e15, 10), 'k--', lw=0.5)\n",
    "\n",
    "plt.gca().set_yscale(\"log\")\n",
    "plt.gca().set_xscale(\"log\")\n",
    "plt.ylim(1e-15, 1e6)\n",
    "plt.xlim(1e-3, 20)\n",
    "plt.xlabel(\"Drop Diameter (mm)\")\n"
   ]
  },
  {
   "cell_type": "code",
   "execution_count": 166,
   "id": "55c7d416-5f6f-4cd7-aab8-1dba71da25a6",
   "metadata": {},
   "outputs": [
    {
     "data": {
      "text/plain": [
       "0.27496233683925553"
      ]
     },
     "execution_count": 166,
     "metadata": {},
     "output_type": "execute_result"
    }
   ],
   "source": [
    "r_mass.max()"
   ]
  },
  {
   "cell_type": "code",
   "execution_count": 101,
   "id": "53cd6812-2d91-4a3e-a512-528624579be4",
   "metadata": {},
   "outputs": [
    {
     "data": {
      "text/plain": [
       "0.7000978424083298"
      ]
     },
     "execution_count": 101,
     "metadata": {},
     "output_type": "execute_result"
    }
   ],
   "source": [
    "np.count_nonzero(mp_data[\"pgam\"] > -100) / mp_data.shape[0]"
   ]
  },
  {
   "cell_type": "code",
   "execution_count": 205,
   "id": "2300c84b-7b9e-4bc7-b5d4-e419ca6b1a5f",
   "metadata": {},
   "outputs": [
    {
     "name": "stderr",
     "output_type": "stream",
     "text": [
      "/glade/work/dgagne/miniconda3/envs/mlmicro/lib/python3.8/site-packages/pandas/core/arraylike.py:364: RuntimeWarning: divide by zero encountered in log10\n",
      "  result = getattr(ufunc, method)(*inputs, **kwargs)\n"
     ]
    },
    {
     "ename": "ValueError",
     "evalue": "supplied range of [-inf, -2.497598171234131] is not finite",
     "output_type": "error",
     "traceback": [
      "\u001b[0;31m---------------------------------------------------------------------------\u001b[0m",
      "\u001b[0;31mValueError\u001b[0m                                Traceback (most recent call last)",
      "\u001b[0;32m/glade/scratch/dgagne/ipykernel_93669/586694854.py\u001b[0m in \u001b[0;36m<module>\u001b[0;34m\u001b[0m\n\u001b[0;32m----> 1\u001b[0;31m \u001b[0mnp\u001b[0m\u001b[0;34m.\u001b[0m\u001b[0mlog10\u001b[0m\u001b[0;34m(\u001b[0m\u001b[0mmp_data\u001b[0m\u001b[0;34m.\u001b[0m\u001b[0mloc\u001b[0m\u001b[0;34m[\u001b[0m\u001b[0mmp_data\u001b[0m\u001b[0;34m[\u001b[0m\u001b[0;34m\"pgam\"\u001b[0m\u001b[0;34m]\u001b[0m \u001b[0;34m<\u001b[0m \u001b[0;34m-\u001b[0m\u001b[0;36m1\u001b[0m\u001b[0;34m,\u001b[0m \u001b[0;34m\"QR_TAU_in\"\u001b[0m\u001b[0;34m]\u001b[0m\u001b[0;34m)\u001b[0m\u001b[0;34m.\u001b[0m\u001b[0mhist\u001b[0m\u001b[0;34m(\u001b[0m\u001b[0;34m)\u001b[0m\u001b[0;34m\u001b[0m\u001b[0;34m\u001b[0m\u001b[0m\n\u001b[0m",
      "\u001b[0;32m/glade/work/dgagne/miniconda3/envs/mlmicro/lib/python3.8/site-packages/pandas/plotting/_core.py\u001b[0m in \u001b[0;36mhist_series\u001b[0;34m(self, by, ax, grid, xlabelsize, xrot, ylabelsize, yrot, figsize, bins, backend, legend, **kwargs)\u001b[0m\n\u001b[1;32m     98\u001b[0m     \"\"\"\n\u001b[1;32m     99\u001b[0m     \u001b[0mplot_backend\u001b[0m \u001b[0;34m=\u001b[0m \u001b[0m_get_plot_backend\u001b[0m\u001b[0;34m(\u001b[0m\u001b[0mbackend\u001b[0m\u001b[0;34m)\u001b[0m\u001b[0;34m\u001b[0m\u001b[0;34m\u001b[0m\u001b[0m\n\u001b[0;32m--> 100\u001b[0;31m     return plot_backend.hist_series(\n\u001b[0m\u001b[1;32m    101\u001b[0m         \u001b[0mself\u001b[0m\u001b[0;34m,\u001b[0m\u001b[0;34m\u001b[0m\u001b[0;34m\u001b[0m\u001b[0m\n\u001b[1;32m    102\u001b[0m         \u001b[0mby\u001b[0m\u001b[0;34m=\u001b[0m\u001b[0mby\u001b[0m\u001b[0;34m,\u001b[0m\u001b[0;34m\u001b[0m\u001b[0;34m\u001b[0m\u001b[0m\n",
      "\u001b[0;32m/glade/work/dgagne/miniconda3/envs/mlmicro/lib/python3.8/site-packages/pandas/plotting/_matplotlib/hist.py\u001b[0m in \u001b[0;36mhist_series\u001b[0;34m(self, by, ax, grid, xlabelsize, xrot, ylabelsize, yrot, figsize, bins, legend, **kwds)\u001b[0m\n\u001b[1;32m    352\u001b[0m         \u001b[0;32mif\u001b[0m \u001b[0mlegend\u001b[0m\u001b[0;34m:\u001b[0m\u001b[0;34m\u001b[0m\u001b[0;34m\u001b[0m\u001b[0m\n\u001b[1;32m    353\u001b[0m             \u001b[0mkwds\u001b[0m\u001b[0;34m[\u001b[0m\u001b[0;34m\"label\"\u001b[0m\u001b[0;34m]\u001b[0m \u001b[0;34m=\u001b[0m \u001b[0mself\u001b[0m\u001b[0;34m.\u001b[0m\u001b[0mname\u001b[0m\u001b[0;34m\u001b[0m\u001b[0;34m\u001b[0m\u001b[0m\n\u001b[0;32m--> 354\u001b[0;31m         \u001b[0max\u001b[0m\u001b[0;34m.\u001b[0m\u001b[0mhist\u001b[0m\u001b[0;34m(\u001b[0m\u001b[0mvalues\u001b[0m\u001b[0;34m,\u001b[0m \u001b[0mbins\u001b[0m\u001b[0;34m=\u001b[0m\u001b[0mbins\u001b[0m\u001b[0;34m,\u001b[0m \u001b[0;34m**\u001b[0m\u001b[0mkwds\u001b[0m\u001b[0;34m)\u001b[0m\u001b[0;34m\u001b[0m\u001b[0;34m\u001b[0m\u001b[0m\n\u001b[0m\u001b[1;32m    355\u001b[0m         \u001b[0;32mif\u001b[0m \u001b[0mlegend\u001b[0m\u001b[0;34m:\u001b[0m\u001b[0;34m\u001b[0m\u001b[0;34m\u001b[0m\u001b[0m\n\u001b[1;32m    356\u001b[0m             \u001b[0max\u001b[0m\u001b[0;34m.\u001b[0m\u001b[0mlegend\u001b[0m\u001b[0;34m(\u001b[0m\u001b[0;34m)\u001b[0m\u001b[0;34m\u001b[0m\u001b[0;34m\u001b[0m\u001b[0m\n",
      "\u001b[0;32m/glade/work/dgagne/miniconda3/envs/mlmicro/lib/python3.8/site-packages/matplotlib/__init__.py\u001b[0m in \u001b[0;36minner\u001b[0;34m(ax, data, *args, **kwargs)\u001b[0m\n\u001b[1;32m   1359\u001b[0m     \u001b[0;32mdef\u001b[0m \u001b[0minner\u001b[0m\u001b[0;34m(\u001b[0m\u001b[0max\u001b[0m\u001b[0;34m,\u001b[0m \u001b[0;34m*\u001b[0m\u001b[0margs\u001b[0m\u001b[0;34m,\u001b[0m \u001b[0mdata\u001b[0m\u001b[0;34m=\u001b[0m\u001b[0;32mNone\u001b[0m\u001b[0;34m,\u001b[0m \u001b[0;34m**\u001b[0m\u001b[0mkwargs\u001b[0m\u001b[0;34m)\u001b[0m\u001b[0;34m:\u001b[0m\u001b[0;34m\u001b[0m\u001b[0;34m\u001b[0m\u001b[0m\n\u001b[1;32m   1360\u001b[0m         \u001b[0;32mif\u001b[0m \u001b[0mdata\u001b[0m \u001b[0;32mis\u001b[0m \u001b[0;32mNone\u001b[0m\u001b[0;34m:\u001b[0m\u001b[0;34m\u001b[0m\u001b[0;34m\u001b[0m\u001b[0m\n\u001b[0;32m-> 1361\u001b[0;31m             \u001b[0;32mreturn\u001b[0m \u001b[0mfunc\u001b[0m\u001b[0;34m(\u001b[0m\u001b[0max\u001b[0m\u001b[0;34m,\u001b[0m \u001b[0;34m*\u001b[0m\u001b[0mmap\u001b[0m\u001b[0;34m(\u001b[0m\u001b[0msanitize_sequence\u001b[0m\u001b[0;34m,\u001b[0m \u001b[0margs\u001b[0m\u001b[0;34m)\u001b[0m\u001b[0;34m,\u001b[0m \u001b[0;34m**\u001b[0m\u001b[0mkwargs\u001b[0m\u001b[0;34m)\u001b[0m\u001b[0;34m\u001b[0m\u001b[0;34m\u001b[0m\u001b[0m\n\u001b[0m\u001b[1;32m   1362\u001b[0m \u001b[0;34m\u001b[0m\u001b[0m\n\u001b[1;32m   1363\u001b[0m         \u001b[0mbound\u001b[0m \u001b[0;34m=\u001b[0m \u001b[0mnew_sig\u001b[0m\u001b[0;34m.\u001b[0m\u001b[0mbind\u001b[0m\u001b[0;34m(\u001b[0m\u001b[0max\u001b[0m\u001b[0;34m,\u001b[0m \u001b[0;34m*\u001b[0m\u001b[0margs\u001b[0m\u001b[0;34m,\u001b[0m \u001b[0;34m**\u001b[0m\u001b[0mkwargs\u001b[0m\u001b[0;34m)\u001b[0m\u001b[0;34m\u001b[0m\u001b[0;34m\u001b[0m\u001b[0m\n",
      "\u001b[0;32m/glade/work/dgagne/miniconda3/envs/mlmicro/lib/python3.8/site-packages/matplotlib/axes/_axes.py\u001b[0m in \u001b[0;36mhist\u001b[0;34m(self, x, bins, range, density, weights, cumulative, bottom, histtype, align, orientation, rwidth, log, color, label, stacked, **kwargs)\u001b[0m\n\u001b[1;32m   6757\u001b[0m             \u001b[0;31m# this will automatically overwrite bins,\u001b[0m\u001b[0;34m\u001b[0m\u001b[0;34m\u001b[0m\u001b[0;34m\u001b[0m\u001b[0m\n\u001b[1;32m   6758\u001b[0m             \u001b[0;31m# so that each histogram uses the same bins\u001b[0m\u001b[0;34m\u001b[0m\u001b[0;34m\u001b[0m\u001b[0;34m\u001b[0m\u001b[0m\n\u001b[0;32m-> 6759\u001b[0;31m             \u001b[0mm\u001b[0m\u001b[0;34m,\u001b[0m \u001b[0mbins\u001b[0m \u001b[0;34m=\u001b[0m \u001b[0mnp\u001b[0m\u001b[0;34m.\u001b[0m\u001b[0mhistogram\u001b[0m\u001b[0;34m(\u001b[0m\u001b[0mx\u001b[0m\u001b[0;34m[\u001b[0m\u001b[0mi\u001b[0m\u001b[0;34m]\u001b[0m\u001b[0;34m,\u001b[0m \u001b[0mbins\u001b[0m\u001b[0;34m,\u001b[0m \u001b[0mweights\u001b[0m\u001b[0;34m=\u001b[0m\u001b[0mw\u001b[0m\u001b[0;34m[\u001b[0m\u001b[0mi\u001b[0m\u001b[0;34m]\u001b[0m\u001b[0;34m,\u001b[0m \u001b[0;34m**\u001b[0m\u001b[0mhist_kwargs\u001b[0m\u001b[0;34m)\u001b[0m\u001b[0;34m\u001b[0m\u001b[0;34m\u001b[0m\u001b[0m\n\u001b[0m\u001b[1;32m   6760\u001b[0m             \u001b[0mtops\u001b[0m\u001b[0;34m.\u001b[0m\u001b[0mappend\u001b[0m\u001b[0;34m(\u001b[0m\u001b[0mm\u001b[0m\u001b[0;34m)\u001b[0m\u001b[0;34m\u001b[0m\u001b[0;34m\u001b[0m\u001b[0m\n\u001b[1;32m   6761\u001b[0m         \u001b[0mtops\u001b[0m \u001b[0;34m=\u001b[0m \u001b[0mnp\u001b[0m\u001b[0;34m.\u001b[0m\u001b[0marray\u001b[0m\u001b[0;34m(\u001b[0m\u001b[0mtops\u001b[0m\u001b[0;34m,\u001b[0m \u001b[0mfloat\u001b[0m\u001b[0;34m)\u001b[0m  \u001b[0;31m# causes problems later if it's an int\u001b[0m\u001b[0;34m\u001b[0m\u001b[0;34m\u001b[0m\u001b[0m\n",
      "\u001b[0;32m<__array_function__ internals>\u001b[0m in \u001b[0;36mhistogram\u001b[0;34m(*args, **kwargs)\u001b[0m\n",
      "\u001b[0;32m/glade/work/dgagne/miniconda3/envs/mlmicro/lib/python3.8/site-packages/numpy/lib/histograms.py\u001b[0m in \u001b[0;36mhistogram\u001b[0;34m(a, bins, range, normed, weights, density)\u001b[0m\n\u001b[1;32m    790\u001b[0m     \u001b[0ma\u001b[0m\u001b[0;34m,\u001b[0m \u001b[0mweights\u001b[0m \u001b[0;34m=\u001b[0m \u001b[0m_ravel_and_check_weights\u001b[0m\u001b[0;34m(\u001b[0m\u001b[0ma\u001b[0m\u001b[0;34m,\u001b[0m \u001b[0mweights\u001b[0m\u001b[0;34m)\u001b[0m\u001b[0;34m\u001b[0m\u001b[0;34m\u001b[0m\u001b[0m\n\u001b[1;32m    791\u001b[0m \u001b[0;34m\u001b[0m\u001b[0m\n\u001b[0;32m--> 792\u001b[0;31m     \u001b[0mbin_edges\u001b[0m\u001b[0;34m,\u001b[0m \u001b[0muniform_bins\u001b[0m \u001b[0;34m=\u001b[0m \u001b[0m_get_bin_edges\u001b[0m\u001b[0;34m(\u001b[0m\u001b[0ma\u001b[0m\u001b[0;34m,\u001b[0m \u001b[0mbins\u001b[0m\u001b[0;34m,\u001b[0m \u001b[0mrange\u001b[0m\u001b[0;34m,\u001b[0m \u001b[0mweights\u001b[0m\u001b[0;34m)\u001b[0m\u001b[0;34m\u001b[0m\u001b[0;34m\u001b[0m\u001b[0m\n\u001b[0m\u001b[1;32m    793\u001b[0m \u001b[0;34m\u001b[0m\u001b[0m\n\u001b[1;32m    794\u001b[0m     \u001b[0;31m# Histogram is an integer or a float array depending on the weights.\u001b[0m\u001b[0;34m\u001b[0m\u001b[0;34m\u001b[0m\u001b[0;34m\u001b[0m\u001b[0m\n",
      "\u001b[0;32m/glade/work/dgagne/miniconda3/envs/mlmicro/lib/python3.8/site-packages/numpy/lib/histograms.py\u001b[0m in \u001b[0;36m_get_bin_edges\u001b[0;34m(a, bins, range, weights)\u001b[0m\n\u001b[1;32m    424\u001b[0m             \u001b[0;32mraise\u001b[0m \u001b[0mValueError\u001b[0m\u001b[0;34m(\u001b[0m\u001b[0;34m'`bins` must be positive, when an integer'\u001b[0m\u001b[0;34m)\u001b[0m\u001b[0;34m\u001b[0m\u001b[0;34m\u001b[0m\u001b[0m\n\u001b[1;32m    425\u001b[0m \u001b[0;34m\u001b[0m\u001b[0m\n\u001b[0;32m--> 426\u001b[0;31m         \u001b[0mfirst_edge\u001b[0m\u001b[0;34m,\u001b[0m \u001b[0mlast_edge\u001b[0m \u001b[0;34m=\u001b[0m \u001b[0m_get_outer_edges\u001b[0m\u001b[0;34m(\u001b[0m\u001b[0ma\u001b[0m\u001b[0;34m,\u001b[0m \u001b[0mrange\u001b[0m\u001b[0;34m)\u001b[0m\u001b[0;34m\u001b[0m\u001b[0;34m\u001b[0m\u001b[0m\n\u001b[0m\u001b[1;32m    427\u001b[0m \u001b[0;34m\u001b[0m\u001b[0m\n\u001b[1;32m    428\u001b[0m     \u001b[0;32melif\u001b[0m \u001b[0mnp\u001b[0m\u001b[0;34m.\u001b[0m\u001b[0mndim\u001b[0m\u001b[0;34m(\u001b[0m\u001b[0mbins\u001b[0m\u001b[0;34m)\u001b[0m \u001b[0;34m==\u001b[0m \u001b[0;36m1\u001b[0m\u001b[0;34m:\u001b[0m\u001b[0;34m\u001b[0m\u001b[0;34m\u001b[0m\u001b[0m\n",
      "\u001b[0;32m/glade/work/dgagne/miniconda3/envs/mlmicro/lib/python3.8/site-packages/numpy/lib/histograms.py\u001b[0m in \u001b[0;36m_get_outer_edges\u001b[0;34m(a, range)\u001b[0m\n\u001b[1;32m    313\u001b[0m                 'max must be larger than min in range parameter.')\n\u001b[1;32m    314\u001b[0m         \u001b[0;32mif\u001b[0m \u001b[0;32mnot\u001b[0m \u001b[0;34m(\u001b[0m\u001b[0mnp\u001b[0m\u001b[0;34m.\u001b[0m\u001b[0misfinite\u001b[0m\u001b[0;34m(\u001b[0m\u001b[0mfirst_edge\u001b[0m\u001b[0;34m)\u001b[0m \u001b[0;32mand\u001b[0m \u001b[0mnp\u001b[0m\u001b[0;34m.\u001b[0m\u001b[0misfinite\u001b[0m\u001b[0;34m(\u001b[0m\u001b[0mlast_edge\u001b[0m\u001b[0;34m)\u001b[0m\u001b[0;34m)\u001b[0m\u001b[0;34m:\u001b[0m\u001b[0;34m\u001b[0m\u001b[0;34m\u001b[0m\u001b[0m\n\u001b[0;32m--> 315\u001b[0;31m             raise ValueError(\n\u001b[0m\u001b[1;32m    316\u001b[0m                 \"supplied range of [{}, {}] is not finite\".format(first_edge, last_edge))\n\u001b[1;32m    317\u001b[0m     \u001b[0;32melif\u001b[0m \u001b[0ma\u001b[0m\u001b[0;34m.\u001b[0m\u001b[0msize\u001b[0m \u001b[0;34m==\u001b[0m \u001b[0;36m0\u001b[0m\u001b[0;34m:\u001b[0m\u001b[0;34m\u001b[0m\u001b[0;34m\u001b[0m\u001b[0m\n",
      "\u001b[0;31mValueError\u001b[0m: supplied range of [-inf, -2.497598171234131] is not finite"
     ]
    },
    {
     "data": {
      "image/png": "[encoded data removed]",
      "text/plain": [
       "<Figure size 432x288 with 1 Axes>"
      ]
     },
     "metadata": {
      "needs_background": "light"
     },
     "output_type": "display_data"
    }
   ],
   "source": [
    "np.log10(mp_data.loc[mp_data[\"pgam\"] < -1, \"QR_TAU_in\"]).hist()"
   ]
  },
  {
   "cell_type": "code",
   "execution_count": null,
   "id": "aa5bfd6a-3a5c-44a8-b300-3155b1b37631",
   "metadata": {},
   "outputs": [],
   "source": []
  },
  {
   "cell_type": "code",
   "execution_count": null,
   "id": "c81e2ab0-2010-454b-9785-121d94c2fe08",
   "metadata": {},
   "outputs": [],
   "source": []
  },
  {
   "cell_type": "code",
   "execution_count": 197,
   "id": "6557bb06-872d-418c-a2f9-158dfd17875a",
   "metadata": {},
   "outputs": [
    {
     "data": {
      "text/plain": [
       "lat                -4.287958e+01\n",
       "lev                 8.208584e+02\n",
       "lon                 1.100000e+02\n",
       "P0                  1.000000e+05\n",
       "PS                  1.015916e+05\n",
       "depth               2.400000e+01\n",
       "row                 5.000000e+01\n",
       "col                 8.800000e+01\n",
       "hyam                3.718866e-02\n",
       "hybm                7.836697e-01\n",
       "pressure            8.333310e+04\n",
       "temperature         2.717724e+02\n",
       "RHO_CLUBB_lev       1.068391e+00\n",
       "RHO_CLUBB_top       1.044226e+00\n",
       "RHO_CLUBB_bottom    1.092557e+00\n",
       "QC_TAU_in           1.175494e-38\n",
       "NC_TAU_in           1.000000e-12\n",
       "QR_TAU_in           5.817244e-06\n",
       "NR_TAU_in           2.422728e+02\n",
       "lamc                1.500000e+06\n",
       "lamr                8.974171e+03\n",
       "lcldm               1.000000e-04\n",
       "n0r                 2.212028e+10\n",
       "pgam                2.000000e+00\n",
       "precip_frac         1.000000e-04\n",
       "qctend_MG2          0.000000e+00\n",
       "qctend_TAU          0.000000e+00\n",
       "nctend_MG2          0.000000e+00\n",
       "nctend_TAU          0.000000e+00\n",
       "qrtend_MG2          0.000000e+00\n",
       "qrtend_TAU         -4.016501e-25\n",
       "nrtend_MG2         -4.037839e-01\n",
       "nrtend_TAU         -1.545137e-03\n",
       "QC_TAU_out          1.175494e-38\n",
       "NC_TAU_out          1.000000e-12\n",
       "QR_TAU_out          5.817244e-06\n",
       "NR_TAU_out          2.394916e+02\n",
       "QC_MG2_out          1.175494e-38\n",
       "NC_MG2_out          1.000000e-12\n",
       "QR_MG2_out          5.817244e-06\n",
       "NR_MG2_out         -4.845383e+02\n",
       "time                0.000000e+00\n",
       "frac_mass           5.817244e-10\n",
       "Q_mass_in           5.817244e-06\n",
       "mass_diff_TAU       0.000000e+00\n",
       "mass_diff_MG2       0.000000e+00\n",
       "tend_diff_TAU      -4.016501e-25\n",
       "tend_diff_MG2       0.000000e+00\n",
       "Name: 122031, dtype: float64"
      ]
     },
     "execution_count": 197,
     "metadata": {},
     "output_type": "execute_result"
    }
   ],
   "source": [
    "mp_data.loc[q]"
   ]
  },
  {
   "cell_type": "code",
   "execution_count": 194,
   "id": "a0fd0f11-cd3f-4233-a2f4-15443a1f0e8d",
   "metadata": {},
   "outputs": [
    {
     "data": {
      "text/plain": [
       "122031"
      ]
     },
     "execution_count": 194,
     "metadata": {},
     "output_type": "execute_result"
    }
   ],
   "source": [
    "mp_data.loc[(mp_data[\"pgam\"] > 1) & (mp_data[\"qrtend_TAU\"] < 0)][\"QC_TAU_in\"].idxmin()"
   ]
  },
  {
   "cell_type": "code",
   "execution_count": 106,
   "id": "2f99370f-32a0-4610-b971-b2a3913757d7",
   "metadata": {},
   "outputs": [
    {
     "data": {
      "text/plain": [
       "<AxesSubplot:>"
      ]
     },
     "execution_count": 106,
     "metadata": {},
     "output_type": "execute_result"
    },
    {
     "data": {
      "image/png": "[encoded data removed]",
      "text/plain": [
       "<Figure size 432x288 with 1 Axes>"
      ]
     },
     "metadata": {
      "needs_background": "light"
     },
     "output_type": "display_data"
    }
   ],
   "source": [
    "mp_data[\"pgam\"].hist(bins=np.arange(-0.5, 11.5, 1))\n",
    "#plt.gca().set_yscale(\"log\")"
   ]
  },
  {
   "cell_type": "code",
   "execution_count": 183,
   "id": "dfd8832d-35e0-40ef-9a34-7c7e88b352df",
   "metadata": {},
   "outputs": [
    {
     "data": {
      "text/plain": [
       "239527"
      ]
     },
     "execution_count": 183,
     "metadata": {},
     "output_type": "execute_result"
    }
   ],
   "source": [
    " mp_data[\"QR_TAU_in\"].idxmax()"
   ]
  },
  {
   "cell_type": "code",
   "execution_count": 22,
   "id": "6643760b-cace-4ea4-8a8f-1240b100da72",
   "metadata": {},
   "outputs": [
    {
     "data": {
      "text/html": [
       "<div>\n",
       "<style scoped>\n",
       "    .dataframe tbody tr th:only-of-type {\n",
       "        vertical-align: middle;\n",
       "    }\n",
       "\n",
       "    .dataframe tbody tr th {\n",
       "        vertical-align: top;\n",
       "    }\n",
       "\n",
       "    .dataframe thead th {\n",
       "        text-align: right;\n",
       "    }\n",
       "</style>\n",
       "<table border=\"1\" class=\"dataframe\">\n",
       "  <thead>\n",
       "    <tr style=\"text-align: right;\">\n",
       "      <th></th>\n",
       "      <th>lat</th>\n",
       "      <th>lev</th>\n",
       "      <th>lon</th>\n",
       "      <th>P0</th>\n",
       "      <th>PS</th>\n",
       "      <th>depth</th>\n",
       "      <th>row</th>\n",
       "      <th>col</th>\n",
       "      <th>hyam</th>\n",
       "      <th>hybm</th>\n",
       "      <th>...</th>\n",
       "      <th>NC_MG2_out</th>\n",
       "      <th>QR_MG2_out</th>\n",
       "      <th>NR_MG2_out</th>\n",
       "      <th>time</th>\n",
       "      <th>frac_mass</th>\n",
       "      <th>Q_mass_in</th>\n",
       "      <th>mass_diff_TAU</th>\n",
       "      <th>mass_diff_MG2</th>\n",
       "      <th>tend_diff_TAU</th>\n",
       "      <th>tend_diff_MG2</th>\n",
       "    </tr>\n",
       "  </thead>\n",
       "  <tbody>\n",
       "    <tr>\n",
       "      <th>5440</th>\n",
       "      <td>-88.115183</td>\n",
       "      <td>957.485480</td>\n",
       "      <td>31.25</td>\n",
       "      <td>100000.0</td>\n",
       "      <td>68667.195312</td>\n",
       "      <td>29</td>\n",
       "      <td>2</td>\n",
       "      <td>25</td>\n",
       "      <td>0.006255</td>\n",
       "      <td>0.951231</td>\n",
       "      <td>...</td>\n",
       "      <td>9740750.0</td>\n",
       "      <td>5.883593e-11</td>\n",
       "      <td>0.898947</td>\n",
       "      <td>0.000000</td>\n",
       "      <td>0.000003</td>\n",
       "      <td>0.000003</td>\n",
       "      <td>0.0</td>\n",
       "      <td>0.000000e+00</td>\n",
       "      <td>3.867864e-25</td>\n",
       "      <td>0.0</td>\n",
       "    </tr>\n",
       "    <tr>\n",
       "      <th>5442</th>\n",
       "      <td>-88.115183</td>\n",
       "      <td>957.485480</td>\n",
       "      <td>33.75</td>\n",
       "      <td>100000.0</td>\n",
       "      <td>68518.976562</td>\n",
       "      <td>29</td>\n",
       "      <td>2</td>\n",
       "      <td>27</td>\n",
       "      <td>0.006255</td>\n",
       "      <td>0.951231</td>\n",
       "      <td>...</td>\n",
       "      <td>8702992.0</td>\n",
       "      <td>3.584580e-10</td>\n",
       "      <td>5.476834</td>\n",
       "      <td>0.000000</td>\n",
       "      <td>0.000006</td>\n",
       "      <td>0.000006</td>\n",
       "      <td>0.0</td>\n",
       "      <td>0.000000e+00</td>\n",
       "      <td>2.097941e-24</td>\n",
       "      <td>0.0</td>\n",
       "    </tr>\n",
       "    <tr>\n",
       "      <th>5444</th>\n",
       "      <td>-88.115183</td>\n",
       "      <td>957.485480</td>\n",
       "      <td>36.25</td>\n",
       "      <td>100000.0</td>\n",
       "      <td>68371.421875</td>\n",
       "      <td>29</td>\n",
       "      <td>2</td>\n",
       "      <td>29</td>\n",
       "      <td>0.006255</td>\n",
       "      <td>0.951231</td>\n",
       "      <td>...</td>\n",
       "      <td>9087311.0</td>\n",
       "      <td>9.075018e-10</td>\n",
       "      <td>13.865605</td>\n",
       "      <td>0.000000</td>\n",
       "      <td>0.000009</td>\n",
       "      <td>0.000009</td>\n",
       "      <td>0.0</td>\n",
       "      <td>0.000000e+00</td>\n",
       "      <td>1.074769e-24</td>\n",
       "      <td>0.0</td>\n",
       "    </tr>\n",
       "    <tr>\n",
       "      <th>5449</th>\n",
       "      <td>-88.115183</td>\n",
       "      <td>957.485480</td>\n",
       "      <td>42.50</td>\n",
       "      <td>100000.0</td>\n",
       "      <td>68013.281250</td>\n",
       "      <td>29</td>\n",
       "      <td>2</td>\n",
       "      <td>34</td>\n",
       "      <td>0.006255</td>\n",
       "      <td>0.951231</td>\n",
       "      <td>...</td>\n",
       "      <td>8552008.0</td>\n",
       "      <td>1.016900e-09</td>\n",
       "      <td>15.537095</td>\n",
       "      <td>0.000000</td>\n",
       "      <td>0.000009</td>\n",
       "      <td>0.000009</td>\n",
       "      <td>0.0</td>\n",
       "      <td>0.000000e+00</td>\n",
       "      <td>3.934396e-25</td>\n",
       "      <td>0.0</td>\n",
       "    </tr>\n",
       "    <tr>\n",
       "      <th>5450</th>\n",
       "      <td>-88.115183</td>\n",
       "      <td>957.485480</td>\n",
       "      <td>43.75</td>\n",
       "      <td>100000.0</td>\n",
       "      <td>67944.789062</td>\n",
       "      <td>29</td>\n",
       "      <td>2</td>\n",
       "      <td>35</td>\n",
       "      <td>0.006255</td>\n",
       "      <td>0.951231</td>\n",
       "      <td>...</td>\n",
       "      <td>7424966.0</td>\n",
       "      <td>7.946899e-10</td>\n",
       "      <td>12.141966</td>\n",
       "      <td>0.000000</td>\n",
       "      <td>0.000008</td>\n",
       "      <td>0.000008</td>\n",
       "      <td>0.0</td>\n",
       "      <td>0.000000e+00</td>\n",
       "      <td>3.525568e-24</td>\n",
       "      <td>0.0</td>\n",
       "    </tr>\n",
       "    <tr>\n",
       "      <th>...</th>\n",
       "      <td>...</td>\n",
       "      <td>...</td>\n",
       "      <td>...</td>\n",
       "      <td>...</td>\n",
       "      <td>...</td>\n",
       "      <td>...</td>\n",
       "      <td>...</td>\n",
       "      <td>...</td>\n",
       "      <td>...</td>\n",
       "      <td>...</td>\n",
       "      <td>...</td>\n",
       "      <td>...</td>\n",
       "      <td>...</td>\n",
       "      <td>...</td>\n",
       "      <td>...</td>\n",
       "      <td>...</td>\n",
       "      <td>...</td>\n",
       "      <td>...</td>\n",
       "      <td>...</td>\n",
       "      <td>...</td>\n",
       "      <td>...</td>\n",
       "    </tr>\n",
       "    <tr>\n",
       "      <th>8103710</th>\n",
       "      <td>90.000000</td>\n",
       "      <td>912.644547</td>\n",
       "      <td>350.00</td>\n",
       "      <td>100000.0</td>\n",
       "      <td>101626.414062</td>\n",
       "      <td>27</td>\n",
       "      <td>191</td>\n",
       "      <td>280</td>\n",
       "      <td>0.016407</td>\n",
       "      <td>0.896237</td>\n",
       "      <td>...</td>\n",
       "      <td>5174241.5</td>\n",
       "      <td>2.681763e-08</td>\n",
       "      <td>411.307007</td>\n",
       "      <td>395.833333</td>\n",
       "      <td>0.000032</td>\n",
       "      <td>0.000032</td>\n",
       "      <td>0.0</td>\n",
       "      <td>3.637979e-12</td>\n",
       "      <td>2.263761e-23</td>\n",
       "      <td>0.0</td>\n",
       "    </tr>\n",
       "    <tr>\n",
       "      <th>8103712</th>\n",
       "      <td>90.000000</td>\n",
       "      <td>912.644547</td>\n",
       "      <td>352.50</td>\n",
       "      <td>100000.0</td>\n",
       "      <td>101626.414062</td>\n",
       "      <td>27</td>\n",
       "      <td>191</td>\n",
       "      <td>282</td>\n",
       "      <td>0.016407</td>\n",
       "      <td>0.896237</td>\n",
       "      <td>...</td>\n",
       "      <td>5174241.5</td>\n",
       "      <td>2.681763e-08</td>\n",
       "      <td>411.307007</td>\n",
       "      <td>395.833333</td>\n",
       "      <td>0.000032</td>\n",
       "      <td>0.000032</td>\n",
       "      <td>0.0</td>\n",
       "      <td>3.637979e-12</td>\n",
       "      <td>5.519855e-24</td>\n",
       "      <td>0.0</td>\n",
       "    </tr>\n",
       "    <tr>\n",
       "      <th>8103713</th>\n",
       "      <td>90.000000</td>\n",
       "      <td>912.644547</td>\n",
       "      <td>353.75</td>\n",
       "      <td>100000.0</td>\n",
       "      <td>101626.414062</td>\n",
       "      <td>27</td>\n",
       "      <td>191</td>\n",
       "      <td>283</td>\n",
       "      <td>0.016407</td>\n",
       "      <td>0.896237</td>\n",
       "      <td>...</td>\n",
       "      <td>5174241.5</td>\n",
       "      <td>2.681763e-08</td>\n",
       "      <td>411.307007</td>\n",
       "      <td>395.833333</td>\n",
       "      <td>0.000032</td>\n",
       "      <td>0.000032</td>\n",
       "      <td>0.0</td>\n",
       "      <td>3.637979e-12</td>\n",
       "      <td>3.716456e-24</td>\n",
       "      <td>0.0</td>\n",
       "    </tr>\n",
       "    <tr>\n",
       "      <th>8103714</th>\n",
       "      <td>90.000000</td>\n",
       "      <td>912.644547</td>\n",
       "      <td>355.00</td>\n",
       "      <td>100000.0</td>\n",
       "      <td>101626.414062</td>\n",
       "      <td>27</td>\n",
       "      <td>191</td>\n",
       "      <td>284</td>\n",
       "      <td>0.016407</td>\n",
       "      <td>0.896237</td>\n",
       "      <td>...</td>\n",
       "      <td>5174241.5</td>\n",
       "      <td>2.681763e-08</td>\n",
       "      <td>411.307007</td>\n",
       "      <td>395.833333</td>\n",
       "      <td>0.000032</td>\n",
       "      <td>0.000032</td>\n",
       "      <td>0.0</td>\n",
       "      <td>3.637979e-12</td>\n",
       "      <td>4.751644e-24</td>\n",
       "      <td>0.0</td>\n",
       "    </tr>\n",
       "    <tr>\n",
       "      <th>8103716</th>\n",
       "      <td>90.000000</td>\n",
       "      <td>912.644547</td>\n",
       "      <td>357.50</td>\n",
       "      <td>100000.0</td>\n",
       "      <td>101626.414062</td>\n",
       "      <td>27</td>\n",
       "      <td>191</td>\n",
       "      <td>286</td>\n",
       "      <td>0.016407</td>\n",
       "      <td>0.896237</td>\n",
       "      <td>...</td>\n",
       "      <td>5174241.5</td>\n",
       "      <td>2.681763e-08</td>\n",
       "      <td>411.307007</td>\n",
       "      <td>395.833333</td>\n",
       "      <td>0.000032</td>\n",
       "      <td>0.000032</td>\n",
       "      <td>0.0</td>\n",
       "      <td>3.637979e-12</td>\n",
       "      <td>1.975661e-24</td>\n",
       "      <td>0.0</td>\n",
       "    </tr>\n",
       "  </tbody>\n",
       "</table>\n",
       "<p>766634 rows × 48 columns</p>\n",
       "</div>"
      ],
      "text/plain": [
       "               lat         lev     lon        P0             PS  depth  row  \\\n",
       "5440    -88.115183  957.485480   31.25  100000.0   68667.195312     29    2   \n",
       "5442    -88.115183  957.485480   33.75  100000.0   68518.976562     29    2   \n",
       "5444    -88.115183  957.485480   36.25  100000.0   68371.421875     29    2   \n",
       "5449    -88.115183  957.485480   42.50  100000.0   68013.281250     29    2   \n",
       "5450    -88.115183  957.485480   43.75  100000.0   67944.789062     29    2   \n",
       "...            ...         ...     ...       ...            ...    ...  ...   \n",
       "8103710  90.000000  912.644547  350.00  100000.0  101626.414062     27  191   \n",
       "8103712  90.000000  912.644547  352.50  100000.0  101626.414062     27  191   \n",
       "8103713  90.000000  912.644547  353.75  100000.0  101626.414062     27  191   \n",
       "8103714  90.000000  912.644547  355.00  100000.0  101626.414062     27  191   \n",
       "8103716  90.000000  912.644547  357.50  100000.0  101626.414062     27  191   \n",
       "\n",
       "         col      hyam      hybm  ...  NC_MG2_out    QR_MG2_out  NR_MG2_out  \\\n",
       "5440      25  0.006255  0.951231  ...   9740750.0  5.883593e-11    0.898947   \n",
       "5442      27  0.006255  0.951231  ...   8702992.0  3.584580e-10    5.476834   \n",
       "5444      29  0.006255  0.951231  ...   9087311.0  9.075018e-10   13.865605   \n",
       "5449      34  0.006255  0.951231  ...   8552008.0  1.016900e-09   15.537095   \n",
       "5450      35  0.006255  0.951231  ...   7424966.0  7.946899e-10   12.141966   \n",
       "...      ...       ...       ...  ...         ...           ...         ...   \n",
       "8103710  280  0.016407  0.896237  ...   5174241.5  2.681763e-08  411.307007   \n",
       "8103712  282  0.016407  0.896237  ...   5174241.5  2.681763e-08  411.307007   \n",
       "8103713  283  0.016407  0.896237  ...   5174241.5  2.681763e-08  411.307007   \n",
       "8103714  284  0.016407  0.896237  ...   5174241.5  2.681763e-08  411.307007   \n",
       "8103716  286  0.016407  0.896237  ...   5174241.5  2.681763e-08  411.307007   \n",
       "\n",
       "               time  frac_mass  Q_mass_in  mass_diff_TAU  mass_diff_MG2  \\\n",
       "5440       0.000000   0.000003   0.000003            0.0   0.000000e+00   \n",
       "5442       0.000000   0.000006   0.000006            0.0   0.000000e+00   \n",
       "5444       0.000000   0.000009   0.000009            0.0   0.000000e+00   \n",
       "5449       0.000000   0.000009   0.000009            0.0   0.000000e+00   \n",
       "5450       0.000000   0.000008   0.000008            0.0   0.000000e+00   \n",
       "...             ...        ...        ...            ...            ...   \n",
       "8103710  395.833333   0.000032   0.000032            0.0   3.637979e-12   \n",
       "8103712  395.833333   0.000032   0.000032            0.0   3.637979e-12   \n",
       "8103713  395.833333   0.000032   0.000032            0.0   3.637979e-12   \n",
       "8103714  395.833333   0.000032   0.000032            0.0   3.637979e-12   \n",
       "8103716  395.833333   0.000032   0.000032            0.0   3.637979e-12   \n",
       "\n",
       "         tend_diff_TAU  tend_diff_MG2  \n",
       "5440      3.867864e-25            0.0  \n",
       "5442      2.097941e-24            0.0  \n",
       "5444      1.074769e-24            0.0  \n",
       "5449      3.934396e-25            0.0  \n",
       "5450      3.525568e-24            0.0  \n",
       "...                ...            ...  \n",
       "8103710   2.263761e-23            0.0  \n",
       "8103712   5.519855e-24            0.0  \n",
       "8103713   3.716456e-24            0.0  \n",
       "8103714   4.751644e-24            0.0  \n",
       "8103716   1.975661e-24            0.0  \n",
       "\n",
       "[766634 rows x 48 columns]"
      ]
     },
     "execution_count": 22,
     "metadata": {},
     "output_type": "execute_result"
    }
   ],
   "source": [
    "mp_data.loc[mp_data[\"tend_diff_TAU\"] > 0]"
   ]
  },
  {
   "cell_type": "code",
   "execution_count": 35,
   "id": "265c916f-246d-48a2-82d9-b16c2faeedea",
   "metadata": {},
   "outputs": [
    {
     "data": {
      "image/png": "[encoded data removed]",
      "text/plain": [
       "<Figure size 432x288 with 1 Axes>"
      ]
     },
     "metadata": {
      "needs_background": "light"
     },
     "output_type": "display_data"
    }
   ],
   "source": [
    "plt.hist(np.abs(mp_data[\"frac_mass\"] - mp_data[\"Q_mass_in\"]), bins=100)\n",
    "plt.gca().set_yscale(\"log\")"
   ]
  },
  {
   "cell_type": "code",
   "execution_count": 34,
   "id": "2b424b12-124c-4ab5-9602-4f462517e746",
   "metadata": {},
   "outputs": [
    {
     "data": {
      "text/plain": [
       "0.9274353567669809"
      ]
     },
     "execution_count": 34,
     "metadata": {},
     "output_type": "execute_result"
    }
   ],
   "source": [
    "np.count_nonzero(np.abs(mp_data[\"frac_mass\"] - mp_data[\"Q_mass_in\"]) > 0) / mp_data.shape[0]"
   ]
  },
  {
   "cell_type": "code",
   "execution_count": 89,
   "id": "suspended-raising",
   "metadata": {},
   "outputs": [
    {
     "data": {
      "image/png": "[encoded data removed]",
      "text/plain": [
       "<Figure size 432x288 with 1 Axes>"
      ]
     },
     "metadata": {
      "needs_background": "light"
     },
     "output_type": "display_data"
    }
   ],
   "source": [
    "plt.hist(np.abs(mp_data[\"lcldm_logit\"] - mp_data[\"precip_frac_logit\"]), bins=50)\n",
    "plt.gca().set_yscale('log')"
   ]
  },
  {
   "cell_type": "code",
   "execution_count": 40,
   "id": "cross-thunder",
   "metadata": {},
   "outputs": [
    {
     "data": {
      "image/png": "[encoded data removed]",
      "text/plain": [
       "<Figure size 432x288 with 1 Axes>"
      ]
     },
     "metadata": {
      "needs_background": "light"
     },
     "output_type": "display_data"
    }
   ],
   "source": [
    "plt.hist(np.abs(mp_data[\"frac_mass\"] - (mp_data[\"QC_TAU_out\"] + mp_data[\"QR_TAU_out\"])), bins=100)\n",
    "plt.gca().set_yscale('log')"
   ]
  },
  {
   "cell_type": "code",
   "execution_count": 41,
   "id": "expired-frank",
   "metadata": {},
   "outputs": [
    {
     "data": {
      "text/plain": [
       "0.9416364482095333"
      ]
     },
     "execution_count": 41,
     "metadata": {},
     "output_type": "execute_result"
    }
   ],
   "source": [
    "np.count_nonzero(np.abs(mp_data[\"frac_mass\"] - (mp_data[\"QC_TAU_out\"] + mp_data[\"QR_TAU_out\"]))) / mp_data.shape[0]"
   ]
  },
  {
   "cell_type": "code",
   "execution_count": 13,
   "id": "grateful-modeling",
   "metadata": {},
   "outputs": [],
   "source": [
    "mp_data.loc[:, \"mass_diff_TAU\"] = (mp_data[\"QC_TAU_out\"].values + mp_data[\"QR_TAU_out\"].values) - (mp_data[\"QC_TAU_in\"].values + mp_data[\"QR_TAU_in\"].values)\n",
    "mp_data.loc[:, \"mass_diff_MG2\"] = (mp_data[\"QC_MG2_out\"].values + mp_data[\"QR_MG2_out\"].values) - (mp_data[\"QC_TAU_in\"].values + mp_data[\"QR_TAU_in\"].values)\n",
    "mp_data.loc[:, \"tend_diff_TAU\"] = (mp_data[\"qctend_TAU\"].values + mp_data[\"qrtend_TAU\"].values)\n",
    "mp_data.loc[:, \"tend_diff_MG2\"] = (mp_data[\"qctend_MG2\"].values + mp_data[\"qrtend_MG2\"].values)\n",
    "ix = (mp_data[\"tend_diff_TAU\"] == 0) & (mp_data[\"mass_diff_TAU\"] == 0) & np.all(mp_data[[\"QC_TAU_out\", \"QR_TAU_out\", \"NC_TAU_out\", \"NR_TAU_out\"]] >= 0, axis=1)\n",
    "mp_mass_data = mp_data.loc[ix].reset_index()"
   ]
  },
  {
   "cell_type": "code",
   "execution_count": 199,
   "id": "a597256b-d1da-4799-bf44-55a4dd7df217",
   "metadata": {},
   "outputs": [
    {
     "data": {
      "text/plain": [
       "0.39685949375753893"
      ]
     },
     "execution_count": 199,
     "metadata": {},
     "output_type": "execute_result"
    }
   ],
   "source": [
    "np.count_nonzero(mp_mass_data[\"pgam\"] < -1) / mp_mass_data.shape[0]"
   ]
  },
  {
   "cell_type": "code",
   "execution_count": 200,
   "id": "c688f0e2-1061-4935-a290-3fa6dfe8652b",
   "metadata": {},
   "outputs": [
    {
     "data": {
      "text/plain": [
       "index               0.000000e+00\n",
       "lat                -9.000000e+01\n",
       "lev                 3.643466e+00\n",
       "lon                 0.000000e+00\n",
       "P0                  1.000000e+05\n",
       "PS                  6.834913e+04\n",
       "depth               0.000000e+00\n",
       "row                 0.000000e+00\n",
       "col                 0.000000e+00\n",
       "hyam                3.643466e-03\n",
       "hybm                0.000000e+00\n",
       "pressure            3.643466e+02\n",
       "temperature         1.725399e+02\n",
       "RHO_CLUBB_lev       7.357718e-03\n",
       "RHO_CLUBB_top       4.597879e-03\n",
       "RHO_CLUBB_bottom    1.011756e-02\n",
       "QC_TAU_in           9.563975e-23\n",
       "NC_TAU_in           1.000000e-12\n",
       "QR_TAU_in           6.149233e-23\n",
       "NR_TAU_in           1.000000e-12\n",
       "lamc                0.000000e+00\n",
       "lamr                0.000000e+00\n",
       "lcldm               1.000000e-04\n",
       "n0r                 0.000000e+00\n",
       "pgam               -1.000000e+02\n",
       "precip_frac         1.000000e-04\n",
       "qctend_MG2          0.000000e+00\n",
       "qctend_TAU          0.000000e+00\n",
       "nctend_MG2          0.000000e+00\n",
       "nctend_TAU          0.000000e+00\n",
       "qrtend_MG2          0.000000e+00\n",
       "qrtend_TAU          0.000000e+00\n",
       "nrtend_MG2          0.000000e+00\n",
       "nrtend_TAU          0.000000e+00\n",
       "QC_TAU_out          9.563975e-23\n",
       "NC_TAU_out          1.000000e-12\n",
       "QR_TAU_out          6.149233e-23\n",
       "NR_TAU_out          1.000000e-12\n",
       "QC_MG2_out          9.563975e-23\n",
       "NC_MG2_out          1.000000e-12\n",
       "QR_MG2_out          6.149233e-23\n",
       "NR_MG2_out          1.000000e-12\n",
       "time                0.000000e+00\n",
       "frac_mass           1.571321e-26\n",
       "Q_mass_in           1.571321e-22\n",
       "mass_diff_TAU       0.000000e+00\n",
       "mass_diff_MG2       0.000000e+00\n",
       "tend_diff_TAU       0.000000e+00\n",
       "tend_diff_MG2       0.000000e+00\n",
       "Name: 0, dtype: float64"
      ]
     },
     "execution_count": 200,
     "metadata": {},
     "output_type": "execute_result"
    }
   ],
   "source": [
    "mp_mass_data.loc[(mp_mass_data[\"pgam\"]) & (mp_mass_data[\"qrtend_TAU\"] < )] < -1].iloc[0]"
   ]
  },
  {
   "cell_type": "code",
   "execution_count": 11,
   "id": "a97179c6-cc60-4450-9fdc-ef9eddcd52f6",
   "metadata": {},
   "outputs": [
    {
     "data": {
      "text/html": [
       "<div>\n",
       "<style scoped>\n",
       "    .dataframe tbody tr th:only-of-type {\n",
       "        vertical-align: middle;\n",
       "    }\n",
       "\n",
       "    .dataframe tbody tr th {\n",
       "        vertical-align: top;\n",
       "    }\n",
       "\n",
       "    .dataframe thead th {\n",
       "        text-align: right;\n",
       "    }\n",
       "</style>\n",
       "<table border=\"1\" class=\"dataframe\">\n",
       "  <thead>\n",
       "    <tr style=\"text-align: right;\">\n",
       "      <th></th>\n",
       "      <th>index</th>\n",
       "      <th>lat</th>\n",
       "      <th>lev</th>\n",
       "      <th>lon</th>\n",
       "      <th>P0</th>\n",
       "      <th>PS</th>\n",
       "      <th>depth</th>\n",
       "      <th>row</th>\n",
       "      <th>col</th>\n",
       "      <th>hyam</th>\n",
       "      <th>...</th>\n",
       "      <th>NR_TAU_out</th>\n",
       "      <th>QC_MG2_out</th>\n",
       "      <th>NC_MG2_out</th>\n",
       "      <th>QR_MG2_out</th>\n",
       "      <th>NR_MG2_out</th>\n",
       "      <th>time</th>\n",
       "      <th>mass_diff_TAU</th>\n",
       "      <th>mass_diff_MG2</th>\n",
       "      <th>tend_diff_TAU</th>\n",
       "      <th>tend_diff_MG2</th>\n",
       "    </tr>\n",
       "  </thead>\n",
       "  <tbody>\n",
       "    <tr>\n",
       "      <th>0</th>\n",
       "      <td>0</td>\n",
       "      <td>-90.0</td>\n",
       "      <td>3.643466</td>\n",
       "      <td>0.00</td>\n",
       "      <td>100000.0</td>\n",
       "      <td>68349.132812</td>\n",
       "      <td>0</td>\n",
       "      <td>0</td>\n",
       "      <td>0</td>\n",
       "      <td>0.003643</td>\n",
       "      <td>...</td>\n",
       "      <td>1.000000e-12</td>\n",
       "      <td>9.563975e-23</td>\n",
       "      <td>1.000000e-12</td>\n",
       "      <td>6.149233e-23</td>\n",
       "      <td>1.000000e-12</td>\n",
       "      <td>0.000000</td>\n",
       "      <td>0.0</td>\n",
       "      <td>0.000000e+00</td>\n",
       "      <td>0.0</td>\n",
       "      <td>0.0</td>\n",
       "    </tr>\n",
       "    <tr>\n",
       "      <th>1</th>\n",
       "      <td>1</td>\n",
       "      <td>-90.0</td>\n",
       "      <td>3.643466</td>\n",
       "      <td>1.25</td>\n",
       "      <td>100000.0</td>\n",
       "      <td>68349.132812</td>\n",
       "      <td>0</td>\n",
       "      <td>0</td>\n",
       "      <td>1</td>\n",
       "      <td>0.003643</td>\n",
       "      <td>...</td>\n",
       "      <td>1.000000e-12</td>\n",
       "      <td>9.563975e-23</td>\n",
       "      <td>1.000000e-12</td>\n",
       "      <td>6.149233e-23</td>\n",
       "      <td>1.000000e-12</td>\n",
       "      <td>0.000000</td>\n",
       "      <td>0.0</td>\n",
       "      <td>0.000000e+00</td>\n",
       "      <td>0.0</td>\n",
       "      <td>0.0</td>\n",
       "    </tr>\n",
       "    <tr>\n",
       "      <th>2</th>\n",
       "      <td>2</td>\n",
       "      <td>-90.0</td>\n",
       "      <td>3.643466</td>\n",
       "      <td>2.50</td>\n",
       "      <td>100000.0</td>\n",
       "      <td>68349.132812</td>\n",
       "      <td>0</td>\n",
       "      <td>0</td>\n",
       "      <td>2</td>\n",
       "      <td>0.003643</td>\n",
       "      <td>...</td>\n",
       "      <td>1.000000e-12</td>\n",
       "      <td>9.563975e-23</td>\n",
       "      <td>1.000000e-12</td>\n",
       "      <td>6.149233e-23</td>\n",
       "      <td>1.000000e-12</td>\n",
       "      <td>0.000000</td>\n",
       "      <td>0.0</td>\n",
       "      <td>0.000000e+00</td>\n",
       "      <td>0.0</td>\n",
       "      <td>0.0</td>\n",
       "    </tr>\n",
       "    <tr>\n",
       "      <th>3</th>\n",
       "      <td>3</td>\n",
       "      <td>-90.0</td>\n",
       "      <td>3.643466</td>\n",
       "      <td>3.75</td>\n",
       "      <td>100000.0</td>\n",
       "      <td>68349.132812</td>\n",
       "      <td>0</td>\n",
       "      <td>0</td>\n",
       "      <td>3</td>\n",
       "      <td>0.003643</td>\n",
       "      <td>...</td>\n",
       "      <td>1.000000e-12</td>\n",
       "      <td>9.563975e-23</td>\n",
       "      <td>1.000000e-12</td>\n",
       "      <td>6.149233e-23</td>\n",
       "      <td>1.000000e-12</td>\n",
       "      <td>0.000000</td>\n",
       "      <td>0.0</td>\n",
       "      <td>0.000000e+00</td>\n",
       "      <td>0.0</td>\n",
       "      <td>0.0</td>\n",
       "    </tr>\n",
       "    <tr>\n",
       "      <th>4</th>\n",
       "      <td>4</td>\n",
       "      <td>-90.0</td>\n",
       "      <td>3.643466</td>\n",
       "      <td>5.00</td>\n",
       "      <td>100000.0</td>\n",
       "      <td>68349.132812</td>\n",
       "      <td>0</td>\n",
       "      <td>0</td>\n",
       "      <td>4</td>\n",
       "      <td>0.003643</td>\n",
       "      <td>...</td>\n",
       "      <td>1.000000e-12</td>\n",
       "      <td>9.563975e-23</td>\n",
       "      <td>1.000000e-12</td>\n",
       "      <td>6.149233e-23</td>\n",
       "      <td>1.000000e-12</td>\n",
       "      <td>0.000000</td>\n",
       "      <td>0.0</td>\n",
       "      <td>0.000000e+00</td>\n",
       "      <td>0.0</td>\n",
       "      <td>0.0</td>\n",
       "    </tr>\n",
       "    <tr>\n",
       "      <th>...</th>\n",
       "      <td>...</td>\n",
       "      <td>...</td>\n",
       "      <td>...</td>\n",
       "      <td>...</td>\n",
       "      <td>...</td>\n",
       "      <td>...</td>\n",
       "      <td>...</td>\n",
       "      <td>...</td>\n",
       "      <td>...</td>\n",
       "      <td>...</td>\n",
       "      <td>...</td>\n",
       "      <td>...</td>\n",
       "      <td>...</td>\n",
       "      <td>...</td>\n",
       "      <td>...</td>\n",
       "      <td>...</td>\n",
       "      <td>...</td>\n",
       "      <td>...</td>\n",
       "      <td>...</td>\n",
       "      <td>...</td>\n",
       "      <td>...</td>\n",
       "    </tr>\n",
       "    <tr>\n",
       "      <th>5273476</th>\n",
       "      <td>8104865</td>\n",
       "      <td>90.0</td>\n",
       "      <td>992.556095</td>\n",
       "      <td>353.75</td>\n",
       "      <td>100000.0</td>\n",
       "      <td>101626.414062</td>\n",
       "      <td>31</td>\n",
       "      <td>191</td>\n",
       "      <td>283</td>\n",
       "      <td>0.000000</td>\n",
       "      <td>...</td>\n",
       "      <td>7.417124e+01</td>\n",
       "      <td>3.153452e-05</td>\n",
       "      <td>4.713692e+06</td>\n",
       "      <td>5.288511e-08</td>\n",
       "      <td>4.860294e+02</td>\n",
       "      <td>395.833333</td>\n",
       "      <td>0.0</td>\n",
       "      <td>0.000000e+00</td>\n",
       "      <td>0.0</td>\n",
       "      <td>0.0</td>\n",
       "    </tr>\n",
       "    <tr>\n",
       "      <th>5273477</th>\n",
       "      <td>8104866</td>\n",
       "      <td>90.0</td>\n",
       "      <td>992.556095</td>\n",
       "      <td>355.00</td>\n",
       "      <td>100000.0</td>\n",
       "      <td>101626.414062</td>\n",
       "      <td>31</td>\n",
       "      <td>191</td>\n",
       "      <td>284</td>\n",
       "      <td>0.000000</td>\n",
       "      <td>...</td>\n",
       "      <td>7.417290e+01</td>\n",
       "      <td>3.153754e-05</td>\n",
       "      <td>4.713664e+06</td>\n",
       "      <td>5.289041e-08</td>\n",
       "      <td>4.861309e+02</td>\n",
       "      <td>395.833333</td>\n",
       "      <td>0.0</td>\n",
       "      <td>0.000000e+00</td>\n",
       "      <td>0.0</td>\n",
       "      <td>0.0</td>\n",
       "    </tr>\n",
       "    <tr>\n",
       "      <th>5273478</th>\n",
       "      <td>8104867</td>\n",
       "      <td>90.0</td>\n",
       "      <td>992.556095</td>\n",
       "      <td>356.25</td>\n",
       "      <td>100000.0</td>\n",
       "      <td>101626.414062</td>\n",
       "      <td>31</td>\n",
       "      <td>191</td>\n",
       "      <td>285</td>\n",
       "      <td>0.000000</td>\n",
       "      <td>...</td>\n",
       "      <td>7.417296e+01</td>\n",
       "      <td>3.153765e-05</td>\n",
       "      <td>4.713662e+06</td>\n",
       "      <td>5.289060e-08</td>\n",
       "      <td>4.861345e+02</td>\n",
       "      <td>395.833333</td>\n",
       "      <td>0.0</td>\n",
       "      <td>0.000000e+00</td>\n",
       "      <td>0.0</td>\n",
       "      <td>0.0</td>\n",
       "    </tr>\n",
       "    <tr>\n",
       "      <th>5273479</th>\n",
       "      <td>8104868</td>\n",
       "      <td>90.0</td>\n",
       "      <td>992.556095</td>\n",
       "      <td>357.50</td>\n",
       "      <td>100000.0</td>\n",
       "      <td>101626.414062</td>\n",
       "      <td>31</td>\n",
       "      <td>191</td>\n",
       "      <td>286</td>\n",
       "      <td>0.000000</td>\n",
       "      <td>...</td>\n",
       "      <td>7.417297e+01</td>\n",
       "      <td>3.153768e-05</td>\n",
       "      <td>4.713663e+06</td>\n",
       "      <td>5.289066e-08</td>\n",
       "      <td>4.861356e+02</td>\n",
       "      <td>395.833333</td>\n",
       "      <td>0.0</td>\n",
       "      <td>0.000000e+00</td>\n",
       "      <td>0.0</td>\n",
       "      <td>0.0</td>\n",
       "    </tr>\n",
       "    <tr>\n",
       "      <th>5273480</th>\n",
       "      <td>8104869</td>\n",
       "      <td>90.0</td>\n",
       "      <td>992.556095</td>\n",
       "      <td>358.75</td>\n",
       "      <td>100000.0</td>\n",
       "      <td>101626.414062</td>\n",
       "      <td>31</td>\n",
       "      <td>191</td>\n",
       "      <td>287</td>\n",
       "      <td>0.000000</td>\n",
       "      <td>...</td>\n",
       "      <td>7.417307e+01</td>\n",
       "      <td>3.153783e-05</td>\n",
       "      <td>4.713659e+06</td>\n",
       "      <td>5.289093e-08</td>\n",
       "      <td>4.861409e+02</td>\n",
       "      <td>395.833333</td>\n",
       "      <td>0.0</td>\n",
       "      <td>3.637979e-12</td>\n",
       "      <td>0.0</td>\n",
       "      <td>0.0</td>\n",
       "    </tr>\n",
       "  </tbody>\n",
       "</table>\n",
       "<p>5273481 rows × 47 columns</p>\n",
       "</div>"
      ],
      "text/plain": [
       "           index   lat         lev     lon        P0             PS  depth  \\\n",
       "0              0 -90.0    3.643466    0.00  100000.0   68349.132812      0   \n",
       "1              1 -90.0    3.643466    1.25  100000.0   68349.132812      0   \n",
       "2              2 -90.0    3.643466    2.50  100000.0   68349.132812      0   \n",
       "3              3 -90.0    3.643466    3.75  100000.0   68349.132812      0   \n",
       "4              4 -90.0    3.643466    5.00  100000.0   68349.132812      0   \n",
       "...          ...   ...         ...     ...       ...            ...    ...   \n",
       "5273476  8104865  90.0  992.556095  353.75  100000.0  101626.414062     31   \n",
       "5273477  8104866  90.0  992.556095  355.00  100000.0  101626.414062     31   \n",
       "5273478  8104867  90.0  992.556095  356.25  100000.0  101626.414062     31   \n",
       "5273479  8104868  90.0  992.556095  357.50  100000.0  101626.414062     31   \n",
       "5273480  8104869  90.0  992.556095  358.75  100000.0  101626.414062     31   \n",
       "\n",
       "         row  col      hyam  ...    NR_TAU_out    QC_MG2_out    NC_MG2_out  \\\n",
       "0          0    0  0.003643  ...  1.000000e-12  9.563975e-23  1.000000e-12   \n",
       "1          0    1  0.003643  ...  1.000000e-12  9.563975e-23  1.000000e-12   \n",
       "2          0    2  0.003643  ...  1.000000e-12  9.563975e-23  1.000000e-12   \n",
       "3          0    3  0.003643  ...  1.000000e-12  9.563975e-23  1.000000e-12   \n",
       "4          0    4  0.003643  ...  1.000000e-12  9.563975e-23  1.000000e-12   \n",
       "...      ...  ...       ...  ...           ...           ...           ...   \n",
       "5273476  191  283  0.000000  ...  7.417124e+01  3.153452e-05  4.713692e+06   \n",
       "5273477  191  284  0.000000  ...  7.417290e+01  3.153754e-05  4.713664e+06   \n",
       "5273478  191  285  0.000000  ...  7.417296e+01  3.153765e-05  4.713662e+06   \n",
       "5273479  191  286  0.000000  ...  7.417297e+01  3.153768e-05  4.713663e+06   \n",
       "5273480  191  287  0.000000  ...  7.417307e+01  3.153783e-05  4.713659e+06   \n",
       "\n",
       "           QR_MG2_out    NR_MG2_out        time  mass_diff_TAU  mass_diff_MG2  \\\n",
       "0        6.149233e-23  1.000000e-12    0.000000            0.0   0.000000e+00   \n",
       "1        6.149233e-23  1.000000e-12    0.000000            0.0   0.000000e+00   \n",
       "2        6.149233e-23  1.000000e-12    0.000000            0.0   0.000000e+00   \n",
       "3        6.149233e-23  1.000000e-12    0.000000            0.0   0.000000e+00   \n",
       "4        6.149233e-23  1.000000e-12    0.000000            0.0   0.000000e+00   \n",
       "...               ...           ...         ...            ...            ...   \n",
       "5273476  5.288511e-08  4.860294e+02  395.833333            0.0   0.000000e+00   \n",
       "5273477  5.289041e-08  4.861309e+02  395.833333            0.0   0.000000e+00   \n",
       "5273478  5.289060e-08  4.861345e+02  395.833333            0.0   0.000000e+00   \n",
       "5273479  5.289066e-08  4.861356e+02  395.833333            0.0   0.000000e+00   \n",
       "5273480  5.289093e-08  4.861409e+02  395.833333            0.0   3.637979e-12   \n",
       "\n",
       "         tend_diff_TAU  tend_diff_MG2  \n",
       "0                  0.0            0.0  \n",
       "1                  0.0            0.0  \n",
       "2                  0.0            0.0  \n",
       "3                  0.0            0.0  \n",
       "4                  0.0            0.0  \n",
       "...                ...            ...  \n",
       "5273476            0.0            0.0  \n",
       "5273477            0.0            0.0  \n",
       "5273478            0.0            0.0  \n",
       "5273479            0.0            0.0  \n",
       "5273480            0.0            0.0  \n",
       "\n",
       "[5273481 rows x 47 columns]"
      ]
     },
     "execution_count": 11,
     "metadata": {},
     "output_type": "execute_result"
    }
   ],
   "source": [
    "mp_mass_data"
   ]
  },
  {
   "cell_type": "code",
   "execution_count": 12,
   "id": "8aa09567-ecc4-41d8-bd9c-9857a3a5e04f",
   "metadata": {},
   "outputs": [],
   "source": [
    "mp_mass_data.loc[:, \"Q_mass_out\"] = mp_mass_data[[\"QC_TAU_out\", \"QR_TAU_out\"]].sum(axis=1)\n",
    "mp_mass_data.loc[:, \"Q_mass_in\"] = mp_mass_data[[\"QC_TAU_in\", \"QR_TAU_in\"]].sum(axis=1)\n",
    "mp_mass_data.loc[:, \"QR_prop_out\"] = mp_mass_data[\"QR_TAU_out\"] / mp_mass_data[\"Q_mass_in\"] \n",
    "mp_mass_data.loc[:, \"QC_prop_out\"] = mp_mass_data[\"QC_TAU_out\"] / mp_mass_data[\"Q_mass_in\"] \n",
    "mp_mass_data.loc[:, \"QR_prop_in\"] = mp_mass_data[\"QR_TAU_in\"] / mp_mass_data[\"Q_mass_in\"] \n",
    "mp_mass_data.loc[:, \"QC_prop_in\"] = mp_mass_data[\"QC_TAU_in\"] / mp_mass_data[\"Q_mass_in\"] "
   ]
  },
  {
   "cell_type": "code",
   "execution_count": 7,
   "id": "vocal-advice",
   "metadata": {},
   "outputs": [
    {
     "data": {
      "text/plain": [
       "0.6506558402540694"
      ]
     },
     "execution_count": 7,
     "metadata": {},
     "output_type": "execute_result"
    }
   ],
   "source": [
    "np.count_nonzero((mp_data[\"tend_diff_TAU\"] == 0) & (mp_data[\"mass_diff_TAU\"] == 0) & \n",
    "                 np.all(mp_data[[\"QC_TAU_out\", \"QR_TAU_out\", \"NC_TAU_out\", \"NR_TAU_out\"]] >= 0, axis=1)) / mp_data.shape[0]"
   ]
  },
  {
   "cell_type": "code",
   "execution_count": 8,
   "id": "f999139c-f155-4650-a01f-8a578e7a81cf",
   "metadata": {},
   "outputs": [
    {
     "data": {
      "text/plain": [
       "0.9100602477276009"
      ]
     },
     "execution_count": 8,
     "metadata": {},
     "output_type": "execute_result"
    }
   ],
   "source": [
    "np.count_nonzero((mp_data[\"mass_diff_TAU\"] == 0)) / mp_data.shape[0]"
   ]
  },
  {
   "cell_type": "code",
   "execution_count": 9,
   "id": "678b2f3c-b14f-4172-b863-217497f913ee",
   "metadata": {},
   "outputs": [
    {
     "data": {
      "text/plain": [
       "0.8105487194736004"
      ]
     },
     "execution_count": 9,
     "metadata": {},
     "output_type": "execute_result"
    }
   ],
   "source": [
    "np.count_nonzero((mp_data[\"tend_diff_TAU\"] == 0)) / mp_data.shape[0]"
   ]
  },
  {
   "cell_type": "code",
   "execution_count": 10,
   "id": "6a30ff47-443e-4e25-8ff2-b884bbef8ab5",
   "metadata": {},
   "outputs": [
    {
     "data": {
      "text/plain": [
       "0.9130044035252879"
      ]
     },
     "execution_count": 10,
     "metadata": {},
     "output_type": "execute_result"
    }
   ],
   "source": [
    "np.count_nonzero(np.all(mp_data[[\"QC_TAU_out\", \"QR_TAU_out\", \"NC_TAU_out\", \"NR_TAU_out\"]] >= 0, axis=1)) / mp_data.shape[0]"
   ]
  },
  {
   "cell_type": "markdown",
   "id": "separate-shock",
   "metadata": {},
   "source": [
    "Test mass conservation (mass diff should be 0). A significant proportion of grid cells have mass conserved"
   ]
  },
  {
   "cell_type": "code",
   "execution_count": 19,
   "id": "03a127f0-2360-4570-9639-a6daaf45ae43",
   "metadata": {},
   "outputs": [
    {
     "data": {
      "text/plain": [
       "1.0000001"
      ]
     },
     "execution_count": 19,
     "metadata": {},
     "output_type": "execute_result"
    }
   ],
   "source": [
    "np.max(np.abs(mp_mass_data[\"QR_prop_out\"] + mp_mass_data[\"QC_prop_out\"]))"
   ]
  },
  {
   "cell_type": "code",
   "execution_count": 13,
   "id": "bf7cee50-44b6-4e48-9664-616b82c68ab8",
   "metadata": {},
   "outputs": [
    {
     "data": {
      "text/plain": [
       "(array([1450464.,  208228.,  129455.,   98413.,   91823.,  118884.,\n",
       "         997932.,  133223.,   78022.,   71076.,   68974.,   78131.,\n",
       "          85234.,   85627.,   56481.,   46000.,   39308.,   35462.,\n",
       "          28084.,   26001.,   19922.,   17790.,   17397.,   16972.,\n",
       "          16377.,   16034.,   15852.,   15304.,   14914.,   14845.,\n",
       "          14641.,   14497.,   14418.,   13945.,   14087.,   14240.,\n",
       "          14251.,   14183.,   14400.,   14542.,   14947.,   15547.,\n",
       "          16281.,   17378.,   18861.,   21440.,   25061.,   32075.,\n",
       "          49328.,  827130.]),\n",
       " array([0.  , 0.02, 0.04, 0.06, 0.08, 0.1 , 0.12, 0.14, 0.16, 0.18, 0.2 ,\n",
       "        0.22, 0.24, 0.26, 0.28, 0.3 , 0.32, 0.34, 0.36, 0.38, 0.4 , 0.42,\n",
       "        0.44, 0.46, 0.48, 0.5 , 0.52, 0.54, 0.56, 0.58, 0.6 , 0.62, 0.64,\n",
       "        0.66, 0.68, 0.7 , 0.72, 0.74, 0.76, 0.78, 0.8 , 0.82, 0.84, 0.86,\n",
       "        0.88, 0.9 , 0.92, 0.94, 0.96, 0.98, 1.  ], dtype=float32),\n",
       " <BarContainer object of 50 artists>)"
      ]
     },
     "execution_count": 13,
     "metadata": {},
     "output_type": "execute_result"
    },
    {
     "data": {
      "image/png": "[encoded data removed]",
      "text/plain": [
       "<Figure size 432x288 with 1 Axes>"
      ]
     },
     "metadata": {
      "needs_background": "light"
     },
     "output_type": "display_data"
    }
   ],
   "source": [
    "plt.hist(mp_mass_data[\"QR_prop_out\"], bins=50)"
   ]
  },
  {
   "cell_type": "code",
   "execution_count": 13,
   "id": "c2d9077f-b4cf-4f59-b0c0-aa3fba895792",
   "metadata": {},
   "outputs": [],
   "source": [
    "input_cols = [\"QC_TAU_in\", \"QR_TAU_in\", \"NC_TAU_in\", \"NR_TAU_in\", \"precip_frac\", \"lcldm\"]\n",
    "output_cols = [\"QC_TAU_out\", \"QR_TAU_out\", \"NC_TAU_out\", \"NR_TAU_out\"]\n",
    "scale_in = StandardScaler()\n",
    "in_data_transformed = pd.DataFrame(0, columns=input_cols, index=mp_mass_data.index)\n",
    "for input_col in input_cols:\n",
    "    if input_col in [\"QC_TAU_in\", \"QR_TAU_in\", \"NC_TAU_in\", \"NR_TAU_in\"]:\n",
    "        in_data_transformed.loc[:, input_col] = np.log10(np.maximum(mp_mass_data[input_col].values, 1e-38))\n",
    "    else:\n",
    "        in_data_transformed.loc[:, input_col] = mp_mass_data[input_col]\n",
    "in_data = scale_in.fit_transform(in_data_transformed)\n",
    "out_data = mp_mass_data.loc[:, output_cols]\n",
    "for col in output_cols:\n",
    "    out_data.loc[:, col] = np.log10(np.maximum(out_data.loc[:, col], 1e-38))"
   ]
  },
  {
   "cell_type": "code",
   "execution_count": 14,
   "id": "db7fbbfb-531c-4db1-af1d-aa2653dfffe9",
   "metadata": {},
   "outputs": [
    {
     "data": {
      "text/plain": [
       "QC_TAU_out   -37.929779\n",
       "QR_TAU_out   -38.000000\n",
       "NC_TAU_out   -12.000000\n",
       "NR_TAU_out   -12.000000\n",
       "dtype: float32"
      ]
     },
     "execution_count": 14,
     "metadata": {},
     "output_type": "execute_result"
    }
   ],
   "source": [
    "out_data.min()"
   ]
  },
  {
   "cell_type": "code",
   "execution_count": 91,
   "id": "3866191a-54e4-4e7e-a4b4-30eb7cc25245",
   "metadata": {},
   "outputs": [],
   "source": [
    "from tensorflow.experimental.numpy import log10 as tflog10\n",
    "def mass_loss(y_true_log, y_pred_log, scale_factor=2):\n",
    "    \n",
    "    y_true = 10 ** y_true_log\n",
    "    y_pred = 10 ** y_pred_log\n",
    "    mse_loss = tf.reduce_mean((y_true_log - y_pred_log) ** 2, axis=0)\n",
    "    mass_in_true_l = tflog10(tf.reduce_sum(y_true[:, 0:2], axis=1))\n",
    "    mass_out_pred_l = tflog10(tf.reduce_sum(y_pred[:, 2:4], axis=1))\n",
    "    mass_in_pred_l = tflog10(tf.reduce_sum(y_pred[:, 0:2], axis=1))\n",
    "\n",
    "    mass_diff_loss = tf.reduce_mean(tf.abs(mass_in_true_l - mass_out_pred_l))\n",
    "    mass_diff_loss += tf.reduce_mean(tf.abs(mass_in_true_l - mass_in_pred_l))\n",
    "    loss = tf.reduce_sum(mse_loss) + scale_factor * mass_diff_loss\n",
    "    loss = tf.reduce_sum(mse_loss)\n",
    "    return loss"
   ]
  },
  {
   "cell_type": "code",
   "execution_count": 15,
   "id": "a4294233-51fa-4a19-879a-fe231c70a9c5",
   "metadata": {},
   "outputs": [
    {
     "name": "stderr",
     "output_type": "stream",
     "text": [
      "2021-08-04 11:13:07.974233: I tensorflow/compiler/jit/xla_cpu_device.cc:41] Not creating XLA devices, tf_xla_enable_xla_devices not set\n",
      "2021-08-04 11:13:07.975602: I tensorflow/stream_executor/platform/default/dso_loader.cc:49] Successfully opened dynamic library libcuda.so.1\n",
      "2021-08-04 11:13:08.350873: E tensorflow/stream_executor/cuda/cuda_driver.cc:328] failed call to cuInit: CUDA_ERROR_NO_DEVICE: no CUDA-capable device is detected\n",
      "2021-08-04 11:13:08.350926: I tensorflow/stream_executor/cuda/cuda_diagnostics.cc:156] kernel driver does not appear to be running on this host (crhtc37): /proc/driver/nvidia/version does not exist\n",
      "2021-08-04 11:13:08.351579: I tensorflow/core/platform/cpu_feature_guard.cc:142] This TensorFlow binary is optimized with oneAPI Deep Neural Network Library (oneDNN) to use the following CPU instructions in performance-critical operations:  AVX512F\n",
      "To enable them in other operations, rebuild TensorFlow with the appropriate compiler flags.\n",
      "2021-08-04 11:13:08.352618: I tensorflow/compiler/jit/xla_gpu_device.cc:99] Not creating XLA devices, tf_xla_enable_xla_devices not set\n"
     ]
    },
    {
     "name": "stdout",
     "output_type": "stream",
     "text": [
      "Model: \"model\"\n",
      "_________________________________________________________________\n",
      "Layer (type)                 Output Shape              Param #   \n",
      "=================================================================\n",
      "input (InputLayer)           [(None, 6)]               0         \n",
      "_________________________________________________________________\n",
      "dense_00 (Dense)             (None, 128)               896       \n",
      "_________________________________________________________________\n",
      "dense_01 (Dense)             (None, 4)                 516       \n",
      "=================================================================\n",
      "Total params: 1,412\n",
      "Trainable params: 1,412\n",
      "Non-trainable params: 0\n",
      "_________________________________________________________________\n"
     ]
    },
    {
     "name": "stderr",
     "output_type": "stream",
     "text": [
      "2021-08-04 11:13:08.601065: I tensorflow/compiler/mlir/mlir_graph_optimization_pass.cc:116] None of the MLIR optimization passes are enabled (registered 2)\n",
      "2021-08-04 11:13:08.601502: I tensorflow/core/platform/profile_utils/cpu_utils.cc:112] CPU Frequency: 2600000000 Hz\n"
     ]
    },
    {
     "name": "stdout",
     "output_type": "stream",
     "text": [
      "Epoch 1/30\n",
      "10300/10300 [==============================] - 10s 903us/step - loss: 4.2146\n",
      "Epoch 2/30\n",
      "10300/10300 [==============================] - 8s 801us/step - loss: 0.0570\n",
      "Epoch 3/30\n",
      "10300/10300 [==============================] - 9s 911us/step - loss: 0.0347\n",
      "Epoch 4/30\n",
      "10300/10300 [==============================] - 9s 842us/step - loss: 0.0281\n",
      "Epoch 5/30\n",
      "10300/10300 [==============================] - 9s 857us/step - loss: 0.0254\n",
      "Epoch 6/30\n",
      "10300/10300 [==============================] - 9s 890us/step - loss: 0.0237\n",
      "Epoch 7/30\n",
      "10300/10300 [==============================] - 9s 840us/step - loss: 0.0227\n",
      "Epoch 8/30\n",
      "10300/10300 [==============================] - 9s 885us/step - loss: 0.0217\n",
      "Epoch 9/30\n",
      "10300/10300 [==============================] - 9s 830us/step - loss: 0.0209\n",
      "Epoch 10/30\n",
      "10300/10300 [==============================] - 9s 898us/step - loss: 0.0203\n",
      "Epoch 11/30\n",
      "10300/10300 [==============================] - 9s 905us/step - loss: 0.0196\n",
      "Epoch 12/30\n",
      "10300/10300 [==============================] - 8s 803us/step - loss: 0.0190\n",
      "Epoch 13/30\n",
      "10300/10300 [==============================] - 9s 908us/step - loss: 0.0183\n",
      "Epoch 14/30\n",
      "10300/10300 [==============================] - 9s 873us/step - loss: 0.0179\n",
      "Epoch 15/30\n",
      "10300/10300 [==============================] - 9s 838us/step - loss: 0.0173\n",
      "Epoch 16/30\n",
      "10300/10300 [==============================] - 9s 905us/step - loss: 0.0169\n",
      "Epoch 17/30\n",
      "10300/10300 [==============================] - 8s 815us/step - loss: 0.0165\n",
      "Epoch 18/30\n",
      "10300/10300 [==============================] - 9s 892us/step - loss: 0.0162\n",
      "Epoch 19/30\n",
      "10300/10300 [==============================] - 9s 855us/step - loss: 0.0160\n",
      "Epoch 20/30\n",
      "10300/10300 [==============================] - 9s 879us/step - loss: 0.0156\n",
      "Epoch 21/30\n",
      "10300/10300 [==============================] - 9s 907us/step - loss: 0.0153\n",
      "Epoch 22/30\n",
      "10300/10300 [==============================] - 8s 810us/step - loss: 0.0151\n",
      "Epoch 23/30\n",
      "10300/10300 [==============================] - 9s 898us/step - loss: 0.0149\n",
      "Epoch 24/30\n",
      "10300/10300 [==============================] - 9s 894us/step - loss: 0.0146\n",
      "Epoch 25/30\n",
      "10300/10300 [==============================] - 9s 836us/step - loss: 0.0144\n",
      "Epoch 26/30\n",
      "10300/10300 [==============================] - 9s 913us/step - loss: 0.0141\n",
      "Epoch 27/30\n",
      "10300/10300 [==============================] - 9s 842us/step - loss: 0.0139\n",
      "Epoch 28/30\n",
      "10300/10300 [==============================] - 9s 870us/step - loss: 0.0137\n",
      "Epoch 29/30\n",
      "10300/10300 [==============================] - 9s 882us/step - loss: 0.0135\n",
      "Epoch 30/30\n",
      "10300/10300 [==============================] - 9s 843us/step - loss: 0.0133\n"
     ]
    },
    {
     "data": {
      "text/plain": [
       "{'loss': [1.6555263996124268,\n",
       "  0.048750441521406174,\n",
       "  0.03257323428988457,\n",
       "  0.02722080424427986,\n",
       "  0.024909477680921555,\n",
       "  0.023483334109187126,\n",
       "  0.022431643679738045,\n",
       "  0.021550018340349197,\n",
       "  0.020774826407432556,\n",
       "  0.020088540390133858,\n",
       "  0.019436096772551537,\n",
       "  0.01882542483508587,\n",
       "  0.01826416328549385,\n",
       "  0.01775074563920498,\n",
       "  0.0172840878367424,\n",
       "  0.016868792474269867,\n",
       "  0.016501719132065773,\n",
       "  0.016166817396879196,\n",
       "  0.015857568010687828,\n",
       "  0.015563739463686943,\n",
       "  0.015285405330359936,\n",
       "  0.015024595893919468,\n",
       "  0.014778814278542995,\n",
       "  0.014548078179359436,\n",
       "  0.014314181171357632,\n",
       "  0.014078731648623943,\n",
       "  0.013847644440829754,\n",
       "  0.013640806078910828,\n",
       "  0.013448788784444332,\n",
       "  0.01326681673526764]}"
      ]
     },
     "execution_count": 15,
     "metadata": {},
     "output_type": "execute_result"
    }
   ],
   "source": [
    "multi_dnn = DenseNeuralNetwork(hidden_layers=1, hidden_neurons=128, activation=\"relu\", output_activation=\"linear\",\n",
    "                               lr=1e-4, batch_size=512, loss=\"huber\", verbose=1, l2_weight=0, epochs=30)\n",
    "multi_dnn.fit(in_data, out_data)"
   ]
  },
  {
   "cell_type": "code",
   "execution_count": 23,
   "id": "908d934f-92bf-4da2-a2c6-eced11211429",
   "metadata": {},
   "outputs": [
    {
     "data": {
      "text/plain": [
       "701"
      ]
     },
     "execution_count": 23,
     "metadata": {},
     "output_type": "execute_result"
    }
   ],
   "source": [
    "len(mp_files)"
   ]
  },
  {
   "cell_type": "code",
   "execution_count": 21,
   "id": "tender-myanmar",
   "metadata": {},
   "outputs": [],
   "source": [
    "mp_test_data = pd.concat([pd.read_parquet(mp_files[x]) for x in range(500, 700, 20)], ignore_index=True)\n",
    "#mp_test_data.loc[:, \"precip_frac_logit\"] = logit(mp_test_data[\"precip_frac\"].values)\n",
    "#mp_test_data.loc[:, \"lcldm_logit\"] = logit(mp_test_data[\"lcldm\"].values)\n",
    "dt = 60 * 30 #minutes\n",
    "mp_test_data[\"tend_diff_TAU\"] = (mp_test_data[\"qctend_TAU\"] + mp_test_data[\"qrtend_TAU\"])\n",
    "mp_test_data[\"mass_diff_TAU\"] = (mp_test_data[\"QC_TAU_out\"] + mp_test_data[\"QR_TAU_out\"]) - (mp_test_data[\"QC_TAU_in\"] + mp_test_data[\"QR_TAU_in\"])\n",
    "\n",
    "ixt = (mp_test_data[\"tend_diff_TAU\"] == 0) & (mp_test_data[\"mass_diff_TAU\"] == 0) & \\\n",
    "    np.all(mp_test_data[[\"QC_TAU_out\", \"QR_TAU_out\", \"NC_TAU_out\", \"NR_TAU_out\"]] >= 0, axis=1)\n",
    "mp_test_mass_data = mp_test_data.loc[ixt].reset_index()\n",
    "mp_test_mass_data.loc[:, \"Q_mass_in\"] = mp_test_mass_data[[\"QC_TAU_in\", \"QR_TAU_in\"]].sum(axis=1)\n",
    "mp_test_mass_data.loc[:, \"QR_prop_out\"] = mp_test_mass_data[\"QR_TAU_out\"] / mp_test_mass_data[\"Q_mass_in\"] \n",
    "mp_test_mass_data.loc[:, \"QC_prop_out\"] = mp_test_mass_data[\"QC_TAU_out\"] / mp_test_mass_data[\"Q_mass_in\"]\n",
    "mp_test_mass_data.loc[:, \"QR_prop_in\"] = mp_test_mass_data[\"QR_TAU_in\"] / mp_test_mass_data[\"Q_mass_in\"] \n",
    "mp_test_mass_data.loc[:, \"QC_prop_in\"] = mp_test_mass_data[\"QC_TAU_in\"] / mp_test_mass_data[\"Q_mass_in\"] \n",
    "in_data_transformed = pd.DataFrame(0, columns=input_cols, index=mp_test_mass_data.index)\n",
    "for input_col in input_cols:\n",
    "    if input_col in [\"QC_TAU_in\", \"QR_TAU_in\", \"NC_TAU_in\", \"NR_TAU_in\"]:\n",
    "        in_data_transformed.loc[:, input_col] = np.log10(np.maximum(mp_test_mass_data[input_col].values, 1e-38))\n",
    "    else:\n",
    "        in_data_transformed.loc[:, input_col] = mp_test_mass_data[input_col]\n",
    "in_test_data = scale_in.transform(in_data_transformed)\n",
    "out_test_data = mp_test_mass_data.loc[:, output_cols]\n",
    "for col in output_cols:\n",
    "    out_test_data.loc[:, col] = np.log10(np.maximum(out_test_data.loc[:, col], 1e-38))"
   ]
  },
  {
   "cell_type": "code",
   "execution_count": 52,
   "id": "7b4d8c36-7182-43ab-8a93-5b8739c173b3",
   "metadata": {},
   "outputs": [
    {
     "data": {
      "text/plain": [
       "(2642804, 4)"
      ]
     },
     "execution_count": 52,
     "metadata": {},
     "output_type": "execute_result"
    }
   ],
   "source": [
    "mp_test_mass_data.loc[:, output_cols].shape"
   ]
  },
  {
   "cell_type": "code",
   "execution_count": 23,
   "id": "closing-george",
   "metadata": {},
   "outputs": [],
   "source": [
    "\n",
    "mod_preds = multi_dnn.model.predict(in_test_data, batch_size=8192)"
   ]
  },
  {
   "cell_type": "code",
   "execution_count": 24,
   "id": "15cc86e1-c627-4831-8917-a035f44300ed",
   "metadata": {},
   "outputs": [
    {
     "name": "stdout",
     "output_type": "stream",
     "text": [
      "QC_TAU_out 0.9999800188972386\n",
      "QR_TAU_out 0.9993145473566181\n",
      "NC_TAU_out 0.9998880507178306\n",
      "NR_TAU_out 0.999032870692466\n"
     ]
    }
   ],
   "source": [
    "from sklearn.metrics import r2_score\n",
    "for i in range(4):\n",
    "    \n",
    "    print(output_cols[i], r2_score(out_test_data.iloc[:, i], mod_preds[:, i]))"
   ]
  },
  {
   "cell_type": "code",
   "execution_count": 28,
   "id": "manual-minimum",
   "metadata": {},
   "outputs": [
    {
     "data": {
      "image/png": "[encoded data removed]",
      "text/plain": [
       "<Figure size 720x720 with 8 Axes>"
      ]
     },
     "metadata": {
      "needs_background": "light"
     },
     "output_type": "display_data"
    }
   ],
   "source": [
    "plt.figure(figsize=(10, 10))\n",
    "for i in range(4):\n",
    "    plt.subplot(2, 2, i+1)\n",
    "    plt.hist2d(mod_preds[:, i], out_test_data.loc[:,output_cols[i]], cmin=1, norm=LogNorm(), bins=np.arange(mod_preds[:, i].min(), mod_preds[:, i].max(), 0.5))\n",
    "    plt.xlabel(\"Emulated\")\n",
    "    plt.ylabel(\"Actual\")\n",
    "    plt.title(\"log \" + output_cols[i].split(\"_\")[0])\n",
    "    diag = np.arange(out_test_data.iloc[:, i].min(), out_test_data.iloc[:, i].max(), 1)\n",
    "    plt.plot(diag, diag, 'k--', lw=1)\n",
    "    plt.colorbar()\n",
    "plt.savefig(\"mass_hist_out.png\", dpi=200, bbox_inches=\"tight\")"
   ]
  },
  {
   "cell_type": "code",
   "execution_count": 124,
   "id": "8dc77686-1af5-483a-8450-e435708c9472",
   "metadata": {},
   "outputs": [
    {
     "data": {
      "text/plain": [
       "(52735, 6)"
      ]
     },
     "execution_count": 124,
     "metadata": {},
     "output_type": "execute_result"
    }
   ],
   "source": [
    "in_data[::100].shape"
   ]
  },
  {
   "cell_type": "code",
   "execution_count": 125,
   "id": "b9d5a627-b015-4b34-82be-e23ed6217c08",
   "metadata": {},
   "outputs": [
    {
     "name": "stderr",
     "output_type": "stream",
     "text": [
      "/glade/work/dgagne/miniconda3/envs/mlmicro/lib/python3.8/site-packages/sklearn/inspection/_partial_dependence.py:505: FutureWarning: A Bunch will be returned in place of 'predictions' from version 1.1 (renaming of 0.26) with partial dependence results accessible via the 'average' key. In the meantime, pass kind='average' to get the future behaviour.\n",
      "  warnings.warn(\n"
     ]
    }
   ],
   "source": [
    "multi_dnn._estimator_type = \"regressor\"\n",
    "multi_dnn.model_ = multi_dnn.model\n",
    "pd_out = partial_dependence(multi_dnn, pd.DataFrame(in_data[::100], columns=input_cols), features=input_cols[0], grid_resolution=10)"
   ]
  },
  {
   "cell_type": "code",
   "execution_count": 129,
   "id": "df230498-e098-469d-b597-bc0b010b88a8",
   "metadata": {},
   "outputs": [
    {
     "data": {
      "text/plain": [
       "[array([-1.46745162, -1.17744087, -0.88743012, -0.59741936, -0.30740861,\n",
       "        -0.01739786,  0.27261289,  0.56262364,  0.85263439,  1.14264514])]"
      ]
     },
     "execution_count": 129,
     "metadata": {},
     "output_type": "execute_result"
    }
   ],
   "source": [
    "pd_out[1]"
   ]
  },
  {
   "cell_type": "code",
   "execution_count": 32,
   "id": "7257d8de-4d58-4ba8-abd4-5eb9a378c941",
   "metadata": {},
   "outputs": [
    {
     "data": {
      "image/png": "[encoded data removed]",
      "text/plain": [
       "<Figure size 432x288 with 1 Axes>"
      ]
     },
     "metadata": {
      "needs_background": "light"
     },
     "output_type": "display_data"
    }
   ],
   "source": [
    "pred_mass = np.sum(10 ** mod_preds[:, 0:1], axis=1)\n",
    "plt.hist(np.abs(mp_test_mass_data[\"Q_mass_in\"] - pred_mass), bins=50)\n",
    "plt.xlabel(\"log Q Mass Difference |Predicted - Actual Mass|\")\n",
    "plt.ylabel(\"Frequency\")\n",
    "plt.savefig(\"mass_diff_hist.png\", dpi=200, bbox_inches=\"tight\")\n",
    "plt.gca().set_yscale(\"log\")"
   ]
  },
  {
   "cell_type": "code",
   "execution_count": 38,
   "id": "c42dab82-7665-4d9e-8161-6470b51a0eae",
   "metadata": {},
   "outputs": [],
   "source": [
    "\n",
    "input_cols_q = [\"QC_TAU_in\", \"QR_TAU_in\", \"NC_TAU_in\", \"NR_TAU_in\", \"precip_frac\", \"lcldm\"]\n",
    "output_cols_q = [\"QC_TAU_out\", \"QR_TAU_out\"]\n",
    "in_data_transformed_q = pd.DataFrame(0, columns=input_cols_q, index=mp_mass_data.index)\n",
    "for input_col in input_cols_q:\n",
    "    if input_col in [\"QC_TAU_in\", \"QR_TAU_in\", \"NC_TAU_in\", \"NR_TAU_in\", \"Q_mass_in\"]:\n",
    "        in_data_transformed_q.loc[:, input_col] = np.log10(np.maximum(mp_mass_data[input_col].values, 1e-38))\n",
    "    else:\n",
    "        in_data_transformed_q.loc[:, input_col] = mp_mass_data[input_col]\n",
    "scale_in_q = StandardScaler()\n",
    "in_data_q = scale_in_q.fit_transform(in_data_transformed_q)\n",
    "out_data_q = np.log10(mp_mass_data[output_cols_q])"
   ]
  },
  {
   "cell_type": "code",
   "execution_count": null,
   "id": "cad5ed9e-4257-457f-ad59-a28edb6bde18",
   "metadata": {},
   "outputs": [],
   "source": [
    "mp_mass_data[\"QC_prop_out\"]"
   ]
  },
  {
   "cell_type": "markdown",
   "id": "778f3bbd-8733-45bd-af91-058776a8da07",
   "metadata": {},
   "source": [
    "I am attempting to fit a neural network that predicts the partitioning of QR and QC simultanenously. I fit a neural network with a softmax activation function to do so. It appears to be having trouble fitting both values very well and has lots of artifacts throughout the histogram."
   ]
  },
  {
   "cell_type": "markdown",
   "id": "fb62fd4c-6563-4cdb-a7ce-a57b84824611",
   "metadata": {},
   "source": [
    "I am fitting an ANN to predict the QC mass partition with a sigmoid activation function."
   ]
  },
  {
   "cell_type": "code",
   "execution_count": 68,
   "id": "946ce16c-c4bc-48c1-8240-13177be61820",
   "metadata": {},
   "outputs": [
    {
     "name": "stdout",
     "output_type": "stream",
     "text": [
      "Model: \"model_5\"\n",
      "_________________________________________________________________\n",
      "Layer (type)                 Output Shape              Param #   \n",
      "=================================================================\n",
      "input (InputLayer)           [(None, 6)]               0         \n",
      "_________________________________________________________________\n",
      "dense_00 (Dense)             (None, 128)               896       \n",
      "_________________________________________________________________\n",
      "dense_01 (Dense)             (None, 1)                 129       \n",
      "=================================================================\n",
      "Total params: 1,025\n",
      "Trainable params: 1,025\n",
      "Non-trainable params: 0\n",
      "_________________________________________________________________\n",
      "Epoch 1/30\n",
      "41200/41200 [==============================] - 22s 530us/step - loss: 43.6390\n",
      "Epoch 2/30\n",
      "41200/41200 [==============================] - 22s 542us/step - loss: 0.0024\n",
      "Epoch 3/30\n",
      "41200/41200 [==============================] - 22s 527us/step - loss: 0.0018\n",
      "Epoch 4/30\n",
      "41200/41200 [==============================] - 22s 529us/step - loss: 0.0016\n",
      "Epoch 5/30\n",
      "41200/41200 [==============================] - 23s 554us/step - loss: 0.0015\n",
      "Epoch 6/30\n",
      "41200/41200 [==============================] - 22s 526us/step - loss: 0.0014\n",
      "Epoch 7/30\n",
      "41200/41200 [==============================] - 22s 540us/step - loss: 0.0013\n",
      "Epoch 8/30\n",
      "41200/41200 [==============================] - 22s 529us/step - loss: 0.0013\n",
      "Epoch 9/30\n",
      "41200/41200 [==============================] - 22s 538us/step - loss: 0.0013\n",
      "Epoch 10/30\n",
      "41200/41200 [==============================] - 23s 552us/step - loss: 0.0012\n",
      "Epoch 11/30\n",
      "41200/41200 [==============================] - 22s 535us/step - loss: 0.0012\n",
      "Epoch 12/30\n",
      "41200/41200 [==============================] - 23s 553us/step - loss: 0.0012\n",
      "Epoch 13/30\n",
      "41200/41200 [==============================] - 22s 527us/step - loss: 0.0011\n",
      "Epoch 14/30\n",
      "41200/41200 [==============================] - 22s 534us/step - loss: 0.0012\n",
      "Epoch 15/30\n",
      "41200/41200 [==============================] - 23s 554us/step - loss: 0.0011\n",
      "Epoch 16/30\n",
      "41200/41200 [==============================] - 22s 527us/step - loss: 0.0011\n",
      "Epoch 17/30\n",
      "41200/41200 [==============================] - 23s 554us/step - loss: 0.0011\n",
      "Epoch 18/30\n",
      "41200/41200 [==============================] - 22s 543us/step - loss: 0.0011\n",
      "Epoch 19/30\n",
      "41200/41200 [==============================] - 22s 536us/step - loss: 0.0011\n",
      "Epoch 20/30\n",
      "41200/41200 [==============================] - 23s 558us/step - loss: 0.0011\n",
      "Epoch 21/30\n",
      "41200/41200 [==============================] - 22s 529us/step - loss: 0.0011\n",
      "Epoch 22/30\n",
      "41200/41200 [==============================] - 22s 544us/step - loss: 0.0011\n",
      "Epoch 23/30\n",
      "41200/41200 [==============================] - 22s 545us/step - loss: 0.0011\n",
      "Epoch 24/30\n",
      "41200/41200 [==============================] - 22s 529us/step - loss: 0.0011\n",
      "Epoch 25/30\n",
      "41200/41200 [==============================] - 23s 559us/step - loss: 0.0010\n",
      "Epoch 26/30\n",
      "41200/41200 [==============================] - 22s 532us/step - loss: 0.0010\n",
      "Epoch 27/30\n",
      "41200/41200 [==============================] - 22s 541us/step - loss: 0.0010\n",
      "Epoch 28/30\n",
      "41200/41200 [==============================] - 22s 543us/step - loss: 0.0010\n",
      "Epoch 29/30\n",
      "41200/41200 [==============================] - 22s 526us/step - loss: 9.8210e-04\n",
      "Epoch 30/30\n",
      "41200/41200 [==============================] - 22s 534us/step - loss: 0.0010\n"
     ]
    }
   ],
   "source": [
    "dnn_qc = DenseNeuralNetwork(hidden_layers=1, hidden_neurons=128, activation=\"relu\", output_activation=\"linear\", batch_size=128, \n",
    "                         epochs=30, verbose=1, loss=\"mse\", lr=1e-4, l2_weight=0)\n",
    "dnn_qc_hist = dnn_qc.fit(in_data_q, out_data_q.iloc[:, 0].values)"
   ]
  },
  {
   "cell_type": "code",
   "execution_count": 69,
   "id": "1f7e4dbb-db6b-4832-8e69-543e449510c3",
   "metadata": {},
   "outputs": [
    {
     "data": {
      "text/plain": [
       "[<matplotlib.lines.Line2D at 0x2b366df229d0>]"
      ]
     },
     "execution_count": 69,
     "metadata": {},
     "output_type": "execute_result"
    },
    {
     "data": {
      "image/png": "[encoded data removed]",
      "text/plain": [
       "<Figure size 432x288 with 1 Axes>"
      ]
     },
     "metadata": {
      "needs_background": "light"
     },
     "output_type": "display_data"
    }
   ],
   "source": [
    "plt.plot(np.log10(dnn_qc_hist[\"loss\"][1:]))"
   ]
  },
  {
   "cell_type": "code",
   "execution_count": 70,
   "id": "e2340bee-f204-45d0-9eca-49d881d8f522",
   "metadata": {},
   "outputs": [],
   "source": [
    "in_test_data_q = scale_in_q.transform(np.log10(np.maximum(mp_test_mass_data[input_cols_q], 1e-38)))\n",
    "\n",
    "out_pred_qc = dnn_qc.model.predict(in_test_data_q, batch_size=8192)[:, 0]\n",
    "out_pred_qc_total = np.zeros((out_pred_qc.shape[0], 2)) \n",
    "out_pred_qc_total[:, 0] = 10 ** out_pred_qc\n",
    "out_pred_qc_total[:, 1] = mp_test_mass_data[[\"QR_TAU_in\", \"QC_TAU_in\"]].sum(axis=1).values - 10 ** out_pred_qc\n",
    "#out_pred_qc_total[:, 0] = out_pred_qc * mp_test_mass_data[[\"QR_TAU_in\", \"QC_TAU_in\"]].sum(axis=1).values\n",
    "#out_pred_qc_total[:, 1] = (1 - out_pred_qc) * mp_test_mass_data[[\"QR_TAU_in\", \"QC_TAU_in\"]].sum(axis=1).values\n"
   ]
  },
  {
   "cell_type": "code",
   "execution_count": 71,
   "id": "4a3d9a27-13a9-4f87-9783-69c5108699d7",
   "metadata": {},
   "outputs": [
    {
     "data": {
      "text/plain": [
       "(array([[2.89000e+02, 1.92000e+02, 5.48000e+02, ...,         nan,\n",
       "                 nan,         nan],\n",
       "        [        nan,         nan,         nan, ...,         nan,\n",
       "                 nan,         nan],\n",
       "        [        nan,         nan,         nan, ...,         nan,\n",
       "                 nan,         nan],\n",
       "        ...,\n",
       "        [        nan,         nan,         nan, ..., 4.75520e+04,\n",
       "                 nan,         nan],\n",
       "        [        nan,         nan,         nan, ..., 4.30260e+04,\n",
       "         8.00000e+01,         nan],\n",
       "        [        nan,         nan,         nan, ..., 1.67641e+05,\n",
       "         3.31999e+05, 1.15519e+05]]),\n",
       " array([-247.29257202, -242.41270939, -237.53284677, -232.65298414,\n",
       "        -227.77312151, -222.89325888, -218.01339625, -213.13353363,\n",
       "        -208.253671  , -203.37380837, -198.49394574, -193.61408311,\n",
       "        -188.73422049, -183.85435786, -178.97449523, -174.0946326 ,\n",
       "        -169.21476997, -164.33490735, -159.45504472, -154.57518209,\n",
       "        -149.69531946, -144.81545683, -139.93559421, -135.05573158,\n",
       "        -130.17586895, -125.29600632, -120.41614369, -115.53628107,\n",
       "        -110.65641844, -105.77655581, -100.89669318,  -96.01683055,\n",
       "         -91.13696793,  -86.2571053 ,  -81.37724267,  -76.49738004,\n",
       "         -71.61751741,  -66.73765479,  -61.85779216,  -56.97792953,\n",
       "         -52.0980669 ,  -47.21820427,  -42.33834165,  -37.45847902,\n",
       "         -32.57861639,  -27.69875376,  -22.81889113,  -17.93902851,\n",
       "         -13.05916588,   -8.17930325,   -3.29944062]),\n",
       " array([-37.92977905, -37.23587274, -36.54196642, -35.8480601 ,\n",
       "        -35.15415379, -34.46024747, -33.76634115, -33.07243484,\n",
       "        -32.37852852, -31.6846222 , -30.99071589, -30.29680957,\n",
       "        -29.60290325, -28.90899693, -28.21509062, -27.5211843 ,\n",
       "        -26.82727798, -26.13337167, -25.43946535, -24.74555903,\n",
       "        -24.05165272, -23.3577464 , -22.66384008, -21.96993377,\n",
       "        -21.27602745, -20.58212113, -19.88821482, -19.1943085 ,\n",
       "        -18.50040218, -17.80649587, -17.11258955, -16.41868323,\n",
       "        -15.72477692, -15.0308706 , -14.33696428, -13.64305797,\n",
       "        -12.94915165, -12.25524533, -11.56133902, -10.8674327 ,\n",
       "        -10.17352638,  -9.47962007,  -8.78571375,  -8.09180743,\n",
       "         -7.39790112,  -6.7039948 ,  -6.01008848,  -5.31618217,\n",
       "         -4.62227585,  -3.92836953,  -3.23446321]),\n",
       " <matplotlib.collections.QuadMesh at 0x2b366dfba040>)"
      ]
     },
     "execution_count": 71,
     "metadata": {},
     "output_type": "execute_result"
    },
    {
     "data": {
      "image/png": "[encoded data removed]",
      "text/plain": [
       "<Figure size 432x288 with 1 Axes>"
      ]
     },
     "metadata": {
      "needs_background": "light"
     },
     "output_type": "display_data"
    }
   ],
   "source": [
    "plt.hist2d(out_pred_qc, out_test_data[\"QC_TAU_out\"], bins=50, cmin=1, norm=LogNorm())"
   ]
  },
  {
   "cell_type": "code",
   "execution_count": 60,
   "id": "2022392f-4163-4f3f-8d16-24178917ae62",
   "metadata": {},
   "outputs": [
    {
     "data": {
      "text/plain": [
       "-76.108864"
      ]
     },
     "execution_count": 60,
     "metadata": {},
     "output_type": "execute_result"
    }
   ],
   "source": [
    "out_pred_qc.min()"
   ]
  },
  {
   "cell_type": "code",
   "execution_count": 205,
   "id": "66b1bba7-dcf0-49c7-abb0-5fde753afed6",
   "metadata": {},
   "outputs": [
    {
     "data": {
      "text/plain": [
       "(array([ 955034.,   83014.,   71616.,   71588.,   76949.,   88458.,\n",
       "         174855.,  374447., 1399137., 1978383.]),\n",
       " array([8.122813e-31, 1.000000e-01, 2.000000e-01, 3.000000e-01,\n",
       "        4.000000e-01, 5.000000e-01, 6.000000e-01, 7.000000e-01,\n",
       "        8.000000e-01, 9.000000e-01, 1.000000e+00], dtype=float32),\n",
       " <BarContainer object of 10 artists>)"
      ]
     },
     "execution_count": 205,
     "metadata": {},
     "output_type": "execute_result"
    },
    {
     "data": {
      "image/png": "[encoded data removed]",
      "text/plain": [
       "<Figure size 432x288 with 1 Axes>"
      ]
     },
     "metadata": {
      "needs_background": "light"
     },
     "output_type": "display_data"
    }
   ],
   "source": [
    "plt.hist(out_data_q.iloc[:,0])"
   ]
  },
  {
   "cell_type": "code",
   "execution_count": 58,
   "id": "4c4d1dbd-b5a5-42cb-a061-5e9d2cca3142",
   "metadata": {},
   "outputs": [
    {
     "data": {
      "text/plain": [
       "array([ 0.        , -0.00012991])"
      ]
     },
     "execution_count": 58,
     "metadata": {},
     "output_type": "execute_result"
    }
   ],
   "source": [
    "out_pred_qc_total.min(axis=0)"
   ]
  },
  {
   "cell_type": "code",
   "execution_count": 72,
   "id": "8b5d5304-b6f6-4724-a720-c5816c967a90",
   "metadata": {},
   "outputs": [
    {
     "name": "stderr",
     "output_type": "stream",
     "text": [
      "/glade/scratch/dgagne/ipykernel_8689/1985330140.py:4: RuntimeWarning: divide by zero encountered in log10\n",
      "  plt.hist2d(np.log10(out_pred_qc_total[ix, 0]), np.log10(mp_test_mass_data.loc[ix, \"QC_TAU_out\"]), cmin=1, bins=np.arange(-38, -2, 0.5), norm=LogNorm())\n",
      "/glade/scratch/dgagne/ipykernel_8689/1985330140.py:6: RuntimeWarning: divide by zero encountered in log10\n",
      "  print(np.corrcoef(np.log10(np.maximum(out_pred_qc_total[ix, 0], 1-38)), np.log10(np.maximum(mp_test_mass_data.loc[ix, \"QC_TAU_out\"], 1e-38))) **2)\n",
      "/glade/work/dgagne/miniconda3/envs/mlmicro/lib/python3.8/site-packages/numpy/lib/function_base.py:2474: RuntimeWarning: invalid value encountered in subtract\n",
      "  X -= avg[:, None]\n"
     ]
    },
    {
     "name": "stdout",
     "output_type": "stream",
     "text": [
      "[[nan nan]\n",
      " [nan  1.]]\n"
     ]
    },
    {
     "name": "stderr",
     "output_type": "stream",
     "text": [
      "/glade/scratch/dgagne/ipykernel_8689/1985330140.py:15: RuntimeWarning: invalid value encountered in log10\n",
      "  plt.hist2d(np.log10(out_pred_qc_total[ix, 1]), np.log10(mp_test_mass_data.loc[ix, \"QR_TAU_out\"]), cmin=1, bins=np.arange(-38, -2, 0.5), norm=LogNorm())\n"
     ]
    },
    {
     "name": "stdout",
     "output_type": "stream",
     "text": [
      "[[1.         0.94540765]\n",
      " [0.94540765 1.        ]]\n"
     ]
    },
    {
     "data": {
      "image/png": "[encoded data removed]",
      "text/plain": [
       "<Figure size 864x360 with 4 Axes>"
      ]
     },
     "metadata": {
      "needs_background": "light"
     },
     "output_type": "display_data"
    }
   ],
   "source": [
    "ix = mp_test_mass_data[\"QC_TAU_out\"] > 0\n",
    "plt.figure(figsize=(12, 5))\n",
    "plt.subplot(1, 2, 1)\n",
    "plt.hist2d(np.log10(out_pred_qc_total[ix, 0]), np.log10(mp_test_mass_data.loc[ix, \"QC_TAU_out\"]), cmin=1, bins=np.arange(-38, -2, 0.5), norm=LogNorm())\n",
    "plt.plot(np.arange(-38, -3, 0.2), np.arange(-38, -3, 0.2), 'k--')\n",
    "print(np.corrcoef(np.log10(np.maximum(out_pred_qc_total[ix, 0], 1-38)), np.log10(np.maximum(mp_test_mass_data.loc[ix, \"QC_TAU_out\"], 1e-38))) **2)\n",
    "plt.xlabel(\"Predicted\")\n",
    "plt.ylabel(\"Observed\")\n",
    "plt.title(\"QC\")\n",
    "plt.xlim(-38, -2)\n",
    "plt.ylim(-38, -2)\n",
    "plt.colorbar()\n",
    "plt.subplot(1, 2, 2)\n",
    "ix = mp_test_mass_data[\"QR_TAU_out\"] > 0\n",
    "plt.hist2d(np.log10(out_pred_qc_total[ix, 1]), np.log10(mp_test_mass_data.loc[ix, \"QR_TAU_out\"]), cmin=1, bins=np.arange(-38, -2, 0.5), norm=LogNorm())\n",
    "print(np.corrcoef(np.log10(np.maximum(out_pred_qc_total[ix, 1], 1e-38)), np.log10(mp_test_mass_data.loc[ix, \"QR_TAU_out\"])) **2)\n",
    "\n",
    "\n",
    "plt.plot(np.arange(-38, -3), np.arange(-38, -3), 'k--')\n",
    "plt.xlabel(\"Predicted\")\n",
    "plt.ylabel(\"Observed\")\n",
    "plt.title(\"QR\")\n",
    "plt.xlim(-38, -2)\n",
    "plt.ylim(-38, -2)\n",
    "plt.colorbar()\n",
    "plt.savefig(\"qc_qr_hist.png\", dpi=200, bbox_inches=\"tight\")\n"
   ]
  },
  {
   "cell_type": "code",
   "execution_count": 73,
   "id": "669e6f55-7ce7-43c5-bdb7-8f47eb7959d6",
   "metadata": {},
   "outputs": [],
   "source": [
    "dnn_qc._estimator_type = \"regressor\"\n",
    "dnn_qc.model_ = dnn_qc.model\n",
    "pd_out = {}\n",
    "for input_col in input_cols_q:\n",
    "    pd_out[input_col] = partial_dependence(dnn_qc, pd.DataFrame(in_data_q[::100], columns=input_cols_q), features=input_col, grid_resolution=20, kind=\"average\")"
   ]
  },
  {
   "cell_type": "code",
   "execution_count": 74,
   "id": "cd024ffa-85d4-4315-a4b0-878f24401be6",
   "metadata": {},
   "outputs": [
    {
     "data": {
      "image/png": "[encoded data removed]",
      "text/plain": [
       "<Figure size 720x720 with 6 Axes>"
      ]
     },
     "metadata": {
      "needs_background": "light"
     },
     "output_type": "display_data"
    }
   ],
   "source": [
    "fig, axes = plt.subplots(3, 2, figsize=(10, 10))\n",
    "for i, input_col in enumerate(input_cols_q):\n",
    "    axes.ravel()[i].plot(pd_out[input_col][\"values\"][0] * scale_in_q.scale_[i] + scale_in_q.mean_[i], pd_out[input_col][\"average\"][0])\n",
    "    axes.ravel()[i].set_title(input_col)"
   ]
  },
  {
   "cell_type": "code",
   "execution_count": 151,
   "id": "6dfd6777-b15b-4a52-9283-41439bbe55d0",
   "metadata": {},
   "outputs": [
    {
     "data": {
      "text/plain": [
       "array([-16.35754835, -16.56178859,  -3.3441548 ,  -4.62959271,\n",
       "       -28.62425016, -28.65046919])"
      ]
     },
     "execution_count": 151,
     "metadata": {},
     "output_type": "execute_result"
    }
   ],
   "source": [
    "scale_in_q.mean_"
   ]
  },
  {
   "cell_type": "code",
   "execution_count": null,
   "id": "5e130094-32fb-4ff4-abe6-5681a0fce78d",
   "metadata": {},
   "outputs": [],
   "source": []
  },
  {
   "cell_type": "code",
   "execution_count": 144,
   "id": "456adca4-96e1-4341-88ba-c2f38c6e0df5",
   "metadata": {},
   "outputs": [
    {
     "data": {
      "text/plain": [
       "{'average': array([[-10.182941, -10.152616, -10.116498, -10.074871, -10.02803 ,\n",
       "          -9.976268,  -9.91984 ,  -9.858986,  -9.793897,  -9.724737]],\n",
       "       dtype=float32),\n",
       " 'values': [array([-0.56370548, -0.30001196, -0.03631843,  0.2273751 ,  0.49106862,\n",
       "          0.75476215,  1.01845568,  1.28214921,  1.54584273,  1.80953626])]}"
      ]
     },
     "execution_count": 144,
     "metadata": {},
     "output_type": "execute_result"
    }
   ],
   "source": [
    "pd_out[input_col]"
   ]
  },
  {
   "cell_type": "code",
   "execution_count": null,
   "id": "b69ffce2-c569-492b-9db4-0e3ce26c0877",
   "metadata": {},
   "outputs": [],
   "source": []
  },
  {
   "cell_type": "code",
   "execution_count": 170,
   "id": "c7e665a6-97a3-48b8-b8f5-e232f15463bf",
   "metadata": {},
   "outputs": [
    {
     "name": "stdout",
     "output_type": "stream",
     "text": [
      "Model: \"model_10\"\n",
      "_________________________________________________________________\n",
      "Layer (type)                 Output Shape              Param #   \n",
      "=================================================================\n",
      "input (InputLayer)           [(None, 6)]               0         \n",
      "_________________________________________________________________\n",
      "dense_00 (Dense)             (None, 128)               896       \n",
      "_________________________________________________________________\n",
      "dense_01 (Dense)             (None, 128)               16512     \n",
      "_________________________________________________________________\n",
      "dense_02 (Dense)             (None, 1)                 129       \n",
      "=================================================================\n",
      "Total params: 17,537\n",
      "Trainable params: 17,537\n",
      "Non-trainable params: 0\n",
      "_________________________________________________________________\n",
      "Epoch 1/30\n",
      "20600/20600 [==============================] - 25s 1ms/step - loss: 0.0071\n",
      "Epoch 2/30\n",
      "20600/20600 [==============================] - 25s 1ms/step - loss: 3.3702e-04\n",
      "Epoch 3/30\n",
      "20600/20600 [==============================] - 25s 1ms/step - loss: 2.6335e-04\n",
      "Epoch 4/30\n",
      "20600/20600 [==============================] - 25s 1ms/step - loss: 2.2517e-04\n",
      "Epoch 5/30\n",
      "20600/20600 [==============================] - 25s 1ms/step - loss: 2.0058e-04\n",
      "Epoch 6/30\n",
      "20600/20600 [==============================] - 25s 1ms/step - loss: 1.8399e-04\n",
      "Epoch 7/30\n",
      "20600/20600 [==============================] - 26s 1ms/step - loss: 1.7029e-04\n",
      "Epoch 8/30\n",
      "20600/20600 [==============================] - 27s 1ms/step - loss: 1.6244e-04\n",
      "Epoch 9/30\n",
      "20600/20600 [==============================] - 27s 1ms/step - loss: 1.5365e-04\n",
      "Epoch 10/30\n",
      "20600/20600 [==============================] - 31s 1ms/step - loss: 1.4095e-04\n",
      "Epoch 11/30\n",
      "20600/20600 [==============================] - 28s 1ms/step - loss: 1.3353e-04\n",
      "Epoch 12/30\n",
      "20600/20600 [==============================] - 29s 1ms/step - loss: 1.2396e-04\n",
      "Epoch 13/30\n",
      "20600/20600 [==============================] - 29s 1ms/step - loss: 1.1911e-04\n",
      "Epoch 14/30\n",
      "20600/20600 [==============================] - 26s 1ms/step - loss: 1.1493e-04\n",
      "Epoch 15/30\n",
      "20600/20600 [==============================] - 25s 1ms/step - loss: 1.1175e-04\n",
      "Epoch 16/30\n",
      "20600/20600 [==============================] - 25s 1ms/step - loss: 1.0737e-04\n",
      "Epoch 17/30\n",
      "20600/20600 [==============================] - 25s 1ms/step - loss: 1.0464e-04\n",
      "Epoch 18/30\n",
      "20600/20600 [==============================] - 25s 1ms/step - loss: 1.0281e-04\n",
      "Epoch 19/30\n",
      "20600/20600 [==============================] - 26s 1ms/step - loss: 9.9834e-05\n",
      "Epoch 20/30\n",
      "20600/20600 [==============================] - 25s 1ms/step - loss: 9.9290e-05\n",
      "Epoch 21/30\n",
      "20600/20600 [==============================] - 25s 1ms/step - loss: 9.6741e-05\n",
      "Epoch 22/30\n",
      "20600/20600 [==============================] - 25s 1ms/step - loss: 9.6307e-05\n",
      "Epoch 23/30\n",
      "20600/20600 [==============================] - 25s 1ms/step - loss: 9.4164e-05\n",
      "Epoch 24/30\n",
      "20600/20600 [==============================] - 25s 1ms/step - loss: 9.3607e-05\n",
      "Epoch 25/30\n",
      "20600/20600 [==============================] - 25s 1ms/step - loss: 9.1502e-05\n",
      "Epoch 26/30\n",
      "20600/20600 [==============================] - 26s 1ms/step - loss: 9.0463e-05\n",
      "Epoch 27/30\n",
      "20600/20600 [==============================] - 25s 1ms/step - loss: 9.0307e-05\n",
      "Epoch 28/30\n",
      "20600/20600 [==============================] - 26s 1ms/step - loss: 8.7700e-05\n",
      "Epoch 29/30\n",
      "20600/20600 [==============================] - 26s 1ms/step - loss: 8.8030e-05\n",
      "Epoch 30/30\n",
      "20600/20600 [==============================] - 25s 1ms/step - loss: 8.6420e-05\n"
     ]
    }
   ],
   "source": [
    "dnn_qr = DenseNeuralNetwork(hidden_layers=2, hidden_neurons=128, activation=\"relu\", output_activation=\"sigmoid\", batch_size=256, \n",
    "                         epochs=30, verbose=1, loss=\"huber\", lr=1e-4, l2_weight=0)\n",
    "dnn_qr_hist = dnn_qr.fit(in_data_q, out_data_q.iloc[:, 1])"
   ]
  },
  {
   "cell_type": "code",
   "execution_count": 171,
   "id": "1d979c8e-7f3e-4af6-9785-a7d04b95c6f3",
   "metadata": {},
   "outputs": [],
   "source": [
    "in_test_data_q = scale_in_q.transform(np.log10(np.maximum(mp_test_mass_data[input_cols_q], 1e-38)))\n",
    "out_pred_qr = dnn_qr.model.predict(in_test_data_q, batch_size=8192)[:, 0]\n",
    "out_pred_qr_total = np.zeros((out_pred_qr.shape[0], 2)) \n",
    "out_pred_qr_total[:, 0] = (1 - out_pred_qr) * mp_test_mass_data[[\"QR_TAU_in\", \"QC_TAU_in\"]].sum(axis=1).values\n",
    "out_pred_qr_total[:, 1] = (out_pred_qr) * mp_test_mass_data[[\"QR_TAU_in\", \"QC_TAU_in\"]].sum(axis=1).values"
   ]
  },
  {
   "cell_type": "code",
   "execution_count": 52,
   "id": "48a3721c-ca3a-4231-b981-3c0160f956e3",
   "metadata": {},
   "outputs": [
    {
     "data": {
      "text/plain": [
       "1.51531315e-24"
      ]
     },
     "execution_count": 52,
     "metadata": {},
     "output_type": "execute_result"
    }
   ],
   "source": []
  },
  {
   "cell_type": "code",
   "execution_count": 172,
   "id": "b7762ac2-f0b9-4b9d-8764-35b0cf853997",
   "metadata": {},
   "outputs": [
    {
     "name": "stderr",
     "output_type": "stream",
     "text": [
      "/glade/scratch/dgagne/ipykernel_209350/1586418118.py:4: RuntimeWarning: divide by zero encountered in log10\n",
      "  plt.hist2d(np.log10(out_pred_qr_total[ix, 0]), np.log10(mp_test_mass_data.loc[ix, \"QC_TAU_out\"]), cmin=1, bins=np.arange(-38, -2, 0.5), norm=LogNorm())\n",
      "/glade/scratch/dgagne/ipykernel_209350/1586418118.py:6: RuntimeWarning: divide by zero encountered in log10\n",
      "  print(np.corrcoef(np.log10(out_pred_qr_total[ix, 0]), np.log10(mp_test_mass_data.loc[ix, \"QC_TAU_out\"])) **2)\n",
      "/glade/work/dgagne/miniconda3/envs/mlmicro/lib/python3.8/site-packages/numpy/lib/function_base.py:2474: RuntimeWarning: invalid value encountered in subtract\n",
      "  X -= avg[:, None]\n"
     ]
    },
    {
     "name": "stdout",
     "output_type": "stream",
     "text": [
      "[[nan nan]\n",
      " [nan  1.]]\n",
      "[[1.         0.99207623]\n",
      " [0.99207623 1.        ]]\n"
     ]
    },
    {
     "data": {
      "image/png": "[encoded data removed]",
      "text/plain": [
       "<Figure size 864x360 with 4 Axes>"
      ]
     },
     "metadata": {
      "needs_background": "light"
     },
     "output_type": "display_data"
    }
   ],
   "source": [
    "ix = mp_test_mass_data[\"QC_TAU_out\"] > 0\n",
    "plt.figure(figsize=(12, 5))\n",
    "plt.subplot(1, 2, 1)\n",
    "plt.hist2d(np.log10(out_pred_qr_total[ix, 0]), np.log10(mp_test_mass_data.loc[ix, \"QC_TAU_out\"]), cmin=1, bins=np.arange(-38, -2, 0.5), norm=LogNorm())\n",
    "plt.plot(np.arange(-38, -3, 0.2), np.arange(-38, -3, 0.2), 'k--')\n",
    "print(np.corrcoef(np.log10(out_pred_qr_total[ix, 0]), np.log10(mp_test_mass_data.loc[ix, \"QC_TAU_out\"])) **2)\n",
    "plt.xlabel(\"Predicted\")\n",
    "plt.ylabel(\"Observed\")\n",
    "plt.title(\"QC\")\n",
    "plt.xlim(-38, -2)\n",
    "plt.ylim(-38, -2)\n",
    "plt.colorbar()\n",
    "plt.subplot(1, 2, 2)\n",
    "ix = mp_test_mass_data[\"QR_TAU_out\"] > 0\n",
    "plt.hist2d(np.log10(out_pred_qr_total[ix, 1]), np.log10(mp_test_mass_data.loc[ix, \"QR_TAU_out\"]), cmin=1, bins=np.arange(-38, -2, 0.5), norm=LogNorm())\n",
    "print(np.corrcoef(np.log10(np.maximum(out_pred_qr_total[ix, 1], 1e-38)), np.log10(mp_test_mass_data.loc[ix, \"QR_TAU_out\"])) **2)\n",
    "\n",
    "\n",
    "plt.plot(np.arange(-38, -3), np.arange(-38, -3), 'k--')\n",
    "plt.xlabel(\"Predicted\")\n",
    "plt.ylabel(\"Observed\")\n",
    "plt.title(\"QR\")\n",
    "plt.xlim(-38, -2)\n",
    "plt.ylim(-38, -2)\n",
    "plt.colorbar()\n",
    "plt.savefig(\"qr_qc_hist.png\", dpi=200, bbox_inches=\"tight\")"
   ]
  },
  {
   "cell_type": "code",
   "execution_count": 212,
   "id": "774e5c21-8055-4a3e-b8a8-b5bbf08dae6e",
   "metadata": {},
   "outputs": [
    {
     "data": {
      "text/plain": [
       "0.0020960941910743713"
      ]
     },
     "execution_count": 212,
     "metadata": {},
     "output_type": "execute_result"
    }
   ],
   "source": [
    "out_pred_q_total[ix, 1].max()"
   ]
  },
  {
   "cell_type": "code",
   "execution_count": 140,
   "id": "2e6ef1d6-ef86-4f62-aa20-6380c8064e81",
   "metadata": {},
   "outputs": [
    {
     "name": "stdout",
     "output_type": "stream",
     "text": [
      "Model: \"model_8\"\n",
      "_________________________________________________________________\n",
      "Layer (type)                 Output Shape              Param #   \n",
      "=================================================================\n",
      "input (InputLayer)           [(None, 4)]               0         \n",
      "_________________________________________________________________\n",
      "dense_00 (Dense)             (None, 100)               500       \n",
      "_________________________________________________________________\n",
      "dense_01 (Dense)             (None, 1)                 101       \n",
      "=================================================================\n",
      "Total params: 601\n",
      "Trainable params: 601\n",
      "Non-trainable params: 0\n",
      "_________________________________________________________________\n",
      "Epoch 1/40\n",
      "20600/20600 [==============================] - 10s 472us/step - loss: 2.7958\n",
      "Epoch 2/40\n",
      "20600/20600 [==============================] - 10s 472us/step - loss: 0.1609\n",
      "Epoch 3/40\n",
      "20600/20600 [==============================] - 10s 474us/step - loss: 0.1313\n",
      "Epoch 4/40\n",
      "20600/20600 [==============================] - 10s 472us/step - loss: 0.1148\n",
      "Epoch 5/40\n",
      "20600/20600 [==============================] - 10s 474us/step - loss: 0.1070\n",
      "Epoch 6/40\n",
      "20600/20600 [==============================] - 10s 476us/step - loss: 0.1009\n",
      "Epoch 7/40\n",
      "20600/20600 [==============================] - 10s 474us/step - loss: 0.0962\n",
      "Epoch 8/40\n",
      "20600/20600 [==============================] - 10s 474us/step - loss: 0.0915\n",
      "Epoch 9/40\n",
      "20600/20600 [==============================] - 10s 480us/step - loss: 0.0883\n",
      "Epoch 10/40\n",
      "20600/20600 [==============================] - 10s 477us/step - loss: 0.0862\n",
      "Epoch 11/40\n",
      "20600/20600 [==============================] - 10s 476us/step - loss: 0.0829\n",
      "Epoch 12/40\n",
      "20600/20600 [==============================] - 10s 476us/step - loss: 0.0809\n",
      "Epoch 13/40\n",
      "20600/20600 [==============================] - 10s 474us/step - loss: 0.0792\n",
      "Epoch 14/40\n",
      "20600/20600 [==============================] - 10s 473us/step - loss: 0.0785\n",
      "Epoch 15/40\n",
      "20600/20600 [==============================] - 10s 481us/step - loss: 0.0759\n",
      "Epoch 16/40\n",
      "20600/20600 [==============================] - 10s 472us/step - loss: 0.0755\n",
      "Epoch 17/40\n",
      "20600/20600 [==============================] - 10s 472us/step - loss: 0.0738\n",
      "Epoch 18/40\n",
      "20600/20600 [==============================] - 10s 474us/step - loss: 0.0723\n",
      "Epoch 19/40\n",
      "20600/20600 [==============================] - 10s 473us/step - loss: 0.0710\n",
      "Epoch 20/40\n",
      "20600/20600 [==============================] - 10s 472us/step - loss: 0.0698\n",
      "Epoch 21/40\n",
      "20600/20600 [==============================] - 10s 475us/step - loss: 0.0687\n",
      "Epoch 22/40\n",
      "20600/20600 [==============================] - 10s 475us/step - loss: 0.0678\n",
      "Epoch 23/40\n",
      "20600/20600 [==============================] - 10s 473us/step - loss: 0.0666\n",
      "Epoch 24/40\n",
      "20600/20600 [==============================] - 10s 475us/step - loss: 0.0655\n",
      "Epoch 25/40\n",
      "20600/20600 [==============================] - 10s 472us/step - loss: 0.0646\n",
      "Epoch 26/40\n",
      "20600/20600 [==============================] - 10s 472us/step - loss: 0.0631\n",
      "Epoch 27/40\n",
      "20600/20600 [==============================] - 10s 473us/step - loss: 0.0619\n",
      "Epoch 28/40\n",
      "20600/20600 [==============================] - 10s 472us/step - loss: 0.0609\n",
      "Epoch 29/40\n",
      "20600/20600 [==============================] - 10s 472us/step - loss: 0.0603\n",
      "Epoch 30/40\n",
      "20600/20600 [==============================] - 10s 475us/step - loss: 0.0597\n",
      "Epoch 31/40\n",
      "20600/20600 [==============================] - 10s 475us/step - loss: 0.0586\n",
      "Epoch 32/40\n",
      "20600/20600 [==============================] - 10s 474us/step - loss: 0.0580\n",
      "Epoch 33/40\n",
      "20600/20600 [==============================] - 10s 477us/step - loss: 0.0573\n",
      "Epoch 34/40\n",
      "20600/20600 [==============================] - 10s 475us/step - loss: 0.0563\n",
      "Epoch 35/40\n",
      "20600/20600 [==============================] - 10s 473us/step - loss: 0.0561\n",
      "Epoch 36/40\n",
      "20600/20600 [==============================] - 10s 473us/step - loss: 0.0558\n",
      "Epoch 37/40\n",
      "20600/20600 [==============================] - 10s 473us/step - loss: 0.0551\n",
      "Epoch 38/40\n",
      "20600/20600 [==============================] - 10s 472us/step - loss: 0.0544\n",
      "Epoch 39/40\n",
      "20600/20600 [==============================] - 10s 472us/step - loss: 0.0540\n",
      "Epoch 40/40\n",
      "20600/20600 [==============================] - 10s 477us/step - loss: 0.0534\n"
     ]
    },
    {
     "data": {
      "text/plain": [
       "{'loss': [0.7180818319320679,\n",
       "  0.15104366838932037,\n",
       "  0.126512810587883,\n",
       "  0.11311338096857071,\n",
       "  0.10539574176073074,\n",
       "  0.09973710030317307,\n",
       "  0.09485384821891785,\n",
       "  0.09099218249320984,\n",
       "  0.08779978007078171,\n",
       "  0.0850488543510437,\n",
       "  0.08277875185012817,\n",
       "  0.08081736415624619,\n",
       "  0.07911494374275208,\n",
       "  0.07754027098417282,\n",
       "  0.07607919722795486,\n",
       "  0.07474366575479507,\n",
       "  0.0734889805316925,\n",
       "  0.07214546948671341,\n",
       "  0.07101195305585861,\n",
       "  0.06977994740009308,\n",
       "  0.06871077418327332,\n",
       "  0.06766107678413391,\n",
       "  0.06646815687417984,\n",
       "  0.06529919058084488,\n",
       "  0.06414420157670975,\n",
       "  0.06297782063484192,\n",
       "  0.06193380430340767,\n",
       "  0.060999639332294464,\n",
       "  0.06004547327756882,\n",
       "  0.059301022440195084,\n",
       "  0.05848964676260948,\n",
       "  0.057822179049253464,\n",
       "  0.05715567618608475,\n",
       "  0.05652051046490669,\n",
       "  0.05587080866098404,\n",
       "  0.05543198809027672,\n",
       "  0.054805126041173935,\n",
       "  0.05431303381919861,\n",
       "  0.05380377545952797,\n",
       "  0.05334550887346268]}"
      ]
     },
     "execution_count": 140,
     "metadata": {},
     "output_type": "execute_result"
    }
   ],
   "source": [
    "dnn_nr = DenseNeuralNetwork(hidden_layers=1, hidden_neurons=64, activation=\"tanh\", output_activation=\"linear\", batch_size=256, epochs=40, \n",
    "                            l2_weight=0, verbose=1)\n",
    "dnn_nr.fit(in_data, np.log10(mp_mass_data[\"NR_TAU_out\"]))"
   ]
  },
  {
   "cell_type": "code",
   "execution_count": 141,
   "id": "a81f6aea-6e61-4a21-b769-2be54bc80d10",
   "metadata": {},
   "outputs": [],
   "source": [
    "out_pred_nr_mix = dnn_nr.predict(in_test_data)"
   ]
  },
  {
   "cell_type": "code",
   "execution_count": 142,
   "id": "1ef6dc09-9fc4-446a-a165-b09fca5eefdd",
   "metadata": {},
   "outputs": [
    {
     "data": {
      "text/plain": [
       "Text(0.5, 1.0, 'NR')"
      ]
     },
     "execution_count": 142,
     "metadata": {},
     "output_type": "execute_result"
    },
    {
     "data": {
      "image/png": "[encoded data removed]",
      "text/plain": [
       "<Figure size 432x288 with 1 Axes>"
      ]
     },
     "metadata": {
      "needs_background": "light"
     },
     "output_type": "display_data"
    }
   ],
   "source": [
    "plt.hist2d(out_pred_nr_mix, np.log10(mp_test_mass_data.loc[ix, \"NR_TAU_out\"]), cmin=1, bins=np.arange(-12, 10), norm=LogNorm())\n",
    "plt.plot(np.arange(-15, 7), np.arange(-15, 7), 'k--')\n",
    "plt.xlabel(\"Predicted\")\n",
    "plt.ylabel(\"Observed\")\n",
    "plt.title(\"NR\")"
   ]
  },
  {
   "cell_type": "code",
   "execution_count": 110,
   "id": "65fad6e0-250f-4a85-b400-ed898d90c9aa",
   "metadata": {},
   "outputs": [
    {
     "data": {
      "text/plain": [
       "0         3.587259e-23\n",
       "1         2.818454e-23\n",
       "2         1.609617e-20\n",
       "3         1.870836e-20\n",
       "4         3.559898e-20\n",
       "              ...     \n",
       "411512    9.715268e-07\n",
       "411513    9.715268e-07\n",
       "411514    9.715175e-07\n",
       "411515    9.715134e-07\n",
       "411516    9.715134e-07\n",
       "Name: QR_TAU_out, Length: 264443, dtype: float32"
      ]
     },
     "execution_count": 110,
     "metadata": {},
     "output_type": "execute_result"
    }
   ],
   "source": [
    "ix = mp_test_mass_data[output_col] > 0\n",
    "plt.hist2d(np.log10(out_pred_qr_total[ix]), np.log10(mp_test_mass_data.loc[ix, output_col]), cmin=1, bins=np.arange(-38, -2), norm=LogNorm())\n",
    "plt.plot(np.arange(-38, -3), np.arange(-38, -3), 'k--')"
   ]
  },
  {
   "cell_type": "markdown",
   "id": "d9684569-be05-427e-8b4c-0f4822c1c9f2",
   "metadata": {},
   "source": [
    "# Experiments to run\n",
    "1. Train neural net on qc/total mass vs qr / total mass and see how that affects the resulting error scores for qc and qr.\n",
    "2. Training multi-output model vs. single output models for qc/qr and nc and nr.\n",
    "3. Perform random search on NN architectures and calculate partial dependence plots on NN hyperparameters.\n",
    "4. Update Fortran code to support new neural network models."
   ]
  },
  {
   "cell_type": "code",
   "execution_count": null,
   "id": "f2588466-bd19-4988-ae63-76174917e2c0",
   "metadata": {},
   "outputs": [],
   "source": []
  }
 ],
 "metadata": {
  "kernelspec": {
   "display_name": "Python [conda env:miniconda3-mlmicro]",
   "language": "python",
   "name": "conda-env-miniconda3-mlmicro-py"
  },
  "language_info": {
   "codemirror_mode": {
    "name": "ipython",
    "version": 3
   },
   "file_extension": ".py",
   "mimetype": "text/x-python",
   "name": "python",
   "nbconvert_exporter": "python",
   "pygments_lexer": "ipython3",
   "version": "3.8.10"
  }
 },
 "nbformat": 4,
 "nbformat_minor": 5
}
