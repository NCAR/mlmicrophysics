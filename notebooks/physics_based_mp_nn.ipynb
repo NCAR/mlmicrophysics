{
 "cells": [
  {
   "cell_type": "markdown",
   "id": "afraid-saudi",
   "metadata": {},
   "source": [
    "# Physics-informed microphysics neural network emulator\n",
    "\n",
    "David John Gagne\n",
    "\n",
    "The goal of this approach is to include more physical constraints and make the training easier for the microphysics emulator. \n",
    "\n",
    "The physics-informed neural network setup integrates the following components.\n",
    "\n",
    "1. Predict the updated microphysical terms rather than tendencies. The tendencies have very weird distributions that are hard for one neural network to fit. The original values on the other hand are all greater than 0, so it is easier to ensure that outputs are always greater than 0 this way.\n",
    "$y_{new} = y_{old} + y_{tend} dt$\n",
    "\n",
    "$dt=1800 \\text{ s}$\n",
    "\n",
    "2. Keep all inputs and outputs in log space for training ideally.\n",
    "\n",
    "3. Enforce mass conservation between cloud and rain. \n",
    "$ q_{ro} + q_{co} = q_{rn} + q_{cn}$"
   ]
  },
  {
   "cell_type": "code",
   "execution_count": 2,
   "id": "distinguished-rebate",
   "metadata": {
    "collapsed": false,
    "jupyter": {
     "outputs_hidden": false
    },
    "pycharm": {
     "name": "#%%\n"
    }
   },
   "outputs": [
    {
     "name": "stderr",
     "output_type": "stream",
     "text": [
      "2023-07-10 10:29:27.675092: I tensorflow/core/util/port.cc:110] oneDNN custom operations are on. You may see slightly different numerical results due to floating-point round-off errors from different computation orders. To turn them off, set the environment variable `TF_ENABLE_ONEDNN_OPTS=0`.\n",
      "2023-07-10 10:29:27.746452: I tensorflow/core/platform/cpu_feature_guard.cc:182] This TensorFlow binary is optimized to use available CPU instructions in performance-critical operations.\n",
      "To enable the following instructions: AVX2 AVX512F AVX512_VNNI FMA, in other operations, rebuild TensorFlow with the appropriate compiler flags.\n",
      "2023-07-10 10:29:30.305787: W tensorflow/compiler/tf2tensorrt/utils/py_utils.cc:38] TF-TRT Warning: Could not find TensorRT\n"
     ]
    }
   ],
   "source": [
    "import pandas as pd\n",
    "import numpy as np\n",
    "import matplotlib.pyplot as plt\n",
    "from matplotlib.colors import LogNorm\n",
    "from glob import glob\n",
    "from os.path import join\n",
    "import xarray as xr\n",
    "import dask.dataframe as dd\n",
    "from tensorflow.keras.layers import Input, Dense, Activation\n",
    "from tensorflow.keras.models import Sequential\n",
    "from sklearn.preprocessing import StandardScaler, MinMaxScaler, QuantileTransformer\n",
    "import tensorflow as tf\n",
    "from mlmicrophysics.models import DenseNeuralNetwork\n",
    "from sklearn.inspection import partial_dependence\n",
    "from scipy.special import gamma\n",
    "import plotly.express as px\n",
    "import plotly.graph_objects as go\n",
    "import chart_studio.plotly as py\n",
    "from sklearn.model_selection import GroupShuffleSplit\n",
    "%matplotlib inline"
   ]
  },
  {
   "cell_type": "code",
   "execution_count": 3,
   "id": "ca6d7bb8",
   "metadata": {
    "collapsed": false,
    "jupyter": {
     "outputs_hidden": false
    },
    "pycharm": {
     "name": "#%%\n"
    }
   },
   "outputs": [],
   "source": [
    "def logit(p):\n",
    "    p2 = np.minimum(np.maximum(p.astype(np.float64), 1e-5), 0.9999999999)\n",
    "    return np.log(p2) - np.log(1 - p2)"
   ]
  },
  {
   "cell_type": "code",
   "execution_count": 4,
   "id": "13ec24f8",
   "metadata": {
    "collapsed": false,
    "jupyter": {
     "outputs_hidden": false
    },
    "pycharm": {
     "name": "#%%\n"
    }
   },
   "outputs": [],
   "source": [
    "mp_path = \"/glade/scratch/wchuang/mlmicrophysics/cam_ml_ported5_tau2/20230629/\"\n",
    "mp_files = sorted(glob(join(mp_path, \"*.parquet\")))"
   ]
  },
  {
   "cell_type": "code",
   "execution_count": 5,
   "id": "511c860f",
   "metadata": {
    "collapsed": false,
    "jupyter": {
     "outputs_hidden": false
    },
    "pycharm": {
     "name": "#%%\n"
    }
   },
   "outputs": [],
   "source": [
    "mp_data = pd.concat([pd.read_parquet(mp_files[x]) for x in range(0, len(mp_files), 10)], ignore_index=True)\n",
    "#mp_data.loc[:, \"precip_frac_logit\"] = logit(mp_data[\"precip_frac\"].values)\n",
    "#mp_data.loc[:, \"lcldm_logit\"] = logit(mp_data[\"lcldm\"].values)"
   ]
  },
  {
   "cell_type": "code",
   "execution_count": 6,
   "id": "07d3c523",
   "metadata": {
    "collapsed": false,
    "jupyter": {
     "outputs_hidden": false
    },
    "pycharm": {
     "name": "#%%\n"
    }
   },
   "outputs": [
    {
     "data": {
      "text/plain": [
       "Index(['lev', 'lat', 'lon', 'trop_cld_lev', 'depth', 'row', 'col', 'T',\n",
       "       'RHO_CLUBB', 'CLOUD', 'FREQR', 'QC_TAU_in', 'NC_TAU_in', 'QR_TAU_in',\n",
       "       'NR_TAU_in', 'QC_TAU_out', 'NC_TAU_out', 'QR_TAU_out', 'NR_TAU_out',\n",
       "       'qctend_TAU', 'nctend_TAU', 'qrtend_TAU', 'nrtend_TAU', 'time'],\n",
       "      dtype='object')"
      ]
     },
     "execution_count": 6,
     "metadata": {},
     "output_type": "execute_result"
    }
   ],
   "source": [
    "mp_data.columns"
   ]
  },
  {
   "cell_type": "code",
   "execution_count": 7,
   "id": "d5d08c5c-6fac-4b76-a7ea-ecba0b354736",
   "metadata": {},
   "outputs": [],
   "source": [
    "mp_data.loc[:, \"Q_mass_in\"] = mp_data[[\"QC_TAU_in\", \"QR_TAU_in\"]].sum(axis=1)\n",
    "mp_data.loc[:, \"Q_mass_out\"] = mp_data[[\"QC_TAU_out\", \"QR_TAU_out\"]].sum(axis=1)\n",
    "mp_data.loc[:, \"Q_mass_diff\"] = mp_data.loc[:, \"Q_mass_out\"] - mp_data.loc[:, \"Q_mass_in\"]"
   ]
  },
  {
   "cell_type": "code",
   "execution_count": 8,
   "id": "a56eeaf9-55ad-4f99-a304-9d020d3ba53b",
   "metadata": {},
   "outputs": [],
   "source": [
    "def test_adding_fake_col(data):\n",
    "    data.loc[:, \"fake\"] = np.random.random(data.shape[0])"
   ]
  },
  {
   "cell_type": "code",
   "execution_count": 9,
   "id": "86e94f48-b00e-4331-b305-08e090375b8e",
   "metadata": {},
   "outputs": [],
   "source": [
    "test_adding_fake_col(mp_data)"
   ]
  },
  {
   "cell_type": "code",
   "execution_count": 10,
   "id": "e4e9c01a-95f1-4493-9a5f-1a687c01645b",
   "metadata": {},
   "outputs": [
    {
     "data": {
      "text/html": [
       "<div>\n",
       "<style scoped>\n",
       "    .dataframe tbody tr th:only-of-type {\n",
       "        vertical-align: middle;\n",
       "    }\n",
       "\n",
       "    .dataframe tbody tr th {\n",
       "        vertical-align: top;\n",
       "    }\n",
       "\n",
       "    .dataframe thead th {\n",
       "        text-align: right;\n",
       "    }\n",
       "</style>\n",
       "<table border=\"1\" class=\"dataframe\">\n",
       "  <thead>\n",
       "    <tr style=\"text-align: right;\">\n",
       "      <th></th>\n",
       "      <th>lev</th>\n",
       "      <th>lat</th>\n",
       "      <th>lon</th>\n",
       "      <th>trop_cld_lev</th>\n",
       "      <th>depth</th>\n",
       "      <th>row</th>\n",
       "      <th>col</th>\n",
       "      <th>T</th>\n",
       "      <th>RHO_CLUBB</th>\n",
       "      <th>CLOUD</th>\n",
       "      <th>...</th>\n",
       "      <th>NR_TAU_out</th>\n",
       "      <th>qctend_TAU</th>\n",
       "      <th>nctend_TAU</th>\n",
       "      <th>qrtend_TAU</th>\n",
       "      <th>nrtend_TAU</th>\n",
       "      <th>time</th>\n",
       "      <th>Q_mass_in</th>\n",
       "      <th>Q_mass_out</th>\n",
       "      <th>Q_mass_diff</th>\n",
       "      <th>fake</th>\n",
       "    </tr>\n",
       "  </thead>\n",
       "  <tbody>\n",
       "    <tr>\n",
       "      <th>0</th>\n",
       "      <td>3.643466</td>\n",
       "      <td>-89.057592</td>\n",
       "      <td>132.50</td>\n",
       "      <td>976.325407</td>\n",
       "      <td>0</td>\n",
       "      <td>1</td>\n",
       "      <td>106</td>\n",
       "      <td>265.151485</td>\n",
       "      <td>0.004546</td>\n",
       "      <td>0.0</td>\n",
       "      <td>...</td>\n",
       "      <td>6.018250</td>\n",
       "      <td>-4.209077e-12</td>\n",
       "      <td>-0.010392</td>\n",
       "      <td>4.209077e-12</td>\n",
       "      <td>0.010030</td>\n",
       "      <td>0.000</td>\n",
       "      <td>1.788671e-08</td>\n",
       "      <td>1.788671e-08</td>\n",
       "      <td>3.308722e-24</td>\n",
       "      <td>0.653633</td>\n",
       "    </tr>\n",
       "    <tr>\n",
       "      <th>1</th>\n",
       "      <td>3.643466</td>\n",
       "      <td>-89.057592</td>\n",
       "      <td>133.75</td>\n",
       "      <td>976.325407</td>\n",
       "      <td>0</td>\n",
       "      <td>1</td>\n",
       "      <td>107</td>\n",
       "      <td>265.161664</td>\n",
       "      <td>0.004546</td>\n",
       "      <td>0.0</td>\n",
       "      <td>...</td>\n",
       "      <td>0.000000</td>\n",
       "      <td>0.000000e+00</td>\n",
       "      <td>-1.244573</td>\n",
       "      <td>1.834037e-50</td>\n",
       "      <td>0.000000</td>\n",
       "      <td>0.000</td>\n",
       "      <td>4.830945e-08</td>\n",
       "      <td>4.830945e-08</td>\n",
       "      <td>0.000000e+00</td>\n",
       "      <td>0.372784</td>\n",
       "    </tr>\n",
       "    <tr>\n",
       "      <th>2</th>\n",
       "      <td>3.643466</td>\n",
       "      <td>-89.057592</td>\n",
       "      <td>135.00</td>\n",
       "      <td>976.325407</td>\n",
       "      <td>0</td>\n",
       "      <td>1</td>\n",
       "      <td>108</td>\n",
       "      <td>265.171987</td>\n",
       "      <td>0.004545</td>\n",
       "      <td>0.0</td>\n",
       "      <td>...</td>\n",
       "      <td>0.000000</td>\n",
       "      <td>0.000000e+00</td>\n",
       "      <td>-2.422634</td>\n",
       "      <td>6.787607e-48</td>\n",
       "      <td>0.000000</td>\n",
       "      <td>0.000</td>\n",
       "      <td>1.018793e-07</td>\n",
       "      <td>1.018793e-07</td>\n",
       "      <td>0.000000e+00</td>\n",
       "      <td>0.429409</td>\n",
       "    </tr>\n",
       "    <tr>\n",
       "      <th>3</th>\n",
       "      <td>3.643466</td>\n",
       "      <td>-89.057592</td>\n",
       "      <td>136.25</td>\n",
       "      <td>976.325407</td>\n",
       "      <td>0</td>\n",
       "      <td>1</td>\n",
       "      <td>109</td>\n",
       "      <td>265.182448</td>\n",
       "      <td>0.004545</td>\n",
       "      <td>0.0</td>\n",
       "      <td>...</td>\n",
       "      <td>0.000000</td>\n",
       "      <td>0.000000e+00</td>\n",
       "      <td>-3.244698</td>\n",
       "      <td>5.058680e-46</td>\n",
       "      <td>0.000000</td>\n",
       "      <td>0.000</td>\n",
       "      <td>1.463546e-07</td>\n",
       "      <td>1.463546e-07</td>\n",
       "      <td>0.000000e+00</td>\n",
       "      <td>0.440378</td>\n",
       "    </tr>\n",
       "    <tr>\n",
       "      <th>4</th>\n",
       "      <td>3.643466</td>\n",
       "      <td>-89.057592</td>\n",
       "      <td>137.50</td>\n",
       "      <td>976.325407</td>\n",
       "      <td>0</td>\n",
       "      <td>1</td>\n",
       "      <td>110</td>\n",
       "      <td>265.193014</td>\n",
       "      <td>0.004545</td>\n",
       "      <td>0.0</td>\n",
       "      <td>...</td>\n",
       "      <td>0.000000</td>\n",
       "      <td>0.000000e+00</td>\n",
       "      <td>-4.060676</td>\n",
       "      <td>6.897868e-45</td>\n",
       "      <td>0.000000</td>\n",
       "      <td>0.000</td>\n",
       "      <td>1.888988e-07</td>\n",
       "      <td>1.888988e-07</td>\n",
       "      <td>0.000000e+00</td>\n",
       "      <td>0.679189</td>\n",
       "    </tr>\n",
       "    <tr>\n",
       "      <th>...</th>\n",
       "      <td>...</td>\n",
       "      <td>...</td>\n",
       "      <td>...</td>\n",
       "      <td>...</td>\n",
       "      <td>...</td>\n",
       "      <td>...</td>\n",
       "      <td>...</td>\n",
       "      <td>...</td>\n",
       "      <td>...</td>\n",
       "      <td>...</td>\n",
       "      <td>...</td>\n",
       "      <td>...</td>\n",
       "      <td>...</td>\n",
       "      <td>...</td>\n",
       "      <td>...</td>\n",
       "      <td>...</td>\n",
       "      <td>...</td>\n",
       "      <td>...</td>\n",
       "      <td>...</td>\n",
       "      <td>...</td>\n",
       "      <td>...</td>\n",
       "    </tr>\n",
       "    <tr>\n",
       "      <th>21078907</th>\n",
       "      <td>992.556095</td>\n",
       "      <td>90.000000</td>\n",
       "      <td>358.75</td>\n",
       "      <td>912.644547</td>\n",
       "      <td>31</td>\n",
       "      <td>191</td>\n",
       "      <td>287</td>\n",
       "      <td>251.924387</td>\n",
       "      <td>1.346415</td>\n",
       "      <td>1.0</td>\n",
       "      <td>...</td>\n",
       "      <td>41.433801</td>\n",
       "      <td>-4.486345e-10</td>\n",
       "      <td>-267.983942</td>\n",
       "      <td>4.486345e-10</td>\n",
       "      <td>0.000066</td>\n",
       "      <td>29.375</td>\n",
       "      <td>6.729487e-05</td>\n",
       "      <td>6.729487e-05</td>\n",
       "      <td>-1.355253e-20</td>\n",
       "      <td>0.506996</td>\n",
       "    </tr>\n",
       "    <tr>\n",
       "      <th>21078908</th>\n",
       "      <td>992.556095</td>\n",
       "      <td>90.000000</td>\n",
       "      <td>358.75</td>\n",
       "      <td>936.198398</td>\n",
       "      <td>31</td>\n",
       "      <td>191</td>\n",
       "      <td>287</td>\n",
       "      <td>251.924387</td>\n",
       "      <td>1.346415</td>\n",
       "      <td>1.0</td>\n",
       "      <td>...</td>\n",
       "      <td>129.466544</td>\n",
       "      <td>-1.570057e-09</td>\n",
       "      <td>-412.784975</td>\n",
       "      <td>1.570057e-09</td>\n",
       "      <td>0.039209</td>\n",
       "      <td>29.375</td>\n",
       "      <td>8.068400e-05</td>\n",
       "      <td>8.068400e-05</td>\n",
       "      <td>0.000000e+00</td>\n",
       "      <td>0.158818</td>\n",
       "    </tr>\n",
       "    <tr>\n",
       "      <th>21078909</th>\n",
       "      <td>992.556095</td>\n",
       "      <td>90.000000</td>\n",
       "      <td>358.75</td>\n",
       "      <td>957.485480</td>\n",
       "      <td>31</td>\n",
       "      <td>191</td>\n",
       "      <td>287</td>\n",
       "      <td>251.924387</td>\n",
       "      <td>1.346415</td>\n",
       "      <td>1.0</td>\n",
       "      <td>...</td>\n",
       "      <td>1887.798466</td>\n",
       "      <td>-1.150142e-08</td>\n",
       "      <td>-523.674317</td>\n",
       "      <td>1.150142e-08</td>\n",
       "      <td>1.345423</td>\n",
       "      <td>29.375</td>\n",
       "      <td>8.837224e-05</td>\n",
       "      <td>8.837224e-05</td>\n",
       "      <td>0.000000e+00</td>\n",
       "      <td>0.556063</td>\n",
       "    </tr>\n",
       "    <tr>\n",
       "      <th>21078910</th>\n",
       "      <td>992.556095</td>\n",
       "      <td>90.000000</td>\n",
       "      <td>358.75</td>\n",
       "      <td>976.325407</td>\n",
       "      <td>31</td>\n",
       "      <td>191</td>\n",
       "      <td>287</td>\n",
       "      <td>251.924387</td>\n",
       "      <td>1.346415</td>\n",
       "      <td>1.0</td>\n",
       "      <td>...</td>\n",
       "      <td>6022.254633</td>\n",
       "      <td>-3.459807e-08</td>\n",
       "      <td>-1776.364389</td>\n",
       "      <td>3.459807e-08</td>\n",
       "      <td>5.436632</td>\n",
       "      <td>29.375</td>\n",
       "      <td>1.367438e-04</td>\n",
       "      <td>1.367438e-04</td>\n",
       "      <td>-2.710505e-20</td>\n",
       "      <td>0.526618</td>\n",
       "    </tr>\n",
       "    <tr>\n",
       "      <th>21078911</th>\n",
       "      <td>992.556095</td>\n",
       "      <td>90.000000</td>\n",
       "      <td>358.75</td>\n",
       "      <td>992.556095</td>\n",
       "      <td>31</td>\n",
       "      <td>191</td>\n",
       "      <td>287</td>\n",
       "      <td>251.924387</td>\n",
       "      <td>1.346415</td>\n",
       "      <td>1.0</td>\n",
       "      <td>...</td>\n",
       "      <td>3182.949664</td>\n",
       "      <td>-3.010205e-08</td>\n",
       "      <td>-1781.029188</td>\n",
       "      <td>3.010205e-08</td>\n",
       "      <td>-3.076331</td>\n",
       "      <td>29.375</td>\n",
       "      <td>1.037357e-04</td>\n",
       "      <td>1.037357e-04</td>\n",
       "      <td>0.000000e+00</td>\n",
       "      <td>0.280916</td>\n",
       "    </tr>\n",
       "  </tbody>\n",
       "</table>\n",
       "<p>21078912 rows × 28 columns</p>\n",
       "</div>"
      ],
      "text/plain": [
       "                 lev        lat     lon  trop_cld_lev  depth  row  col  \\\n",
       "0           3.643466 -89.057592  132.50    976.325407      0    1  106   \n",
       "1           3.643466 -89.057592  133.75    976.325407      0    1  107   \n",
       "2           3.643466 -89.057592  135.00    976.325407      0    1  108   \n",
       "3           3.643466 -89.057592  136.25    976.325407      0    1  109   \n",
       "4           3.643466 -89.057592  137.50    976.325407      0    1  110   \n",
       "...              ...        ...     ...           ...    ...  ...  ...   \n",
       "21078907  992.556095  90.000000  358.75    912.644547     31  191  287   \n",
       "21078908  992.556095  90.000000  358.75    936.198398     31  191  287   \n",
       "21078909  992.556095  90.000000  358.75    957.485480     31  191  287   \n",
       "21078910  992.556095  90.000000  358.75    976.325407     31  191  287   \n",
       "21078911  992.556095  90.000000  358.75    992.556095     31  191  287   \n",
       "\n",
       "                   T  RHO_CLUBB  CLOUD  ...   NR_TAU_out    qctend_TAU  \\\n",
       "0         265.151485   0.004546    0.0  ...     6.018250 -4.209077e-12   \n",
       "1         265.161664   0.004546    0.0  ...     0.000000  0.000000e+00   \n",
       "2         265.171987   0.004545    0.0  ...     0.000000  0.000000e+00   \n",
       "3         265.182448   0.004545    0.0  ...     0.000000  0.000000e+00   \n",
       "4         265.193014   0.004545    0.0  ...     0.000000  0.000000e+00   \n",
       "...              ...        ...    ...  ...          ...           ...   \n",
       "21078907  251.924387   1.346415    1.0  ...    41.433801 -4.486345e-10   \n",
       "21078908  251.924387   1.346415    1.0  ...   129.466544 -1.570057e-09   \n",
       "21078909  251.924387   1.346415    1.0  ...  1887.798466 -1.150142e-08   \n",
       "21078910  251.924387   1.346415    1.0  ...  6022.254633 -3.459807e-08   \n",
       "21078911  251.924387   1.346415    1.0  ...  3182.949664 -3.010205e-08   \n",
       "\n",
       "           nctend_TAU    qrtend_TAU  nrtend_TAU    time     Q_mass_in  \\\n",
       "0           -0.010392  4.209077e-12    0.010030   0.000  1.788671e-08   \n",
       "1           -1.244573  1.834037e-50    0.000000   0.000  4.830945e-08   \n",
       "2           -2.422634  6.787607e-48    0.000000   0.000  1.018793e-07   \n",
       "3           -3.244698  5.058680e-46    0.000000   0.000  1.463546e-07   \n",
       "4           -4.060676  6.897868e-45    0.000000   0.000  1.888988e-07   \n",
       "...               ...           ...         ...     ...           ...   \n",
       "21078907  -267.983942  4.486345e-10    0.000066  29.375  6.729487e-05   \n",
       "21078908  -412.784975  1.570057e-09    0.039209  29.375  8.068400e-05   \n",
       "21078909  -523.674317  1.150142e-08    1.345423  29.375  8.837224e-05   \n",
       "21078910 -1776.364389  3.459807e-08    5.436632  29.375  1.367438e-04   \n",
       "21078911 -1781.029188  3.010205e-08   -3.076331  29.375  1.037357e-04   \n",
       "\n",
       "            Q_mass_out   Q_mass_diff      fake  \n",
       "0         1.788671e-08  3.308722e-24  0.653633  \n",
       "1         4.830945e-08  0.000000e+00  0.372784  \n",
       "2         1.018793e-07  0.000000e+00  0.429409  \n",
       "3         1.463546e-07  0.000000e+00  0.440378  \n",
       "4         1.888988e-07  0.000000e+00  0.679189  \n",
       "...                ...           ...       ...  \n",
       "21078907  6.729487e-05 -1.355253e-20  0.506996  \n",
       "21078908  8.068400e-05  0.000000e+00  0.158818  \n",
       "21078909  8.837224e-05  0.000000e+00  0.556063  \n",
       "21078910  1.367438e-04 -2.710505e-20  0.526618  \n",
       "21078911  1.037357e-04  0.000000e+00  0.280916  \n",
       "\n",
       "[21078912 rows x 28 columns]"
      ]
     },
     "execution_count": 10,
     "metadata": {},
     "output_type": "execute_result"
    }
   ],
   "source": [
    "mp_data"
   ]
  },
  {
   "cell_type": "code",
   "execution_count": 14,
   "id": "6c8ea0cc-e922-4c07-a66b-643db232f310",
   "metadata": {},
   "outputs": [],
   "source": [
    "pd.set_option('display.max_columns', None)"
   ]
  },
  {
   "cell_type": "code",
   "execution_count": 15,
   "id": "b527d624-80cf-40b9-86a4-253f47123532",
   "metadata": {},
   "outputs": [
    {
     "data": {
      "text/html": [
       "<div>\n",
       "<style scoped>\n",
       "    .dataframe tbody tr th:only-of-type {\n",
       "        vertical-align: middle;\n",
       "    }\n",
       "\n",
       "    .dataframe tbody tr th {\n",
       "        vertical-align: top;\n",
       "    }\n",
       "\n",
       "    .dataframe thead th {\n",
       "        text-align: right;\n",
       "    }\n",
       "</style>\n",
       "<table border=\"1\" class=\"dataframe\">\n",
       "  <thead>\n",
       "    <tr style=\"text-align: right;\">\n",
       "      <th></th>\n",
       "      <th>lev</th>\n",
       "      <th>lat</th>\n",
       "      <th>lon</th>\n",
       "      <th>trop_cld_lev</th>\n",
       "      <th>depth</th>\n",
       "      <th>row</th>\n",
       "      <th>col</th>\n",
       "      <th>T</th>\n",
       "      <th>RHO_CLUBB</th>\n",
       "      <th>CLOUD</th>\n",
       "      <th>FREQR</th>\n",
       "      <th>QC_TAU_in</th>\n",
       "      <th>NC_TAU_in</th>\n",
       "      <th>QR_TAU_in</th>\n",
       "      <th>NR_TAU_in</th>\n",
       "      <th>QC_TAU_out</th>\n",
       "      <th>NC_TAU_out</th>\n",
       "      <th>QR_TAU_out</th>\n",
       "      <th>NR_TAU_out</th>\n",
       "      <th>qctend_TAU</th>\n",
       "      <th>nctend_TAU</th>\n",
       "      <th>qrtend_TAU</th>\n",
       "      <th>nrtend_TAU</th>\n",
       "      <th>time</th>\n",
       "      <th>Q_mass_in</th>\n",
       "      <th>Q_mass_out</th>\n",
       "      <th>Q_mass_diff</th>\n",
       "      <th>fake</th>\n",
       "    </tr>\n",
       "  </thead>\n",
       "  <tbody>\n",
       "    <tr>\n",
       "      <th>count</th>\n",
       "      <td>2.107891e+07</td>\n",
       "      <td>2.107891e+07</td>\n",
       "      <td>2.107891e+07</td>\n",
       "      <td>2.107891e+07</td>\n",
       "      <td>2.107891e+07</td>\n",
       "      <td>2.107891e+07</td>\n",
       "      <td>2.107891e+07</td>\n",
       "      <td>2.107891e+07</td>\n",
       "      <td>2.107891e+07</td>\n",
       "      <td>2.107891e+07</td>\n",
       "      <td>2.107891e+07</td>\n",
       "      <td>2.107891e+07</td>\n",
       "      <td>2.107891e+07</td>\n",
       "      <td>2.107891e+07</td>\n",
       "      <td>2.107891e+07</td>\n",
       "      <td>2.107891e+07</td>\n",
       "      <td>2.107891e+07</td>\n",
       "      <td>2.107891e+07</td>\n",
       "      <td>2.107891e+07</td>\n",
       "      <td>2.107891e+07</td>\n",
       "      <td>2.107891e+07</td>\n",
       "      <td>2.107891e+07</td>\n",
       "      <td>2.107891e+07</td>\n",
       "      <td>2.107891e+07</td>\n",
       "      <td>2.107891e+07</td>\n",
       "      <td>2.107891e+07</td>\n",
       "      <td>2.107891e+07</td>\n",
       "      <td>2.107891e+07</td>\n",
       "    </tr>\n",
       "    <tr>\n",
       "      <th>mean</th>\n",
       "      <td>3.976264e+02</td>\n",
       "      <td>-4.615390e+00</td>\n",
       "      <td>1.886684e+02</td>\n",
       "      <td>8.489333e+02</td>\n",
       "      <td>1.550000e+01</td>\n",
       "      <td>9.060256e+01</td>\n",
       "      <td>1.509348e+02</td>\n",
       "      <td>2.409912e+02</td>\n",
       "      <td>5.226550e-01</td>\n",
       "      <td>1.672650e-01</td>\n",
       "      <td>5.890578e-02</td>\n",
       "      <td>2.661713e-04</td>\n",
       "      <td>2.015759e+07</td>\n",
       "      <td>6.975218e-04</td>\n",
       "      <td>1.562979e+05</td>\n",
       "      <td>6.998438e-05</td>\n",
       "      <td>1.037970e+07</td>\n",
       "      <td>8.937088e-04</td>\n",
       "      <td>5.696185e+02</td>\n",
       "      <td>-3.269782e-07</td>\n",
       "      <td>-1.629648e+04</td>\n",
       "      <td>3.269782e-07</td>\n",
       "      <td>-2.595471e+02</td>\n",
       "      <td>1.652703e+01</td>\n",
       "      <td>9.636932e-04</td>\n",
       "      <td>9.636932e-04</td>\n",
       "      <td>-3.517697e-22</td>\n",
       "      <td>5.000297e-01</td>\n",
       "    </tr>\n",
       "    <tr>\n",
       "      <th>std</th>\n",
       "      <td>3.590433e+02</td>\n",
       "      <td>4.363965e+01</td>\n",
       "      <td>9.983981e+01</td>\n",
       "      <td>1.439411e+02</td>\n",
       "      <td>9.233093e+00</td>\n",
       "      <td>4.630652e+01</td>\n",
       "      <td>7.987185e+01</td>\n",
       "      <td>3.137141e+01</td>\n",
       "      <td>4.344851e-01</td>\n",
       "      <td>3.468239e-01</td>\n",
       "      <td>2.227087e-01</td>\n",
       "      <td>7.690160e-04</td>\n",
       "      <td>3.342036e+07</td>\n",
       "      <td>2.211841e-03</td>\n",
       "      <td>3.481093e+06</td>\n",
       "      <td>3.386765e-04</td>\n",
       "      <td>2.497805e+07</td>\n",
       "      <td>2.346746e-03</td>\n",
       "      <td>3.307475e+03</td>\n",
       "      <td>1.132147e-06</td>\n",
       "      <td>3.637913e+04</td>\n",
       "      <td>1.132147e-06</td>\n",
       "      <td>5.801426e+03</td>\n",
       "      <td>1.024955e+01</td>\n",
       "      <td>2.354020e-03</td>\n",
       "      <td>2.354020e-03</td>\n",
       "      <td>2.660197e-19</td>\n",
       "      <td>2.887016e-01</td>\n",
       "    </tr>\n",
       "    <tr>\n",
       "      <th>min</th>\n",
       "      <td>3.643466e+00</td>\n",
       "      <td>-8.905759e+01</td>\n",
       "      <td>0.000000e+00</td>\n",
       "      <td>1.215472e+02</td>\n",
       "      <td>0.000000e+00</td>\n",
       "      <td>1.000000e+00</td>\n",
       "      <td>0.000000e+00</td>\n",
       "      <td>1.803552e+02</td>\n",
       "      <td>4.423158e-03</td>\n",
       "      <td>0.000000e+00</td>\n",
       "      <td>0.000000e+00</td>\n",
       "      <td>1.000269e-08</td>\n",
       "      <td>1.188228e+02</td>\n",
       "      <td>0.000000e+00</td>\n",
       "      <td>0.000000e+00</td>\n",
       "      <td>5.842291e-13</td>\n",
       "      <td>6.792362e-03</td>\n",
       "      <td>5.242181e-116</td>\n",
       "      <td>0.000000e+00</td>\n",
       "      <td>-8.332090e-06</td>\n",
       "      <td>-1.536092e+06</td>\n",
       "      <td>0.000000e+00</td>\n",
       "      <td>-6.631109e+05</td>\n",
       "      <td>0.000000e+00</td>\n",
       "      <td>1.000314e-08</td>\n",
       "      <td>1.000314e-08</td>\n",
       "      <td>-3.469447e-18</td>\n",
       "      <td>4.995894e-08</td>\n",
       "    </tr>\n",
       "    <tr>\n",
       "      <th>25%</th>\n",
       "      <td>7.069334e+01</td>\n",
       "      <td>-4.287958e+01</td>\n",
       "      <td>1.087500e+02</td>\n",
       "      <td>8.208584e+02</td>\n",
       "      <td>7.750000e+00</td>\n",
       "      <td>5.000000e+01</td>\n",
       "      <td>8.700000e+01</td>\n",
       "      <td>2.141849e+02</td>\n",
       "      <td>1.104285e-01</td>\n",
       "      <td>0.000000e+00</td>\n",
       "      <td>0.000000e+00</td>\n",
       "      <td>1.319798e-05</td>\n",
       "      <td>2.140698e+06</td>\n",
       "      <td>6.880541e-08</td>\n",
       "      <td>6.536832e+00</td>\n",
       "      <td>6.851904e-07</td>\n",
       "      <td>1.324060e+04</td>\n",
       "      <td>4.106767e-07</td>\n",
       "      <td>2.450950e-01</td>\n",
       "      <td>-1.007592e-07</td>\n",
       "      <td>-1.507116e+04</td>\n",
       "      <td>1.246778e-10</td>\n",
       "      <td>-1.758269e+00</td>\n",
       "      <td>9.791667e+00</td>\n",
       "      <td>3.323861e-05</td>\n",
       "      <td>3.323861e-05</td>\n",
       "      <td>0.000000e+00</td>\n",
       "      <td>2.500008e-01</td>\n",
       "    </tr>\n",
       "    <tr>\n",
       "      <th>50%</th>\n",
       "      <td>2.533697e+02</td>\n",
       "      <td>-8.010471e+00</td>\n",
       "      <td>1.925000e+02</td>\n",
       "      <td>8.870202e+02</td>\n",
       "      <td>1.550000e+01</td>\n",
       "      <td>8.700000e+01</td>\n",
       "      <td>1.540000e+02</td>\n",
       "      <td>2.340671e+02</td>\n",
       "      <td>3.908718e-01</td>\n",
       "      <td>0.000000e+00</td>\n",
       "      <td>0.000000e+00</td>\n",
       "      <td>5.538031e-05</td>\n",
       "      <td>8.696220e+06</td>\n",
       "      <td>7.935668e-06</td>\n",
       "      <td>2.305060e+02</td>\n",
       "      <td>1.574851e-05</td>\n",
       "      <td>7.812205e+05</td>\n",
       "      <td>2.634508e-05</td>\n",
       "      <td>3.554895e+00</td>\n",
       "      <td>-1.015419e-08</td>\n",
       "      <td>-3.257885e+03</td>\n",
       "      <td>1.015419e-08</td>\n",
       "      <td>-2.018961e-01</td>\n",
       "      <td>1.958333e+01</td>\n",
       "      <td>1.117372e-04</td>\n",
       "      <td>1.117372e-04</td>\n",
       "      <td>0.000000e+00</td>\n",
       "      <td>5.000232e-01</td>\n",
       "    </tr>\n",
       "    <tr>\n",
       "      <th>75%</th>\n",
       "      <td>7.777680e+02</td>\n",
       "      <td>2.874346e+01</td>\n",
       "      <td>2.712500e+02</td>\n",
       "      <td>9.361984e+02</td>\n",
       "      <td>2.325000e+01</td>\n",
       "      <td>1.260000e+02</td>\n",
       "      <td>2.170000e+02</td>\n",
       "      <td>2.695180e+02</td>\n",
       "      <td>9.922910e-01</td>\n",
       "      <td>2.797928e-02</td>\n",
       "      <td>0.000000e+00</td>\n",
       "      <td>1.456714e-04</td>\n",
       "      <td>2.583492e+07</td>\n",
       "      <td>1.208585e-04</td>\n",
       "      <td>1.553538e+03</td>\n",
       "      <td>5.807193e-05</td>\n",
       "      <td>1.066294e+07</td>\n",
       "      <td>4.894660e-04</td>\n",
       "      <td>1.366441e+02</td>\n",
       "      <td>-1.246778e-10</td>\n",
       "      <td>-2.776235e+02</td>\n",
       "      <td>1.007592e-07</td>\n",
       "      <td>-5.172622e-04</td>\n",
       "      <td>2.937500e+01</td>\n",
       "      <td>5.578453e-04</td>\n",
       "      <td>5.578453e-04</td>\n",
       "      <td>0.000000e+00</td>\n",
       "      <td>7.501158e-01</td>\n",
       "    </tr>\n",
       "    <tr>\n",
       "      <th>max</th>\n",
       "      <td>9.925561e+02</td>\n",
       "      <td>9.000000e+01</td>\n",
       "      <td>3.587500e+02</td>\n",
       "      <td>9.925561e+02</td>\n",
       "      <td>3.100000e+01</td>\n",
       "      <td>1.910000e+02</td>\n",
       "      <td>2.870000e+02</td>\n",
       "      <td>3.130253e+02</td>\n",
       "      <td>1.620833e+00</td>\n",
       "      <td>1.000000e+00</td>\n",
       "      <td>1.000000e+00</td>\n",
       "      <td>5.000000e-03</td>\n",
       "      <td>9.926130e+08</td>\n",
       "      <td>1.000000e-02</td>\n",
       "      <td>3.978874e+08</td>\n",
       "      <td>5.000000e-03</td>\n",
       "      <td>9.378352e+08</td>\n",
       "      <td>1.499925e-02</td>\n",
       "      <td>5.330467e+05</td>\n",
       "      <td>0.000000e+00</td>\n",
       "      <td>0.000000e+00</td>\n",
       "      <td>8.332090e-06</td>\n",
       "      <td>8.884110e+02</td>\n",
       "      <td>2.937500e+01</td>\n",
       "      <td>1.500000e-02</td>\n",
       "      <td>1.500000e-02</td>\n",
       "      <td>3.469447e-18</td>\n",
       "      <td>1.000000e+00</td>\n",
       "    </tr>\n",
       "  </tbody>\n",
       "</table>\n",
       "</div>"
      ],
      "text/plain": [
       "                lev           lat           lon  trop_cld_lev         depth  \\\n",
       "count  2.107891e+07  2.107891e+07  2.107891e+07  2.107891e+07  2.107891e+07   \n",
       "mean   3.976264e+02 -4.615390e+00  1.886684e+02  8.489333e+02  1.550000e+01   \n",
       "std    3.590433e+02  4.363965e+01  9.983981e+01  1.439411e+02  9.233093e+00   \n",
       "min    3.643466e+00 -8.905759e+01  0.000000e+00  1.215472e+02  0.000000e+00   \n",
       "25%    7.069334e+01 -4.287958e+01  1.087500e+02  8.208584e+02  7.750000e+00   \n",
       "50%    2.533697e+02 -8.010471e+00  1.925000e+02  8.870202e+02  1.550000e+01   \n",
       "75%    7.777680e+02  2.874346e+01  2.712500e+02  9.361984e+02  2.325000e+01   \n",
       "max    9.925561e+02  9.000000e+01  3.587500e+02  9.925561e+02  3.100000e+01   \n",
       "\n",
       "                row           col             T     RHO_CLUBB         CLOUD  \\\n",
       "count  2.107891e+07  2.107891e+07  2.107891e+07  2.107891e+07  2.107891e+07   \n",
       "mean   9.060256e+01  1.509348e+02  2.409912e+02  5.226550e-01  1.672650e-01   \n",
       "std    4.630652e+01  7.987185e+01  3.137141e+01  4.344851e-01  3.468239e-01   \n",
       "min    1.000000e+00  0.000000e+00  1.803552e+02  4.423158e-03  0.000000e+00   \n",
       "25%    5.000000e+01  8.700000e+01  2.141849e+02  1.104285e-01  0.000000e+00   \n",
       "50%    8.700000e+01  1.540000e+02  2.340671e+02  3.908718e-01  0.000000e+00   \n",
       "75%    1.260000e+02  2.170000e+02  2.695180e+02  9.922910e-01  2.797928e-02   \n",
       "max    1.910000e+02  2.870000e+02  3.130253e+02  1.620833e+00  1.000000e+00   \n",
       "\n",
       "              FREQR     QC_TAU_in     NC_TAU_in     QR_TAU_in     NR_TAU_in  \\\n",
       "count  2.107891e+07  2.107891e+07  2.107891e+07  2.107891e+07  2.107891e+07   \n",
       "mean   5.890578e-02  2.661713e-04  2.015759e+07  6.975218e-04  1.562979e+05   \n",
       "std    2.227087e-01  7.690160e-04  3.342036e+07  2.211841e-03  3.481093e+06   \n",
       "min    0.000000e+00  1.000269e-08  1.188228e+02  0.000000e+00  0.000000e+00   \n",
       "25%    0.000000e+00  1.319798e-05  2.140698e+06  6.880541e-08  6.536832e+00   \n",
       "50%    0.000000e+00  5.538031e-05  8.696220e+06  7.935668e-06  2.305060e+02   \n",
       "75%    0.000000e+00  1.456714e-04  2.583492e+07  1.208585e-04  1.553538e+03   \n",
       "max    1.000000e+00  5.000000e-03  9.926130e+08  1.000000e-02  3.978874e+08   \n",
       "\n",
       "         QC_TAU_out    NC_TAU_out     QR_TAU_out    NR_TAU_out    qctend_TAU  \\\n",
       "count  2.107891e+07  2.107891e+07   2.107891e+07  2.107891e+07  2.107891e+07   \n",
       "mean   6.998438e-05  1.037970e+07   8.937088e-04  5.696185e+02 -3.269782e-07   \n",
       "std    3.386765e-04  2.497805e+07   2.346746e-03  3.307475e+03  1.132147e-06   \n",
       "min    5.842291e-13  6.792362e-03  5.242181e-116  0.000000e+00 -8.332090e-06   \n",
       "25%    6.851904e-07  1.324060e+04   4.106767e-07  2.450950e-01 -1.007592e-07   \n",
       "50%    1.574851e-05  7.812205e+05   2.634508e-05  3.554895e+00 -1.015419e-08   \n",
       "75%    5.807193e-05  1.066294e+07   4.894660e-04  1.366441e+02 -1.246778e-10   \n",
       "max    5.000000e-03  9.378352e+08   1.499925e-02  5.330467e+05  0.000000e+00   \n",
       "\n",
       "         nctend_TAU    qrtend_TAU    nrtend_TAU          time     Q_mass_in  \\\n",
       "count  2.107891e+07  2.107891e+07  2.107891e+07  2.107891e+07  2.107891e+07   \n",
       "mean  -1.629648e+04  3.269782e-07 -2.595471e+02  1.652703e+01  9.636932e-04   \n",
       "std    3.637913e+04  1.132147e-06  5.801426e+03  1.024955e+01  2.354020e-03   \n",
       "min   -1.536092e+06  0.000000e+00 -6.631109e+05  0.000000e+00  1.000314e-08   \n",
       "25%   -1.507116e+04  1.246778e-10 -1.758269e+00  9.791667e+00  3.323861e-05   \n",
       "50%   -3.257885e+03  1.015419e-08 -2.018961e-01  1.958333e+01  1.117372e-04   \n",
       "75%   -2.776235e+02  1.007592e-07 -5.172622e-04  2.937500e+01  5.578453e-04   \n",
       "max    0.000000e+00  8.332090e-06  8.884110e+02  2.937500e+01  1.500000e-02   \n",
       "\n",
       "         Q_mass_out   Q_mass_diff          fake  \n",
       "count  2.107891e+07  2.107891e+07  2.107891e+07  \n",
       "mean   9.636932e-04 -3.517697e-22  5.000297e-01  \n",
       "std    2.354020e-03  2.660197e-19  2.887016e-01  \n",
       "min    1.000314e-08 -3.469447e-18  4.995894e-08  \n",
       "25%    3.323861e-05  0.000000e+00  2.500008e-01  \n",
       "50%    1.117372e-04  0.000000e+00  5.000232e-01  \n",
       "75%    5.578453e-04  0.000000e+00  7.501158e-01  \n",
       "max    1.500000e-02  3.469447e-18  1.000000e+00  "
      ]
     },
     "execution_count": 15,
     "metadata": {},
     "output_type": "execute_result"
    }
   ],
   "source": [
    "mp_data.describe()"
   ]
  },
  {
   "cell_type": "code",
   "execution_count": 12,
   "id": "b2b79a05-2dda-4831-bffa-bc5488a24911",
   "metadata": {},
   "outputs": [
    {
     "name": "stdout",
     "output_type": "stream",
     "text": [
      "<class 'pandas.core.frame.DataFrame'>\n",
      "RangeIndex: 21078912 entries, 0 to 21078911\n",
      "Data columns (total 28 columns):\n",
      " #   Column        Dtype  \n",
      "---  ------        -----  \n",
      " 0   lev           float64\n",
      " 1   lat           float64\n",
      " 2   lon           float64\n",
      " 3   trop_cld_lev  float64\n",
      " 4   depth         int64  \n",
      " 5   row           int64  \n",
      " 6   col           int64  \n",
      " 7   T             float64\n",
      " 8   RHO_CLUBB     float64\n",
      " 9   CLOUD         float64\n",
      " 10  FREQR         float64\n",
      " 11  QC_TAU_in     float64\n",
      " 12  NC_TAU_in     float64\n",
      " 13  QR_TAU_in     float64\n",
      " 14  NR_TAU_in     float64\n",
      " 15  QC_TAU_out    float64\n",
      " 16  NC_TAU_out    float64\n",
      " 17  QR_TAU_out    float64\n",
      " 18  NR_TAU_out    float64\n",
      " 19  qctend_TAU    float64\n",
      " 20  nctend_TAU    float64\n",
      " 21  qrtend_TAU    float64\n",
      " 22  nrtend_TAU    float64\n",
      " 23  time          float64\n",
      " 24  Q_mass_in     float64\n",
      " 25  Q_mass_out    float64\n",
      " 26  Q_mass_diff   float64\n",
      " 27  fake          float64\n",
      "dtypes: float64(25), int64(3)\n",
      "memory usage: 4.4 GB\n"
     ]
    }
   ],
   "source": [
    "mp_data.info()"
   ]
  },
  {
   "cell_type": "code",
   "execution_count": 10,
   "id": "a3d4b944-6649-4520-aaee-248a70f4d63f",
   "metadata": {},
   "outputs": [
    {
     "name": "stdout",
     "output_type": "stream",
     "text": [
      "145523168\n",
      "145523168\n"
     ]
    }
   ],
   "source": [
    "idx_1 = ((mp_data[\"Q_mass_diff\"] == 0) & \n",
    "                           (mp_data[\"NC_TAU_out\"] > 0) & \n",
    "                           (mp_data[\"NR_TAU_out\"] > 0) &\n",
    "                           (mp_data[\"QC_TAU_out\"] > 0) &\n",
    "                           (mp_data[\"QR_TAU_out\"] > 0) & \n",
    "                           (mp_data[\"QC_TAU_in\"] >= 1e-6))\n",
    "idx_2 = ((mp_data[\"Q_mass_diff\"] == 0) & (mp_data[\"QC_TAU_out\"] > 0) & \n",
    "         (mp_data[\"NC_TAU_out\"] > 0) & \n",
    "                           (mp_data[\"NR_TAU_out\"] > 0) & (mp_data[\"QR_TAU_out\"] > 0) & (mp_data[\"QC_TAU_in\"] >= 1e-6))\n",
    "print(np.count_nonzero(idx_1))\n",
    "print(np.count_nonzero(idx_2))"
   ]
  },
  {
   "cell_type": "code",
   "execution_count": 11,
   "id": "f56b08ce-7787-4b5a-a18b-dfcc46b09c81",
   "metadata": {
    "collapsed": false,
    "jupyter": {
     "outputs_hidden": false
    },
    "pycharm": {
     "name": "#%%\n"
    }
   },
   "outputs": [],
   "source": [
    "mp_good_data = mp_data.loc[(mp_data[\"Q_mass_diff\"] == 0) & \n",
    "                           (mp_data[\"NC_TAU_out\"] > 0) & \n",
    "                           (mp_data[\"NR_TAU_out\"] > 0) &\n",
    "                           (mp_data[\"QC_TAU_out\"] > 0) &\n",
    "                           (mp_data[\"QR_TAU_out\"] > 0) & \n",
    "                           (mp_data[\"QC_TAU_in\"] >= 1e-6)].reset_index()"
   ]
  },
  {
   "cell_type": "code",
   "execution_count": 13,
   "id": "f8c9769b-3256-4b33-bfdb-5b1353d6e16e",
   "metadata": {
    "collapsed": false,
    "jupyter": {
     "outputs_hidden": false
    },
    "pycharm": {
     "name": "#%%\n"
    }
   },
   "outputs": [],
   "source": [
    "input_cols = [\"QC_TAU_in\", \"QR_TAU_in\", \"NC_TAU_in\", \"NR_TAU_in\"]#, 'RHO_CLUBB_lev', \"precip_frac\", \"lcldm\"]\n",
    "output_cols = [\"QC_TAU_out\", \"QR_TAU_out\", \"NC_TAU_out\", \"NR_TAU_out\"]\n",
    "gss = GroupShuffleSplit(n_splits=1, train_size=0.7)\n",
    "train_idxs, test_idxs = next(gss.split(mp_good_data[input_cols], mp_good_data[output_cols], mp_good_data[\"time\"]))"
   ]
  },
  {
   "cell_type": "code",
   "execution_count": 14,
   "id": "df02701c-fdea-4ebd-8bdb-702f0368f123",
   "metadata": {
    "collapsed": false,
    "jupyter": {
     "outputs_hidden": false
    },
    "pycharm": {
     "name": "#%%\n"
    }
   },
   "outputs": [],
   "source": [
    "train_x = mp_good_data.loc[train_idxs, input_cols]\n",
    "train_y = mp_good_data.loc[train_idxs, output_cols]\n",
    "val_x = mp_good_data.loc[test_idxs, input_cols]\n",
    "val_y = mp_good_data.loc[test_idxs, output_cols]\n",
    "in_scaler = QuantileTransformer(n_quantiles=100)\n",
    "out_scaler = QuantileTransformer(n_quantiles=100)\n",
    "train_x_s = in_scaler.fit_transform(train_x)\n",
    "train_y_s = out_scaler.fit_transform(train_y)\n",
    "val_x_s = in_scaler.transform(val_x)\n",
    "val_y_s = out_scaler.transform(val_y)"
   ]
  },
  {
   "cell_type": "code",
   "execution_count": 15,
   "id": "366f66e1-2285-4eb4-a32d-ba72809b2b12",
   "metadata": {},
   "outputs": [
    {
     "data": {
      "text/plain": [
       "['__annotations__',\n",
       " '__class__',\n",
       " '__delattr__',\n",
       " '__dict__',\n",
       " '__dir__',\n",
       " '__doc__',\n",
       " '__eq__',\n",
       " '__format__',\n",
       " '__ge__',\n",
       " '__getattribute__',\n",
       " '__getstate__',\n",
       " '__gt__',\n",
       " '__hash__',\n",
       " '__init__',\n",
       " '__init_subclass__',\n",
       " '__le__',\n",
       " '__lt__',\n",
       " '__module__',\n",
       " '__ne__',\n",
       " '__new__',\n",
       " '__reduce__',\n",
       " '__reduce_ex__',\n",
       " '__repr__',\n",
       " '__setattr__',\n",
       " '__setstate__',\n",
       " '__sizeof__',\n",
       " '__str__',\n",
       " '__subclasshook__',\n",
       " '__weakref__',\n",
       " '_check_feature_names',\n",
       " '_check_inputs',\n",
       " '_check_n_features',\n",
       " '_dense_fit',\n",
       " '_get_param_names',\n",
       " '_get_tags',\n",
       " '_more_tags',\n",
       " '_parameter_constraints',\n",
       " '_repr_html_',\n",
       " '_repr_html_inner',\n",
       " '_repr_mimebundle_',\n",
       " '_sklearn_auto_wrap_output_keys',\n",
       " '_sparse_fit',\n",
       " '_transform',\n",
       " '_transform_col',\n",
       " '_validate_data',\n",
       " '_validate_params',\n",
       " 'copy',\n",
       " 'feature_names_in_',\n",
       " 'fit',\n",
       " 'fit_transform',\n",
       " 'get_feature_names_out',\n",
       " 'get_params',\n",
       " 'ignore_implicit_zeros',\n",
       " 'inverse_transform',\n",
       " 'n_features_in_',\n",
       " 'n_quantiles',\n",
       " 'n_quantiles_',\n",
       " 'output_distribution',\n",
       " 'quantiles_',\n",
       " 'random_state',\n",
       " 'references_',\n",
       " 'set_output',\n",
       " 'set_params',\n",
       " 'subsample',\n",
       " 'transform']"
      ]
     },
     "execution_count": 15,
     "metadata": {},
     "output_type": "execute_result"
    }
   ],
   "source": [
    "dir(in_scaler)"
   ]
  },
  {
   "cell_type": "code",
   "execution_count": 16,
   "id": "462e0a29-fdc0-498d-8d82-0080f07c500b",
   "metadata": {},
   "outputs": [
    {
     "data": {
      "text/plain": [
       "array([0.        , 0.01010101, 0.02020202, 0.03030303, 0.04040404,\n",
       "       0.05050505, 0.06060606, 0.07070707, 0.08080808, 0.09090909,\n",
       "       0.1010101 , 0.11111111, 0.12121212, 0.13131313, 0.14141414,\n",
       "       0.15151515, 0.16161616, 0.17171717, 0.18181818, 0.19191919,\n",
       "       0.2020202 , 0.21212121, 0.22222222, 0.23232323, 0.24242424,\n",
       "       0.25252525, 0.26262626, 0.27272727, 0.28282828, 0.29292929,\n",
       "       0.3030303 , 0.31313131, 0.32323232, 0.33333333, 0.34343434,\n",
       "       0.35353535, 0.36363636, 0.37373737, 0.38383838, 0.39393939,\n",
       "       0.4040404 , 0.41414141, 0.42424242, 0.43434343, 0.44444444,\n",
       "       0.45454545, 0.46464646, 0.47474747, 0.48484848, 0.49494949,\n",
       "       0.50505051, 0.51515152, 0.52525253, 0.53535354, 0.54545455,\n",
       "       0.55555556, 0.56565657, 0.57575758, 0.58585859, 0.5959596 ,\n",
       "       0.60606061, 0.61616162, 0.62626263, 0.63636364, 0.64646465,\n",
       "       0.65656566, 0.66666667, 0.67676768, 0.68686869, 0.6969697 ,\n",
       "       0.70707071, 0.71717172, 0.72727273, 0.73737374, 0.74747475,\n",
       "       0.75757576, 0.76767677, 0.77777778, 0.78787879, 0.7979798 ,\n",
       "       0.80808081, 0.81818182, 0.82828283, 0.83838384, 0.84848485,\n",
       "       0.85858586, 0.86868687, 0.87878788, 0.88888889, 0.8989899 ,\n",
       "       0.90909091, 0.91919192, 0.92929293, 0.93939394, 0.94949495,\n",
       "       0.95959596, 0.96969697, 0.97979798, 0.98989899, 1.        ])"
      ]
     },
     "execution_count": 16,
     "metadata": {},
     "output_type": "execute_result"
    }
   ],
   "source": [
    "in_scaler.references_"
   ]
  },
  {
   "cell_type": "code",
   "execution_count": 17,
   "id": "8570f3a9-d9cc-4fdf-a0a9-f4b563a1c5a2",
   "metadata": {
    "collapsed": false,
    "jupyter": {
     "outputs_hidden": false
    },
    "pycharm": {
     "name": "#%%\n"
    }
   },
   "outputs": [
    {
     "data": {
      "text/plain": [
       "[<matplotlib.lines.Line2D at 0x2ae7def100a0>]"
      ]
     },
     "execution_count": 17,
     "metadata": {},
     "output_type": "execute_result"
    },
    {
     "data": {
      "image/png": "[encoded data removed]",
      "text/plain": [
       "<Figure size 640x480 with 1 Axes>"
      ]
     },
     "metadata": {},
     "output_type": "display_data"
    }
   ],
   "source": [
    "plt.plot(in_scaler.references_, in_scaler.quantiles_[:, 0])"
   ]
  },
  {
   "cell_type": "code",
   "execution_count": 18,
   "id": "113eecec",
   "metadata": {
    "collapsed": true,
    "jupyter": {
     "outputs_hidden": true
    },
    "pycharm": {
     "name": "#%%\n"
    },
    "tags": []
   },
   "outputs": [
    {
     "data": {
      "text/plain": [
       "[<matplotlib.lines.Line2D at 0x2ae7defd6100>]"
      ]
     },
     "execution_count": 18,
     "metadata": {},
     "output_type": "execute_result"
    },
    {
     "data": {
      "image/png": "[encoded data removed]",
      "text/plain": [
       "<Figure size 640x480 with 1 Axes>"
      ]
     },
     "metadata": {},
     "output_type": "display_data"
    }
   ],
   "source": [
    "plt.plot(in_scaler.quantiles_[:, 0], in_scaler.references_)"
   ]
  },
  {
   "cell_type": "code",
   "execution_count": null,
   "id": "ade03217",
   "metadata": {
    "collapsed": false,
    "jupyter": {
     "outputs_hidden": false
    },
    "pycharm": {
     "name": "#%%\n"
    }
   },
   "outputs": [
    {
     "name": "stderr",
     "output_type": "stream",
     "text": [
      "2023-06-22 10:37:51.793870: E tensorflow/compiler/xla/stream_executor/cuda/cuda_driver.cc:266] failed call to cuInit: CUDA_ERROR_NO_DEVICE: no CUDA-capable device is detected\n"
     ]
    },
    {
     "name": "stdout",
     "output_type": "stream",
     "text": [
      "Model: \"model\"\n",
      "_________________________________________________________________\n",
      " Layer (type)                Output Shape              Param #   \n",
      "=================================================================\n",
      " input (InputLayer)          [(None, 4)]               0         \n",
      "                                                                 \n",
      " dense_00 (Dense)            (None, 256)               1280      \n",
      "                                                                 \n",
      " hidden_activation_00 (Activ  (None, 256)              0         \n",
      " ation)                                                          \n",
      "                                                                 \n",
      " dense_01 (Dense)            (None, 256)               65792     \n",
      "                                                                 \n",
      " hidden_activation_01 (Activ  (None, 256)              0         \n",
      " ation)                                                          \n",
      "                                                                 \n",
      " dense_02 (Dense)            (None, 256)               65792     \n",
      "                                                                 \n",
      " hidden_activation_02 (Activ  (None, 256)              0         \n",
      " ation)                                                          \n",
      "                                                                 \n",
      " dense_03 (Dense)            (None, 4)                 1028      \n",
      "                                                                 \n",
      "=================================================================\n",
      "Total params: 133,892\n",
      "Trainable params: 133,892\n",
      "Non-trainable params: 0\n",
      "_________________________________________________________________\n",
      "Epoch 1/50\n",
      "97514/97514 [==============================] - 1269s 13ms/step - loss: 0.0080 - val_loss: 0.0063\n",
      "Epoch 2/50\n",
      "97514/97514 [==============================] - 1291s 13ms/step - loss: 0.0061 - val_loss: 0.0058\n",
      "Epoch 3/50\n",
      "97514/97514 [==============================] - 1290s 13ms/step - loss: 0.0058 - val_loss: 0.0056\n",
      "Epoch 4/50\n",
      "97514/97514 [==============================] - 1306s 13ms/step - loss: 0.0057 - val_loss: 0.0055\n",
      "Epoch 5/50\n",
      " 5936/97514 [>.............................] - ETA: 18:04 - loss: 0.0057"
     ]
    }
   ],
   "source": [
    "dnn = DenseNeuralNetwork(hidden_layers=3, hidden_neurons=256, activation=\"gelu\", l2_weight=0, verbose=1, \n",
    "                         batch_size=1024, epochs=20, lr=0.0001)\n",
    "losses = dnn.fit(train_x_s, train_y_s, xv=val_x_s, yv=val_y_s)"
   ]
  },
  {
   "cell_type": "code",
   "execution_count": null,
   "id": "749f78ba",
   "metadata": {
    "collapsed": false,
    "jupyter": {
     "outputs_hidden": false
    },
    "pycharm": {
     "name": "#%%\n"
    }
   },
   "outputs": [],
   "source": [
    "dnn_preds = dnn.model.predict(val_x_s, batch_size=36000)"
   ]
  },
  {
   "cell_type": "code",
   "execution_count": null,
   "id": "05bdd794",
   "metadata": {
    "collapsed": false,
    "jupyter": {
     "outputs_hidden": false
    },
    "pycharm": {
     "name": "#%%\n"
    }
   },
   "outputs": [],
   "source": [
    "y_pred_val = out_scaler.inverse_transform(dnn_preds)"
   ]
  },
  {
   "cell_type": "code",
   "execution_count": null,
   "id": "96c9b0c6",
   "metadata": {
    "collapsed": false,
    "jupyter": {
     "outputs_hidden": false
    },
    "pycharm": {
     "name": "#%%\n"
    }
   },
   "outputs": [],
   "source": [
    "pred_mass = y_pred_val[:, 0] + y_pred_val[:, 1]"
   ]
  },
  {
   "cell_type": "code",
   "execution_count": null,
   "id": "c5b3551a",
   "metadata": {
    "collapsed": false,
    "jupyter": {
     "outputs_hidden": false
    },
    "pycharm": {
     "name": "#%%\n"
    }
   },
   "outputs": [],
   "source": [
    "plt.hist(mp_good_data.loc[test_idxs][\"Q_mass_in\"] - pred_mass, bins=100)\n",
    "plt.gca().set_yscale(\"log\")"
   ]
  },
  {
   "cell_type": "code",
   "execution_count": null,
   "id": "836e67a8",
   "metadata": {
    "collapsed": false,
    "jupyter": {
     "outputs_hidden": false
    },
    "pycharm": {
     "name": "#%%\n"
    }
   },
   "outputs": [],
   "source": [
    "plt.figure(figsize=(10, 10))\n",
    "for i in range(4):\n",
    "    plt.subplot(2, 2, i+1)\n",
    "    plt.hist(np.log10(y_pred_val[:, i]), np.arange(-20, 10, 0.5), label=\"Emulator\")\n",
    "    plt.hist(np.log10(val_y.values[:, i]), np.arange(-20, 10, 0.5), histtype=\"step\", label=\"TAU\")\n",
    "    plt.gca().set_yscale(\"log\")\n",
    "    plt.xlabel(input_cols[i].split(\"_\")[0])\n",
    "    plt.ylabel(\"Frequency\")\n",
    "    plt.legend()\n",
    "plt.savefig(\"mp_nn_hist.png\", dpi=300, bbox_inches=\"tight\", facecolor=\"w\")"
   ]
  },
  {
   "cell_type": "code",
   "execution_count": null,
   "id": "353668b3",
   "metadata": {
    "collapsed": false,
    "jupyter": {
     "outputs_hidden": false
    },
    "pycharm": {
     "name": "#%%\n"
    }
   },
   "outputs": [],
   "source": [
    "plt.figure(figsize=(11, 10))\n",
    "for i in range(4):\n",
    "    plt.subplot(2, 2, i+1)\n",
    "    plt.hist2d(np.log10(y_pred_val[:, i]), np.log10(val_y.values[:, i]), \n",
    "                bins=100, cmin=1, norm=LogNorm())\n",
    "    plt.title(input_cols[i].split(\"_\")[0])\n",
    "    plt.colorbar(label=\"Frequency\")\n",
    "    if i > 1:\n",
    "        plt.xlabel(\"Emulator\")\n",
    "    if i % 2 == 0:\n",
    "        plt.ylabel(\"Output\")\n",
    "plt.savefig(\"mp_nn_2dhist.png\", dpi=300, bbox_inches=\"tight\", facecolor=\"w\")"
   ]
  },
  {
   "cell_type": "code",
   "execution_count": null,
   "id": "e76f1c82",
   "metadata": {
    "collapsed": false,
    "jupyter": {
     "outputs_hidden": false
    },
    "pycharm": {
     "name": "#%%\n"
    }
   },
   "outputs": [],
   "source": [
    "out_tend_cols = [\"qctend_TAU\", \"qrtend_TAU\", \"nctend_TAU\", \"nrtend_TAU\"]\n",
    "plt.figure(figsize=(10, 10))\n",
    "for i in range(4):\n",
    "    plt.subplot(2, 2, i+1)\n",
    "    if i % 2 == 0:\n",
    "        plt.hist2d(np.log10(np.maximum(val_x.iloc[:, i], 1e-25)), \n",
    "                   np.log10(np.maximum(-mp_good_data.loc[test_idxs, out_tend_cols[i]], 1e-30)), \n",
    "                        bins=100, cmin=1, norm=LogNorm())\n",
    "    elif i == 1:\n",
    "        plt.hist2d(np.log10(np.maximum(val_x.iloc[:, i], 1e-25)), \n",
    "                   np.log10(np.maximum(mp_good_data.loc[test_idxs, out_tend_cols[i]], 1e-18)), \n",
    "                        bins=100, cmin=1, norm=LogNorm())\n",
    "    elif i == 3:\n",
    "        plt.hist2d(np.log10(np.maximum(val_x.iloc[:, i], 1e-25)), mp_good_data.loc[test_idxs, out_tend_cols[i]], \n",
    "                        bins=100, cmin=1, norm=LogNorm())\n",
    "    plt.title(input_cols[i])\n",
    "    if i > 1:\n",
    "        plt.xlabel(\"Input\")\n",
    "    if i % 2 == 0:\n",
    "        plt.ylabel(\"Output Tendency\")\n",
    "plt.savefig(\"mp_nn_tend_2dhist.png\", dpi=300, bbox_inches=\"tight\", facecolor=\"w\")"
   ]
  },
  {
   "cell_type": "code",
   "execution_count": null,
   "id": "a4200417",
   "metadata": {
    "collapsed": false,
    "jupyter": {
     "outputs_hidden": false
    },
    "pycharm": {
     "name": "#%%\n"
    }
   },
   "outputs": [],
   "source": [
    "out_tend_cols = [\"qctend_TAU_v2\", \"qrtend_TAU_v2\", \"nctend_TAU_v2\", \"nrtend_TAU_v2\"]\n",
    "plt.figure(figsize=(10, 10))\n",
    "for i in range(4):\n",
    "    plt.subplot(2, 2, i+1)\n",
    "    if i % 2 == 0:\n",
    "        plt.hist2d(np.log10(np.maximum(val_x.iloc[:, 0], 1e-25)), \n",
    "                   np.log10(np.maximum(-mp_good_data.loc[test_idxs, out_tend_cols[i]], 1e-30)), \n",
    "                        bins=100, cmin=1, norm=LogNorm())\n",
    "    elif i == 1:\n",
    "        plt.hist2d(np.log10(np.maximum(val_x.iloc[:, 0], 1e-25)), \n",
    "                   np.log10(np.maximum(mp_good_data.loc[test_idxs, out_tend_cols[i]], 1e-18)), \n",
    "                        bins=100, cmin=1, norm=LogNorm())\n",
    "    elif i == 3:\n",
    "        plt.hist2d(np.log10(np.maximum(val_x.iloc[:, 0], 1e-25)), mp_good_data.loc[test_idxs, out_tend_cols[i]], \n",
    "                        bins=100, cmin=1, norm=LogNorm())\n",
    "    plt.title(input_cols[i])\n",
    "    if i > 1:\n",
    "        plt.xlabel(\"QC Input\")\n",
    "    if i % 2 == 0:\n",
    "        plt.ylabel(\"Output Tendency\")\n",
    "plt.savefig(\"mp_nn_qc_tend_2dhist.png\", dpi=300, bbox_inches=\"tight\", facecolor=\"w\")"
   ]
  },
  {
   "cell_type": "code",
   "execution_count": null,
   "id": "33f918e0",
   "metadata": {
    "collapsed": false,
    "jupyter": {
     "outputs_hidden": false
    },
    "pycharm": {
     "name": "#%%\n"
    }
   },
   "outputs": [],
   "source": []
  },
  {
   "cell_type": "code",
   "execution_count": null,
   "id": "bd9b7d58",
   "metadata": {
    "collapsed": false,
    "jupyter": {
     "outputs_hidden": false
    },
    "pycharm": {
     "name": "#%%\n"
    }
   },
   "outputs": [],
   "source": [
    "plt.figure(figsize=(10, 10))\n",
    "for i in range(4):\n",
    "    plt.subplot(2, 2, i+1)\n",
    "    plt.hist2d(np.log10(np.maximum(val_x.iloc[:, i], 1e-25)), np.log10(val_y.values[:, i]), \n",
    "                bins=100, cmin=1, norm=LogNorm())\n",
    "    plt.title(input_cols[i])\n",
    "    if i > 1:\n",
    "        plt.xlabel(\"Input\")\n",
    "    if i % 2 == 0:\n",
    "        plt.ylabel(\"Output\")\n",
    "plt.savefig(\"mp_tau_out_2dhist.png\", dpi=300, bbox_inches=\"tight\", facecolor=\"w\")"
   ]
  },
  {
   "cell_type": "code",
   "execution_count": null,
   "id": "71916aec",
   "metadata": {
    "collapsed": false,
    "jupyter": {
     "outputs_hidden": false
    },
    "pycharm": {
     "name": "#%%\n"
    }
   },
   "outputs": [],
   "source": [
    "plt.figure(figsize=(10, 10))\n",
    "for i in range(4):\n",
    "    plt.subplot(2, 2, i+1)\n",
    "    plt.hist2d(np.log10(np.maximum(val_x.iloc[:, 0], 1e-25)), np.log10(val_y.values[:, i]), \n",
    "                bins=100, cmin=1, norm=LogNorm())\n",
    "    plt.title(input_cols[i])\n",
    "    if i > 1:\n",
    "        plt.xlabel(\"QC Input\")\n",
    "    if i % 2 == 0:\n",
    "        plt.ylabel(\"Output\")\n",
    "plt.savefig(\"mp_tau_qc_out_2dhist.png\", dpi=300, bbox_inches=\"tight\", facecolor=\"w\")"
   ]
  },
  {
   "cell_type": "code",
   "execution_count": null,
   "id": "2f4148b4",
   "metadata": {
    "collapsed": false,
    "jupyter": {
     "outputs_hidden": false
    },
    "pycharm": {
     "name": "#%%\n"
    }
   },
   "outputs": [],
   "source": [
    "plt.figure(figsize=(10, 10))\n",
    "for i in range(4):\n",
    "    plt.subplot(2, 2, i+1)\n",
    "    plt.hist2d(np.log10(val_y.values[:, 0]), np.log10(val_y.values[:, i]), \n",
    "                bins=100, cmin=1, norm=LogNorm())\n",
    "    plt.title(input_cols[i])\n",
    "    if i > 1:\n",
    "        plt.xlabel(\"QC Input\")\n",
    "    if i % 2 == 0:\n",
    "        plt.ylabel(\"Output\")\n",
    "plt.savefig(\"mp_tau_qc_out_all_out_2dhist.png\", dpi=300, bbox_inches=\"tight\", facecolor=\"w\")"
   ]
  },
  {
   "cell_type": "code",
   "execution_count": null,
   "id": "4bbda8a4",
   "metadata": {
    "collapsed": false,
    "jupyter": {
     "outputs_hidden": false
    },
    "pycharm": {
     "name": "#%%\n"
    }
   },
   "outputs": [],
   "source": [
    "val_x"
   ]
  },
  {
   "cell_type": "code",
   "execution_count": null,
   "id": "b7b1ac6f",
   "metadata": {
    "collapsed": false,
    "jupyter": {
     "outputs_hidden": false
    },
    "pycharm": {
     "name": "#%%\n"
    }
   },
   "outputs": [],
   "source": []
  },
  {
   "cell_type": "code",
   "execution_count": null,
   "id": "f84e16fa",
   "metadata": {
    "collapsed": false,
    "jupyter": {
     "outputs_hidden": false
    },
    "pycharm": {
     "name": "#%%\n"
    }
   },
   "outputs": [],
   "source": [
    "train_y.max()"
   ]
  },
  {
   "cell_type": "code",
   "execution_count": null,
   "id": "7efdc3a7",
   "metadata": {
    "collapsed": false,
    "jupyter": {
     "outputs_hidden": false
    },
    "pycharm": {
     "name": "#%%\n"
    }
   },
   "outputs": [],
   "source": [
    "qc_bins = np.arange(-18, -2)\n",
    "qr_bins = np.arange(-25, -2)\n",
    "mass_flag = mp_data[\"Q_mass_out\"] != mp_data[\"Q_mass_in\"]\n",
    "h_all = np.histogram2d(np.log10(mp_data[\"QC_TAU_in_v2\"]), \n",
    "                       np.log10(mp_data[\"QR_TAU_in_v2\"]), \n",
    "                       bins=(qc_bins, qr_bins))\n",
    "h_neg = np.histogram2d(np.log10(mp_data.loc[mass_flag, \"QC_TAU_in_v2\"]), \n",
    "                       np.log10(mp_data.loc[mass_flag, \"QR_TAU_in_v2\"]),\n",
    "                      bins=(qc_bins, qr_bins))\n",
    "bad_mass_prob = h_neg[0] / h_all[0]\n",
    "bad_mass_prob = np.ma.array(bad_mass_prob, mask=bad_mass_prob<=0)\n",
    "plt.pcolormesh(qc_bins[:-1], qr_bins[:-1], bad_mass_prob.T)\n",
    "plt.colorbar()\n",
    "plt.xlabel(\"QC in\")\n",
    "plt.ylabel(\"QR in\")\n",
    "plt.title(\"Probability of Mass Conservation Breaking\")\n",
    "plt.savefig(\"mass_cons_break.png\", dpi=200, bbox_inches=\"tight\")"
   ]
  },
  {
   "cell_type": "code",
   "execution_count": null,
   "id": "52b2069d",
   "metadata": {
    "collapsed": false,
    "jupyter": {
     "outputs_hidden": false
    },
    "pycharm": {
     "name": "#%%\n"
    }
   },
   "outputs": [],
   "source": [
    "print(np.abs(mp_data[\"qctend_MG2_v2\"] + mp_data[\"qrtend_MG2_v2\"]).max())\n",
    "print(np.abs(mp_data[\"qctend_TAU_v2\"] + mp_data[\"qrtend_TAU_v2\"]).max())"
   ]
  },
  {
   "cell_type": "code",
   "execution_count": null,
   "id": "3a89491b",
   "metadata": {
    "collapsed": false,
    "jupyter": {
     "outputs_hidden": false
    },
    "pycharm": {
     "name": "#%%\n"
    }
   },
   "outputs": [],
   "source": [
    "print(np.abs(mp_data[\"Q_mass_in\"] - mp_data[\"Q_mass_out\"]).max())"
   ]
  },
  {
   "cell_type": "code",
   "execution_count": null,
   "id": "034eb640",
   "metadata": {
    "collapsed": false,
    "jupyter": {
     "outputs_hidden": false
    },
    "pycharm": {
     "name": "#%%\n"
    }
   },
   "outputs": [],
   "source": [
    "np.count_nonzero(np.abs(mp_data[\"Q_mass_in\"] - mp_data[\"Q_mass_out\"])) / mp_data.shape[0]"
   ]
  },
  {
   "cell_type": "code",
   "execution_count": null,
   "id": "4eb1123b",
   "metadata": {
    "collapsed": false,
    "jupyter": {
     "outputs_hidden": false
    },
    "pycharm": {
     "name": "#%%\n"
    }
   },
   "outputs": [],
   "source": [
    "plt.hist(mp_data[\"Q_mass_in\"] - mp_data[\"Q_mass_out\"], bins=20)\n",
    "plt.gca().set_yscale(\"log\")\n",
    "plt.xlabel(\"Q mass in - Q mass out\")\n",
    "plt.ylabel(\"Frequency\")\n",
    "plt.savefig(\"qmdiff.png\", dpi=200, bbox_inches=\"tight\")"
   ]
  },
  {
   "cell_type": "code",
   "execution_count": null,
   "id": "178d2cbc",
   "metadata": {
    "collapsed": false,
    "jupyter": {
     "outputs_hidden": false
    },
    "pycharm": {
     "name": "#%%\n"
    }
   },
   "outputs": [],
   "source": [
    "qc_bins = np.arange(-18, -2)\n",
    "qr_bins = np.arange(-25, -2)\n",
    "mass_flag = mp_data[\"QR_TAU_out_v2\"] < 0\n",
    "h_all = np.histogram2d(np.log10(mp_data[\"QC_TAU_in_v2\"]), \n",
    "                       np.log10(mp_data[\"QR_TAU_in_v2\"]), \n",
    "                       bins=(qc_bins, qr_bins))\n",
    "h_neg = np.histogram2d(np.log10(mp_data.loc[mass_flag, \"QC_TAU_in_v2\"]), \n",
    "                       np.log10(mp_data.loc[mass_flag, \"QR_TAU_in_v2\"]),\n",
    "                      bins=(qc_bins, qr_bins))\n",
    "bad_mass_prob = h_neg[0] / h_all[0]\n",
    "bad_mass_prob = np.ma.array(bad_mass_prob, mask=bad_mass_prob<=0)\n",
    "plt.pcolormesh(qc_bins[:-1], qr_bins[:-1], bad_mass_prob.T)\n",
    "plt.colorbar()\n",
    "plt.xlabel(\"QC in\")\n",
    "plt.ylabel(\"QR in\")\n",
    "plt.title(\"Probability of Negative QR Out\")\n",
    "plt.savefig(\"prob_neg_qr.png\", dpi=200, bbox_inches=\"tight\")"
   ]
  },
  {
   "cell_type": "code",
   "execution_count": null,
   "id": "642298b5",
   "metadata": {
    "collapsed": false,
    "jupyter": {
     "outputs_hidden": false
    },
    "pycharm": {
     "name": "#%%\n"
    }
   },
   "outputs": [],
   "source": [
    "qc_bins = np.arange(-18, -2)\n",
    "qr_bins = np.arange(-25, -2)\n",
    "mass_flag = mp_data[\"QC_TAU_out_v2\"] < 0\n",
    "h_all = np.histogram2d(np.log10(mp_data[\"QC_TAU_in_v2\"]), \n",
    "                       np.log10(mp_data[\"QR_TAU_in_v2\"]), \n",
    "                       bins=(qc_bins, qr_bins))\n",
    "h_neg = np.histogram2d(np.log10(mp_data.loc[mass_flag, \"QC_TAU_in_v2\"]), \n",
    "                       np.log10(mp_data.loc[mass_flag, \"QR_TAU_in_v2\"]),\n",
    "                      bins=(qc_bins, qr_bins))\n",
    "bad_mass_prob = h_neg[0] / h_all[0]\n",
    "bad_mass_prob = np.ma.array(bad_mass_prob, mask=bad_mass_prob<=0)\n",
    "plt.pcolormesh(qc_bins[:-1], qr_bins[:-1], bad_mass_prob.T)\n",
    "plt.colorbar()\n",
    "plt.xlabel(\"QC in\")\n",
    "plt.ylabel(\"QR in\")\n",
    "plt.title(\"Probability of Negative QC Out\")\n",
    "plt.savefig(\"prob_neg_qc.png\", dpi=200, bbox_inches=\"tight\")"
   ]
  },
  {
   "cell_type": "code",
   "execution_count": null,
   "id": "a7b36dcc",
   "metadata": {
    "collapsed": false,
    "jupyter": {
     "outputs_hidden": false
    },
    "pycharm": {
     "name": "#%%\n"
    }
   },
   "outputs": [],
   "source": [
    "plt.pcolormesh(qr_bins[:-1], qc_bins[:-1], np.ma.array(h_all[0], mask=h_all[0]==0))\n",
    "plt.colorbar()"
   ]
  },
  {
   "cell_type": "code",
   "execution_count": null,
   "id": "9283a7cb",
   "metadata": {
    "collapsed": false,
    "jupyter": {
     "outputs_hidden": false
    },
    "pycharm": {
     "name": "#%%\n"
    }
   },
   "outputs": [],
   "source": [
    "mp_data[[\"QC_TAU_out_v2\", \"QR_TAU_out_v2\"]].describe()"
   ]
  },
  {
   "cell_type": "code",
   "execution_count": null,
   "id": "24dd5668",
   "metadata": {
    "collapsed": false,
    "jupyter": {
     "outputs_hidden": false
    },
    "pycharm": {
     "name": "#%%\n"
    }
   },
   "outputs": [],
   "source": [
    "plt.hist(np.log10(mp_data[\"QC_TAU_out_v2\"][mp_data[\"QR_TAU_out_v2\"] < 0]), bins=100)\n",
    "plt.gca().set_yscale(\"log\")\n",
    "plt.xlabel(\"log10(Negative QR) out\")\n",
    "plt.ylabel(\"Frequency\")"
   ]
  },
  {
   "cell_type": "code",
   "execution_count": null,
   "id": "bf3297c6",
   "metadata": {
    "collapsed": false,
    "jupyter": {
     "outputs_hidden": false
    },
    "pycharm": {
     "name": "#%%\n"
    }
   },
   "outputs": [],
   "source": [
    "np.log10(-mp_data[\"QR_TAU_out_v2\"][mp_data[\"QR_TAU_out_v2\"] < 0]).min()"
   ]
  },
  {
   "cell_type": "code",
   "execution_count": null,
   "id": "38a82178",
   "metadata": {
    "collapsed": false,
    "jupyter": {
     "outputs_hidden": false
    },
    "pycharm": {
     "name": "#%%\n"
    }
   },
   "outputs": [],
   "source": [
    "np.log10(mp_data[\"QR_TAU_out_v2\"][mp_data[\"QR_TAU_out_v2\"] > 0]).min()"
   ]
  },
  {
   "cell_type": "code",
   "execution_count": null,
   "id": "b9b9d296",
   "metadata": {
    "collapsed": false,
    "jupyter": {
     "outputs_hidden": false
    },
    "pycharm": {
     "name": "#%%\n"
    }
   },
   "outputs": [],
   "source": [
    "plt.hist(np.log10(mp_data[\"QR_TAU_out_v2\"][mp_data[\"QR_TAU_out_v2\"] > 0]), bins=100)\n",
    "plt.gca().set_yscale(\"log\")"
   ]
  },
  {
   "cell_type": "code",
   "execution_count": null,
   "id": "b45ccec4",
   "metadata": {
    "collapsed": false,
    "jupyter": {
     "outputs_hidden": false
    },
    "pycharm": {
     "name": "#%%\n"
    }
   },
   "outputs": [],
   "source": [
    "plt.hist(np.log10(mp_data[\"QC_TAU_out_v2\"][mp_data[\"QC_TAU_out_v2\"] > 0]), bins=100)\n",
    "plt.gca().set_yscale(\"log\")"
   ]
  },
  {
   "cell_type": "code",
   "execution_count": null,
   "id": "692d7fa7",
   "metadata": {
    "collapsed": false,
    "jupyter": {
     "outputs_hidden": false
    },
    "pycharm": {
     "name": "#%%\n"
    }
   },
   "outputs": [],
   "source": [
    "plt.hist(np.log10(-mp_data[\"QC_TAU_out_v2\"][mp_data[\"QC_TAU_out_v2\"] < 0]), bins=100)\n",
    "plt.gca().set_yscale(\"log\")"
   ]
  },
  {
   "cell_type": "code",
   "execution_count": null,
   "id": "33ff389e",
   "metadata": {
    "collapsed": false,
    "jupyter": {
     "outputs_hidden": false
    },
    "pycharm": {
     "name": "#%%\n"
    }
   },
   "outputs": [],
   "source": [
    "plt.hist(np.log10(mp_data[\"QC_TAU_in_v2\"][mp_data[\"QC_TAU_in_v2\"] > 0]), bins=100)\n",
    "plt.gca().set_yscale(\"log\")"
   ]
  },
  {
   "cell_type": "code",
   "execution_count": null,
   "id": "acd0456e",
   "metadata": {
    "collapsed": false,
    "jupyter": {
     "outputs_hidden": false
    },
    "pycharm": {
     "name": "#%%\n"
    }
   },
   "outputs": [],
   "source": [
    "plt.scatter(mp_data[\"QC_TAU_out_v2\"], mp_data[\"QR_TAU_out_v2\"], 2, mp_data[\"QC_TAU_in_v2\"])"
   ]
  },
  {
   "cell_type": "code",
   "execution_count": null,
   "id": "e8bd1b5c",
   "metadata": {
    "collapsed": false,
    "jupyter": {
     "outputs_hidden": false
    },
    "pycharm": {
     "name": "#%%\n"
    }
   },
   "outputs": [],
   "source": [
    "mp_data[\"nctend_TAU_v2\"].hist(bins=20)\n",
    "plt.gca().set_yscale(\"log\")"
   ]
  },
  {
   "cell_type": "code",
   "execution_count": null,
   "id": "74e69c36",
   "metadata": {
    "collapsed": false,
    "jupyter": {
     "outputs_hidden": false
    },
    "pycharm": {
     "name": "#%%\n"
    }
   },
   "outputs": [],
   "source": [
    "mp_data[\"nrtend_TAU_v2\"].hist(bins=20)\n",
    "plt.gca().set_yscale(\"log\")"
   ]
  },
  {
   "cell_type": "code",
   "execution_count": null,
   "id": "a8e7698f",
   "metadata": {
    "collapsed": false,
    "jupyter": {
     "outputs_hidden": false
    },
    "pycharm": {
     "name": "#%%\n"
    }
   },
   "outputs": [],
   "source": [
    "mp_data[\"qrtend_TAU_v2\"].hist(bins=20)\n",
    "plt.gca().set_yscale(\"log\")"
   ]
  },
  {
   "cell_type": "code",
   "execution_count": null,
   "id": "0faf73a8",
   "metadata": {
    "collapsed": false,
    "jupyter": {
     "outputs_hidden": false
    },
    "pycharm": {
     "name": "#%%\n"
    }
   },
   "outputs": [],
   "source": [
    "mp_data[\"qctend_TAU_v2\"].hist(bins=20)\n",
    "plt.gca().set_yscale(\"log\")"
   ]
  },
  {
   "cell_type": "code",
   "execution_count": null,
   "id": "7a3100c4",
   "metadata": {
    "collapsed": false,
    "jupyter": {
     "outputs_hidden": false
    },
    "pycharm": {
     "name": "#%%\n"
    }
   },
   "outputs": [],
   "source": [
    "np.count_nonzero(mp_data[\"qctend_TAU_v2\"] > 0)"
   ]
  },
  {
   "cell_type": "code",
   "execution_count": null,
   "id": "aeb630a8",
   "metadata": {
    "collapsed": false,
    "jupyter": {
     "outputs_hidden": false
    },
    "pycharm": {
     "name": "#%%\n"
    }
   },
   "outputs": [],
   "source": [
    "good_indices = (mp_data[\"qctend_TAU_v2\"] <= 0) & (mp_data[\"qrtend_TAU_v2\"] >= 0) & (np.abs(mp_data[\"Q_mass_in\"] - mp_data[\"Q_mass_out\"]) == 0)\n",
    "np.count_nonzero(good_indices)"
   ]
  },
  {
   "cell_type": "code",
   "execution_count": null,
   "id": "3e67a53e",
   "metadata": {
    "collapsed": false,
    "jupyter": {
     "outputs_hidden": false
    },
    "pycharm": {
     "name": "#%%\n"
    }
   },
   "outputs": [],
   "source": []
  },
  {
   "cell_type": "code",
   "execution_count": null,
   "id": "bd6c94e7",
   "metadata": {
    "collapsed": false,
    "jupyter": {
     "outputs_hidden": false
    },
    "pycharm": {
     "name": "#%%\n"
    }
   },
   "outputs": [],
   "source": [
    "np.count_nonzero(np.abs(mp_data[\"Q_mass_in\"] - mp_data[\"Q_mass_out\"]) == 0)"
   ]
  },
  {
   "cell_type": "code",
   "execution_count": null,
   "id": "e32bbc28",
   "metadata": {
    "collapsed": false,
    "jupyter": {
     "outputs_hidden": false
    },
    "pycharm": {
     "name": "#%%\n"
    }
   },
   "outputs": [],
   "source": [
    "mp_data[\"qrtend_TAU_v2\"].shape"
   ]
  },
  {
   "cell_type": "code",
   "execution_count": null,
   "id": "b4ac2bd8",
   "metadata": {
    "collapsed": false,
    "jupyter": {
     "outputs_hidden": false
    },
    "pycharm": {
     "name": "#%%\n"
    }
   },
   "outputs": [],
   "source": [
    "fig = go.Figure(data=go.Scattergl(x=mp_data[\"QC_TAU_out_v2\"], \n",
    "                                  y=mp_data[\"QR_TAU_out_v2\"],\n",
    "                                  mode=\"markers\",\n",
    "                                  marker=dict(color=mp_data[\"QC_TAU_in_v2\"],\n",
    "                                             colorscale=\"Viridis\",\n",
    "                                             line_width=1)\n",
    "                                 )\n",
    "                 )\n",
    "fig.write_html(\"mass_scatter.html\")"
   ]
  },
  {
   "cell_type": "code",
   "execution_count": null,
   "id": "30e4dfcd",
   "metadata": {
    "collapsed": false,
    "jupyter": {
     "outputs_hidden": false
    },
    "pycharm": {
     "name": "#%%\n"
    }
   },
   "outputs": [],
   "source": [
    "import plotly.graph_objects as go\n",
    "import numpy as np\n",
    "\n",
    "fig = go.Figure(data=go.Scatter(\n",
    "    y = np.random.randn(500),\n",
    "    mode='markers',\n",
    "    marker=dict(\n",
    "        size=16,\n",
    "        color=np.random.randn(500), #set color equal to a variable\n",
    "        colorscale='Viridis', # one of plotly colorscales\n",
    "        showscale=True\n",
    "    )\n",
    "))\n",
    "\n",
    "fig.show()\n",
    "fig.write_html(\"test.html\")"
   ]
  },
  {
   "cell_type": "code",
   "execution_count": null,
   "id": "756893af",
   "metadata": {
    "collapsed": false,
    "jupyter": {
     "outputs_hidden": false
    },
    "pycharm": {
     "name": "#%%\n"
    }
   },
   "outputs": [],
   "source": [
    "(mp_data[\"Q_mass_in\"] - mp_data[\"Q_mass_out\"]).min()"
   ]
  },
  {
   "cell_type": "code",
   "execution_count": null,
   "id": "a2054222",
   "metadata": {
    "collapsed": false,
    "jupyter": {
     "outputs_hidden": false
    },
    "pycharm": {
     "name": "#%%\n"
    }
   },
   "outputs": [],
   "source": [
    "np.count_nonzero((mp_data[\"Q_mass_in\"] - mp_data[\"Q_mass_out\"]) == 0) / mp_data.shape[0]"
   ]
  },
  {
   "cell_type": "code",
   "execution_count": null,
   "id": "1d9fb564",
   "metadata": {
    "collapsed": false,
    "jupyter": {
     "outputs_hidden": false
    },
    "pycharm": {
     "name": "#%%\n"
    }
   },
   "outputs": [],
   "source": [
    "plt.hist(np.abs(mp_data[\"Q_mass_in\"] - mp_data[\"Q_mass_out\"]), bins=10)\n",
    "plt.gca().set_yscale(\"log\")"
   ]
  },
  {
   "cell_type": "code",
   "execution_count": null,
   "id": "0b8ae502",
   "metadata": {
    "collapsed": false,
    "jupyter": {
     "outputs_hidden": false
    },
    "pycharm": {
     "name": "#%%\n"
    }
   },
   "outputs": [],
   "source": [
    "def cloud_bins(diameters, lam_c, mu_c, nc):\n",
    "    return nc * lam_c ** (mu_c + 1) / gamma(mu_c + 1) * (diameters * 1e-2) ** mu_c * np.exp(-lam_c * diameters * 1e-2)\n",
    "\n",
    "def rain_bins(diameters, lam_r, n0r):\n",
    "    return n0r * np.exp(-lam_r * diameters * 1e-2)"
   ]
  },
  {
   "cell_type": "code",
   "execution_count": null,
   "id": "dcbbf580",
   "metadata": {
    "collapsed": false,
    "jupyter": {
     "outputs_hidden": false
    },
    "pycharm": {
     "name": "#%%\n"
    }
   },
   "outputs": [],
   "source": [
    "diams = np.zeros(36)\n",
    "diams[0] = 1.5625*2.e-4\n",
    "for i in range(1, diams.size):\n",
    "    diams[i] = diams[i-1] * 2"
   ]
  },
  {
   "cell_type": "code",
   "execution_count": null,
   "id": "e05b8178",
   "metadata": {
    "collapsed": false,
    "jupyter": {
     "outputs_hidden": false
    },
    "pycharm": {
     "name": "#%%\n"
    }
   },
   "outputs": [],
   "source": [
    "diam_means = 0.5 * (diams[1:] + diams[:-1])"
   ]
  },
  {
   "cell_type": "code",
   "execution_count": null,
   "id": "a0228dea",
   "metadata": {
    "collapsed": false,
    "jupyter": {
     "outputs_hidden": false
    },
    "pycharm": {
     "name": "#%%\n"
    }
   },
   "outputs": [],
   "source": [
    "diams > 40e-4"
   ]
  },
  {
   "cell_type": "code",
   "execution_count": null,
   "id": "3cec0f9c",
   "metadata": {
    "collapsed": false,
    "jupyter": {
     "outputs_hidden": false
    },
    "pycharm": {
     "name": "#%%\n"
    }
   },
   "outputs": [],
   "source": [
    "mp_data.columns"
   ]
  },
  {
   "cell_type": "code",
   "execution_count": null,
   "id": "3c9ef3f8",
   "metadata": {
    "collapsed": false,
    "jupyter": {
     "outputs_hidden": false
    },
    "pycharm": {
     "name": "#%%\n"
    }
   },
   "outputs": [],
   "source": [
    "q = 122031\n",
    "mp_data.loc[q]\n",
    "plt.plot(diam_means * 10, cloud_bins(diam_means, mp_data.loc[q, \"lamc\"], mp_data.loc[q, \"pgam\"], mp_data.loc[q, \"NC_TAU_in\"] * mp_data.loc[q, \"lcldm\"]), 'ko-')\n",
    "plt.plot(diam_means * 10, rain_bins(diam_means, mp_data.loc[q, \"lamr\"], mp_data.loc[q, \"n0r\"]), 'bo-')\n",
    "\n",
    "plt.gca().set_yscale(\"log\")\n",
    "plt.gca().set_xscale(\"log\")\n",
    "plt.plot(np.ones(10) * 40e-4 * 10, np.linspace(1e-20, 1e15, 10), 'k--', lw=0.5)\n",
    "plt.ylim(1e-20, 1e15)\n",
    "plt.xlim(1e-3, 1000)\n",
    "plt.xlabel(\"Drop Diameter (mm)\")\n",
    "plt.ylabel(\"Number Concentration\")"
   ]
  },
  {
   "cell_type": "code",
   "execution_count": null,
   "id": "f4ae64af",
   "metadata": {
    "collapsed": false,
    "jupyter": {
     "outputs_hidden": false
    },
    "pycharm": {
     "name": "#%%\n"
    }
   },
   "outputs": [],
   "source": [
    "c_nc = cloud_bins(diam_means, mp_data.loc[q, \"lamc\"], mp_data.loc[q, \"pgam\"], mp_data.loc[q, \"NC_TAU_in\"] * mp_data.loc[q, \"lcldm\"])\n",
    "c_nr = rain_bins(diam_means, mp_data.loc[q, \"lamr\"], mp_data.loc[q, \"n0r\"])\n",
    "c_mass = 4.0 / 3.0 * np.pi * (diam_means / 100 / 2) ** 3 * 1000 * c_nc * 1000\n",
    "r_mass = 4.0 / 3.0 * np.pi * (diam_means / 100 / 2) ** 3 * 1000 * c_nr * 1000\n",
    "plt.plot(diam_means * 10, c_mass, 'ko-')\n",
    "plt.plot(diam_means * 10, r_mass, 'bo-')\n",
    "plt.plot(np.ones(10) * 40e-4 * 10, np.linspace(1e-20, 1e15, 10), 'k--', lw=0.5)\n",
    "\n",
    "plt.gca().set_yscale(\"log\")\n",
    "plt.gca().set_xscale(\"log\")\n",
    "plt.ylim(1e-15, 1e6)\n",
    "plt.xlim(1e-3, 20)\n",
    "plt.xlabel(\"Drop Diameter (mm)\")\n"
   ]
  },
  {
   "cell_type": "code",
   "execution_count": null,
   "id": "fc20538e",
   "metadata": {
    "collapsed": false,
    "jupyter": {
     "outputs_hidden": false
    },
    "pycharm": {
     "name": "#%%\n"
    }
   },
   "outputs": [],
   "source": [
    "r_mass.max()"
   ]
  },
  {
   "cell_type": "code",
   "execution_count": null,
   "id": "c2ebb409",
   "metadata": {
    "collapsed": false,
    "jupyter": {
     "outputs_hidden": false
    },
    "pycharm": {
     "name": "#%%\n"
    }
   },
   "outputs": [],
   "source": [
    "np.count_nonzero(mp_data[\"pgam\"] > -100) / mp_data.shape[0]"
   ]
  },
  {
   "cell_type": "code",
   "execution_count": null,
   "id": "0562372e",
   "metadata": {
    "collapsed": false,
    "jupyter": {
     "outputs_hidden": false
    },
    "pycharm": {
     "name": "#%%\n"
    }
   },
   "outputs": [],
   "source": [
    "np.log10(mp_data.loc[mp_data[\"pgam\"] < -1, \"QR_TAU_in\"]).hist()"
   ]
  },
  {
   "cell_type": "code",
   "execution_count": null,
   "id": "8cd4d477",
   "metadata": {
    "collapsed": false,
    "jupyter": {
     "outputs_hidden": false
    },
    "pycharm": {
     "name": "#%%\n"
    }
   },
   "outputs": [],
   "source": []
  },
  {
   "cell_type": "code",
   "execution_count": null,
   "id": "3d68f1a2",
   "metadata": {
    "collapsed": false,
    "jupyter": {
     "outputs_hidden": false
    },
    "pycharm": {
     "name": "#%%\n"
    }
   },
   "outputs": [],
   "source": []
  },
  {
   "cell_type": "code",
   "execution_count": null,
   "id": "838ace99",
   "metadata": {
    "collapsed": false,
    "jupyter": {
     "outputs_hidden": false
    },
    "pycharm": {
     "name": "#%%\n"
    }
   },
   "outputs": [],
   "source": [
    "mp_data.loc[q]"
   ]
  },
  {
   "cell_type": "code",
   "execution_count": null,
   "id": "0a507591",
   "metadata": {
    "collapsed": false,
    "jupyter": {
     "outputs_hidden": false
    },
    "pycharm": {
     "name": "#%%\n"
    }
   },
   "outputs": [],
   "source": [
    "mp_data.loc[(mp_data[\"pgam\"] > 1) & (mp_data[\"qrtend_TAU\"] < 0)][\"QC_TAU_in\"].idxmin()"
   ]
  },
  {
   "cell_type": "code",
   "execution_count": null,
   "id": "7439c607",
   "metadata": {
    "collapsed": false,
    "jupyter": {
     "outputs_hidden": false
    },
    "pycharm": {
     "name": "#%%\n"
    }
   },
   "outputs": [],
   "source": [
    "mp_data[\"pgam\"].hist(bins=np.arange(-0.5, 11.5, 1))\n",
    "#plt.gca().set_yscale(\"log\")"
   ]
  },
  {
   "cell_type": "code",
   "execution_count": null,
   "id": "a8b740d5",
   "metadata": {
    "collapsed": false,
    "jupyter": {
     "outputs_hidden": false
    },
    "pycharm": {
     "name": "#%%\n"
    }
   },
   "outputs": [],
   "source": [
    " mp_data[\"QR_TAU_in\"].idxmax()"
   ]
  },
  {
   "cell_type": "code",
   "execution_count": null,
   "id": "af059561",
   "metadata": {
    "collapsed": false,
    "jupyter": {
     "outputs_hidden": false
    },
    "pycharm": {
     "name": "#%%\n"
    }
   },
   "outputs": [],
   "source": [
    "mp_data.loc[mp_data[\"tend_diff_TAU\"] > 0]"
   ]
  },
  {
   "cell_type": "code",
   "execution_count": null,
   "id": "6ab77dc2",
   "metadata": {
    "collapsed": false,
    "jupyter": {
     "outputs_hidden": false
    },
    "pycharm": {
     "name": "#%%\n"
    }
   },
   "outputs": [],
   "source": [
    "plt.hist(np.abs(mp_data[\"frac_mass\"] - mp_data[\"Q_mass_in\"]), bins=100)\n",
    "plt.gca().set_yscale(\"log\")"
   ]
  },
  {
   "cell_type": "code",
   "execution_count": null,
   "id": "d4168cb7",
   "metadata": {
    "collapsed": false,
    "jupyter": {
     "outputs_hidden": false
    },
    "pycharm": {
     "name": "#%%\n"
    }
   },
   "outputs": [],
   "source": [
    "np.count_nonzero(np.abs(mp_data[\"frac_mass\"] - mp_data[\"Q_mass_in\"]) > 0) / mp_data.shape[0]"
   ]
  },
  {
   "cell_type": "code",
   "execution_count": null,
   "id": "8d6f5f93",
   "metadata": {
    "collapsed": false,
    "jupyter": {
     "outputs_hidden": false
    },
    "pycharm": {
     "name": "#%%\n"
    }
   },
   "outputs": [],
   "source": [
    "plt.hist(np.abs(mp_data[\"lcldm_logit\"] - mp_data[\"precip_frac_logit\"]), bins=50)\n",
    "plt.gca().set_yscale('log')"
   ]
  },
  {
   "cell_type": "code",
   "execution_count": null,
   "id": "3024bbea",
   "metadata": {
    "collapsed": false,
    "jupyter": {
     "outputs_hidden": false
    },
    "pycharm": {
     "name": "#%%\n"
    }
   },
   "outputs": [],
   "source": [
    "plt.hist(np.abs(mp_data[\"frac_mass\"] - (mp_data[\"QC_TAU_out\"] + mp_data[\"QR_TAU_out\"])), bins=100)\n",
    "plt.gca().set_yscale('log')"
   ]
  },
  {
   "cell_type": "code",
   "execution_count": null,
   "id": "fbf59989",
   "metadata": {
    "collapsed": false,
    "jupyter": {
     "outputs_hidden": false
    },
    "pycharm": {
     "name": "#%%\n"
    }
   },
   "outputs": [],
   "source": [
    "np.count_nonzero(np.abs(mp_data[\"frac_mass\"] - (mp_data[\"QC_TAU_out\"] + mp_data[\"QR_TAU_out\"]))) / mp_data.shape[0]"
   ]
  },
  {
   "cell_type": "code",
   "execution_count": null,
   "id": "44dcf785",
   "metadata": {
    "collapsed": false,
    "jupyter": {
     "outputs_hidden": false
    },
    "pycharm": {
     "name": "#%%\n"
    }
   },
   "outputs": [],
   "source": [
    "mp_data.loc[:, \"mass_diff_TAU\"] = (mp_data[\"QC_TAU_out\"].values + mp_data[\"QR_TAU_out\"].values) - (mp_data[\"QC_TAU_in\"].values + mp_data[\"QR_TAU_in\"].values)\n",
    "mp_data.loc[:, \"mass_diff_MG2\"] = (mp_data[\"QC_MG2_out\"].values + mp_data[\"QR_MG2_out\"].values) - (mp_data[\"QC_TAU_in\"].values + mp_data[\"QR_TAU_in\"].values)\n",
    "mp_data.loc[:, \"tend_diff_TAU\"] = (mp_data[\"qctend_TAU\"].values + mp_data[\"qrtend_TAU\"].values)\n",
    "mp_data.loc[:, \"tend_diff_MG2\"] = (mp_data[\"qctend_MG2\"].values + mp_data[\"qrtend_MG2\"].values)\n",
    "ix = (mp_data[\"tend_diff_TAU\"] == 0) & (mp_data[\"mass_diff_TAU\"] == 0) & np.all(mp_data[[\"QC_TAU_out\", \"QR_TAU_out\", \"NC_TAU_out\", \"NR_TAU_out\"]] >= 0, axis=1)\n",
    "mp_mass_data = mp_data.loc[ix].reset_index()"
   ]
  },
  {
   "cell_type": "code",
   "execution_count": null,
   "id": "df772fd5",
   "metadata": {
    "collapsed": false,
    "jupyter": {
     "outputs_hidden": false
    },
    "pycharm": {
     "name": "#%%\n"
    }
   },
   "outputs": [],
   "source": [
    "np.count_nonzero(mp_mass_data[\"pgam\"] < -1) / mp_mass_data.shape[0]"
   ]
  },
  {
   "cell_type": "code",
   "execution_count": null,
   "id": "229a557c",
   "metadata": {
    "collapsed": false,
    "jupyter": {
     "outputs_hidden": false
    },
    "pycharm": {
     "name": "#%%\n"
    }
   },
   "outputs": [],
   "source": [
    "mp_mass_data.loc[(mp_mass_data[\"pgam\"]) & (mp_mass_data[\"qrtend_TAU\"] < )] < -1].iloc[0]"
   ]
  },
  {
   "cell_type": "code",
   "execution_count": null,
   "id": "cf7527cf",
   "metadata": {
    "collapsed": false,
    "jupyter": {
     "outputs_hidden": false
    },
    "pycharm": {
     "name": "#%%\n"
    }
   },
   "outputs": [],
   "source": [
    "mp_mass_data"
   ]
  },
  {
   "cell_type": "code",
   "execution_count": null,
   "id": "04e4ef65",
   "metadata": {
    "collapsed": false,
    "jupyter": {
     "outputs_hidden": false
    },
    "pycharm": {
     "name": "#%%\n"
    }
   },
   "outputs": [],
   "source": [
    "mp_mass_data.loc[:, \"Q_mass_out\"] = mp_mass_data[[\"QC_TAU_out\", \"QR_TAU_out\"]].sum(axis=1)\n",
    "mp_mass_data.loc[:, \"Q_mass_in\"] = mp_mass_data[[\"QC_TAU_in\", \"QR_TAU_in\"]].sum(axis=1)\n",
    "mp_mass_data.loc[:, \"QR_prop_out\"] = mp_mass_data[\"QR_TAU_out\"] / mp_mass_data[\"Q_mass_in\"] \n",
    "mp_mass_data.loc[:, \"QC_prop_out\"] = mp_mass_data[\"QC_TAU_out\"] / mp_mass_data[\"Q_mass_in\"] \n",
    "mp_mass_data.loc[:, \"QR_prop_in\"] = mp_mass_data[\"QR_TAU_in\"] / mp_mass_data[\"Q_mass_in\"] \n",
    "mp_mass_data.loc[:, \"QC_prop_in\"] = mp_mass_data[\"QC_TAU_in\"] / mp_mass_data[\"Q_mass_in\"] "
   ]
  },
  {
   "cell_type": "code",
   "execution_count": null,
   "id": "0e8b19d9",
   "metadata": {
    "collapsed": false,
    "jupyter": {
     "outputs_hidden": false
    },
    "pycharm": {
     "name": "#%%\n"
    }
   },
   "outputs": [],
   "source": [
    "np.count_nonzero((mp_data[\"tend_diff_TAU\"] == 0) & (mp_data[\"mass_diff_TAU\"] == 0) & \n",
    "                 np.all(mp_data[[\"QC_TAU_out\", \"QR_TAU_out\", \"NC_TAU_out\", \"NR_TAU_out\"]] >= 0, axis=1)) / mp_data.shape[0]"
   ]
  },
  {
   "cell_type": "code",
   "execution_count": null,
   "id": "cf9f7dd2",
   "metadata": {
    "collapsed": false,
    "jupyter": {
     "outputs_hidden": false
    },
    "pycharm": {
     "name": "#%%\n"
    }
   },
   "outputs": [],
   "source": [
    "np.count_nonzero((mp_data[\"mass_diff_TAU\"] == 0)) / mp_data.shape[0]"
   ]
  },
  {
   "cell_type": "code",
   "execution_count": null,
   "id": "f2783aef",
   "metadata": {
    "collapsed": false,
    "jupyter": {
     "outputs_hidden": false
    },
    "pycharm": {
     "name": "#%%\n"
    }
   },
   "outputs": [],
   "source": [
    "np.count_nonzero((mp_data[\"tend_diff_TAU\"] == 0)) / mp_data.shape[0]"
   ]
  },
  {
   "cell_type": "code",
   "execution_count": null,
   "id": "43b480de",
   "metadata": {
    "collapsed": false,
    "jupyter": {
     "outputs_hidden": false
    },
    "pycharm": {
     "name": "#%%\n"
    }
   },
   "outputs": [],
   "source": [
    "np.count_nonzero(np.all(mp_data[[\"QC_TAU_out\", \"QR_TAU_out\", \"NC_TAU_out\", \"NR_TAU_out\"]] >= 0, axis=1)) / mp_data.shape[0]"
   ]
  },
  {
   "cell_type": "markdown",
   "id": "604f93b8",
   "metadata": {
    "pycharm": {
     "name": "#%% md\n"
    }
   },
   "source": [
    "Test mass conservation (mass diff should be 0). A significant proportion of grid cells have mass conserved"
   ]
  },
  {
   "cell_type": "code",
   "execution_count": null,
   "id": "3597dc6d",
   "metadata": {
    "collapsed": false,
    "jupyter": {
     "outputs_hidden": false
    },
    "pycharm": {
     "name": "#%%\n"
    }
   },
   "outputs": [],
   "source": [
    "np.max(np.abs(mp_mass_data[\"QR_prop_out\"] + mp_mass_data[\"QC_prop_out\"]))"
   ]
  },
  {
   "cell_type": "code",
   "execution_count": null,
   "id": "8f390213",
   "metadata": {
    "collapsed": false,
    "jupyter": {
     "outputs_hidden": false
    },
    "pycharm": {
     "name": "#%%\n"
    }
   },
   "outputs": [],
   "source": [
    "plt.hist(mp_mass_data[\"QR_prop_out\"], bins=50)"
   ]
  },
  {
   "cell_type": "code",
   "execution_count": null,
   "id": "ac02c48b",
   "metadata": {
    "collapsed": false,
    "jupyter": {
     "outputs_hidden": false
    },
    "pycharm": {
     "name": "#%%\n"
    }
   },
   "outputs": [],
   "source": [
    "input_cols = [\"QC_TAU_in\", \"QR_TAU_in\", \"NC_TAU_in\", \"NR_TAU_in\", \"precip_frac\", \"lcldm\"]\n",
    "output_cols = [\"QC_TAU_out\", \"QR_TAU_out\", \"NC_TAU_out\", \"NR_TAU_out\"]\n",
    "scale_in = StandardScaler()\n",
    "in_data_transformed = pd.DataFrame(0, columns=input_cols, index=mp_mass_data.index)\n",
    "for input_col in input_cols:\n",
    "    if input_col in [\"QC_TAU_in\", \"QR_TAU_in\", \"NC_TAU_in\", \"NR_TAU_in\"]:\n",
    "        in_data_transformed.loc[:, input_col] = np.log10(np.maximum(mp_mass_data[input_col].values, 1e-38))\n",
    "    else:\n",
    "        in_data_transformed.loc[:, input_col] = mp_mass_data[input_col]\n",
    "in_data = scale_in.fit_transform(in_data_transformed)\n",
    "out_data = mp_mass_data.loc[:, output_cols]\n",
    "for col in output_cols:\n",
    "    out_data.loc[:, col] = np.log10(np.maximum(out_data.loc[:, col], 1e-38))"
   ]
  },
  {
   "cell_type": "code",
   "execution_count": null,
   "id": "59fa3840",
   "metadata": {
    "collapsed": false,
    "jupyter": {
     "outputs_hidden": false
    },
    "pycharm": {
     "name": "#%%\n"
    }
   },
   "outputs": [],
   "source": [
    "out_data.min()"
   ]
  },
  {
   "cell_type": "code",
   "execution_count": null,
   "id": "e7a1ac64",
   "metadata": {
    "collapsed": false,
    "jupyter": {
     "outputs_hidden": false
    },
    "pycharm": {
     "name": "#%%\n"
    }
   },
   "outputs": [],
   "source": [
    "from tensorflow.experimental.numpy import log10 as tflog10\n",
    "def mass_loss(y_true_log, y_pred_log, scale_factor=2):\n",
    "    \n",
    "    y_true = 10 ** y_true_log\n",
    "    y_pred = 10 ** y_pred_log\n",
    "    mse_loss = tf.reduce_mean((y_true_log - y_pred_log) ** 2, axis=0)\n",
    "    mass_in_true_l = tflog10(tf.reduce_sum(y_true[:, 0:2], axis=1))\n",
    "    mass_out_pred_l = tflog10(tf.reduce_sum(y_pred[:, 2:4], axis=1))\n",
    "    mass_in_pred_l = tflog10(tf.reduce_sum(y_pred[:, 0:2], axis=1))\n",
    "\n",
    "    mass_diff_loss = tf.reduce_mean(tf.abs(mass_in_true_l - mass_out_pred_l))\n",
    "    mass_diff_loss += tf.reduce_mean(tf.abs(mass_in_true_l - mass_in_pred_l))\n",
    "    loss = tf.reduce_sum(mse_loss) + scale_factor * mass_diff_loss\n",
    "    loss = tf.reduce_sum(mse_loss)\n",
    "    return loss"
   ]
  },
  {
   "cell_type": "code",
   "execution_count": null,
   "id": "8afa4b4f",
   "metadata": {
    "collapsed": false,
    "jupyter": {
     "outputs_hidden": false
    },
    "pycharm": {
     "name": "#%%\n"
    }
   },
   "outputs": [],
   "source": [
    "multi_dnn = DenseNeuralNetwork(hidden_layers=1, hidden_neurons=128, activation=\"relu\", output_activation=\"linear\",\n",
    "                               lr=1e-4, batch_size=512, loss=\"huber\", verbose=1, l2_weight=0, epochs=30)\n",
    "multi_dnn.fit(in_data, out_data)"
   ]
  },
  {
   "cell_type": "code",
   "execution_count": null,
   "id": "60fcc293",
   "metadata": {
    "collapsed": false,
    "jupyter": {
     "outputs_hidden": false
    },
    "pycharm": {
     "name": "#%%\n"
    }
   },
   "outputs": [],
   "source": [
    "len(mp_files)"
   ]
  },
  {
   "cell_type": "code",
   "execution_count": null,
   "id": "42f6f1c0",
   "metadata": {
    "collapsed": false,
    "jupyter": {
     "outputs_hidden": false
    },
    "pycharm": {
     "name": "#%%\n"
    }
   },
   "outputs": [],
   "source": [
    "mp_test_data = pd.concat([pd.read_parquet(mp_files[x]) for x in range(500, 700, 20)], ignore_index=True)\n",
    "#mp_test_data.loc[:, \"precip_frac_logit\"] = logit(mp_test_data[\"precip_frac\"].values)\n",
    "#mp_test_data.loc[:, \"lcldm_logit\"] = logit(mp_test_data[\"lcldm\"].values)\n",
    "dt = 60 * 30 #minutes\n",
    "mp_test_data[\"tend_diff_TAU\"] = (mp_test_data[\"qctend_TAU\"] + mp_test_data[\"qrtend_TAU\"])\n",
    "mp_test_data[\"mass_diff_TAU\"] = (mp_test_data[\"QC_TAU_out\"] + mp_test_data[\"QR_TAU_out\"]) - (mp_test_data[\"QC_TAU_in\"] + mp_test_data[\"QR_TAU_in\"])\n",
    "\n",
    "ixt = (mp_test_data[\"tend_diff_TAU\"] == 0) & (mp_test_data[\"mass_diff_TAU\"] == 0) & \\\n",
    "    np.all(mp_test_data[[\"QC_TAU_out\", \"QR_TAU_out\", \"NC_TAU_out\", \"NR_TAU_out\"]] >= 0, axis=1)\n",
    "mp_test_mass_data = mp_test_data.loc[ixt].reset_index()\n",
    "mp_test_mass_data.loc[:, \"Q_mass_in\"] = mp_test_mass_data[[\"QC_TAU_in\", \"QR_TAU_in\"]].sum(axis=1)\n",
    "mp_test_mass_data.loc[:, \"QR_prop_out\"] = mp_test_mass_data[\"QR_TAU_out\"] / mp_test_mass_data[\"Q_mass_in\"] \n",
    "mp_test_mass_data.loc[:, \"QC_prop_out\"] = mp_test_mass_data[\"QC_TAU_out\"] / mp_test_mass_data[\"Q_mass_in\"]\n",
    "mp_test_mass_data.loc[:, \"QR_prop_in\"] = mp_test_mass_data[\"QR_TAU_in\"] / mp_test_mass_data[\"Q_mass_in\"] \n",
    "mp_test_mass_data.loc[:, \"QC_prop_in\"] = mp_test_mass_data[\"QC_TAU_in\"] / mp_test_mass_data[\"Q_mass_in\"] \n",
    "in_data_transformed = pd.DataFrame(0, columns=input_cols, index=mp_test_mass_data.index)\n",
    "for input_col in input_cols:\n",
    "    if input_col in [\"QC_TAU_in\", \"QR_TAU_in\", \"NC_TAU_in\", \"NR_TAU_in\"]:\n",
    "        in_data_transformed.loc[:, input_col] = np.log10(np.maximum(mp_test_mass_data[input_col].values, 1e-38))\n",
    "    else:\n",
    "        in_data_transformed.loc[:, input_col] = mp_test_mass_data[input_col]\n",
    "in_test_data = scale_in.transform(in_data_transformed)\n",
    "out_test_data = mp_test_mass_data.loc[:, output_cols]\n",
    "for col in output_cols:\n",
    "    out_test_data.loc[:, col] = np.log10(np.maximum(out_test_data.loc[:, col], 1e-38))"
   ]
  },
  {
   "cell_type": "code",
   "execution_count": null,
   "id": "f79ed7df",
   "metadata": {
    "collapsed": false,
    "jupyter": {
     "outputs_hidden": false
    },
    "pycharm": {
     "name": "#%%\n"
    }
   },
   "outputs": [],
   "source": [
    "mp_test_mass_data.loc[:, output_cols].shape"
   ]
  },
  {
   "cell_type": "code",
   "execution_count": null,
   "id": "267ad74d",
   "metadata": {
    "collapsed": false,
    "jupyter": {
     "outputs_hidden": false
    },
    "pycharm": {
     "name": "#%%\n"
    }
   },
   "outputs": [],
   "source": [
    "\n",
    "mod_preds = multi_dnn.model.predict(in_test_data, batch_size=8192)"
   ]
  },
  {
   "cell_type": "code",
   "execution_count": null,
   "id": "f98db099",
   "metadata": {
    "collapsed": false,
    "jupyter": {
     "outputs_hidden": false
    },
    "pycharm": {
     "name": "#%%\n"
    }
   },
   "outputs": [],
   "source": [
    "from sklearn.metrics import r2_score\n",
    "for i in range(4):\n",
    "    \n",
    "    print(output_cols[i], r2_score(out_test_data.iloc[:, i], mod_preds[:, i]))"
   ]
  },
  {
   "cell_type": "code",
   "execution_count": null,
   "id": "93475621",
   "metadata": {
    "collapsed": false,
    "jupyter": {
     "outputs_hidden": false
    },
    "pycharm": {
     "name": "#%%\n"
    }
   },
   "outputs": [],
   "source": [
    "plt.figure(figsize=(10, 10))\n",
    "for i in range(4):\n",
    "    plt.subplot(2, 2, i+1)\n",
    "    plt.hist2d(mod_preds[:, i], out_test_data.loc[:,output_cols[i]], cmin=1, norm=LogNorm(), bins=np.arange(mod_preds[:, i].min(), mod_preds[:, i].max(), 0.5))\n",
    "    plt.xlabel(\"Emulated\")\n",
    "    plt.ylabel(\"Actual\")\n",
    "    plt.title(\"log \" + output_cols[i].split(\"_\")[0])\n",
    "    diag = np.arange(out_test_data.iloc[:, i].min(), out_test_data.iloc[:, i].max(), 1)\n",
    "    plt.plot(diag, diag, 'k--', lw=1)\n",
    "    plt.colorbar()\n",
    "plt.savefig(\"mass_hist_out.png\", dpi=200, bbox_inches=\"tight\")"
   ]
  },
  {
   "cell_type": "code",
   "execution_count": null,
   "id": "5464863a",
   "metadata": {
    "collapsed": false,
    "jupyter": {
     "outputs_hidden": false
    },
    "pycharm": {
     "name": "#%%\n"
    }
   },
   "outputs": [],
   "source": [
    "in_data[::100].shape"
   ]
  },
  {
   "cell_type": "code",
   "execution_count": null,
   "id": "68b274f0",
   "metadata": {
    "collapsed": false,
    "jupyter": {
     "outputs_hidden": false
    },
    "pycharm": {
     "name": "#%%\n"
    }
   },
   "outputs": [],
   "source": [
    "multi_dnn._estimator_type = \"regressor\"\n",
    "multi_dnn.model_ = multi_dnn.model\n",
    "pd_out = partial_dependence(multi_dnn, pd.DataFrame(in_data[::100], columns=input_cols), features=input_cols[0], grid_resolution=10)"
   ]
  },
  {
   "cell_type": "code",
   "execution_count": null,
   "id": "7822f662",
   "metadata": {
    "collapsed": false,
    "jupyter": {
     "outputs_hidden": false
    },
    "pycharm": {
     "name": "#%%\n"
    }
   },
   "outputs": [],
   "source": [
    "pd_out[1]"
   ]
  },
  {
   "cell_type": "code",
   "execution_count": null,
   "id": "e0b281d6",
   "metadata": {
    "collapsed": false,
    "jupyter": {
     "outputs_hidden": false
    },
    "pycharm": {
     "name": "#%%\n"
    }
   },
   "outputs": [],
   "source": [
    "pred_mass = np.sum(10 ** mod_preds[:, 0:1], axis=1)\n",
    "plt.hist(np.abs(mp_test_mass_data[\"Q_mass_in\"] - pred_mass), bins=50)\n",
    "plt.xlabel(\"log Q Mass Difference |Predicted - Actual Mass|\")\n",
    "plt.ylabel(\"Frequency\")\n",
    "plt.savefig(\"mass_diff_hist.png\", dpi=200, bbox_inches=\"tight\")\n",
    "plt.gca().set_yscale(\"log\")"
   ]
  },
  {
   "cell_type": "code",
   "execution_count": null,
   "id": "cd6b6dc2",
   "metadata": {
    "collapsed": false,
    "jupyter": {
     "outputs_hidden": false
    },
    "pycharm": {
     "name": "#%%\n"
    }
   },
   "outputs": [],
   "source": [
    "\n",
    "input_cols_q = [\"QC_TAU_in\", \"QR_TAU_in\", \"NC_TAU_in\", \"NR_TAU_in\", \"precip_frac\", \"lcldm\"]\n",
    "output_cols_q = [\"QC_TAU_out\", \"QR_TAU_out\"]\n",
    "in_data_transformed_q = pd.DataFrame(0, columns=input_cols_q, index=mp_mass_data.index)\n",
    "for input_col in input_cols_q:\n",
    "    if input_col in [\"QC_TAU_in\", \"QR_TAU_in\", \"NC_TAU_in\", \"NR_TAU_in\", \"Q_mass_in\"]:\n",
    "        in_data_transformed_q.loc[:, input_col] = np.log10(np.maximum(mp_mass_data[input_col].values, 1e-38))\n",
    "    else:\n",
    "        in_data_transformed_q.loc[:, input_col] = mp_mass_data[input_col]\n",
    "scale_in_q = StandardScaler()\n",
    "in_data_q = scale_in_q.fit_transform(in_data_transformed_q)\n",
    "out_data_q = np.log10(mp_mass_data[output_cols_q])"
   ]
  },
  {
   "cell_type": "code",
   "execution_count": null,
   "id": "e0a8c50e",
   "metadata": {
    "collapsed": false,
    "jupyter": {
     "outputs_hidden": false
    },
    "pycharm": {
     "name": "#%%\n"
    }
   },
   "outputs": [],
   "source": [
    "mp_mass_data[\"QC_prop_out\"]"
   ]
  },
  {
   "cell_type": "markdown",
   "id": "dbd6d81c",
   "metadata": {
    "pycharm": {
     "name": "#%% md\n"
    }
   },
   "source": [
    "I am attempting to fit a neural network that predicts the partitioning of QR and QC simultanenously. I fit a neural network with a softmax activation function to do so. It appears to be having trouble fitting both values very well and has lots of artifacts throughout the histogram."
   ]
  },
  {
   "cell_type": "markdown",
   "id": "cc8d5a69",
   "metadata": {
    "pycharm": {
     "name": "#%% md\n"
    }
   },
   "source": [
    "I am fitting an ANN to predict the QC mass partition with a sigmoid activation function."
   ]
  },
  {
   "cell_type": "code",
   "execution_count": null,
   "id": "fdaed8c6",
   "metadata": {
    "collapsed": false,
    "jupyter": {
     "outputs_hidden": false
    },
    "pycharm": {
     "name": "#%%\n"
    }
   },
   "outputs": [],
   "source": [
    "dnn_qc = DenseNeuralNetwork(hidden_layers=1, hidden_neurons=128, activation=\"relu\", output_activation=\"linear\", batch_size=128, \n",
    "                         epochs=30, verbose=1, loss=\"mse\", lr=1e-4, l2_weight=0)\n",
    "dnn_qc_hist = dnn_qc.fit(in_data_q, out_data_q.iloc[:, 0].values)"
   ]
  },
  {
   "cell_type": "code",
   "execution_count": null,
   "id": "d2256962",
   "metadata": {
    "collapsed": false,
    "jupyter": {
     "outputs_hidden": false
    },
    "pycharm": {
     "name": "#%%\n"
    }
   },
   "outputs": [],
   "source": [
    "plt.plot(np.log10(dnn_qc_hist[\"loss\"][1:]))"
   ]
  },
  {
   "cell_type": "code",
   "execution_count": null,
   "id": "22db1038",
   "metadata": {
    "collapsed": false,
    "jupyter": {
     "outputs_hidden": false
    },
    "pycharm": {
     "name": "#%%\n"
    }
   },
   "outputs": [],
   "source": [
    "in_test_data_q = scale_in_q.transform(np.log10(np.maximum(mp_test_mass_data[input_cols_q], 1e-38)))\n",
    "\n",
    "out_pred_qc = dnn_qc.model.predict(in_test_data_q, batch_size=8192)[:, 0]\n",
    "out_pred_qc_total = np.zeros((out_pred_qc.shape[0], 2)) \n",
    "out_pred_qc_total[:, 0] = 10 ** out_pred_qc\n",
    "out_pred_qc_total[:, 1] = mp_test_mass_data[[\"QR_TAU_in\", \"QC_TAU_in\"]].sum(axis=1).values - 10 ** out_pred_qc\n",
    "#out_pred_qc_total[:, 0] = out_pred_qc * mp_test_mass_data[[\"QR_TAU_in\", \"QC_TAU_in\"]].sum(axis=1).values\n",
    "#out_pred_qc_total[:, 1] = (1 - out_pred_qc) * mp_test_mass_data[[\"QR_TAU_in\", \"QC_TAU_in\"]].sum(axis=1).values\n"
   ]
  },
  {
   "cell_type": "code",
   "execution_count": null,
   "id": "a0276982",
   "metadata": {
    "collapsed": false,
    "jupyter": {
     "outputs_hidden": false
    },
    "pycharm": {
     "name": "#%%\n"
    }
   },
   "outputs": [],
   "source": [
    "plt.hist2d(out_pred_qc, out_test_data[\"QC_TAU_out\"], bins=50, cmin=1, norm=LogNorm())"
   ]
  },
  {
   "cell_type": "code",
   "execution_count": null,
   "id": "f0884c65",
   "metadata": {
    "collapsed": false,
    "jupyter": {
     "outputs_hidden": false
    },
    "pycharm": {
     "name": "#%%\n"
    }
   },
   "outputs": [],
   "source": [
    "out_pred_qc.min()"
   ]
  },
  {
   "cell_type": "code",
   "execution_count": null,
   "id": "e22789ce",
   "metadata": {
    "collapsed": false,
    "jupyter": {
     "outputs_hidden": false
    },
    "pycharm": {
     "name": "#%%\n"
    }
   },
   "outputs": [],
   "source": [
    "plt.hist(out_data_q.iloc[:,0])"
   ]
  },
  {
   "cell_type": "code",
   "execution_count": null,
   "id": "c2aced1e",
   "metadata": {
    "collapsed": false,
    "jupyter": {
     "outputs_hidden": false
    },
    "pycharm": {
     "name": "#%%\n"
    }
   },
   "outputs": [],
   "source": [
    "out_pred_qc_total.min(axis=0)"
   ]
  },
  {
   "cell_type": "code",
   "execution_count": null,
   "id": "00ad90f0",
   "metadata": {
    "collapsed": false,
    "jupyter": {
     "outputs_hidden": false
    },
    "pycharm": {
     "name": "#%%\n"
    }
   },
   "outputs": [],
   "source": [
    "ix = mp_test_mass_data[\"QC_TAU_out\"] > 0\n",
    "plt.figure(figsize=(12, 5))\n",
    "plt.subplot(1, 2, 1)\n",
    "plt.hist2d(np.log10(out_pred_qc_total[ix, 0]), np.log10(mp_test_mass_data.loc[ix, \"QC_TAU_out\"]), cmin=1, bins=np.arange(-38, -2, 0.5), norm=LogNorm())\n",
    "plt.plot(np.arange(-38, -3, 0.2), np.arange(-38, -3, 0.2), 'k--')\n",
    "print(np.corrcoef(np.log10(np.maximum(out_pred_qc_total[ix, 0], 1-38)), np.log10(np.maximum(mp_test_mass_data.loc[ix, \"QC_TAU_out\"], 1e-38))) **2)\n",
    "plt.xlabel(\"Predicted\")\n",
    "plt.ylabel(\"Observed\")\n",
    "plt.title(\"QC\")\n",
    "plt.xlim(-38, -2)\n",
    "plt.ylim(-38, -2)\n",
    "plt.colorbar()\n",
    "plt.subplot(1, 2, 2)\n",
    "ix = mp_test_mass_data[\"QR_TAU_out\"] > 0\n",
    "plt.hist2d(np.log10(out_pred_qc_total[ix, 1]), np.log10(mp_test_mass_data.loc[ix, \"QR_TAU_out\"]), cmin=1, bins=np.arange(-38, -2, 0.5), norm=LogNorm())\n",
    "print(np.corrcoef(np.log10(np.maximum(out_pred_qc_total[ix, 1], 1e-38)), np.log10(mp_test_mass_data.loc[ix, \"QR_TAU_out\"])) **2)\n",
    "\n",
    "\n",
    "plt.plot(np.arange(-38, -3), np.arange(-38, -3), 'k--')\n",
    "plt.xlabel(\"Predicted\")\n",
    "plt.ylabel(\"Observed\")\n",
    "plt.title(\"QR\")\n",
    "plt.xlim(-38, -2)\n",
    "plt.ylim(-38, -2)\n",
    "plt.colorbar()\n",
    "plt.savefig(\"qc_qr_hist.png\", dpi=200, bbox_inches=\"tight\")\n"
   ]
  },
  {
   "cell_type": "code",
   "execution_count": null,
   "id": "6324c735",
   "metadata": {
    "collapsed": false,
    "jupyter": {
     "outputs_hidden": false
    },
    "pycharm": {
     "name": "#%%\n"
    }
   },
   "outputs": [],
   "source": [
    "dnn_qc._estimator_type = \"regressor\"\n",
    "dnn_qc.model_ = dnn_qc.model\n",
    "pd_out = {}\n",
    "for input_col in input_cols_q:\n",
    "    pd_out[input_col] = partial_dependence(dnn_qc, pd.DataFrame(in_data_q[::100], columns=input_cols_q), features=input_col, grid_resolution=20, kind=\"average\")"
   ]
  },
  {
   "cell_type": "code",
   "execution_count": null,
   "id": "cd1cad5f",
   "metadata": {
    "collapsed": false,
    "jupyter": {
     "outputs_hidden": false
    },
    "pycharm": {
     "name": "#%%\n"
    }
   },
   "outputs": [],
   "source": [
    "fig, axes = plt.subplots(3, 2, figsize=(10, 10))\n",
    "for i, input_col in enumerate(input_cols_q):\n",
    "    axes.ravel()[i].plot(pd_out[input_col][\"values\"][0] * scale_in_q.scale_[i] + scale_in_q.mean_[i], pd_out[input_col][\"average\"][0])\n",
    "    axes.ravel()[i].set_title(input_col)"
   ]
  },
  {
   "cell_type": "code",
   "execution_count": null,
   "id": "dfa75f65",
   "metadata": {
    "collapsed": false,
    "jupyter": {
     "outputs_hidden": false
    },
    "pycharm": {
     "name": "#%%\n"
    }
   },
   "outputs": [],
   "source": [
    "scale_in_q.mean_"
   ]
  },
  {
   "cell_type": "code",
   "execution_count": null,
   "id": "8c372df5",
   "metadata": {
    "collapsed": false,
    "jupyter": {
     "outputs_hidden": false
    },
    "pycharm": {
     "name": "#%%\n"
    }
   },
   "outputs": [],
   "source": []
  },
  {
   "cell_type": "code",
   "execution_count": null,
   "id": "1e76ece7",
   "metadata": {
    "collapsed": false,
    "jupyter": {
     "outputs_hidden": false
    },
    "pycharm": {
     "name": "#%%\n"
    }
   },
   "outputs": [],
   "source": [
    "pd_out[input_col]"
   ]
  },
  {
   "cell_type": "code",
   "execution_count": null,
   "id": "8a98c135",
   "metadata": {
    "collapsed": false,
    "jupyter": {
     "outputs_hidden": false
    },
    "pycharm": {
     "name": "#%%\n"
    }
   },
   "outputs": [],
   "source": []
  },
  {
   "cell_type": "code",
   "execution_count": null,
   "id": "571398c7",
   "metadata": {
    "collapsed": false,
    "jupyter": {
     "outputs_hidden": false
    },
    "pycharm": {
     "name": "#%%\n"
    }
   },
   "outputs": [],
   "source": [
    "dnn_qr = DenseNeuralNetwork(hidden_layers=2, hidden_neurons=128, activation=\"relu\", output_activation=\"sigmoid\", batch_size=256, \n",
    "                         epochs=30, verbose=1, loss=\"huber\", lr=1e-4, l2_weight=0)\n",
    "dnn_qr_hist = dnn_qr.fit(in_data_q, out_data_q.iloc[:, 1])"
   ]
  },
  {
   "cell_type": "code",
   "execution_count": null,
   "id": "7afd4e01",
   "metadata": {
    "collapsed": false,
    "jupyter": {
     "outputs_hidden": false
    },
    "pycharm": {
     "name": "#%%\n"
    }
   },
   "outputs": [],
   "source": [
    "in_test_data_q = scale_in_q.transform(np.log10(np.maximum(mp_test_mass_data[input_cols_q], 1e-38)))\n",
    "out_pred_qr = dnn_qr.model.predict(in_test_data_q, batch_size=8192)[:, 0]\n",
    "out_pred_qr_total = np.zeros((out_pred_qr.shape[0], 2)) \n",
    "out_pred_qr_total[:, 0] = (1 - out_pred_qr) * mp_test_mass_data[[\"QR_TAU_in\", \"QC_TAU_in\"]].sum(axis=1).values\n",
    "out_pred_qr_total[:, 1] = (out_pred_qr) * mp_test_mass_data[[\"QR_TAU_in\", \"QC_TAU_in\"]].sum(axis=1).values"
   ]
  },
  {
   "cell_type": "code",
   "execution_count": null,
   "id": "4257ec1a",
   "metadata": {
    "collapsed": false,
    "jupyter": {
     "outputs_hidden": false
    },
    "pycharm": {
     "name": "#%%\n"
    }
   },
   "outputs": [],
   "source": []
  },
  {
   "cell_type": "code",
   "execution_count": null,
   "id": "d9f9b2d5",
   "metadata": {
    "collapsed": false,
    "jupyter": {
     "outputs_hidden": false
    },
    "pycharm": {
     "name": "#%%\n"
    }
   },
   "outputs": [],
   "source": [
    "ix = mp_test_mass_data[\"QC_TAU_out\"] > 0\n",
    "plt.figure(figsize=(12, 5))\n",
    "plt.subplot(1, 2, 1)\n",
    "plt.hist2d(np.log10(out_pred_qr_total[ix, 0]), np.log10(mp_test_mass_data.loc[ix, \"QC_TAU_out\"]), cmin=1, bins=np.arange(-38, -2, 0.5), norm=LogNorm())\n",
    "plt.plot(np.arange(-38, -3, 0.2), np.arange(-38, -3, 0.2), 'k--')\n",
    "print(np.corrcoef(np.log10(out_pred_qr_total[ix, 0]), np.log10(mp_test_mass_data.loc[ix, \"QC_TAU_out\"])) **2)\n",
    "plt.xlabel(\"Predicted\")\n",
    "plt.ylabel(\"Observed\")\n",
    "plt.title(\"QC\")\n",
    "plt.xlim(-38, -2)\n",
    "plt.ylim(-38, -2)\n",
    "plt.colorbar()\n",
    "plt.subplot(1, 2, 2)\n",
    "ix = mp_test_mass_data[\"QR_TAU_out\"] > 0\n",
    "plt.hist2d(np.log10(out_pred_qr_total[ix, 1]), np.log10(mp_test_mass_data.loc[ix, \"QR_TAU_out\"]), cmin=1, bins=np.arange(-38, -2, 0.5), norm=LogNorm())\n",
    "print(np.corrcoef(np.log10(np.maximum(out_pred_qr_total[ix, 1], 1e-38)), np.log10(mp_test_mass_data.loc[ix, \"QR_TAU_out\"])) **2)\n",
    "\n",
    "\n",
    "plt.plot(np.arange(-38, -3), np.arange(-38, -3), 'k--')\n",
    "plt.xlabel(\"Predicted\")\n",
    "plt.ylabel(\"Observed\")\n",
    "plt.title(\"QR\")\n",
    "plt.xlim(-38, -2)\n",
    "plt.ylim(-38, -2)\n",
    "plt.colorbar()\n",
    "plt.savefig(\"qr_qc_hist.png\", dpi=200, bbox_inches=\"tight\")"
   ]
  },
  {
   "cell_type": "code",
   "execution_count": null,
   "id": "001aab57",
   "metadata": {
    "collapsed": false,
    "jupyter": {
     "outputs_hidden": false
    },
    "pycharm": {
     "name": "#%%\n"
    }
   },
   "outputs": [],
   "source": [
    "out_pred_q_total[ix, 1].max()"
   ]
  },
  {
   "cell_type": "code",
   "execution_count": null,
   "id": "5c6f9dd5",
   "metadata": {
    "collapsed": false,
    "jupyter": {
     "outputs_hidden": false
    },
    "pycharm": {
     "name": "#%%\n"
    }
   },
   "outputs": [],
   "source": [
    "dnn_nr = DenseNeuralNetwork(hidden_layers=1, hidden_neurons=64, activation=\"tanh\", output_activation=\"linear\", batch_size=256, epochs=40, \n",
    "                            l2_weight=0, verbose=1)\n",
    "dnn_nr.fit(in_data, np.log10(mp_mass_data[\"NR_TAU_out\"]))"
   ]
  },
  {
   "cell_type": "code",
   "execution_count": null,
   "id": "17cbc948",
   "metadata": {
    "collapsed": false,
    "jupyter": {
     "outputs_hidden": false
    },
    "pycharm": {
     "name": "#%%\n"
    }
   },
   "outputs": [],
   "source": [
    "out_pred_nr_mix = dnn_nr.predict(in_test_data)"
   ]
  },
  {
   "cell_type": "code",
   "execution_count": null,
   "id": "a2d2f07d",
   "metadata": {
    "collapsed": false,
    "jupyter": {
     "outputs_hidden": false
    },
    "pycharm": {
     "name": "#%%\n"
    }
   },
   "outputs": [],
   "source": [
    "plt.hist2d(out_pred_nr_mix, np.log10(mp_test_mass_data.loc[ix, \"NR_TAU_out\"]), cmin=1, bins=np.arange(-12, 10), norm=LogNorm())\n",
    "plt.plot(np.arange(-15, 7), np.arange(-15, 7), 'k--')\n",
    "plt.xlabel(\"Predicted\")\n",
    "plt.ylabel(\"Observed\")\n",
    "plt.title(\"NR\")"
   ]
  },
  {
   "cell_type": "code",
   "execution_count": null,
   "id": "0eae4151",
   "metadata": {
    "collapsed": false,
    "jupyter": {
     "outputs_hidden": false
    },
    "pycharm": {
     "name": "#%%\n"
    }
   },
   "outputs": [],
   "source": [
    "ix = mp_test_mass_data[output_col] > 0\n",
    "plt.hist2d(np.log10(out_pred_qr_total[ix]), np.log10(mp_test_mass_data.loc[ix, output_col]), cmin=1, bins=np.arange(-38, -2), norm=LogNorm())\n",
    "plt.plot(np.arange(-38, -3), np.arange(-38, -3), 'k--')"
   ]
  },
  {
   "cell_type": "markdown",
   "id": "a0f45cfd",
   "metadata": {
    "pycharm": {
     "name": "#%% md\n"
    }
   },
   "source": [
    "# Experiments to run\n",
    "1. Train neural net on qc/total mass vs qr / total mass and see how that affects the resulting error scores for qc and qr.\n",
    "2. Training multi-output model vs. single output models for qc/qr and nc and nr.\n",
    "3. Perform random search on NN architectures and calculate partial dependence plots on NN hyperparameters.\n",
    "4. Update Fortran code to support new neural network models."
   ]
  },
  {
   "cell_type": "code",
   "execution_count": 16,
   "id": "5c018a32-cd52-471d-a788-a0371fe59dbc",
   "metadata": {},
   "outputs": [
    {
     "data": {
      "image/png": "[encoded data removed]",
      "text/plain": [
       "<Figure size 432x288 with 1 Axes>"
      ]
     },
     "metadata": {
      "needs_background": "light"
     },
     "output_type": "display_data"
    }
   ],
   "source": [
    "plt.hist(np.log10(mp_data[\"QR_TAU_out_v2\"][mp_data[\"QR_TAU_out_v2\"] > 0]), bins=100)\n",
    "plt.gca().set_yscale(\"log\")"
   ]
  },
  {
   "cell_type": "code",
   "execution_count": 17,
   "id": "4c0ca630-4f1f-4456-9e59-bb592d3d6d6f",
   "metadata": {},
   "outputs": [
    {
     "data": {
      "image/png": "[encoded data removed]",
      "text/plain": [
       "<Figure size 432x288 with 1 Axes>"
      ]
     },
     "metadata": {
      "needs_background": "light"
     },
     "output_type": "display_data"
    }
   ],
   "source": [
    "plt.hist(np.log10(mp_data[\"QC_TAU_out_v2\"][mp_data[\"QC_TAU_out_v2\"] > 0]), bins=100)\n",
    "plt.gca().set_yscale(\"log\")"
   ]
  },
  {
   "cell_type": "code",
   "execution_count": 18,
   "id": "93afaafa-39e1-4f05-aaf2-e19a7ce7f710",
   "metadata": {},
   "outputs": [
    {
     "data": {
      "image/png": "[encoded data removed]",
      "text/plain": [
       "<Figure size 432x288 with 1 Axes>"
      ]
     },
     "metadata": {
      "needs_background": "light"
     },
     "output_type": "display_data"
    }
   ],
   "source": [
    "plt.hist(np.log10(-mp_data[\"QC_TAU_out_v2\"][mp_data[\"QC_TAU_out_v2\"] < 0]), bins=100)\n",
    "plt.gca().set_yscale(\"log\")"
   ]
  },
  {
   "cell_type": "code",
   "execution_count": 19,
   "id": "89f6b5d3-e195-4293-86b7-77ef4893408a",
   "metadata": {},
   "outputs": [
    {
     "data": {
      "image/png": "[encoded data removed]",
      "text/plain": [
       "<Figure size 432x288 with 1 Axes>"
      ]
     },
     "metadata": {
      "needs_background": "light"
     },
     "output_type": "display_data"
    }
   ],
   "source": [
    "plt.hist(np.log10(mp_data[\"QC_TAU_in_v2\"][mp_data[\"QC_TAU_in_v2\"] > 0]), bins=100)\n",
    "plt.gca().set_yscale(\"log\")"
   ]
  },
  {
   "cell_type": "code",
   "execution_count": 20,
   "id": "e4bd3e1a-b175-4699-91bc-6e569b81e872",
   "metadata": {},
   "outputs": [
    {
     "data": {
      "text/plain": [
       "<matplotlib.collections.PathCollection at 0x2ab037d20190>"
      ]
     },
     "execution_count": 20,
     "metadata": {},
     "output_type": "execute_result"
    },
    {
     "data": {
      "image/png": "[encoded data removed]",
      "text/plain": [
       "<Figure size 432x288 with 1 Axes>"
      ]
     },
     "metadata": {
      "needs_background": "light"
     },
     "output_type": "display_data"
    }
   ],
   "source": [
    "plt.scatter(mp_data[\"QC_TAU_out_v2\"], mp_data[\"QR_TAU_out_v2\"], 2, mp_data[\"QC_TAU_in_v2\"])"
   ]
  },
  {
   "cell_type": "code",
   "execution_count": 34,
   "id": "db5db57f-b292-4dfb-be6e-e9567402118e",
   "metadata": {},
   "outputs": [
    {
     "data": {
      "image/png": "[encoded data removed]",
      "text/plain": [
       "<Figure size 432x288 with 1 Axes>"
      ]
     },
     "metadata": {
      "needs_background": "light"
     },
     "output_type": "display_data"
    }
   ],
   "source": [
    "mp_data[\"nctend_TAU_v2\"].hist(bins=20)\n",
    "plt.gca().set_yscale(\"log\")"
   ]
  },
  {
   "cell_type": "code",
   "execution_count": 35,
   "id": "947e68ce-5acf-4dc8-bba9-6aca1e202681",
   "metadata": {},
   "outputs": [
    {
     "data": {
      "image/png": "[encoded data removed]",
      "text/plain": [
       "<Figure size 432x288 with 1 Axes>"
      ]
     },
     "metadata": {
      "needs_background": "light"
     },
     "output_type": "display_data"
    }
   ],
   "source": [
    "mp_data[\"nrtend_TAU_v2\"].hist(bins=20)\n",
    "plt.gca().set_yscale(\"log\")"
   ]
  },
  {
   "cell_type": "code",
   "execution_count": 36,
   "id": "5ba2518c-311d-45a3-8b05-6ebdb6914be1",
   "metadata": {},
   "outputs": [
    {
     "data": {
      "image/png": "[encoded data removed]",
      "text/plain": [
       "<Figure size 432x288 with 1 Axes>"
      ]
     },
     "metadata": {
      "needs_background": "light"
     },
     "output_type": "display_data"
    }
   ],
   "source": [
    "mp_data[\"qrtend_TAU_v2\"].hist(bins=20)\n",
    "plt.gca().set_yscale(\"log\")"
   ]
  },
  {
   "cell_type": "code",
   "execution_count": 37,
   "id": "16e9fd81-8f2f-42e3-84d5-02c422cbf159",
   "metadata": {},
   "outputs": [
    {
     "data": {
      "image/png": "[encoded data removed]",
      "text/plain": [
       "<Figure size 432x288 with 1 Axes>"
      ]
     },
     "metadata": {
      "needs_background": "light"
     },
     "output_type": "display_data"
    }
   ],
   "source": [
    "mp_data[\"qctend_TAU_v2\"].hist(bins=20)\n",
    "plt.gca().set_yscale(\"log\")"
   ]
  },
  {
   "cell_type": "code",
   "execution_count": 46,
   "id": "3cb036c0-8434-48e2-bc1f-c85bfe29aace",
   "metadata": {},
   "outputs": [
    {
     "data": {
      "text/plain": [
       "7607"
      ]
     },
     "execution_count": 46,
     "metadata": {},
     "output_type": "execute_result"
    }
   ],
   "source": [
    "np.count_nonzero(mp_data[\"qctend_TAU_v2\"] > 0)"
   ]
  },
  {
   "cell_type": "code",
   "execution_count": 51,
   "id": "31ee6762-8042-4364-8058-bb19c3981580",
   "metadata": {},
   "outputs": [
    {
     "data": {
      "text/plain": [
       "307064"
      ]
     },
     "execution_count": 51,
     "metadata": {},
     "output_type": "execute_result"
    }
   ],
   "source": [
    "good_indices = (mp_data[\"qctend_TAU_v2\"] <= 0) & (mp_data[\"qrtend_TAU_v2\"] >= 0) & (np.abs(mp_data[\"Q_mass_in\"] - mp_data[\"Q_mass_out\"]) == 0)\n",
    "np.count_nonzero(good_indices)"
   ]
  },
  {
   "cell_type": "code",
   "execution_count": null,
   "id": "db1a8dae-80ed-4fce-bfa3-1e231ed8ac82",
   "metadata": {},
   "outputs": [],
   "source": []
  },
  {
   "cell_type": "code",
   "execution_count": 49,
   "id": "b2c5aea8-a5ef-4c05-9aab-9a9cac9241cc",
   "metadata": {},
   "outputs": [
    {
     "data": {
      "text/plain": [
       "314674"
      ]
     },
     "execution_count": 49,
     "metadata": {},
     "output_type": "execute_result"
    }
   ],
   "source": [
    "np.count_nonzero(np.abs(mp_data[\"Q_mass_in\"] - mp_data[\"Q_mass_out\"]) == 0)"
   ]
  },
  {
   "cell_type": "code",
   "execution_count": 43,
   "id": "6b84ac3e-d25f-4bd3-b875-6399f869bbfa",
   "metadata": {},
   "outputs": [
    {
     "data": {
      "text/plain": [
       "(356370,)"
      ]
     },
     "execution_count": 43,
     "metadata": {},
     "output_type": "execute_result"
    }
   ],
   "source": [
    "mp_data[\"qrtend_TAU_v2\"].shape"
   ]
  },
  {
   "cell_type": "code",
   "execution_count": 20,
   "id": "2b1de93e-4e21-4ac4-847e-b9cd729aeb7e",
   "metadata": {},
   "outputs": [],
   "source": [
    "fig = go.Figure(data=go.Scattergl(x=mp_data[\"QC_TAU_out_v2\"], \n",
    "                                  y=mp_data[\"QR_TAU_out_v2\"],\n",
    "                                  mode=\"markers\",\n",
    "                                  marker=dict(color=mp_data[\"QC_TAU_in_v2\"],\n",
    "                                             colorscale=\"Viridis\",\n",
    "                                             line_width=1)\n",
    "                                 )\n",
    "                 )\n",
    "fig.write_html(\"mass_scatter.html\")"
   ]
  },
  {
   "cell_type": "code",
   "execution_count": 18,
   "id": "2e36b13b-72ec-411b-9101-9df27ea1f86f",
   "metadata": {},
   "outputs": [
    {
     "data": {
      "application/vnd.plotly.v1+json": {
       "config": {
        "plotlyServerURL": "https://plot.ly"
       },
       "data": [
        {
         "marker": {
          "color": [
           -0.3644308154569363,
           -0.41803209909557865,
           1.39334085491385,
           0.29736168641844973,
           0.2791967123261525,
           0.4428350759174556,
           -0.39919394549705534,
           -0.7273717557352541,
           -0.2963266463937946,
           0.8282278683317978,
           0.0019079071257594655,
           0.4058724047408842,
           -0.3596071319900736,
           -0.361005267744254,
           0.841143851639136,
           -0.5193934509911002,
           -0.22872909039345812,
           -0.6346718191618682,
           -0.00758513377257968,
           -1.1942217829076454,
           -0.2753696702074267,
           -0.478877495049613,
           0.6211846828860116,
           0.11047017370066363,
           -0.9101817760128244,
           1.3523845114706645,
           -0.7549989055470935,
           -1.229865444823115,
           -0.42713764413873756,
           0.26866371219651414,
           0.21207757155682352,
           -0.22139628478757584,
           0.9662599988464107,
           1.8520221829046415,
           1.1874914523177376,
           -0.7206670846087708,
           0.24204115305130977,
           0.7181392531075139,
           -0.161457055484169,
           1.6323464540963823,
           1.79176570276936,
           0.030278315744767297,
           0.41912413405687493,
           -0.006813614247226312,
           0.16413219445039134,
           -0.4850578014417498,
           -1.7295488866413333,
           -0.24284144376388997,
           0.6046871659095239,
           0.10831052922942186,
           -0.39374504606753713,
           2.434561482208777,
           -0.989679287005295,
           0.018032007596810787,
           -0.7096768133782704,
           -0.7558487640886173,
           -0.10882613163692795,
           -0.05661927668925281,
           -2.548207037899557,
           0.505692785828223,
           -0.7465937976918718,
           -1.1406228604682234,
           -0.10560417556858621,
           1.104032369429107,
           0.10642555962324286,
           0.9446133037431771,
           1.8213977387039448,
           0.8324614155194455,
           -0.4428905821191282,
           -0.998915562123273,
           0.3672641856602215,
           1.9893306769193004,
           0.29426515165674777,
           1.1913621575519935,
           0.2862129747387421,
           -0.9521905603466324,
           0.06288118759875704,
           -1.531724732657815,
           0.10207078339499515,
           -0.6577632070724663,
           0.6875814807216829,
           1.064612898501274,
           0.9511439090410286,
           0.03322554287259122,
           -0.6667914899224616,
           -0.5384568565396729,
           -0.9350476022064738,
           2.4149312326522914,
           1.1756240308212107,
           -1.2295325632863983,
           -0.7769182982513759,
           -0.8966600674452252,
           -0.3600941230631426,
           -2.1013771422093046,
           0.2794868401408206,
           0.8068501481405175,
           -1.5642617203832105,
           1.9202291581120263,
           -0.8363887867812961,
           -2.9612469657900546,
           -0.9601966018461772,
           -0.2472741653342483,
           -1.273387633949329,
           -0.930131149261451,
           -1.1913428501914964,
           0.9646529640519096,
           -0.39783260603046205,
           1.2653681069453604,
           -0.29244059590956545,
           -1.3880922815479417,
           -0.30758599582020035,
           -0.6449883663355505,
           -0.5496641930015487,
           0.4709158695140367,
           -0.7150670024790711,
           -1.1199312245944395,
           1.3618076590155674,
           0.1901362003382748,
           1.2632899328308902,
           0.9753625339508627,
           -0.5658540300945482,
           -1.31947933117411,
           0.12318771600961144,
           0.8925671257617644,
           -1.5708137668026456,
           1.6084346876508164,
           -0.7889835104625452,
           0.7675729242049604,
           0.1837029481263042,
           0.28199788929013353,
           0.967824690671177,
           -0.3869091740448143,
           -0.9377260085960857,
           0.5169206934307234,
           1.136785317214482,
           0.6247289570538664,
           -1.4014015033481406,
           0.6589958101812942,
           0.2401339646938861,
           -0.11571794452997011,
           0.8575031671207562,
           0.9861350670442587,
           -0.936649449627523,
           1.047980992629383,
           -0.8359267362115486,
           -0.018397439645703163,
           -0.6215713697675358,
           -0.5335322054021971,
           1.6446784126157836,
           -0.983411160433692,
           0.5224616451101579,
           1.9473595822350822,
           0.17809372330573484,
           0.25141596470535965,
           -1.605935078428288,
           -0.33788200460646706,
           1.7797541307029376,
           1.0200594311231062,
           1.1183998042048764,
           1.2495895363684728,
           0.19897011022412622,
           1.5207912461139108,
           -1.2325008444737284,
           0.35122003213335823,
           1.8237757678279556,
           0.4865417471899396,
           -1.202782520827198,
           -0.4416689246136523,
           1.6139387421511757,
           -1.6831710095149726,
           -0.5369927005665366,
           -1.452350517609267,
           -1.8870196065240539,
           0.5989858025127867,
           -0.830012237986374,
           0.5218257815883632,
           0.9767944321949236,
           -0.23528644306777066,
           -1.3692661616437738,
           -2.0487790651252493,
           0.61148459651057,
           1.1053344846759092,
           0.32482970925253196,
           0.6967604320915304,
           0.49365397113140796,
           -0.7618494611872115,
           0.5173798316702594,
           1.1733946635376167,
           -1.1144428872195495,
           0.29878970469976507,
           -0.12431264236595152,
           -1.819986162809064,
           -1.3234164930575165,
           -0.4993234144082034,
           0.25646955643217867,
           0.02242456497105803,
           -0.8769827072929768,
           1.3048679062334365,
           0.12306302418702154,
           -1.5199501571998044,
           0.03657379881504155,
           -2.68752555500208,
           -1.6778589440466687,
           0.4493428999426252,
           0.5894561492882627,
           -1.0946841565942256,
           -0.07495897133928037,
           -0.5396390148191795,
           0.4729862013128472,
           -0.4501176802195515,
           0.08204921073262607,
           0.38675031076017713,
           -1.7129501975166896,
           3.2320540251744974,
           -0.17582925060925392,
           -0.45295838781267295,
           -0.12012478561710202,
           -0.4045599422079311,
           2.441836280781842,
           -2.1713705799350724,
           1.1869209131021465,
           -0.09733553202354045,
           0.3764788722572317,
           1.4070088692063456,
           -0.2838512807614412,
           -1.5032412770528858,
           1.2360221998563306,
           0.9252220991503696,
           -0.17460569522631242,
           -0.6140212467339597,
           0.32914255494660144,
           -0.43821162084302595,
           2.8702656614311497,
           0.9317245507060958,
           1.7325385516521932,
           -0.08623503201251799,
           -0.9879506650147074,
           -0.49838564568536753,
           -0.11182933584621149,
           1.9088088802291943,
           1.643650539097162,
           0.42290409716381255,
           -0.15726666947918258,
           0.2929710691001834,
           0.41633866422529625,
           -0.9230258752367111,
           1.1313774629808342,
           0.24955040863838482,
           -1.676398247964803,
           0.17060321630889433,
           0.9377581890871096,
           0.0411106361574988,
           -1.7663171551499408,
           0.4808917557957996,
           1.0829518251651622,
           1.755524271086787,
           -0.2817728828968483,
           -1.0369490017350678,
           1.5117262574300303,
           -1.7758814149891757,
           1.2466867733231424,
           0.18802615468660833,
           0.24121503642922848,
           0.22350419685910433,
           0.7671836904775265,
           -0.4717785623553537,
           -0.429854689275281,
           0.461243007663414,
           -1.1524079935868103,
           1.3377374558888133,
           1.0096727190882233,
           -1.0635086767406163,
           -2.0238349732032272,
           0.030680595571317287,
           -0.9499185910126655,
           1.065061254815811,
           -0.3979606435100882,
           1.1687336872005327,
           -0.37142026159372094,
           1.2589380064221296,
           0.31740588301366324,
           -1.2083287627165709,
           0.6455178695626629,
           0.7918098809004721,
           0.9193875805107364,
           -0.8571977917801534,
           -0.3248353524779615,
           0.3029384220174246,
           -1.4312244362117568,
           0.9815067760233611,
           -1.887422973432038,
           1.607317250100789,
           -1.9076011915759135,
           -0.43544334823042613,
           -0.7579176800437548,
           -0.28122150106539073,
           -0.7631769127510921,
           0.893202519734317,
           0.7289809927612165,
           -0.5132272849183749,
           0.47675789128525503,
           -0.6818989130295992,
           -0.36172381810150384,
           0.14441524299271977,
           0.1923884181916678,
           0.01778721311860601,
           -0.32958612110159163,
           -0.38441279577164794,
           1.0302178058730427,
           -0.22499013403609505,
           0.8215757018993463,
           0.5658583358214452,
           -0.4599954279978621,
           1.4934358340673752,
           1.2641409718413652,
           -0.5172286392715888,
           -1.652338562604114,
           -0.2530281128827647,
           -1.2433868692641514,
           1.309457610790012,
           0.2484064279161356,
           0.6567316171978501,
           -0.5779839882499173,
           -0.5111987786052316,
           0.43878322185649826,
           -1.049151041465672,
           -2.6860208079542067,
           0.1413585359068669,
           0.7024149187130191,
           0.5536418416314376,
           0.06941725939337672,
           -0.7379645354969241,
           -1.1096545907494724,
           -0.8920280161423362,
           -0.8930895261228562,
           0.47484762555825066,
           1.0651534135028071,
           0.01894661546006218,
           1.2908715972014466,
           -1.8233254020343894,
           1.2962525448972562,
           1.325530337138876,
           0.004693150891099306,
           0.037234403034347614,
           -0.8369499808446296,
           0.6195528159000295,
           -0.8925798071370143,
           0.3309708204031793,
           0.3258742625398687,
           0.1871543936465514,
           -0.28101585613891295,
           1.6033991650331134,
           -0.6565044906938204,
           -0.6445293527642298,
           2.3996459090421784,
           -1.2266637156558455,
           -0.7152066878260637,
           -0.13727545197620541,
           -0.0693053793867743,
           -0.33654023095223073,
           0.8284348381798972,
           0.01683141245119719,
           -0.4309587682900378,
           0.7876991359555874,
           1.466300336714693,
           -0.9739501724225611,
           0.05756993319374166,
           -0.7973924294294189,
           -0.596638254109719,
           -0.4217008640849794,
           1.201605403938169,
           0.825239982825256,
           0.8437413771202253,
           -0.2452122803435336,
           1.608702449798844,
           0.4632979553882283,
           -0.3395896864590399,
           -0.9445913115822975,
           1.555398569929683,
           -0.43297114194021513,
           -0.12767981474723403,
           0.3984353379076281,
           -0.5117924615536552,
           1.8893457715092057,
           -0.48001748554177104,
           -1.6680982020369126,
           1.006743113864107,
           0.39806072229939155,
           0.6990541527617369,
           0.36052576436082456,
           -1.2887499982348511,
           -0.978420313025937,
           -0.7122146669516124,
           -0.17020259578413513,
           0.6181310884737764,
           -1.1490918150088205,
           -1.0499526073432175,
           -0.23024697039257033,
           1.029581373816401,
           -3.143270835267237,
           1.080296342054787,
           0.07221265355175133,
           0.401541807470362,
           1.9004392570305615,
           1.8341450705784985,
           0.45976248923288526,
           -1.4314743062073116,
           -1.311251053776317,
           0.19607287919531102,
           -1.1309211737813873,
           0.10834463003565926,
           -0.9205650695871003,
           -0.19372269918627807,
           -0.5079059044804988,
           0.6126955589030592,
           -0.7077351461838545,
           1.322993835905587,
           1.5518178727021597,
           -0.16955333033600148,
           0.19649734949805572,
           0.9444598120072586,
           0.6235139235282285,
           0.8241094657063173,
           -1.8331955329425709,
           0.4007003155516895,
           1.2754213988903416,
           0.514759685776309,
           1.6457489528878348,
           -1.7937826357356523,
           -1.1203503896786315,
           2.1797900215824573,
           -0.6231864637109694,
           -1.045720160089938,
           -0.49511865561961366,
           0.5542610527338213,
           -0.8639469124751106,
           -0.01957489409766445,
           -0.25207278141319905,
           0.22473801887290773,
           0.3897102616012615,
           -0.6810207553004992,
           0.063515594465523,
           0.4006991659699849,
           0.03781925177978431,
           0.9854932476372418,
           0.5253159824455511,
           -0.6458287914759714,
           0.6714891649032227,
           -1.7473452423440023,
           -0.1559357556974915,
           0.27343521916772434,
           -0.12870838605949808,
           0.618656604827302,
           1.6629737929685933,
           1.347097866419956,
           -0.513749676913393,
           -1.023361686332067,
           0.6260975845675569,
           -0.6699066042640396,
           1.5441263332361848,
           1.3436780812430704,
           -0.3542469863321806,
           -1.5633905191150999,
           0.29787892008806305,
           -0.054187435833246284,
           0.989321074746467,
           -0.47629795891846183,
           -0.3217825492126579,
           -0.8350625802569231,
           0.2714278470222853,
           -1.2377322098302534,
           1.5824565383568834,
           0.9963030708202671,
           0.8603660878762625,
           0.02251566919356172,
           -0.8868241886147599,
           -0.6974609305166434,
           -0.8055696905887325,
           -0.13504389316578375,
           0.10433715170064624,
           -0.8852054869562083,
           0.24919901654143228,
           -1.3087481642283019,
           1.1630579616410366,
           0.19710546093582812,
           -0.14176803074285688,
           -0.49288333582104343,
           0.98104961810833,
           -0.032423833231716985,
           -0.6905301800736803,
           1.3038669863557175,
           0.776611658568347,
           0.3326912129472095,
           -0.7698032731105275,
           1.029798995795525,
           1.3331664288404432,
           1.1554253880824532,
           -0.9302887958292273,
           1.5465390353693773,
           -0.053803734283417864
          ],
          "colorscale": [
           [
            0,
            "#440154"
           ],
           [
            0.1111111111111111,
            "#482878"
           ],
           [
            0.2222222222222222,
            "#3e4989"
           ],
           [
            0.3333333333333333,
            "#31688e"
           ],
           [
            0.4444444444444444,
            "#26828e"
           ],
           [
            0.5555555555555556,
            "#1f9e89"
           ],
           [
            0.6666666666666666,
            "#35b779"
           ],
           [
            0.7777777777777778,
            "#6ece58"
           ],
           [
            0.8888888888888888,
            "#b5de2b"
           ],
           [
            1,
            "#fde725"
           ]
          ],
          "showscale": true,
          "size": 16
         },
         "mode": "markers",
         "type": "scatter",
         "y": [
          -0.12526782877184636,
          -1.18989928806839,
          -2.241725055052508,
          -0.2940922140518894,
          0.10291889963566289,
          0.20890037245615964,
          0.06260120618469855,
          -0.15787502632820014,
          0.708485609196694,
          1.4763704076272237,
          1.0398344854507264,
          0.6447885077077314,
          -0.5269755183711524,
          -2.9282781658634778,
          0.5552279010303933,
          -0.00785223338292694,
          -0.7118477169104477,
          1.0941747107752673,
          0.2242801205228388,
          -1.1654472901207007,
          -0.5273090721027162,
          -0.01757121146801089,
          0.9289953248838989,
          0.42511225151319115,
          1.0289989109179678,
          -1.2498067639327237,
          -0.6164417249410089,
          -0.24799036231882748,
          0.27072233928252654,
          -1.6054479641977413,
          -0.20021601089001514,
          1.282215489172556,
          0.8173605713228443,
          0.8155298351716834,
          0.6577079253004422,
          0.4500514093764989,
          0.6067497731680205,
          1.2009923615365052,
          1.4004546249599392,
          -0.009232981701216605,
          2.0350318081745895,
          0.1379923928487006,
          0.34899593270986545,
          -0.04783132548635705,
          0.8090867161331836,
          -1.5325705106458514,
          1.7699891246080528,
          1.845186478928992,
          2.002272904484808,
          -0.5105932533060268,
          1.020497324943734,
          -0.7385660362092685,
          1.8319102167096393,
          -0.37892301788232097,
          0.6940582233553757,
          -0.5846887008076452,
          0.6304259514478584,
          -0.08677301549571834,
          1.3085349396908574,
          -0.3840902890913414,
          0.39099109025606293,
          1.9773607303313943,
          0.6390989708984067,
          -2.3244904168117264,
          -0.41746315476697793,
          -0.9526234773192896,
          -0.6200039219431849,
          -0.15806697965634245,
          1.0065190659827272,
          1.2629507516957708,
          0.5382940080445444,
          -1.4290876195045956,
          -0.15349877021518657,
          0.36399156548938527,
          -1.1015936425534156,
          -0.5537605779200935,
          -0.46410901805479926,
          0.9756325025730631,
          -1.6276713672200929,
          -0.010527610054418284,
          0.8205387499199273,
          0.006688167411686289,
          1.3755528666390173,
          -0.18104335941353325,
          -0.6530877286400817,
          0.10907702160907892,
          -0.2023645816729004,
          -0.286715852916933,
          -0.2995867044158567,
          -1.5206616897269853,
          0.18936649587946375,
          0.266365735890138,
          0.2054265249481331,
          -1.29643090079845,
          1.1748008573589537,
          -1.2571994430445683,
          -0.38864159833634626,
          -1.5812922091731563,
          0.22723625438839537,
          0.11148438094231873,
          0.34292529477763445,
          -0.8366638486955873,
          0.965145120033548,
          0.8933244086419374,
          0.19674921914069363,
          1.4147181593469136,
          0.8823907390906209,
          -1.7329334509070373,
          0.03232013205687864,
          -0.9496176365063771,
          -0.6921130133855314,
          -0.6507965744706801,
          0.41276406607896526,
          -0.4994950598694617,
          1.1293824973278137,
          1.3131179524382315,
          0.5456286534784207,
          0.06700912455629317,
          -0.12799878437099946,
          0.29076859655700193,
          1.581083427083927,
          -0.9085278127855511,
          -1.210329393443854,
          -1.1148652272938528,
          -0.5931455171733615,
          1.1176622014605386,
          -0.3151688618105929,
          -0.0942065268073907,
          0.7763356295413019,
          -0.3449074774071195,
          -0.6604184272746857,
          -2.18739432632563,
          -0.38318035095120695,
          -1.1250422038689158,
          -0.8057406649324677,
          1.50068067222072,
          -1.1852010816116647,
          -1.67709202150115,
          1.23357841874422,
          0.1995523986311601,
          1.9611568179558663,
          0.24236519534915527,
          -0.46242948647736987,
          -0.374064233300656,
          -0.5702316199561559,
          -0.07588485152031524,
          0.6243456257704524,
          -0.29467166744799883,
          1.0781161017775311,
          0.889764857434746,
          -0.6967355872667331,
          0.13235579772835682,
          0.7599893660142588,
          0.5984372421808036,
          -0.5530568392259884,
          0.9788845098611262,
          0.3090466388480345,
          0.6896663466078776,
          -0.6262994391781899,
          -0.24859792320086727,
          -1.0800695374952984,
          0.9593747782928564,
          -1.0353148172691478,
          -1.1861729654847344,
          2.0740717345600803,
          1.0700392569473276,
          1.4716825511871927,
          -0.5891432969331993,
          0.09634248597661478,
          -1.1150608755563756,
          -1.4861910528391127,
          -0.9881493192175294,
          -0.6747244203040639,
          1.1480017871433335,
          2.325634688899698,
          0.4298721643564677,
          -0.9417787562635774,
          -0.6363246955191878,
          0.13102258780495618,
          0.9255481737932569,
          1.6763850375982317,
          1.0914934759480224,
          0.6170778444329662,
          1.8482506264420986,
          1.393630386232975,
          -0.5971500061581473,
          -2.0163406233731833,
          0.7362010871917453,
          1.4590016991584438,
          -1.6575763971643944,
          2.9386110063366853,
          0.09856520315252436,
          -2.7954953337035473,
          -0.3934986584235207,
          0.4593409451083642,
          -0.9585579191264303,
          -0.3657262233683259,
          0.40358765800445884,
          0.5067938422556384,
          0.4029021666543566,
          0.6453997616566702,
          -1.2202415800430564,
          -0.6364712431135998,
          -0.8890591065987999,
          0.36855803830231354,
          -1.155066014736322,
          0.44975159750198906,
          -0.24233455765673526,
          -0.28523854662301196,
          0.2421775767988788,
          -0.2509171592382038,
          -0.701268660189063,
          0.5947436507577627,
          -0.39607529877268116,
          -0.8939242791456579,
          -0.2979951314120435,
          1.9207768555560734,
          0.5207735043744598,
          -0.8609741306546261,
          0.3069116956711015,
          -0.4034538665875803,
          -0.9821194469536535,
          -1.217689445990623,
          0.6249093700551199,
          -0.461225730022847,
          1.4423192277546788,
          0.022331509903232256,
          0.038514717931879494,
          0.829975383281374,
          0.6753802085269137,
          -1.1175738204430588,
          -1.768144812316006,
          -0.48567145591222616,
          -1.2719695825971329,
          1.1464458213218518,
          0.2676209168743017,
          1.7821208900912013,
          -0.4079710651761721,
          0.3714791041221009,
          -0.4538956822550926,
          -0.6545135659240767,
          -0.7459689258658695,
          0.9159815086218649,
          1.8964507126971966,
          0.6355284763156875,
          -0.4515828410662757,
          -0.4781284726796098,
          -0.11931041678257161,
          1.0845732715215024,
          0.08165217834549147,
          -1.1163779973562789,
          -0.048678083136923525,
          1.2990876591599234,
          1.664913702467722,
          0.5172074914319358,
          0.96216769537161,
          -1.1587538962532862,
          -0.5499403602093377,
          1.8828642907636244,
          -0.32945460567536566,
          2.5708774968685777,
          -0.017667082163568527,
          -1.4069053592189718,
          -0.71335846825042,
          -0.17229520165361684,
          -0.9729126421262504,
          0.6264821915143611,
          1.6534948931458888,
          0.6455601708525073,
          0.16770386642650267,
          -0.03164201181732798,
          -0.9551954542373227,
          -0.23103297826628474,
          0.06078937983240018,
          0.7247307077730674,
          1.7153387901906239,
          -1.1507542374645428,
          0.6618520711579722,
          -0.6925477545868713,
          0.5411476324101707,
          0.3441945879083298,
          -0.2942288125119296,
          0.2274278542054188,
          0.9810013164735939,
          0.6658889740261811,
          -0.5805426422636035,
          -1.6419125981948566,
          0.4089238016120082,
          -0.4490480675826321,
          -0.5197548944766235,
          1.0677658185069088,
          -2.308039950899145,
          -0.8402531940948429,
          -0.7600305395720973,
          0.7690014436700157,
          -2.5535975690331343,
          -0.012422496637865564,
          -0.1958909871350288,
          1.4680948824439641,
          0.5594147562878544,
          1.2604372373064743,
          -0.17751063424773647,
          -0.8248976203865807,
          -0.5153152853554368,
          -1.2229368668683913,
          -0.9062022835689449,
          1.4283092031203197,
          -0.42074584821268435,
          2.460292585512518,
          -2.729078744693676,
          2.177665900885819,
          -1.4524876885697062,
          -0.09669492821859202,
          1.6998346659923786,
          -1.2557943379315841,
          -1.2487176565748719,
          0.7280417739529338,
          -0.6798347588776807,
          -1.0274069710140588,
          1.171544737107199,
          0.8150725424064373,
          1.05600670295384,
          1.2697046373078835,
          -0.05867965714081592,
          -0.7639434365293647,
          -1.529153330971903,
          0.7289073977311818,
          -0.042498266582360215,
          -0.9768960164234733,
          0.2332964641869787,
          -0.5040965272893251,
          0.4268458510527357,
          0.6318457685605813,
          0.8257464592567219,
          1.114923862570611,
          1.116993515331135,
          0.5747307087820517,
          -1.475209035720412,
          -0.49596652144060177,
          1.3989705317630545,
          -0.48038837151406855,
          -0.555305438010248,
          0.4055486793109191,
          -2.608706033560846,
          1.51545116906747,
          -1.6706184910065305,
          -0.8404419886590851,
          -0.351780178851357,
          -0.8257952501405648,
          -2.7453332323068094,
          -0.17171533747351053,
          -2.22932850901441,
          0.9147847888412879,
          0.04566372490361305,
          -1.2121484910794194,
          1.34315135920873,
          0.02804107346809988,
          -0.1990886424567009,
          0.5740341820231306,
          -0.7894237012200545,
          1.610831897318957,
          -0.32443670822472703,
          -0.6627724761141487,
          0.8179728176592935,
          0.2268544195099998,
          1.7012442285053684,
          0.8740290085522737,
          -0.939571557477174,
          -0.14032529079389974,
          -0.14007272414792893,
          1.524259887937162,
          0.777901743878943,
          -0.08281867271779425,
          -0.9251324013849183,
          0.6864460104116266,
          -1.992880656604939,
          1.521517448047653,
          0.9982615273033439,
          0.3405013618165641,
          -0.12052424126529744,
          -0.6213407335046348,
          -0.8389629853279968,
          0.3014013450254846,
          -0.08956019123410701,
          1.1349445909763658,
          1.0130151369272022,
          -1.2794550434107281,
          2.5497319909469507,
          0.44498025612909925,
          0.3018427678410942,
          -0.49094236428966537,
          0.8488535031476141,
          0.3027676059653813,
          0.29570190338910995,
          1.2706484293845477,
          -1.1108321710678013,
          0.8499130033969967,
          -0.27884016770429493,
          1.4189968247113363,
          -0.7352299697095964,
          -1.002755530576337,
          0.5877363252537406,
          -0.6107386660686367,
          1.3430446673661225,
          1.06899759311452,
          -0.5116552557136068,
          -1.208032626849626,
          -1.2692213201724747,
          0.01546348420712085,
          0.6351518972386873,
          1.0758698119494547,
          -0.09073011213138778,
          0.795421107606084,
          0.6221692783371945,
          1.384655312376128,
          -0.3501157466539596,
          -1.161192386176347,
          -0.025938746989306368,
          -0.35747770785068134,
          -0.5688153514652937,
          0.9496429232944213,
          -1.1644428928527235,
          1.6324286228974982,
          1.2860112018545777,
          -0.6397266708481033,
          -0.47450807710318965,
          -1.1228026423240218,
          1.1599341704402353,
          -0.18366698187499908,
          0.16045382300730354,
          -1.1006644145409645,
          2.4977051159176047,
          -0.9344422994577313,
          -0.10345712637343672,
          1.1697844870625853,
          -0.5430804938479717,
          -0.10413968367364738,
          -1.0091864383432787,
          -0.5620706016232224,
          -0.5676464826875096,
          1.6558062097201807,
          0.03245947529969758,
          0.5454978028456463,
          -0.43259954891038827,
          0.012835901734935432,
          0.7079993853589788,
          0.04597695353625058,
          -0.8896090429519894,
          -0.7320228913058446,
          -0.2694164958651792,
          -0.6659202611293041,
          0.7181887165391314,
          -0.8663871859765021,
          0.867874188276865,
          -0.010915118469415676,
          -0.2405468557235379,
          -0.6474627565966746,
          0.8262010849253567,
          -0.43560802303695617,
          0.13038529611396685,
          -1.0990734116178507,
          2.773424279694192,
          -1.5777239773993477,
          -0.5878315915787306,
          0.5894110890204973,
          1.5155079404015293,
          1.0291620957255598,
          1.574498934866034,
          -2.950254890471563,
          -0.3412806838533619,
          0.15987419977475908,
          -1.322677994771409,
          -0.08914468273394385,
          -0.31302255350346325,
          0.9461328015959436,
          -1.1275255234851993,
          1.2879333536907374,
          -1.953803710303426,
          0.37480584662533534,
          0.5410668444837899,
          0.06953890369263817,
          -1.5155829113623558,
          0.22454678242926676,
          -1.2910613863166773,
          3.3752659797423745,
          -2.101676717454983,
          0.9546395889111297,
          -0.27318536218596273,
          1.0474467743052205,
          0.9989950962600384,
          0.7309300390880589,
          -1.1199639026388952,
          0.2182005040692293,
          1.5938919933567945,
          -1.198986227275111,
          -0.28907068128976854,
          -0.7479899283809763,
          0.9721278206494897,
          -1.1007813947263934,
          0.013864378358197678
         ]
        }
       ],
       "layout": {
        "template": {
         "data": {
          "bar": [
           {
            "error_x": {
             "color": "#2a3f5f"
            },
            "error_y": {
             "color": "#2a3f5f"
            },
            "marker": {
             "line": {
              "color": "#E5ECF6",
              "width": 0.5
             },
             "pattern": {
              "fillmode": "overlay",
              "size": 10,
              "solidity": 0.2
             }
            },
            "type": "bar"
           }
          ],
          "barpolar": [
           {
            "marker": {
             "line": {
              "color": "#E5ECF6",
              "width": 0.5
             },
             "pattern": {
              "fillmode": "overlay",
              "size": 10,
              "solidity": 0.2
             }
            },
            "type": "barpolar"
           }
          ],
          "carpet": [
           {
            "aaxis": {
             "endlinecolor": "#2a3f5f",
             "gridcolor": "white",
             "linecolor": "white",
             "minorgridcolor": "white",
             "startlinecolor": "#2a3f5f"
            },
            "baxis": {
             "endlinecolor": "#2a3f5f",
             "gridcolor": "white",
             "linecolor": "white",
             "minorgridcolor": "white",
             "startlinecolor": "#2a3f5f"
            },
            "type": "carpet"
           }
          ],
          "choropleth": [
           {
            "colorbar": {
             "outlinewidth": 0,
             "ticks": ""
            },
            "type": "choropleth"
           }
          ],
          "contour": [
           {
            "colorbar": {
             "outlinewidth": 0,
             "ticks": ""
            },
            "colorscale": [
             [
              0,
              "#0d0887"
             ],
             [
              0.1111111111111111,
              "#46039f"
             ],
             [
              0.2222222222222222,
              "#7201a8"
             ],
             [
              0.3333333333333333,
              "#9c179e"
             ],
             [
              0.4444444444444444,
              "#bd3786"
             ],
             [
              0.5555555555555556,
              "#d8576b"
             ],
             [
              0.6666666666666666,
              "#ed7953"
             ],
             [
              0.7777777777777778,
              "#fb9f3a"
             ],
             [
              0.8888888888888888,
              "#fdca26"
             ],
             [
              1,
              "#f0f921"
             ]
            ],
            "type": "contour"
           }
          ],
          "contourcarpet": [
           {
            "colorbar": {
             "outlinewidth": 0,
             "ticks": ""
            },
            "type": "contourcarpet"
           }
          ],
          "heatmap": [
           {
            "colorbar": {
             "outlinewidth": 0,
             "ticks": ""
            },
            "colorscale": [
             [
              0,
              "#0d0887"
             ],
             [
              0.1111111111111111,
              "#46039f"
             ],
             [
              0.2222222222222222,
              "#7201a8"
             ],
             [
              0.3333333333333333,
              "#9c179e"
             ],
             [
              0.4444444444444444,
              "#bd3786"
             ],
             [
              0.5555555555555556,
              "#d8576b"
             ],
             [
              0.6666666666666666,
              "#ed7953"
             ],
             [
              0.7777777777777778,
              "#fb9f3a"
             ],
             [
              0.8888888888888888,
              "#fdca26"
             ],
             [
              1,
              "#f0f921"
             ]
            ],
            "type": "heatmap"
           }
          ],
          "heatmapgl": [
           {
            "colorbar": {
             "outlinewidth": 0,
             "ticks": ""
            },
            "colorscale": [
             [
              0,
              "#0d0887"
             ],
             [
              0.1111111111111111,
              "#46039f"
             ],
             [
              0.2222222222222222,
              "#7201a8"
             ],
             [
              0.3333333333333333,
              "#9c179e"
             ],
             [
              0.4444444444444444,
              "#bd3786"
             ],
             [
              0.5555555555555556,
              "#d8576b"
             ],
             [
              0.6666666666666666,
              "#ed7953"
             ],
             [
              0.7777777777777778,
              "#fb9f3a"
             ],
             [
              0.8888888888888888,
              "#fdca26"
             ],
             [
              1,
              "#f0f921"
             ]
            ],
            "type": "heatmapgl"
           }
          ],
          "histogram": [
           {
            "marker": {
             "pattern": {
              "fillmode": "overlay",
              "size": 10,
              "solidity": 0.2
             }
            },
            "type": "histogram"
           }
          ],
          "histogram2d": [
           {
            "colorbar": {
             "outlinewidth": 0,
             "ticks": ""
            },
            "colorscale": [
             [
              0,
              "#0d0887"
             ],
             [
              0.1111111111111111,
              "#46039f"
             ],
             [
              0.2222222222222222,
              "#7201a8"
             ],
             [
              0.3333333333333333,
              "#9c179e"
             ],
             [
              0.4444444444444444,
              "#bd3786"
             ],
             [
              0.5555555555555556,
              "#d8576b"
             ],
             [
              0.6666666666666666,
              "#ed7953"
             ],
             [
              0.7777777777777778,
              "#fb9f3a"
             ],
             [
              0.8888888888888888,
              "#fdca26"
             ],
             [
              1,
              "#f0f921"
             ]
            ],
            "type": "histogram2d"
           }
          ],
          "histogram2dcontour": [
           {
            "colorbar": {
             "outlinewidth": 0,
             "ticks": ""
            },
            "colorscale": [
             [
              0,
              "#0d0887"
             ],
             [
              0.1111111111111111,
              "#46039f"
             ],
             [
              0.2222222222222222,
              "#7201a8"
             ],
             [
              0.3333333333333333,
              "#9c179e"
             ],
             [
              0.4444444444444444,
              "#bd3786"
             ],
             [
              0.5555555555555556,
              "#d8576b"
             ],
             [
              0.6666666666666666,
              "#ed7953"
             ],
             [
              0.7777777777777778,
              "#fb9f3a"
             ],
             [
              0.8888888888888888,
              "#fdca26"
             ],
             [
              1,
              "#f0f921"
             ]
            ],
            "type": "histogram2dcontour"
           }
          ],
          "mesh3d": [
           {
            "colorbar": {
             "outlinewidth": 0,
             "ticks": ""
            },
            "type": "mesh3d"
           }
          ],
          "parcoords": [
           {
            "line": {
             "colorbar": {
              "outlinewidth": 0,
              "ticks": ""
             }
            },
            "type": "parcoords"
           }
          ],
          "pie": [
           {
            "automargin": true,
            "type": "pie"
           }
          ],
          "scatter": [
           {
            "marker": {
             "colorbar": {
              "outlinewidth": 0,
              "ticks": ""
             }
            },
            "type": "scatter"
           }
          ],
          "scatter3d": [
           {
            "line": {
             "colorbar": {
              "outlinewidth": 0,
              "ticks": ""
             }
            },
            "marker": {
             "colorbar": {
              "outlinewidth": 0,
              "ticks": ""
             }
            },
            "type": "scatter3d"
           }
          ],
          "scattercarpet": [
           {
            "marker": {
             "colorbar": {
              "outlinewidth": 0,
              "ticks": ""
             }
            },
            "type": "scattercarpet"
           }
          ],
          "scattergeo": [
           {
            "marker": {
             "colorbar": {
              "outlinewidth": 0,
              "ticks": ""
             }
            },
            "type": "scattergeo"
           }
          ],
          "scattergl": [
           {
            "marker": {
             "colorbar": {
              "outlinewidth": 0,
              "ticks": ""
             }
            },
            "type": "scattergl"
           }
          ],
          "scattermapbox": [
           {
            "marker": {
             "colorbar": {
              "outlinewidth": 0,
              "ticks": ""
             }
            },
            "type": "scattermapbox"
           }
          ],
          "scatterpolar": [
           {
            "marker": {
             "colorbar": {
              "outlinewidth": 0,
              "ticks": ""
             }
            },
            "type": "scatterpolar"
           }
          ],
          "scatterpolargl": [
           {
            "marker": {
             "colorbar": {
              "outlinewidth": 0,
              "ticks": ""
             }
            },
            "type": "scatterpolargl"
           }
          ],
          "scatterternary": [
           {
            "marker": {
             "colorbar": {
              "outlinewidth": 0,
              "ticks": ""
             }
            },
            "type": "scatterternary"
           }
          ],
          "surface": [
           {
            "colorbar": {
             "outlinewidth": 0,
             "ticks": ""
            },
            "colorscale": [
             [
              0,
              "#0d0887"
             ],
             [
              0.1111111111111111,
              "#46039f"
             ],
             [
              0.2222222222222222,
              "#7201a8"
             ],
             [
              0.3333333333333333,
              "#9c179e"
             ],
             [
              0.4444444444444444,
              "#bd3786"
             ],
             [
              0.5555555555555556,
              "#d8576b"
             ],
             [
              0.6666666666666666,
              "#ed7953"
             ],
             [
              0.7777777777777778,
              "#fb9f3a"
             ],
             [
              0.8888888888888888,
              "#fdca26"
             ],
             [
              1,
              "#f0f921"
             ]
            ],
            "type": "surface"
           }
          ],
          "table": [
           {
            "cells": {
             "fill": {
              "color": "#EBF0F8"
             },
             "line": {
              "color": "white"
             }
            },
            "header": {
             "fill": {
              "color": "#C8D4E3"
             },
             "line": {
              "color": "white"
             }
            },
            "type": "table"
           }
          ]
         },
         "layout": {
          "annotationdefaults": {
           "arrowcolor": "#2a3f5f",
           "arrowhead": 0,
           "arrowwidth": 1
          },
          "autotypenumbers": "strict",
          "coloraxis": {
           "colorbar": {
            "outlinewidth": 0,
            "ticks": ""
           }
          },
          "colorscale": {
           "diverging": [
            [
             0,
             "#8e0152"
            ],
            [
             0.1,
             "#c51b7d"
            ],
            [
             0.2,
             "#de77ae"
            ],
            [
             0.3,
             "#f1b6da"
            ],
            [
             0.4,
             "#fde0ef"
            ],
            [
             0.5,
             "#f7f7f7"
            ],
            [
             0.6,
             "#e6f5d0"
            ],
            [
             0.7,
             "#b8e186"
            ],
            [
             0.8,
             "#7fbc41"
            ],
            [
             0.9,
             "#4d9221"
            ],
            [
             1,
             "#276419"
            ]
           ],
           "sequential": [
            [
             0,
             "#0d0887"
            ],
            [
             0.1111111111111111,
             "#46039f"
            ],
            [
             0.2222222222222222,
             "#7201a8"
            ],
            [
             0.3333333333333333,
             "#9c179e"
            ],
            [
             0.4444444444444444,
             "#bd3786"
            ],
            [
             0.5555555555555556,
             "#d8576b"
            ],
            [
             0.6666666666666666,
             "#ed7953"
            ],
            [
             0.7777777777777778,
             "#fb9f3a"
            ],
            [
             0.8888888888888888,
             "#fdca26"
            ],
            [
             1,
             "#f0f921"
            ]
           ],
           "sequentialminus": [
            [
             0,
             "#0d0887"
            ],
            [
             0.1111111111111111,
             "#46039f"
            ],
            [
             0.2222222222222222,
             "#7201a8"
            ],
            [
             0.3333333333333333,
             "#9c179e"
            ],
            [
             0.4444444444444444,
             "#bd3786"
            ],
            [
             0.5555555555555556,
             "#d8576b"
            ],
            [
             0.6666666666666666,
             "#ed7953"
            ],
            [
             0.7777777777777778,
             "#fb9f3a"
            ],
            [
             0.8888888888888888,
             "#fdca26"
            ],
            [
             1,
             "#f0f921"
            ]
           ]
          },
          "colorway": [
           "#636efa",
           "#EF553B",
           "#00cc96",
           "#ab63fa",
           "#FFA15A",
           "#19d3f3",
           "#FF6692",
           "#B6E880",
           "#FF97FF",
           "#FECB52"
          ],
          "font": {
           "color": "#2a3f5f"
          },
          "geo": {
           "bgcolor": "white",
           "lakecolor": "white",
           "landcolor": "#E5ECF6",
           "showlakes": true,
           "showland": true,
           "subunitcolor": "white"
          },
          "hoverlabel": {
           "align": "left"
          },
          "hovermode": "closest",
          "mapbox": {
           "style": "light"
          },
          "paper_bgcolor": "white",
          "plot_bgcolor": "#E5ECF6",
          "polar": {
           "angularaxis": {
            "gridcolor": "white",
            "linecolor": "white",
            "ticks": ""
           },
           "bgcolor": "#E5ECF6",
           "radialaxis": {
            "gridcolor": "white",
            "linecolor": "white",
            "ticks": ""
           }
          },
          "scene": {
           "xaxis": {
            "backgroundcolor": "#E5ECF6",
            "gridcolor": "white",
            "gridwidth": 2,
            "linecolor": "white",
            "showbackground": true,
            "ticks": "",
            "zerolinecolor": "white"
           },
           "yaxis": {
            "backgroundcolor": "#E5ECF6",
            "gridcolor": "white",
            "gridwidth": 2,
            "linecolor": "white",
            "showbackground": true,
            "ticks": "",
            "zerolinecolor": "white"
           },
           "zaxis": {
            "backgroundcolor": "#E5ECF6",
            "gridcolor": "white",
            "gridwidth": 2,
            "linecolor": "white",
            "showbackground": true,
            "ticks": "",
            "zerolinecolor": "white"
           }
          },
          "shapedefaults": {
           "line": {
            "color": "#2a3f5f"
           }
          },
          "ternary": {
           "aaxis": {
            "gridcolor": "white",
            "linecolor": "white",
            "ticks": ""
           },
           "baxis": {
            "gridcolor": "white",
            "linecolor": "white",
            "ticks": ""
           },
           "bgcolor": "#E5ECF6",
           "caxis": {
            "gridcolor": "white",
            "linecolor": "white",
            "ticks": ""
           }
          },
          "title": {
           "x": 0.05
          },
          "xaxis": {
           "automargin": true,
           "gridcolor": "white",
           "linecolor": "white",
           "ticks": "",
           "title": {
            "standoff": 15
           },
           "zerolinecolor": "white",
           "zerolinewidth": 2
          },
          "yaxis": {
           "automargin": true,
           "gridcolor": "white",
           "linecolor": "white",
           "ticks": "",
           "title": {
            "standoff": 15
           },
           "zerolinecolor": "white",
           "zerolinewidth": 2
          }
         }
        }
       }
      },
      "text/html": [
       "<div>                            <div id=\"63c57a95-cbe2-4467-95d4-cf1efa98d82a\" class=\"plotly-graph-div\" style=\"height:525px; width:100%;\"></div>            <script type=\"text/javascript\">                require([\"plotly\"], function(Plotly) {                    window.PLOTLYENV=window.PLOTLYENV || {};                                    if (document.getElementById(\"63c57a95-cbe2-4467-95d4-cf1efa98d82a\")) {                    Plotly.newPlot(                        \"63c57a95-cbe2-4467-95d4-cf1efa98d82a\",                        [{\"marker\":{\"color\":[-0.3644308154569363,-0.41803209909557865,1.39334085491385,0.29736168641844973,0.2791967123261525,0.4428350759174556,-0.39919394549705534,-0.7273717557352541,-0.2963266463937946,0.8282278683317978,0.0019079071257594655,0.4058724047408842,-0.3596071319900736,-0.361005267744254,0.841143851639136,-0.5193934509911002,-0.22872909039345812,-0.6346718191618682,-0.00758513377257968,-1.1942217829076454,-0.2753696702074267,-0.478877495049613,0.6211846828860116,0.11047017370066363,-0.9101817760128244,1.3523845114706645,-0.7549989055470935,-1.229865444823115,-0.42713764413873756,0.26866371219651414,0.21207757155682352,-0.22139628478757584,0.9662599988464107,1.8520221829046415,1.1874914523177376,-0.7206670846087708,0.24204115305130977,0.7181392531075139,-0.161457055484169,1.6323464540963823,1.79176570276936,0.030278315744767297,0.41912413405687493,-0.006813614247226312,0.16413219445039134,-0.4850578014417498,-1.7295488866413333,-0.24284144376388997,0.6046871659095239,0.10831052922942186,-0.39374504606753713,2.434561482208777,-0.989679287005295,0.018032007596810787,-0.7096768133782704,-0.7558487640886173,-0.10882613163692795,-0.05661927668925281,-2.548207037899557,0.505692785828223,-0.7465937976918718,-1.1406228604682234,-0.10560417556858621,1.104032369429107,0.10642555962324286,0.9446133037431771,1.8213977387039448,0.8324614155194455,-0.4428905821191282,-0.998915562123273,0.3672641856602215,1.9893306769193004,0.29426515165674777,1.1913621575519935,0.2862129747387421,-0.9521905603466324,0.06288118759875704,-1.531724732657815,0.10207078339499515,-0.6577632070724663,0.6875814807216829,1.064612898501274,0.9511439090410286,0.03322554287259122,-0.6667914899224616,-0.5384568565396729,-0.9350476022064738,2.4149312326522914,1.1756240308212107,-1.2295325632863983,-0.7769182982513759,-0.8966600674452252,-0.3600941230631426,-2.1013771422093046,0.2794868401408206,0.8068501481405175,-1.5642617203832105,1.9202291581120263,-0.8363887867812961,-2.9612469657900546,-0.9601966018461772,-0.2472741653342483,-1.273387633949329,-0.930131149261451,-1.1913428501914964,0.9646529640519096,-0.39783260603046205,1.2653681069453604,-0.29244059590956545,-1.3880922815479417,-0.30758599582020035,-0.6449883663355505,-0.5496641930015487,0.4709158695140367,-0.7150670024790711,-1.1199312245944395,1.3618076590155674,0.1901362003382748,1.2632899328308902,0.9753625339508627,-0.5658540300945482,-1.31947933117411,0.12318771600961144,0.8925671257617644,-1.5708137668026456,1.6084346876508164,-0.7889835104625452,0.7675729242049604,0.1837029481263042,0.28199788929013353,0.967824690671177,-0.3869091740448143,-0.9377260085960857,0.5169206934307234,1.136785317214482,0.6247289570538664,-1.4014015033481406,0.6589958101812942,0.2401339646938861,-0.11571794452997011,0.8575031671207562,0.9861350670442587,-0.936649449627523,1.047980992629383,-0.8359267362115486,-0.018397439645703163,-0.6215713697675358,-0.5335322054021971,1.6446784126157836,-0.983411160433692,0.5224616451101579,1.9473595822350822,0.17809372330573484,0.25141596470535965,-1.605935078428288,-0.33788200460646706,1.7797541307029376,1.0200594311231062,1.1183998042048764,1.2495895363684728,0.19897011022412622,1.5207912461139108,-1.2325008444737284,0.35122003213335823,1.8237757678279556,0.4865417471899396,-1.202782520827198,-0.4416689246136523,1.6139387421511757,-1.6831710095149726,-0.5369927005665366,-1.452350517609267,-1.8870196065240539,0.5989858025127867,-0.830012237986374,0.5218257815883632,0.9767944321949236,-0.23528644306777066,-1.3692661616437738,-2.0487790651252493,0.61148459651057,1.1053344846759092,0.32482970925253196,0.6967604320915304,0.49365397113140796,-0.7618494611872115,0.5173798316702594,1.1733946635376167,-1.1144428872195495,0.29878970469976507,-0.12431264236595152,-1.819986162809064,-1.3234164930575165,-0.4993234144082034,0.25646955643217867,0.02242456497105803,-0.8769827072929768,1.3048679062334365,0.12306302418702154,-1.5199501571998044,0.03657379881504155,-2.68752555500208,-1.6778589440466687,0.4493428999426252,0.5894561492882627,-1.0946841565942256,-0.07495897133928037,-0.5396390148191795,0.4729862013128472,-0.4501176802195515,0.08204921073262607,0.38675031076017713,-1.7129501975166896,3.2320540251744974,-0.17582925060925392,-0.45295838781267295,-0.12012478561710202,-0.4045599422079311,2.441836280781842,-2.1713705799350724,1.1869209131021465,-0.09733553202354045,0.3764788722572317,1.4070088692063456,-0.2838512807614412,-1.5032412770528858,1.2360221998563306,0.9252220991503696,-0.17460569522631242,-0.6140212467339597,0.32914255494660144,-0.43821162084302595,2.8702656614311497,0.9317245507060958,1.7325385516521932,-0.08623503201251799,-0.9879506650147074,-0.49838564568536753,-0.11182933584621149,1.9088088802291943,1.643650539097162,0.42290409716381255,-0.15726666947918258,0.2929710691001834,0.41633866422529625,-0.9230258752367111,1.1313774629808342,0.24955040863838482,-1.676398247964803,0.17060321630889433,0.9377581890871096,0.0411106361574988,-1.7663171551499408,0.4808917557957996,1.0829518251651622,1.755524271086787,-0.2817728828968483,-1.0369490017350678,1.5117262574300303,-1.7758814149891757,1.2466867733231424,0.18802615468660833,0.24121503642922848,0.22350419685910433,0.7671836904775265,-0.4717785623553537,-0.429854689275281,0.461243007663414,-1.1524079935868103,1.3377374558888133,1.0096727190882233,-1.0635086767406163,-2.0238349732032272,0.030680595571317287,-0.9499185910126655,1.065061254815811,-0.3979606435100882,1.1687336872005327,-0.37142026159372094,1.2589380064221296,0.31740588301366324,-1.2083287627165709,0.6455178695626629,0.7918098809004721,0.9193875805107364,-0.8571977917801534,-0.3248353524779615,0.3029384220174246,-1.4312244362117568,0.9815067760233611,-1.887422973432038,1.607317250100789,-1.9076011915759135,-0.43544334823042613,-0.7579176800437548,-0.28122150106539073,-0.7631769127510921,0.893202519734317,0.7289809927612165,-0.5132272849183749,0.47675789128525503,-0.6818989130295992,-0.36172381810150384,0.14441524299271977,0.1923884181916678,0.01778721311860601,-0.32958612110159163,-0.38441279577164794,1.0302178058730427,-0.22499013403609505,0.8215757018993463,0.5658583358214452,-0.4599954279978621,1.4934358340673752,1.2641409718413652,-0.5172286392715888,-1.652338562604114,-0.2530281128827647,-1.2433868692641514,1.309457610790012,0.2484064279161356,0.6567316171978501,-0.5779839882499173,-0.5111987786052316,0.43878322185649826,-1.049151041465672,-2.6860208079542067,0.1413585359068669,0.7024149187130191,0.5536418416314376,0.06941725939337672,-0.7379645354969241,-1.1096545907494724,-0.8920280161423362,-0.8930895261228562,0.47484762555825066,1.0651534135028071,0.01894661546006218,1.2908715972014466,-1.8233254020343894,1.2962525448972562,1.325530337138876,0.004693150891099306,0.037234403034347614,-0.8369499808446296,0.6195528159000295,-0.8925798071370143,0.3309708204031793,0.3258742625398687,0.1871543936465514,-0.28101585613891295,1.6033991650331134,-0.6565044906938204,-0.6445293527642298,2.3996459090421784,-1.2266637156558455,-0.7152066878260637,-0.13727545197620541,-0.0693053793867743,-0.33654023095223073,0.8284348381798972,0.01683141245119719,-0.4309587682900378,0.7876991359555874,1.466300336714693,-0.9739501724225611,0.05756993319374166,-0.7973924294294189,-0.596638254109719,-0.4217008640849794,1.201605403938169,0.825239982825256,0.8437413771202253,-0.2452122803435336,1.608702449798844,0.4632979553882283,-0.3395896864590399,-0.9445913115822975,1.555398569929683,-0.43297114194021513,-0.12767981474723403,0.3984353379076281,-0.5117924615536552,1.8893457715092057,-0.48001748554177104,-1.6680982020369126,1.006743113864107,0.39806072229939155,0.6990541527617369,0.36052576436082456,-1.2887499982348511,-0.978420313025937,-0.7122146669516124,-0.17020259578413513,0.6181310884737764,-1.1490918150088205,-1.0499526073432175,-0.23024697039257033,1.029581373816401,-3.143270835267237,1.080296342054787,0.07221265355175133,0.401541807470362,1.9004392570305615,1.8341450705784985,0.45976248923288526,-1.4314743062073116,-1.311251053776317,0.19607287919531102,-1.1309211737813873,0.10834463003565926,-0.9205650695871003,-0.19372269918627807,-0.5079059044804988,0.6126955589030592,-0.7077351461838545,1.322993835905587,1.5518178727021597,-0.16955333033600148,0.19649734949805572,0.9444598120072586,0.6235139235282285,0.8241094657063173,-1.8331955329425709,0.4007003155516895,1.2754213988903416,0.514759685776309,1.6457489528878348,-1.7937826357356523,-1.1203503896786315,2.1797900215824573,-0.6231864637109694,-1.045720160089938,-0.49511865561961366,0.5542610527338213,-0.8639469124751106,-0.01957489409766445,-0.25207278141319905,0.22473801887290773,0.3897102616012615,-0.6810207553004992,0.063515594465523,0.4006991659699849,0.03781925177978431,0.9854932476372418,0.5253159824455511,-0.6458287914759714,0.6714891649032227,-1.7473452423440023,-0.1559357556974915,0.27343521916772434,-0.12870838605949808,0.618656604827302,1.6629737929685933,1.347097866419956,-0.513749676913393,-1.023361686332067,0.6260975845675569,-0.6699066042640396,1.5441263332361848,1.3436780812430704,-0.3542469863321806,-1.5633905191150999,0.29787892008806305,-0.054187435833246284,0.989321074746467,-0.47629795891846183,-0.3217825492126579,-0.8350625802569231,0.2714278470222853,-1.2377322098302534,1.5824565383568834,0.9963030708202671,0.8603660878762625,0.02251566919356172,-0.8868241886147599,-0.6974609305166434,-0.8055696905887325,-0.13504389316578375,0.10433715170064624,-0.8852054869562083,0.24919901654143228,-1.3087481642283019,1.1630579616410366,0.19710546093582812,-0.14176803074285688,-0.49288333582104343,0.98104961810833,-0.032423833231716985,-0.6905301800736803,1.3038669863557175,0.776611658568347,0.3326912129472095,-0.7698032731105275,1.029798995795525,1.3331664288404432,1.1554253880824532,-0.9302887958292273,1.5465390353693773,-0.053803734283417864],\"colorscale\":[[0.0,\"#440154\"],[0.1111111111111111,\"#482878\"],[0.2222222222222222,\"#3e4989\"],[0.3333333333333333,\"#31688e\"],[0.4444444444444444,\"#26828e\"],[0.5555555555555556,\"#1f9e89\"],[0.6666666666666666,\"#35b779\"],[0.7777777777777778,\"#6ece58\"],[0.8888888888888888,\"#b5de2b\"],[1.0,\"#fde725\"]],\"showscale\":true,\"size\":16},\"mode\":\"markers\",\"y\":[-0.12526782877184636,-1.18989928806839,-2.241725055052508,-0.2940922140518894,0.10291889963566289,0.20890037245615964,0.06260120618469855,-0.15787502632820014,0.708485609196694,1.4763704076272237,1.0398344854507264,0.6447885077077314,-0.5269755183711524,-2.9282781658634778,0.5552279010303933,-0.00785223338292694,-0.7118477169104477,1.0941747107752673,0.2242801205228388,-1.1654472901207007,-0.5273090721027162,-0.01757121146801089,0.9289953248838989,0.42511225151319115,1.0289989109179678,-1.2498067639327237,-0.6164417249410089,-0.24799036231882748,0.27072233928252654,-1.6054479641977413,-0.20021601089001514,1.282215489172556,0.8173605713228443,0.8155298351716834,0.6577079253004422,0.4500514093764989,0.6067497731680205,1.2009923615365052,1.4004546249599392,-0.009232981701216605,2.0350318081745895,0.1379923928487006,0.34899593270986545,-0.04783132548635705,0.8090867161331836,-1.5325705106458514,1.7699891246080528,1.845186478928992,2.002272904484808,-0.5105932533060268,1.020497324943734,-0.7385660362092685,1.8319102167096393,-0.37892301788232097,0.6940582233553757,-0.5846887008076452,0.6304259514478584,-0.08677301549571834,1.3085349396908574,-0.3840902890913414,0.39099109025606293,1.9773607303313943,0.6390989708984067,-2.3244904168117264,-0.41746315476697793,-0.9526234773192896,-0.6200039219431849,-0.15806697965634245,1.0065190659827272,1.2629507516957708,0.5382940080445444,-1.4290876195045956,-0.15349877021518657,0.36399156548938527,-1.1015936425534156,-0.5537605779200935,-0.46410901805479926,0.9756325025730631,-1.6276713672200929,-0.010527610054418284,0.8205387499199273,0.006688167411686289,1.3755528666390173,-0.18104335941353325,-0.6530877286400817,0.10907702160907892,-0.2023645816729004,-0.286715852916933,-0.2995867044158567,-1.5206616897269853,0.18936649587946375,0.266365735890138,0.2054265249481331,-1.29643090079845,1.1748008573589537,-1.2571994430445683,-0.38864159833634626,-1.5812922091731563,0.22723625438839537,0.11148438094231873,0.34292529477763445,-0.8366638486955873,0.965145120033548,0.8933244086419374,0.19674921914069363,1.4147181593469136,0.8823907390906209,-1.7329334509070373,0.03232013205687864,-0.9496176365063771,-0.6921130133855314,-0.6507965744706801,0.41276406607896526,-0.4994950598694617,1.1293824973278137,1.3131179524382315,0.5456286534784207,0.06700912455629317,-0.12799878437099946,0.29076859655700193,1.581083427083927,-0.9085278127855511,-1.210329393443854,-1.1148652272938528,-0.5931455171733615,1.1176622014605386,-0.3151688618105929,-0.0942065268073907,0.7763356295413019,-0.3449074774071195,-0.6604184272746857,-2.18739432632563,-0.38318035095120695,-1.1250422038689158,-0.8057406649324677,1.50068067222072,-1.1852010816116647,-1.67709202150115,1.23357841874422,0.1995523986311601,1.9611568179558663,0.24236519534915527,-0.46242948647736987,-0.374064233300656,-0.5702316199561559,-0.07588485152031524,0.6243456257704524,-0.29467166744799883,1.0781161017775311,0.889764857434746,-0.6967355872667331,0.13235579772835682,0.7599893660142588,0.5984372421808036,-0.5530568392259884,0.9788845098611262,0.3090466388480345,0.6896663466078776,-0.6262994391781899,-0.24859792320086727,-1.0800695374952984,0.9593747782928564,-1.0353148172691478,-1.1861729654847344,2.0740717345600803,1.0700392569473276,1.4716825511871927,-0.5891432969331993,0.09634248597661478,-1.1150608755563756,-1.4861910528391127,-0.9881493192175294,-0.6747244203040639,1.1480017871433335,2.325634688899698,0.4298721643564677,-0.9417787562635774,-0.6363246955191878,0.13102258780495618,0.9255481737932569,1.6763850375982317,1.0914934759480224,0.6170778444329662,1.8482506264420986,1.393630386232975,-0.5971500061581473,-2.0163406233731833,0.7362010871917453,1.4590016991584438,-1.6575763971643944,2.9386110063366853,0.09856520315252436,-2.7954953337035473,-0.3934986584235207,0.4593409451083642,-0.9585579191264303,-0.3657262233683259,0.40358765800445884,0.5067938422556384,0.4029021666543566,0.6453997616566702,-1.2202415800430564,-0.6364712431135998,-0.8890591065987999,0.36855803830231354,-1.155066014736322,0.44975159750198906,-0.24233455765673526,-0.28523854662301196,0.2421775767988788,-0.2509171592382038,-0.701268660189063,0.5947436507577627,-0.39607529877268116,-0.8939242791456579,-0.2979951314120435,1.9207768555560734,0.5207735043744598,-0.8609741306546261,0.3069116956711015,-0.4034538665875803,-0.9821194469536535,-1.217689445990623,0.6249093700551199,-0.461225730022847,1.4423192277546788,0.022331509903232256,0.038514717931879494,0.829975383281374,0.6753802085269137,-1.1175738204430588,-1.768144812316006,-0.48567145591222616,-1.2719695825971329,1.1464458213218518,0.2676209168743017,1.7821208900912013,-0.4079710651761721,0.3714791041221009,-0.4538956822550926,-0.6545135659240767,-0.7459689258658695,0.9159815086218649,1.8964507126971966,0.6355284763156875,-0.4515828410662757,-0.4781284726796098,-0.11931041678257161,1.0845732715215024,0.08165217834549147,-1.1163779973562789,-0.048678083136923525,1.2990876591599234,1.664913702467722,0.5172074914319358,0.96216769537161,-1.1587538962532862,-0.5499403602093377,1.8828642907636244,-0.32945460567536566,2.5708774968685777,-0.017667082163568527,-1.4069053592189718,-0.71335846825042,-0.17229520165361684,-0.9729126421262504,0.6264821915143611,1.6534948931458888,0.6455601708525073,0.16770386642650267,-0.03164201181732798,-0.9551954542373227,-0.23103297826628474,0.06078937983240018,0.7247307077730674,1.7153387901906239,-1.1507542374645428,0.6618520711579722,-0.6925477545868713,0.5411476324101707,0.3441945879083298,-0.2942288125119296,0.2274278542054188,0.9810013164735939,0.6658889740261811,-0.5805426422636035,-1.6419125981948566,0.4089238016120082,-0.4490480675826321,-0.5197548944766235,1.0677658185069088,-2.308039950899145,-0.8402531940948429,-0.7600305395720973,0.7690014436700157,-2.5535975690331343,-0.012422496637865564,-0.1958909871350288,1.4680948824439641,0.5594147562878544,1.2604372373064743,-0.17751063424773647,-0.8248976203865807,-0.5153152853554368,-1.2229368668683913,-0.9062022835689449,1.4283092031203197,-0.42074584821268435,2.460292585512518,-2.729078744693676,2.177665900885819,-1.4524876885697062,-0.09669492821859202,1.6998346659923786,-1.2557943379315841,-1.2487176565748719,0.7280417739529338,-0.6798347588776807,-1.0274069710140588,1.171544737107199,0.8150725424064373,1.05600670295384,1.2697046373078835,-0.05867965714081592,-0.7639434365293647,-1.529153330971903,0.7289073977311818,-0.042498266582360215,-0.9768960164234733,0.2332964641869787,-0.5040965272893251,0.4268458510527357,0.6318457685605813,0.8257464592567219,1.114923862570611,1.116993515331135,0.5747307087820517,-1.475209035720412,-0.49596652144060177,1.3989705317630545,-0.48038837151406855,-0.555305438010248,0.4055486793109191,-2.608706033560846,1.51545116906747,-1.6706184910065305,-0.8404419886590851,-0.351780178851357,-0.8257952501405648,-2.7453332323068094,-0.17171533747351053,-2.22932850901441,0.9147847888412879,0.04566372490361305,-1.2121484910794194,1.34315135920873,0.02804107346809988,-0.1990886424567009,0.5740341820231306,-0.7894237012200545,1.610831897318957,-0.32443670822472703,-0.6627724761141487,0.8179728176592935,0.2268544195099998,1.7012442285053684,0.8740290085522737,-0.939571557477174,-0.14032529079389974,-0.14007272414792893,1.524259887937162,0.777901743878943,-0.08281867271779425,-0.9251324013849183,0.6864460104116266,-1.992880656604939,1.521517448047653,0.9982615273033439,0.3405013618165641,-0.12052424126529744,-0.6213407335046348,-0.8389629853279968,0.3014013450254846,-0.08956019123410701,1.1349445909763658,1.0130151369272022,-1.2794550434107281,2.5497319909469507,0.44498025612909925,0.3018427678410942,-0.49094236428966537,0.8488535031476141,0.3027676059653813,0.29570190338910995,1.2706484293845477,-1.1108321710678013,0.8499130033969967,-0.27884016770429493,1.4189968247113363,-0.7352299697095964,-1.002755530576337,0.5877363252537406,-0.6107386660686367,1.3430446673661225,1.06899759311452,-0.5116552557136068,-1.208032626849626,-1.2692213201724747,0.01546348420712085,0.6351518972386873,1.0758698119494547,-0.09073011213138778,0.795421107606084,0.6221692783371945,1.384655312376128,-0.3501157466539596,-1.161192386176347,-0.025938746989306368,-0.35747770785068134,-0.5688153514652937,0.9496429232944213,-1.1644428928527235,1.6324286228974982,1.2860112018545777,-0.6397266708481033,-0.47450807710318965,-1.1228026423240218,1.1599341704402353,-0.18366698187499908,0.16045382300730354,-1.1006644145409645,2.4977051159176047,-0.9344422994577313,-0.10345712637343672,1.1697844870625853,-0.5430804938479717,-0.10413968367364738,-1.0091864383432787,-0.5620706016232224,-0.5676464826875096,1.6558062097201807,0.03245947529969758,0.5454978028456463,-0.43259954891038827,0.012835901734935432,0.7079993853589788,0.04597695353625058,-0.8896090429519894,-0.7320228913058446,-0.2694164958651792,-0.6659202611293041,0.7181887165391314,-0.8663871859765021,0.867874188276865,-0.010915118469415676,-0.2405468557235379,-0.6474627565966746,0.8262010849253567,-0.43560802303695617,0.13038529611396685,-1.0990734116178507,2.773424279694192,-1.5777239773993477,-0.5878315915787306,0.5894110890204973,1.5155079404015293,1.0291620957255598,1.574498934866034,-2.950254890471563,-0.3412806838533619,0.15987419977475908,-1.322677994771409,-0.08914468273394385,-0.31302255350346325,0.9461328015959436,-1.1275255234851993,1.2879333536907374,-1.953803710303426,0.37480584662533534,0.5410668444837899,0.06953890369263817,-1.5155829113623558,0.22454678242926676,-1.2910613863166773,3.3752659797423745,-2.101676717454983,0.9546395889111297,-0.27318536218596273,1.0474467743052205,0.9989950962600384,0.7309300390880589,-1.1199639026388952,0.2182005040692293,1.5938919933567945,-1.198986227275111,-0.28907068128976854,-0.7479899283809763,0.9721278206494897,-1.1007813947263934,0.013864378358197678],\"type\":\"scatter\"}],                        {\"template\":{\"data\":{\"bar\":[{\"error_x\":{\"color\":\"#2a3f5f\"},\"error_y\":{\"color\":\"#2a3f5f\"},\"marker\":{\"line\":{\"color\":\"#E5ECF6\",\"width\":0.5},\"pattern\":{\"fillmode\":\"overlay\",\"size\":10,\"solidity\":0.2}},\"type\":\"bar\"}],\"barpolar\":[{\"marker\":{\"line\":{\"color\":\"#E5ECF6\",\"width\":0.5},\"pattern\":{\"fillmode\":\"overlay\",\"size\":10,\"solidity\":0.2}},\"type\":\"barpolar\"}],\"carpet\":[{\"aaxis\":{\"endlinecolor\":\"#2a3f5f\",\"gridcolor\":\"white\",\"linecolor\":\"white\",\"minorgridcolor\":\"white\",\"startlinecolor\":\"#2a3f5f\"},\"baxis\":{\"endlinecolor\":\"#2a3f5f\",\"gridcolor\":\"white\",\"linecolor\":\"white\",\"minorgridcolor\":\"white\",\"startlinecolor\":\"#2a3f5f\"},\"type\":\"carpet\"}],\"choropleth\":[{\"colorbar\":{\"outlinewidth\":0,\"ticks\":\"\"},\"type\":\"choropleth\"}],\"contour\":[{\"colorbar\":{\"outlinewidth\":0,\"ticks\":\"\"},\"colorscale\":[[0.0,\"#0d0887\"],[0.1111111111111111,\"#46039f\"],[0.2222222222222222,\"#7201a8\"],[0.3333333333333333,\"#9c179e\"],[0.4444444444444444,\"#bd3786\"],[0.5555555555555556,\"#d8576b\"],[0.6666666666666666,\"#ed7953\"],[0.7777777777777778,\"#fb9f3a\"],[0.8888888888888888,\"#fdca26\"],[1.0,\"#f0f921\"]],\"type\":\"contour\"}],\"contourcarpet\":[{\"colorbar\":{\"outlinewidth\":0,\"ticks\":\"\"},\"type\":\"contourcarpet\"}],\"heatmap\":[{\"colorbar\":{\"outlinewidth\":0,\"ticks\":\"\"},\"colorscale\":[[0.0,\"#0d0887\"],[0.1111111111111111,\"#46039f\"],[0.2222222222222222,\"#7201a8\"],[0.3333333333333333,\"#9c179e\"],[0.4444444444444444,\"#bd3786\"],[0.5555555555555556,\"#d8576b\"],[0.6666666666666666,\"#ed7953\"],[0.7777777777777778,\"#fb9f3a\"],[0.8888888888888888,\"#fdca26\"],[1.0,\"#f0f921\"]],\"type\":\"heatmap\"}],\"heatmapgl\":[{\"colorbar\":{\"outlinewidth\":0,\"ticks\":\"\"},\"colorscale\":[[0.0,\"#0d0887\"],[0.1111111111111111,\"#46039f\"],[0.2222222222222222,\"#7201a8\"],[0.3333333333333333,\"#9c179e\"],[0.4444444444444444,\"#bd3786\"],[0.5555555555555556,\"#d8576b\"],[0.6666666666666666,\"#ed7953\"],[0.7777777777777778,\"#fb9f3a\"],[0.8888888888888888,\"#fdca26\"],[1.0,\"#f0f921\"]],\"type\":\"heatmapgl\"}],\"histogram\":[{\"marker\":{\"pattern\":{\"fillmode\":\"overlay\",\"size\":10,\"solidity\":0.2}},\"type\":\"histogram\"}],\"histogram2d\":[{\"colorbar\":{\"outlinewidth\":0,\"ticks\":\"\"},\"colorscale\":[[0.0,\"#0d0887\"],[0.1111111111111111,\"#46039f\"],[0.2222222222222222,\"#7201a8\"],[0.3333333333333333,\"#9c179e\"],[0.4444444444444444,\"#bd3786\"],[0.5555555555555556,\"#d8576b\"],[0.6666666666666666,\"#ed7953\"],[0.7777777777777778,\"#fb9f3a\"],[0.8888888888888888,\"#fdca26\"],[1.0,\"#f0f921\"]],\"type\":\"histogram2d\"}],\"histogram2dcontour\":[{\"colorbar\":{\"outlinewidth\":0,\"ticks\":\"\"},\"colorscale\":[[0.0,\"#0d0887\"],[0.1111111111111111,\"#46039f\"],[0.2222222222222222,\"#7201a8\"],[0.3333333333333333,\"#9c179e\"],[0.4444444444444444,\"#bd3786\"],[0.5555555555555556,\"#d8576b\"],[0.6666666666666666,\"#ed7953\"],[0.7777777777777778,\"#fb9f3a\"],[0.8888888888888888,\"#fdca26\"],[1.0,\"#f0f921\"]],\"type\":\"histogram2dcontour\"}],\"mesh3d\":[{\"colorbar\":{\"outlinewidth\":0,\"ticks\":\"\"},\"type\":\"mesh3d\"}],\"parcoords\":[{\"line\":{\"colorbar\":{\"outlinewidth\":0,\"ticks\":\"\"}},\"type\":\"parcoords\"}],\"pie\":[{\"automargin\":true,\"type\":\"pie\"}],\"scatter\":[{\"marker\":{\"colorbar\":{\"outlinewidth\":0,\"ticks\":\"\"}},\"type\":\"scatter\"}],\"scatter3d\":[{\"line\":{\"colorbar\":{\"outlinewidth\":0,\"ticks\":\"\"}},\"marker\":{\"colorbar\":{\"outlinewidth\":0,\"ticks\":\"\"}},\"type\":\"scatter3d\"}],\"scattercarpet\":[{\"marker\":{\"colorbar\":{\"outlinewidth\":0,\"ticks\":\"\"}},\"type\":\"scattercarpet\"}],\"scattergeo\":[{\"marker\":{\"colorbar\":{\"outlinewidth\":0,\"ticks\":\"\"}},\"type\":\"scattergeo\"}],\"scattergl\":[{\"marker\":{\"colorbar\":{\"outlinewidth\":0,\"ticks\":\"\"}},\"type\":\"scattergl\"}],\"scattermapbox\":[{\"marker\":{\"colorbar\":{\"outlinewidth\":0,\"ticks\":\"\"}},\"type\":\"scattermapbox\"}],\"scatterpolar\":[{\"marker\":{\"colorbar\":{\"outlinewidth\":0,\"ticks\":\"\"}},\"type\":\"scatterpolar\"}],\"scatterpolargl\":[{\"marker\":{\"colorbar\":{\"outlinewidth\":0,\"ticks\":\"\"}},\"type\":\"scatterpolargl\"}],\"scatterternary\":[{\"marker\":{\"colorbar\":{\"outlinewidth\":0,\"ticks\":\"\"}},\"type\":\"scatterternary\"}],\"surface\":[{\"colorbar\":{\"outlinewidth\":0,\"ticks\":\"\"},\"colorscale\":[[0.0,\"#0d0887\"],[0.1111111111111111,\"#46039f\"],[0.2222222222222222,\"#7201a8\"],[0.3333333333333333,\"#9c179e\"],[0.4444444444444444,\"#bd3786\"],[0.5555555555555556,\"#d8576b\"],[0.6666666666666666,\"#ed7953\"],[0.7777777777777778,\"#fb9f3a\"],[0.8888888888888888,\"#fdca26\"],[1.0,\"#f0f921\"]],\"type\":\"surface\"}],\"table\":[{\"cells\":{\"fill\":{\"color\":\"#EBF0F8\"},\"line\":{\"color\":\"white\"}},\"header\":{\"fill\":{\"color\":\"#C8D4E3\"},\"line\":{\"color\":\"white\"}},\"type\":\"table\"}]},\"layout\":{\"annotationdefaults\":{\"arrowcolor\":\"#2a3f5f\",\"arrowhead\":0,\"arrowwidth\":1},\"autotypenumbers\":\"strict\",\"coloraxis\":{\"colorbar\":{\"outlinewidth\":0,\"ticks\":\"\"}},\"colorscale\":{\"diverging\":[[0,\"#8e0152\"],[0.1,\"#c51b7d\"],[0.2,\"#de77ae\"],[0.3,\"#f1b6da\"],[0.4,\"#fde0ef\"],[0.5,\"#f7f7f7\"],[0.6,\"#e6f5d0\"],[0.7,\"#b8e186\"],[0.8,\"#7fbc41\"],[0.9,\"#4d9221\"],[1,\"#276419\"]],\"sequential\":[[0.0,\"#0d0887\"],[0.1111111111111111,\"#46039f\"],[0.2222222222222222,\"#7201a8\"],[0.3333333333333333,\"#9c179e\"],[0.4444444444444444,\"#bd3786\"],[0.5555555555555556,\"#d8576b\"],[0.6666666666666666,\"#ed7953\"],[0.7777777777777778,\"#fb9f3a\"],[0.8888888888888888,\"#fdca26\"],[1.0,\"#f0f921\"]],\"sequentialminus\":[[0.0,\"#0d0887\"],[0.1111111111111111,\"#46039f\"],[0.2222222222222222,\"#7201a8\"],[0.3333333333333333,\"#9c179e\"],[0.4444444444444444,\"#bd3786\"],[0.5555555555555556,\"#d8576b\"],[0.6666666666666666,\"#ed7953\"],[0.7777777777777778,\"#fb9f3a\"],[0.8888888888888888,\"#fdca26\"],[1.0,\"#f0f921\"]]},\"colorway\":[\"#636efa\",\"#EF553B\",\"#00cc96\",\"#ab63fa\",\"#FFA15A\",\"#19d3f3\",\"#FF6692\",\"#B6E880\",\"#FF97FF\",\"#FECB52\"],\"font\":{\"color\":\"#2a3f5f\"},\"geo\":{\"bgcolor\":\"white\",\"lakecolor\":\"white\",\"landcolor\":\"#E5ECF6\",\"showlakes\":true,\"showland\":true,\"subunitcolor\":\"white\"},\"hoverlabel\":{\"align\":\"left\"},\"hovermode\":\"closest\",\"mapbox\":{\"style\":\"light\"},\"paper_bgcolor\":\"white\",\"plot_bgcolor\":\"#E5ECF6\",\"polar\":{\"angularaxis\":{\"gridcolor\":\"white\",\"linecolor\":\"white\",\"ticks\":\"\"},\"bgcolor\":\"#E5ECF6\",\"radialaxis\":{\"gridcolor\":\"white\",\"linecolor\":\"white\",\"ticks\":\"\"}},\"scene\":{\"xaxis\":{\"backgroundcolor\":\"#E5ECF6\",\"gridcolor\":\"white\",\"gridwidth\":2,\"linecolor\":\"white\",\"showbackground\":true,\"ticks\":\"\",\"zerolinecolor\":\"white\"},\"yaxis\":{\"backgroundcolor\":\"#E5ECF6\",\"gridcolor\":\"white\",\"gridwidth\":2,\"linecolor\":\"white\",\"showbackground\":true,\"ticks\":\"\",\"zerolinecolor\":\"white\"},\"zaxis\":{\"backgroundcolor\":\"#E5ECF6\",\"gridcolor\":\"white\",\"gridwidth\":2,\"linecolor\":\"white\",\"showbackground\":true,\"ticks\":\"\",\"zerolinecolor\":\"white\"}},\"shapedefaults\":{\"line\":{\"color\":\"#2a3f5f\"}},\"ternary\":{\"aaxis\":{\"gridcolor\":\"white\",\"linecolor\":\"white\",\"ticks\":\"\"},\"baxis\":{\"gridcolor\":\"white\",\"linecolor\":\"white\",\"ticks\":\"\"},\"bgcolor\":\"#E5ECF6\",\"caxis\":{\"gridcolor\":\"white\",\"linecolor\":\"white\",\"ticks\":\"\"}},\"title\":{\"x\":0.05},\"xaxis\":{\"automargin\":true,\"gridcolor\":\"white\",\"linecolor\":\"white\",\"ticks\":\"\",\"title\":{\"standoff\":15},\"zerolinecolor\":\"white\",\"zerolinewidth\":2},\"yaxis\":{\"automargin\":true,\"gridcolor\":\"white\",\"linecolor\":\"white\",\"ticks\":\"\",\"title\":{\"standoff\":15},\"zerolinecolor\":\"white\",\"zerolinewidth\":2}}}},                        {\"responsive\": true}                    ).then(function(){\n",
       "                            \n",
       "var gd = document.getElementById('63c57a95-cbe2-4467-95d4-cf1efa98d82a');\n",
       "var x = new MutationObserver(function (mutations, observer) {{\n",
       "        var display = window.getComputedStyle(gd).display;\n",
       "        if (!display || display === 'none') {{\n",
       "            console.log([gd, 'removed!']);\n",
       "            Plotly.purge(gd);\n",
       "            observer.disconnect();\n",
       "        }}\n",
       "}});\n",
       "\n",
       "// Listen for the removal of the full notebook cells\n",
       "var notebookContainer = gd.closest('#notebook-container');\n",
       "if (notebookContainer) {{\n",
       "    x.observe(notebookContainer, {childList: true});\n",
       "}}\n",
       "\n",
       "// Listen for the clearing of the current output cell\n",
       "var outputEl = gd.closest('.output');\n",
       "if (outputEl) {{\n",
       "    x.observe(outputEl, {childList: true});\n",
       "}}\n",
       "\n",
       "                        })                };                });            </script>        </div>"
      ]
     },
     "metadata": {},
     "output_type": "display_data"
    }
   ],
   "source": [
    "import plotly.graph_objects as go\n",
    "import numpy as np\n",
    "\n",
    "fig = go.Figure(data=go.Scatter(\n",
    "    y = np.random.randn(500),\n",
    "    mode='markers',\n",
    "    marker=dict(\n",
    "        size=16,\n",
    "        color=np.random.randn(500), #set color equal to a variable\n",
    "        colorscale='Viridis', # one of plotly colorscales\n",
    "        showscale=True\n",
    "    )\n",
    "))\n",
    "\n",
    "fig.show()\n",
    "fig.write_html(\"test.html\")"
   ]
  },
  {
   "cell_type": "code",
   "execution_count": 46,
   "id": "0fdc8ac6-1523-4dda-9bd0-f2b45ccbc022",
   "metadata": {},
   "outputs": [
    {
     "data": {
      "text/plain": [
       "-4.656613e-10"
      ]
     },
     "execution_count": 46,
     "metadata": {},
     "output_type": "execute_result"
    }
   ],
   "source": [
    "(mp_data[\"Q_mass_in\"] - mp_data[\"Q_mass_out\"]).min()"
   ]
  },
  {
   "cell_type": "code",
   "execution_count": 28,
   "id": "d38a66df-8fa0-4a95-bce2-db245577376c",
   "metadata": {},
   "outputs": [
    {
     "data": {
      "text/plain": [
       "0.8081452944204697"
      ]
     },
     "execution_count": 28,
     "metadata": {},
     "output_type": "execute_result"
    }
   ],
   "source": [
    "np.count_nonzero((mp_data[\"Q_mass_in\"] - mp_data[\"Q_mass_out\"]) == 0) / mp_data.shape[0]"
   ]
  },
  {
   "cell_type": "code",
   "execution_count": 25,
   "id": "67b487d0-8acf-4d55-8b29-0b9f1ea3dc2e",
   "metadata": {},
   "outputs": [
    {
     "data": {
      "image/png": "[encoded data removed]",
      "text/plain": [
       "<Figure size 432x288 with 1 Axes>"
      ]
     },
     "metadata": {
      "needs_background": "light"
     },
     "output_type": "display_data"
    }
   ],
   "source": [
    "plt.hist(np.abs(mp_data[\"Q_mass_in\"] - mp_data[\"Q_mass_out\"]), bins=10)\n",
    "plt.gca().set_yscale(\"log\")"
   ]
  },
  {
   "cell_type": "code",
   "execution_count": 4,
   "id": "fefe2ad0-4df6-4d3d-a8ab-3b8a77a8095a",
   "metadata": {},
   "outputs": [],
   "source": [
    "def cloud_bins(diameters, lam_c, mu_c, nc):\n",
    "    return nc * lam_c ** (mu_c + 1) / gamma(mu_c + 1) * (diameters * 1e-2) ** mu_c * np.exp(-lam_c * diameters * 1e-2)\n",
    "\n",
    "def rain_bins(diameters, lam_r, n0r):\n",
    "    return n0r * np.exp(-lam_r * diameters * 1e-2)"
   ]
  },
  {
   "cell_type": "code",
   "execution_count": 7,
   "id": "0f4950b1-00e6-47fb-8360-92f429e598ac",
   "metadata": {},
   "outputs": [],
   "source": [
    "diams = np.zeros(36)\n",
    "diams[0] = 1.5625*2.e-4\n",
    "for i in range(1, diams.size):\n",
    "    diams[i] = diams[i-1] * 2"
   ]
  },
  {
   "cell_type": "code",
   "execution_count": 8,
   "id": "543323bd-4cf8-4e95-9872-a6f579503381",
   "metadata": {},
   "outputs": [],
   "source": [
    "diam_means = 0.5 * (diams[1:] + diams[:-1])"
   ]
  },
  {
   "cell_type": "code",
   "execution_count": 170,
   "id": "53a72d57-59aa-43c3-94a4-c07e1655ea55",
   "metadata": {},
   "outputs": [
    {
     "data": {
      "text/plain": [
       "array([False, False, False, False,  True,  True,  True,  True,  True,\n",
       "        True,  True,  True,  True,  True,  True,  True,  True,  True,\n",
       "        True,  True,  True,  True,  True,  True,  True,  True,  True,\n",
       "        True,  True,  True,  True,  True,  True,  True,  True,  True])"
      ]
     },
     "execution_count": 170,
     "metadata": {},
     "output_type": "execute_result"
    }
   ],
   "source": [
    "diams > 40e-4"
   ]
  },
  {
   "cell_type": "code",
   "execution_count": 57,
   "id": "5843f55b-82f6-4a83-84ef-ac4deb40515d",
   "metadata": {},
   "outputs": [
    {
     "data": {
      "text/plain": [
       "Index(['lat', 'lev', 'lon', 'P0', 'PS', 'depth', 'row', 'col', 'hyam', 'hybm',\n",
       "       'pressure', 'temperature', 'RHO_CLUBB_lev', 'RHO_CLUBB_top',\n",
       "       'RHO_CLUBB_bottom', 'QC_TAU_in', 'NC_TAU_in', 'QR_TAU_in', 'NR_TAU_in',\n",
       "       'lamc', 'lamr', 'lcldm', 'n0r', 'pgam', 'precip_frac', 'qctend_MG2',\n",
       "       'qctend_TAU', 'nctend_MG2', 'nctend_TAU', 'qrtend_MG2', 'qrtend_TAU',\n",
       "       'nrtend_MG2', 'nrtend_TAU', 'QC_TAU_out', 'NC_TAU_out', 'QR_TAU_out',\n",
       "       'NR_TAU_out', 'QC_MG2_out', 'NC_MG2_out', 'QR_MG2_out', 'NR_MG2_out',\n",
       "       'time', 'frac_mass', 'Q_mass_in', 'mass_diff_TAU', 'mass_diff_MG2',\n",
       "       'tend_diff_TAU', 'tend_diff_MG2'],\n",
       "      dtype='object')"
      ]
     },
     "execution_count": 57,
     "metadata": {},
     "output_type": "execute_result"
    }
   ],
   "source": [
    "mp_data.columns"
   ]
  },
  {
   "cell_type": "code",
   "execution_count": 195,
   "id": "5c74392f-acaf-4ae4-988b-6ec235c3bfe6",
   "metadata": {},
   "outputs": [
    {
     "data": {
      "text/plain": [
       "Text(0, 0.5, 'Number Concentration')"
      ]
     },
     "execution_count": 195,
     "metadata": {},
     "output_type": "execute_result"
    },
    {
     "data": {
      "image/png": "[encoded data removed]",
      "text/plain": [
       "<Figure size 432x288 with 1 Axes>"
      ]
     },
     "metadata": {
      "needs_background": "light"
     },
     "output_type": "display_data"
    }
   ],
   "source": [
    "q = 122031\n",
    "mp_data.loc[q]\n",
    "plt.plot(diam_means * 10, cloud_bins(diam_means, mp_data.loc[q, \"lamc\"], mp_data.loc[q, \"pgam\"], mp_data.loc[q, \"NC_TAU_in\"] * mp_data.loc[q, \"lcldm\"]), 'ko-')\n",
    "plt.plot(diam_means * 10, rain_bins(diam_means, mp_data.loc[q, \"lamr\"], mp_data.loc[q, \"n0r\"]), 'bo-')\n",
    "\n",
    "plt.gca().set_yscale(\"log\")\n",
    "plt.gca().set_xscale(\"log\")\n",
    "plt.plot(np.ones(10) * 40e-4 * 10, np.linspace(1e-20, 1e15, 10), 'k--', lw=0.5)\n",
    "plt.ylim(1e-20, 1e15)\n",
    "plt.xlim(1e-3, 1000)\n",
    "plt.xlabel(\"Drop Diameter (mm)\")\n",
    "plt.ylabel(\"Number Concentration\")"
   ]
  },
  {
   "cell_type": "code",
   "execution_count": 196,
   "id": "a932f025-0416-4ec6-ae47-9156e50ae162",
   "metadata": {},
   "outputs": [
    {
     "data": {
      "text/plain": [
       "Text(0.5, 0, 'Drop Diameter (mm)')"
      ]
     },
     "execution_count": 196,
     "metadata": {},
     "output_type": "execute_result"
    },
    {
     "data": {
      "image/png": "[encoded data removed]",
      "text/plain": [
       "<Figure size 432x288 with 1 Axes>"
      ]
     },
     "metadata": {
      "needs_background": "light"
     },
     "output_type": "display_data"
    }
   ],
   "source": [
    "c_nc = cloud_bins(diam_means, mp_data.loc[q, \"lamc\"], mp_data.loc[q, \"pgam\"], mp_data.loc[q, \"NC_TAU_in\"] * mp_data.loc[q, \"lcldm\"])\n",
    "c_nr = rain_bins(diam_means, mp_data.loc[q, \"lamr\"], mp_data.loc[q, \"n0r\"])\n",
    "c_mass = 4.0 / 3.0 * np.pi * (diam_means / 100 / 2) ** 3 * 1000 * c_nc * 1000\n",
    "r_mass = 4.0 / 3.0 * np.pi * (diam_means / 100 / 2) ** 3 * 1000 * c_nr * 1000\n",
    "plt.plot(diam_means * 10, c_mass, 'ko-')\n",
    "plt.plot(diam_means * 10, r_mass, 'bo-')\n",
    "plt.plot(np.ones(10) * 40e-4 * 10, np.linspace(1e-20, 1e15, 10), 'k--', lw=0.5)\n",
    "\n",
    "plt.gca().set_yscale(\"log\")\n",
    "plt.gca().set_xscale(\"log\")\n",
    "plt.ylim(1e-15, 1e6)\n",
    "plt.xlim(1e-3, 20)\n",
    "plt.xlabel(\"Drop Diameter (mm)\")\n"
   ]
  },
  {
   "cell_type": "code",
   "execution_count": 166,
   "id": "55c7d416-5f6f-4cd7-aab8-1dba71da25a6",
   "metadata": {},
   "outputs": [
    {
     "data": {
      "text/plain": [
       "0.27496233683925553"
      ]
     },
     "execution_count": 166,
     "metadata": {},
     "output_type": "execute_result"
    }
   ],
   "source": [
    "r_mass.max()"
   ]
  },
  {
   "cell_type": "code",
   "execution_count": 101,
   "id": "53cd6812-2d91-4a3e-a512-528624579be4",
   "metadata": {},
   "outputs": [
    {
     "data": {
      "text/plain": [
       "0.7000978424083298"
      ]
     },
     "execution_count": 101,
     "metadata": {},
     "output_type": "execute_result"
    }
   ],
   "source": [
    "np.count_nonzero(mp_data[\"pgam\"] > -100) / mp_data.shape[0]"
   ]
  },
  {
   "cell_type": "code",
   "execution_count": 205,
   "id": "2300c84b-7b9e-4bc7-b5d4-e419ca6b1a5f",
   "metadata": {},
   "outputs": [
    {
     "name": "stderr",
     "output_type": "stream",
     "text": [
      "/glade/work/dgagne/miniconda3/envs/mlmicro/lib/python3.8/site-packages/pandas/core/arraylike.py:364: RuntimeWarning: divide by zero encountered in log10\n",
      "  result = getattr(ufunc, method)(*inputs, **kwargs)\n"
     ]
    },
    {
     "ename": "ValueError",
     "evalue": "supplied range of [-inf, -2.497598171234131] is not finite",
     "output_type": "error",
     "traceback": [
      "\u001b[0;31m---------------------------------------------------------------------------\u001b[0m",
      "\u001b[0;31mValueError\u001b[0m                                Traceback (most recent call last)",
      "\u001b[0;32m/glade/scratch/dgagne/ipykernel_93669/586694854.py\u001b[0m in \u001b[0;36m<module>\u001b[0;34m\u001b[0m\n\u001b[0;32m----> 1\u001b[0;31m \u001b[0mnp\u001b[0m\u001b[0;34m.\u001b[0m\u001b[0mlog10\u001b[0m\u001b[0;34m(\u001b[0m\u001b[0mmp_data\u001b[0m\u001b[0;34m.\u001b[0m\u001b[0mloc\u001b[0m\u001b[0;34m[\u001b[0m\u001b[0mmp_data\u001b[0m\u001b[0;34m[\u001b[0m\u001b[0;34m\"pgam\"\u001b[0m\u001b[0;34m]\u001b[0m \u001b[0;34m<\u001b[0m \u001b[0;34m-\u001b[0m\u001b[0;36m1\u001b[0m\u001b[0;34m,\u001b[0m \u001b[0;34m\"QR_TAU_in\"\u001b[0m\u001b[0;34m]\u001b[0m\u001b[0;34m)\u001b[0m\u001b[0;34m.\u001b[0m\u001b[0mhist\u001b[0m\u001b[0;34m(\u001b[0m\u001b[0;34m)\u001b[0m\u001b[0;34m\u001b[0m\u001b[0;34m\u001b[0m\u001b[0m\n\u001b[0m",
      "\u001b[0;32m/glade/work/dgagne/miniconda3/envs/mlmicro/lib/python3.8/site-packages/pandas/plotting/_core.py\u001b[0m in \u001b[0;36mhist_series\u001b[0;34m(self, by, ax, grid, xlabelsize, xrot, ylabelsize, yrot, figsize, bins, backend, legend, **kwargs)\u001b[0m\n\u001b[1;32m     98\u001b[0m     \"\"\"\n\u001b[1;32m     99\u001b[0m     \u001b[0mplot_backend\u001b[0m \u001b[0;34m=\u001b[0m \u001b[0m_get_plot_backend\u001b[0m\u001b[0;34m(\u001b[0m\u001b[0mbackend\u001b[0m\u001b[0;34m)\u001b[0m\u001b[0;34m\u001b[0m\u001b[0;34m\u001b[0m\u001b[0m\n\u001b[0;32m--> 100\u001b[0;31m     return plot_backend.hist_series(\n\u001b[0m\u001b[1;32m    101\u001b[0m         \u001b[0mself\u001b[0m\u001b[0;34m,\u001b[0m\u001b[0;34m\u001b[0m\u001b[0;34m\u001b[0m\u001b[0m\n\u001b[1;32m    102\u001b[0m         \u001b[0mby\u001b[0m\u001b[0;34m=\u001b[0m\u001b[0mby\u001b[0m\u001b[0;34m,\u001b[0m\u001b[0;34m\u001b[0m\u001b[0;34m\u001b[0m\u001b[0m\n",
      "\u001b[0;32m/glade/work/dgagne/miniconda3/envs/mlmicro/lib/python3.8/site-packages/pandas/plotting/_matplotlib/hist.py\u001b[0m in \u001b[0;36mhist_series\u001b[0;34m(self, by, ax, grid, xlabelsize, xrot, ylabelsize, yrot, figsize, bins, legend, **kwds)\u001b[0m\n\u001b[1;32m    352\u001b[0m         \u001b[0;32mif\u001b[0m \u001b[0mlegend\u001b[0m\u001b[0;34m:\u001b[0m\u001b[0;34m\u001b[0m\u001b[0;34m\u001b[0m\u001b[0m\n\u001b[1;32m    353\u001b[0m             \u001b[0mkwds\u001b[0m\u001b[0;34m[\u001b[0m\u001b[0;34m\"label\"\u001b[0m\u001b[0;34m]\u001b[0m \u001b[0;34m=\u001b[0m \u001b[0mself\u001b[0m\u001b[0;34m.\u001b[0m\u001b[0mname\u001b[0m\u001b[0;34m\u001b[0m\u001b[0;34m\u001b[0m\u001b[0m\n\u001b[0;32m--> 354\u001b[0;31m         \u001b[0max\u001b[0m\u001b[0;34m.\u001b[0m\u001b[0mhist\u001b[0m\u001b[0;34m(\u001b[0m\u001b[0mvalues\u001b[0m\u001b[0;34m,\u001b[0m \u001b[0mbins\u001b[0m\u001b[0;34m=\u001b[0m\u001b[0mbins\u001b[0m\u001b[0;34m,\u001b[0m \u001b[0;34m**\u001b[0m\u001b[0mkwds\u001b[0m\u001b[0;34m)\u001b[0m\u001b[0;34m\u001b[0m\u001b[0;34m\u001b[0m\u001b[0m\n\u001b[0m\u001b[1;32m    355\u001b[0m         \u001b[0;32mif\u001b[0m \u001b[0mlegend\u001b[0m\u001b[0;34m:\u001b[0m\u001b[0;34m\u001b[0m\u001b[0;34m\u001b[0m\u001b[0m\n\u001b[1;32m    356\u001b[0m             \u001b[0max\u001b[0m\u001b[0;34m.\u001b[0m\u001b[0mlegend\u001b[0m\u001b[0;34m(\u001b[0m\u001b[0;34m)\u001b[0m\u001b[0;34m\u001b[0m\u001b[0;34m\u001b[0m\u001b[0m\n",
      "\u001b[0;32m/glade/work/dgagne/miniconda3/envs/mlmicro/lib/python3.8/site-packages/matplotlib/__init__.py\u001b[0m in \u001b[0;36minner\u001b[0;34m(ax, data, *args, **kwargs)\u001b[0m\n\u001b[1;32m   1359\u001b[0m     \u001b[0;32mdef\u001b[0m \u001b[0minner\u001b[0m\u001b[0;34m(\u001b[0m\u001b[0max\u001b[0m\u001b[0;34m,\u001b[0m \u001b[0;34m*\u001b[0m\u001b[0margs\u001b[0m\u001b[0;34m,\u001b[0m \u001b[0mdata\u001b[0m\u001b[0;34m=\u001b[0m\u001b[0;32mNone\u001b[0m\u001b[0;34m,\u001b[0m \u001b[0;34m**\u001b[0m\u001b[0mkwargs\u001b[0m\u001b[0;34m)\u001b[0m\u001b[0;34m:\u001b[0m\u001b[0;34m\u001b[0m\u001b[0;34m\u001b[0m\u001b[0m\n\u001b[1;32m   1360\u001b[0m         \u001b[0;32mif\u001b[0m \u001b[0mdata\u001b[0m \u001b[0;32mis\u001b[0m \u001b[0;32mNone\u001b[0m\u001b[0;34m:\u001b[0m\u001b[0;34m\u001b[0m\u001b[0;34m\u001b[0m\u001b[0m\n\u001b[0;32m-> 1361\u001b[0;31m             \u001b[0;32mreturn\u001b[0m \u001b[0mfunc\u001b[0m\u001b[0;34m(\u001b[0m\u001b[0max\u001b[0m\u001b[0;34m,\u001b[0m \u001b[0;34m*\u001b[0m\u001b[0mmap\u001b[0m\u001b[0;34m(\u001b[0m\u001b[0msanitize_sequence\u001b[0m\u001b[0;34m,\u001b[0m \u001b[0margs\u001b[0m\u001b[0;34m)\u001b[0m\u001b[0;34m,\u001b[0m \u001b[0;34m**\u001b[0m\u001b[0mkwargs\u001b[0m\u001b[0;34m)\u001b[0m\u001b[0;34m\u001b[0m\u001b[0;34m\u001b[0m\u001b[0m\n\u001b[0m\u001b[1;32m   1362\u001b[0m \u001b[0;34m\u001b[0m\u001b[0m\n\u001b[1;32m   1363\u001b[0m         \u001b[0mbound\u001b[0m \u001b[0;34m=\u001b[0m \u001b[0mnew_sig\u001b[0m\u001b[0;34m.\u001b[0m\u001b[0mbind\u001b[0m\u001b[0;34m(\u001b[0m\u001b[0max\u001b[0m\u001b[0;34m,\u001b[0m \u001b[0;34m*\u001b[0m\u001b[0margs\u001b[0m\u001b[0;34m,\u001b[0m \u001b[0;34m**\u001b[0m\u001b[0mkwargs\u001b[0m\u001b[0;34m)\u001b[0m\u001b[0;34m\u001b[0m\u001b[0;34m\u001b[0m\u001b[0m\n",
      "\u001b[0;32m/glade/work/dgagne/miniconda3/envs/mlmicro/lib/python3.8/site-packages/matplotlib/axes/_axes.py\u001b[0m in \u001b[0;36mhist\u001b[0;34m(self, x, bins, range, density, weights, cumulative, bottom, histtype, align, orientation, rwidth, log, color, label, stacked, **kwargs)\u001b[0m\n\u001b[1;32m   6757\u001b[0m             \u001b[0;31m# this will automatically overwrite bins,\u001b[0m\u001b[0;34m\u001b[0m\u001b[0;34m\u001b[0m\u001b[0;34m\u001b[0m\u001b[0m\n\u001b[1;32m   6758\u001b[0m             \u001b[0;31m# so that each histogram uses the same bins\u001b[0m\u001b[0;34m\u001b[0m\u001b[0;34m\u001b[0m\u001b[0;34m\u001b[0m\u001b[0m\n\u001b[0;32m-> 6759\u001b[0;31m             \u001b[0mm\u001b[0m\u001b[0;34m,\u001b[0m \u001b[0mbins\u001b[0m \u001b[0;34m=\u001b[0m \u001b[0mnp\u001b[0m\u001b[0;34m.\u001b[0m\u001b[0mhistogram\u001b[0m\u001b[0;34m(\u001b[0m\u001b[0mx\u001b[0m\u001b[0;34m[\u001b[0m\u001b[0mi\u001b[0m\u001b[0;34m]\u001b[0m\u001b[0;34m,\u001b[0m \u001b[0mbins\u001b[0m\u001b[0;34m,\u001b[0m \u001b[0mweights\u001b[0m\u001b[0;34m=\u001b[0m\u001b[0mw\u001b[0m\u001b[0;34m[\u001b[0m\u001b[0mi\u001b[0m\u001b[0;34m]\u001b[0m\u001b[0;34m,\u001b[0m \u001b[0;34m**\u001b[0m\u001b[0mhist_kwargs\u001b[0m\u001b[0;34m)\u001b[0m\u001b[0;34m\u001b[0m\u001b[0;34m\u001b[0m\u001b[0m\n\u001b[0m\u001b[1;32m   6760\u001b[0m             \u001b[0mtops\u001b[0m\u001b[0;34m.\u001b[0m\u001b[0mappend\u001b[0m\u001b[0;34m(\u001b[0m\u001b[0mm\u001b[0m\u001b[0;34m)\u001b[0m\u001b[0;34m\u001b[0m\u001b[0;34m\u001b[0m\u001b[0m\n\u001b[1;32m   6761\u001b[0m         \u001b[0mtops\u001b[0m \u001b[0;34m=\u001b[0m \u001b[0mnp\u001b[0m\u001b[0;34m.\u001b[0m\u001b[0marray\u001b[0m\u001b[0;34m(\u001b[0m\u001b[0mtops\u001b[0m\u001b[0;34m,\u001b[0m \u001b[0mfloat\u001b[0m\u001b[0;34m)\u001b[0m  \u001b[0;31m# causes problems later if it's an int\u001b[0m\u001b[0;34m\u001b[0m\u001b[0;34m\u001b[0m\u001b[0m\n",
      "\u001b[0;32m<__array_function__ internals>\u001b[0m in \u001b[0;36mhistogram\u001b[0;34m(*args, **kwargs)\u001b[0m\n",
      "\u001b[0;32m/glade/work/dgagne/miniconda3/envs/mlmicro/lib/python3.8/site-packages/numpy/lib/histograms.py\u001b[0m in \u001b[0;36mhistogram\u001b[0;34m(a, bins, range, normed, weights, density)\u001b[0m\n\u001b[1;32m    790\u001b[0m     \u001b[0ma\u001b[0m\u001b[0;34m,\u001b[0m \u001b[0mweights\u001b[0m \u001b[0;34m=\u001b[0m \u001b[0m_ravel_and_check_weights\u001b[0m\u001b[0;34m(\u001b[0m\u001b[0ma\u001b[0m\u001b[0;34m,\u001b[0m \u001b[0mweights\u001b[0m\u001b[0;34m)\u001b[0m\u001b[0;34m\u001b[0m\u001b[0;34m\u001b[0m\u001b[0m\n\u001b[1;32m    791\u001b[0m \u001b[0;34m\u001b[0m\u001b[0m\n\u001b[0;32m--> 792\u001b[0;31m     \u001b[0mbin_edges\u001b[0m\u001b[0;34m,\u001b[0m \u001b[0muniform_bins\u001b[0m \u001b[0;34m=\u001b[0m \u001b[0m_get_bin_edges\u001b[0m\u001b[0;34m(\u001b[0m\u001b[0ma\u001b[0m\u001b[0;34m,\u001b[0m \u001b[0mbins\u001b[0m\u001b[0;34m,\u001b[0m \u001b[0mrange\u001b[0m\u001b[0;34m,\u001b[0m \u001b[0mweights\u001b[0m\u001b[0;34m)\u001b[0m\u001b[0;34m\u001b[0m\u001b[0;34m\u001b[0m\u001b[0m\n\u001b[0m\u001b[1;32m    793\u001b[0m \u001b[0;34m\u001b[0m\u001b[0m\n\u001b[1;32m    794\u001b[0m     \u001b[0;31m# Histogram is an integer or a float array depending on the weights.\u001b[0m\u001b[0;34m\u001b[0m\u001b[0;34m\u001b[0m\u001b[0;34m\u001b[0m\u001b[0m\n",
      "\u001b[0;32m/glade/work/dgagne/miniconda3/envs/mlmicro/lib/python3.8/site-packages/numpy/lib/histograms.py\u001b[0m in \u001b[0;36m_get_bin_edges\u001b[0;34m(a, bins, range, weights)\u001b[0m\n\u001b[1;32m    424\u001b[0m             \u001b[0;32mraise\u001b[0m \u001b[0mValueError\u001b[0m\u001b[0;34m(\u001b[0m\u001b[0;34m'`bins` must be positive, when an integer'\u001b[0m\u001b[0;34m)\u001b[0m\u001b[0;34m\u001b[0m\u001b[0;34m\u001b[0m\u001b[0m\n\u001b[1;32m    425\u001b[0m \u001b[0;34m\u001b[0m\u001b[0m\n\u001b[0;32m--> 426\u001b[0;31m         \u001b[0mfirst_edge\u001b[0m\u001b[0;34m,\u001b[0m \u001b[0mlast_edge\u001b[0m \u001b[0;34m=\u001b[0m \u001b[0m_get_outer_edges\u001b[0m\u001b[0;34m(\u001b[0m\u001b[0ma\u001b[0m\u001b[0;34m,\u001b[0m \u001b[0mrange\u001b[0m\u001b[0;34m)\u001b[0m\u001b[0;34m\u001b[0m\u001b[0;34m\u001b[0m\u001b[0m\n\u001b[0m\u001b[1;32m    427\u001b[0m \u001b[0;34m\u001b[0m\u001b[0m\n\u001b[1;32m    428\u001b[0m     \u001b[0;32melif\u001b[0m \u001b[0mnp\u001b[0m\u001b[0;34m.\u001b[0m\u001b[0mndim\u001b[0m\u001b[0;34m(\u001b[0m\u001b[0mbins\u001b[0m\u001b[0;34m)\u001b[0m \u001b[0;34m==\u001b[0m \u001b[0;36m1\u001b[0m\u001b[0;34m:\u001b[0m\u001b[0;34m\u001b[0m\u001b[0;34m\u001b[0m\u001b[0m\n",
      "\u001b[0;32m/glade/work/dgagne/miniconda3/envs/mlmicro/lib/python3.8/site-packages/numpy/lib/histograms.py\u001b[0m in \u001b[0;36m_get_outer_edges\u001b[0;34m(a, range)\u001b[0m\n\u001b[1;32m    313\u001b[0m                 'max must be larger than min in range parameter.')\n\u001b[1;32m    314\u001b[0m         \u001b[0;32mif\u001b[0m \u001b[0;32mnot\u001b[0m \u001b[0;34m(\u001b[0m\u001b[0mnp\u001b[0m\u001b[0;34m.\u001b[0m\u001b[0misfinite\u001b[0m\u001b[0;34m(\u001b[0m\u001b[0mfirst_edge\u001b[0m\u001b[0;34m)\u001b[0m \u001b[0;32mand\u001b[0m \u001b[0mnp\u001b[0m\u001b[0;34m.\u001b[0m\u001b[0misfinite\u001b[0m\u001b[0;34m(\u001b[0m\u001b[0mlast_edge\u001b[0m\u001b[0;34m)\u001b[0m\u001b[0;34m)\u001b[0m\u001b[0;34m:\u001b[0m\u001b[0;34m\u001b[0m\u001b[0;34m\u001b[0m\u001b[0m\n\u001b[0;32m--> 315\u001b[0;31m             raise ValueError(\n\u001b[0m\u001b[1;32m    316\u001b[0m                 \"supplied range of [{}, {}] is not finite\".format(first_edge, last_edge))\n\u001b[1;32m    317\u001b[0m     \u001b[0;32melif\u001b[0m \u001b[0ma\u001b[0m\u001b[0;34m.\u001b[0m\u001b[0msize\u001b[0m \u001b[0;34m==\u001b[0m \u001b[0;36m0\u001b[0m\u001b[0;34m:\u001b[0m\u001b[0;34m\u001b[0m\u001b[0;34m\u001b[0m\u001b[0m\n",
      "\u001b[0;31mValueError\u001b[0m: supplied range of [-inf, -2.497598171234131] is not finite"
     ]
    },
    {
     "data": {
      "image/png": "[encoded data removed]",
      "text/plain": [
       "<Figure size 432x288 with 1 Axes>"
      ]
     },
     "metadata": {
      "needs_background": "light"
     },
     "output_type": "display_data"
    }
   ],
   "source": [
    "np.log10(mp_data.loc[mp_data[\"pgam\"] < -1, \"QR_TAU_in\"]).hist()"
   ]
  },
  {
   "cell_type": "code",
   "execution_count": null,
   "id": "aa5bfd6a-3a5c-44a8-b300-3155b1b37631",
   "metadata": {},
   "outputs": [],
   "source": []
  },
  {
   "cell_type": "code",
   "execution_count": null,
   "id": "c81e2ab0-2010-454b-9785-121d94c2fe08",
   "metadata": {},
   "outputs": [],
   "source": []
  },
  {
   "cell_type": "code",
   "execution_count": 197,
   "id": "6557bb06-872d-418c-a2f9-158dfd17875a",
   "metadata": {},
   "outputs": [
    {
     "data": {
      "text/plain": [
       "lat                -4.287958e+01\n",
       "lev                 8.208584e+02\n",
       "lon                 1.100000e+02\n",
       "P0                  1.000000e+05\n",
       "PS                  1.015916e+05\n",
       "depth               2.400000e+01\n",
       "row                 5.000000e+01\n",
       "col                 8.800000e+01\n",
       "hyam                3.718866e-02\n",
       "hybm                7.836697e-01\n",
       "pressure            8.333310e+04\n",
       "temperature         2.717724e+02\n",
       "RHO_CLUBB_lev       1.068391e+00\n",
       "RHO_CLUBB_top       1.044226e+00\n",
       "RHO_CLUBB_bottom    1.092557e+00\n",
       "QC_TAU_in           1.175494e-38\n",
       "NC_TAU_in           1.000000e-12\n",
       "QR_TAU_in           5.817244e-06\n",
       "NR_TAU_in           2.422728e+02\n",
       "lamc                1.500000e+06\n",
       "lamr                8.974171e+03\n",
       "lcldm               1.000000e-04\n",
       "n0r                 2.212028e+10\n",
       "pgam                2.000000e+00\n",
       "precip_frac         1.000000e-04\n",
       "qctend_MG2          0.000000e+00\n",
       "qctend_TAU          0.000000e+00\n",
       "nctend_MG2          0.000000e+00\n",
       "nctend_TAU          0.000000e+00\n",
       "qrtend_MG2          0.000000e+00\n",
       "qrtend_TAU         -4.016501e-25\n",
       "nrtend_MG2         -4.037839e-01\n",
       "nrtend_TAU         -1.545137e-03\n",
       "QC_TAU_out          1.175494e-38\n",
       "NC_TAU_out          1.000000e-12\n",
       "QR_TAU_out          5.817244e-06\n",
       "NR_TAU_out          2.394916e+02\n",
       "QC_MG2_out          1.175494e-38\n",
       "NC_MG2_out          1.000000e-12\n",
       "QR_MG2_out          5.817244e-06\n",
       "NR_MG2_out         -4.845383e+02\n",
       "time                0.000000e+00\n",
       "frac_mass           5.817244e-10\n",
       "Q_mass_in           5.817244e-06\n",
       "mass_diff_TAU       0.000000e+00\n",
       "mass_diff_MG2       0.000000e+00\n",
       "tend_diff_TAU      -4.016501e-25\n",
       "tend_diff_MG2       0.000000e+00\n",
       "Name: 122031, dtype: float64"
      ]
     },
     "execution_count": 197,
     "metadata": {},
     "output_type": "execute_result"
    }
   ],
   "source": [
    "mp_data.loc[q]"
   ]
  },
  {
   "cell_type": "code",
   "execution_count": 194,
   "id": "a0fd0f11-cd3f-4233-a2f4-15443a1f0e8d",
   "metadata": {},
   "outputs": [
    {
     "data": {
      "text/plain": [
       "122031"
      ]
     },
     "execution_count": 194,
     "metadata": {},
     "output_type": "execute_result"
    }
   ],
   "source": [
    "mp_data.loc[(mp_data[\"pgam\"] > 1) & (mp_data[\"qrtend_TAU\"] < 0)][\"QC_TAU_in\"].idxmin()"
   ]
  },
  {
   "cell_type": "code",
   "execution_count": 106,
   "id": "2f99370f-32a0-4610-b971-b2a3913757d7",
   "metadata": {},
   "outputs": [
    {
     "data": {
      "text/plain": [
       "<AxesSubplot:>"
      ]
     },
     "execution_count": 106,
     "metadata": {},
     "output_type": "execute_result"
    },
    {
     "data": {
      "image/png": "[encoded data removed]",
      "text/plain": [
       "<Figure size 432x288 with 1 Axes>"
      ]
     },
     "metadata": {
      "needs_background": "light"
     },
     "output_type": "display_data"
    }
   ],
   "source": [
    "mp_data[\"pgam\"].hist(bins=np.arange(-0.5, 11.5, 1))\n",
    "#plt.gca().set_yscale(\"log\")"
   ]
  },
  {
   "cell_type": "code",
   "execution_count": 183,
   "id": "dfd8832d-35e0-40ef-9a34-7c7e88b352df",
   "metadata": {},
   "outputs": [
    {
     "data": {
      "text/plain": [
       "239527"
      ]
     },
     "execution_count": 183,
     "metadata": {},
     "output_type": "execute_result"
    }
   ],
   "source": [
    " mp_data[\"QR_TAU_in\"].idxmax()"
   ]
  },
  {
   "cell_type": "code",
   "execution_count": 22,
   "id": "6643760b-cace-4ea4-8a8f-1240b100da72",
   "metadata": {},
   "outputs": [
    {
     "data": {
      "text/html": [
       "<div>\n",
       "<style scoped>\n",
       "    .dataframe tbody tr th:only-of-type {\n",
       "        vertical-align: middle;\n",
       "    }\n",
       "\n",
       "    .dataframe tbody tr th {\n",
       "        vertical-align: top;\n",
       "    }\n",
       "\n",
       "    .dataframe thead th {\n",
       "        text-align: right;\n",
       "    }\n",
       "</style>\n",
       "<table border=\"1\" class=\"dataframe\">\n",
       "  <thead>\n",
       "    <tr style=\"text-align: right;\">\n",
       "      <th></th>\n",
       "      <th>lat</th>\n",
       "      <th>lev</th>\n",
       "      <th>lon</th>\n",
       "      <th>P0</th>\n",
       "      <th>PS</th>\n",
       "      <th>depth</th>\n",
       "      <th>row</th>\n",
       "      <th>col</th>\n",
       "      <th>hyam</th>\n",
       "      <th>hybm</th>\n",
       "      <th>...</th>\n",
       "      <th>NC_MG2_out</th>\n",
       "      <th>QR_MG2_out</th>\n",
       "      <th>NR_MG2_out</th>\n",
       "      <th>time</th>\n",
       "      <th>frac_mass</th>\n",
       "      <th>Q_mass_in</th>\n",
       "      <th>mass_diff_TAU</th>\n",
       "      <th>mass_diff_MG2</th>\n",
       "      <th>tend_diff_TAU</th>\n",
       "      <th>tend_diff_MG2</th>\n",
       "    </tr>\n",
       "  </thead>\n",
       "  <tbody>\n",
       "    <tr>\n",
       "      <th>5440</th>\n",
       "      <td>-88.115183</td>\n",
       "      <td>957.485480</td>\n",
       "      <td>31.25</td>\n",
       "      <td>100000.0</td>\n",
       "      <td>68667.195312</td>\n",
       "      <td>29</td>\n",
       "      <td>2</td>\n",
       "      <td>25</td>\n",
       "      <td>0.006255</td>\n",
       "      <td>0.951231</td>\n",
       "      <td>...</td>\n",
       "      <td>9740750.0</td>\n",
       "      <td>5.883593e-11</td>\n",
       "      <td>0.898947</td>\n",
       "      <td>0.000000</td>\n",
       "      <td>0.000003</td>\n",
       "      <td>0.000003</td>\n",
       "      <td>0.0</td>\n",
       "      <td>0.000000e+00</td>\n",
       "      <td>3.867864e-25</td>\n",
       "      <td>0.0</td>\n",
       "    </tr>\n",
       "    <tr>\n",
       "      <th>5442</th>\n",
       "      <td>-88.115183</td>\n",
       "      <td>957.485480</td>\n",
       "      <td>33.75</td>\n",
       "      <td>100000.0</td>\n",
       "      <td>68518.976562</td>\n",
       "      <td>29</td>\n",
       "      <td>2</td>\n",
       "      <td>27</td>\n",
       "      <td>0.006255</td>\n",
       "      <td>0.951231</td>\n",
       "      <td>...</td>\n",
       "      <td>8702992.0</td>\n",
       "      <td>3.584580e-10</td>\n",
       "      <td>5.476834</td>\n",
       "      <td>0.000000</td>\n",
       "      <td>0.000006</td>\n",
       "      <td>0.000006</td>\n",
       "      <td>0.0</td>\n",
       "      <td>0.000000e+00</td>\n",
       "      <td>2.097941e-24</td>\n",
       "      <td>0.0</td>\n",
       "    </tr>\n",
       "    <tr>\n",
       "      <th>5444</th>\n",
       "      <td>-88.115183</td>\n",
       "      <td>957.485480</td>\n",
       "      <td>36.25</td>\n",
       "      <td>100000.0</td>\n",
       "      <td>68371.421875</td>\n",
       "      <td>29</td>\n",
       "      <td>2</td>\n",
       "      <td>29</td>\n",
       "      <td>0.006255</td>\n",
       "      <td>0.951231</td>\n",
       "      <td>...</td>\n",
       "      <td>9087311.0</td>\n",
       "      <td>9.075018e-10</td>\n",
       "      <td>13.865605</td>\n",
       "      <td>0.000000</td>\n",
       "      <td>0.000009</td>\n",
       "      <td>0.000009</td>\n",
       "      <td>0.0</td>\n",
       "      <td>0.000000e+00</td>\n",
       "      <td>1.074769e-24</td>\n",
       "      <td>0.0</td>\n",
       "    </tr>\n",
       "    <tr>\n",
       "      <th>5449</th>\n",
       "      <td>-88.115183</td>\n",
       "      <td>957.485480</td>\n",
       "      <td>42.50</td>\n",
       "      <td>100000.0</td>\n",
       "      <td>68013.281250</td>\n",
       "      <td>29</td>\n",
       "      <td>2</td>\n",
       "      <td>34</td>\n",
       "      <td>0.006255</td>\n",
       "      <td>0.951231</td>\n",
       "      <td>...</td>\n",
       "      <td>8552008.0</td>\n",
       "      <td>1.016900e-09</td>\n",
       "      <td>15.537095</td>\n",
       "      <td>0.000000</td>\n",
       "      <td>0.000009</td>\n",
       "      <td>0.000009</td>\n",
       "      <td>0.0</td>\n",
       "      <td>0.000000e+00</td>\n",
       "      <td>3.934396e-25</td>\n",
       "      <td>0.0</td>\n",
       "    </tr>\n",
       "    <tr>\n",
       "      <th>5450</th>\n",
       "      <td>-88.115183</td>\n",
       "      <td>957.485480</td>\n",
       "      <td>43.75</td>\n",
       "      <td>100000.0</td>\n",
       "      <td>67944.789062</td>\n",
       "      <td>29</td>\n",
       "      <td>2</td>\n",
       "      <td>35</td>\n",
       "      <td>0.006255</td>\n",
       "      <td>0.951231</td>\n",
       "      <td>...</td>\n",
       "      <td>7424966.0</td>\n",
       "      <td>7.946899e-10</td>\n",
       "      <td>12.141966</td>\n",
       "      <td>0.000000</td>\n",
       "      <td>0.000008</td>\n",
       "      <td>0.000008</td>\n",
       "      <td>0.0</td>\n",
       "      <td>0.000000e+00</td>\n",
       "      <td>3.525568e-24</td>\n",
       "      <td>0.0</td>\n",
       "    </tr>\n",
       "    <tr>\n",
       "      <th>...</th>\n",
       "      <td>...</td>\n",
       "      <td>...</td>\n",
       "      <td>...</td>\n",
       "      <td>...</td>\n",
       "      <td>...</td>\n",
       "      <td>...</td>\n",
       "      <td>...</td>\n",
       "      <td>...</td>\n",
       "      <td>...</td>\n",
       "      <td>...</td>\n",
       "      <td>...</td>\n",
       "      <td>...</td>\n",
       "      <td>...</td>\n",
       "      <td>...</td>\n",
       "      <td>...</td>\n",
       "      <td>...</td>\n",
       "      <td>...</td>\n",
       "      <td>...</td>\n",
       "      <td>...</td>\n",
       "      <td>...</td>\n",
       "      <td>...</td>\n",
       "    </tr>\n",
       "    <tr>\n",
       "      <th>8103710</th>\n",
       "      <td>90.000000</td>\n",
       "      <td>912.644547</td>\n",
       "      <td>350.00</td>\n",
       "      <td>100000.0</td>\n",
       "      <td>101626.414062</td>\n",
       "      <td>27</td>\n",
       "      <td>191</td>\n",
       "      <td>280</td>\n",
       "      <td>0.016407</td>\n",
       "      <td>0.896237</td>\n",
       "      <td>...</td>\n",
       "      <td>5174241.5</td>\n",
       "      <td>2.681763e-08</td>\n",
       "      <td>411.307007</td>\n",
       "      <td>395.833333</td>\n",
       "      <td>0.000032</td>\n",
       "      <td>0.000032</td>\n",
       "      <td>0.0</td>\n",
       "      <td>3.637979e-12</td>\n",
       "      <td>2.263761e-23</td>\n",
       "      <td>0.0</td>\n",
       "    </tr>\n",
       "    <tr>\n",
       "      <th>8103712</th>\n",
       "      <td>90.000000</td>\n",
       "      <td>912.644547</td>\n",
       "      <td>352.50</td>\n",
       "      <td>100000.0</td>\n",
       "      <td>101626.414062</td>\n",
       "      <td>27</td>\n",
       "      <td>191</td>\n",
       "      <td>282</td>\n",
       "      <td>0.016407</td>\n",
       "      <td>0.896237</td>\n",
       "      <td>...</td>\n",
       "      <td>5174241.5</td>\n",
       "      <td>2.681763e-08</td>\n",
       "      <td>411.307007</td>\n",
       "      <td>395.833333</td>\n",
       "      <td>0.000032</td>\n",
       "      <td>0.000032</td>\n",
       "      <td>0.0</td>\n",
       "      <td>3.637979e-12</td>\n",
       "      <td>5.519855e-24</td>\n",
       "      <td>0.0</td>\n",
       "    </tr>\n",
       "    <tr>\n",
       "      <th>8103713</th>\n",
       "      <td>90.000000</td>\n",
       "      <td>912.644547</td>\n",
       "      <td>353.75</td>\n",
       "      <td>100000.0</td>\n",
       "      <td>101626.414062</td>\n",
       "      <td>27</td>\n",
       "      <td>191</td>\n",
       "      <td>283</td>\n",
       "      <td>0.016407</td>\n",
       "      <td>0.896237</td>\n",
       "      <td>...</td>\n",
       "      <td>5174241.5</td>\n",
       "      <td>2.681763e-08</td>\n",
       "      <td>411.307007</td>\n",
       "      <td>395.833333</td>\n",
       "      <td>0.000032</td>\n",
       "      <td>0.000032</td>\n",
       "      <td>0.0</td>\n",
       "      <td>3.637979e-12</td>\n",
       "      <td>3.716456e-24</td>\n",
       "      <td>0.0</td>\n",
       "    </tr>\n",
       "    <tr>\n",
       "      <th>8103714</th>\n",
       "      <td>90.000000</td>\n",
       "      <td>912.644547</td>\n",
       "      <td>355.00</td>\n",
       "      <td>100000.0</td>\n",
       "      <td>101626.414062</td>\n",
       "      <td>27</td>\n",
       "      <td>191</td>\n",
       "      <td>284</td>\n",
       "      <td>0.016407</td>\n",
       "      <td>0.896237</td>\n",
       "      <td>...</td>\n",
       "      <td>5174241.5</td>\n",
       "      <td>2.681763e-08</td>\n",
       "      <td>411.307007</td>\n",
       "      <td>395.833333</td>\n",
       "      <td>0.000032</td>\n",
       "      <td>0.000032</td>\n",
       "      <td>0.0</td>\n",
       "      <td>3.637979e-12</td>\n",
       "      <td>4.751644e-24</td>\n",
       "      <td>0.0</td>\n",
       "    </tr>\n",
       "    <tr>\n",
       "      <th>8103716</th>\n",
       "      <td>90.000000</td>\n",
       "      <td>912.644547</td>\n",
       "      <td>357.50</td>\n",
       "      <td>100000.0</td>\n",
       "      <td>101626.414062</td>\n",
       "      <td>27</td>\n",
       "      <td>191</td>\n",
       "      <td>286</td>\n",
       "      <td>0.016407</td>\n",
       "      <td>0.896237</td>\n",
       "      <td>...</td>\n",
       "      <td>5174241.5</td>\n",
       "      <td>2.681763e-08</td>\n",
       "      <td>411.307007</td>\n",
       "      <td>395.833333</td>\n",
       "      <td>0.000032</td>\n",
       "      <td>0.000032</td>\n",
       "      <td>0.0</td>\n",
       "      <td>3.637979e-12</td>\n",
       "      <td>1.975661e-24</td>\n",
       "      <td>0.0</td>\n",
       "    </tr>\n",
       "  </tbody>\n",
       "</table>\n",
       "<p>766634 rows × 48 columns</p>\n",
       "</div>"
      ],
      "text/plain": [
       "               lat         lev     lon        P0             PS  depth  row  \\\n",
       "5440    -88.115183  957.485480   31.25  100000.0   68667.195312     29    2   \n",
       "5442    -88.115183  957.485480   33.75  100000.0   68518.976562     29    2   \n",
       "5444    -88.115183  957.485480   36.25  100000.0   68371.421875     29    2   \n",
       "5449    -88.115183  957.485480   42.50  100000.0   68013.281250     29    2   \n",
       "5450    -88.115183  957.485480   43.75  100000.0   67944.789062     29    2   \n",
       "...            ...         ...     ...       ...            ...    ...  ...   \n",
       "8103710  90.000000  912.644547  350.00  100000.0  101626.414062     27  191   \n",
       "8103712  90.000000  912.644547  352.50  100000.0  101626.414062     27  191   \n",
       "8103713  90.000000  912.644547  353.75  100000.0  101626.414062     27  191   \n",
       "8103714  90.000000  912.644547  355.00  100000.0  101626.414062     27  191   \n",
       "8103716  90.000000  912.644547  357.50  100000.0  101626.414062     27  191   \n",
       "\n",
       "         col      hyam      hybm  ...  NC_MG2_out    QR_MG2_out  NR_MG2_out  \\\n",
       "5440      25  0.006255  0.951231  ...   9740750.0  5.883593e-11    0.898947   \n",
       "5442      27  0.006255  0.951231  ...   8702992.0  3.584580e-10    5.476834   \n",
       "5444      29  0.006255  0.951231  ...   9087311.0  9.075018e-10   13.865605   \n",
       "5449      34  0.006255  0.951231  ...   8552008.0  1.016900e-09   15.537095   \n",
       "5450      35  0.006255  0.951231  ...   7424966.0  7.946899e-10   12.141966   \n",
       "...      ...       ...       ...  ...         ...           ...         ...   \n",
       "8103710  280  0.016407  0.896237  ...   5174241.5  2.681763e-08  411.307007   \n",
       "8103712  282  0.016407  0.896237  ...   5174241.5  2.681763e-08  411.307007   \n",
       "8103713  283  0.016407  0.896237  ...   5174241.5  2.681763e-08  411.307007   \n",
       "8103714  284  0.016407  0.896237  ...   5174241.5  2.681763e-08  411.307007   \n",
       "8103716  286  0.016407  0.896237  ...   5174241.5  2.681763e-08  411.307007   \n",
       "\n",
       "               time  frac_mass  Q_mass_in  mass_diff_TAU  mass_diff_MG2  \\\n",
       "5440       0.000000   0.000003   0.000003            0.0   0.000000e+00   \n",
       "5442       0.000000   0.000006   0.000006            0.0   0.000000e+00   \n",
       "5444       0.000000   0.000009   0.000009            0.0   0.000000e+00   \n",
       "5449       0.000000   0.000009   0.000009            0.0   0.000000e+00   \n",
       "5450       0.000000   0.000008   0.000008            0.0   0.000000e+00   \n",
       "...             ...        ...        ...            ...            ...   \n",
       "8103710  395.833333   0.000032   0.000032            0.0   3.637979e-12   \n",
       "8103712  395.833333   0.000032   0.000032            0.0   3.637979e-12   \n",
       "8103713  395.833333   0.000032   0.000032            0.0   3.637979e-12   \n",
       "8103714  395.833333   0.000032   0.000032            0.0   3.637979e-12   \n",
       "8103716  395.833333   0.000032   0.000032            0.0   3.637979e-12   \n",
       "\n",
       "         tend_diff_TAU  tend_diff_MG2  \n",
       "5440      3.867864e-25            0.0  \n",
       "5442      2.097941e-24            0.0  \n",
       "5444      1.074769e-24            0.0  \n",
       "5449      3.934396e-25            0.0  \n",
       "5450      3.525568e-24            0.0  \n",
       "...                ...            ...  \n",
       "8103710   2.263761e-23            0.0  \n",
       "8103712   5.519855e-24            0.0  \n",
       "8103713   3.716456e-24            0.0  \n",
       "8103714   4.751644e-24            0.0  \n",
       "8103716   1.975661e-24            0.0  \n",
       "\n",
       "[766634 rows x 48 columns]"
      ]
     },
     "execution_count": 22,
     "metadata": {},
     "output_type": "execute_result"
    }
   ],
   "source": [
    "mp_data.loc[mp_data[\"tend_diff_TAU\"] > 0]"
   ]
  },
  {
   "cell_type": "code",
   "execution_count": 35,
   "id": "265c916f-246d-48a2-82d9-b16c2faeedea",
   "metadata": {},
   "outputs": [
    {
     "data": {
      "image/png": "[encoded data removed]",
      "text/plain": [
       "<Figure size 432x288 with 1 Axes>"
      ]
     },
     "metadata": {
      "needs_background": "light"
     },
     "output_type": "display_data"
    }
   ],
   "source": [
    "plt.hist(np.abs(mp_data[\"frac_mass\"] - mp_data[\"Q_mass_in\"]), bins=100)\n",
    "plt.gca().set_yscale(\"log\")"
   ]
  },
  {
   "cell_type": "code",
   "execution_count": 34,
   "id": "2b424b12-124c-4ab5-9602-4f462517e746",
   "metadata": {},
   "outputs": [
    {
     "data": {
      "text/plain": [
       "0.9274353567669809"
      ]
     },
     "execution_count": 34,
     "metadata": {},
     "output_type": "execute_result"
    }
   ],
   "source": [
    "np.count_nonzero(np.abs(mp_data[\"frac_mass\"] - mp_data[\"Q_mass_in\"]) > 0) / mp_data.shape[0]"
   ]
  },
  {
   "cell_type": "code",
   "execution_count": 89,
   "id": "suspended-raising",
   "metadata": {},
   "outputs": [
    {
     "data": {
      "image/png": "[encoded data removed]",
      "text/plain": [
       "<Figure size 432x288 with 1 Axes>"
      ]
     },
     "metadata": {
      "needs_background": "light"
     },
     "output_type": "display_data"
    }
   ],
   "source": [
    "plt.hist(np.abs(mp_data[\"lcldm_logit\"] - mp_data[\"precip_frac_logit\"]), bins=50)\n",
    "plt.gca().set_yscale('log')"
   ]
  },
  {
   "cell_type": "code",
   "execution_count": 40,
   "id": "cross-thunder",
   "metadata": {},
   "outputs": [
    {
     "data": {
      "image/png": "[encoded data removed]",
      "text/plain": [
       "<Figure size 432x288 with 1 Axes>"
      ]
     },
     "metadata": {
      "needs_background": "light"
     },
     "output_type": "display_data"
    }
   ],
   "source": [
    "plt.hist(np.abs(mp_data[\"frac_mass\"] - (mp_data[\"QC_TAU_out\"] + mp_data[\"QR_TAU_out\"])), bins=100)\n",
    "plt.gca().set_yscale('log')"
   ]
  },
  {
   "cell_type": "code",
   "execution_count": 41,
   "id": "expired-frank",
   "metadata": {},
   "outputs": [
    {
     "data": {
      "text/plain": [
       "0.9416364482095333"
      ]
     },
     "execution_count": 41,
     "metadata": {},
     "output_type": "execute_result"
    }
   ],
   "source": [
    "np.count_nonzero(np.abs(mp_data[\"frac_mass\"] - (mp_data[\"QC_TAU_out\"] + mp_data[\"QR_TAU_out\"]))) / mp_data.shape[0]"
   ]
  },
  {
   "cell_type": "code",
   "execution_count": 13,
   "id": "grateful-modeling",
   "metadata": {},
   "outputs": [],
   "source": [
    "mp_data.loc[:, \"mass_diff_TAU\"] = (mp_data[\"QC_TAU_out\"].values + mp_data[\"QR_TAU_out\"].values) - (mp_data[\"QC_TAU_in\"].values + mp_data[\"QR_TAU_in\"].values)\n",
    "mp_data.loc[:, \"mass_diff_MG2\"] = (mp_data[\"QC_MG2_out\"].values + mp_data[\"QR_MG2_out\"].values) - (mp_data[\"QC_TAU_in\"].values + mp_data[\"QR_TAU_in\"].values)\n",
    "mp_data.loc[:, \"tend_diff_TAU\"] = (mp_data[\"qctend_TAU\"].values + mp_data[\"qrtend_TAU\"].values)\n",
    "mp_data.loc[:, \"tend_diff_MG2\"] = (mp_data[\"qctend_MG2\"].values + mp_data[\"qrtend_MG2\"].values)\n",
    "ix = (mp_data[\"tend_diff_TAU\"] == 0) & (mp_data[\"mass_diff_TAU\"] == 0) & np.all(mp_data[[\"QC_TAU_out\", \"QR_TAU_out\", \"NC_TAU_out\", \"NR_TAU_out\"]] >= 0, axis=1)\n",
    "mp_mass_data = mp_data.loc[ix].reset_index()"
   ]
  },
  {
   "cell_type": "code",
   "execution_count": 199,
   "id": "a597256b-d1da-4799-bf44-55a4dd7df217",
   "metadata": {},
   "outputs": [
    {
     "data": {
      "text/plain": [
       "0.39685949375753893"
      ]
     },
     "execution_count": 199,
     "metadata": {},
     "output_type": "execute_result"
    }
   ],
   "source": [
    "np.count_nonzero(mp_mass_data[\"pgam\"] < -1) / mp_mass_data.shape[0]"
   ]
  },
  {
   "cell_type": "code",
   "execution_count": 200,
   "id": "c688f0e2-1061-4935-a290-3fa6dfe8652b",
   "metadata": {},
   "outputs": [
    {
     "data": {
      "text/plain": [
       "index               0.000000e+00\n",
       "lat                -9.000000e+01\n",
       "lev                 3.643466e+00\n",
       "lon                 0.000000e+00\n",
       "P0                  1.000000e+05\n",
       "PS                  6.834913e+04\n",
       "depth               0.000000e+00\n",
       "row                 0.000000e+00\n",
       "col                 0.000000e+00\n",
       "hyam                3.643466e-03\n",
       "hybm                0.000000e+00\n",
       "pressure            3.643466e+02\n",
       "temperature         1.725399e+02\n",
       "RHO_CLUBB_lev       7.357718e-03\n",
       "RHO_CLUBB_top       4.597879e-03\n",
       "RHO_CLUBB_bottom    1.011756e-02\n",
       "QC_TAU_in           9.563975e-23\n",
       "NC_TAU_in           1.000000e-12\n",
       "QR_TAU_in           6.149233e-23\n",
       "NR_TAU_in           1.000000e-12\n",
       "lamc                0.000000e+00\n",
       "lamr                0.000000e+00\n",
       "lcldm               1.000000e-04\n",
       "n0r                 0.000000e+00\n",
       "pgam               -1.000000e+02\n",
       "precip_frac         1.000000e-04\n",
       "qctend_MG2          0.000000e+00\n",
       "qctend_TAU          0.000000e+00\n",
       "nctend_MG2          0.000000e+00\n",
       "nctend_TAU          0.000000e+00\n",
       "qrtend_MG2          0.000000e+00\n",
       "qrtend_TAU          0.000000e+00\n",
       "nrtend_MG2          0.000000e+00\n",
       "nrtend_TAU          0.000000e+00\n",
       "QC_TAU_out          9.563975e-23\n",
       "NC_TAU_out          1.000000e-12\n",
       "QR_TAU_out          6.149233e-23\n",
       "NR_TAU_out          1.000000e-12\n",
       "QC_MG2_out          9.563975e-23\n",
       "NC_MG2_out          1.000000e-12\n",
       "QR_MG2_out          6.149233e-23\n",
       "NR_MG2_out          1.000000e-12\n",
       "time                0.000000e+00\n",
       "frac_mass           1.571321e-26\n",
       "Q_mass_in           1.571321e-22\n",
       "mass_diff_TAU       0.000000e+00\n",
       "mass_diff_MG2       0.000000e+00\n",
       "tend_diff_TAU       0.000000e+00\n",
       "tend_diff_MG2       0.000000e+00\n",
       "Name: 0, dtype: float64"
      ]
     },
     "execution_count": 200,
     "metadata": {},
     "output_type": "execute_result"
    }
   ],
   "source": [
    "mp_mass_data.loc[(mp_mass_data[\"pgam\"]) & (mp_mass_data[\"qrtend_TAU\"] < )] < -1].iloc[0]"
   ]
  },
  {
   "cell_type": "code",
   "execution_count": 11,
   "id": "a97179c6-cc60-4450-9fdc-ef9eddcd52f6",
   "metadata": {},
   "outputs": [
    {
     "data": {
      "text/html": [
       "<div>\n",
       "<style scoped>\n",
       "    .dataframe tbody tr th:only-of-type {\n",
       "        vertical-align: middle;\n",
       "    }\n",
       "\n",
       "    .dataframe tbody tr th {\n",
       "        vertical-align: top;\n",
       "    }\n",
       "\n",
       "    .dataframe thead th {\n",
       "        text-align: right;\n",
       "    }\n",
       "</style>\n",
       "<table border=\"1\" class=\"dataframe\">\n",
       "  <thead>\n",
       "    <tr style=\"text-align: right;\">\n",
       "      <th></th>\n",
       "      <th>index</th>\n",
       "      <th>lat</th>\n",
       "      <th>lev</th>\n",
       "      <th>lon</th>\n",
       "      <th>P0</th>\n",
       "      <th>PS</th>\n",
       "      <th>depth</th>\n",
       "      <th>row</th>\n",
       "      <th>col</th>\n",
       "      <th>hyam</th>\n",
       "      <th>...</th>\n",
       "      <th>NR_TAU_out</th>\n",
       "      <th>QC_MG2_out</th>\n",
       "      <th>NC_MG2_out</th>\n",
       "      <th>QR_MG2_out</th>\n",
       "      <th>NR_MG2_out</th>\n",
       "      <th>time</th>\n",
       "      <th>mass_diff_TAU</th>\n",
       "      <th>mass_diff_MG2</th>\n",
       "      <th>tend_diff_TAU</th>\n",
       "      <th>tend_diff_MG2</th>\n",
       "    </tr>\n",
       "  </thead>\n",
       "  <tbody>\n",
       "    <tr>\n",
       "      <th>0</th>\n",
       "      <td>0</td>\n",
       "      <td>-90.0</td>\n",
       "      <td>3.643466</td>\n",
       "      <td>0.00</td>\n",
       "      <td>100000.0</td>\n",
       "      <td>68349.132812</td>\n",
       "      <td>0</td>\n",
       "      <td>0</td>\n",
       "      <td>0</td>\n",
       "      <td>0.003643</td>\n",
       "      <td>...</td>\n",
       "      <td>1.000000e-12</td>\n",
       "      <td>9.563975e-23</td>\n",
       "      <td>1.000000e-12</td>\n",
       "      <td>6.149233e-23</td>\n",
       "      <td>1.000000e-12</td>\n",
       "      <td>0.000000</td>\n",
       "      <td>0.0</td>\n",
       "      <td>0.000000e+00</td>\n",
       "      <td>0.0</td>\n",
       "      <td>0.0</td>\n",
       "    </tr>\n",
       "    <tr>\n",
       "      <th>1</th>\n",
       "      <td>1</td>\n",
       "      <td>-90.0</td>\n",
       "      <td>3.643466</td>\n",
       "      <td>1.25</td>\n",
       "      <td>100000.0</td>\n",
       "      <td>68349.132812</td>\n",
       "      <td>0</td>\n",
       "      <td>0</td>\n",
       "      <td>1</td>\n",
       "      <td>0.003643</td>\n",
       "      <td>...</td>\n",
       "      <td>1.000000e-12</td>\n",
       "      <td>9.563975e-23</td>\n",
       "      <td>1.000000e-12</td>\n",
       "      <td>6.149233e-23</td>\n",
       "      <td>1.000000e-12</td>\n",
       "      <td>0.000000</td>\n",
       "      <td>0.0</td>\n",
       "      <td>0.000000e+00</td>\n",
       "      <td>0.0</td>\n",
       "      <td>0.0</td>\n",
       "    </tr>\n",
       "    <tr>\n",
       "      <th>2</th>\n",
       "      <td>2</td>\n",
       "      <td>-90.0</td>\n",
       "      <td>3.643466</td>\n",
       "      <td>2.50</td>\n",
       "      <td>100000.0</td>\n",
       "      <td>68349.132812</td>\n",
       "      <td>0</td>\n",
       "      <td>0</td>\n",
       "      <td>2</td>\n",
       "      <td>0.003643</td>\n",
       "      <td>...</td>\n",
       "      <td>1.000000e-12</td>\n",
       "      <td>9.563975e-23</td>\n",
       "      <td>1.000000e-12</td>\n",
       "      <td>6.149233e-23</td>\n",
       "      <td>1.000000e-12</td>\n",
       "      <td>0.000000</td>\n",
       "      <td>0.0</td>\n",
       "      <td>0.000000e+00</td>\n",
       "      <td>0.0</td>\n",
       "      <td>0.0</td>\n",
       "    </tr>\n",
       "    <tr>\n",
       "      <th>3</th>\n",
       "      <td>3</td>\n",
       "      <td>-90.0</td>\n",
       "      <td>3.643466</td>\n",
       "      <td>3.75</td>\n",
       "      <td>100000.0</td>\n",
       "      <td>68349.132812</td>\n",
       "      <td>0</td>\n",
       "      <td>0</td>\n",
       "      <td>3</td>\n",
       "      <td>0.003643</td>\n",
       "      <td>...</td>\n",
       "      <td>1.000000e-12</td>\n",
       "      <td>9.563975e-23</td>\n",
       "      <td>1.000000e-12</td>\n",
       "      <td>6.149233e-23</td>\n",
       "      <td>1.000000e-12</td>\n",
       "      <td>0.000000</td>\n",
       "      <td>0.0</td>\n",
       "      <td>0.000000e+00</td>\n",
       "      <td>0.0</td>\n",
       "      <td>0.0</td>\n",
       "    </tr>\n",
       "    <tr>\n",
       "      <th>4</th>\n",
       "      <td>4</td>\n",
       "      <td>-90.0</td>\n",
       "      <td>3.643466</td>\n",
       "      <td>5.00</td>\n",
       "      <td>100000.0</td>\n",
       "      <td>68349.132812</td>\n",
       "      <td>0</td>\n",
       "      <td>0</td>\n",
       "      <td>4</td>\n",
       "      <td>0.003643</td>\n",
       "      <td>...</td>\n",
       "      <td>1.000000e-12</td>\n",
       "      <td>9.563975e-23</td>\n",
       "      <td>1.000000e-12</td>\n",
       "      <td>6.149233e-23</td>\n",
       "      <td>1.000000e-12</td>\n",
       "      <td>0.000000</td>\n",
       "      <td>0.0</td>\n",
       "      <td>0.000000e+00</td>\n",
       "      <td>0.0</td>\n",
       "      <td>0.0</td>\n",
       "    </tr>\n",
       "    <tr>\n",
       "      <th>...</th>\n",
       "      <td>...</td>\n",
       "      <td>...</td>\n",
       "      <td>...</td>\n",
       "      <td>...</td>\n",
       "      <td>...</td>\n",
       "      <td>...</td>\n",
       "      <td>...</td>\n",
       "      <td>...</td>\n",
       "      <td>...</td>\n",
       "      <td>...</td>\n",
       "      <td>...</td>\n",
       "      <td>...</td>\n",
       "      <td>...</td>\n",
       "      <td>...</td>\n",
       "      <td>...</td>\n",
       "      <td>...</td>\n",
       "      <td>...</td>\n",
       "      <td>...</td>\n",
       "      <td>...</td>\n",
       "      <td>...</td>\n",
       "      <td>...</td>\n",
       "    </tr>\n",
       "    <tr>\n",
       "      <th>5273476</th>\n",
       "      <td>8104865</td>\n",
       "      <td>90.0</td>\n",
       "      <td>992.556095</td>\n",
       "      <td>353.75</td>\n",
       "      <td>100000.0</td>\n",
       "      <td>101626.414062</td>\n",
       "      <td>31</td>\n",
       "      <td>191</td>\n",
       "      <td>283</td>\n",
       "      <td>0.000000</td>\n",
       "      <td>...</td>\n",
       "      <td>7.417124e+01</td>\n",
       "      <td>3.153452e-05</td>\n",
       "      <td>4.713692e+06</td>\n",
       "      <td>5.288511e-08</td>\n",
       "      <td>4.860294e+02</td>\n",
       "      <td>395.833333</td>\n",
       "      <td>0.0</td>\n",
       "      <td>0.000000e+00</td>\n",
       "      <td>0.0</td>\n",
       "      <td>0.0</td>\n",
       "    </tr>\n",
       "    <tr>\n",
       "      <th>5273477</th>\n",
       "      <td>8104866</td>\n",
       "      <td>90.0</td>\n",
       "      <td>992.556095</td>\n",
       "      <td>355.00</td>\n",
       "      <td>100000.0</td>\n",
       "      <td>101626.414062</td>\n",
       "      <td>31</td>\n",
       "      <td>191</td>\n",
       "      <td>284</td>\n",
       "      <td>0.000000</td>\n",
       "      <td>...</td>\n",
       "      <td>7.417290e+01</td>\n",
       "      <td>3.153754e-05</td>\n",
       "      <td>4.713664e+06</td>\n",
       "      <td>5.289041e-08</td>\n",
       "      <td>4.861309e+02</td>\n",
       "      <td>395.833333</td>\n",
       "      <td>0.0</td>\n",
       "      <td>0.000000e+00</td>\n",
       "      <td>0.0</td>\n",
       "      <td>0.0</td>\n",
       "    </tr>\n",
       "    <tr>\n",
       "      <th>5273478</th>\n",
       "      <td>8104867</td>\n",
       "      <td>90.0</td>\n",
       "      <td>992.556095</td>\n",
       "      <td>356.25</td>\n",
       "      <td>100000.0</td>\n",
       "      <td>101626.414062</td>\n",
       "      <td>31</td>\n",
       "      <td>191</td>\n",
       "      <td>285</td>\n",
       "      <td>0.000000</td>\n",
       "      <td>...</td>\n",
       "      <td>7.417296e+01</td>\n",
       "      <td>3.153765e-05</td>\n",
       "      <td>4.713662e+06</td>\n",
       "      <td>5.289060e-08</td>\n",
       "      <td>4.861345e+02</td>\n",
       "      <td>395.833333</td>\n",
       "      <td>0.0</td>\n",
       "      <td>0.000000e+00</td>\n",
       "      <td>0.0</td>\n",
       "      <td>0.0</td>\n",
       "    </tr>\n",
       "    <tr>\n",
       "      <th>5273479</th>\n",
       "      <td>8104868</td>\n",
       "      <td>90.0</td>\n",
       "      <td>992.556095</td>\n",
       "      <td>357.50</td>\n",
       "      <td>100000.0</td>\n",
       "      <td>101626.414062</td>\n",
       "      <td>31</td>\n",
       "      <td>191</td>\n",
       "      <td>286</td>\n",
       "      <td>0.000000</td>\n",
       "      <td>...</td>\n",
       "      <td>7.417297e+01</td>\n",
       "      <td>3.153768e-05</td>\n",
       "      <td>4.713663e+06</td>\n",
       "      <td>5.289066e-08</td>\n",
       "      <td>4.861356e+02</td>\n",
       "      <td>395.833333</td>\n",
       "      <td>0.0</td>\n",
       "      <td>0.000000e+00</td>\n",
       "      <td>0.0</td>\n",
       "      <td>0.0</td>\n",
       "    </tr>\n",
       "    <tr>\n",
       "      <th>5273480</th>\n",
       "      <td>8104869</td>\n",
       "      <td>90.0</td>\n",
       "      <td>992.556095</td>\n",
       "      <td>358.75</td>\n",
       "      <td>100000.0</td>\n",
       "      <td>101626.414062</td>\n",
       "      <td>31</td>\n",
       "      <td>191</td>\n",
       "      <td>287</td>\n",
       "      <td>0.000000</td>\n",
       "      <td>...</td>\n",
       "      <td>7.417307e+01</td>\n",
       "      <td>3.153783e-05</td>\n",
       "      <td>4.713659e+06</td>\n",
       "      <td>5.289093e-08</td>\n",
       "      <td>4.861409e+02</td>\n",
       "      <td>395.833333</td>\n",
       "      <td>0.0</td>\n",
       "      <td>3.637979e-12</td>\n",
       "      <td>0.0</td>\n",
       "      <td>0.0</td>\n",
       "    </tr>\n",
       "  </tbody>\n",
       "</table>\n",
       "<p>5273481 rows × 47 columns</p>\n",
       "</div>"
      ],
      "text/plain": [
       "           index   lat         lev     lon        P0             PS  depth  \\\n",
       "0              0 -90.0    3.643466    0.00  100000.0   68349.132812      0   \n",
       "1              1 -90.0    3.643466    1.25  100000.0   68349.132812      0   \n",
       "2              2 -90.0    3.643466    2.50  100000.0   68349.132812      0   \n",
       "3              3 -90.0    3.643466    3.75  100000.0   68349.132812      0   \n",
       "4              4 -90.0    3.643466    5.00  100000.0   68349.132812      0   \n",
       "...          ...   ...         ...     ...       ...            ...    ...   \n",
       "5273476  8104865  90.0  992.556095  353.75  100000.0  101626.414062     31   \n",
       "5273477  8104866  90.0  992.556095  355.00  100000.0  101626.414062     31   \n",
       "5273478  8104867  90.0  992.556095  356.25  100000.0  101626.414062     31   \n",
       "5273479  8104868  90.0  992.556095  357.50  100000.0  101626.414062     31   \n",
       "5273480  8104869  90.0  992.556095  358.75  100000.0  101626.414062     31   \n",
       "\n",
       "         row  col      hyam  ...    NR_TAU_out    QC_MG2_out    NC_MG2_out  \\\n",
       "0          0    0  0.003643  ...  1.000000e-12  9.563975e-23  1.000000e-12   \n",
       "1          0    1  0.003643  ...  1.000000e-12  9.563975e-23  1.000000e-12   \n",
       "2          0    2  0.003643  ...  1.000000e-12  9.563975e-23  1.000000e-12   \n",
       "3          0    3  0.003643  ...  1.000000e-12  9.563975e-23  1.000000e-12   \n",
       "4          0    4  0.003643  ...  1.000000e-12  9.563975e-23  1.000000e-12   \n",
       "...      ...  ...       ...  ...           ...           ...           ...   \n",
       "5273476  191  283  0.000000  ...  7.417124e+01  3.153452e-05  4.713692e+06   \n",
       "5273477  191  284  0.000000  ...  7.417290e+01  3.153754e-05  4.713664e+06   \n",
       "5273478  191  285  0.000000  ...  7.417296e+01  3.153765e-05  4.713662e+06   \n",
       "5273479  191  286  0.000000  ...  7.417297e+01  3.153768e-05  4.713663e+06   \n",
       "5273480  191  287  0.000000  ...  7.417307e+01  3.153783e-05  4.713659e+06   \n",
       "\n",
       "           QR_MG2_out    NR_MG2_out        time  mass_diff_TAU  mass_diff_MG2  \\\n",
       "0        6.149233e-23  1.000000e-12    0.000000            0.0   0.000000e+00   \n",
       "1        6.149233e-23  1.000000e-12    0.000000            0.0   0.000000e+00   \n",
       "2        6.149233e-23  1.000000e-12    0.000000            0.0   0.000000e+00   \n",
       "3        6.149233e-23  1.000000e-12    0.000000            0.0   0.000000e+00   \n",
       "4        6.149233e-23  1.000000e-12    0.000000            0.0   0.000000e+00   \n",
       "...               ...           ...         ...            ...            ...   \n",
       "5273476  5.288511e-08  4.860294e+02  395.833333            0.0   0.000000e+00   \n",
       "5273477  5.289041e-08  4.861309e+02  395.833333            0.0   0.000000e+00   \n",
       "5273478  5.289060e-08  4.861345e+02  395.833333            0.0   0.000000e+00   \n",
       "5273479  5.289066e-08  4.861356e+02  395.833333            0.0   0.000000e+00   \n",
       "5273480  5.289093e-08  4.861409e+02  395.833333            0.0   3.637979e-12   \n",
       "\n",
       "         tend_diff_TAU  tend_diff_MG2  \n",
       "0                  0.0            0.0  \n",
       "1                  0.0            0.0  \n",
       "2                  0.0            0.0  \n",
       "3                  0.0            0.0  \n",
       "4                  0.0            0.0  \n",
       "...                ...            ...  \n",
       "5273476            0.0            0.0  \n",
       "5273477            0.0            0.0  \n",
       "5273478            0.0            0.0  \n",
       "5273479            0.0            0.0  \n",
       "5273480            0.0            0.0  \n",
       "\n",
       "[5273481 rows x 47 columns]"
      ]
     },
     "execution_count": 11,
     "metadata": {},
     "output_type": "execute_result"
    }
   ],
   "source": [
    "mp_mass_data"
   ]
  },
  {
   "cell_type": "code",
   "execution_count": 12,
   "id": "8aa09567-ecc4-41d8-bd9c-9857a3a5e04f",
   "metadata": {},
   "outputs": [],
   "source": [
    "mp_mass_data.loc[:, \"Q_mass_out\"] = mp_mass_data[[\"QC_TAU_out\", \"QR_TAU_out\"]].sum(axis=1)\n",
    "mp_mass_data.loc[:, \"Q_mass_in\"] = mp_mass_data[[\"QC_TAU_in\", \"QR_TAU_in\"]].sum(axis=1)\n",
    "mp_mass_data.loc[:, \"QR_prop_out\"] = mp_mass_data[\"QR_TAU_out\"] / mp_mass_data[\"Q_mass_in\"] \n",
    "mp_mass_data.loc[:, \"QC_prop_out\"] = mp_mass_data[\"QC_TAU_out\"] / mp_mass_data[\"Q_mass_in\"] \n",
    "mp_mass_data.loc[:, \"QR_prop_in\"] = mp_mass_data[\"QR_TAU_in\"] / mp_mass_data[\"Q_mass_in\"] \n",
    "mp_mass_data.loc[:, \"QC_prop_in\"] = mp_mass_data[\"QC_TAU_in\"] / mp_mass_data[\"Q_mass_in\"] "
   ]
  },
  {
   "cell_type": "code",
   "execution_count": 7,
   "id": "vocal-advice",
   "metadata": {},
   "outputs": [
    {
     "data": {
      "text/plain": [
       "0.6506558402540694"
      ]
     },
     "execution_count": 7,
     "metadata": {},
     "output_type": "execute_result"
    }
   ],
   "source": [
    "np.count_nonzero((mp_data[\"tend_diff_TAU\"] == 0) & (mp_data[\"mass_diff_TAU\"] == 0) & \n",
    "                 np.all(mp_data[[\"QC_TAU_out\", \"QR_TAU_out\", \"NC_TAU_out\", \"NR_TAU_out\"]] >= 0, axis=1)) / mp_data.shape[0]"
   ]
  },
  {
   "cell_type": "code",
   "execution_count": 8,
   "id": "f999139c-f155-4650-a01f-8a578e7a81cf",
   "metadata": {},
   "outputs": [
    {
     "data": {
      "text/plain": [
       "0.9100602477276009"
      ]
     },
     "execution_count": 8,
     "metadata": {},
     "output_type": "execute_result"
    }
   ],
   "source": [
    "np.count_nonzero((mp_data[\"mass_diff_TAU\"] == 0)) / mp_data.shape[0]"
   ]
  },
  {
   "cell_type": "code",
   "execution_count": 9,
   "id": "678b2f3c-b14f-4172-b863-217497f913ee",
   "metadata": {},
   "outputs": [
    {
     "data": {
      "text/plain": [
       "0.8105487194736004"
      ]
     },
     "execution_count": 9,
     "metadata": {},
     "output_type": "execute_result"
    }
   ],
   "source": [
    "np.count_nonzero((mp_data[\"tend_diff_TAU\"] == 0)) / mp_data.shape[0]"
   ]
  },
  {
   "cell_type": "code",
   "execution_count": 10,
   "id": "6a30ff47-443e-4e25-8ff2-b884bbef8ab5",
   "metadata": {},
   "outputs": [
    {
     "data": {
      "text/plain": [
       "0.9130044035252879"
      ]
     },
     "execution_count": 10,
     "metadata": {},
     "output_type": "execute_result"
    }
   ],
   "source": [
    "np.count_nonzero(np.all(mp_data[[\"QC_TAU_out\", \"QR_TAU_out\", \"NC_TAU_out\", \"NR_TAU_out\"]] >= 0, axis=1)) / mp_data.shape[0]"
   ]
  },
  {
   "cell_type": "markdown",
   "id": "separate-shock",
   "metadata": {},
   "source": [
    "Test mass conservation (mass diff should be 0). A significant proportion of grid cells have mass conserved"
   ]
  },
  {
   "cell_type": "code",
   "execution_count": 19,
   "id": "03a127f0-2360-4570-9639-a6daaf45ae43",
   "metadata": {},
   "outputs": [
    {
     "data": {
      "text/plain": [
       "1.0000001"
      ]
     },
     "execution_count": 19,
     "metadata": {},
     "output_type": "execute_result"
    }
   ],
   "source": [
    "np.max(np.abs(mp_mass_data[\"QR_prop_out\"] + mp_mass_data[\"QC_prop_out\"]))"
   ]
  },
  {
   "cell_type": "code",
   "execution_count": 13,
   "id": "bf7cee50-44b6-4e48-9664-616b82c68ab8",
   "metadata": {},
   "outputs": [
    {
     "data": {
      "text/plain": [
       "(array([1450464.,  208228.,  129455.,   98413.,   91823.,  118884.,\n",
       "         997932.,  133223.,   78022.,   71076.,   68974.,   78131.,\n",
       "          85234.,   85627.,   56481.,   46000.,   39308.,   35462.,\n",
       "          28084.,   26001.,   19922.,   17790.,   17397.,   16972.,\n",
       "          16377.,   16034.,   15852.,   15304.,   14914.,   14845.,\n",
       "          14641.,   14497.,   14418.,   13945.,   14087.,   14240.,\n",
       "          14251.,   14183.,   14400.,   14542.,   14947.,   15547.,\n",
       "          16281.,   17378.,   18861.,   21440.,   25061.,   32075.,\n",
       "          49328.,  827130.]),\n",
       " array([0.  , 0.02, 0.04, 0.06, 0.08, 0.1 , 0.12, 0.14, 0.16, 0.18, 0.2 ,\n",
       "        0.22, 0.24, 0.26, 0.28, 0.3 , 0.32, 0.34, 0.36, 0.38, 0.4 , 0.42,\n",
       "        0.44, 0.46, 0.48, 0.5 , 0.52, 0.54, 0.56, 0.58, 0.6 , 0.62, 0.64,\n",
       "        0.66, 0.68, 0.7 , 0.72, 0.74, 0.76, 0.78, 0.8 , 0.82, 0.84, 0.86,\n",
       "        0.88, 0.9 , 0.92, 0.94, 0.96, 0.98, 1.  ], dtype=float32),\n",
       " <BarContainer object of 50 artists>)"
      ]
     },
     "execution_count": 13,
     "metadata": {},
     "output_type": "execute_result"
    },
    {
     "data": {
      "image/png": "[encoded data removed]",
      "text/plain": [
       "<Figure size 432x288 with 1 Axes>"
      ]
     },
     "metadata": {
      "needs_background": "light"
     },
     "output_type": "display_data"
    }
   ],
   "source": [
    "plt.hist(mp_mass_data[\"QR_prop_out\"], bins=50)"
   ]
  },
  {
   "cell_type": "code",
   "execution_count": 13,
   "id": "c2d9077f-b4cf-4f59-b0c0-aa3fba895792",
   "metadata": {},
   "outputs": [],
   "source": [
    "input_cols = [\"QC_TAU_in\", \"QR_TAU_in\", \"NC_TAU_in\", \"NR_TAU_in\", \"precip_frac\", \"lcldm\"]\n",
    "output_cols = [\"QC_TAU_out\", \"QR_TAU_out\", \"NC_TAU_out\", \"NR_TAU_out\"]\n",
    "scale_in = StandardScaler()\n",
    "in_data_transformed = pd.DataFrame(0, columns=input_cols, index=mp_mass_data.index)\n",
    "for input_col in input_cols:\n",
    "    if input_col in [\"QC_TAU_in\", \"QR_TAU_in\", \"NC_TAU_in\", \"NR_TAU_in\"]:\n",
    "        in_data_transformed.loc[:, input_col] = np.log10(np.maximum(mp_mass_data[input_col].values, 1e-38))\n",
    "    else:\n",
    "        in_data_transformed.loc[:, input_col] = mp_mass_data[input_col]\n",
    "in_data = scale_in.fit_transform(in_data_transformed)\n",
    "out_data = mp_mass_data.loc[:, output_cols]\n",
    "for col in output_cols:\n",
    "    out_data.loc[:, col] = np.log10(np.maximum(out_data.loc[:, col], 1e-38))"
   ]
  },
  {
   "cell_type": "code",
   "execution_count": 14,
   "id": "db7fbbfb-531c-4db1-af1d-aa2653dfffe9",
   "metadata": {},
   "outputs": [
    {
     "data": {
      "text/plain": [
       "QC_TAU_out   -37.929779\n",
       "QR_TAU_out   -38.000000\n",
       "NC_TAU_out   -12.000000\n",
       "NR_TAU_out   -12.000000\n",
       "dtype: float32"
      ]
     },
     "execution_count": 14,
     "metadata": {},
     "output_type": "execute_result"
    }
   ],
   "source": [
    "out_data.min()"
   ]
  },
  {
   "cell_type": "code",
   "execution_count": 91,
   "id": "3866191a-54e4-4e7e-a4b4-30eb7cc25245",
   "metadata": {},
   "outputs": [],
   "source": [
    "from tensorflow.experimental.numpy import log10 as tflog10\n",
    "def mass_loss(y_true_log, y_pred_log, scale_factor=2):\n",
    "    \n",
    "    y_true = 10 ** y_true_log\n",
    "    y_pred = 10 ** y_pred_log\n",
    "    mse_loss = tf.reduce_mean((y_true_log - y_pred_log) ** 2, axis=0)\n",
    "    mass_in_true_l = tflog10(tf.reduce_sum(y_true[:, 0:2], axis=1))\n",
    "    mass_out_pred_l = tflog10(tf.reduce_sum(y_pred[:, 2:4], axis=1))\n",
    "    mass_in_pred_l = tflog10(tf.reduce_sum(y_pred[:, 0:2], axis=1))\n",
    "\n",
    "    mass_diff_loss = tf.reduce_mean(tf.abs(mass_in_true_l - mass_out_pred_l))\n",
    "    mass_diff_loss += tf.reduce_mean(tf.abs(mass_in_true_l - mass_in_pred_l))\n",
    "    loss = tf.reduce_sum(mse_loss) + scale_factor * mass_diff_loss\n",
    "    loss = tf.reduce_sum(mse_loss)\n",
    "    return loss"
   ]
  },
  {
   "cell_type": "code",
   "execution_count": 15,
   "id": "a4294233-51fa-4a19-879a-fe231c70a9c5",
   "metadata": {},
   "outputs": [
    {
     "name": "stderr",
     "output_type": "stream",
     "text": [
      "2021-08-04 11:13:07.974233: I tensorflow/compiler/jit/xla_cpu_device.cc:41] Not creating XLA devices, tf_xla_enable_xla_devices not set\n",
      "2021-08-04 11:13:07.975602: I tensorflow/stream_executor/platform/default/dso_loader.cc:49] Successfully opened dynamic library libcuda.so.1\n",
      "2021-08-04 11:13:08.350873: E tensorflow/stream_executor/cuda/cuda_driver.cc:328] failed call to cuInit: CUDA_ERROR_NO_DEVICE: no CUDA-capable device is detected\n",
      "2021-08-04 11:13:08.350926: I tensorflow/stream_executor/cuda/cuda_diagnostics.cc:156] kernel driver does not appear to be running on this host (crhtc37): /proc/driver/nvidia/version does not exist\n",
      "2021-08-04 11:13:08.351579: I tensorflow/core/platform/cpu_feature_guard.cc:142] This TensorFlow binary is optimized with oneAPI Deep Neural Network Library (oneDNN) to use the following CPU instructions in performance-critical operations:  AVX512F\n",
      "To enable them in other operations, rebuild TensorFlow with the appropriate compiler flags.\n",
      "2021-08-04 11:13:08.352618: I tensorflow/compiler/jit/xla_gpu_device.cc:99] Not creating XLA devices, tf_xla_enable_xla_devices not set\n"
     ]
    },
    {
     "name": "stdout",
     "output_type": "stream",
     "text": [
      "Model: \"model\"\n",
      "_________________________________________________________________\n",
      "Layer (type)                 Output Shape              Param #   \n",
      "=================================================================\n",
      "input (InputLayer)           [(None, 6)]               0         \n",
      "_________________________________________________________________\n",
      "dense_00 (Dense)             (None, 128)               896       \n",
      "_________________________________________________________________\n",
      "dense_01 (Dense)             (None, 4)                 516       \n",
      "=================================================================\n",
      "Total params: 1,412\n",
      "Trainable params: 1,412\n",
      "Non-trainable params: 0\n",
      "_________________________________________________________________\n"
     ]
    },
    {
     "name": "stderr",
     "output_type": "stream",
     "text": [
      "2021-08-04 11:13:08.601065: I tensorflow/compiler/mlir/mlir_graph_optimization_pass.cc:116] None of the MLIR optimization passes are enabled (registered 2)\n",
      "2021-08-04 11:13:08.601502: I tensorflow/core/platform/profile_utils/cpu_utils.cc:112] CPU Frequency: 2600000000 Hz\n"
     ]
    },
    {
     "name": "stdout",
     "output_type": "stream",
     "text": [
      "Epoch 1/30\n",
      "10300/10300 [==============================] - 10s 903us/step - loss: 4.2146\n",
      "Epoch 2/30\n",
      "10300/10300 [==============================] - 8s 801us/step - loss: 0.0570\n",
      "Epoch 3/30\n",
      "10300/10300 [==============================] - 9s 911us/step - loss: 0.0347\n",
      "Epoch 4/30\n",
      "10300/10300 [==============================] - 9s 842us/step - loss: 0.0281\n",
      "Epoch 5/30\n",
      "10300/10300 [==============================] - 9s 857us/step - loss: 0.0254\n",
      "Epoch 6/30\n",
      "10300/10300 [==============================] - 9s 890us/step - loss: 0.0237\n",
      "Epoch 7/30\n",
      "10300/10300 [==============================] - 9s 840us/step - loss: 0.0227\n",
      "Epoch 8/30\n",
      "10300/10300 [==============================] - 9s 885us/step - loss: 0.0217\n",
      "Epoch 9/30\n",
      "10300/10300 [==============================] - 9s 830us/step - loss: 0.0209\n",
      "Epoch 10/30\n",
      "10300/10300 [==============================] - 9s 898us/step - loss: 0.0203\n",
      "Epoch 11/30\n",
      "10300/10300 [==============================] - 9s 905us/step - loss: 0.0196\n",
      "Epoch 12/30\n",
      "10300/10300 [==============================] - 8s 803us/step - loss: 0.0190\n",
      "Epoch 13/30\n",
      "10300/10300 [==============================] - 9s 908us/step - loss: 0.0183\n",
      "Epoch 14/30\n",
      "10300/10300 [==============================] - 9s 873us/step - loss: 0.0179\n",
      "Epoch 15/30\n",
      "10300/10300 [==============================] - 9s 838us/step - loss: 0.0173\n",
      "Epoch 16/30\n",
      "10300/10300 [==============================] - 9s 905us/step - loss: 0.0169\n",
      "Epoch 17/30\n",
      "10300/10300 [==============================] - 8s 815us/step - loss: 0.0165\n",
      "Epoch 18/30\n",
      "10300/10300 [==============================] - 9s 892us/step - loss: 0.0162\n",
      "Epoch 19/30\n",
      "10300/10300 [==============================] - 9s 855us/step - loss: 0.0160\n",
      "Epoch 20/30\n",
      "10300/10300 [==============================] - 9s 879us/step - loss: 0.0156\n",
      "Epoch 21/30\n",
      "10300/10300 [==============================] - 9s 907us/step - loss: 0.0153\n",
      "Epoch 22/30\n",
      "10300/10300 [==============================] - 8s 810us/step - loss: 0.0151\n",
      "Epoch 23/30\n",
      "10300/10300 [==============================] - 9s 898us/step - loss: 0.0149\n",
      "Epoch 24/30\n",
      "10300/10300 [==============================] - 9s 894us/step - loss: 0.0146\n",
      "Epoch 25/30\n",
      "10300/10300 [==============================] - 9s 836us/step - loss: 0.0144\n",
      "Epoch 26/30\n",
      "10300/10300 [==============================] - 9s 913us/step - loss: 0.0141\n",
      "Epoch 27/30\n",
      "10300/10300 [==============================] - 9s 842us/step - loss: 0.0139\n",
      "Epoch 28/30\n",
      "10300/10300 [==============================] - 9s 870us/step - loss: 0.0137\n",
      "Epoch 29/30\n",
      "10300/10300 [==============================] - 9s 882us/step - loss: 0.0135\n",
      "Epoch 30/30\n",
      "10300/10300 [==============================] - 9s 843us/step - loss: 0.0133\n"
     ]
    },
    {
     "data": {
      "text/plain": [
       "{'loss': [1.6555263996124268,\n",
       "  0.048750441521406174,\n",
       "  0.03257323428988457,\n",
       "  0.02722080424427986,\n",
       "  0.024909477680921555,\n",
       "  0.023483334109187126,\n",
       "  0.022431643679738045,\n",
       "  0.021550018340349197,\n",
       "  0.020774826407432556,\n",
       "  0.020088540390133858,\n",
       "  0.019436096772551537,\n",
       "  0.01882542483508587,\n",
       "  0.01826416328549385,\n",
       "  0.01775074563920498,\n",
       "  0.0172840878367424,\n",
       "  0.016868792474269867,\n",
       "  0.016501719132065773,\n",
       "  0.016166817396879196,\n",
       "  0.015857568010687828,\n",
       "  0.015563739463686943,\n",
       "  0.015285405330359936,\n",
       "  0.015024595893919468,\n",
       "  0.014778814278542995,\n",
       "  0.014548078179359436,\n",
       "  0.014314181171357632,\n",
       "  0.014078731648623943,\n",
       "  0.013847644440829754,\n",
       "  0.013640806078910828,\n",
       "  0.013448788784444332,\n",
       "  0.01326681673526764]}"
      ]
     },
     "execution_count": 15,
     "metadata": {},
     "output_type": "execute_result"
    }
   ],
   "source": [
    "multi_dnn = DenseNeuralNetwork(hidden_layers=1, hidden_neurons=128, activation=\"relu\", output_activation=\"linear\",\n",
    "                               lr=1e-4, batch_size=512, loss=\"huber\", verbose=1, l2_weight=0, epochs=30)\n",
    "multi_dnn.fit(in_data, out_data)"
   ]
  },
  {
   "cell_type": "code",
   "execution_count": 23,
   "id": "908d934f-92bf-4da2-a2c6-eced11211429",
   "metadata": {},
   "outputs": [
    {
     "data": {
      "text/plain": [
       "701"
      ]
     },
     "execution_count": 23,
     "metadata": {},
     "output_type": "execute_result"
    }
   ],
   "source": [
    "len(mp_files)"
   ]
  },
  {
   "cell_type": "code",
   "execution_count": 21,
   "id": "tender-myanmar",
   "metadata": {},
   "outputs": [],
   "source": [
    "mp_test_data = pd.concat([pd.read_parquet(mp_files[x]) for x in range(500, 700, 20)], ignore_index=True)\n",
    "#mp_test_data.loc[:, \"precip_frac_logit\"] = logit(mp_test_data[\"precip_frac\"].values)\n",
    "#mp_test_data.loc[:, \"lcldm_logit\"] = logit(mp_test_data[\"lcldm\"].values)\n",
    "dt = 60 * 30 #minutes\n",
    "mp_test_data[\"tend_diff_TAU\"] = (mp_test_data[\"qctend_TAU\"] + mp_test_data[\"qrtend_TAU\"])\n",
    "mp_test_data[\"mass_diff_TAU\"] = (mp_test_data[\"QC_TAU_out\"] + mp_test_data[\"QR_TAU_out\"]) - (mp_test_data[\"QC_TAU_in\"] + mp_test_data[\"QR_TAU_in\"])\n",
    "\n",
    "ixt = (mp_test_data[\"tend_diff_TAU\"] == 0) & (mp_test_data[\"mass_diff_TAU\"] == 0) & \\\n",
    "    np.all(mp_test_data[[\"QC_TAU_out\", \"QR_TAU_out\", \"NC_TAU_out\", \"NR_TAU_out\"]] >= 0, axis=1)\n",
    "mp_test_mass_data = mp_test_data.loc[ixt].reset_index()\n",
    "mp_test_mass_data.loc[:, \"Q_mass_in\"] = mp_test_mass_data[[\"QC_TAU_in\", \"QR_TAU_in\"]].sum(axis=1)\n",
    "mp_test_mass_data.loc[:, \"QR_prop_out\"] = mp_test_mass_data[\"QR_TAU_out\"] / mp_test_mass_data[\"Q_mass_in\"] \n",
    "mp_test_mass_data.loc[:, \"QC_prop_out\"] = mp_test_mass_data[\"QC_TAU_out\"] / mp_test_mass_data[\"Q_mass_in\"]\n",
    "mp_test_mass_data.loc[:, \"QR_prop_in\"] = mp_test_mass_data[\"QR_TAU_in\"] / mp_test_mass_data[\"Q_mass_in\"] \n",
    "mp_test_mass_data.loc[:, \"QC_prop_in\"] = mp_test_mass_data[\"QC_TAU_in\"] / mp_test_mass_data[\"Q_mass_in\"] \n",
    "in_data_transformed = pd.DataFrame(0, columns=input_cols, index=mp_test_mass_data.index)\n",
    "for input_col in input_cols:\n",
    "    if input_col in [\"QC_TAU_in\", \"QR_TAU_in\", \"NC_TAU_in\", \"NR_TAU_in\"]:\n",
    "        in_data_transformed.loc[:, input_col] = np.log10(np.maximum(mp_test_mass_data[input_col].values, 1e-38))\n",
    "    else:\n",
    "        in_data_transformed.loc[:, input_col] = mp_test_mass_data[input_col]\n",
    "in_test_data = scale_in.transform(in_data_transformed)\n",
    "out_test_data = mp_test_mass_data.loc[:, output_cols]\n",
    "for col in output_cols:\n",
    "    out_test_data.loc[:, col] = np.log10(np.maximum(out_test_data.loc[:, col], 1e-38))"
   ]
  },
  {
   "cell_type": "code",
   "execution_count": 52,
   "id": "7b4d8c36-7182-43ab-8a93-5b8739c173b3",
   "metadata": {},
   "outputs": [
    {
     "data": {
      "text/plain": [
       "(2642804, 4)"
      ]
     },
     "execution_count": 52,
     "metadata": {},
     "output_type": "execute_result"
    }
   ],
   "source": [
    "mp_test_mass_data.loc[:, output_cols].shape"
   ]
  },
  {
   "cell_type": "code",
   "execution_count": 23,
   "id": "closing-george",
   "metadata": {},
   "outputs": [],
   "source": [
    "\n",
    "mod_preds = multi_dnn.model.predict(in_test_data, batch_size=8192)"
   ]
  },
  {
   "cell_type": "code",
   "execution_count": 24,
   "id": "15cc86e1-c627-4831-8917-a035f44300ed",
   "metadata": {},
   "outputs": [
    {
     "name": "stdout",
     "output_type": "stream",
     "text": [
      "QC_TAU_out 0.9999800188972386\n",
      "QR_TAU_out 0.9993145473566181\n",
      "NC_TAU_out 0.9998880507178306\n",
      "NR_TAU_out 0.999032870692466\n"
     ]
    }
   ],
   "source": [
    "from sklearn.metrics import r2_score\n",
    "for i in range(4):\n",
    "    \n",
    "    print(output_cols[i], r2_score(out_test_data.iloc[:, i], mod_preds[:, i]))"
   ]
  },
  {
   "cell_type": "code",
   "execution_count": 28,
   "id": "manual-minimum",
   "metadata": {},
   "outputs": [
    {
     "data": {
      "image/png": "[encoded data removed]",
      "text/plain": [
       "<Figure size 720x720 with 8 Axes>"
      ]
     },
     "metadata": {
      "needs_background": "light"
     },
     "output_type": "display_data"
    }
   ],
   "source": [
    "plt.figure(figsize=(10, 10))\n",
    "for i in range(4):\n",
    "    plt.subplot(2, 2, i+1)\n",
    "    plt.hist2d(mod_preds[:, i], out_test_data.loc[:,output_cols[i]], cmin=1, norm=LogNorm(), bins=np.arange(mod_preds[:, i].min(), mod_preds[:, i].max(), 0.5))\n",
    "    plt.xlabel(\"Emulated\")\n",
    "    plt.ylabel(\"Actual\")\n",
    "    plt.title(\"log \" + output_cols[i].split(\"_\")[0])\n",
    "    diag = np.arange(out_test_data.iloc[:, i].min(), out_test_data.iloc[:, i].max(), 1)\n",
    "    plt.plot(diag, diag, 'k--', lw=1)\n",
    "    plt.colorbar()\n",
    "plt.savefig(\"mass_hist_out.png\", dpi=200, bbox_inches=\"tight\")"
   ]
  },
  {
   "cell_type": "code",
   "execution_count": 124,
   "id": "8dc77686-1af5-483a-8450-e435708c9472",
   "metadata": {},
   "outputs": [
    {
     "data": {
      "text/plain": [
       "(52735, 6)"
      ]
     },
     "execution_count": 124,
     "metadata": {},
     "output_type": "execute_result"
    }
   ],
   "source": [
    "in_data[::100].shape"
   ]
  },
  {
   "cell_type": "code",
   "execution_count": 125,
   "id": "b9d5a627-b015-4b34-82be-e23ed6217c08",
   "metadata": {},
   "outputs": [
    {
     "name": "stderr",
     "output_type": "stream",
     "text": [
      "/glade/work/dgagne/miniconda3/envs/mlmicro/lib/python3.8/site-packages/sklearn/inspection/_partial_dependence.py:505: FutureWarning: A Bunch will be returned in place of 'predictions' from version 1.1 (renaming of 0.26) with partial dependence results accessible via the 'average' key. In the meantime, pass kind='average' to get the future behaviour.\n",
      "  warnings.warn(\n"
     ]
    }
   ],
   "source": [
    "multi_dnn._estimator_type = \"regressor\"\n",
    "multi_dnn.model_ = multi_dnn.model\n",
    "pd_out = partial_dependence(multi_dnn, pd.DataFrame(in_data[::100], columns=input_cols), features=input_cols[0], grid_resolution=10)"
   ]
  },
  {
   "cell_type": "code",
   "execution_count": 129,
   "id": "df230498-e098-469d-b597-bc0b010b88a8",
   "metadata": {},
   "outputs": [
    {
     "data": {
      "text/plain": [
       "[array([-1.46745162, -1.17744087, -0.88743012, -0.59741936, -0.30740861,\n",
       "        -0.01739786,  0.27261289,  0.56262364,  0.85263439,  1.14264514])]"
      ]
     },
     "execution_count": 129,
     "metadata": {},
     "output_type": "execute_result"
    }
   ],
   "source": [
    "pd_out[1]"
   ]
  },
  {
   "cell_type": "code",
   "execution_count": 32,
   "id": "7257d8de-4d58-4ba8-abd4-5eb9a378c941",
   "metadata": {},
   "outputs": [
    {
     "data": {
      "image/png": "[encoded data removed]",
      "text/plain": [
       "<Figure size 432x288 with 1 Axes>"
      ]
     },
     "metadata": {
      "needs_background": "light"
     },
     "output_type": "display_data"
    }
   ],
   "source": [
    "pred_mass = np.sum(10 ** mod_preds[:, 0:1], axis=1)\n",
    "plt.hist(np.abs(mp_test_mass_data[\"Q_mass_in\"] - pred_mass), bins=50)\n",
    "plt.xlabel(\"log Q Mass Difference |Predicted - Actual Mass|\")\n",
    "plt.ylabel(\"Frequency\")\n",
    "plt.savefig(\"mass_diff_hist.png\", dpi=200, bbox_inches=\"tight\")\n",
    "plt.gca().set_yscale(\"log\")"
   ]
  },
  {
   "cell_type": "code",
   "execution_count": 38,
   "id": "c42dab82-7665-4d9e-8161-6470b51a0eae",
   "metadata": {},
   "outputs": [],
   "source": [
    "\n",
    "input_cols_q = [\"QC_TAU_in\", \"QR_TAU_in\", \"NC_TAU_in\", \"NR_TAU_in\", \"precip_frac\", \"lcldm\"]\n",
    "output_cols_q = [\"QC_TAU_out\", \"QR_TAU_out\"]\n",
    "in_data_transformed_q = pd.DataFrame(0, columns=input_cols_q, index=mp_mass_data.index)\n",
    "for input_col in input_cols_q:\n",
    "    if input_col in [\"QC_TAU_in\", \"QR_TAU_in\", \"NC_TAU_in\", \"NR_TAU_in\", \"Q_mass_in\"]:\n",
    "        in_data_transformed_q.loc[:, input_col] = np.log10(np.maximum(mp_mass_data[input_col].values, 1e-38))\n",
    "    else:\n",
    "        in_data_transformed_q.loc[:, input_col] = mp_mass_data[input_col]\n",
    "scale_in_q = StandardScaler()\n",
    "in_data_q = scale_in_q.fit_transform(in_data_transformed_q)\n",
    "out_data_q = np.log10(mp_mass_data[output_cols_q])"
   ]
  },
  {
   "cell_type": "code",
   "execution_count": null,
   "id": "cad5ed9e-4257-457f-ad59-a28edb6bde18",
   "metadata": {},
   "outputs": [],
   "source": [
    "mp_mass_data[\"QC_prop_out\"]"
   ]
  },
  {
   "cell_type": "markdown",
   "id": "778f3bbd-8733-45bd-af91-058776a8da07",
   "metadata": {},
   "source": [
    "I am attempting to fit a neural network that predicts the partitioning of QR and QC simultanenously. I fit a neural network with a softmax activation function to do so. It appears to be having trouble fitting both values very well and has lots of artifacts throughout the histogram."
   ]
  },
  {
   "cell_type": "markdown",
   "id": "fb62fd4c-6563-4cdb-a7ce-a57b84824611",
   "metadata": {},
   "source": [
    "I am fitting an ANN to predict the QC mass partition with a sigmoid activation function."
   ]
  },
  {
   "cell_type": "code",
   "execution_count": 68,
   "id": "946ce16c-c4bc-48c1-8240-13177be61820",
   "metadata": {},
   "outputs": [
    {
     "name": "stdout",
     "output_type": "stream",
     "text": [
      "Model: \"model_5\"\n",
      "_________________________________________________________________\n",
      "Layer (type)                 Output Shape              Param #   \n",
      "=================================================================\n",
      "input (InputLayer)           [(None, 6)]               0         \n",
      "_________________________________________________________________\n",
      "dense_00 (Dense)             (None, 128)               896       \n",
      "_________________________________________________________________\n",
      "dense_01 (Dense)             (None, 1)                 129       \n",
      "=================================================================\n",
      "Total params: 1,025\n",
      "Trainable params: 1,025\n",
      "Non-trainable params: 0\n",
      "_________________________________________________________________\n",
      "Epoch 1/30\n",
      "41200/41200 [==============================] - 22s 530us/step - loss: 43.6390\n",
      "Epoch 2/30\n",
      "41200/41200 [==============================] - 22s 542us/step - loss: 0.0024\n",
      "Epoch 3/30\n",
      "41200/41200 [==============================] - 22s 527us/step - loss: 0.0018\n",
      "Epoch 4/30\n",
      "41200/41200 [==============================] - 22s 529us/step - loss: 0.0016\n",
      "Epoch 5/30\n",
      "41200/41200 [==============================] - 23s 554us/step - loss: 0.0015\n",
      "Epoch 6/30\n",
      "41200/41200 [==============================] - 22s 526us/step - loss: 0.0014\n",
      "Epoch 7/30\n",
      "41200/41200 [==============================] - 22s 540us/step - loss: 0.0013\n",
      "Epoch 8/30\n",
      "41200/41200 [==============================] - 22s 529us/step - loss: 0.0013\n",
      "Epoch 9/30\n",
      "41200/41200 [==============================] - 22s 538us/step - loss: 0.0013\n",
      "Epoch 10/30\n",
      "41200/41200 [==============================] - 23s 552us/step - loss: 0.0012\n",
      "Epoch 11/30\n",
      "41200/41200 [==============================] - 22s 535us/step - loss: 0.0012\n",
      "Epoch 12/30\n",
      "41200/41200 [==============================] - 23s 553us/step - loss: 0.0012\n",
      "Epoch 13/30\n",
      "41200/41200 [==============================] - 22s 527us/step - loss: 0.0011\n",
      "Epoch 14/30\n",
      "41200/41200 [==============================] - 22s 534us/step - loss: 0.0012\n",
      "Epoch 15/30\n",
      "41200/41200 [==============================] - 23s 554us/step - loss: 0.0011\n",
      "Epoch 16/30\n",
      "41200/41200 [==============================] - 22s 527us/step - loss: 0.0011\n",
      "Epoch 17/30\n",
      "41200/41200 [==============================] - 23s 554us/step - loss: 0.0011\n",
      "Epoch 18/30\n",
      "41200/41200 [==============================] - 22s 543us/step - loss: 0.0011\n",
      "Epoch 19/30\n",
      "41200/41200 [==============================] - 22s 536us/step - loss: 0.0011\n",
      "Epoch 20/30\n",
      "41200/41200 [==============================] - 23s 558us/step - loss: 0.0011\n",
      "Epoch 21/30\n",
      "41200/41200 [==============================] - 22s 529us/step - loss: 0.0011\n",
      "Epoch 22/30\n",
      "41200/41200 [==============================] - 22s 544us/step - loss: 0.0011\n",
      "Epoch 23/30\n",
      "41200/41200 [==============================] - 22s 545us/step - loss: 0.0011\n",
      "Epoch 24/30\n",
      "41200/41200 [==============================] - 22s 529us/step - loss: 0.0011\n",
      "Epoch 25/30\n",
      "41200/41200 [==============================] - 23s 559us/step - loss: 0.0010\n",
      "Epoch 26/30\n",
      "41200/41200 [==============================] - 22s 532us/step - loss: 0.0010\n",
      "Epoch 27/30\n",
      "41200/41200 [==============================] - 22s 541us/step - loss: 0.0010\n",
      "Epoch 28/30\n",
      "41200/41200 [==============================] - 22s 543us/step - loss: 0.0010\n",
      "Epoch 29/30\n",
      "41200/41200 [==============================] - 22s 526us/step - loss: 9.8210e-04\n",
      "Epoch 30/30\n",
      "41200/41200 [==============================] - 22s 534us/step - loss: 0.0010\n"
     ]
    }
   ],
   "source": [
    "dnn_qc = DenseNeuralNetwork(hidden_layers=1, hidden_neurons=128, activation=\"relu\", output_activation=\"linear\", batch_size=128, \n",
    "                         epochs=30, verbose=1, loss=\"mse\", lr=1e-4, l2_weight=0)\n",
    "dnn_qc_hist = dnn_qc.fit(in_data_q, out_data_q.iloc[:, 0].values)"
   ]
  },
  {
   "cell_type": "code",
   "execution_count": 69,
   "id": "1f7e4dbb-db6b-4832-8e69-543e449510c3",
   "metadata": {},
   "outputs": [
    {
     "data": {
      "text/plain": [
       "[<matplotlib.lines.Line2D at 0x2b366df229d0>]"
      ]
     },
     "execution_count": 69,
     "metadata": {},
     "output_type": "execute_result"
    },
    {
     "data": {
      "image/png": "[encoded data removed]",
      "text/plain": [
       "<Figure size 432x288 with 1 Axes>"
      ]
     },
     "metadata": {
      "needs_background": "light"
     },
     "output_type": "display_data"
    }
   ],
   "source": [
    "plt.plot(np.log10(dnn_qc_hist[\"loss\"][1:]))"
   ]
  },
  {
   "cell_type": "code",
   "execution_count": 70,
   "id": "e2340bee-f204-45d0-9eca-49d881d8f522",
   "metadata": {},
   "outputs": [],
   "source": [
    "in_test_data_q = scale_in_q.transform(np.log10(np.maximum(mp_test_mass_data[input_cols_q], 1e-38)))\n",
    "\n",
    "out_pred_qc = dnn_qc.model.predict(in_test_data_q, batch_size=8192)[:, 0]\n",
    "out_pred_qc_total = np.zeros((out_pred_qc.shape[0], 2)) \n",
    "out_pred_qc_total[:, 0] = 10 ** out_pred_qc\n",
    "out_pred_qc_total[:, 1] = mp_test_mass_data[[\"QR_TAU_in\", \"QC_TAU_in\"]].sum(axis=1).values - 10 ** out_pred_qc\n",
    "#out_pred_qc_total[:, 0] = out_pred_qc * mp_test_mass_data[[\"QR_TAU_in\", \"QC_TAU_in\"]].sum(axis=1).values\n",
    "#out_pred_qc_total[:, 1] = (1 - out_pred_qc) * mp_test_mass_data[[\"QR_TAU_in\", \"QC_TAU_in\"]].sum(axis=1).values\n"
   ]
  },
  {
   "cell_type": "code",
   "execution_count": 71,
   "id": "4a3d9a27-13a9-4f87-9783-69c5108699d7",
   "metadata": {},
   "outputs": [
    {
     "data": {
      "text/plain": [
       "(array([[2.89000e+02, 1.92000e+02, 5.48000e+02, ...,         nan,\n",
       "                 nan,         nan],\n",
       "        [        nan,         nan,         nan, ...,         nan,\n",
       "                 nan,         nan],\n",
       "        [        nan,         nan,         nan, ...,         nan,\n",
       "                 nan,         nan],\n",
       "        ...,\n",
       "        [        nan,         nan,         nan, ..., 4.75520e+04,\n",
       "                 nan,         nan],\n",
       "        [        nan,         nan,         nan, ..., 4.30260e+04,\n",
       "         8.00000e+01,         nan],\n",
       "        [        nan,         nan,         nan, ..., 1.67641e+05,\n",
       "         3.31999e+05, 1.15519e+05]]),\n",
       " array([-247.29257202, -242.41270939, -237.53284677, -232.65298414,\n",
       "        -227.77312151, -222.89325888, -218.01339625, -213.13353363,\n",
       "        -208.253671  , -203.37380837, -198.49394574, -193.61408311,\n",
       "        -188.73422049, -183.85435786, -178.97449523, -174.0946326 ,\n",
       "        -169.21476997, -164.33490735, -159.45504472, -154.57518209,\n",
       "        -149.69531946, -144.81545683, -139.93559421, -135.05573158,\n",
       "        -130.17586895, -125.29600632, -120.41614369, -115.53628107,\n",
       "        -110.65641844, -105.77655581, -100.89669318,  -96.01683055,\n",
       "         -91.13696793,  -86.2571053 ,  -81.37724267,  -76.49738004,\n",
       "         -71.61751741,  -66.73765479,  -61.85779216,  -56.97792953,\n",
       "         -52.0980669 ,  -47.21820427,  -42.33834165,  -37.45847902,\n",
       "         -32.57861639,  -27.69875376,  -22.81889113,  -17.93902851,\n",
       "         -13.05916588,   -8.17930325,   -3.29944062]),\n",
       " array([-37.92977905, -37.23587274, -36.54196642, -35.8480601 ,\n",
       "        -35.15415379, -34.46024747, -33.76634115, -33.07243484,\n",
       "        -32.37852852, -31.6846222 , -30.99071589, -30.29680957,\n",
       "        -29.60290325, -28.90899693, -28.21509062, -27.5211843 ,\n",
       "        -26.82727798, -26.13337167, -25.43946535, -24.74555903,\n",
       "        -24.05165272, -23.3577464 , -22.66384008, -21.96993377,\n",
       "        -21.27602745, -20.58212113, -19.88821482, -19.1943085 ,\n",
       "        -18.50040218, -17.80649587, -17.11258955, -16.41868323,\n",
       "        -15.72477692, -15.0308706 , -14.33696428, -13.64305797,\n",
       "        -12.94915165, -12.25524533, -11.56133902, -10.8674327 ,\n",
       "        -10.17352638,  -9.47962007,  -8.78571375,  -8.09180743,\n",
       "         -7.39790112,  -6.7039948 ,  -6.01008848,  -5.31618217,\n",
       "         -4.62227585,  -3.92836953,  -3.23446321]),\n",
       " <matplotlib.collections.QuadMesh at 0x2b366dfba040>)"
      ]
     },
     "execution_count": 71,
     "metadata": {},
     "output_type": "execute_result"
    },
    {
     "data": {
      "image/png": "[encoded data removed]",
      "text/plain": [
       "<Figure size 432x288 with 1 Axes>"
      ]
     },
     "metadata": {
      "needs_background": "light"
     },
     "output_type": "display_data"
    }
   ],
   "source": [
    "plt.hist2d(out_pred_qc, out_test_data[\"QC_TAU_out\"], bins=50, cmin=1, norm=LogNorm())"
   ]
  },
  {
   "cell_type": "code",
   "execution_count": 60,
   "id": "2022392f-4163-4f3f-8d16-24178917ae62",
   "metadata": {},
   "outputs": [
    {
     "data": {
      "text/plain": [
       "-76.108864"
      ]
     },
     "execution_count": 60,
     "metadata": {},
     "output_type": "execute_result"
    }
   ],
   "source": [
    "out_pred_qc.min()"
   ]
  },
  {
   "cell_type": "code",
   "execution_count": 205,
   "id": "66b1bba7-dcf0-49c7-abb0-5fde753afed6",
   "metadata": {},
   "outputs": [
    {
     "data": {
      "text/plain": [
       "(array([ 955034.,   83014.,   71616.,   71588.,   76949.,   88458.,\n",
       "         174855.,  374447., 1399137., 1978383.]),\n",
       " array([8.122813e-31, 1.000000e-01, 2.000000e-01, 3.000000e-01,\n",
       "        4.000000e-01, 5.000000e-01, 6.000000e-01, 7.000000e-01,\n",
       "        8.000000e-01, 9.000000e-01, 1.000000e+00], dtype=float32),\n",
       " <BarContainer object of 10 artists>)"
      ]
     },
     "execution_count": 205,
     "metadata": {},
     "output_type": "execute_result"
    },
    {
     "data": {
      "image/png": "[encoded data removed]",
      "text/plain": [
       "<Figure size 432x288 with 1 Axes>"
      ]
     },
     "metadata": {
      "needs_background": "light"
     },
     "output_type": "display_data"
    }
   ],
   "source": [
    "plt.hist(out_data_q.iloc[:,0])"
   ]
  },
  {
   "cell_type": "code",
   "execution_count": 58,
   "id": "4c4d1dbd-b5a5-42cb-a061-5e9d2cca3142",
   "metadata": {},
   "outputs": [
    {
     "data": {
      "text/plain": [
       "array([ 0.        , -0.00012991])"
      ]
     },
     "execution_count": 58,
     "metadata": {},
     "output_type": "execute_result"
    }
   ],
   "source": [
    "out_pred_qc_total.min(axis=0)"
   ]
  },
  {
   "cell_type": "code",
   "execution_count": 72,
   "id": "8b5d5304-b6f6-4724-a720-c5816c967a90",
   "metadata": {},
   "outputs": [
    {
     "name": "stderr",
     "output_type": "stream",
     "text": [
      "/glade/scratch/dgagne/ipykernel_8689/1985330140.py:4: RuntimeWarning: divide by zero encountered in log10\n",
      "  plt.hist2d(np.log10(out_pred_qc_total[ix, 0]), np.log10(mp_test_mass_data.loc[ix, \"QC_TAU_out\"]), cmin=1, bins=np.arange(-38, -2, 0.5), norm=LogNorm())\n",
      "/glade/scratch/dgagne/ipykernel_8689/1985330140.py:6: RuntimeWarning: divide by zero encountered in log10\n",
      "  print(np.corrcoef(np.log10(np.maximum(out_pred_qc_total[ix, 0], 1-38)), np.log10(np.maximum(mp_test_mass_data.loc[ix, \"QC_TAU_out\"], 1e-38))) **2)\n",
      "/glade/work/dgagne/miniconda3/envs/mlmicro/lib/python3.8/site-packages/numpy/lib/function_base.py:2474: RuntimeWarning: invalid value encountered in subtract\n",
      "  X -= avg[:, None]\n"
     ]
    },
    {
     "name": "stdout",
     "output_type": "stream",
     "text": [
      "[[nan nan]\n",
      " [nan  1.]]\n"
     ]
    },
    {
     "name": "stderr",
     "output_type": "stream",
     "text": [
      "/glade/scratch/dgagne/ipykernel_8689/1985330140.py:15: RuntimeWarning: invalid value encountered in log10\n",
      "  plt.hist2d(np.log10(out_pred_qc_total[ix, 1]), np.log10(mp_test_mass_data.loc[ix, \"QR_TAU_out\"]), cmin=1, bins=np.arange(-38, -2, 0.5), norm=LogNorm())\n"
     ]
    },
    {
     "name": "stdout",
     "output_type": "stream",
     "text": [
      "[[1.         0.94540765]\n",
      " [0.94540765 1.        ]]\n"
     ]
    },
    {
     "data": {
      "image/png": "[encoded data removed]",
      "text/plain": [
       "<Figure size 864x360 with 4 Axes>"
      ]
     },
     "metadata": {
      "needs_background": "light"
     },
     "output_type": "display_data"
    }
   ],
   "source": [
    "ix = mp_test_mass_data[\"QC_TAU_out\"] > 0\n",
    "plt.figure(figsize=(12, 5))\n",
    "plt.subplot(1, 2, 1)\n",
    "plt.hist2d(np.log10(out_pred_qc_total[ix, 0]), np.log10(mp_test_mass_data.loc[ix, \"QC_TAU_out\"]), cmin=1, bins=np.arange(-38, -2, 0.5), norm=LogNorm())\n",
    "plt.plot(np.arange(-38, -3, 0.2), np.arange(-38, -3, 0.2), 'k--')\n",
    "print(np.corrcoef(np.log10(np.maximum(out_pred_qc_total[ix, 0], 1-38)), np.log10(np.maximum(mp_test_mass_data.loc[ix, \"QC_TAU_out\"], 1e-38))) **2)\n",
    "plt.xlabel(\"Predicted\")\n",
    "plt.ylabel(\"Observed\")\n",
    "plt.title(\"QC\")\n",
    "plt.xlim(-38, -2)\n",
    "plt.ylim(-38, -2)\n",
    "plt.colorbar()\n",
    "plt.subplot(1, 2, 2)\n",
    "ix = mp_test_mass_data[\"QR_TAU_out\"] > 0\n",
    "plt.hist2d(np.log10(out_pred_qc_total[ix, 1]), np.log10(mp_test_mass_data.loc[ix, \"QR_TAU_out\"]), cmin=1, bins=np.arange(-38, -2, 0.5), norm=LogNorm())\n",
    "print(np.corrcoef(np.log10(np.maximum(out_pred_qc_total[ix, 1], 1e-38)), np.log10(mp_test_mass_data.loc[ix, \"QR_TAU_out\"])) **2)\n",
    "\n",
    "\n",
    "plt.plot(np.arange(-38, -3), np.arange(-38, -3), 'k--')\n",
    "plt.xlabel(\"Predicted\")\n",
    "plt.ylabel(\"Observed\")\n",
    "plt.title(\"QR\")\n",
    "plt.xlim(-38, -2)\n",
    "plt.ylim(-38, -2)\n",
    "plt.colorbar()\n",
    "plt.savefig(\"qc_qr_hist.png\", dpi=200, bbox_inches=\"tight\")\n"
   ]
  },
  {
   "cell_type": "code",
   "execution_count": 73,
   "id": "669e6f55-7ce7-43c5-bdb7-8f47eb7959d6",
   "metadata": {},
   "outputs": [],
   "source": [
    "dnn_qc._estimator_type = \"regressor\"\n",
    "dnn_qc.model_ = dnn_qc.model\n",
    "pd_out = {}\n",
    "for input_col in input_cols_q:\n",
    "    pd_out[input_col] = partial_dependence(dnn_qc, pd.DataFrame(in_data_q[::100], columns=input_cols_q), features=input_col, grid_resolution=20, kind=\"average\")"
   ]
  },
  {
   "cell_type": "code",
   "execution_count": 74,
   "id": "cd024ffa-85d4-4315-a4b0-878f24401be6",
   "metadata": {},
   "outputs": [
    {
     "data": {
      "image/png": "[encoded data removed]",
      "text/plain": [
       "<Figure size 720x720 with 6 Axes>"
      ]
     },
     "metadata": {
      "needs_background": "light"
     },
     "output_type": "display_data"
    }
   ],
   "source": [
    "fig, axes = plt.subplots(3, 2, figsize=(10, 10))\n",
    "for i, input_col in enumerate(input_cols_q):\n",
    "    axes.ravel()[i].plot(pd_out[input_col][\"values\"][0] * scale_in_q.scale_[i] + scale_in_q.mean_[i], pd_out[input_col][\"average\"][0])\n",
    "    axes.ravel()[i].set_title(input_col)"
   ]
  },
  {
   "cell_type": "code",
   "execution_count": 151,
   "id": "6dfd6777-b15b-4a52-9283-41439bbe55d0",
   "metadata": {},
   "outputs": [
    {
     "data": {
      "text/plain": [
       "array([-16.35754835, -16.56178859,  -3.3441548 ,  -4.62959271,\n",
       "       -28.62425016, -28.65046919])"
      ]
     },
     "execution_count": 151,
     "metadata": {},
     "output_type": "execute_result"
    }
   ],
   "source": [
    "scale_in_q.mean_"
   ]
  },
  {
   "cell_type": "code",
   "execution_count": null,
   "id": "5e130094-32fb-4ff4-abe6-5681a0fce78d",
   "metadata": {},
   "outputs": [],
   "source": []
  },
  {
   "cell_type": "code",
   "execution_count": 144,
   "id": "456adca4-96e1-4341-88ba-c2f38c6e0df5",
   "metadata": {},
   "outputs": [
    {
     "data": {
      "text/plain": [
       "{'average': array([[-10.182941, -10.152616, -10.116498, -10.074871, -10.02803 ,\n",
       "          -9.976268,  -9.91984 ,  -9.858986,  -9.793897,  -9.724737]],\n",
       "       dtype=float32),\n",
       " 'values': [array([-0.56370548, -0.30001196, -0.03631843,  0.2273751 ,  0.49106862,\n",
       "          0.75476215,  1.01845568,  1.28214921,  1.54584273,  1.80953626])]}"
      ]
     },
     "execution_count": 144,
     "metadata": {},
     "output_type": "execute_result"
    }
   ],
   "source": [
    "pd_out[input_col]"
   ]
  },
  {
   "cell_type": "code",
   "execution_count": null,
   "id": "b69ffce2-c569-492b-9db4-0e3ce26c0877",
   "metadata": {},
   "outputs": [],
   "source": []
  },
  {
   "cell_type": "code",
   "execution_count": 170,
   "id": "c7e665a6-97a3-48b8-b8f5-e232f15463bf",
   "metadata": {},
   "outputs": [
    {
     "name": "stdout",
     "output_type": "stream",
     "text": [
      "Model: \"model_10\"\n",
      "_________________________________________________________________\n",
      "Layer (type)                 Output Shape              Param #   \n",
      "=================================================================\n",
      "input (InputLayer)           [(None, 6)]               0         \n",
      "_________________________________________________________________\n",
      "dense_00 (Dense)             (None, 128)               896       \n",
      "_________________________________________________________________\n",
      "dense_01 (Dense)             (None, 128)               16512     \n",
      "_________________________________________________________________\n",
      "dense_02 (Dense)             (None, 1)                 129       \n",
      "=================================================================\n",
      "Total params: 17,537\n",
      "Trainable params: 17,537\n",
      "Non-trainable params: 0\n",
      "_________________________________________________________________\n",
      "Epoch 1/30\n",
      "20600/20600 [==============================] - 25s 1ms/step - loss: 0.0071\n",
      "Epoch 2/30\n",
      "20600/20600 [==============================] - 25s 1ms/step - loss: 3.3702e-04\n",
      "Epoch 3/30\n",
      "20600/20600 [==============================] - 25s 1ms/step - loss: 2.6335e-04\n",
      "Epoch 4/30\n",
      "20600/20600 [==============================] - 25s 1ms/step - loss: 2.2517e-04\n",
      "Epoch 5/30\n",
      "20600/20600 [==============================] - 25s 1ms/step - loss: 2.0058e-04\n",
      "Epoch 6/30\n",
      "20600/20600 [==============================] - 25s 1ms/step - loss: 1.8399e-04\n",
      "Epoch 7/30\n",
      "20600/20600 [==============================] - 26s 1ms/step - loss: 1.7029e-04\n",
      "Epoch 8/30\n",
      "20600/20600 [==============================] - 27s 1ms/step - loss: 1.6244e-04\n",
      "Epoch 9/30\n",
      "20600/20600 [==============================] - 27s 1ms/step - loss: 1.5365e-04\n",
      "Epoch 10/30\n",
      "20600/20600 [==============================] - 31s 1ms/step - loss: 1.4095e-04\n",
      "Epoch 11/30\n",
      "20600/20600 [==============================] - 28s 1ms/step - loss: 1.3353e-04\n",
      "Epoch 12/30\n",
      "20600/20600 [==============================] - 29s 1ms/step - loss: 1.2396e-04\n",
      "Epoch 13/30\n",
      "20600/20600 [==============================] - 29s 1ms/step - loss: 1.1911e-04\n",
      "Epoch 14/30\n",
      "20600/20600 [==============================] - 26s 1ms/step - loss: 1.1493e-04\n",
      "Epoch 15/30\n",
      "20600/20600 [==============================] - 25s 1ms/step - loss: 1.1175e-04\n",
      "Epoch 16/30\n",
      "20600/20600 [==============================] - 25s 1ms/step - loss: 1.0737e-04\n",
      "Epoch 17/30\n",
      "20600/20600 [==============================] - 25s 1ms/step - loss: 1.0464e-04\n",
      "Epoch 18/30\n",
      "20600/20600 [==============================] - 25s 1ms/step - loss: 1.0281e-04\n",
      "Epoch 19/30\n",
      "20600/20600 [==============================] - 26s 1ms/step - loss: 9.9834e-05\n",
      "Epoch 20/30\n",
      "20600/20600 [==============================] - 25s 1ms/step - loss: 9.9290e-05\n",
      "Epoch 21/30\n",
      "20600/20600 [==============================] - 25s 1ms/step - loss: 9.6741e-05\n",
      "Epoch 22/30\n",
      "20600/20600 [==============================] - 25s 1ms/step - loss: 9.6307e-05\n",
      "Epoch 23/30\n",
      "20600/20600 [==============================] - 25s 1ms/step - loss: 9.4164e-05\n",
      "Epoch 24/30\n",
      "20600/20600 [==============================] - 25s 1ms/step - loss: 9.3607e-05\n",
      "Epoch 25/30\n",
      "20600/20600 [==============================] - 25s 1ms/step - loss: 9.1502e-05\n",
      "Epoch 26/30\n",
      "20600/20600 [==============================] - 26s 1ms/step - loss: 9.0463e-05\n",
      "Epoch 27/30\n",
      "20600/20600 [==============================] - 25s 1ms/step - loss: 9.0307e-05\n",
      "Epoch 28/30\n",
      "20600/20600 [==============================] - 26s 1ms/step - loss: 8.7700e-05\n",
      "Epoch 29/30\n",
      "20600/20600 [==============================] - 26s 1ms/step - loss: 8.8030e-05\n",
      "Epoch 30/30\n",
      "20600/20600 [==============================] - 25s 1ms/step - loss: 8.6420e-05\n"
     ]
    }
   ],
   "source": [
    "dnn_qr = DenseNeuralNetwork(hidden_layers=2, hidden_neurons=128, activation=\"relu\", output_activation=\"sigmoid\", batch_size=256, \n",
    "                         epochs=30, verbose=1, loss=\"huber\", lr=1e-4, l2_weight=0)\n",
    "dnn_qr_hist = dnn_qr.fit(in_data_q, out_data_q.iloc[:, 1])"
   ]
  },
  {
   "cell_type": "code",
   "execution_count": 171,
   "id": "1d979c8e-7f3e-4af6-9785-a7d04b95c6f3",
   "metadata": {},
   "outputs": [],
   "source": [
    "in_test_data_q = scale_in_q.transform(np.log10(np.maximum(mp_test_mass_data[input_cols_q], 1e-38)))\n",
    "out_pred_qr = dnn_qr.model.predict(in_test_data_q, batch_size=8192)[:, 0]\n",
    "out_pred_qr_total = np.zeros((out_pred_qr.shape[0], 2)) \n",
    "out_pred_qr_total[:, 0] = (1 - out_pred_qr) * mp_test_mass_data[[\"QR_TAU_in\", \"QC_TAU_in\"]].sum(axis=1).values\n",
    "out_pred_qr_total[:, 1] = (out_pred_qr) * mp_test_mass_data[[\"QR_TAU_in\", \"QC_TAU_in\"]].sum(axis=1).values"
   ]
  },
  {
   "cell_type": "code",
   "execution_count": 52,
   "id": "48a3721c-ca3a-4231-b981-3c0160f956e3",
   "metadata": {},
   "outputs": [
    {
     "data": {
      "text/plain": [
       "1.51531315e-24"
      ]
     },
     "execution_count": 52,
     "metadata": {},
     "output_type": "execute_result"
    }
   ],
   "source": []
  },
  {
   "cell_type": "code",
   "execution_count": 172,
   "id": "b7762ac2-f0b9-4b9d-8764-35b0cf853997",
   "metadata": {},
   "outputs": [
    {
     "name": "stderr",
     "output_type": "stream",
     "text": [
      "/glade/scratch/dgagne/ipykernel_209350/1586418118.py:4: RuntimeWarning: divide by zero encountered in log10\n",
      "  plt.hist2d(np.log10(out_pred_qr_total[ix, 0]), np.log10(mp_test_mass_data.loc[ix, \"QC_TAU_out\"]), cmin=1, bins=np.arange(-38, -2, 0.5), norm=LogNorm())\n",
      "/glade/scratch/dgagne/ipykernel_209350/1586418118.py:6: RuntimeWarning: divide by zero encountered in log10\n",
      "  print(np.corrcoef(np.log10(out_pred_qr_total[ix, 0]), np.log10(mp_test_mass_data.loc[ix, \"QC_TAU_out\"])) **2)\n",
      "/glade/work/dgagne/miniconda3/envs/mlmicro/lib/python3.8/site-packages/numpy/lib/function_base.py:2474: RuntimeWarning: invalid value encountered in subtract\n",
      "  X -= avg[:, None]\n"
     ]
    },
    {
     "name": "stdout",
     "output_type": "stream",
     "text": [
      "[[nan nan]\n",
      " [nan  1.]]\n",
      "[[1.         0.99207623]\n",
      " [0.99207623 1.        ]]\n"
     ]
    },
    {
     "data": {
      "image/png": "[encoded data removed]",
      "text/plain": [
       "<Figure size 864x360 with 4 Axes>"
      ]
     },
     "metadata": {
      "needs_background": "light"
     },
     "output_type": "display_data"
    }
   ],
   "source": [
    "ix = mp_test_mass_data[\"QC_TAU_out\"] > 0\n",
    "plt.figure(figsize=(12, 5))\n",
    "plt.subplot(1, 2, 1)\n",
    "plt.hist2d(np.log10(out_pred_qr_total[ix, 0]), np.log10(mp_test_mass_data.loc[ix, \"QC_TAU_out\"]), cmin=1, bins=np.arange(-38, -2, 0.5), norm=LogNorm())\n",
    "plt.plot(np.arange(-38, -3, 0.2), np.arange(-38, -3, 0.2), 'k--')\n",
    "print(np.corrcoef(np.log10(out_pred_qr_total[ix, 0]), np.log10(mp_test_mass_data.loc[ix, \"QC_TAU_out\"])) **2)\n",
    "plt.xlabel(\"Predicted\")\n",
    "plt.ylabel(\"Observed\")\n",
    "plt.title(\"QC\")\n",
    "plt.xlim(-38, -2)\n",
    "plt.ylim(-38, -2)\n",
    "plt.colorbar()\n",
    "plt.subplot(1, 2, 2)\n",
    "ix = mp_test_mass_data[\"QR_TAU_out\"] > 0\n",
    "plt.hist2d(np.log10(out_pred_qr_total[ix, 1]), np.log10(mp_test_mass_data.loc[ix, \"QR_TAU_out\"]), cmin=1, bins=np.arange(-38, -2, 0.5), norm=LogNorm())\n",
    "print(np.corrcoef(np.log10(np.maximum(out_pred_qr_total[ix, 1], 1e-38)), np.log10(mp_test_mass_data.loc[ix, \"QR_TAU_out\"])) **2)\n",
    "\n",
    "\n",
    "plt.plot(np.arange(-38, -3), np.arange(-38, -3), 'k--')\n",
    "plt.xlabel(\"Predicted\")\n",
    "plt.ylabel(\"Observed\")\n",
    "plt.title(\"QR\")\n",
    "plt.xlim(-38, -2)\n",
    "plt.ylim(-38, -2)\n",
    "plt.colorbar()\n",
    "plt.savefig(\"qr_qc_hist.png\", dpi=200, bbox_inches=\"tight\")"
   ]
  },
  {
   "cell_type": "code",
   "execution_count": 212,
   "id": "774e5c21-8055-4a3e-b8a8-b5bbf08dae6e",
   "metadata": {},
   "outputs": [
    {
     "data": {
      "text/plain": [
       "0.0020960941910743713"
      ]
     },
     "execution_count": 212,
     "metadata": {},
     "output_type": "execute_result"
    }
   ],
   "source": [
    "out_pred_q_total[ix, 1].max()"
   ]
  },
  {
   "cell_type": "code",
   "execution_count": 140,
   "id": "2e6ef1d6-ef86-4f62-aa20-6380c8064e81",
   "metadata": {},
   "outputs": [
    {
     "name": "stdout",
     "output_type": "stream",
     "text": [
      "Model: \"model_8\"\n",
      "_________________________________________________________________\n",
      "Layer (type)                 Output Shape              Param #   \n",
      "=================================================================\n",
      "input (InputLayer)           [(None, 4)]               0         \n",
      "_________________________________________________________________\n",
      "dense_00 (Dense)             (None, 100)               500       \n",
      "_________________________________________________________________\n",
      "dense_01 (Dense)             (None, 1)                 101       \n",
      "=================================================================\n",
      "Total params: 601\n",
      "Trainable params: 601\n",
      "Non-trainable params: 0\n",
      "_________________________________________________________________\n",
      "Epoch 1/40\n",
      "20600/20600 [==============================] - 10s 472us/step - loss: 2.7958\n",
      "Epoch 2/40\n",
      "20600/20600 [==============================] - 10s 472us/step - loss: 0.1609\n",
      "Epoch 3/40\n",
      "20600/20600 [==============================] - 10s 474us/step - loss: 0.1313\n",
      "Epoch 4/40\n",
      "20600/20600 [==============================] - 10s 472us/step - loss: 0.1148\n",
      "Epoch 5/40\n",
      "20600/20600 [==============================] - 10s 474us/step - loss: 0.1070\n",
      "Epoch 6/40\n",
      "20600/20600 [==============================] - 10s 476us/step - loss: 0.1009\n",
      "Epoch 7/40\n",
      "20600/20600 [==============================] - 10s 474us/step - loss: 0.0962\n",
      "Epoch 8/40\n",
      "20600/20600 [==============================] - 10s 474us/step - loss: 0.0915\n",
      "Epoch 9/40\n",
      "20600/20600 [==============================] - 10s 480us/step - loss: 0.0883\n",
      "Epoch 10/40\n",
      "20600/20600 [==============================] - 10s 477us/step - loss: 0.0862\n",
      "Epoch 11/40\n",
      "20600/20600 [==============================] - 10s 476us/step - loss: 0.0829\n",
      "Epoch 12/40\n",
      "20600/20600 [==============================] - 10s 476us/step - loss: 0.0809\n",
      "Epoch 13/40\n",
      "20600/20600 [==============================] - 10s 474us/step - loss: 0.0792\n",
      "Epoch 14/40\n",
      "20600/20600 [==============================] - 10s 473us/step - loss: 0.0785\n",
      "Epoch 15/40\n",
      "20600/20600 [==============================] - 10s 481us/step - loss: 0.0759\n",
      "Epoch 16/40\n",
      "20600/20600 [==============================] - 10s 472us/step - loss: 0.0755\n",
      "Epoch 17/40\n",
      "20600/20600 [==============================] - 10s 472us/step - loss: 0.0738\n",
      "Epoch 18/40\n",
      "20600/20600 [==============================] - 10s 474us/step - loss: 0.0723\n",
      "Epoch 19/40\n",
      "20600/20600 [==============================] - 10s 473us/step - loss: 0.0710\n",
      "Epoch 20/40\n",
      "20600/20600 [==============================] - 10s 472us/step - loss: 0.0698\n",
      "Epoch 21/40\n",
      "20600/20600 [==============================] - 10s 475us/step - loss: 0.0687\n",
      "Epoch 22/40\n",
      "20600/20600 [==============================] - 10s 475us/step - loss: 0.0678\n",
      "Epoch 23/40\n",
      "20600/20600 [==============================] - 10s 473us/step - loss: 0.0666\n",
      "Epoch 24/40\n",
      "20600/20600 [==============================] - 10s 475us/step - loss: 0.0655\n",
      "Epoch 25/40\n",
      "20600/20600 [==============================] - 10s 472us/step - loss: 0.0646\n",
      "Epoch 26/40\n",
      "20600/20600 [==============================] - 10s 472us/step - loss: 0.0631\n",
      "Epoch 27/40\n",
      "20600/20600 [==============================] - 10s 473us/step - loss: 0.0619\n",
      "Epoch 28/40\n",
      "20600/20600 [==============================] - 10s 472us/step - loss: 0.0609\n",
      "Epoch 29/40\n",
      "20600/20600 [==============================] - 10s 472us/step - loss: 0.0603\n",
      "Epoch 30/40\n",
      "20600/20600 [==============================] - 10s 475us/step - loss: 0.0597\n",
      "Epoch 31/40\n",
      "20600/20600 [==============================] - 10s 475us/step - loss: 0.0586\n",
      "Epoch 32/40\n",
      "20600/20600 [==============================] - 10s 474us/step - loss: 0.0580\n",
      "Epoch 33/40\n",
      "20600/20600 [==============================] - 10s 477us/step - loss: 0.0573\n",
      "Epoch 34/40\n",
      "20600/20600 [==============================] - 10s 475us/step - loss: 0.0563\n",
      "Epoch 35/40\n",
      "20600/20600 [==============================] - 10s 473us/step - loss: 0.0561\n",
      "Epoch 36/40\n",
      "20600/20600 [==============================] - 10s 473us/step - loss: 0.0558\n",
      "Epoch 37/40\n",
      "20600/20600 [==============================] - 10s 473us/step - loss: 0.0551\n",
      "Epoch 38/40\n",
      "20600/20600 [==============================] - 10s 472us/step - loss: 0.0544\n",
      "Epoch 39/40\n",
      "20600/20600 [==============================] - 10s 472us/step - loss: 0.0540\n",
      "Epoch 40/40\n",
      "20600/20600 [==============================] - 10s 477us/step - loss: 0.0534\n"
     ]
    },
    {
     "data": {
      "text/plain": [
       "{'loss': [0.7180818319320679,\n",
       "  0.15104366838932037,\n",
       "  0.126512810587883,\n",
       "  0.11311338096857071,\n",
       "  0.10539574176073074,\n",
       "  0.09973710030317307,\n",
       "  0.09485384821891785,\n",
       "  0.09099218249320984,\n",
       "  0.08779978007078171,\n",
       "  0.0850488543510437,\n",
       "  0.08277875185012817,\n",
       "  0.08081736415624619,\n",
       "  0.07911494374275208,\n",
       "  0.07754027098417282,\n",
       "  0.07607919722795486,\n",
       "  0.07474366575479507,\n",
       "  0.0734889805316925,\n",
       "  0.07214546948671341,\n",
       "  0.07101195305585861,\n",
       "  0.06977994740009308,\n",
       "  0.06871077418327332,\n",
       "  0.06766107678413391,\n",
       "  0.06646815687417984,\n",
       "  0.06529919058084488,\n",
       "  0.06414420157670975,\n",
       "  0.06297782063484192,\n",
       "  0.06193380430340767,\n",
       "  0.060999639332294464,\n",
       "  0.06004547327756882,\n",
       "  0.059301022440195084,\n",
       "  0.05848964676260948,\n",
       "  0.057822179049253464,\n",
       "  0.05715567618608475,\n",
       "  0.05652051046490669,\n",
       "  0.05587080866098404,\n",
       "  0.05543198809027672,\n",
       "  0.054805126041173935,\n",
       "  0.05431303381919861,\n",
       "  0.05380377545952797,\n",
       "  0.05334550887346268]}"
      ]
     },
     "execution_count": 140,
     "metadata": {},
     "output_type": "execute_result"
    }
   ],
   "source": [
    "dnn_nr = DenseNeuralNetwork(hidden_layers=1, hidden_neurons=64, activation=\"tanh\", output_activation=\"linear\", batch_size=256, epochs=40, \n",
    "                            l2_weight=0, verbose=1)\n",
    "dnn_nr.fit(in_data, np.log10(mp_mass_data[\"NR_TAU_out\"]))"
   ]
  },
  {
   "cell_type": "code",
   "execution_count": 141,
   "id": "a81f6aea-6e61-4a21-b769-2be54bc80d10",
   "metadata": {},
   "outputs": [],
   "source": [
    "out_pred_nr_mix = dnn_nr.predict(in_test_data)"
   ]
  },
  {
   "cell_type": "code",
   "execution_count": 142,
   "id": "1ef6dc09-9fc4-446a-a165-b09fca5eefdd",
   "metadata": {},
   "outputs": [
    {
     "data": {
      "text/plain": [
       "Text(0.5, 1.0, 'NR')"
      ]
     },
     "execution_count": 142,
     "metadata": {},
     "output_type": "execute_result"
    },
    {
     "data": {
      "image/png": "[encoded data removed]",
      "text/plain": [
       "<Figure size 432x288 with 1 Axes>"
      ]
     },
     "metadata": {
      "needs_background": "light"
     },
     "output_type": "display_data"
    }
   ],
   "source": [
    "plt.hist2d(out_pred_nr_mix, np.log10(mp_test_mass_data.loc[ix, \"NR_TAU_out\"]), cmin=1, bins=np.arange(-12, 10), norm=LogNorm())\n",
    "plt.plot(np.arange(-15, 7), np.arange(-15, 7), 'k--')\n",
    "plt.xlabel(\"Predicted\")\n",
    "plt.ylabel(\"Observed\")\n",
    "plt.title(\"NR\")"
   ]
  },
  {
   "cell_type": "code",
   "execution_count": 110,
   "id": "65fad6e0-250f-4a85-b400-ed898d90c9aa",
   "metadata": {},
   "outputs": [
    {
     "data": {
      "text/plain": [
       "0         3.587259e-23\n",
       "1         2.818454e-23\n",
       "2         1.609617e-20\n",
       "3         1.870836e-20\n",
       "4         3.559898e-20\n",
       "              ...     \n",
       "411512    9.715268e-07\n",
       "411513    9.715268e-07\n",
       "411514    9.715175e-07\n",
       "411515    9.715134e-07\n",
       "411516    9.715134e-07\n",
       "Name: QR_TAU_out, Length: 264443, dtype: float32"
      ]
     },
     "execution_count": 110,
     "metadata": {},
     "output_type": "execute_result"
    }
   ],
   "source": [
    "ix = mp_test_mass_data[output_col] > 0\n",
    "plt.hist2d(np.log10(out_pred_qr_total[ix]), np.log10(mp_test_mass_data.loc[ix, output_col]), cmin=1, bins=np.arange(-38, -2), norm=LogNorm())\n",
    "plt.plot(np.arange(-38, -3), np.arange(-38, -3), 'k--')"
   ]
  },
  {
   "cell_type": "markdown",
   "id": "d9684569-be05-427e-8b4c-0f4822c1c9f2",
   "metadata": {},
   "source": [
    "# Experiments to run\n",
    "1. Train neural net on qc/total mass vs qr / total mass and see how that affects the resulting error scores for qc and qr.\n",
    "2. Training multi-output model vs. single output models for qc/qr and nc and nr.\n",
    "3. Perform random search on NN architectures and calculate partial dependence plots on NN hyperparameters.\n",
    "4. Update Fortran code to support new neural network models."
   ]
  },
  {
   "cell_type": "code",
   "execution_count": null,
   "id": "f2588466-bd19-4988-ae63-76174917e2c0",
   "metadata": {},
   "outputs": [],
   "source": []
  }
 ],
 "metadata": {
  "kernelspec": {
   "display_name": "Python [conda env:mlmicro]",
   "language": "python",
   "name": "conda-env-mlmicro-py"
  },
  "language_info": {
   "codemirror_mode": {
    "name": "ipython",
    "version": 3
   },
   "file_extension": ".py",
   "mimetype": "text/x-python",
   "name": "python",
   "nbconvert_exporter": "python",
   "pygments_lexer": "ipython3",
   "version": "3.9.16"
  }
 },
 "nbformat": 4,
 "nbformat_minor": 5
}
