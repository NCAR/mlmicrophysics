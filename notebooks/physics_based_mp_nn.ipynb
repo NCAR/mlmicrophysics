{
 "cells": [
  {
   "cell_type": "markdown",
   "id": "afraid-saudi",
   "metadata": {},
   "source": [
    "# Physics-informed microphysics neural network emulator\n",
    "\n",
    "David John Gagne\n",
    "\n",
    "The goal of this approach is to include more physical constraints and make the training easier for the microphysics emulator. \n",
    "\n",
    "The physics-informed neural network setup integrates the following components.\n",
    "\n",
    "1. Predict the updated microphysical terms rather than tendencies. The tendencies have very weird distributions that are hard for one neural network to fit. The original values on the other hand are all greater than 0, so it is easier to ensure that outputs are always greater than 0 this way.\n",
    "$y_{new} = y_{old} + y_{tend} dt$\n",
    "\n",
    "$dt=1800 \\text{ s}$\n",
    "\n",
    "2. Keep all inputs and outputs in log space for training ideally.\n",
    "\n",
    "3. Enforce mass conservation between cloud and rain. \n",
    "$ q_{ro} + q_{co} = q_{rn} + q_{cn}$"
   ]
  },
  {
   "cell_type": "code",
   "execution_count": 62,
   "id": "distinguished-rebate",
   "metadata": {},
   "outputs": [],
   "source": [
    "import pandas as pd\n",
    "import numpy as np\n",
    "import matplotlib.pyplot as plt\n",
    "from matplotlib.colors import LogNorm\n",
    "from glob import glob\n",
    "from os.path import join\n",
    "import xarray as xr\n",
    "import dask.dataframe as dd\n",
    "from tensorflow.keras.layers import Input, Dense, Activation\n",
    "from tensorflow.keras.models import Sequential\n",
    "from sklearn.preprocessing import StandardScaler, MinMaxScaler\n",
    "import tensorflow as tf\n",
    "%matplotlib inline"
   ]
  },
  {
   "cell_type": "code",
   "execution_count": 63,
   "id": "painted-campus",
   "metadata": {},
   "outputs": [],
   "source": [
    "mp_csv_path = \"/glade/p/cisl/aiml/dgagne/cam_mp_files_run5_full_csv/\"\n",
    "mp_csv_files = sorted(glob(join(mp_csv_path, \"*.csv\")))"
   ]
  },
  {
   "cell_type": "code",
   "execution_count": 64,
   "id": "corporate-mechanism",
   "metadata": {},
   "outputs": [],
   "source": [
    "mp_data = pd.concat([pd.read_csv(mp_csv_files[x]) for x in range(0, 400, 20)], ignore_index=True)"
   ]
  },
  {
   "cell_type": "code",
   "execution_count": 4,
   "id": "suspended-raising",
   "metadata": {},
   "outputs": [
    {
     "data": {
      "text/plain": [
       "Index(['Index', 'lat', 'lev', 'lon', 'P0', 'PS', 'depth', 'row', 'col', 'hyam',\n",
       "       'hybm', 'pressure', 'temperature', 'RHO_CLUBB_lev', 'RHO_CLUBB_top',\n",
       "       'RHO_CLUBB_bottom', 'QC_TAU_in', 'NC_TAU_in', 'QR_TAU_in', 'NR_TAU_in',\n",
       "       'lamc', 'lamr', 'lcldm', 'n0r', 'pgam', 'precip_frac', 'qctend_MG2',\n",
       "       'qctend_TAU', 'nctend_MG2', 'nctend_TAU', 'qrtend_MG2', 'qrtend_TAU',\n",
       "       'nrtend_MG2', 'nrtend_TAU', 'time'],\n",
       "      dtype='object')"
      ]
     },
     "execution_count": 4,
     "metadata": {},
     "output_type": "execute_result"
    }
   ],
   "source": [
    "mp_data.columns"
   ]
  },
  {
   "cell_type": "code",
   "execution_count": 65,
   "id": "accomplished-russell",
   "metadata": {},
   "outputs": [],
   "source": [
    "dt = 60 * 30 #minutes\n",
    "for var in [\"QC\", \"QR\", \"NC\", \"NR\"]:\n",
    "    mp_data[var + \"_TAU_out\"] = (mp_data[var + \"_TAU_in\"] +  mp_data[var.lower() + \"tend_TAU\"] * dt)\n",
    "    mp_data[var + \"_MG2_out\"] = (mp_data[var + \"_TAU_in\"] +  mp_data[var.lower() + \"tend_MG2\"] * dt)"
   ]
  },
  {
   "cell_type": "code",
   "execution_count": 66,
   "id": "cross-thunder",
   "metadata": {},
   "outputs": [],
   "source": [
    "mp_data[\"mass_diff_TAU\"] = (mp_data[\"QC_TAU_out\"] + mp_data[\"QR_TAU_out\"]) - (mp_data[\"QC_TAU_in\"] + mp_data[\"QR_TAU_in\"])\n",
    "mp_data[\"mass_diff_MG2\"] = (mp_data[\"QC_MG2_out\"] + mp_data[\"QR_MG2_out\"]) - (mp_data[\"QC_TAU_in\"] + mp_data[\"QR_TAU_in\"])"
   ]
  },
  {
   "cell_type": "code",
   "execution_count": 67,
   "id": "expired-frank",
   "metadata": {},
   "outputs": [],
   "source": [
    "mp_data[\"tend_diff_TAU\"] = (mp_data[\"qctend_TAU\"] + mp_data[\"qrtend_TAU\"])\n",
    "mp_data[\"tend_diff_MG2\"] = (mp_data[\"qctend_MG2\"] + mp_data[\"qrtend_MG2\"])"
   ]
  },
  {
   "cell_type": "code",
   "execution_count": 11,
   "id": "vocal-advice",
   "metadata": {},
   "outputs": [
    {
     "data": {
      "text/plain": [
       "0.5634467095451523"
      ]
     },
     "execution_count": 11,
     "metadata": {},
     "output_type": "execute_result"
    }
   ],
   "source": [
    "np.count_nonzero((mp_data[\"tend_diff_TAU\"] == 0) & (mp_data[\"mass_diff_TAU\"] == 0) & \n",
    "                 np.all(mp_data[[\"QC_TAU_out\", \"QR_TAU_out\", \"NC_TAU_out\", \"NR_TAU_out\"]] >= 0, axis=1)) / mp_data.shape[0]"
   ]
  },
  {
   "cell_type": "code",
   "execution_count": 10,
   "id": "liberal-influence",
   "metadata": {},
   "outputs": [
    {
     "data": {
      "image/png": "[encoded data removed]",
      "text/plain": [
       "<Figure size 432x288 with 1 Axes>"
      ]
     },
     "metadata": {
      "needs_background": "light"
     },
     "output_type": "display_data"
    }
   ],
   "source": [
    "tz = mp_data[\"qctend_TAU\"]== 0\n",
    "tp = mp_data[\"qctend_TAU\"]> 0\n",
    "tn = mp_data[\"qctend_TAU\"] < 0\n",
    "\n",
    "\n",
    "#plt.hist(mp_data[\"QC_TAU_in\"], bins=10. ** np.arange(-40., -1))\n",
    "plt.hist(mp_data[\"QC_TAU_in\"][tz], bins=10. ** np.arange(-40., -1), alpha=0.4, label=\"dqc = 0\")\n",
    "plt.hist(mp_data[\"QC_TAU_in\"][tp], bins=10. ** np.arange(-40., -1), alpha=0.4, label=\"dqc > 0\")\n",
    "plt.hist(mp_data[\"QC_TAU_in\"][tn], bins=10. ** np.arange(-40., -1), alpha=0.4, label=\"dqc < 0\")\n",
    "\n",
    "plt.gca().set_xscale(\"log\")\n",
    "plt.xlabel(\"$q_c$ Input\")\n",
    "plt.ylabel(\"Frequency\")\n",
    "plt.legend()\n",
    "plt.savefig(\"qc_tendency_properties.png\")\n",
    "#plt.gca().set_yscale(\"log\")"
   ]
  },
  {
   "cell_type": "code",
   "execution_count": 68,
   "id": "union-occasions",
   "metadata": {},
   "outputs": [
    {
     "data": {
      "image/png": "[encoded data removed]",
      "text/plain": [
       "<Figure size 432x288 with 1 Axes>"
      ]
     },
     "metadata": {
      "needs_background": "light"
     },
     "output_type": "display_data"
    }
   ],
   "source": [
    "tz = mp_data[\"qrtend_TAU\"]== 0\n",
    "tp = mp_data[\"qrtend_TAU\"]> 0\n",
    "tn = mp_data[\"qrtend_TAU\"] < 0\n",
    "\n",
    "\n",
    "#plt.hist(mp_data[\"QC_TAU_in\"], bins=10. ** np.arange(-40., -1))\n",
    "plt.hist(mp_data[\"QR_TAU_in\"][tz], bins=10. ** np.arange(-40., -1), alpha=0.4, label=\"dqr = 0\")\n",
    "plt.hist(mp_data[\"QR_TAU_in\"][tp], bins=10. ** np.arange(-40., -1), alpha=0.4, label=\"dqr > 0\")\n",
    "plt.hist(mp_data[\"QR_TAU_in\"][tn], bins=10. ** np.arange(-40., -1), alpha=0.4, label=\"dqr < 0\")\n",
    "\n",
    "plt.gca().set_xscale(\"log\")\n",
    "plt.xlabel(\"$q_r$ Input\")\n",
    "plt.ylabel(\"Frequency\")\n",
    "plt.legend()\n",
    "plt.savefig(\"qr_tendency_properties.png\")\n",
    "#plt.gca().set_yscale(\"log\")"
   ]
  },
  {
   "cell_type": "code",
   "execution_count": 69,
   "id": "overhead-domain",
   "metadata": {},
   "outputs": [
    {
     "data": {
      "image/png": "[encoded data removed]",
      "text/plain": [
       "<Figure size 432x288 with 1 Axes>"
      ]
     },
     "metadata": {
      "needs_background": "light"
     },
     "output_type": "display_data"
    }
   ],
   "source": [
    "tz = mp_data[\"qrtend_TAU\"]== 0\n",
    "tp = mp_data[\"qrtend_TAU\"]> 0\n",
    "tn = mp_data[\"qrtend_TAU\"] < 0\n",
    "\n",
    "\n",
    "#plt.hist(mp_data[\"QC_TAU_in\"], bins=10. ** np.arange(-40., -1))\n",
    "plt.hist(mp_data[\"NR_TAU_in\"][tz], bins=10. ** np.arange(-15., 10), alpha=0.4, label=\"dqr = 0\")\n",
    "plt.hist(mp_data[\"NR_TAU_in\"][tp], bins=10. ** np.arange(-15., 10), alpha=0.4, label=\"dqr > 0\")\n",
    "plt.hist(mp_data[\"NR_TAU_in\"][tn], bins=10. ** np.arange(-15., 10), alpha=0.4, label=\"dqr < 0\")\n",
    "\n",
    "plt.gca().set_xscale(\"log\")\n",
    "plt.xlabel(\"$N_r$ Input\")\n",
    "plt.ylabel(\"Frequency\")\n",
    "plt.legend()\n",
    "plt.savefig(\"nr_tendency_properties.png\")"
   ]
  },
  {
   "cell_type": "markdown",
   "id": "separate-shock",
   "metadata": {},
   "source": [
    "Test mass conservation (mass diff should be 0). A significant proportion of grid cells have mass conserved"
   ]
  },
  {
   "cell_type": "code",
   "execution_count": 70,
   "id": "grateful-modeling",
   "metadata": {},
   "outputs": [],
   "source": [
    "ix = (mp_data[\"tend_diff_TAU\"] == 0) & (mp_data[\"mass_diff_TAU\"] == 0) & np.all(mp_data[[\"QC_TAU_out\", \"QR_TAU_out\", \"NC_TAU_out\", \"NR_TAU_out\"]] >= 0, axis=1)\n",
    "mp_mass_data = mp_data.loc[ix]"
   ]
  },
  {
   "cell_type": "code",
   "execution_count": 10,
   "id": "pleasant-blackberry",
   "metadata": {},
   "outputs": [
    {
     "data": {
      "text/plain": [
       "0.5634467095451523"
      ]
     },
     "execution_count": 10,
     "metadata": {},
     "output_type": "execute_result"
    }
   ],
   "source": [
    "mp_mass_data.shape[0] / mp_data.shape[0]"
   ]
  },
  {
   "cell_type": "code",
   "execution_count": 73,
   "id": "c2d9077f-b4cf-4f59-b0c0-aa3fba895792",
   "metadata": {},
   "outputs": [],
   "source": [
    "input_cols = [\"QC_TAU_in\", \"QR_TAU_in\", \"NC_TAU_in\", \"NR_TAU_in\", \"lcldm\", \"precip_frac\"]\n",
    "output_cols = [\"QR_TAU_out\", \"NC_TAU_out\", \"NR_TAU_out\"]\n",
    "scale_in = StandardScaler()\n",
    "in_data = scale_in.fit_transform(np.log10(np.maximum(mp_mass_data[input_cols].values, 1e-38)))\n",
    "out_data_raw = mp_mass_data[output_cols].values\n",
    "out_data_log = np.log10(np.maximum(out_data_raw, 1e-38))"
   ]
  },
  {
   "cell_type": "code",
   "execution_count": 42,
   "id": "12c3e89d-2f63-4834-8747-a2019719e506",
   "metadata": {},
   "outputs": [
    {
     "data": {
      "text/plain": [
       "0.4885590669614941"
      ]
     },
     "execution_count": 42,
     "metadata": {},
     "output_type": "execute_result"
    }
   ],
   "source": [
    "(np.log10(1e-6) - np.log10(0.5e-5)) ** 2"
   ]
  },
  {
   "cell_type": "code",
   "execution_count": 91,
   "id": "3866191a-54e4-4e7e-a4b4-30eb7cc25245",
   "metadata": {},
   "outputs": [],
   "source": [
    "from tensorflow.experimental.numpy import log10 as tflog10\n",
    "def mass_loss(y_true_log, y_pred_log, scale_factor=2):\n",
    "    \n",
    "    y_true = 10 ** y_true_log\n",
    "    y_pred = 10 ** y_pred_log\n",
    "    mse_loss = tf.reduce_mean((y_true_log - y_pred_log) ** 2, axis=0)\n",
    "    mass_in_true_l = tflog10(tf.reduce_sum(y_true[:, 0:2], axis=1))\n",
    "    mass_out_pred_l = tflog10(tf.reduce_sum(y_pred[:, 2:4], axis=1))\n",
    "    mass_in_pred_l = tflog10(tf.reduce_sum(y_pred[:, 0:2], axis=1))\n",
    "\n",
    "    mass_diff_loss = tf.reduce_mean(tf.abs(mass_in_true_l - mass_out_pred_l))\n",
    "    mass_diff_loss += tf.reduce_mean(tf.abs(mass_in_true_l - mass_in_pred_l))\n",
    "    loss = tf.reduce_sum(mse_loss) + scale_factor * mass_diff_loss\n",
    "    loss = tf.reduce_sum(mse_loss)\n",
    "    return loss"
   ]
  },
  {
   "cell_type": "code",
   "execution_count": 74,
   "id": "a4294233-51fa-4a19-879a-fe231c70a9c5",
   "metadata": {},
   "outputs": [],
   "source": [
    "mod = Sequential()\n",
    "mod.add(Dense(64, input_shape=(len(input_cols),)))\n",
    "mod.add(Activation(\"relu\"))\n",
    "mod.add(Dense(len(output_cols)))"
   ]
  },
  {
   "cell_type": "code",
   "execution_count": 75,
   "id": "84d4fd6a-12c0-4369-ba18-f7914f9c2190",
   "metadata": {},
   "outputs": [
    {
     "name": "stdout",
     "output_type": "stream",
     "text": [
      "Epoch 1/30\n",
      "5308/5308 [==============================] - 4s 614us/step - loss: 33.9877\n",
      "Epoch 2/30\n",
      "5308/5308 [==============================] - 3s 612us/step - loss: 1.1305\n",
      "Epoch 3/30\n",
      "5308/5308 [==============================] - 3s 618us/step - loss: 0.3799\n",
      "Epoch 4/30\n",
      "5308/5308 [==============================] - 3s 610us/step - loss: 0.2088\n",
      "Epoch 5/30\n",
      "5308/5308 [==============================] - 3s 610us/step - loss: 0.1545\n",
      "Epoch 6/30\n",
      "5308/5308 [==============================] - 3s 609us/step - loss: 0.1322\n",
      "Epoch 7/30\n",
      "5308/5308 [==============================] - 3s 612us/step - loss: 0.1170\n",
      "Epoch 8/30\n",
      "5308/5308 [==============================] - 3s 618us/step - loss: 0.1087\n",
      "Epoch 9/30\n",
      "5308/5308 [==============================] - 3s 613us/step - loss: 0.1016\n",
      "Epoch 10/30\n",
      "5308/5308 [==============================] - 3s 613us/step - loss: 0.0960\n",
      "Epoch 11/30\n",
      "5308/5308 [==============================] - 3s 611us/step - loss: 0.0902\n",
      "Epoch 12/30\n",
      "5308/5308 [==============================] - 3s 611us/step - loss: 0.0860\n",
      "Epoch 13/30\n",
      "5308/5308 [==============================] - 3s 615us/step - loss: 0.0813\n",
      "Epoch 14/30\n",
      "5308/5308 [==============================] - 3s 607us/step - loss: 0.0775\n",
      "Epoch 15/30\n",
      "5308/5308 [==============================] - 3s 612us/step - loss: 0.0747\n",
      "Epoch 16/30\n",
      "5308/5308 [==============================] - 3s 610us/step - loss: 0.0713\n",
      "Epoch 17/30\n",
      "5308/5308 [==============================] - 3s 611us/step - loss: 0.0689\n",
      "Epoch 18/30\n",
      "5308/5308 [==============================] - 3s 630us/step - loss: 0.0676\n",
      "Epoch 19/30\n",
      "5308/5308 [==============================] - 3s 616us/step - loss: 0.0651\n",
      "Epoch 20/30\n",
      "5308/5308 [==============================] - 3s 617us/step - loss: 0.0626\n",
      "Epoch 21/30\n",
      "5308/5308 [==============================] - 3s 616us/step - loss: 0.0604\n",
      "Epoch 22/30\n",
      "5308/5308 [==============================] - 3s 612us/step - loss: 0.0596\n",
      "Epoch 23/30\n",
      "5308/5308 [==============================] - 3s 626us/step - loss: 0.0581\n",
      "Epoch 24/30\n",
      "5308/5308 [==============================] - 3s 610us/step - loss: 0.0561\n",
      "Epoch 25/30\n",
      "5308/5308 [==============================] - 3s 610us/step - loss: 0.0558\n",
      "Epoch 26/30\n",
      "5308/5308 [==============================] - 3s 620us/step - loss: 0.0544\n",
      "Epoch 27/30\n",
      "5308/5308 [==============================] - 3s 620us/step - loss: 0.0533\n",
      "Epoch 28/30\n",
      "5308/5308 [==============================] - 3s 616us/step - loss: 0.0525\n",
      "Epoch 29/30\n",
      "5308/5308 [==============================] - 3s 611us/step - loss: 0.0510\n",
      "Epoch 30/30\n",
      "5308/5308 [==============================] - 3s 609us/step - loss: 0.0505\n"
     ]
    },
    {
     "data": {
      "text/plain": [
       "<tensorflow.python.keras.callbacks.History at 0x2ade2991c280>"
      ]
     },
     "execution_count": 75,
     "metadata": {},
     "output_type": "execute_result"
    }
   ],
   "source": [
    "mod.compile(loss=\"mse\", optimizer=tf.keras.optimizers.Adam(learning_rate=1e-4))\n",
    "mod.fit(in_data, out_data_log, epochs=30, batch_size=1024, verbose=1)"
   ]
  },
  {
   "cell_type": "code",
   "execution_count": 64,
   "id": "minus-madrid",
   "metadata": {},
   "outputs": [
    {
     "name": "stdout",
     "output_type": "stream",
     "text": [
      "Epoch 0\n"
     ]
    },
    {
     "ename": "KeyboardInterrupt",
     "evalue": "",
     "output_type": "error",
     "traceback": [
      "\u001b[0;31m---------------------------------------------------------------------------\u001b[0m",
      "\u001b[0;31mKeyboardInterrupt\u001b[0m                         Traceback (most recent call last)",
      "\u001b[0;32m<ipython-input-64-60a323fbe76e>\u001b[0m in \u001b[0;36m<module>\u001b[0;34m\u001b[0m\n\u001b[1;32m      5\u001b[0m     \u001b[0mtrain_dataset\u001b[0m \u001b[0;34m=\u001b[0m \u001b[0mtrain_dataset\u001b[0m\u001b[0;34m.\u001b[0m\u001b[0mshuffle\u001b[0m\u001b[0;34m(\u001b[0m\u001b[0mbuffer_size\u001b[0m\u001b[0;34m=\u001b[0m\u001b[0;36m4096\u001b[0m\u001b[0;34m)\u001b[0m\u001b[0;34m.\u001b[0m\u001b[0mbatch\u001b[0m\u001b[0;34m(\u001b[0m\u001b[0;36m4096\u001b[0m\u001b[0;34m)\u001b[0m\u001b[0;34m\u001b[0m\u001b[0;34m\u001b[0m\u001b[0m\n\u001b[1;32m      6\u001b[0m     \u001b[0mprint\u001b[0m\u001b[0;34m(\u001b[0m\u001b[0;34m\"Epoch\"\u001b[0m\u001b[0;34m,\u001b[0m \u001b[0mepoch\u001b[0m\u001b[0;34m)\u001b[0m\u001b[0;34m\u001b[0m\u001b[0;34m\u001b[0m\u001b[0m\n\u001b[0;32m----> 7\u001b[0;31m     \u001b[0;32mfor\u001b[0m \u001b[0mstep\u001b[0m\u001b[0;34m,\u001b[0m \u001b[0;34m(\u001b[0m\u001b[0mx_batch_train\u001b[0m\u001b[0;34m,\u001b[0m \u001b[0my_batch_train\u001b[0m\u001b[0;34m)\u001b[0m \u001b[0;32min\u001b[0m \u001b[0menumerate\u001b[0m\u001b[0;34m(\u001b[0m\u001b[0mtrain_dataset\u001b[0m\u001b[0;34m)\u001b[0m\u001b[0;34m:\u001b[0m\u001b[0;34m\u001b[0m\u001b[0;34m\u001b[0m\u001b[0m\n\u001b[0m\u001b[1;32m      8\u001b[0m         \u001b[0;32mwith\u001b[0m \u001b[0mtf\u001b[0m\u001b[0;34m.\u001b[0m\u001b[0mGradientTape\u001b[0m\u001b[0;34m(\u001b[0m\u001b[0;34m)\u001b[0m \u001b[0;32mas\u001b[0m \u001b[0mtape\u001b[0m\u001b[0;34m:\u001b[0m\u001b[0;34m\u001b[0m\u001b[0;34m\u001b[0m\u001b[0m\n\u001b[1;32m      9\u001b[0m             \u001b[0mouts\u001b[0m \u001b[0;34m=\u001b[0m \u001b[0mmod\u001b[0m\u001b[0;34m(\u001b[0m\u001b[0mx_batch_train\u001b[0m\u001b[0;34m)\u001b[0m\u001b[0;34m\u001b[0m\u001b[0;34m\u001b[0m\u001b[0m\n",
      "\u001b[0;32m~/miniconda3/envs/marbleri/lib/python3.8/site-packages/tensorflow/python/data/ops/iterator_ops.py\u001b[0m in \u001b[0;36m__next__\u001b[0;34m(self)\u001b[0m\n\u001b[1;32m    745\u001b[0m   \u001b[0;32mdef\u001b[0m \u001b[0m__next__\u001b[0m\u001b[0;34m(\u001b[0m\u001b[0mself\u001b[0m\u001b[0;34m)\u001b[0m\u001b[0;34m:\u001b[0m\u001b[0;34m\u001b[0m\u001b[0;34m\u001b[0m\u001b[0m\n\u001b[1;32m    746\u001b[0m     \u001b[0;32mtry\u001b[0m\u001b[0;34m:\u001b[0m\u001b[0;34m\u001b[0m\u001b[0;34m\u001b[0m\u001b[0m\n\u001b[0;32m--> 747\u001b[0;31m       \u001b[0;32mreturn\u001b[0m \u001b[0mself\u001b[0m\u001b[0;34m.\u001b[0m\u001b[0m_next_internal\u001b[0m\u001b[0;34m(\u001b[0m\u001b[0;34m)\u001b[0m\u001b[0;34m\u001b[0m\u001b[0;34m\u001b[0m\u001b[0m\n\u001b[0m\u001b[1;32m    748\u001b[0m     \u001b[0;32mexcept\u001b[0m \u001b[0merrors\u001b[0m\u001b[0;34m.\u001b[0m\u001b[0mOutOfRangeError\u001b[0m\u001b[0;34m:\u001b[0m\u001b[0;34m\u001b[0m\u001b[0;34m\u001b[0m\u001b[0m\n\u001b[1;32m    749\u001b[0m       \u001b[0;32mraise\u001b[0m \u001b[0mStopIteration\u001b[0m\u001b[0;34m\u001b[0m\u001b[0;34m\u001b[0m\u001b[0m\n",
      "\u001b[0;32m~/miniconda3/envs/marbleri/lib/python3.8/site-packages/tensorflow/python/data/ops/iterator_ops.py\u001b[0m in \u001b[0;36m_next_internal\u001b[0;34m(self)\u001b[0m\n\u001b[1;32m    728\u001b[0m     \u001b[0;31m# to communicate that there is no more data to iterate over.\u001b[0m\u001b[0;34m\u001b[0m\u001b[0;34m\u001b[0m\u001b[0;34m\u001b[0m\u001b[0m\n\u001b[1;32m    729\u001b[0m     \u001b[0;32mwith\u001b[0m \u001b[0mcontext\u001b[0m\u001b[0;34m.\u001b[0m\u001b[0mexecution_mode\u001b[0m\u001b[0;34m(\u001b[0m\u001b[0mcontext\u001b[0m\u001b[0;34m.\u001b[0m\u001b[0mSYNC\u001b[0m\u001b[0;34m)\u001b[0m\u001b[0;34m:\u001b[0m\u001b[0;34m\u001b[0m\u001b[0;34m\u001b[0m\u001b[0m\n\u001b[0;32m--> 730\u001b[0;31m       ret = gen_dataset_ops.iterator_get_next(\n\u001b[0m\u001b[1;32m    731\u001b[0m           \u001b[0mself\u001b[0m\u001b[0;34m.\u001b[0m\u001b[0m_iterator_resource\u001b[0m\u001b[0;34m,\u001b[0m\u001b[0;34m\u001b[0m\u001b[0;34m\u001b[0m\u001b[0m\n\u001b[1;32m    732\u001b[0m           \u001b[0moutput_types\u001b[0m\u001b[0;34m=\u001b[0m\u001b[0mself\u001b[0m\u001b[0;34m.\u001b[0m\u001b[0m_flat_output_types\u001b[0m\u001b[0;34m,\u001b[0m\u001b[0;34m\u001b[0m\u001b[0;34m\u001b[0m\u001b[0m\n",
      "\u001b[0;32m~/miniconda3/envs/marbleri/lib/python3.8/site-packages/tensorflow/python/ops/gen_dataset_ops.py\u001b[0m in \u001b[0;36miterator_get_next\u001b[0;34m(iterator, output_types, output_shapes, name)\u001b[0m\n\u001b[1;32m   2572\u001b[0m   \u001b[0;32mif\u001b[0m \u001b[0mtld\u001b[0m\u001b[0;34m.\u001b[0m\u001b[0mis_eager\u001b[0m\u001b[0;34m:\u001b[0m\u001b[0;34m\u001b[0m\u001b[0;34m\u001b[0m\u001b[0m\n\u001b[1;32m   2573\u001b[0m     \u001b[0;32mtry\u001b[0m\u001b[0;34m:\u001b[0m\u001b[0;34m\u001b[0m\u001b[0;34m\u001b[0m\u001b[0m\n\u001b[0;32m-> 2574\u001b[0;31m       _result = pywrap_tfe.TFE_Py_FastPathExecute(\n\u001b[0m\u001b[1;32m   2575\u001b[0m         \u001b[0m_ctx\u001b[0m\u001b[0;34m,\u001b[0m \u001b[0;34m\"IteratorGetNext\"\u001b[0m\u001b[0;34m,\u001b[0m \u001b[0mname\u001b[0m\u001b[0;34m,\u001b[0m \u001b[0miterator\u001b[0m\u001b[0;34m,\u001b[0m \u001b[0;34m\"output_types\"\u001b[0m\u001b[0;34m,\u001b[0m \u001b[0moutput_types\u001b[0m\u001b[0;34m,\u001b[0m\u001b[0;34m\u001b[0m\u001b[0;34m\u001b[0m\u001b[0m\n\u001b[1;32m   2576\u001b[0m         \"output_shapes\", output_shapes)\n",
      "\u001b[0;31mKeyboardInterrupt\u001b[0m: "
     ]
    }
   ],
   "source": [
    "# Slow manual training loop. Only use for debugging\n",
    "\n",
    "optimizer = tf.keras.optimizers.Adam(learning_rate=1e-4)\n",
    "train_dataset = tf.data.Dataset.from_tensor_slices((in_data.astype(\"float32\"), \n",
    "                                                    out_data_log.astype(\"float32\")))\n",
    "for epoch in range(30):\n",
    "    train_dataset = train_dataset.shuffle(buffer_size=4096).batch(4096)\n",
    "    print(\"Epoch\", epoch)\n",
    "    for step, (x_batch_train, y_batch_train) in enumerate(train_dataset):\n",
    "        with tf.GradientTape() as tape:\n",
    "            outs = mod(x_batch_train)\n",
    "            loss_val = mass_loss(y_batch_train, outs)\n",
    "        grads = tape.gradient(loss_val, mod.trainable_weights)\n",
    "        optimizer.apply_gradients(zip(grads, mod.trainable_weights))\n",
    "    print(loss_val)\n"
   ]
  },
  {
   "cell_type": "code",
   "execution_count": 76,
   "id": "tender-myanmar",
   "metadata": {},
   "outputs": [],
   "source": [
    "mp_test_data = pd.read_csv(mp_csv_files[600])\n",
    "dt = 60 * 30 #minutes\n",
    "for var in [\"QC\", \"QR\", \"NC\", \"NR\"]:\n",
    "    mp_test_data[var + \"_TAU_out\"] = (mp_test_data[var + \"_TAU_in\"] +  mp_test_data[var.lower() + \"tend_TAU\"] * dt)\n",
    "    mp_test_data[var + \"_MG2_out\"] = (mp_test_data[var + \"_TAU_in\"] +  mp_test_data[var.lower() + \"tend_MG2\"] * dt)\n",
    "mp_test_data[\"tend_diff_TAU\"] = (mp_test_data[\"qctend_TAU\"] + mp_test_data[\"qrtend_TAU\"])\n",
    "mp_test_data[\"mass_diff_TAU\"] = (mp_test_data[\"QC_TAU_out\"] + mp_test_data[\"QR_TAU_out\"]) - (mp_test_data[\"QC_TAU_in\"] + mp_test_data[\"QR_TAU_in\"])\n",
    "\n",
    "ixt = (mp_test_data[\"tend_diff_TAU\"] == 0) & (mp_test_data[\"mass_diff_TAU\"] == 0) & \\\n",
    "    np.all(mp_test_data[[\"QC_TAU_out\", \"QR_TAU_out\", \"NC_TAU_out\", \"NR_TAU_out\"]] >= 0, axis=1)\n",
    "mp_test_mass_data = mp_test_data.loc[ixt]\n",
    "\n",
    "in_test_data = scale_in.transform(np.log10(np.maximum(mp_test_mass_data[input_cols].values, 1e-38)))\n",
    "out_test_data = np.log10(np.maximum(mp_test_mass_data[output_cols].values, 1e-38))"
   ]
  },
  {
   "cell_type": "code",
   "execution_count": 77,
   "id": "closing-george",
   "metadata": {},
   "outputs": [],
   "source": [
    "\n",
    "mod_preds = mod.predict(in_test_data, batch_size=1024)"
   ]
  },
  {
   "cell_type": "code",
   "execution_count": 82,
   "id": "15cc86e1-c627-4831-8917-a035f44300ed",
   "metadata": {},
   "outputs": [
    {
     "name": "stdout",
     "output_type": "stream",
     "text": [
      "QR_TAU_out 0.9961725387360374\n",
      "NC_TAU_out 0.9998764916888067\n",
      "NR_TAU_out 0.9971265279935481\n"
     ]
    }
   ],
   "source": [
    "from sklearn.metrics import r2_score\n",
    "for i in range(3):\n",
    "    print(output_cols[i], r2_score(out_test_data[:, i], mod_preds[:, i]))"
   ]
  },
  {
   "cell_type": "code",
   "execution_count": 39,
   "id": "5f9fe4f2-6dfa-43f8-a003-ee7e0ef5082b",
   "metadata": {},
   "outputs": [
    {
     "data": {
      "text/plain": [
       "-38.158497"
      ]
     },
     "execution_count": 39,
     "metadata": {},
     "output_type": "execute_result"
    }
   ],
   "source": [
    "mod_preds[:, 0].min()"
   ]
  },
  {
   "cell_type": "code",
   "execution_count": 42,
   "id": "e4cffb96-a1e5-4a62-a56b-781a4ea60064",
   "metadata": {},
   "outputs": [
    {
     "data": {
      "text/plain": [
       "0.0006223325764726"
      ]
     },
     "execution_count": 42,
     "metadata": {},
     "output_type": "execute_result"
    }
   ],
   "source": [
    "mp_test_mass_data[[\"QC_TAU_in\", \"QR_TAU_in\"]].sum(axis=1).max()"
   ]
  },
  {
   "cell_type": "code",
   "execution_count": 86,
   "id": "manual-minimum",
   "metadata": {},
   "outputs": [
    {
     "data": {
      "image/png": "[encoded data removed]",
      "text/plain": [
       "<Figure size 720x720 with 8 Axes>"
      ]
     },
     "metadata": {
      "needs_background": "light"
     },
     "output_type": "display_data"
    }
   ],
   "source": [
    "plt.figure(figsize=(10, 10))\n",
    "for i in range(3):\n",
    "    plt.subplot(2, 2, i + 2)\n",
    "    plt.hist2d(mod_preds[:, i], out_test_data[:,i], cmin=1, norm=LogNorm(), bins=30)\n",
    "    plt.xlabel(\"Emulated\")\n",
    "    plt.ylabel(\"Actual\")\n",
    "    plt.title(\"log \" + output_cols[i].split(\"_\")[0])\n",
    "    diag = np.arange(out_test_data[:, i].min(), out_test_data[:, i].max(), 1)\n",
    "    plt.plot(diag, diag, 'k--', lw=1)\n",
    "    plt.colorbar()\n",
    "plt.subplot(2, 2, 1)\n",
    "qc_out = np.log10(np.maximum(mp_test_mass_data[[\"QC_TAU_in\", \"QR_TAU_in\"]].sum(axis=1) - 10 ** mod_preds[:, 0], 1e-38))\n",
    "_ = plt.hist2d(qc_out, np.log10(np.maximum(mp_test_mass_data[\"QC_TAU_out\"], 1e-38)), cmin=1, norm=LogNorm(), bins=30)\n",
    "plt.xlabel(\"Emulated\")\n",
    "plt.ylabel(\"Actual\")\n",
    "diag = np.arange(-38, -3, 1)\n",
    "plt.plot(diag, diag, 'k--', lw=1)\n",
    "plt.colorbar()\n",
    "plt.title(\"log QC\")\n",
    "plt.savefig(\"mass_hist_out.png\", dpi=200, bbox_inches=\"tight\")"
   ]
  },
  {
   "cell_type": "code",
   "execution_count": 46,
   "id": "5213ca2d-467a-4255-95f2-8e9de574caa0",
   "metadata": {},
   "outputs": [],
   "source": [
    "qmass_in = np.log10(np.maximum(mp_test_mass_data[[\"QC_TAU_in\", \"QR_TAU_in\"]].sum(axis=1), 1e-38))"
   ]
  },
  {
   "cell_type": "code",
   "execution_count": 85,
   "id": "60ce568a-e7a6-4248-a748-4134ce608d3c",
   "metadata": {},
   "outputs": [
    {
     "data": {
      "text/plain": [
       "(array([2.5200e+02, 3.1000e+01, 3.5000e+01, 5.1000e+01, 6.5000e+01,\n",
       "        6.1000e+01, 7.7000e+01, 1.1500e+02, 1.2700e+02, 1.8100e+02,\n",
       "        2.8600e+02, 4.1900e+02, 9.0400e+02, 1.2470e+03, 6.4400e+02,\n",
       "        8.0000e+02, 1.0270e+03, 1.3441e+04, 1.5858e+04, 1.6750e+04,\n",
       "        1.7771e+04, 1.9332e+04, 2.0478e+04, 2.3406e+04, 2.7231e+04,\n",
       "        3.1745e+04, 2.7063e+04, 2.9885e+04, 2.5208e+04, 5.0600e+02]),\n",
       " array([-38.        , -36.84019937, -35.68039874, -34.52059811,\n",
       "        -33.36079749, -32.20099686, -31.04119623, -29.8813956 ,\n",
       "        -28.72159497, -27.56179434, -26.40199372, -25.24219309,\n",
       "        -24.08239246, -22.92259183, -21.7627912 , -20.60299057,\n",
       "        -19.44318995, -18.28338932, -17.12358869, -15.96378806,\n",
       "        -14.80398743, -13.6441868 , -12.48438617, -11.32458555,\n",
       "        -10.16478492,  -9.00498429,  -7.84518366,  -6.68538303,\n",
       "         -5.5255824 ,  -4.36578178,  -3.20598115]),\n",
       " <BarContainer object of 30 artists>)"
      ]
     },
     "execution_count": 85,
     "metadata": {},
     "output_type": "execute_result"
    },
    {
     "data": {
      "image/png": "[encoded data removed]",
      "text/plain": [
       "<Figure size 432x288 with 1 Axes>"
      ]
     },
     "metadata": {
      "needs_background": "light"
     },
     "output_type": "display_data"
    }
   ],
   "source": [
    "plt.hist(np.log10(np.maximum(mp_test_mass_data[\"QR_TAU_in\"], 1e-38,)), bins=30)"
   ]
  },
  {
   "cell_type": "code",
   "execution_count": 28,
   "id": "constitutional-stable",
   "metadata": {},
   "outputs": [],
   "source": [
    "ds = xr.open_dataset(\"/glade/p/cisl/aiml/dgagne/TAU_run5_full/TAU_run5.cam.h1.0002-06-16-21600.nc\")"
   ]
  },
  {
   "cell_type": "code",
   "execution_count": 29,
   "id": "2a5d98d2-499a-41d2-9879-27a9b156168b",
   "metadata": {},
   "outputs": [],
   "source": [
    "ds[\"QT_TAU_in\"] = ds[\"QR_TAU_in\"] + ds[\"QC_TAU_in\"]"
   ]
  },
  {
   "cell_type": "code",
   "execution_count": 107,
   "id": "af85a6ce-87e0-4c6b-8b45-a86312a77a2e",
   "metadata": {},
   "outputs": [],
   "source": [
    "dt = 1\n",
    "ds[\"QR_TAU_out\"] = ds[\"QR_TAU_in\"] + dt * ds[\"qrtend_TAU\"]\n",
    "ds[\"QC_TAU_out\"] = ds[\"QC_TAU_in\"] + dt * ds[\"qctend_TAU\"]\n",
    "ds[\"NR_TAU_out\"] = ds[\"NR_TAU_in\"] + dt * ds[\"nrtend_TAU\"]\n",
    "ds[\"NC_TAU_out\"] = ds[\"NC_TAU_in\"] + dt * ds[\"nctend_TAU\"]"
   ]
  },
  {
   "cell_type": "code",
   "execution_count": 31,
   "id": "14492505-efef-4037-aa25-2c8561ff4b15",
   "metadata": {},
   "outputs": [],
   "source": [
    "ds[\"QT_TAU_out\"] = ds[\"QR_TAU_out\"] + ds[\"QC_TAU_out\"]"
   ]
  },
  {
   "cell_type": "code",
   "execution_count": 32,
   "id": "95d65fa5-5868-4219-897a-92acaa8bdc03",
   "metadata": {},
   "outputs": [],
   "source": [
    "ds[\"mass_diff\"] = ds[\"QT_TAU_in\"] - ds[\"QT_TAU_out\"]"
   ]
  },
  {
   "cell_type": "code",
   "execution_count": 33,
   "id": "664c4b99-bc8b-49ba-8db0-c729df10ea5a",
   "metadata": {},
   "outputs": [],
   "source": [
    "mass_diff_vals = ds[\"mass_diff\"].values.ravel()"
   ]
  },
  {
   "cell_type": "code",
   "execution_count": 108,
   "id": "b6817d98-3868-492e-8d06-1cc2d7f8b22d",
   "metadata": {},
   "outputs": [
    {
     "data": {
      "text/plain": [
       "0.9685929659188537"
      ]
     },
     "execution_count": 108,
     "metadata": {},
     "output_type": "execute_result"
    }
   ],
   "source": [
    "np.count_nonzero(np.logical_and(ds[\"QC_TAU_in\"] > 0, ds[\"QC_TAU_out\"] >= 0)) / np.count_nonzero(ds[\"QC_TAU_in\"] > 0)"
   ]
  },
  {
   "cell_type": "code",
   "execution_count": null,
   "id": "60597f01-0e0f-461b-acd8-92218f9c911a",
   "metadata": {},
   "outputs": [],
   "source": []
  },
  {
   "cell_type": "code",
   "execution_count": 35,
   "id": "a0923c64-d638-47c1-bd39-8dd072bffbe8",
   "metadata": {},
   "outputs": [
    {
     "data": {
      "text/plain": [
       "0.9771775422272859"
      ]
     },
     "execution_count": 35,
     "metadata": {},
     "output_type": "execute_result"
    }
   ],
   "source": [
    "np.count_nonzero(mass_diff_vals == 0) / mass_diff_vals.size"
   ]
  },
  {
   "cell_type": "code",
   "execution_count": 36,
   "id": "9a25e503-ffeb-4c36-9d94-79da0287c9f2",
   "metadata": {},
   "outputs": [
    {
     "data": {
      "text/plain": [
       "0.9322071405104649"
      ]
     },
     "execution_count": 36,
     "metadata": {},
     "output_type": "execute_result"
    }
   ],
   "source": [
    "np.count_nonzero(ds[\"qrtend_TAU\"] + ds[\"qctend_TAU\"] == 0) / mass_diff_vals.size"
   ]
  },
  {
   "cell_type": "code",
   "execution_count": 42,
   "id": "473fd5b2-e8e6-4bef-82f3-7ec0bc9bff81",
   "metadata": {},
   "outputs": [
    {
     "data": {
      "text/plain": [
       "1e-12"
      ]
     },
     "execution_count": 42,
     "metadata": {},
     "output_type": "execute_result"
    }
   ],
   "source": [
    "qr = ds[\"NR_TAU_in\"].values\n",
    "qr[qr > 0].min()"
   ]
  },
  {
   "cell_type": "code",
   "execution_count": 61,
   "id": "4bebd46c-b686-4330-99f2-2b3089fde83b",
   "metadata": {},
   "outputs": [
    {
     "data": {
      "text/plain": [
       "0.0007707572277681328"
      ]
     },
     "execution_count": 61,
     "metadata": {},
     "output_type": "execute_result"
    }
   ],
   "source": [
    "np.count_nonzero(np.logical_and((ds[\"QC_TAU_in\"] > 0), (ds[\"QR_TAU_in\"] == 0))) / ds[\"QC_TAU_in\"].size"
   ]
  },
  {
   "cell_type": "code",
   "execution_count": 37,
   "id": "14e9ae4a-17bb-41d6-9c16-48ffb4ce182b",
   "metadata": {},
   "outputs": [
    {
     "data": {
      "image/png": "[encoded data removed]",
      "text/plain": [
       "<Figure size 432x288 with 1 Axes>"
      ]
     },
     "metadata": {
      "needs_background": "light"
     },
     "output_type": "display_data"
    }
   ],
   "source": [
    "plt.hist(np.abs(mass_diff_vals), bins=30)\n",
    "plt.gca().set_yscale(\"log\")"
   ]
  },
  {
   "cell_type": "code",
   "execution_count": 38,
   "id": "3c998f77-20ea-42d2-989a-7e51e283b772",
   "metadata": {},
   "outputs": [
    {
     "data": {
      "text/plain": [
       "<matplotlib.colorbar.Colorbar at 0x2ade7b2ce760>"
      ]
     },
     "execution_count": 38,
     "metadata": {},
     "output_type": "execute_result"
    },
    {
     "data": {
      "image/png": "[encoded data removed]",
      "text/plain": [
       "<Figure size 432x288 with 2 Axes>"
      ]
     },
     "metadata": {
      "needs_background": "light"
     },
     "output_type": "display_data"
    }
   ],
   "source": [
    "plt.hist2d(ds[\"QT_TAU_in\"].values.ravel(), ds[\"QT_TAU_out\"].values.ravel(), bins=100, cmin=1, norm=LogNorm())\n",
    "plt.colorbar()"
   ]
  },
  {
   "cell_type": "code",
   "execution_count": 91,
   "id": "c3535b44-447d-43c1-a383-60e5287191f0",
   "metadata": {},
   "outputs": [],
   "source": [
    "qr_orig = np.log10(np.maximum(ds[\"QR_TAU_in\"].values.ravel(), 1e-38))"
   ]
  },
  {
   "cell_type": "code",
   "execution_count": 92,
   "id": "7611bbe8-dc08-4c54-8ab0-b908e7a93256",
   "metadata": {},
   "outputs": [
    {
     "data": {
      "text/plain": [
       "(array([ 755932.,  789581.,  465151.,  414486.,  182812.,  260760.,\n",
       "         485545.,  579836., 1532863., 1142724.,  368730.,  485590.,\n",
       "         786688., 1413532., 3168386.,  543705.,  615184.,  755780.,\n",
       "         740132.,  453738.,  445334.,  474292.,  522459.,  578050.,\n",
       "         644857.,  772637.,  935316., 1142088., 1455270., 1652457.,\n",
       "        1796926., 2289931.]),\n",
       " array([-37, -36, -35, -34, -33, -32, -31, -30, -29, -28, -27, -26, -25,\n",
       "        -24, -23, -22, -21, -20, -19, -18, -17, -16, -15, -14, -13, -12,\n",
       "        -11, -10,  -9,  -8,  -7,  -6,  -5]),\n",
       " <BarContainer object of 32 artists>)"
      ]
     },
     "execution_count": 92,
     "metadata": {},
     "output_type": "execute_result"
    },
    {
     "data": {
      "image/png": "[encoded data removed]",
      "text/plain": [
       "<Figure size 432x288 with 1 Axes>"
      ]
     },
     "metadata": {
      "needs_background": "light"
     },
     "output_type": "display_data"
    }
   ],
   "source": [
    "plt.hist(qr_orig, bins=np.arange(-37, -4, 1))"
   ]
  },
  {
   "cell_type": "code",
   "execution_count": null,
   "id": "c42dab82-7665-4d9e-8161-6470b51a0eae",
   "metadata": {},
   "outputs": [],
   "source": []
  }
 ],
 "metadata": {
  "kernelspec": {
   "display_name": "Python [conda env:miniconda3-marbleri]",
   "language": "python",
   "name": "conda-env-miniconda3-marbleri-py"
  },
  "language_info": {
   "codemirror_mode": {
    "name": "ipython",
    "version": 3
   },
   "file_extension": ".py",
   "mimetype": "text/x-python",
   "name": "python",
   "nbconvert_exporter": "python",
   "pygments_lexer": "ipython3",
   "version": "3.8.6"
  }
 },
 "nbformat": 4,
 "nbformat_minor": 5
}
